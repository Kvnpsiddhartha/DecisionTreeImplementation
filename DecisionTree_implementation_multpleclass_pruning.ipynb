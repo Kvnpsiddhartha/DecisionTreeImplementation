{
  "nbformat": 4,
  "nbformat_minor": 0,
  "metadata": {
    "colab": {
      "provenance": []
    },
    "kernelspec": {
      "name": "python3",
      "display_name": "Python 3"
    },
    "language_info": {
      "name": "python"
    }
  },
  "cells": [
    {
      "cell_type": "markdown",
      "source": [
        "#Imports"
      ],
      "metadata": {
        "id": "UZFcNA0wd3OM"
      }
    },
    {
      "cell_type": "code",
      "execution_count": 25,
      "metadata": {
        "id": "ap19xBrlw_Wt"
      },
      "outputs": [],
      "source": [
        "import numpy as np\n",
        "import pandas as pd\n",
        "import matplotlib.pyplot as mtp\n",
        "from math import*\n",
        "import copy\n",
        "from graphviz import Digraph\n",
        "import random"
      ]
    },
    {
      "cell_type": "markdown",
      "source": [
        "#Available Datasets\n",
        "\n",
        "\n",
        "---\n",
        "\n",
        "\n",
        "1.   Tennis\n",
        "2.   [Cars](https://archive.ics.uci.edu/ml/datasets/car+evaluation)\n",
        "3.   [Lenses](https://archive.ics.uci.edu/ml/datasets/lenses)\n",
        "4.   [Chess](https://archive.ics.uci.edu/ml/datasets/Chess+%28King-Rook+vs.+King-Pawn%29)\n",
        "5.   [Baloons](https://archive.ics.uci.edu/ml/datasets/Balloons)\n",
        "6.   [Lymphography](https://archive.ics.uci.edu/ml/datasets/Lymphography)\n",
        "7.   [Heart](https://archive.ics.uci.edu/ml/datasets/SPECT+Heart)\n",
        "\n",
        "\n"
      ],
      "metadata": {
        "id": "LVzj2-Jrhopx"
      }
    },
    {
      "cell_type": "code",
      "source": [
        "datasets={'tennis':['https://raw.githubusercontent.com/Kvnpsiddhartha/DecisionTreeImplementation/main/data.csv','PlayTennis'],'cars':['https://raw.githubusercontent.com/Kvnpsiddhartha/DecisionTreeImplementation/main/car.csv','class'],'lenses':['https://raw.githubusercontent.com/Kvnpsiddhartha/DecisionTreeImplementation/main/lenses.csv','Class'],'chess':['https://raw.githubusercontent.com/Kvnpsiddhartha/DecisionTreeImplementation/main/kr-vs-kp.csv','result'],'baloons':['https://raw.githubusercontent.com/Kvnpsiddhartha/DecisionTreeImplementation/main/balloons.csv','inflated'],'lymphography':['https://raw.githubusercontent.com/Kvnpsiddhartha/DecisionTreeImplementation/main/lymphography.csv','no. of nodes in'],'heart':['https://raw.githubusercontent.com/Kvnpsiddhartha/DecisionTreeImplementation/main/SPECT.csv','diagnosis']}"
      ],
      "metadata": {
        "id": "8Tva_wtbXpFA"
      },
      "execution_count": 26,
      "outputs": []
    },
    {
      "cell_type": "markdown",
      "source": [
        "#Implementation of Train Test Split Function"
      ],
      "metadata": {
        "id": "mJDy8sssgozk"
      }
    },
    {
      "cell_type": "code",
      "source": [
        "def train_test_split(df,test_size):\n",
        "  df=df.sample(frac = 1)\n",
        "  n=len(df)\n",
        "  no_test_rows=int(n*test_size)\n",
        "  l=list(random.sample(list(range(n)), no_test_rows))\n",
        "  test=df.iloc[l]\n",
        "  train=df.drop(l,axis=0)\n",
        "  return train.sample(frac = 1),test.sample(frac = 1)"
      ],
      "metadata": {
        "id": "QBeLqydXKkZS"
      },
      "execution_count": 27,
      "outputs": []
    },
    {
      "cell_type": "markdown",
      "source": [
        "#Implementation of Accuracy Function "
      ],
      "metadata": {
        "id": "ZQK80ykqo99V"
      }
    },
    {
      "cell_type": "code",
      "source": [
        "def accuracy_score(y_true, y_pred):\n",
        "  total_count=len(y_true)\n",
        "  correct_prediction_count=0\n",
        "  for i in range(total_count):\n",
        "    if y_true[i]==y_pred[i]:\n",
        "      correct_prediction_count+=1\n",
        "  return (correct_prediction_count/total_count)*100"
      ],
      "metadata": {
        "id": "QJaEpB60H2wE"
      },
      "execution_count": 28,
      "outputs": []
    },
    {
      "cell_type": "markdown",
      "source": [
        "#Implementation of Decision Tree Algorithm"
      ],
      "metadata": {
        "id": "CGh11MkzhTQZ"
      }
    },
    {
      "cell_type": "code",
      "source": [
        "class DecisionTree():\n",
        "  \n",
        "  ## Class Member Functions ##\n",
        "\n",
        "  def entropy_help(p):\n",
        "    return -p*log(p,2)\n",
        "  \n",
        "  def getEntropy(df,target_name):  \n",
        "    n=df.count()[0]\n",
        "    target_counts=df[target_name].value_counts().to_dict()\n",
        "    s=0\n",
        "    for p in target_counts.values():\n",
        "      if p/n==1 or p/n==0:\n",
        "        return 0\n",
        "      s+=DecisionTree.entropy_help(p/n)\n",
        "    # print(s)\n",
        "    return s\n",
        "  \n",
        "  def getProbability(df,column,value):\n",
        "    return df[df[column]==value].count()[0]/df.count()[0]\n",
        "  \n",
        "  def informationGain(df,target_name,col):\n",
        "    # print(\"Entropy of \",col,DecisionTree.getEntropy(df,target_name))\n",
        "    total_entropy=DecisionTree.getEntropy(df,target_name)\n",
        "    col_vals_count=df[col].value_counts().to_dict()\n",
        "    sum=0\n",
        "    for value in col_vals_count:\n",
        "      n=col_vals_count[value]\n",
        "      # print(\"Entropy of \",col,value,DecisionTree.getEntropy(df[df[col]==value],target_name))\n",
        "      sum+=(DecisionTree.getEntropy(df[df[col]==value],target_name)*DecisionTree.getProbability(df,col,value))\n",
        "    # print(\"IG: \",target_name,col,total_entropy-sum)\n",
        "    return total_entropy-sum\n",
        "\n",
        "  ## Class Data Members ##\n",
        "\n",
        "  split_functions={'IG':informationGain}\n",
        "  \n",
        "  ## Countructor ##\n",
        "  def __init__(self,df,target_name,split_function=\"IG\",level=-1,leaf_nodes=-1):\n",
        "    self.tree=self.Tree()\n",
        "    self.df=df\n",
        "    self.target_name=target_name\n",
        "    self.cols=list(self.df.columns)\n",
        "    self.cols.remove(self.target_name)\n",
        "    self.cnt=0\n",
        "    self.gnodes=[]\n",
        "    self.level=level\n",
        "    self.leaf_nodes=leaf_nodes\n",
        "    self.rules=[]\n",
        "    self.output_classes=self.df[self.target_name].unique()\n",
        "    if split_function in DecisionTree.split_functions:\n",
        "      self.split_function=DecisionTree.split_functions[split_function]\n",
        "    else:\n",
        "      raise Exception(\"Split function not found\")\n",
        "\n",
        "  ## Instance Methods ##\n",
        "\n",
        "  def getGraph(self):\n",
        "    return self.tree.g\n",
        "\n",
        "  def find_leaf(self,df):\n",
        "    counts=df[self.target_name].value_counts().to_dict()\n",
        "    return max(zip(counts.values(), counts.keys()))[1]\n",
        "    \n",
        "      # unique_vals=list(df[self.target_name].unique())\n",
        "      # for val in unique_vals:      \n",
        "      #   if df[df[self.target_name]==val].count()[0]==df.count()[0]:\n",
        "      #     return val\n",
        "\n",
        "  def construct(self):\n",
        "    maxig=[-1,\"\"]\n",
        "    for i in self.cols:\n",
        "      etemp=self.split_function(df,self.target_name,i)\n",
        "      maxig=maxig if maxig[0]>etemp else [etemp,i]\n",
        "    root=self.Node(maxig[1],maxig[0],0)\n",
        "    self.tree.insert_root(root)\n",
        "    c=copy.deepcopy(self.cols)\n",
        "    c.remove(root.name)\n",
        "    root.gname=str(root)\n",
        "    self.gnodes.append(root)\n",
        "    self.tree.g.node(str(root),str(root))\n",
        "    self.construct_help(df,c,root)\n",
        "\n",
        "  def construct_help(self,df,cols,parent):\n",
        "    if not parent.name:\n",
        "      return\n",
        "    vals=list(df[parent.name].unique())\n",
        "    dftemp=df\n",
        "\n",
        "    for k in vals:\n",
        "      if self.leaf_nodes!=-1 and self.tree.no_leafs>=self.leaf_nodes:\n",
        "        return\n",
        "      df=dftemp\n",
        "      df=df[df[parent.name]==k]\n",
        "      e=DecisionTree.getEntropy(df,self.target_name)\n",
        "\n",
        "      if e==0 or parent.level==self.level-1:\n",
        "        value=self.find_leaf(df)\n",
        "        node=self.Node(value,1,parent.level+1)\n",
        "        node.gname=str(value)\n",
        "        parent.insert_child(node)\n",
        "        parent.insert_edge(k)\n",
        "        self.tree.no_leafs+=1\n",
        "        name=value\n",
        "        if not isinstance(value, str):\n",
        "          name='class'\n",
        "        self.tree.g.node(name+str(self.cnt),str(value))\n",
        "        self.tree.g.edge(str(parent.gname),name+str(self.cnt),label=str(k))\n",
        "        \n",
        "        self.cnt+=1\n",
        "        continue\n",
        "      maxig=[-1,\"\"]\n",
        "      for i in cols:\n",
        "        etemp=self.split_function(df,self.target_name,i)\n",
        "        maxig=maxig if maxig[0]>etemp else [etemp,i]\n",
        "      node=self.Node(maxig[1],maxig[0],parent.level+1)\n",
        "      node.gname=str(node.name)\n",
        "      c=copy.deepcopy(cols)\n",
        "      if node.name in c:\n",
        "        c.remove(node.name)\n",
        "      name=str(node)\n",
        "\n",
        "      # checking if node name already exist in graphviz code\n",
        "      \n",
        "      if name in self.gnodes:\n",
        "        name+=str(self.cnt)\n",
        "        self.cnt+=1\n",
        "      else:\n",
        "        self.gnodes.append(name)\n",
        "      node.gname=name\n",
        "\n",
        "      parent.insert_child(node)\n",
        "      parent.insert_edge(k)\n",
        "\n",
        "      self.tree.g.node(name,str(node))\n",
        "      self.tree.g.edge(str(parent.gname),name,label=str(k))\n",
        "      \n",
        "      self.construct_help(df[df[parent.name]==k],c,node)\n",
        "      \n",
        "  def predict(self,instances,trace=False):\n",
        "    node=self.tree.root\n",
        "    op=[]\n",
        "    if isinstance(instances,dict):\n",
        "      return self.predict_help(node,instances,trace,\"\")\n",
        "    if isinstance(instances,list):\n",
        "      \n",
        "      for instance in instances:\n",
        "        op.append(self.predict_help(node,instance,trace,\"\"))\n",
        "    else:\n",
        "      n=len(instances)\n",
        "      for i in range(n):\n",
        "        instance=instances.iloc[i].to_dict()\n",
        "        op.append(self.predict_help(node,instance,trace,\"\"))\n",
        "    return op\n",
        "\n",
        "  def predict_help(self,node,instance,trace,path):\n",
        "    if node.name in self.output_classes:\n",
        "      if trace:\n",
        "        print(path+str(node))\n",
        "      return node.name\n",
        "    value=instance[node.name]\n",
        "    try:\n",
        "      path+=str(node)+\" ( \"+str(value)+\" ) -> \"\n",
        "      ind=node.edges.index(value)\n",
        "      return self.predict_help(node.childs[ind],instance,trace,path)\n",
        "    except Exception as e:\n",
        "      return \"Not valid instance, path: \"+path\n",
        "  def get_rules(self):\n",
        "    node=self.tree.root\n",
        "    self.rules_help(node,str(node.name)+\" -> \")\n",
        "    return self.rules\n",
        "\n",
        "  def rules_help(self,node,path):\n",
        "    for n,e in zip(node.childs,node.edges):\n",
        "      if n.name in self.output_classes:\n",
        "        self.rules.append(\"{} ( {} ) {}\".format(path,str(e),str(n.name)))\n",
        "      self.rules_help(n,\"{} ( {} ) {} -> \".format(path,str(e),str(n.name)))\n",
        "  \n",
        "  ## Inner classes ##\n",
        "  class Node:\n",
        "    ## Countructor ##\n",
        "    def __init__(self,name,ig,level):\n",
        "      self.name=name\n",
        "      self.ig=ig\n",
        "      self.childs=[]\n",
        "      self.edges=[]\n",
        "      self.gname=''\n",
        "      self.level=level\n",
        "\n",
        "    ## Instance Methods ##\n",
        "\n",
        "    def insert_child(self,node):\n",
        "      self.childs.append(node)\n",
        "\n",
        "    def insert_edge(self,edge):\n",
        "      self.edges.append(edge)\n",
        "\n",
        "    def printn(self,edge=\"\"):\n",
        "      # if self.childs:\n",
        "      dashes=\"|\"+\"-\"*(self.level*5)\n",
        "      value=\"( \"+str(edge)+\") \"+str(self.gname) if edge else str(self.gname)\n",
        "      # print(\" \"*(self.level*2+1),''.join(['-']*31))\n",
        "      # print(dashes,'|{:^15} - level - {:^2} | '.format(self.gname,self.level),list(zip(self.edges,list(map(lambda x:x.gname,self.childs)))))\n",
        "      # print(\" \"*(self.level*2+1),''.join(['-']*31))\n",
        "      print(dashes,value)\n",
        "\n",
        "    def __str__(self):\n",
        "      return str(self.name)\n",
        "\n",
        "  class Tree:\n",
        "\n",
        "    ## Countructor ##\n",
        "    def __init__(self):\n",
        "      self.root=None\n",
        "      self.g=Digraph(encoding='utf-8')\n",
        "      self.no_leafs=0\n",
        "\n",
        "    ## Instance Methods ##\n",
        "\n",
        "    def insert_root(self,node):\n",
        "      self.root=node\n",
        "\n",
        "    def printt(self):\n",
        "      self.print_help(self.root,\"\")\n",
        "\n",
        "    def print_help(self,node,edge):\n",
        "      if node:\n",
        "        node.printn(edge)\n",
        "        # print(\"(\",edge,\")\")\n",
        "      for i in range(len(node.childs)):\n",
        "        self.print_help(node.childs[i],node.edges[i])"
      ],
      "metadata": {
        "id": "id5zpEHsz9uY"
      },
      "execution_count": 29,
      "outputs": []
    },
    {
      "cell_type": "markdown",
      "source": [
        "#Tennis Dataset"
      ],
      "metadata": {
        "id": "ft0A9EwMirEW"
      }
    },
    {
      "cell_type": "code",
      "source": [
        "## Variables ##\n",
        "dataset='tennis'\n",
        "split_func='IG'"
      ],
      "metadata": {
        "id": "ezlij2Kj7STC"
      },
      "execution_count": 30,
      "outputs": []
    },
    {
      "cell_type": "markdown",
      "source": [
        "##Reading Datast"
      ],
      "metadata": {
        "id": "9Pw07mnGjWPu"
      }
    },
    {
      "cell_type": "code",
      "source": [
        "dataset_url,target_name=datasets[dataset]\n",
        "data=pd.read_csv(dataset_url)\n",
        "data=data.applymap(lambda x: x.strip() if isinstance(x, str) else x)"
      ],
      "metadata": {
        "id": "p1VJr-UMXdFE"
      },
      "execution_count": 31,
      "outputs": []
    },
    {
      "cell_type": "code",
      "source": [
        "data"
      ],
      "metadata": {
        "colab": {
          "base_uri": "https://localhost:8080/",
          "height": 488
        },
        "id": "-WaOcO49RHCV",
        "outputId": "8310ee47-78f4-457b-8bcb-853cb04553ba"
      },
      "execution_count": 32,
      "outputs": [
        {
          "output_type": "execute_result",
          "data": {
            "text/plain": [
              "     Outlook Temperature Humidity    wind PlayTennis\n",
              "0      sunny         hot     high    weak         no\n",
              "1      sunny         hot     high  strong         no\n",
              "2   overcast         hot     high    weak        yes\n",
              "3       rain        mild     high    weak        yes\n",
              "4       rain        cool   normal    weak        yes\n",
              "5       rain        cool   normal  strong         no\n",
              "6   overcast        cool   normal  strong        yes\n",
              "7      sunny        mild     high    weak         no\n",
              "8      sunny        cool   normal    weak        yes\n",
              "9       rain        mild   normal    weak        yes\n",
              "10     sunny        mild   normal  strong        yes\n",
              "11  overcast        mild     high  strong        yes\n",
              "12  overcast         hot   normal    weak        yes\n",
              "13      rain        mild     high  strong         no"
            ],
            "text/html": [
              "\n",
              "  <div id=\"df-11204c89-1ed4-44d1-bfdb-0301bdc2eec7\">\n",
              "    <div class=\"colab-df-container\">\n",
              "      <div>\n",
              "<style scoped>\n",
              "    .dataframe tbody tr th:only-of-type {\n",
              "        vertical-align: middle;\n",
              "    }\n",
              "\n",
              "    .dataframe tbody tr th {\n",
              "        vertical-align: top;\n",
              "    }\n",
              "\n",
              "    .dataframe thead th {\n",
              "        text-align: right;\n",
              "    }\n",
              "</style>\n",
              "<table border=\"1\" class=\"dataframe\">\n",
              "  <thead>\n",
              "    <tr style=\"text-align: right;\">\n",
              "      <th></th>\n",
              "      <th>Outlook</th>\n",
              "      <th>Temperature</th>\n",
              "      <th>Humidity</th>\n",
              "      <th>wind</th>\n",
              "      <th>PlayTennis</th>\n",
              "    </tr>\n",
              "  </thead>\n",
              "  <tbody>\n",
              "    <tr>\n",
              "      <th>0</th>\n",
              "      <td>sunny</td>\n",
              "      <td>hot</td>\n",
              "      <td>high</td>\n",
              "      <td>weak</td>\n",
              "      <td>no</td>\n",
              "    </tr>\n",
              "    <tr>\n",
              "      <th>1</th>\n",
              "      <td>sunny</td>\n",
              "      <td>hot</td>\n",
              "      <td>high</td>\n",
              "      <td>strong</td>\n",
              "      <td>no</td>\n",
              "    </tr>\n",
              "    <tr>\n",
              "      <th>2</th>\n",
              "      <td>overcast</td>\n",
              "      <td>hot</td>\n",
              "      <td>high</td>\n",
              "      <td>weak</td>\n",
              "      <td>yes</td>\n",
              "    </tr>\n",
              "    <tr>\n",
              "      <th>3</th>\n",
              "      <td>rain</td>\n",
              "      <td>mild</td>\n",
              "      <td>high</td>\n",
              "      <td>weak</td>\n",
              "      <td>yes</td>\n",
              "    </tr>\n",
              "    <tr>\n",
              "      <th>4</th>\n",
              "      <td>rain</td>\n",
              "      <td>cool</td>\n",
              "      <td>normal</td>\n",
              "      <td>weak</td>\n",
              "      <td>yes</td>\n",
              "    </tr>\n",
              "    <tr>\n",
              "      <th>5</th>\n",
              "      <td>rain</td>\n",
              "      <td>cool</td>\n",
              "      <td>normal</td>\n",
              "      <td>strong</td>\n",
              "      <td>no</td>\n",
              "    </tr>\n",
              "    <tr>\n",
              "      <th>6</th>\n",
              "      <td>overcast</td>\n",
              "      <td>cool</td>\n",
              "      <td>normal</td>\n",
              "      <td>strong</td>\n",
              "      <td>yes</td>\n",
              "    </tr>\n",
              "    <tr>\n",
              "      <th>7</th>\n",
              "      <td>sunny</td>\n",
              "      <td>mild</td>\n",
              "      <td>high</td>\n",
              "      <td>weak</td>\n",
              "      <td>no</td>\n",
              "    </tr>\n",
              "    <tr>\n",
              "      <th>8</th>\n",
              "      <td>sunny</td>\n",
              "      <td>cool</td>\n",
              "      <td>normal</td>\n",
              "      <td>weak</td>\n",
              "      <td>yes</td>\n",
              "    </tr>\n",
              "    <tr>\n",
              "      <th>9</th>\n",
              "      <td>rain</td>\n",
              "      <td>mild</td>\n",
              "      <td>normal</td>\n",
              "      <td>weak</td>\n",
              "      <td>yes</td>\n",
              "    </tr>\n",
              "    <tr>\n",
              "      <th>10</th>\n",
              "      <td>sunny</td>\n",
              "      <td>mild</td>\n",
              "      <td>normal</td>\n",
              "      <td>strong</td>\n",
              "      <td>yes</td>\n",
              "    </tr>\n",
              "    <tr>\n",
              "      <th>11</th>\n",
              "      <td>overcast</td>\n",
              "      <td>mild</td>\n",
              "      <td>high</td>\n",
              "      <td>strong</td>\n",
              "      <td>yes</td>\n",
              "    </tr>\n",
              "    <tr>\n",
              "      <th>12</th>\n",
              "      <td>overcast</td>\n",
              "      <td>hot</td>\n",
              "      <td>normal</td>\n",
              "      <td>weak</td>\n",
              "      <td>yes</td>\n",
              "    </tr>\n",
              "    <tr>\n",
              "      <th>13</th>\n",
              "      <td>rain</td>\n",
              "      <td>mild</td>\n",
              "      <td>high</td>\n",
              "      <td>strong</td>\n",
              "      <td>no</td>\n",
              "    </tr>\n",
              "  </tbody>\n",
              "</table>\n",
              "</div>\n",
              "      <button class=\"colab-df-convert\" onclick=\"convertToInteractive('df-11204c89-1ed4-44d1-bfdb-0301bdc2eec7')\"\n",
              "              title=\"Convert this dataframe to an interactive table.\"\n",
              "              style=\"display:none;\">\n",
              "        \n",
              "  <svg xmlns=\"http://www.w3.org/2000/svg\" height=\"24px\"viewBox=\"0 0 24 24\"\n",
              "       width=\"24px\">\n",
              "    <path d=\"M0 0h24v24H0V0z\" fill=\"none\"/>\n",
              "    <path d=\"M18.56 5.44l.94 2.06.94-2.06 2.06-.94-2.06-.94-.94-2.06-.94 2.06-2.06.94zm-11 1L8.5 8.5l.94-2.06 2.06-.94-2.06-.94L8.5 2.5l-.94 2.06-2.06.94zm10 10l.94 2.06.94-2.06 2.06-.94-2.06-.94-.94-2.06-.94 2.06-2.06.94z\"/><path d=\"M17.41 7.96l-1.37-1.37c-.4-.4-.92-.59-1.43-.59-.52 0-1.04.2-1.43.59L10.3 9.45l-7.72 7.72c-.78.78-.78 2.05 0 2.83L4 21.41c.39.39.9.59 1.41.59.51 0 1.02-.2 1.41-.59l7.78-7.78 2.81-2.81c.8-.78.8-2.07 0-2.86zM5.41 20L4 18.59l7.72-7.72 1.47 1.35L5.41 20z\"/>\n",
              "  </svg>\n",
              "      </button>\n",
              "      \n",
              "  <style>\n",
              "    .colab-df-container {\n",
              "      display:flex;\n",
              "      flex-wrap:wrap;\n",
              "      gap: 12px;\n",
              "    }\n",
              "\n",
              "    .colab-df-convert {\n",
              "      background-color: #E8F0FE;\n",
              "      border: none;\n",
              "      border-radius: 50%;\n",
              "      cursor: pointer;\n",
              "      display: none;\n",
              "      fill: #1967D2;\n",
              "      height: 32px;\n",
              "      padding: 0 0 0 0;\n",
              "      width: 32px;\n",
              "    }\n",
              "\n",
              "    .colab-df-convert:hover {\n",
              "      background-color: #E2EBFA;\n",
              "      box-shadow: 0px 1px 2px rgba(60, 64, 67, 0.3), 0px 1px 3px 1px rgba(60, 64, 67, 0.15);\n",
              "      fill: #174EA6;\n",
              "    }\n",
              "\n",
              "    [theme=dark] .colab-df-convert {\n",
              "      background-color: #3B4455;\n",
              "      fill: #D2E3FC;\n",
              "    }\n",
              "\n",
              "    [theme=dark] .colab-df-convert:hover {\n",
              "      background-color: #434B5C;\n",
              "      box-shadow: 0px 1px 3px 1px rgba(0, 0, 0, 0.15);\n",
              "      filter: drop-shadow(0px 1px 2px rgba(0, 0, 0, 0.3));\n",
              "      fill: #FFFFFF;\n",
              "    }\n",
              "  </style>\n",
              "\n",
              "      <script>\n",
              "        const buttonEl =\n",
              "          document.querySelector('#df-11204c89-1ed4-44d1-bfdb-0301bdc2eec7 button.colab-df-convert');\n",
              "        buttonEl.style.display =\n",
              "          google.colab.kernel.accessAllowed ? 'block' : 'none';\n",
              "\n",
              "        async function convertToInteractive(key) {\n",
              "          const element = document.querySelector('#df-11204c89-1ed4-44d1-bfdb-0301bdc2eec7');\n",
              "          const dataTable =\n",
              "            await google.colab.kernel.invokeFunction('convertToInteractive',\n",
              "                                                     [key], {});\n",
              "          if (!dataTable) return;\n",
              "\n",
              "          const docLinkHtml = 'Like what you see? Visit the ' +\n",
              "            '<a target=\"_blank\" href=https://colab.research.google.com/notebooks/data_table.ipynb>data table notebook</a>'\n",
              "            + ' to learn more about interactive tables.';\n",
              "          element.innerHTML = '';\n",
              "          dataTable['output_type'] = 'display_data';\n",
              "          await google.colab.output.renderOutput(dataTable, element);\n",
              "          const docLink = document.createElement('div');\n",
              "          docLink.innerHTML = docLinkHtml;\n",
              "          element.appendChild(docLink);\n",
              "        }\n",
              "      </script>\n",
              "    </div>\n",
              "  </div>\n",
              "  "
            ]
          },
          "metadata": {},
          "execution_count": 32
        }
      ]
    },
    {
      "cell_type": "code",
      "source": [
        "data.dtypes"
      ],
      "metadata": {
        "colab": {
          "base_uri": "https://localhost:8080/"
        },
        "id": "uuQQBr7NlG1s",
        "outputId": "624b8ce0-3bc1-4e6b-a61f-18c40c0cd8cc"
      },
      "execution_count": 33,
      "outputs": [
        {
          "output_type": "execute_result",
          "data": {
            "text/plain": [
              "Outlook        object\n",
              "Temperature    object\n",
              "Humidity       object\n",
              "wind           object\n",
              "PlayTennis     object\n",
              "dtype: object"
            ]
          },
          "metadata": {},
          "execution_count": 33
        }
      ]
    },
    {
      "cell_type": "code",
      "source": [
        "# test_df=data\n",
        "df,test_df=train_test_split(data,0.3)\n",
        "print(\"Size of Train Dataset: \",len(df),\"\\n\",\"Size of Test Dataset: \",len(test_df))\n",
        "\n",
        "\n",
        "# from sklearn.model_selection import train_test_split\n",
        "# df,test_df=test_train_split(df,test_size=0.3)"
      ],
      "metadata": {
        "colab": {
          "base_uri": "https://localhost:8080/"
        },
        "id": "Ho5s2hKoBDO5",
        "outputId": "46212b01-9189-4a80-e664-9949698cac7e"
      },
      "execution_count": 34,
      "outputs": [
        {
          "output_type": "stream",
          "name": "stdout",
          "text": [
            "Size of Train Dataset:  10 \n",
            " Size of Test Dataset:  4\n"
          ]
        }
      ]
    },
    {
      "cell_type": "code",
      "source": [
        "print(df.count())\n",
        "print(sum(df[target_name].value_counts().to_dict().values()))"
      ],
      "metadata": {
        "colab": {
          "base_uri": "https://localhost:8080/"
        },
        "id": "g6JtbofyB_O7",
        "outputId": "7efd56fa-3d85-48cd-913c-be0b9ac9742e"
      },
      "execution_count": 35,
      "outputs": [
        {
          "output_type": "stream",
          "name": "stdout",
          "text": [
            "Outlook        10\n",
            "Temperature    10\n",
            "Humidity       10\n",
            "wind           10\n",
            "PlayTennis     10\n",
            "dtype: int64\n",
            "10\n"
          ]
        }
      ]
    },
    {
      "cell_type": "markdown",
      "source": [
        "##Descion Tree Training"
      ],
      "metadata": {
        "id": "U6p4vlMVjx3-"
      }
    },
    {
      "cell_type": "code",
      "source": [
        "d=DecisionTree(data,target_name,split_function=split_func)"
      ],
      "metadata": {
        "id": "OFMbtje11lrz"
      },
      "execution_count": 36,
      "outputs": []
    },
    {
      "cell_type": "code",
      "source": [
        "d.construct()"
      ],
      "metadata": {
        "id": "EDWt9Tv35vp4"
      },
      "execution_count": 37,
      "outputs": []
    },
    {
      "cell_type": "code",
      "source": [
        "print(d.tree.no_leafs)"
      ],
      "metadata": {
        "colab": {
          "base_uri": "https://localhost:8080/"
        },
        "id": "rMXXe-Ny_HQk",
        "outputId": "ce939f21-2014-4ec8-a554-cc75ce096481"
      },
      "execution_count": 38,
      "outputs": [
        {
          "output_type": "stream",
          "name": "stdout",
          "text": [
            "5\n"
          ]
        }
      ]
    },
    {
      "cell_type": "code",
      "source": [
        "d.get_rules()"
      ],
      "metadata": {
        "colab": {
          "base_uri": "https://localhost:8080/"
        },
        "id": "kY-CQ-Qb2Dp2",
        "outputId": "192f4395-28fa-41c6-c63a-315b056f0690"
      },
      "execution_count": 39,
      "outputs": [
        {
          "output_type": "execute_result",
          "data": {
            "text/plain": [
              "['Outlook ->  ( sunny ) Humidity ->  ( high ) no',\n",
              " 'Outlook ->  ( sunny ) Humidity ->  ( normal ) yes',\n",
              " 'Outlook ->  ( overcast ) yes',\n",
              " 'Outlook ->  ( rain ) wind ->  ( strong ) no',\n",
              " 'Outlook ->  ( rain ) wind ->  ( weak ) yes']"
            ]
          },
          "metadata": {},
          "execution_count": 39
        }
      ]
    },
    {
      "cell_type": "code",
      "source": [
        "d.tree.printt()"
      ],
      "metadata": {
        "id": "YDlC1Uz83Fo3",
        "colab": {
          "base_uri": "https://localhost:8080/"
        },
        "outputId": "342893c5-0b28-4821-f471-ec5503e41c71"
      },
      "execution_count": 40,
      "outputs": [
        {
          "output_type": "stream",
          "name": "stdout",
          "text": [
            "| Outlook\n",
            "|----- ( sunny) Humidity\n",
            "|---------- ( high) no\n",
            "|---------- ( normal) yes\n",
            "|----- ( overcast) yes\n",
            "|----- ( rain) wind\n",
            "|---------- ( strong) no\n",
            "|---------- ( weak) yes\n"
          ]
        }
      ]
    },
    {
      "cell_type": "markdown",
      "source": [
        "##Graphviz Representation of Decision Tree"
      ],
      "metadata": {
        "id": "TXlFushklczF"
      }
    },
    {
      "cell_type": "code",
      "source": [
        "f = open(\"Tennis.dot\", \"w\")\n",
        "f.write(str(d.getGraph()))\n",
        "f.close()"
      ],
      "metadata": {
        "id": "UAs3iKb0OeIz"
      },
      "execution_count": 41,
      "outputs": []
    },
    {
      "cell_type": "code",
      "source": [
        "d.getGraph()"
      ],
      "metadata": {
        "colab": {
          "base_uri": "https://localhost:8080/",
          "height": 312
        },
        "id": "W7Q1YW9pyk6C",
        "outputId": "1ddafa5d-81f0-4038-bdce-7d867bf48cf8"
      },
      "execution_count": 42,
      "outputs": [
        {
          "output_type": "execute_result",
          "data": {
            "text/plain": [
              "<graphviz.dot.Digraph at 0x7f0fa2ce2a50>"
            ],
            "image/svg+xml": "<?xml version=\"1.0\" encoding=\"UTF-8\" standalone=\"no\"?>\n<!DOCTYPE svg PUBLIC \"-//W3C//DTD SVG 1.1//EN\"\n \"http://www.w3.org/Graphics/SVG/1.1/DTD/svg11.dtd\">\n<!-- Generated by graphviz version 2.40.1 (20161225.0304)\n -->\n<!-- Title: %3 Pages: 1 -->\n<svg width=\"301pt\" height=\"218pt\"\n viewBox=\"0.00 0.00 301.00 218.00\" xmlns=\"http://www.w3.org/2000/svg\" xmlns:xlink=\"http://www.w3.org/1999/xlink\">\n<g id=\"graph0\" class=\"graph\" transform=\"scale(1 1) rotate(0) translate(4 214)\">\n<title>%3</title>\n<polygon fill=\"#ffffff\" stroke=\"transparent\" points=\"-4,4 -4,-214 297,-214 297,4 -4,4\"/>\n<!-- Outlook -->\n<g id=\"node1\" class=\"node\">\n<title>Outlook</title>\n<ellipse fill=\"none\" stroke=\"#000000\" cx=\"143\" cy=\"-192\" rx=\"42.4939\" ry=\"18\"/>\n<text text-anchor=\"middle\" x=\"143\" y=\"-188.3\" font-family=\"Times,serif\" font-size=\"14.00\" fill=\"#000000\">Outlook</text>\n</g>\n<!-- Humidity -->\n<g id=\"node2\" class=\"node\">\n<title>Humidity</title>\n<ellipse fill=\"none\" stroke=\"#000000\" cx=\"51\" cy=\"-105\" rx=\"46.5926\" ry=\"18\"/>\n<text text-anchor=\"middle\" x=\"51\" y=\"-101.3\" font-family=\"Times,serif\" font-size=\"14.00\" fill=\"#000000\">Humidity</text>\n</g>\n<!-- Outlook&#45;&gt;Humidity -->\n<g id=\"edge1\" class=\"edge\">\n<title>Outlook&#45;&gt;Humidity</title>\n<path fill=\"none\" stroke=\"#000000\" d=\"M124.5298,-175.6752C117.7059,-169.5659 109.9451,-162.5254 103,-156 93.8767,-147.428 84.033,-137.8587 75.3905,-129.3456\"/>\n<polygon fill=\"#000000\" stroke=\"#000000\" points=\"77.7244,-126.7311 68.1531,-122.1877 72.802,-131.7082 77.7244,-126.7311\"/>\n<text text-anchor=\"middle\" x=\"121\" y=\"-144.8\" font-family=\"Times,serif\" font-size=\"14.00\" fill=\"#000000\">sunny</text>\n</g>\n<!-- yes2 -->\n<g id=\"node5\" class=\"node\">\n<title>yes2</title>\n<ellipse fill=\"none\" stroke=\"#000000\" cx=\"143\" cy=\"-105\" rx=\"27\" ry=\"18\"/>\n<text text-anchor=\"middle\" x=\"143\" y=\"-101.3\" font-family=\"Times,serif\" font-size=\"14.00\" fill=\"#000000\">yes</text>\n</g>\n<!-- Outlook&#45;&gt;yes2 -->\n<g id=\"edge4\" class=\"edge\">\n<title>Outlook&#45;&gt;yes2</title>\n<path fill=\"none\" stroke=\"#000000\" d=\"M143,-173.9735C143,-162.1918 143,-146.5607 143,-133.1581\"/>\n<polygon fill=\"#000000\" stroke=\"#000000\" points=\"146.5001,-133.0033 143,-123.0034 139.5001,-133.0034 146.5001,-133.0033\"/>\n<text text-anchor=\"middle\" x=\"166.5\" y=\"-144.8\" font-family=\"Times,serif\" font-size=\"14.00\" fill=\"#000000\">overcast</text>\n</g>\n<!-- wind -->\n<g id=\"node6\" class=\"node\">\n<title>wind</title>\n<ellipse fill=\"none\" stroke=\"#000000\" cx=\"218\" cy=\"-105\" rx=\"29.795\" ry=\"18\"/>\n<text text-anchor=\"middle\" x=\"218\" y=\"-101.3\" font-family=\"Times,serif\" font-size=\"14.00\" fill=\"#000000\">wind</text>\n</g>\n<!-- Outlook&#45;&gt;wind -->\n<g id=\"edge5\" class=\"edge\">\n<title>Outlook&#45;&gt;wind</title>\n<path fill=\"none\" stroke=\"#000000\" d=\"M168.1271,-177.4668C176.7767,-171.5987 186.0297,-164.2541 193,-156 198.9446,-148.9606 203.8801,-140.2657 207.7514,-132.0616\"/>\n<polygon fill=\"#000000\" stroke=\"#000000\" points=\"211.008,-133.3496 211.8036,-122.7847 204.5933,-130.5475 211.008,-133.3496\"/>\n<text text-anchor=\"middle\" x=\"214\" y=\"-144.8\" font-family=\"Times,serif\" font-size=\"14.00\" fill=\"#000000\">rain</text>\n</g>\n<!-- no0 -->\n<g id=\"node3\" class=\"node\">\n<title>no0</title>\n<ellipse fill=\"none\" stroke=\"#000000\" cx=\"27\" cy=\"-18\" rx=\"27\" ry=\"18\"/>\n<text text-anchor=\"middle\" x=\"27\" y=\"-14.3\" font-family=\"Times,serif\" font-size=\"14.00\" fill=\"#000000\">no</text>\n</g>\n<!-- Humidity&#45;&gt;no0 -->\n<g id=\"edge2\" class=\"edge\">\n<title>Humidity&#45;&gt;no0</title>\n<path fill=\"none\" stroke=\"#000000\" d=\"M46.0272,-86.9735C42.723,-74.9958 38.3213,-59.0396 34.5838,-45.4912\"/>\n<polygon fill=\"#000000\" stroke=\"#000000\" points=\"37.9177,-44.4148 31.8843,-35.7057 31.1697,-46.2764 37.9177,-44.4148\"/>\n<text text-anchor=\"middle\" x=\"54.5\" y=\"-57.8\" font-family=\"Times,serif\" font-size=\"14.00\" fill=\"#000000\">high</text>\n</g>\n<!-- yes1 -->\n<g id=\"node4\" class=\"node\">\n<title>yes1</title>\n<ellipse fill=\"none\" stroke=\"#000000\" cx=\"99\" cy=\"-18\" rx=\"27\" ry=\"18\"/>\n<text text-anchor=\"middle\" x=\"99\" y=\"-14.3\" font-family=\"Times,serif\" font-size=\"14.00\" fill=\"#000000\">yes</text>\n</g>\n<!-- Humidity&#45;&gt;yes1 -->\n<g id=\"edge3\" class=\"edge\">\n<title>Humidity&#45;&gt;yes1</title>\n<path fill=\"none\" stroke=\"#000000\" d=\"M61.6142,-87.138C64.9852,-81.377 68.6946,-74.9443 72,-69 76.4793,-60.9447 81.2261,-52.0924 85.4697,-44.0564\"/>\n<polygon fill=\"#000000\" stroke=\"#000000\" points=\"88.6252,-45.5755 90.174,-35.0944 82.4272,-42.322 88.6252,-45.5755\"/>\n<text text-anchor=\"middle\" x=\"100.5\" y=\"-57.8\" font-family=\"Times,serif\" font-size=\"14.00\" fill=\"#000000\">normal</text>\n</g>\n<!-- no3 -->\n<g id=\"node7\" class=\"node\">\n<title>no3</title>\n<ellipse fill=\"none\" stroke=\"#000000\" cx=\"194\" cy=\"-18\" rx=\"27\" ry=\"18\"/>\n<text text-anchor=\"middle\" x=\"194\" y=\"-14.3\" font-family=\"Times,serif\" font-size=\"14.00\" fill=\"#000000\">no</text>\n</g>\n<!-- wind&#45;&gt;no3 -->\n<g id=\"edge6\" class=\"edge\">\n<title>wind&#45;&gt;no3</title>\n<path fill=\"none\" stroke=\"#000000\" d=\"M212.3504,-87.1034C210.5799,-81.3406 208.6567,-74.9155 207,-69 204.8993,-61.4991 202.756,-53.3383 200.8316,-45.7889\"/>\n<polygon fill=\"#000000\" stroke=\"#000000\" points=\"204.2012,-44.8368 198.3674,-35.9927 197.4126,-46.5444 204.2012,-44.8368\"/>\n<text text-anchor=\"middle\" x=\"225.5\" y=\"-57.8\" font-family=\"Times,serif\" font-size=\"14.00\" fill=\"#000000\">strong</text>\n</g>\n<!-- yes4 -->\n<g id=\"node8\" class=\"node\">\n<title>yes4</title>\n<ellipse fill=\"none\" stroke=\"#000000\" cx=\"266\" cy=\"-18\" rx=\"27\" ry=\"18\"/>\n<text text-anchor=\"middle\" x=\"266\" y=\"-14.3\" font-family=\"Times,serif\" font-size=\"14.00\" fill=\"#000000\">yes</text>\n</g>\n<!-- wind&#45;&gt;yes4 -->\n<g id=\"edge7\" class=\"edge\">\n<title>wind&#45;&gt;yes4</title>\n<path fill=\"none\" stroke=\"#000000\" d=\"M230.9572,-88.6567C235.3936,-82.6641 240.1936,-75.7044 244,-69 248.2179,-61.5709 252.1512,-53.1758 255.4918,-45.3731\"/>\n<polygon fill=\"#000000\" stroke=\"#000000\" points=\"258.8116,-46.5031 259.383,-35.9237 252.3389,-43.8376 258.8116,-46.5031\"/>\n<text text-anchor=\"middle\" x=\"266.5\" y=\"-57.8\" font-family=\"Times,serif\" font-size=\"14.00\" fill=\"#000000\">weak</text>\n</g>\n</g>\n</svg>\n"
          },
          "metadata": {},
          "execution_count": 42
        }
      ]
    },
    {
      "cell_type": "markdown",
      "source": [
        "##Predicting on Train Dataset"
      ],
      "metadata": {
        "id": "tu-54H9_qIXZ"
      }
    },
    {
      "cell_type": "code",
      "source": [
        "df"
      ],
      "metadata": {
        "colab": {
          "base_uri": "https://localhost:8080/",
          "height": 363
        },
        "id": "O7m5L_07w66h",
        "outputId": "d90cbe99-fdd2-4200-90f8-0bae3f7ce5f5"
      },
      "execution_count": 43,
      "outputs": [
        {
          "output_type": "execute_result",
          "data": {
            "text/plain": [
              "     Outlook Temperature Humidity    wind PlayTennis\n",
              "0      sunny         hot     high    weak         no\n",
              "2   overcast         hot     high    weak        yes\n",
              "7      sunny        mild     high    weak         no\n",
              "11  overcast        mild     high  strong        yes\n",
              "5       rain        cool   normal  strong         no\n",
              "8      sunny        cool   normal    weak        yes\n",
              "12  overcast         hot   normal    weak        yes\n",
              "9       rain        mild   normal    weak        yes\n",
              "6   overcast        cool   normal  strong        yes\n",
              "13      rain        mild     high  strong         no"
            ],
            "text/html": [
              "\n",
              "  <div id=\"df-05c962f3-21c5-4f11-adc7-9c26b173a282\">\n",
              "    <div class=\"colab-df-container\">\n",
              "      <div>\n",
              "<style scoped>\n",
              "    .dataframe tbody tr th:only-of-type {\n",
              "        vertical-align: middle;\n",
              "    }\n",
              "\n",
              "    .dataframe tbody tr th {\n",
              "        vertical-align: top;\n",
              "    }\n",
              "\n",
              "    .dataframe thead th {\n",
              "        text-align: right;\n",
              "    }\n",
              "</style>\n",
              "<table border=\"1\" class=\"dataframe\">\n",
              "  <thead>\n",
              "    <tr style=\"text-align: right;\">\n",
              "      <th></th>\n",
              "      <th>Outlook</th>\n",
              "      <th>Temperature</th>\n",
              "      <th>Humidity</th>\n",
              "      <th>wind</th>\n",
              "      <th>PlayTennis</th>\n",
              "    </tr>\n",
              "  </thead>\n",
              "  <tbody>\n",
              "    <tr>\n",
              "      <th>0</th>\n",
              "      <td>sunny</td>\n",
              "      <td>hot</td>\n",
              "      <td>high</td>\n",
              "      <td>weak</td>\n",
              "      <td>no</td>\n",
              "    </tr>\n",
              "    <tr>\n",
              "      <th>2</th>\n",
              "      <td>overcast</td>\n",
              "      <td>hot</td>\n",
              "      <td>high</td>\n",
              "      <td>weak</td>\n",
              "      <td>yes</td>\n",
              "    </tr>\n",
              "    <tr>\n",
              "      <th>7</th>\n",
              "      <td>sunny</td>\n",
              "      <td>mild</td>\n",
              "      <td>high</td>\n",
              "      <td>weak</td>\n",
              "      <td>no</td>\n",
              "    </tr>\n",
              "    <tr>\n",
              "      <th>11</th>\n",
              "      <td>overcast</td>\n",
              "      <td>mild</td>\n",
              "      <td>high</td>\n",
              "      <td>strong</td>\n",
              "      <td>yes</td>\n",
              "    </tr>\n",
              "    <tr>\n",
              "      <th>5</th>\n",
              "      <td>rain</td>\n",
              "      <td>cool</td>\n",
              "      <td>normal</td>\n",
              "      <td>strong</td>\n",
              "      <td>no</td>\n",
              "    </tr>\n",
              "    <tr>\n",
              "      <th>8</th>\n",
              "      <td>sunny</td>\n",
              "      <td>cool</td>\n",
              "      <td>normal</td>\n",
              "      <td>weak</td>\n",
              "      <td>yes</td>\n",
              "    </tr>\n",
              "    <tr>\n",
              "      <th>12</th>\n",
              "      <td>overcast</td>\n",
              "      <td>hot</td>\n",
              "      <td>normal</td>\n",
              "      <td>weak</td>\n",
              "      <td>yes</td>\n",
              "    </tr>\n",
              "    <tr>\n",
              "      <th>9</th>\n",
              "      <td>rain</td>\n",
              "      <td>mild</td>\n",
              "      <td>normal</td>\n",
              "      <td>weak</td>\n",
              "      <td>yes</td>\n",
              "    </tr>\n",
              "    <tr>\n",
              "      <th>6</th>\n",
              "      <td>overcast</td>\n",
              "      <td>cool</td>\n",
              "      <td>normal</td>\n",
              "      <td>strong</td>\n",
              "      <td>yes</td>\n",
              "    </tr>\n",
              "    <tr>\n",
              "      <th>13</th>\n",
              "      <td>rain</td>\n",
              "      <td>mild</td>\n",
              "      <td>high</td>\n",
              "      <td>strong</td>\n",
              "      <td>no</td>\n",
              "    </tr>\n",
              "  </tbody>\n",
              "</table>\n",
              "</div>\n",
              "      <button class=\"colab-df-convert\" onclick=\"convertToInteractive('df-05c962f3-21c5-4f11-adc7-9c26b173a282')\"\n",
              "              title=\"Convert this dataframe to an interactive table.\"\n",
              "              style=\"display:none;\">\n",
              "        \n",
              "  <svg xmlns=\"http://www.w3.org/2000/svg\" height=\"24px\"viewBox=\"0 0 24 24\"\n",
              "       width=\"24px\">\n",
              "    <path d=\"M0 0h24v24H0V0z\" fill=\"none\"/>\n",
              "    <path d=\"M18.56 5.44l.94 2.06.94-2.06 2.06-.94-2.06-.94-.94-2.06-.94 2.06-2.06.94zm-11 1L8.5 8.5l.94-2.06 2.06-.94-2.06-.94L8.5 2.5l-.94 2.06-2.06.94zm10 10l.94 2.06.94-2.06 2.06-.94-2.06-.94-.94-2.06-.94 2.06-2.06.94z\"/><path d=\"M17.41 7.96l-1.37-1.37c-.4-.4-.92-.59-1.43-.59-.52 0-1.04.2-1.43.59L10.3 9.45l-7.72 7.72c-.78.78-.78 2.05 0 2.83L4 21.41c.39.39.9.59 1.41.59.51 0 1.02-.2 1.41-.59l7.78-7.78 2.81-2.81c.8-.78.8-2.07 0-2.86zM5.41 20L4 18.59l7.72-7.72 1.47 1.35L5.41 20z\"/>\n",
              "  </svg>\n",
              "      </button>\n",
              "      \n",
              "  <style>\n",
              "    .colab-df-container {\n",
              "      display:flex;\n",
              "      flex-wrap:wrap;\n",
              "      gap: 12px;\n",
              "    }\n",
              "\n",
              "    .colab-df-convert {\n",
              "      background-color: #E8F0FE;\n",
              "      border: none;\n",
              "      border-radius: 50%;\n",
              "      cursor: pointer;\n",
              "      display: none;\n",
              "      fill: #1967D2;\n",
              "      height: 32px;\n",
              "      padding: 0 0 0 0;\n",
              "      width: 32px;\n",
              "    }\n",
              "\n",
              "    .colab-df-convert:hover {\n",
              "      background-color: #E2EBFA;\n",
              "      box-shadow: 0px 1px 2px rgba(60, 64, 67, 0.3), 0px 1px 3px 1px rgba(60, 64, 67, 0.15);\n",
              "      fill: #174EA6;\n",
              "    }\n",
              "\n",
              "    [theme=dark] .colab-df-convert {\n",
              "      background-color: #3B4455;\n",
              "      fill: #D2E3FC;\n",
              "    }\n",
              "\n",
              "    [theme=dark] .colab-df-convert:hover {\n",
              "      background-color: #434B5C;\n",
              "      box-shadow: 0px 1px 3px 1px rgba(0, 0, 0, 0.15);\n",
              "      filter: drop-shadow(0px 1px 2px rgba(0, 0, 0, 0.3));\n",
              "      fill: #FFFFFF;\n",
              "    }\n",
              "  </style>\n",
              "\n",
              "      <script>\n",
              "        const buttonEl =\n",
              "          document.querySelector('#df-05c962f3-21c5-4f11-adc7-9c26b173a282 button.colab-df-convert');\n",
              "        buttonEl.style.display =\n",
              "          google.colab.kernel.accessAllowed ? 'block' : 'none';\n",
              "\n",
              "        async function convertToInteractive(key) {\n",
              "          const element = document.querySelector('#df-05c962f3-21c5-4f11-adc7-9c26b173a282');\n",
              "          const dataTable =\n",
              "            await google.colab.kernel.invokeFunction('convertToInteractive',\n",
              "                                                     [key], {});\n",
              "          if (!dataTable) return;\n",
              "\n",
              "          const docLinkHtml = 'Like what you see? Visit the ' +\n",
              "            '<a target=\"_blank\" href=https://colab.research.google.com/notebooks/data_table.ipynb>data table notebook</a>'\n",
              "            + ' to learn more about interactive tables.';\n",
              "          element.innerHTML = '';\n",
              "          dataTable['output_type'] = 'display_data';\n",
              "          await google.colab.output.renderOutput(dataTable, element);\n",
              "          const docLink = document.createElement('div');\n",
              "          docLink.innerHTML = docLinkHtml;\n",
              "          element.appendChild(docLink);\n",
              "        }\n",
              "      </script>\n",
              "    </div>\n",
              "  </div>\n",
              "  "
            ]
          },
          "metadata": {},
          "execution_count": 43
        }
      ]
    },
    {
      "cell_type": "code",
      "source": [
        "y_train_pred=d.predict(df)\n",
        "print(y_train_pred)\n",
        "print(df[target_name])\n",
        "print(accuracy_score(df[target_name].tolist(),y_train_pred))"
      ],
      "metadata": {
        "colab": {
          "base_uri": "https://localhost:8080/"
        },
        "outputId": "a3609ab6-89a3-431d-d71d-887e9e748170",
        "id": "PwPPkaLYqIXa"
      },
      "execution_count": 44,
      "outputs": [
        {
          "output_type": "stream",
          "name": "stdout",
          "text": [
            "['no', 'yes', 'no', 'yes', 'no', 'yes', 'yes', 'yes', 'yes', 'no']\n",
            "0      no\n",
            "2     yes\n",
            "7      no\n",
            "11    yes\n",
            "5      no\n",
            "8     yes\n",
            "12    yes\n",
            "9     yes\n",
            "6     yes\n",
            "13     no\n",
            "Name: PlayTennis, dtype: object\n",
            "100.0\n"
          ]
        }
      ]
    },
    {
      "cell_type": "markdown",
      "source": [
        "##Predicting on Test Dataset"
      ],
      "metadata": {
        "id": "ScQKY9mumBgV"
      }
    },
    {
      "cell_type": "code",
      "source": [
        "y_test_pred=d.predict(test_df)\n",
        "accuracy_score(test_df[target_name].tolist(),y_test_pred)"
      ],
      "metadata": {
        "id": "rc2RvfZ1E_I5",
        "colab": {
          "base_uri": "https://localhost:8080/"
        },
        "outputId": "e0a27204-4a6a-412e-a679-407a53ecb67b"
      },
      "execution_count": 45,
      "outputs": [
        {
          "output_type": "execute_result",
          "data": {
            "text/plain": [
              "100.0"
            ]
          },
          "metadata": {},
          "execution_count": 45
        }
      ]
    },
    {
      "cell_type": "code",
      "source": [],
      "metadata": {
        "id": "4v4qjEkz5NbM"
      },
      "execution_count": 45,
      "outputs": []
    },
    {
      "cell_type": "markdown",
      "source": [
        "#Cars Dataset"
      ],
      "metadata": {
        "id": "d1ZaZETCCnxs"
      }
    },
    {
      "cell_type": "code",
      "source": [
        "## Variables ##\n",
        "dataset='cars'\n",
        "split_func='IG'"
      ],
      "metadata": {
        "id": "w0p6kd88Cnxt"
      },
      "execution_count": 46,
      "outputs": []
    },
    {
      "cell_type": "markdown",
      "source": [
        "##Reading Datast"
      ],
      "metadata": {
        "id": "8nkZumzGCnxt"
      }
    },
    {
      "cell_type": "code",
      "source": [
        "dataset_url,target_name=datasets[dataset]\n",
        "data=pd.read_csv(dataset_url)\n",
        "data=data.applymap(lambda x: x.strip() if isinstance(x, str) else x)"
      ],
      "metadata": {
        "id": "BHNZqVYnCnxu"
      },
      "execution_count": 47,
      "outputs": []
    },
    {
      "cell_type": "code",
      "source": [
        "data"
      ],
      "metadata": {
        "colab": {
          "base_uri": "https://localhost:8080/",
          "height": 0
        },
        "outputId": "b4079bba-97a3-4627-925f-fce82603f7e1",
        "id": "SpM9PvqpCnxu"
      },
      "execution_count": 48,
      "outputs": [
        {
          "output_type": "execute_result",
          "data": {
            "text/plain": [
              "     buying  maint  doors persons lug_boot safety  class\n",
              "0     vhigh  vhigh      2       2    small    low  unacc\n",
              "1     vhigh  vhigh      2       2    small    med  unacc\n",
              "2     vhigh  vhigh      2       2    small   high  unacc\n",
              "3     vhigh  vhigh      2       2      med    low  unacc\n",
              "4     vhigh  vhigh      2       2      med    med  unacc\n",
              "...     ...    ...    ...     ...      ...    ...    ...\n",
              "1723    low    low  5more    more      med    med   good\n",
              "1724    low    low  5more    more      med   high  vgood\n",
              "1725    low    low  5more    more      big    low  unacc\n",
              "1726    low    low  5more    more      big    med   good\n",
              "1727    low    low  5more    more      big   high  vgood\n",
              "\n",
              "[1728 rows x 7 columns]"
            ],
            "text/html": [
              "\n",
              "  <div id=\"df-e66b7db0-401b-4e41-97d7-582a9c6d7b92\">\n",
              "    <div class=\"colab-df-container\">\n",
              "      <div>\n",
              "<style scoped>\n",
              "    .dataframe tbody tr th:only-of-type {\n",
              "        vertical-align: middle;\n",
              "    }\n",
              "\n",
              "    .dataframe tbody tr th {\n",
              "        vertical-align: top;\n",
              "    }\n",
              "\n",
              "    .dataframe thead th {\n",
              "        text-align: right;\n",
              "    }\n",
              "</style>\n",
              "<table border=\"1\" class=\"dataframe\">\n",
              "  <thead>\n",
              "    <tr style=\"text-align: right;\">\n",
              "      <th></th>\n",
              "      <th>buying</th>\n",
              "      <th>maint</th>\n",
              "      <th>doors</th>\n",
              "      <th>persons</th>\n",
              "      <th>lug_boot</th>\n",
              "      <th>safety</th>\n",
              "      <th>class</th>\n",
              "    </tr>\n",
              "  </thead>\n",
              "  <tbody>\n",
              "    <tr>\n",
              "      <th>0</th>\n",
              "      <td>vhigh</td>\n",
              "      <td>vhigh</td>\n",
              "      <td>2</td>\n",
              "      <td>2</td>\n",
              "      <td>small</td>\n",
              "      <td>low</td>\n",
              "      <td>unacc</td>\n",
              "    </tr>\n",
              "    <tr>\n",
              "      <th>1</th>\n",
              "      <td>vhigh</td>\n",
              "      <td>vhigh</td>\n",
              "      <td>2</td>\n",
              "      <td>2</td>\n",
              "      <td>small</td>\n",
              "      <td>med</td>\n",
              "      <td>unacc</td>\n",
              "    </tr>\n",
              "    <tr>\n",
              "      <th>2</th>\n",
              "      <td>vhigh</td>\n",
              "      <td>vhigh</td>\n",
              "      <td>2</td>\n",
              "      <td>2</td>\n",
              "      <td>small</td>\n",
              "      <td>high</td>\n",
              "      <td>unacc</td>\n",
              "    </tr>\n",
              "    <tr>\n",
              "      <th>3</th>\n",
              "      <td>vhigh</td>\n",
              "      <td>vhigh</td>\n",
              "      <td>2</td>\n",
              "      <td>2</td>\n",
              "      <td>med</td>\n",
              "      <td>low</td>\n",
              "      <td>unacc</td>\n",
              "    </tr>\n",
              "    <tr>\n",
              "      <th>4</th>\n",
              "      <td>vhigh</td>\n",
              "      <td>vhigh</td>\n",
              "      <td>2</td>\n",
              "      <td>2</td>\n",
              "      <td>med</td>\n",
              "      <td>med</td>\n",
              "      <td>unacc</td>\n",
              "    </tr>\n",
              "    <tr>\n",
              "      <th>...</th>\n",
              "      <td>...</td>\n",
              "      <td>...</td>\n",
              "      <td>...</td>\n",
              "      <td>...</td>\n",
              "      <td>...</td>\n",
              "      <td>...</td>\n",
              "      <td>...</td>\n",
              "    </tr>\n",
              "    <tr>\n",
              "      <th>1723</th>\n",
              "      <td>low</td>\n",
              "      <td>low</td>\n",
              "      <td>5more</td>\n",
              "      <td>more</td>\n",
              "      <td>med</td>\n",
              "      <td>med</td>\n",
              "      <td>good</td>\n",
              "    </tr>\n",
              "    <tr>\n",
              "      <th>1724</th>\n",
              "      <td>low</td>\n",
              "      <td>low</td>\n",
              "      <td>5more</td>\n",
              "      <td>more</td>\n",
              "      <td>med</td>\n",
              "      <td>high</td>\n",
              "      <td>vgood</td>\n",
              "    </tr>\n",
              "    <tr>\n",
              "      <th>1725</th>\n",
              "      <td>low</td>\n",
              "      <td>low</td>\n",
              "      <td>5more</td>\n",
              "      <td>more</td>\n",
              "      <td>big</td>\n",
              "      <td>low</td>\n",
              "      <td>unacc</td>\n",
              "    </tr>\n",
              "    <tr>\n",
              "      <th>1726</th>\n",
              "      <td>low</td>\n",
              "      <td>low</td>\n",
              "      <td>5more</td>\n",
              "      <td>more</td>\n",
              "      <td>big</td>\n",
              "      <td>med</td>\n",
              "      <td>good</td>\n",
              "    </tr>\n",
              "    <tr>\n",
              "      <th>1727</th>\n",
              "      <td>low</td>\n",
              "      <td>low</td>\n",
              "      <td>5more</td>\n",
              "      <td>more</td>\n",
              "      <td>big</td>\n",
              "      <td>high</td>\n",
              "      <td>vgood</td>\n",
              "    </tr>\n",
              "  </tbody>\n",
              "</table>\n",
              "<p>1728 rows × 7 columns</p>\n",
              "</div>\n",
              "      <button class=\"colab-df-convert\" onclick=\"convertToInteractive('df-e66b7db0-401b-4e41-97d7-582a9c6d7b92')\"\n",
              "              title=\"Convert this dataframe to an interactive table.\"\n",
              "              style=\"display:none;\">\n",
              "        \n",
              "  <svg xmlns=\"http://www.w3.org/2000/svg\" height=\"24px\"viewBox=\"0 0 24 24\"\n",
              "       width=\"24px\">\n",
              "    <path d=\"M0 0h24v24H0V0z\" fill=\"none\"/>\n",
              "    <path d=\"M18.56 5.44l.94 2.06.94-2.06 2.06-.94-2.06-.94-.94-2.06-.94 2.06-2.06.94zm-11 1L8.5 8.5l.94-2.06 2.06-.94-2.06-.94L8.5 2.5l-.94 2.06-2.06.94zm10 10l.94 2.06.94-2.06 2.06-.94-2.06-.94-.94-2.06-.94 2.06-2.06.94z\"/><path d=\"M17.41 7.96l-1.37-1.37c-.4-.4-.92-.59-1.43-.59-.52 0-1.04.2-1.43.59L10.3 9.45l-7.72 7.72c-.78.78-.78 2.05 0 2.83L4 21.41c.39.39.9.59 1.41.59.51 0 1.02-.2 1.41-.59l7.78-7.78 2.81-2.81c.8-.78.8-2.07 0-2.86zM5.41 20L4 18.59l7.72-7.72 1.47 1.35L5.41 20z\"/>\n",
              "  </svg>\n",
              "      </button>\n",
              "      \n",
              "  <style>\n",
              "    .colab-df-container {\n",
              "      display:flex;\n",
              "      flex-wrap:wrap;\n",
              "      gap: 12px;\n",
              "    }\n",
              "\n",
              "    .colab-df-convert {\n",
              "      background-color: #E8F0FE;\n",
              "      border: none;\n",
              "      border-radius: 50%;\n",
              "      cursor: pointer;\n",
              "      display: none;\n",
              "      fill: #1967D2;\n",
              "      height: 32px;\n",
              "      padding: 0 0 0 0;\n",
              "      width: 32px;\n",
              "    }\n",
              "\n",
              "    .colab-df-convert:hover {\n",
              "      background-color: #E2EBFA;\n",
              "      box-shadow: 0px 1px 2px rgba(60, 64, 67, 0.3), 0px 1px 3px 1px rgba(60, 64, 67, 0.15);\n",
              "      fill: #174EA6;\n",
              "    }\n",
              "\n",
              "    [theme=dark] .colab-df-convert {\n",
              "      background-color: #3B4455;\n",
              "      fill: #D2E3FC;\n",
              "    }\n",
              "\n",
              "    [theme=dark] .colab-df-convert:hover {\n",
              "      background-color: #434B5C;\n",
              "      box-shadow: 0px 1px 3px 1px rgba(0, 0, 0, 0.15);\n",
              "      filter: drop-shadow(0px 1px 2px rgba(0, 0, 0, 0.3));\n",
              "      fill: #FFFFFF;\n",
              "    }\n",
              "  </style>\n",
              "\n",
              "      <script>\n",
              "        const buttonEl =\n",
              "          document.querySelector('#df-e66b7db0-401b-4e41-97d7-582a9c6d7b92 button.colab-df-convert');\n",
              "        buttonEl.style.display =\n",
              "          google.colab.kernel.accessAllowed ? 'block' : 'none';\n",
              "\n",
              "        async function convertToInteractive(key) {\n",
              "          const element = document.querySelector('#df-e66b7db0-401b-4e41-97d7-582a9c6d7b92');\n",
              "          const dataTable =\n",
              "            await google.colab.kernel.invokeFunction('convertToInteractive',\n",
              "                                                     [key], {});\n",
              "          if (!dataTable) return;\n",
              "\n",
              "          const docLinkHtml = 'Like what you see? Visit the ' +\n",
              "            '<a target=\"_blank\" href=https://colab.research.google.com/notebooks/data_table.ipynb>data table notebook</a>'\n",
              "            + ' to learn more about interactive tables.';\n",
              "          element.innerHTML = '';\n",
              "          dataTable['output_type'] = 'display_data';\n",
              "          await google.colab.output.renderOutput(dataTable, element);\n",
              "          const docLink = document.createElement('div');\n",
              "          docLink.innerHTML = docLinkHtml;\n",
              "          element.appendChild(docLink);\n",
              "        }\n",
              "      </script>\n",
              "    </div>\n",
              "  </div>\n",
              "  "
            ]
          },
          "metadata": {},
          "execution_count": 48
        }
      ]
    },
    {
      "cell_type": "code",
      "source": [
        "data.dtypes"
      ],
      "metadata": {
        "colab": {
          "base_uri": "https://localhost:8080/"
        },
        "outputId": "f18f9232-61a3-43a6-bc3d-cf5de54b6017",
        "id": "DdHvn56aCnxv"
      },
      "execution_count": 49,
      "outputs": [
        {
          "output_type": "execute_result",
          "data": {
            "text/plain": [
              "buying      object\n",
              "maint       object\n",
              "doors       object\n",
              "persons     object\n",
              "lug_boot    object\n",
              "safety      object\n",
              "class       object\n",
              "dtype: object"
            ]
          },
          "metadata": {},
          "execution_count": 49
        }
      ]
    },
    {
      "cell_type": "code",
      "source": [
        "# test_df=data\n",
        "df,test_df=train_test_split(data,0.3)\n",
        "print(\"Size of Train Dataset: \",len(df),\"\\n\",\"Size of Test Dataset: \",len(test_df))\n",
        "\n",
        "\n",
        "# from sklearn.model_selection import train_test_split\n",
        "# df,test_df=test_train_split(df,test_size=0.3)"
      ],
      "metadata": {
        "colab": {
          "base_uri": "https://localhost:8080/"
        },
        "outputId": "a2cd5c48-e859-4c18-86eb-53ff597ca17f",
        "id": "E74fsYx_Cnxv"
      },
      "execution_count": 50,
      "outputs": [
        {
          "output_type": "stream",
          "name": "stdout",
          "text": [
            "Size of Train Dataset:  1210 \n",
            " Size of Test Dataset:  518\n"
          ]
        }
      ]
    },
    {
      "cell_type": "code",
      "source": [
        "print(df.count())\n",
        "print(sum(df[target_name].value_counts().to_dict().values()))"
      ],
      "metadata": {
        "colab": {
          "base_uri": "https://localhost:8080/"
        },
        "outputId": "ca73889b-d4c2-4a9a-ff4e-b1cf1063b341",
        "id": "dmYanuWWCnxw"
      },
      "execution_count": 51,
      "outputs": [
        {
          "output_type": "stream",
          "name": "stdout",
          "text": [
            "buying      1210\n",
            "maint       1210\n",
            "doors       1210\n",
            "persons     1210\n",
            "lug_boot    1210\n",
            "safety      1210\n",
            "class       1210\n",
            "dtype: int64\n",
            "1210\n"
          ]
        }
      ]
    },
    {
      "cell_type": "markdown",
      "source": [
        "##Descion Tree Training"
      ],
      "metadata": {
        "id": "zBGLWsbSCnxx"
      }
    },
    {
      "cell_type": "code",
      "source": [
        "d=DecisionTree(data,target_name,split_function=split_func)"
      ],
      "metadata": {
        "id": "aXgCOFfFCnxx"
      },
      "execution_count": 52,
      "outputs": []
    },
    {
      "cell_type": "code",
      "source": [
        "d.construct()"
      ],
      "metadata": {
        "id": "4-mqWEstCnxx"
      },
      "execution_count": 53,
      "outputs": []
    },
    {
      "cell_type": "code",
      "source": [
        "print(d.tree.no_leafs)"
      ],
      "metadata": {
        "colab": {
          "base_uri": "https://localhost:8080/"
        },
        "outputId": "2c9c1a1c-2db1-44b4-d77e-b1f5e05b7301",
        "id": "C7hdqKSmCnxy"
      },
      "execution_count": 54,
      "outputs": [
        {
          "output_type": "stream",
          "name": "stdout",
          "text": [
            "220\n"
          ]
        }
      ]
    },
    {
      "cell_type": "code",
      "source": [
        "d.get_rules()"
      ],
      "metadata": {
        "colab": {
          "base_uri": "https://localhost:8080/"
        },
        "outputId": "0bc87878-e8fe-46f7-d0a8-ee5b63fe51f8",
        "id": "Ut8lgAaKCnxy"
      },
      "execution_count": 55,
      "outputs": [
        {
          "output_type": "execute_result",
          "data": {
            "text/plain": [
              "['safety ->  ( low ) unacc',\n",
              " 'safety ->  ( high ) persons ->  ( 4 ) buying ->  ( high ) maint ->  ( high ) acc',\n",
              " 'safety ->  ( high ) persons ->  ( 4 ) buying ->  ( high ) maint ->  ( vhigh ) unacc',\n",
              " 'safety ->  ( high ) persons ->  ( 4 ) buying ->  ( high ) maint ->  ( med ) acc',\n",
              " 'safety ->  ( high ) persons ->  ( 4 ) buying ->  ( high ) maint ->  ( low ) acc',\n",
              " 'safety ->  ( high ) persons ->  ( 4 ) buying ->  ( med ) maint ->  ( high ) acc',\n",
              " 'safety ->  ( high ) persons ->  ( 4 ) buying ->  ( med ) maint ->  ( med ) lug_boot ->  ( small ) acc',\n",
              " 'safety ->  ( high ) persons ->  ( 4 ) buying ->  ( med ) maint ->  ( med ) lug_boot ->  ( med ) doors ->  ( 3 ) acc',\n",
              " 'safety ->  ( high ) persons ->  ( 4 ) buying ->  ( med ) maint ->  ( med ) lug_boot ->  ( med ) doors ->  ( 2 ) acc',\n",
              " 'safety ->  ( high ) persons ->  ( 4 ) buying ->  ( med ) maint ->  ( med ) lug_boot ->  ( med ) doors ->  ( 4 ) vgood',\n",
              " 'safety ->  ( high ) persons ->  ( 4 ) buying ->  ( med ) maint ->  ( med ) lug_boot ->  ( med ) doors ->  ( 5more ) vgood',\n",
              " 'safety ->  ( high ) persons ->  ( 4 ) buying ->  ( med ) maint ->  ( med ) lug_boot ->  ( big ) vgood',\n",
              " 'safety ->  ( high ) persons ->  ( 4 ) buying ->  ( med ) maint ->  ( low ) lug_boot ->  ( big ) vgood',\n",
              " 'safety ->  ( high ) persons ->  ( 4 ) buying ->  ( med ) maint ->  ( low ) lug_boot ->  ( med ) doors ->  ( 2 ) good',\n",
              " 'safety ->  ( high ) persons ->  ( 4 ) buying ->  ( med ) maint ->  ( low ) lug_boot ->  ( med ) doors ->  ( 3 ) good',\n",
              " 'safety ->  ( high ) persons ->  ( 4 ) buying ->  ( med ) maint ->  ( low ) lug_boot ->  ( med ) doors ->  ( 5more ) vgood',\n",
              " 'safety ->  ( high ) persons ->  ( 4 ) buying ->  ( med ) maint ->  ( low ) lug_boot ->  ( med ) doors ->  ( 4 ) vgood',\n",
              " 'safety ->  ( high ) persons ->  ( 4 ) buying ->  ( med ) maint ->  ( low ) lug_boot ->  ( small ) good',\n",
              " 'safety ->  ( high ) persons ->  ( 4 ) buying ->  ( med ) maint ->  ( vhigh ) acc',\n",
              " 'safety ->  ( high ) persons ->  ( 4 ) buying ->  ( low ) maint ->  ( high ) lug_boot ->  ( med ) doors ->  ( 4 ) vgood',\n",
              " 'safety ->  ( high ) persons ->  ( 4 ) buying ->  ( low ) maint ->  ( high ) lug_boot ->  ( med ) doors ->  ( 5more ) vgood',\n",
              " 'safety ->  ( high ) persons ->  ( 4 ) buying ->  ( low ) maint ->  ( high ) lug_boot ->  ( med ) doors ->  ( 3 ) acc',\n",
              " 'safety ->  ( high ) persons ->  ( 4 ) buying ->  ( low ) maint ->  ( high ) lug_boot ->  ( med ) doors ->  ( 2 ) acc',\n",
              " 'safety ->  ( high ) persons ->  ( 4 ) buying ->  ( low ) maint ->  ( high ) lug_boot ->  ( big ) vgood',\n",
              " 'safety ->  ( high ) persons ->  ( 4 ) buying ->  ( low ) maint ->  ( high ) lug_boot ->  ( small ) acc',\n",
              " 'safety ->  ( high ) persons ->  ( 4 ) buying ->  ( low ) maint ->  ( vhigh ) acc',\n",
              " 'safety ->  ( high ) persons ->  ( 4 ) buying ->  ( low ) maint ->  ( med ) lug_boot ->  ( big ) vgood',\n",
              " 'safety ->  ( high ) persons ->  ( 4 ) buying ->  ( low ) maint ->  ( med ) lug_boot ->  ( small ) good',\n",
              " 'safety ->  ( high ) persons ->  ( 4 ) buying ->  ( low ) maint ->  ( med ) lug_boot ->  ( med ) good',\n",
              " 'safety ->  ( high ) persons ->  ( 4 ) buying ->  ( low ) maint ->  ( low ) lug_boot ->  ( big ) vgood',\n",
              " 'safety ->  ( high ) persons ->  ( 4 ) buying ->  ( low ) maint ->  ( low ) lug_boot ->  ( small ) good',\n",
              " 'safety ->  ( high ) persons ->  ( 4 ) buying ->  ( low ) maint ->  ( low ) lug_boot ->  ( med ) good',\n",
              " 'safety ->  ( high ) persons ->  ( 4 ) buying ->  ( vhigh ) maint ->  ( high ) unacc',\n",
              " 'safety ->  ( high ) persons ->  ( 4 ) buying ->  ( vhigh ) maint ->  ( low ) acc',\n",
              " 'safety ->  ( high ) persons ->  ( 4 ) buying ->  ( vhigh ) maint ->  ( vhigh ) unacc',\n",
              " 'safety ->  ( high ) persons ->  ( 4 ) buying ->  ( vhigh ) maint ->  ( med ) acc',\n",
              " 'safety ->  ( high ) persons ->  ( more ) buying ->  ( vhigh ) maint ->  ( low ) acc',\n",
              " 'safety ->  ( high ) persons ->  ( more ) buying ->  ( vhigh ) maint ->  ( vhigh ) unacc',\n",
              " 'safety ->  ( high ) persons ->  ( more ) buying ->  ( vhigh ) maint ->  ( high ) unacc',\n",
              " 'safety ->  ( high ) persons ->  ( more ) buying ->  ( vhigh ) maint ->  ( med ) lug_boot ->  ( med ) acc',\n",
              " 'safety ->  ( high ) persons ->  ( more ) buying ->  ( vhigh ) maint ->  ( med ) lug_boot ->  ( big ) acc',\n",
              " 'safety ->  ( high ) persons ->  ( more ) buying ->  ( vhigh ) maint ->  ( med ) lug_boot ->  ( small ) doors ->  ( 2 ) unacc',\n",
              " 'safety ->  ( high ) persons ->  ( more ) buying ->  ( vhigh ) maint ->  ( med ) lug_boot ->  ( small ) doors ->  ( 3 ) acc',\n",
              " 'safety ->  ( high ) persons ->  ( more ) buying ->  ( vhigh ) maint ->  ( med ) lug_boot ->  ( small ) doors ->  ( 5more ) acc',\n",
              " 'safety ->  ( high ) persons ->  ( more ) buying ->  ( low ) maint ->  ( high ) lug_boot ->  ( big ) vgood',\n",
              " 'safety ->  ( high ) persons ->  ( more ) buying ->  ( low ) maint ->  ( high ) lug_boot ->  ( med ) doors ->  ( 3 ) vgood',\n",
              " 'safety ->  ( high ) persons ->  ( more ) buying ->  ( low ) maint ->  ( high ) lug_boot ->  ( med ) doors ->  ( 2 ) acc',\n",
              " 'safety ->  ( high ) persons ->  ( more ) buying ->  ( low ) maint ->  ( high ) lug_boot ->  ( med ) doors ->  ( 4 ) vgood',\n",
              " 'safety ->  ( high ) persons ->  ( more ) buying ->  ( low ) maint ->  ( high ) lug_boot ->  ( small ) doors ->  ( 2 ) unacc',\n",
              " 'safety ->  ( high ) persons ->  ( more ) buying ->  ( low ) maint ->  ( high ) lug_boot ->  ( small ) doors ->  ( 3 ) acc',\n",
              " 'safety ->  ( high ) persons ->  ( more ) buying ->  ( low ) maint ->  ( high ) lug_boot ->  ( small ) doors ->  ( 5more ) acc',\n",
              " 'safety ->  ( high ) persons ->  ( more ) buying ->  ( low ) maint ->  ( high ) lug_boot ->  ( small ) doors ->  ( 4 ) acc',\n",
              " 'safety ->  ( high ) persons ->  ( more ) buying ->  ( low ) maint ->  ( vhigh ) doors ->  ( 2 ) lug_boot ->  ( small ) unacc',\n",
              " 'safety ->  ( high ) persons ->  ( more ) buying ->  ( low ) maint ->  ( vhigh ) doors ->  ( 2 ) lug_boot ->  ( med ) acc',\n",
              " 'safety ->  ( high ) persons ->  ( more ) buying ->  ( low ) maint ->  ( vhigh ) doors ->  ( 4 ) acc',\n",
              " 'safety ->  ( high ) persons ->  ( more ) buying ->  ( low ) maint ->  ( vhigh ) doors ->  ( 3 ) acc',\n",
              " 'safety ->  ( high ) persons ->  ( more ) buying ->  ( low ) maint ->  ( vhigh ) doors ->  ( 5more ) acc',\n",
              " 'safety ->  ( high ) persons ->  ( more ) buying ->  ( low ) maint ->  ( med ) lug_boot ->  ( small ) doors ->  ( 5more ) good',\n",
              " 'safety ->  ( high ) persons ->  ( more ) buying ->  ( low ) maint ->  ( med ) lug_boot ->  ( small ) doors ->  ( 4 ) good',\n",
              " 'safety ->  ( high ) persons ->  ( more ) buying ->  ( low ) maint ->  ( med ) lug_boot ->  ( small ) doors ->  ( 2 ) unacc',\n",
              " 'safety ->  ( high ) persons ->  ( more ) buying ->  ( low ) maint ->  ( med ) lug_boot ->  ( med ) doors ->  ( 4 ) vgood',\n",
              " 'safety ->  ( high ) persons ->  ( more ) buying ->  ( low ) maint ->  ( med ) lug_boot ->  ( med ) doors ->  ( 2 ) good',\n",
              " 'safety ->  ( high ) persons ->  ( more ) buying ->  ( low ) maint ->  ( med ) lug_boot ->  ( med ) doors ->  ( 3 ) vgood',\n",
              " 'safety ->  ( high ) persons ->  ( more ) buying ->  ( low ) maint ->  ( med ) lug_boot ->  ( big ) vgood',\n",
              " 'safety ->  ( high ) persons ->  ( more ) buying ->  ( low ) maint ->  ( low ) doors ->  ( 4 ) vgood',\n",
              " 'safety ->  ( high ) persons ->  ( more ) buying ->  ( low ) maint ->  ( low ) doors ->  ( 5more ) good',\n",
              " 'safety ->  ( high ) persons ->  ( more ) buying ->  ( low ) maint ->  ( low ) doors ->  ( 2 ) lug_boot ->  ( med ) good',\n",
              " 'safety ->  ( high ) persons ->  ( more ) buying ->  ( low ) maint ->  ( low ) doors ->  ( 2 ) lug_boot ->  ( small ) unacc',\n",
              " 'safety ->  ( high ) persons ->  ( more ) buying ->  ( low ) maint ->  ( low ) doors ->  ( 3 ) good',\n",
              " 'safety ->  ( high ) persons ->  ( more ) buying ->  ( high ) maint ->  ( med ) acc',\n",
              " 'safety ->  ( high ) persons ->  ( more ) buying ->  ( high ) maint ->  ( low ) acc',\n",
              " 'safety ->  ( high ) persons ->  ( more ) buying ->  ( high ) maint ->  ( vhigh ) unacc',\n",
              " 'safety ->  ( high ) persons ->  ( more ) buying ->  ( high ) maint ->  ( high ) doors ->  ( 4 ) acc',\n",
              " 'safety ->  ( high ) persons ->  ( more ) buying ->  ( high ) maint ->  ( high ) doors ->  ( 5more ) acc',\n",
              " 'safety ->  ( high ) persons ->  ( more ) buying ->  ( high ) maint ->  ( high ) doors ->  ( 3 ) acc',\n",
              " 'safety ->  ( high ) persons ->  ( more ) buying ->  ( high ) maint ->  ( high ) doors ->  ( 2 ) lug_boot ->  ( med ) acc',\n",
              " 'safety ->  ( high ) persons ->  ( more ) buying ->  ( high ) maint ->  ( high ) doors ->  ( 2 ) lug_boot ->  ( big ) acc',\n",
              " 'safety ->  ( high ) persons ->  ( more ) buying ->  ( high ) maint ->  ( high ) doors ->  ( 2 ) lug_boot ->  ( small ) unacc',\n",
              " 'safety ->  ( high ) persons ->  ( more ) buying ->  ( med ) maint ->  ( high ) doors ->  ( 2 ) lug_boot ->  ( small ) unacc',\n",
              " 'safety ->  ( high ) persons ->  ( more ) buying ->  ( med ) maint ->  ( high ) doors ->  ( 2 ) lug_boot ->  ( big ) acc',\n",
              " 'safety ->  ( high ) persons ->  ( more ) buying ->  ( med ) maint ->  ( high ) doors ->  ( 5more ) acc',\n",
              " 'safety ->  ( high ) persons ->  ( more ) buying ->  ( med ) maint ->  ( high ) doors ->  ( 4 ) acc',\n",
              " 'safety ->  ( high ) persons ->  ( more ) buying ->  ( med ) maint ->  ( high ) doors ->  ( 3 ) acc',\n",
              " 'safety ->  ( high ) persons ->  ( more ) buying ->  ( med ) maint ->  ( vhigh ) lug_boot ->  ( small ) doors ->  ( 2 ) unacc',\n",
              " 'safety ->  ( high ) persons ->  ( more ) buying ->  ( med ) maint ->  ( vhigh ) lug_boot ->  ( small ) doors ->  ( 4 ) acc',\n",
              " 'safety ->  ( high ) persons ->  ( more ) buying ->  ( med ) maint ->  ( vhigh ) lug_boot ->  ( small ) doors ->  ( 3 ) acc',\n",
              " 'safety ->  ( high ) persons ->  ( more ) buying ->  ( med ) maint ->  ( vhigh ) lug_boot ->  ( med ) acc',\n",
              " 'safety ->  ( high ) persons ->  ( more ) buying ->  ( med ) maint ->  ( vhigh ) lug_boot ->  ( big ) acc',\n",
              " 'safety ->  ( high ) persons ->  ( more ) buying ->  ( med ) maint ->  ( low ) doors ->  ( 5more ) lug_boot ->  ( med ) vgood',\n",
              " 'safety ->  ( high ) persons ->  ( more ) buying ->  ( med ) maint ->  ( low ) doors ->  ( 5more ) lug_boot ->  ( big ) vgood',\n",
              " 'safety ->  ( high ) persons ->  ( more ) buying ->  ( med ) maint ->  ( low ) doors ->  ( 5more ) lug_boot ->  ( small ) good',\n",
              " 'safety ->  ( high ) persons ->  ( more ) buying ->  ( med ) maint ->  ( low ) doors ->  ( 2 ) lug_boot ->  ( med ) good',\n",
              " 'safety ->  ( high ) persons ->  ( more ) buying ->  ( med ) maint ->  ( low ) doors ->  ( 2 ) lug_boot ->  ( small ) unacc',\n",
              " 'safety ->  ( high ) persons ->  ( more ) buying ->  ( med ) maint ->  ( low ) doors ->  ( 3 ) vgood',\n",
              " 'safety ->  ( high ) persons ->  ( more ) buying ->  ( med ) maint ->  ( low ) doors ->  ( 4 ) vgood',\n",
              " 'safety ->  ( high ) persons ->  ( more ) buying ->  ( med ) maint ->  ( med ) lug_boot ->  ( small ) acc',\n",
              " 'safety ->  ( high ) persons ->  ( more ) buying ->  ( med ) maint ->  ( med ) lug_boot ->  ( big ) vgood',\n",
              " 'safety ->  ( high ) persons ->  ( more ) buying ->  ( med ) maint ->  ( med ) lug_boot ->  ( med ) doors ->  ( 5more ) vgood',\n",
              " 'safety ->  ( high ) persons ->  ( more ) buying ->  ( med ) maint ->  ( med ) lug_boot ->  ( med ) doors ->  ( 4 ) vgood',\n",
              " 'safety ->  ( high ) persons ->  ( more ) buying ->  ( med ) maint ->  ( med ) lug_boot ->  ( med ) doors ->  ( 2 ) acc',\n",
              " 'safety ->  ( high ) persons ->  ( 2 ) unacc',\n",
              " 'safety ->  ( med ) persons ->  ( 4 ) buying ->  ( vhigh ) maint ->  ( med ) doors ->  ( 4 ) acc',\n",
              " 'safety ->  ( med ) persons ->  ( 4 ) buying ->  ( vhigh ) maint ->  ( med ) doors ->  ( 2 ) lug_boot ->  ( big ) acc',\n",
              " 'safety ->  ( med ) persons ->  ( 4 ) buying ->  ( vhigh ) maint ->  ( med ) doors ->  ( 2 ) lug_boot ->  ( small ) unacc',\n",
              " 'safety ->  ( med ) persons ->  ( 4 ) buying ->  ( vhigh ) maint ->  ( med ) doors ->  ( 3 ) unacc',\n",
              " 'safety ->  ( med ) persons ->  ( 4 ) buying ->  ( vhigh ) maint ->  ( med ) doors ->  ( 5more ) acc',\n",
              " 'safety ->  ( med ) persons ->  ( 4 ) buying ->  ( vhigh ) maint ->  ( high ) unacc',\n",
              " 'safety ->  ( med ) persons ->  ( 4 ) buying ->  ( vhigh ) maint ->  ( low ) lug_boot ->  ( med ) doors ->  ( 4 ) acc',\n",
              " 'safety ->  ( med ) persons ->  ( 4 ) buying ->  ( vhigh ) maint ->  ( low ) lug_boot ->  ( med ) doors ->  ( 5more ) acc',\n",
              " 'safety ->  ( med ) persons ->  ( 4 ) buying ->  ( vhigh ) maint ->  ( low ) lug_boot ->  ( med ) doors ->  ( 2 ) unacc',\n",
              " 'safety ->  ( med ) persons ->  ( 4 ) buying ->  ( vhigh ) maint ->  ( low ) lug_boot ->  ( big ) acc',\n",
              " 'safety ->  ( med ) persons ->  ( 4 ) buying ->  ( vhigh ) maint ->  ( low ) lug_boot ->  ( small ) unacc',\n",
              " 'safety ->  ( med ) persons ->  ( 4 ) buying ->  ( vhigh ) maint ->  ( vhigh ) unacc',\n",
              " 'safety ->  ( med ) persons ->  ( 4 ) buying ->  ( low ) maint ->  ( low ) lug_boot ->  ( small ) acc',\n",
              " 'safety ->  ( med ) persons ->  ( 4 ) buying ->  ( low ) maint ->  ( low ) lug_boot ->  ( big ) good',\n",
              " 'safety ->  ( med ) persons ->  ( 4 ) buying ->  ( low ) maint ->  ( low ) lug_boot ->  ( med ) doors ->  ( 5more ) good',\n",
              " 'safety ->  ( med ) persons ->  ( 4 ) buying ->  ( low ) maint ->  ( low ) lug_boot ->  ( med ) doors ->  ( 4 ) good',\n",
              " 'safety ->  ( med ) persons ->  ( 4 ) buying ->  ( low ) maint ->  ( low ) lug_boot ->  ( med ) doors ->  ( 2 ) acc',\n",
              " 'safety ->  ( med ) persons ->  ( 4 ) buying ->  ( low ) maint ->  ( med ) acc',\n",
              " 'safety ->  ( med ) persons ->  ( 4 ) buying ->  ( low ) maint ->  ( high ) acc',\n",
              " 'safety ->  ( med ) persons ->  ( 4 ) buying ->  ( low ) maint ->  ( vhigh ) lug_boot ->  ( big ) acc',\n",
              " 'safety ->  ( med ) persons ->  ( 4 ) buying ->  ( low ) maint ->  ( vhigh ) lug_boot ->  ( med ) doors ->  ( 2 ) unacc',\n",
              " 'safety ->  ( med ) persons ->  ( 4 ) buying ->  ( low ) maint ->  ( vhigh ) lug_boot ->  ( med ) doors ->  ( 5more ) acc',\n",
              " 'safety ->  ( med ) persons ->  ( 4 ) buying ->  ( low ) maint ->  ( vhigh ) lug_boot ->  ( small ) unacc',\n",
              " 'safety ->  ( med ) persons ->  ( 4 ) buying ->  ( high ) lug_boot ->  ( med ) doors ->  ( 4 ) maint ->  ( med ) acc',\n",
              " 'safety ->  ( med ) persons ->  ( 4 ) buying ->  ( high ) lug_boot ->  ( med ) doors ->  ( 4 ) maint ->  ( low ) acc',\n",
              " 'safety ->  ( med ) persons ->  ( 4 ) buying ->  ( high ) lug_boot ->  ( med ) doors ->  ( 4 ) maint ->  ( vhigh ) unacc',\n",
              " 'safety ->  ( med ) persons ->  ( 4 ) buying ->  ( high ) lug_boot ->  ( med ) doors ->  ( 5more ) maint ->  ( vhigh ) unacc',\n",
              " 'safety ->  ( med ) persons ->  ( 4 ) buying ->  ( high ) lug_boot ->  ( med ) doors ->  ( 5more ) maint ->  ( med ) acc',\n",
              " 'safety ->  ( med ) persons ->  ( 4 ) buying ->  ( high ) lug_boot ->  ( med ) doors ->  ( 5more ) maint ->  ( high ) acc',\n",
              " 'safety ->  ( med ) persons ->  ( 4 ) buying ->  ( high ) lug_boot ->  ( med ) doors ->  ( 5more ) maint ->  ( low ) acc',\n",
              " 'safety ->  ( med ) persons ->  ( 4 ) buying ->  ( high ) lug_boot ->  ( med ) doors ->  ( 3 ) unacc',\n",
              " 'safety ->  ( med ) persons ->  ( 4 ) buying ->  ( high ) lug_boot ->  ( med ) doors ->  ( 2 ) unacc',\n",
              " 'safety ->  ( med ) persons ->  ( 4 ) buying ->  ( high ) lug_boot ->  ( small ) unacc',\n",
              " 'safety ->  ( med ) persons ->  ( 4 ) buying ->  ( high ) lug_boot ->  ( big ) maint ->  ( low ) acc',\n",
              " 'safety ->  ( med ) persons ->  ( 4 ) buying ->  ( high ) lug_boot ->  ( big ) maint ->  ( high ) acc',\n",
              " 'safety ->  ( med ) persons ->  ( 4 ) buying ->  ( high ) lug_boot ->  ( big ) maint ->  ( vhigh ) unacc',\n",
              " 'safety ->  ( med ) persons ->  ( 4 ) buying ->  ( high ) lug_boot ->  ( big ) maint ->  ( med ) acc',\n",
              " 'safety ->  ( med ) persons ->  ( 4 ) buying ->  ( med ) maint ->  ( high ) lug_boot ->  ( small ) unacc',\n",
              " 'safety ->  ( med ) persons ->  ( 4 ) buying ->  ( med ) maint ->  ( high ) lug_boot ->  ( med ) doors ->  ( 5more ) acc',\n",
              " 'safety ->  ( med ) persons ->  ( 4 ) buying ->  ( med ) maint ->  ( high ) lug_boot ->  ( med ) doors ->  ( 2 ) unacc',\n",
              " 'safety ->  ( med ) persons ->  ( 4 ) buying ->  ( med ) maint ->  ( high ) lug_boot ->  ( med ) doors ->  ( 3 ) unacc',\n",
              " 'safety ->  ( med ) persons ->  ( 4 ) buying ->  ( med ) maint ->  ( high ) lug_boot ->  ( big ) acc',\n",
              " 'safety ->  ( med ) persons ->  ( 4 ) buying ->  ( med ) maint ->  ( low ) lug_boot ->  ( small ) acc',\n",
              " 'safety ->  ( med ) persons ->  ( 4 ) buying ->  ( med ) maint ->  ( low ) lug_boot ->  ( big ) good',\n",
              " 'safety ->  ( med ) persons ->  ( 4 ) buying ->  ( med ) maint ->  ( low ) lug_boot ->  ( med ) doors ->  ( 4 ) good',\n",
              " 'safety ->  ( med ) persons ->  ( 4 ) buying ->  ( med ) maint ->  ( low ) lug_boot ->  ( med ) doors ->  ( 5more ) good',\n",
              " 'safety ->  ( med ) persons ->  ( 4 ) buying ->  ( med ) maint ->  ( low ) lug_boot ->  ( med ) doors ->  ( 2 ) acc',\n",
              " 'safety ->  ( med ) persons ->  ( 4 ) buying ->  ( med ) maint ->  ( med ) acc',\n",
              " 'safety ->  ( med ) persons ->  ( 4 ) buying ->  ( med ) maint ->  ( vhigh ) lug_boot ->  ( med ) doors ->  ( 2 ) unacc',\n",
              " 'safety ->  ( med ) persons ->  ( 4 ) buying ->  ( med ) maint ->  ( vhigh ) lug_boot ->  ( med ) doors ->  ( 4 ) acc',\n",
              " 'safety ->  ( med ) persons ->  ( 4 ) buying ->  ( med ) maint ->  ( vhigh ) lug_boot ->  ( med ) doors ->  ( 5more ) acc',\n",
              " 'safety ->  ( med ) persons ->  ( 4 ) buying ->  ( med ) maint ->  ( vhigh ) lug_boot ->  ( big ) acc',\n",
              " 'safety ->  ( med ) persons ->  ( 4 ) buying ->  ( med ) maint ->  ( vhigh ) lug_boot ->  ( small ) unacc',\n",
              " 'safety ->  ( med ) persons ->  ( 2 ) unacc',\n",
              " 'safety ->  ( med ) persons ->  ( more ) lug_boot ->  ( big ) buying ->  ( high ) maint ->  ( low ) acc',\n",
              " 'safety ->  ( med ) persons ->  ( more ) lug_boot ->  ( big ) buying ->  ( high ) maint ->  ( high ) acc',\n",
              " 'safety ->  ( med ) persons ->  ( more ) lug_boot ->  ( big ) buying ->  ( high ) maint ->  ( vhigh ) unacc',\n",
              " 'safety ->  ( med ) persons ->  ( more ) lug_boot ->  ( big ) buying ->  ( high ) maint ->  ( med ) acc',\n",
              " 'safety ->  ( med ) persons ->  ( more ) lug_boot ->  ( big ) buying ->  ( vhigh ) maint ->  ( vhigh ) unacc',\n",
              " 'safety ->  ( med ) persons ->  ( more ) lug_boot ->  ( big ) buying ->  ( vhigh ) maint ->  ( med ) acc',\n",
              " 'safety ->  ( med ) persons ->  ( more ) lug_boot ->  ( big ) buying ->  ( vhigh ) maint ->  ( high ) unacc',\n",
              " 'safety ->  ( med ) persons ->  ( more ) lug_boot ->  ( big ) buying ->  ( vhigh ) maint ->  ( low ) acc',\n",
              " 'safety ->  ( med ) persons ->  ( more ) lug_boot ->  ( big ) buying ->  ( med ) maint ->  ( low ) good',\n",
              " 'safety ->  ( med ) persons ->  ( more ) lug_boot ->  ( big ) buying ->  ( med ) maint ->  ( med ) acc',\n",
              " 'safety ->  ( med ) persons ->  ( more ) lug_boot ->  ( big ) buying ->  ( med ) maint ->  ( vhigh ) acc',\n",
              " 'safety ->  ( med ) persons ->  ( more ) lug_boot ->  ( big ) buying ->  ( med ) maint ->  ( high ) acc',\n",
              " 'safety ->  ( med ) persons ->  ( more ) lug_boot ->  ( big ) buying ->  ( low ) maint ->  ( vhigh ) acc',\n",
              " 'safety ->  ( med ) persons ->  ( more ) lug_boot ->  ( big ) buying ->  ( low ) maint ->  ( high ) acc',\n",
              " 'safety ->  ( med ) persons ->  ( more ) lug_boot ->  ( big ) buying ->  ( low ) maint ->  ( low ) good',\n",
              " 'safety ->  ( med ) persons ->  ( more ) lug_boot ->  ( big ) buying ->  ( low ) maint ->  ( med ) good',\n",
              " 'safety ->  ( med ) persons ->  ( more ) lug_boot ->  ( small ) buying ->  ( vhigh ) unacc',\n",
              " 'safety ->  ( med ) persons ->  ( more ) lug_boot ->  ( small ) buying ->  ( med ) doors ->  ( 4 ) maint ->  ( low ) acc',\n",
              " 'safety ->  ( med ) persons ->  ( more ) lug_boot ->  ( small ) buying ->  ( med ) doors ->  ( 4 ) maint ->  ( vhigh ) unacc',\n",
              " 'safety ->  ( med ) persons ->  ( more ) lug_boot ->  ( small ) buying ->  ( med ) doors ->  ( 2 ) unacc',\n",
              " 'safety ->  ( med ) persons ->  ( more ) lug_boot ->  ( small ) buying ->  ( med ) doors ->  ( 5more ) acc',\n",
              " 'safety ->  ( med ) persons ->  ( more ) lug_boot ->  ( small ) buying ->  ( med ) doors ->  ( 3 ) maint ->  ( vhigh ) unacc',\n",
              " 'safety ->  ( med ) persons ->  ( more ) lug_boot ->  ( small ) buying ->  ( med ) doors ->  ( 3 ) maint ->  ( high ) unacc',\n",
              " 'safety ->  ( med ) persons ->  ( more ) lug_boot ->  ( small ) buying ->  ( med ) doors ->  ( 3 ) maint ->  ( low ) acc',\n",
              " 'safety ->  ( med ) persons ->  ( more ) lug_boot ->  ( small ) buying ->  ( med ) doors ->  ( 3 ) maint ->  ( med ) acc',\n",
              " 'safety ->  ( med ) persons ->  ( more ) lug_boot ->  ( small ) buying ->  ( high ) unacc',\n",
              " 'safety ->  ( med ) persons ->  ( more ) lug_boot ->  ( small ) buying ->  ( low ) maint ->  ( vhigh ) unacc',\n",
              " 'safety ->  ( med ) persons ->  ( more ) lug_boot ->  ( small ) buying ->  ( low ) maint ->  ( low ) acc',\n",
              " 'safety ->  ( med ) persons ->  ( more ) lug_boot ->  ( small ) buying ->  ( low ) maint ->  ( med ) acc',\n",
              " 'safety ->  ( med ) persons ->  ( more ) lug_boot ->  ( small ) buying ->  ( low ) maint ->  ( high ) doors ->  ( 3 ) acc',\n",
              " 'safety ->  ( med ) persons ->  ( more ) lug_boot ->  ( small ) buying ->  ( low ) maint ->  ( high ) doors ->  ( 4 ) acc',\n",
              " 'safety ->  ( med ) persons ->  ( more ) lug_boot ->  ( small ) buying ->  ( low ) maint ->  ( high ) doors ->  ( 2 ) unacc',\n",
              " 'safety ->  ( med ) persons ->  ( more ) lug_boot ->  ( small ) buying ->  ( low ) maint ->  ( high ) doors ->  ( 5more ) acc',\n",
              " 'safety ->  ( med ) persons ->  ( more ) lug_boot ->  ( med ) maint ->  ( med ) doors ->  ( 3 ) acc',\n",
              " 'safety ->  ( med ) persons ->  ( more ) lug_boot ->  ( med ) maint ->  ( med ) doors ->  ( 2 ) buying ->  ( low ) acc',\n",
              " 'safety ->  ( med ) persons ->  ( more ) lug_boot ->  ( med ) maint ->  ( med ) doors ->  ( 2 ) buying ->  ( vhigh ) unacc',\n",
              " 'safety ->  ( med ) persons ->  ( more ) lug_boot ->  ( med ) maint ->  ( med ) doors ->  ( 4 ) acc',\n",
              " 'safety ->  ( med ) persons ->  ( more ) lug_boot ->  ( med ) maint ->  ( med ) doors ->  ( 5more ) buying ->  ( high ) acc',\n",
              " 'safety ->  ( med ) persons ->  ( more ) lug_boot ->  ( med ) maint ->  ( med ) doors ->  ( 5more ) buying ->  ( vhigh ) acc',\n",
              " 'safety ->  ( med ) persons ->  ( more ) lug_boot ->  ( med ) maint ->  ( med ) doors ->  ( 5more ) buying ->  ( med ) acc',\n",
              " 'safety ->  ( med ) persons ->  ( more ) lug_boot ->  ( med ) maint ->  ( med ) doors ->  ( 5more ) buying ->  ( low ) good',\n",
              " 'safety ->  ( med ) persons ->  ( more ) lug_boot ->  ( med ) maint ->  ( low ) buying ->  ( vhigh ) doors ->  ( 3 ) acc',\n",
              " 'safety ->  ( med ) persons ->  ( more ) lug_boot ->  ( med ) maint ->  ( low ) buying ->  ( vhigh ) doors ->  ( 2 ) unacc',\n",
              " 'safety ->  ( med ) persons ->  ( more ) lug_boot ->  ( med ) maint ->  ( low ) buying ->  ( vhigh ) doors ->  ( 5more ) acc',\n",
              " 'safety ->  ( med ) persons ->  ( more ) lug_boot ->  ( med ) maint ->  ( low ) buying ->  ( med ) doors ->  ( 5more ) good',\n",
              " 'safety ->  ( med ) persons ->  ( more ) lug_boot ->  ( med ) maint ->  ( low ) buying ->  ( med ) doors ->  ( 3 ) good',\n",
              " 'safety ->  ( med ) persons ->  ( more ) lug_boot ->  ( med ) maint ->  ( low ) buying ->  ( med ) doors ->  ( 2 ) acc',\n",
              " 'safety ->  ( med ) persons ->  ( more ) lug_boot ->  ( med ) maint ->  ( low ) buying ->  ( med ) doors ->  ( 4 ) good',\n",
              " 'safety ->  ( med ) persons ->  ( more ) lug_boot ->  ( med ) maint ->  ( low ) buying ->  ( low ) doors ->  ( 4 ) good',\n",
              " 'safety ->  ( med ) persons ->  ( more ) lug_boot ->  ( med ) maint ->  ( low ) buying ->  ( low ) doors ->  ( 2 ) acc',\n",
              " 'safety ->  ( med ) persons ->  ( more ) lug_boot ->  ( med ) maint ->  ( low ) buying ->  ( low ) doors ->  ( 5more ) good',\n",
              " 'safety ->  ( med ) persons ->  ( more ) lug_boot ->  ( med ) maint ->  ( low ) buying ->  ( high ) acc',\n",
              " 'safety ->  ( med ) persons ->  ( more ) lug_boot ->  ( med ) maint ->  ( vhigh ) buying ->  ( vhigh ) unacc',\n",
              " 'safety ->  ( med ) persons ->  ( more ) lug_boot ->  ( med ) maint ->  ( vhigh ) buying ->  ( high ) unacc',\n",
              " 'safety ->  ( med ) persons ->  ( more ) lug_boot ->  ( med ) maint ->  ( vhigh ) buying ->  ( med ) acc',\n",
              " 'safety ->  ( med ) persons ->  ( more ) lug_boot ->  ( med ) maint ->  ( vhigh ) buying ->  ( low ) doors ->  ( 2 ) unacc',\n",
              " 'safety ->  ( med ) persons ->  ( more ) lug_boot ->  ( med ) maint ->  ( vhigh ) buying ->  ( low ) doors ->  ( 3 ) acc',\n",
              " 'safety ->  ( med ) persons ->  ( more ) lug_boot ->  ( med ) maint ->  ( vhigh ) buying ->  ( low ) doors ->  ( 5more ) acc',\n",
              " 'safety ->  ( med ) persons ->  ( more ) lug_boot ->  ( med ) maint ->  ( high ) buying ->  ( med ) doors ->  ( 2 ) unacc',\n",
              " 'safety ->  ( med ) persons ->  ( more ) lug_boot ->  ( med ) maint ->  ( high ) buying ->  ( med ) doors ->  ( 5more ) acc',\n",
              " 'safety ->  ( med ) persons ->  ( more ) lug_boot ->  ( med ) maint ->  ( high ) buying ->  ( med ) doors ->  ( 4 ) acc',\n",
              " 'safety ->  ( med ) persons ->  ( more ) lug_boot ->  ( med ) maint ->  ( high ) buying ->  ( med ) doors ->  ( 3 ) acc',\n",
              " 'safety ->  ( med ) persons ->  ( more ) lug_boot ->  ( med ) maint ->  ( high ) buying ->  ( vhigh ) unacc',\n",
              " 'safety ->  ( med ) persons ->  ( more ) lug_boot ->  ( med ) maint ->  ( high ) buying ->  ( low ) acc',\n",
              " 'safety ->  ( med ) persons ->  ( more ) lug_boot ->  ( med ) maint ->  ( high ) buying ->  ( high ) acc']"
            ]
          },
          "metadata": {},
          "execution_count": 55
        }
      ]
    },
    {
      "cell_type": "code",
      "source": [
        "d.tree.printt()"
      ],
      "metadata": {
        "colab": {
          "base_uri": "https://localhost:8080/"
        },
        "outputId": "da8dc960-a8f0-4f63-8127-a1aa7f9fd087",
        "id": "gluMALrFCnxz"
      },
      "execution_count": 56,
      "outputs": [
        {
          "output_type": "stream",
          "name": "stdout",
          "text": [
            "| safety\n",
            "|----- ( low) unacc\n",
            "|----- ( high) persons\n",
            "|---------- ( 4) buying\n",
            "|--------------- ( high) maint\n",
            "|-------------------- ( high) acc\n",
            "|-------------------- ( vhigh) unacc\n",
            "|-------------------- ( med) acc\n",
            "|-------------------- ( low) acc\n",
            "|--------------- ( med) maint5\n",
            "|-------------------- ( high) acc\n",
            "|-------------------- ( med) lug_boot\n",
            "|------------------------- ( small) acc\n",
            "|------------------------- ( med) doors\n",
            "|------------------------------ ( 3) acc\n",
            "|------------------------------ ( 2) acc\n",
            "|------------------------------ ( 4) vgood\n",
            "|------------------------------ ( 5more) vgood\n",
            "|------------------------- ( big) vgood\n",
            "|-------------------- ( low) lug_boot13\n",
            "|------------------------- ( big) vgood\n",
            "|------------------------- ( med) doors15\n",
            "|------------------------------ ( 2) good\n",
            "|------------------------------ ( 3) good\n",
            "|------------------------------ ( 5more) vgood\n",
            "|------------------------------ ( 4) vgood\n",
            "|------------------------- ( small) good\n",
            "|-------------------- ( vhigh) acc\n",
            "|--------------- ( low) maint22\n",
            "|-------------------- ( high) lug_boot23\n",
            "|------------------------- ( med) doors24\n",
            "|------------------------------ ( 4) vgood\n",
            "|------------------------------ ( 5more) vgood\n",
            "|------------------------------ ( 3) acc\n",
            "|------------------------------ ( 2) acc\n",
            "|------------------------- ( big) vgood\n",
            "|------------------------- ( small) acc\n",
            "|-------------------- ( vhigh) acc\n",
            "|-------------------- ( med) lug_boot32\n",
            "|------------------------- ( big) vgood\n",
            "|------------------------- ( small) good\n",
            "|------------------------- ( med) good\n",
            "|-------------------- ( low) lug_boot36\n",
            "|------------------------- ( big) vgood\n",
            "|------------------------- ( small) good\n",
            "|------------------------- ( med) good\n",
            "|--------------- ( vhigh) maint40\n",
            "|-------------------- ( high) unacc\n",
            "|-------------------- ( low) acc\n",
            "|-------------------- ( vhigh) unacc\n",
            "|-------------------- ( med) acc\n",
            "|---------- ( more) buying45\n",
            "|--------------- ( vhigh) maint46\n",
            "|-------------------- ( low) acc\n",
            "|-------------------- ( vhigh) unacc\n",
            "|-------------------- ( high) unacc\n",
            "|-------------------- ( med) lug_boot50\n",
            "|------------------------- ( med) acc\n",
            "|------------------------- ( big) acc\n",
            "|------------------------- ( small) doors53\n",
            "|------------------------------ ( 2) unacc\n",
            "|------------------------------ ( 3) acc\n",
            "|------------------------------ ( 5more) acc\n",
            "|--------------- ( low) maint57\n",
            "|-------------------- ( high) lug_boot58\n",
            "|------------------------- ( big) vgood\n",
            "|------------------------- ( med) doors60\n",
            "|------------------------------ ( 3) vgood\n",
            "|------------------------------ ( 2) acc\n",
            "|------------------------------ ( 4) vgood\n",
            "|------------------------- ( small) doors64\n",
            "|------------------------------ ( 2) unacc\n",
            "|------------------------------ ( 3) acc\n",
            "|------------------------------ ( 5more) acc\n",
            "|------------------------------ ( 4) acc\n",
            "|-------------------- ( vhigh) doors69\n",
            "|------------------------- ( 2) lug_boot70\n",
            "|------------------------------ ( small) unacc\n",
            "|------------------------------ ( med) acc\n",
            "|------------------------- ( 4) acc\n",
            "|------------------------- ( 3) acc\n",
            "|------------------------- ( 5more) acc\n",
            "|-------------------- ( med) lug_boot76\n",
            "|------------------------- ( small) doors77\n",
            "|------------------------------ ( 5more) good\n",
            "|------------------------------ ( 4) good\n",
            "|------------------------------ ( 2) unacc\n",
            "|------------------------- ( med) doors81\n",
            "|------------------------------ ( 4) vgood\n",
            "|------------------------------ ( 2) good\n",
            "|------------------------------ ( 3) vgood\n",
            "|------------------------- ( big) vgood\n",
            "|-------------------- ( low) doors86\n",
            "|------------------------- ( 4) vgood\n",
            "|------------------------- ( 5more) good\n",
            "|------------------------- ( 2) lug_boot89\n",
            "|------------------------------ ( med) good\n",
            "|------------------------------ ( small) unacc\n",
            "|------------------------- ( 3) good\n",
            "|--------------- ( high) maint93\n",
            "|-------------------- ( med) acc\n",
            "|-------------------- ( low) acc\n",
            "|-------------------- ( vhigh) unacc\n",
            "|-------------------- ( high) doors97\n",
            "|------------------------- ( 4) acc\n",
            "|------------------------- ( 5more) acc\n",
            "|------------------------- ( 3) acc\n",
            "|------------------------- ( 2) lug_boot101\n",
            "|------------------------------ ( med) acc\n",
            "|------------------------------ ( big) acc\n",
            "|------------------------------ ( small) unacc\n",
            "|--------------- ( med) maint105\n",
            "|-------------------- ( high) doors106\n",
            "|------------------------- ( 2) lug_boot107\n",
            "|------------------------------ ( small) unacc\n",
            "|------------------------------ ( big) acc\n",
            "|------------------------- ( 5more) acc\n",
            "|------------------------- ( 4) acc\n",
            "|------------------------- ( 3) acc\n",
            "|-------------------- ( vhigh) lug_boot113\n",
            "|------------------------- ( small) doors114\n",
            "|------------------------------ ( 2) unacc\n",
            "|------------------------------ ( 4) acc\n",
            "|------------------------------ ( 3) acc\n",
            "|------------------------- ( med) acc\n",
            "|------------------------- ( big) acc\n",
            "|-------------------- ( low) doors120\n",
            "|------------------------- ( 5more) lug_boot121\n",
            "|------------------------------ ( med) vgood\n",
            "|------------------------------ ( big) vgood\n",
            "|------------------------------ ( small) good\n",
            "|------------------------- ( 2) lug_boot125\n",
            "|------------------------------ ( med) good\n",
            "|------------------------------ ( small) unacc\n",
            "|------------------------- ( 3) vgood\n",
            "|------------------------- ( 4) vgood\n",
            "|-------------------- ( med) lug_boot130\n",
            "|------------------------- ( small) acc\n",
            "|------------------------- ( big) vgood\n",
            "|------------------------- ( med) doors133\n",
            "|------------------------------ ( 5more) vgood\n",
            "|------------------------------ ( 4) vgood\n",
            "|------------------------------ ( 2) acc\n",
            "|---------- ( 2) unacc\n",
            "|----- ( med) persons138\n",
            "|---------- ( 4) buying139\n",
            "|--------------- ( vhigh) maint140\n",
            "|-------------------- ( med) doors141\n",
            "|------------------------- ( 4) acc\n",
            "|------------------------- ( 2) lug_boot143\n",
            "|------------------------------ ( big) acc\n",
            "|------------------------------ ( small) unacc\n",
            "|------------------------- ( 3) unacc\n",
            "|------------------------- ( 5more) acc\n",
            "|-------------------- ( high) unacc\n",
            "|-------------------- ( low) lug_boot149\n",
            "|------------------------- ( med) doors150\n",
            "|------------------------------ ( 4) acc\n",
            "|------------------------------ ( 5more) acc\n",
            "|------------------------------ ( 2) unacc\n",
            "|------------------------- ( big) acc\n",
            "|------------------------- ( small) unacc\n",
            "|-------------------- ( vhigh) unacc\n",
            "|--------------- ( low) maint157\n",
            "|-------------------- ( low) lug_boot158\n",
            "|------------------------- ( small) acc\n",
            "|------------------------- ( big) good\n",
            "|------------------------- ( med) doors161\n",
            "|------------------------------ ( 5more) good\n",
            "|------------------------------ ( 4) good\n",
            "|------------------------------ ( 2) acc\n",
            "|-------------------- ( med) acc\n",
            "|-------------------- ( high) acc\n",
            "|-------------------- ( vhigh) lug_boot167\n",
            "|------------------------- ( big) acc\n",
            "|------------------------- ( med) doors169\n",
            "|------------------------------ ( 2) unacc\n",
            "|------------------------------ ( 5more) acc\n",
            "|------------------------- ( small) unacc\n",
            "|--------------- ( high) lug_boot173\n",
            "|-------------------- ( med) doors174\n",
            "|------------------------- ( 4) maint175\n",
            "|------------------------------ ( med) acc\n",
            "|------------------------------ ( low) acc\n",
            "|------------------------------ ( vhigh) unacc\n",
            "|------------------------- ( 5more) maint179\n",
            "|------------------------------ ( vhigh) unacc\n",
            "|------------------------------ ( med) acc\n",
            "|------------------------------ ( high) acc\n",
            "|------------------------------ ( low) acc\n",
            "|------------------------- ( 3) unacc\n",
            "|------------------------- ( 2) unacc\n",
            "|-------------------- ( small) unacc\n",
            "|-------------------- ( big) maint187\n",
            "|------------------------- ( low) acc\n",
            "|------------------------- ( high) acc\n",
            "|------------------------- ( vhigh) unacc\n",
            "|------------------------- ( med) acc\n",
            "|--------------- ( med) maint192\n",
            "|-------------------- ( high) lug_boot193\n",
            "|------------------------- ( small) unacc\n",
            "|------------------------- ( med) doors195\n",
            "|------------------------------ ( 5more) acc\n",
            "|------------------------------ ( 2) unacc\n",
            "|------------------------------ ( 3) unacc\n",
            "|------------------------- ( big) acc\n",
            "|-------------------- ( low) lug_boot200\n",
            "|------------------------- ( small) acc\n",
            "|------------------------- ( big) good\n",
            "|------------------------- ( med) doors203\n",
            "|------------------------------ ( 4) good\n",
            "|------------------------------ ( 5more) good\n",
            "|------------------------------ ( 2) acc\n",
            "|-------------------- ( med) acc\n",
            "|-------------------- ( vhigh) lug_boot208\n",
            "|------------------------- ( med) doors209\n",
            "|------------------------------ ( 2) unacc\n",
            "|------------------------------ ( 4) acc\n",
            "|------------------------------ ( 5more) acc\n",
            "|------------------------- ( big) acc\n",
            "|------------------------- ( small) unacc\n",
            "|---------- ( 2) unacc\n",
            "|---------- ( more) lug_boot216\n",
            "|--------------- ( big) buying217\n",
            "|-------------------- ( high) maint218\n",
            "|------------------------- ( low) acc\n",
            "|------------------------- ( high) acc\n",
            "|------------------------- ( vhigh) unacc\n",
            "|------------------------- ( med) acc\n",
            "|-------------------- ( vhigh) maint223\n",
            "|------------------------- ( vhigh) unacc\n",
            "|------------------------- ( med) acc\n",
            "|------------------------- ( high) unacc\n",
            "|------------------------- ( low) acc\n",
            "|-------------------- ( med) maint228\n",
            "|------------------------- ( low) good\n",
            "|------------------------- ( med) acc\n",
            "|------------------------- ( vhigh) acc\n",
            "|------------------------- ( high) acc\n",
            "|-------------------- ( low) maint233\n",
            "|------------------------- ( vhigh) acc\n",
            "|------------------------- ( high) acc\n",
            "|------------------------- ( low) good\n",
            "|------------------------- ( med) good\n",
            "|--------------- ( small) buying238\n",
            "|-------------------- ( vhigh) unacc\n",
            "|-------------------- ( med) doors240\n",
            "|------------------------- ( 4) maint241\n",
            "|------------------------------ ( low) acc\n",
            "|------------------------------ ( vhigh) unacc\n",
            "|------------------------- ( 2) unacc\n",
            "|------------------------- ( 5more) acc\n",
            "|------------------------- ( 3) maint246\n",
            "|------------------------------ ( vhigh) unacc\n",
            "|------------------------------ ( high) unacc\n",
            "|------------------------------ ( low) acc\n",
            "|------------------------------ ( med) acc\n",
            "|-------------------- ( high) unacc\n",
            "|-------------------- ( low) maint252\n",
            "|------------------------- ( vhigh) unacc\n",
            "|------------------------- ( low) acc\n",
            "|------------------------- ( med) acc\n",
            "|------------------------- ( high) doors256\n",
            "|------------------------------ ( 3) acc\n",
            "|------------------------------ ( 4) acc\n",
            "|------------------------------ ( 2) unacc\n",
            "|------------------------------ ( 5more) acc\n",
            "|--------------- ( med) maint261\n",
            "|-------------------- ( med) doors262\n",
            "|------------------------- ( 3) acc\n",
            "|------------------------- ( 2) buying264\n",
            "|------------------------------ ( low) acc\n",
            "|------------------------------ ( vhigh) unacc\n",
            "|------------------------- ( 4) acc\n",
            "|------------------------- ( 5more) buying268\n",
            "|------------------------------ ( high) acc\n",
            "|------------------------------ ( vhigh) acc\n",
            "|------------------------------ ( med) acc\n",
            "|------------------------------ ( low) good\n",
            "|-------------------- ( low) buying273\n",
            "|------------------------- ( vhigh) doors274\n",
            "|------------------------------ ( 3) acc\n",
            "|------------------------------ ( 2) unacc\n",
            "|------------------------------ ( 5more) acc\n",
            "|------------------------- ( med) doors278\n",
            "|------------------------------ ( 5more) good\n",
            "|------------------------------ ( 3) good\n",
            "|------------------------------ ( 2) acc\n",
            "|------------------------------ ( 4) good\n",
            "|------------------------- ( low) doors283\n",
            "|------------------------------ ( 4) good\n",
            "|------------------------------ ( 2) acc\n",
            "|------------------------------ ( 5more) good\n",
            "|------------------------- ( high) acc\n",
            "|-------------------- ( vhigh) buying288\n",
            "|------------------------- ( vhigh) unacc\n",
            "|------------------------- ( high) unacc\n",
            "|------------------------- ( med) acc\n",
            "|------------------------- ( low) doors292\n",
            "|------------------------------ ( 2) unacc\n",
            "|------------------------------ ( 3) acc\n",
            "|------------------------------ ( 5more) acc\n",
            "|-------------------- ( high) buying296\n",
            "|------------------------- ( med) doors297\n",
            "|------------------------------ ( 2) unacc\n",
            "|------------------------------ ( 5more) acc\n",
            "|------------------------------ ( 4) acc\n",
            "|------------------------------ ( 3) acc\n",
            "|------------------------- ( vhigh) unacc\n",
            "|------------------------- ( low) acc\n",
            "|------------------------- ( high) acc\n"
          ]
        }
      ]
    },
    {
      "cell_type": "markdown",
      "source": [
        "##Graphviz Representation of Decision Tree"
      ],
      "metadata": {
        "id": "OlKWphBvCnxz"
      }
    },
    {
      "cell_type": "code",
      "source": [
        "f = open(\"Cars.dot\", \"w\")\n",
        "f.write(str(d.getGraph()))\n",
        "f.close()"
      ],
      "metadata": {
        "id": "Zwr9X0wBOnFl"
      },
      "execution_count": 57,
      "outputs": []
    },
    {
      "cell_type": "code",
      "source": [
        "d.getGraph()"
      ],
      "metadata": {
        "colab": {
          "base_uri": "https://localhost:8080/",
          "height": 0
        },
        "outputId": "1f297a49-b737-483b-fd35-eff3c91f8d74",
        "id": "pyVTomPvCnx0"
      },
      "execution_count": 58,
      "outputs": [
        {
          "output_type": "execute_result",
          "data": {
            "text/plain": [
              "<graphviz.dot.Digraph at 0x7f0fa2c53cd0>"
            ],
            "image/svg+xml": "<?xml version=\"1.0\" encoding=\"UTF-8\" standalone=\"no\"?>\n<!DOCTYPE svg PUBLIC \"-//W3C//DTD SVG 1.1//EN\"\n \"http://www.w3.org/Graphics/SVG/1.1/DTD/svg11.dtd\">\n<!-- Generated by graphviz version 2.40.1 (20161225.0304)\n -->\n<!-- Title: %3 Pages: 1 -->\n<svg width=\"11084pt\" height=\"566pt\"\n viewBox=\"0.00 0.00 11084.00 566.00\" xmlns=\"http://www.w3.org/2000/svg\" xmlns:xlink=\"http://www.w3.org/1999/xlink\">\n<g id=\"graph0\" class=\"graph\" transform=\"scale(1 1) rotate(0) translate(4 562)\">\n<title>%3</title>\n<polygon fill=\"#ffffff\" stroke=\"transparent\" points=\"-4,4 -4,-562 11080,-562 11080,4 -4,4\"/>\n<!-- safety -->\n<g id=\"node1\" class=\"node\">\n<title>safety</title>\n<ellipse fill=\"none\" stroke=\"#000000\" cx=\"3126\" cy=\"-540\" rx=\"32.4942\" ry=\"18\"/>\n<text text-anchor=\"middle\" x=\"3126\" y=\"-536.3\" font-family=\"Times,serif\" font-size=\"14.00\" fill=\"#000000\">safety</text>\n</g>\n<!-- unacc0 -->\n<g id=\"node2\" class=\"node\">\n<title>unacc0</title>\n<ellipse fill=\"none\" stroke=\"#000000\" cx=\"3037\" cy=\"-453\" rx=\"32.4942\" ry=\"18\"/>\n<text text-anchor=\"middle\" x=\"3037\" y=\"-449.3\" font-family=\"Times,serif\" font-size=\"14.00\" fill=\"#000000\">unacc</text>\n</g>\n<!-- safety&#45;&gt;unacc0 -->\n<g id=\"edge1\" class=\"edge\">\n<title>safety&#45;&gt;unacc0</title>\n<path fill=\"none\" stroke=\"#000000\" d=\"M3109.676,-524.0429C3095.8758,-510.5527 3075.934,-491.059 3060.4292,-475.9027\"/>\n<polygon fill=\"#000000\" stroke=\"#000000\" points=\"3062.8181,-473.3434 3053.2205,-468.856 3057.9249,-478.3491 3062.8181,-473.3434\"/>\n<text text-anchor=\"middle\" x=\"3098\" y=\"-492.8\" font-family=\"Times,serif\" font-size=\"14.00\" fill=\"#000000\">low</text>\n</g>\n<!-- persons -->\n<g id=\"node3\" class=\"node\">\n<title>persons</title>\n<ellipse fill=\"none\" stroke=\"#000000\" cx=\"3126\" cy=\"-453\" rx=\"38.9931\" ry=\"18\"/>\n<text text-anchor=\"middle\" x=\"3126\" y=\"-449.3\" font-family=\"Times,serif\" font-size=\"14.00\" fill=\"#000000\">persons</text>\n</g>\n<!-- safety&#45;&gt;persons -->\n<g id=\"edge2\" class=\"edge\">\n<title>safety&#45;&gt;persons</title>\n<path fill=\"none\" stroke=\"#000000\" d=\"M3126,-521.9735C3126,-510.1918 3126,-494.5607 3126,-481.1581\"/>\n<polygon fill=\"#000000\" stroke=\"#000000\" points=\"3129.5001,-481.0033 3126,-471.0034 3122.5001,-481.0034 3129.5001,-481.0033\"/>\n<text text-anchor=\"middle\" x=\"3139.5\" y=\"-492.8\" font-family=\"Times,serif\" font-size=\"14.00\" fill=\"#000000\">high</text>\n</g>\n<!-- persons138 -->\n<g id=\"node145\" class=\"node\">\n<title>persons138</title>\n<ellipse fill=\"none\" stroke=\"#000000\" cx=\"6039\" cy=\"-453\" rx=\"38.9931\" ry=\"18\"/>\n<text text-anchor=\"middle\" x=\"6039\" y=\"-449.3\" font-family=\"Times,serif\" font-size=\"14.00\" fill=\"#000000\">persons</text>\n</g>\n<!-- safety&#45;&gt;persons138 -->\n<g id=\"edge144\" class=\"edge\">\n<title>safety&#45;&gt;persons138</title>\n<path fill=\"none\" stroke=\"#000000\" d=\"M3158.7144,-539.0229C3452.4872,-530.2491 5633.9402,-465.0976 5989.9423,-454.4652\"/>\n<polygon fill=\"#000000\" stroke=\"#000000\" points=\"5990.0477,-457.9637 5999.9387,-454.1666 5989.8387,-450.9668 5990.0477,-457.9637\"/>\n<text text-anchor=\"middle\" x=\"4769.5\" y=\"-492.8\" font-family=\"Times,serif\" font-size=\"14.00\" fill=\"#000000\">med</text>\n</g>\n<!-- buying -->\n<g id=\"node4\" class=\"node\">\n<title>buying</title>\n<ellipse fill=\"none\" stroke=\"#000000\" cx=\"1086\" cy=\"-366\" rx=\"37.8943\" ry=\"18\"/>\n<text text-anchor=\"middle\" x=\"1086\" y=\"-362.3\" font-family=\"Times,serif\" font-size=\"14.00\" fill=\"#000000\">buying</text>\n</g>\n<!-- persons&#45;&gt;buying -->\n<g id=\"edge3\" class=\"edge\">\n<title>persons&#45;&gt;buying</title>\n<path fill=\"none\" stroke=\"#000000\" d=\"M3097.5073,-440.5942C3091.1946,-438.3341 3084.459,-436.2871 3078,-435 2882.1026,-395.9627 1419.0975,-371.2128 1134.0562,-366.7342\"/>\n<polygon fill=\"#000000\" stroke=\"#000000\" points=\"1134.0865,-363.2344 1124.033,-366.5775 1133.977,-370.2335 1134.0865,-363.2344\"/>\n<text text-anchor=\"middle\" x=\"2872\" y=\"-405.8\" font-family=\"Times,serif\" font-size=\"14.00\" fill=\"#000000\">4</text>\n</g>\n<!-- buying45 -->\n<g id=\"node52\" class=\"node\">\n<title>buying45</title>\n<ellipse fill=\"none\" stroke=\"#000000\" cx=\"3065\" cy=\"-366\" rx=\"37.8943\" ry=\"18\"/>\n<text text-anchor=\"middle\" x=\"3065\" y=\"-362.3\" font-family=\"Times,serif\" font-size=\"14.00\" fill=\"#000000\">buying</text>\n</g>\n<!-- persons&#45;&gt;buying45 -->\n<g id=\"edge51\" class=\"edge\">\n<title>persons&#45;&gt;buying45</title>\n<path fill=\"none\" stroke=\"#000000\" d=\"M3113.9484,-435.8116C3105.0923,-423.1808 3092.9122,-405.8092 3082.9178,-391.5549\"/>\n<polygon fill=\"#000000\" stroke=\"#000000\" points=\"3085.6334,-389.3313 3077.0266,-383.1527 3079.9018,-393.3499 3085.6334,-389.3313\"/>\n<text text-anchor=\"middle\" x=\"3115\" y=\"-405.8\" font-family=\"Times,serif\" font-size=\"14.00\" fill=\"#000000\">more</text>\n</g>\n<!-- unacc137 -->\n<g id=\"node144\" class=\"node\">\n<title>unacc137</title>\n<ellipse fill=\"none\" stroke=\"#000000\" cx=\"3153\" cy=\"-366\" rx=\"32.4942\" ry=\"18\"/>\n<text text-anchor=\"middle\" x=\"3153\" y=\"-362.3\" font-family=\"Times,serif\" font-size=\"14.00\" fill=\"#000000\">unacc</text>\n</g>\n<!-- persons&#45;&gt;unacc137 -->\n<g id=\"edge143\" class=\"edge\">\n<title>persons&#45;&gt;unacc137</title>\n<path fill=\"none\" stroke=\"#000000\" d=\"M3131.5944,-434.9735C3135.287,-423.0751 3140.198,-407.2508 3144.3846,-393.7606\"/>\n<polygon fill=\"#000000\" stroke=\"#000000\" points=\"3147.7914,-394.5914 3147.4127,-384.0034 3141.106,-392.5166 3147.7914,-394.5914\"/>\n<text text-anchor=\"middle\" x=\"3146\" y=\"-405.8\" font-family=\"Times,serif\" font-size=\"14.00\" fill=\"#000000\">2</text>\n</g>\n<!-- maint -->\n<g id=\"node5\" class=\"node\">\n<title>maint</title>\n<ellipse fill=\"none\" stroke=\"#000000\" cx=\"181\" cy=\"-279\" rx=\"31.6951\" ry=\"18\"/>\n<text text-anchor=\"middle\" x=\"181\" y=\"-275.3\" font-family=\"Times,serif\" font-size=\"14.00\" fill=\"#000000\">maint</text>\n</g>\n<!-- buying&#45;&gt;maint -->\n<g id=\"edge4\" class=\"edge\">\n<title>buying&#45;&gt;maint</title>\n<path fill=\"none\" stroke=\"#000000\" d=\"M1048.8357,-362.4273C903.8051,-348.4851 376.3796,-297.7823 223.0651,-283.0438\"/>\n<polygon fill=\"#000000\" stroke=\"#000000\" points=\"222.9725,-279.5189 212.6834,-282.0458 222.3026,-286.4868 222.9725,-279.5189\"/>\n<text text-anchor=\"middle\" x=\"701.5\" y=\"-318.8\" font-family=\"Times,serif\" font-size=\"14.00\" fill=\"#000000\">high</text>\n</g>\n<!-- maint5 -->\n<g id=\"node10\" class=\"node\">\n<title>maint5</title>\n<ellipse fill=\"none\" stroke=\"#000000\" cx=\"545\" cy=\"-279\" rx=\"31.6951\" ry=\"18\"/>\n<text text-anchor=\"middle\" x=\"545\" y=\"-275.3\" font-family=\"Times,serif\" font-size=\"14.00\" fill=\"#000000\">maint</text>\n</g>\n<!-- buying&#45;&gt;maint5 -->\n<g id=\"edge9\" class=\"edge\">\n<title>buying&#45;&gt;maint5</title>\n<path fill=\"none\" stroke=\"#000000\" d=\"M1050.0845,-360.2243C953.3445,-344.6672 687.7478,-301.9557 585.6884,-285.5432\"/>\n<polygon fill=\"#000000\" stroke=\"#000000\" points=\"586.1942,-282.0797 575.7653,-283.9475 585.0827,-288.9909 586.1942,-282.0797\"/>\n<text text-anchor=\"middle\" x=\"860.5\" y=\"-318.8\" font-family=\"Times,serif\" font-size=\"14.00\" fill=\"#000000\">med</text>\n</g>\n<!-- maint22 -->\n<g id=\"node29\" class=\"node\">\n<title>maint22</title>\n<ellipse fill=\"none\" stroke=\"#000000\" cx=\"1086\" cy=\"-279\" rx=\"31.6951\" ry=\"18\"/>\n<text text-anchor=\"middle\" x=\"1086\" y=\"-275.3\" font-family=\"Times,serif\" font-size=\"14.00\" fill=\"#000000\">maint</text>\n</g>\n<!-- buying&#45;&gt;maint22 -->\n<g id=\"edge28\" class=\"edge\">\n<title>buying&#45;&gt;maint22</title>\n<path fill=\"none\" stroke=\"#000000\" d=\"M1086,-347.9735C1086,-336.1918 1086,-320.5607 1086,-307.1581\"/>\n<polygon fill=\"#000000\" stroke=\"#000000\" points=\"1089.5001,-307.0033 1086,-297.0034 1082.5001,-307.0034 1089.5001,-307.0033\"/>\n<text text-anchor=\"middle\" x=\"1097\" y=\"-318.8\" font-family=\"Times,serif\" font-size=\"14.00\" fill=\"#000000\">low</text>\n</g>\n<!-- maint40 -->\n<g id=\"node47\" class=\"node\">\n<title>maint40</title>\n<ellipse fill=\"none\" stroke=\"#000000\" cx=\"1447\" cy=\"-279\" rx=\"31.6951\" ry=\"18\"/>\n<text text-anchor=\"middle\" x=\"1447\" y=\"-275.3\" font-family=\"Times,serif\" font-size=\"14.00\" fill=\"#000000\">maint</text>\n</g>\n<!-- buying&#45;&gt;maint40 -->\n<g id=\"edge46\" class=\"edge\">\n<title>buying&#45;&gt;maint40</title>\n<path fill=\"none\" stroke=\"#000000\" d=\"M1119.962,-357.8153C1187.0461,-341.6482 1336.2162,-305.6986 1407.537,-288.5105\"/>\n<polygon fill=\"#000000\" stroke=\"#000000\" points=\"1408.5742,-291.8608 1417.4758,-286.1152 1406.9341,-285.0556 1408.5742,-291.8608\"/>\n<text text-anchor=\"middle\" x=\"1306\" y=\"-318.8\" font-family=\"Times,serif\" font-size=\"14.00\" fill=\"#000000\">vhigh</text>\n</g>\n<!-- acc1 -->\n<g id=\"node6\" class=\"node\">\n<title>acc1</title>\n<ellipse fill=\"none\" stroke=\"#000000\" cx=\"27\" cy=\"-192\" rx=\"27\" ry=\"18\"/>\n<text text-anchor=\"middle\" x=\"27\" y=\"-188.3\" font-family=\"Times,serif\" font-size=\"14.00\" fill=\"#000000\">acc</text>\n</g>\n<!-- maint&#45;&gt;acc1 -->\n<g id=\"edge5\" class=\"edge\">\n<title>maint&#45;&gt;acc1</title>\n<path fill=\"none\" stroke=\"#000000\" d=\"M154.4794,-268.7223C138.3532,-262.1064 117.5543,-252.9119 100,-243 83.7663,-233.8338 66.6289,-221.9871 53.0411,-212.0189\"/>\n<polygon fill=\"#000000\" stroke=\"#000000\" points=\"54.7811,-208.9509 44.6697,-205.7867 50.601,-214.5658 54.7811,-208.9509\"/>\n<text text-anchor=\"middle\" x=\"113.5\" y=\"-231.8\" font-family=\"Times,serif\" font-size=\"14.00\" fill=\"#000000\">high</text>\n</g>\n<!-- unacc2 -->\n<g id=\"node7\" class=\"node\">\n<title>unacc2</title>\n<ellipse fill=\"none\" stroke=\"#000000\" cx=\"104\" cy=\"-192\" rx=\"32.4942\" ry=\"18\"/>\n<text text-anchor=\"middle\" x=\"104\" y=\"-188.3\" font-family=\"Times,serif\" font-size=\"14.00\" fill=\"#000000\">unacc</text>\n</g>\n<!-- maint&#45;&gt;unacc2 -->\n<g id=\"edge6\" class=\"edge\">\n<title>maint&#45;&gt;unacc2</title>\n<path fill=\"none\" stroke=\"#000000\" d=\"M163.7857,-263.781C157.0652,-257.5642 149.4428,-250.1613 143,-243 135.7314,-234.9208 128.3423,-225.5979 121.9789,-217.1506\"/>\n<polygon fill=\"#000000\" stroke=\"#000000\" points=\"124.7627,-215.0286 115.9998,-209.0737 119.1365,-219.1936 124.7627,-215.0286\"/>\n<text text-anchor=\"middle\" x=\"160\" y=\"-231.8\" font-family=\"Times,serif\" font-size=\"14.00\" fill=\"#000000\">vhigh</text>\n</g>\n<!-- acc3 -->\n<g id=\"node8\" class=\"node\">\n<title>acc3</title>\n<ellipse fill=\"none\" stroke=\"#000000\" cx=\"181\" cy=\"-192\" rx=\"27\" ry=\"18\"/>\n<text text-anchor=\"middle\" x=\"181\" y=\"-188.3\" font-family=\"Times,serif\" font-size=\"14.00\" fill=\"#000000\">acc</text>\n</g>\n<!-- maint&#45;&gt;acc3 -->\n<g id=\"edge7\" class=\"edge\">\n<title>maint&#45;&gt;acc3</title>\n<path fill=\"none\" stroke=\"#000000\" d=\"M181,-260.9735C181,-249.1918 181,-233.5607 181,-220.1581\"/>\n<polygon fill=\"#000000\" stroke=\"#000000\" points=\"184.5001,-220.0033 181,-210.0034 177.5001,-220.0034 184.5001,-220.0033\"/>\n<text text-anchor=\"middle\" x=\"193.5\" y=\"-231.8\" font-family=\"Times,serif\" font-size=\"14.00\" fill=\"#000000\">med</text>\n</g>\n<!-- acc4 -->\n<g id=\"node9\" class=\"node\">\n<title>acc4</title>\n<ellipse fill=\"none\" stroke=\"#000000\" cx=\"253\" cy=\"-192\" rx=\"27\" ry=\"18\"/>\n<text text-anchor=\"middle\" x=\"253\" y=\"-188.3\" font-family=\"Times,serif\" font-size=\"14.00\" fill=\"#000000\">acc</text>\n</g>\n<!-- maint&#45;&gt;acc4 -->\n<g id=\"edge8\" class=\"edge\">\n<title>maint&#45;&gt;acc4</title>\n<path fill=\"none\" stroke=\"#000000\" d=\"M194.5426,-262.636C205.4725,-249.429 221.0008,-230.6657 233.3062,-215.7967\"/>\n<polygon fill=\"#000000\" stroke=\"#000000\" points=\"236.082,-217.9322 239.7613,-207.9967 230.6892,-213.4692 236.082,-217.9322\"/>\n<text text-anchor=\"middle\" x=\"233\" y=\"-231.8\" font-family=\"Times,serif\" font-size=\"14.00\" fill=\"#000000\">low</text>\n</g>\n<!-- acc6 -->\n<g id=\"node11\" class=\"node\">\n<title>acc6</title>\n<ellipse fill=\"none\" stroke=\"#000000\" cx=\"325\" cy=\"-192\" rx=\"27\" ry=\"18\"/>\n<text text-anchor=\"middle\" x=\"325\" y=\"-188.3\" font-family=\"Times,serif\" font-size=\"14.00\" fill=\"#000000\">acc</text>\n</g>\n<!-- maint5&#45;&gt;acc6 -->\n<g id=\"edge10\" class=\"edge\">\n<title>maint5&#45;&gt;acc6</title>\n<path fill=\"none\" stroke=\"#000000\" d=\"M517.4168,-269.9408C481.0225,-257.6983 415.231,-234.5611 361,-210 359.2336,-209.2 357.4272,-208.362 355.6101,-207.5035\"/>\n<polygon fill=\"#000000\" stroke=\"#000000\" points=\"357.0978,-204.3351 346.5726,-203.1227 354.0445,-210.6341 357.0978,-204.3351\"/>\n<text text-anchor=\"middle\" x=\"454.5\" y=\"-231.8\" font-family=\"Times,serif\" font-size=\"14.00\" fill=\"#000000\">high</text>\n</g>\n<!-- lug_boot -->\n<g id=\"node12\" class=\"node\">\n<title>lug_boot</title>\n<ellipse fill=\"none\" stroke=\"#000000\" cx=\"415\" cy=\"-192\" rx=\"44.6926\" ry=\"18\"/>\n<text text-anchor=\"middle\" x=\"415\" y=\"-188.3\" font-family=\"Times,serif\" font-size=\"14.00\" fill=\"#000000\">lug_boot</text>\n</g>\n<!-- maint5&#45;&gt;lug_boot -->\n<g id=\"edge11\" class=\"edge\">\n<title>maint5&#45;&gt;lug_boot</title>\n<path fill=\"none\" stroke=\"#000000\" d=\"M524.4011,-265.2146C503.4865,-251.2179 470.824,-229.3591 446.6276,-213.1662\"/>\n<polygon fill=\"#000000\" stroke=\"#000000\" points=\"448.391,-210.1348 438.1337,-207.4818 444.4977,-215.9523 448.391,-210.1348\"/>\n<text text-anchor=\"middle\" x=\"500.5\" y=\"-231.8\" font-family=\"Times,serif\" font-size=\"14.00\" fill=\"#000000\">med</text>\n</g>\n<!-- lug_boot13 -->\n<g id=\"node20\" class=\"node\">\n<title>lug_boot13</title>\n<ellipse fill=\"none\" stroke=\"#000000\" cx=\"545\" cy=\"-192\" rx=\"44.6926\" ry=\"18\"/>\n<text text-anchor=\"middle\" x=\"545\" y=\"-188.3\" font-family=\"Times,serif\" font-size=\"14.00\" fill=\"#000000\">lug_boot</text>\n</g>\n<!-- maint5&#45;&gt;lug_boot13 -->\n<g id=\"edge19\" class=\"edge\">\n<title>maint5&#45;&gt;lug_boot13</title>\n<path fill=\"none\" stroke=\"#000000\" d=\"M545,-260.9735C545,-249.1918 545,-233.5607 545,-220.1581\"/>\n<polygon fill=\"#000000\" stroke=\"#000000\" points=\"548.5001,-220.0033 545,-210.0034 541.5001,-220.0034 548.5001,-220.0033\"/>\n<text text-anchor=\"middle\" x=\"556\" y=\"-231.8\" font-family=\"Times,serif\" font-size=\"14.00\" fill=\"#000000\">low</text>\n</g>\n<!-- acc21 -->\n<g id=\"node28\" class=\"node\">\n<title>acc21</title>\n<ellipse fill=\"none\" stroke=\"#000000\" cx=\"635\" cy=\"-192\" rx=\"27\" ry=\"18\"/>\n<text text-anchor=\"middle\" x=\"635\" y=\"-188.3\" font-family=\"Times,serif\" font-size=\"14.00\" fill=\"#000000\">acc</text>\n</g>\n<!-- maint5&#45;&gt;acc21 -->\n<g id=\"edge27\" class=\"edge\">\n<title>maint5&#45;&gt;acc21</title>\n<path fill=\"none\" stroke=\"#000000\" d=\"M561.0902,-263.4461C575.3421,-249.6693 596.303,-229.4071 612.2661,-213.9761\"/>\n<polygon fill=\"#000000\" stroke=\"#000000\" points=\"614.8925,-216.3052 619.6499,-206.8385 610.0274,-211.2723 614.8925,-216.3052\"/>\n<text text-anchor=\"middle\" x=\"613\" y=\"-231.8\" font-family=\"Times,serif\" font-size=\"14.00\" fill=\"#000000\">vhigh</text>\n</g>\n<!-- acc7 -->\n<g id=\"node13\" class=\"node\">\n<title>acc7</title>\n<ellipse fill=\"none\" stroke=\"#000000\" cx=\"207\" cy=\"-105\" rx=\"27\" ry=\"18\"/>\n<text text-anchor=\"middle\" x=\"207\" y=\"-101.3\" font-family=\"Times,serif\" font-size=\"14.00\" fill=\"#000000\">acc</text>\n</g>\n<!-- lug_boot&#45;&gt;acc7 -->\n<g id=\"edge12\" class=\"edge\">\n<title>lug_boot&#45;&gt;acc7</title>\n<path fill=\"none\" stroke=\"#000000\" d=\"M380.2824,-180.4316C348.7476,-169.9232 307.1132,-156.0474 307,-156 282.7475,-145.8409 256.282,-132.224 236.6728,-121.616\"/>\n<polygon fill=\"#000000\" stroke=\"#000000\" points=\"238.0907,-118.4024 227.637,-116.6785 234.734,-124.5451 238.0907,-118.4024\"/>\n<text text-anchor=\"middle\" x=\"322.5\" y=\"-144.8\" font-family=\"Times,serif\" font-size=\"14.00\" fill=\"#000000\">small</text>\n</g>\n<!-- doors -->\n<g id=\"node14\" class=\"node\">\n<title>doors</title>\n<ellipse fill=\"none\" stroke=\"#000000\" cx=\"284\" cy=\"-105\" rx=\"31.6951\" ry=\"18\"/>\n<text text-anchor=\"middle\" x=\"284\" y=\"-101.3\" font-family=\"Times,serif\" font-size=\"14.00\" fill=\"#000000\">doors</text>\n</g>\n<!-- lug_boot&#45;&gt;doors -->\n<g id=\"edge13\" class=\"edge\">\n<title>lug_boot&#45;&gt;doors</title>\n<path fill=\"none\" stroke=\"#000000\" d=\"M391.5798,-176.4461C369.7839,-161.971 337.2073,-140.3362 313.6151,-124.668\"/>\n<polygon fill=\"#000000\" stroke=\"#000000\" points=\"315.3208,-121.5993 305.0542,-118.9826 311.4482,-127.4305 315.3208,-121.5993\"/>\n<text text-anchor=\"middle\" x=\"370.5\" y=\"-144.8\" font-family=\"Times,serif\" font-size=\"14.00\" fill=\"#000000\">med</text>\n</g>\n<!-- vgood12 -->\n<g id=\"node19\" class=\"node\">\n<title>vgood12</title>\n<ellipse fill=\"none\" stroke=\"#000000\" cx=\"404\" cy=\"-105\" rx=\"35.194\" ry=\"18\"/>\n<text text-anchor=\"middle\" x=\"404\" y=\"-101.3\" font-family=\"Times,serif\" font-size=\"14.00\" fill=\"#000000\">vgood</text>\n</g>\n<!-- lug_boot&#45;&gt;vgood12 -->\n<g id=\"edge18\" class=\"edge\">\n<title>lug_boot&#45;&gt;vgood12</title>\n<path fill=\"none\" stroke=\"#000000\" d=\"M412.7208,-173.9735C411.2311,-162.1918 409.2548,-146.5607 407.5602,-133.1581\"/>\n<polygon fill=\"#000000\" stroke=\"#000000\" points=\"411.0031,-132.4853 406.2763,-123.0034 404.0584,-133.3634 411.0031,-132.4853\"/>\n<text text-anchor=\"middle\" x=\"420.5\" y=\"-144.8\" font-family=\"Times,serif\" font-size=\"14.00\" fill=\"#000000\">big</text>\n</g>\n<!-- acc8 -->\n<g id=\"node15\" class=\"node\">\n<title>acc8</title>\n<ellipse fill=\"none\" stroke=\"#000000\" cx=\"104\" cy=\"-18\" rx=\"27\" ry=\"18\"/>\n<text text-anchor=\"middle\" x=\"104\" y=\"-14.3\" font-family=\"Times,serif\" font-size=\"14.00\" fill=\"#000000\">acc</text>\n</g>\n<!-- doors&#45;&gt;acc8 -->\n<g id=\"edge14\" class=\"edge\">\n<title>doors&#45;&gt;acc8</title>\n<path fill=\"none\" stroke=\"#000000\" d=\"M259.4796,-93.4045C230.7733,-79.7939 181.8294,-56.4772 140,-36 138.2584,-35.1474 136.4714,-34.2682 134.6692,-33.378\"/>\n<polygon fill=\"#000000\" stroke=\"#000000\" points=\"136.1859,-30.2235 125.6728,-28.91 133.0722,-36.4929 136.1859,-30.2235\"/>\n<text text-anchor=\"middle\" x=\"211\" y=\"-57.8\" font-family=\"Times,serif\" font-size=\"14.00\" fill=\"#000000\">3</text>\n</g>\n<!-- acc9 -->\n<g id=\"node16\" class=\"node\">\n<title>acc9</title>\n<ellipse fill=\"none\" stroke=\"#000000\" cx=\"176\" cy=\"-18\" rx=\"27\" ry=\"18\"/>\n<text text-anchor=\"middle\" x=\"176\" y=\"-14.3\" font-family=\"Times,serif\" font-size=\"14.00\" fill=\"#000000\">acc</text>\n</g>\n<!-- doors&#45;&gt;acc9 -->\n<g id=\"edge15\" class=\"edge\">\n<title>doors&#45;&gt;acc9</title>\n<path fill=\"none\" stroke=\"#000000\" d=\"M265.6793,-90.2416C247.9859,-75.9887 221.0426,-54.2843 201.3063,-38.3856\"/>\n<polygon fill=\"#000000\" stroke=\"#000000\" points=\"203.3203,-35.5137 193.3371,-31.966 198.929,-40.965 203.3203,-35.5137\"/>\n<text text-anchor=\"middle\" x=\"241\" y=\"-57.8\" font-family=\"Times,serif\" font-size=\"14.00\" fill=\"#000000\">2</text>\n</g>\n<!-- vgood10 -->\n<g id=\"node17\" class=\"node\">\n<title>vgood10</title>\n<ellipse fill=\"none\" stroke=\"#000000\" cx=\"256\" cy=\"-18\" rx=\"35.194\" ry=\"18\"/>\n<text text-anchor=\"middle\" x=\"256\" y=\"-14.3\" font-family=\"Times,serif\" font-size=\"14.00\" fill=\"#000000\">vgood</text>\n</g>\n<!-- doors&#45;&gt;vgood10 -->\n<g id=\"edge16\" class=\"edge\">\n<title>doors&#45;&gt;vgood10</title>\n<path fill=\"none\" stroke=\"#000000\" d=\"M278.1984,-86.9735C274.369,-75.0751 269.2761,-59.2508 264.9345,-45.7606\"/>\n<polygon fill=\"#000000\" stroke=\"#000000\" points=\"268.1896,-44.4502 261.7942,-36.0034 261.5262,-46.5948 268.1896,-44.4502\"/>\n<text text-anchor=\"middle\" x=\"276\" y=\"-57.8\" font-family=\"Times,serif\" font-size=\"14.00\" fill=\"#000000\">4</text>\n</g>\n<!-- vgood11 -->\n<g id=\"node18\" class=\"node\">\n<title>vgood11</title>\n<ellipse fill=\"none\" stroke=\"#000000\" cx=\"344\" cy=\"-18\" rx=\"35.194\" ry=\"18\"/>\n<text text-anchor=\"middle\" x=\"344\" y=\"-14.3\" font-family=\"Times,serif\" font-size=\"14.00\" fill=\"#000000\">vgood</text>\n</g>\n<!-- doors&#45;&gt;vgood11 -->\n<g id=\"edge17\" class=\"edge\">\n<title>doors&#45;&gt;vgood11</title>\n<path fill=\"none\" stroke=\"#000000\" d=\"M295.5686,-88.2255C304.3107,-75.5494 316.4621,-57.9299 326.4061,-43.5111\"/>\n<polygon fill=\"#000000\" stroke=\"#000000\" points=\"329.4661,-45.2391 332.2622,-35.0198 323.7036,-41.2649 329.4661,-45.2391\"/>\n<text text-anchor=\"middle\" x=\"336.5\" y=\"-57.8\" font-family=\"Times,serif\" font-size=\"14.00\" fill=\"#000000\">5more</text>\n</g>\n<!-- vgood14 -->\n<g id=\"node21\" class=\"node\">\n<title>vgood14</title>\n<ellipse fill=\"none\" stroke=\"#000000\" cx=\"492\" cy=\"-105\" rx=\"35.194\" ry=\"18\"/>\n<text text-anchor=\"middle\" x=\"492\" y=\"-101.3\" font-family=\"Times,serif\" font-size=\"14.00\" fill=\"#000000\">vgood</text>\n</g>\n<!-- lug_boot13&#45;&gt;vgood14 -->\n<g id=\"edge20\" class=\"edge\">\n<title>lug_boot13&#45;&gt;vgood14</title>\n<path fill=\"none\" stroke=\"#000000\" d=\"M534.2747,-174.3943C526.682,-161.9309 516.3731,-145.0087 507.8362,-130.9953\"/>\n<polygon fill=\"#000000\" stroke=\"#000000\" points=\"510.7202,-129.0018 502.5285,-122.2827 504.7421,-132.6437 510.7202,-129.0018\"/>\n<text text-anchor=\"middle\" x=\"531.5\" y=\"-144.8\" font-family=\"Times,serif\" font-size=\"14.00\" fill=\"#000000\">big</text>\n</g>\n<!-- doors15 -->\n<g id=\"node22\" class=\"node\">\n<title>doors15</title>\n<ellipse fill=\"none\" stroke=\"#000000\" cx=\"577\" cy=\"-105\" rx=\"31.6951\" ry=\"18\"/>\n<text text-anchor=\"middle\" x=\"577\" y=\"-101.3\" font-family=\"Times,serif\" font-size=\"14.00\" fill=\"#000000\">doors</text>\n</g>\n<!-- lug_boot13&#45;&gt;doors15 -->\n<g id=\"edge21\" class=\"edge\">\n<title>lug_boot13&#45;&gt;doors15</title>\n<path fill=\"none\" stroke=\"#000000\" d=\"M551.6304,-173.9735C556.0792,-161.8784 562.0202,-145.7263 567.0346,-132.0934\"/>\n<polygon fill=\"#000000\" stroke=\"#000000\" points=\"570.3203,-133.2992 570.4876,-122.7057 563.7506,-130.8827 570.3203,-133.2992\"/>\n<text text-anchor=\"middle\" x=\"575.5\" y=\"-144.8\" font-family=\"Times,serif\" font-size=\"14.00\" fill=\"#000000\">med</text>\n</g>\n<!-- good20 -->\n<g id=\"node27\" class=\"node\">\n<title>good20</title>\n<ellipse fill=\"none\" stroke=\"#000000\" cx=\"657\" cy=\"-105\" rx=\"30.5947\" ry=\"18\"/>\n<text text-anchor=\"middle\" x=\"657\" y=\"-101.3\" font-family=\"Times,serif\" font-size=\"14.00\" fill=\"#000000\">good</text>\n</g>\n<!-- lug_boot13&#45;&gt;good20 -->\n<g id=\"edge26\" class=\"edge\">\n<title>lug_boot13&#45;&gt;good20</title>\n<path fill=\"none\" stroke=\"#000000\" d=\"M566.0971,-175.9235C574.2111,-169.7187 583.5519,-162.5493 592,-156 604.6796,-146.1702 618.6877,-135.1942 630.4429,-125.9501\"/>\n<polygon fill=\"#000000\" stroke=\"#000000\" points=\"632.8602,-128.5016 638.5531,-119.5662 628.5306,-123.0012 632.8602,-128.5016\"/>\n<text text-anchor=\"middle\" x=\"625.5\" y=\"-144.8\" font-family=\"Times,serif\" font-size=\"14.00\" fill=\"#000000\">small</text>\n</g>\n<!-- good16 -->\n<g id=\"node23\" class=\"node\">\n<title>good16</title>\n<ellipse fill=\"none\" stroke=\"#000000\" cx=\"428\" cy=\"-18\" rx=\"30.5947\" ry=\"18\"/>\n<text text-anchor=\"middle\" x=\"428\" y=\"-14.3\" font-family=\"Times,serif\" font-size=\"14.00\" fill=\"#000000\">good</text>\n</g>\n<!-- doors15&#45;&gt;good16 -->\n<g id=\"edge22\" class=\"edge\">\n<title>doors15&#45;&gt;good16</title>\n<path fill=\"none\" stroke=\"#000000\" d=\"M554.6932,-91.9752C529.2003,-77.0901 487.3218,-52.6375 458.7458,-35.9522\"/>\n<polygon fill=\"#000000\" stroke=\"#000000\" points=\"460.3735,-32.8497 449.9729,-30.8298 456.8438,-38.8947 460.3735,-32.8497\"/>\n<text text-anchor=\"middle\" x=\"516\" y=\"-57.8\" font-family=\"Times,serif\" font-size=\"14.00\" fill=\"#000000\">2</text>\n</g>\n<!-- good17 -->\n<g id=\"node24\" class=\"node\">\n<title>good17</title>\n<ellipse fill=\"none\" stroke=\"#000000\" cx=\"507\" cy=\"-18\" rx=\"30.5947\" ry=\"18\"/>\n<text text-anchor=\"middle\" x=\"507\" y=\"-14.3\" font-family=\"Times,serif\" font-size=\"14.00\" fill=\"#000000\">good</text>\n</g>\n<!-- doors15&#45;&gt;good17 -->\n<g id=\"edge23\" class=\"edge\">\n<title>doors15&#45;&gt;good17</title>\n<path fill=\"none\" stroke=\"#000000\" d=\"M563.5033,-88.2255C553.0751,-75.2647 538.4887,-57.136 526.7485,-42.5446\"/>\n<polygon fill=\"#000000\" stroke=\"#000000\" points=\"529.2136,-40.0251 520.2179,-34.4279 523.7598,-44.4132 529.2136,-40.0251\"/>\n<text text-anchor=\"middle\" x=\"551\" y=\"-57.8\" font-family=\"Times,serif\" font-size=\"14.00\" fill=\"#000000\">3</text>\n</g>\n<!-- vgood18 -->\n<g id=\"node25\" class=\"node\">\n<title>vgood18</title>\n<ellipse fill=\"none\" stroke=\"#000000\" cx=\"591\" cy=\"-18\" rx=\"35.194\" ry=\"18\"/>\n<text text-anchor=\"middle\" x=\"591\" y=\"-14.3\" font-family=\"Times,serif\" font-size=\"14.00\" fill=\"#000000\">vgood</text>\n</g>\n<!-- doors15&#45;&gt;vgood18 -->\n<g id=\"edge24\" class=\"edge\">\n<title>doors15&#45;&gt;vgood18</title>\n<path fill=\"none\" stroke=\"#000000\" d=\"M579.9008,-86.9735C581.7967,-75.1918 584.3121,-59.5607 586.4688,-46.1581\"/>\n<polygon fill=\"#000000\" stroke=\"#000000\" points=\"589.9696,-46.4324 588.1029,-36.0034 583.0585,-45.3203 589.9696,-46.4324\"/>\n<text text-anchor=\"middle\" x=\"603.5\" y=\"-57.8\" font-family=\"Times,serif\" font-size=\"14.00\" fill=\"#000000\">5more</text>\n</g>\n<!-- vgood19 -->\n<g id=\"node26\" class=\"node\">\n<title>vgood19</title>\n<ellipse fill=\"none\" stroke=\"#000000\" cx=\"679\" cy=\"-18\" rx=\"35.194\" ry=\"18\"/>\n<text text-anchor=\"middle\" x=\"679\" y=\"-14.3\" font-family=\"Times,serif\" font-size=\"14.00\" fill=\"#000000\">vgood</text>\n</g>\n<!-- doors15&#45;&gt;vgood19 -->\n<g id=\"edge25\" class=\"edge\">\n<title>doors15&#45;&gt;vgood19</title>\n<path fill=\"none\" stroke=\"#000000\" d=\"M597.4857,-90.8714C606.4474,-84.4581 616.9567,-76.6156 626,-69 636.2254,-60.389 646.9508,-50.2921 656.0573,-41.3645\"/>\n<polygon fill=\"#000000\" stroke=\"#000000\" points=\"658.646,-43.7265 663.2796,-34.1986 653.7156,-38.7574 658.646,-43.7265\"/>\n<text text-anchor=\"middle\" x=\"647\" y=\"-57.8\" font-family=\"Times,serif\" font-size=\"14.00\" fill=\"#000000\">4</text>\n</g>\n<!-- lug_boot23 -->\n<g id=\"node30\" class=\"node\">\n<title>lug_boot23</title>\n<ellipse fill=\"none\" stroke=\"#000000\" cx=\"928\" cy=\"-192\" rx=\"44.6926\" ry=\"18\"/>\n<text text-anchor=\"middle\" x=\"928\" y=\"-188.3\" font-family=\"Times,serif\" font-size=\"14.00\" fill=\"#000000\">lug_boot</text>\n</g>\n<!-- maint22&#45;&gt;lug_boot23 -->\n<g id=\"edge29\" class=\"edge\">\n<title>maint22&#45;&gt;lug_boot23</title>\n<path fill=\"none\" stroke=\"#000000\" d=\"M1063.0254,-266.3495C1036.8864,-251.9564 993.8879,-228.2801 963.4437,-211.5164\"/>\n<polygon fill=\"#000000\" stroke=\"#000000\" points=\"964.8791,-208.3114 954.431,-206.5538 961.5027,-214.4432 964.8791,-208.3114\"/>\n<text text-anchor=\"middle\" x=\"1030.5\" y=\"-231.8\" font-family=\"Times,serif\" font-size=\"14.00\" fill=\"#000000\">high</text>\n</g>\n<!-- acc31 -->\n<g id=\"node38\" class=\"node\">\n<title>acc31</title>\n<ellipse fill=\"none\" stroke=\"#000000\" cx=\"1050\" cy=\"-192\" rx=\"27\" ry=\"18\"/>\n<text text-anchor=\"middle\" x=\"1050\" y=\"-188.3\" font-family=\"Times,serif\" font-size=\"14.00\" fill=\"#000000\">acc</text>\n</g>\n<!-- maint22&#45;&gt;acc31 -->\n<g id=\"edge37\" class=\"edge\">\n<title>maint22&#45;&gt;acc31</title>\n<path fill=\"none\" stroke=\"#000000\" d=\"M1076.1347,-261.702C1073.0031,-255.8613 1069.665,-249.239 1067,-243 1063.7881,-235.4806 1060.7836,-227.1348 1058.2207,-219.409\"/>\n<polygon fill=\"#000000\" stroke=\"#000000\" points=\"1061.5055,-218.1899 1055.1256,-209.7313 1054.8382,-220.3223 1061.5055,-218.1899\"/>\n<text text-anchor=\"middle\" x=\"1084\" y=\"-231.8\" font-family=\"Times,serif\" font-size=\"14.00\" fill=\"#000000\">vhigh</text>\n</g>\n<!-- lug_boot32 -->\n<g id=\"node39\" class=\"node\">\n<title>lug_boot32</title>\n<ellipse fill=\"none\" stroke=\"#000000\" cx=\"1140\" cy=\"-192\" rx=\"44.6926\" ry=\"18\"/>\n<text text-anchor=\"middle\" x=\"1140\" y=\"-188.3\" font-family=\"Times,serif\" font-size=\"14.00\" fill=\"#000000\">lug_boot</text>\n</g>\n<!-- maint22&#45;&gt;lug_boot32 -->\n<g id=\"edge38\" class=\"edge\">\n<title>maint22&#45;&gt;lug_boot32</title>\n<path fill=\"none\" stroke=\"#000000\" d=\"M1096.6687,-261.8116C1104.3337,-249.4624 1114.8114,-232.5816 1123.5436,-218.513\"/>\n<polygon fill=\"#000000\" stroke=\"#000000\" points=\"1126.6828,-220.0922 1128.9828,-209.75 1120.7353,-216.4006 1126.6828,-220.0922\"/>\n<text text-anchor=\"middle\" x=\"1129.5\" y=\"-231.8\" font-family=\"Times,serif\" font-size=\"14.00\" fill=\"#000000\">med</text>\n</g>\n<!-- lug_boot36 -->\n<g id=\"node43\" class=\"node\">\n<title>lug_boot36</title>\n<ellipse fill=\"none\" stroke=\"#000000\" cx=\"1275\" cy=\"-192\" rx=\"44.6926\" ry=\"18\"/>\n<text text-anchor=\"middle\" x=\"1275\" y=\"-188.3\" font-family=\"Times,serif\" font-size=\"14.00\" fill=\"#000000\">lug_boot</text>\n</g>\n<!-- maint22&#45;&gt;lug_boot36 -->\n<g id=\"edge42\" class=\"edge\">\n<title>maint22&#45;&gt;lug_boot36</title>\n<path fill=\"none\" stroke=\"#000000\" d=\"M1110.7084,-267.6263C1142.6244,-252.9348 1198.5374,-227.1971 1236.1609,-209.8783\"/>\n<polygon fill=\"#000000\" stroke=\"#000000\" points=\"1237.6861,-213.0293 1245.3064,-205.6685 1234.759,-206.6707 1237.6861,-213.0293\"/>\n<text text-anchor=\"middle\" x=\"1203\" y=\"-231.8\" font-family=\"Times,serif\" font-size=\"14.00\" fill=\"#000000\">low</text>\n</g>\n<!-- doors24 -->\n<g id=\"node31\" class=\"node\">\n<title>doors24</title>\n<ellipse fill=\"none\" stroke=\"#000000\" cx=\"811\" cy=\"-105\" rx=\"31.6951\" ry=\"18\"/>\n<text text-anchor=\"middle\" x=\"811\" y=\"-101.3\" font-family=\"Times,serif\" font-size=\"14.00\" fill=\"#000000\">doors</text>\n</g>\n<!-- lug_boot23&#45;&gt;doors24 -->\n<g id=\"edge30\" class=\"edge\">\n<title>lug_boot23&#45;&gt;doors24</title>\n<path fill=\"none\" stroke=\"#000000\" d=\"M906.5404,-176.0429C887.4064,-161.815 859.2914,-140.909 838.5107,-125.4567\"/>\n<polygon fill=\"#000000\" stroke=\"#000000\" points=\"840.4948,-122.5705 830.3817,-119.412 836.3179,-128.1877 840.4948,-122.5705\"/>\n<text text-anchor=\"middle\" x=\"889.5\" y=\"-144.8\" font-family=\"Times,serif\" font-size=\"14.00\" fill=\"#000000\">med</text>\n</g>\n<!-- vgood29 -->\n<g id=\"node36\" class=\"node\">\n<title>vgood29</title>\n<ellipse fill=\"none\" stroke=\"#000000\" cx=\"896\" cy=\"-105\" rx=\"35.194\" ry=\"18\"/>\n<text text-anchor=\"middle\" x=\"896\" y=\"-101.3\" font-family=\"Times,serif\" font-size=\"14.00\" fill=\"#000000\">vgood</text>\n</g>\n<!-- lug_boot23&#45;&gt;vgood29 -->\n<g id=\"edge35\" class=\"edge\">\n<title>lug_boot23&#45;&gt;vgood29</title>\n<path fill=\"none\" stroke=\"#000000\" d=\"M921.3696,-173.9735C916.9208,-161.8784 910.9798,-145.7263 905.9654,-132.0934\"/>\n<polygon fill=\"#000000\" stroke=\"#000000\" points=\"909.2494,-130.8827 902.5124,-122.7057 902.6797,-133.2992 909.2494,-130.8827\"/>\n<text text-anchor=\"middle\" x=\"923.5\" y=\"-144.8\" font-family=\"Times,serif\" font-size=\"14.00\" fill=\"#000000\">big</text>\n</g>\n<!-- acc30 -->\n<g id=\"node37\" class=\"node\">\n<title>acc30</title>\n<ellipse fill=\"none\" stroke=\"#000000\" cx=\"976\" cy=\"-105\" rx=\"27\" ry=\"18\"/>\n<text text-anchor=\"middle\" x=\"976\" y=\"-101.3\" font-family=\"Times,serif\" font-size=\"14.00\" fill=\"#000000\">acc</text>\n</g>\n<!-- lug_boot23&#45;&gt;acc30 -->\n<g id=\"edge36\" class=\"edge\">\n<title>lug_boot23&#45;&gt;acc30</title>\n<path fill=\"none\" stroke=\"#000000\" d=\"M937.7135,-174.3943C944.5689,-161.9689 953.8693,-145.1119 961.587,-131.1236\"/>\n<polygon fill=\"#000000\" stroke=\"#000000\" points=\"964.8613,-132.4341 966.6276,-121.9875 958.7323,-129.0525 964.8613,-132.4341\"/>\n<text text-anchor=\"middle\" x=\"970.5\" y=\"-144.8\" font-family=\"Times,serif\" font-size=\"14.00\" fill=\"#000000\">small</text>\n</g>\n<!-- vgood25 -->\n<g id=\"node32\" class=\"node\">\n<title>vgood25</title>\n<ellipse fill=\"none\" stroke=\"#000000\" cx=\"767\" cy=\"-18\" rx=\"35.194\" ry=\"18\"/>\n<text text-anchor=\"middle\" x=\"767\" y=\"-14.3\" font-family=\"Times,serif\" font-size=\"14.00\" fill=\"#000000\">vgood</text>\n</g>\n<!-- doors24&#45;&gt;vgood25 -->\n<g id=\"edge31\" class=\"edge\">\n<title>doors24&#45;&gt;vgood25</title>\n<path fill=\"none\" stroke=\"#000000\" d=\"M802.0959,-87.3943C795.8935,-75.1303 787.5075,-58.5489 780.4883,-44.67\"/>\n<polygon fill=\"#000000\" stroke=\"#000000\" points=\"783.5273,-42.9236 775.8908,-35.5796 777.2807,-46.0828 783.5273,-42.9236\"/>\n<text text-anchor=\"middle\" x=\"796\" y=\"-57.8\" font-family=\"Times,serif\" font-size=\"14.00\" fill=\"#000000\">4</text>\n</g>\n<!-- vgood26 -->\n<g id=\"node33\" class=\"node\">\n<title>vgood26</title>\n<ellipse fill=\"none\" stroke=\"#000000\" cx=\"855\" cy=\"-18\" rx=\"35.194\" ry=\"18\"/>\n<text text-anchor=\"middle\" x=\"855\" y=\"-14.3\" font-family=\"Times,serif\" font-size=\"14.00\" fill=\"#000000\">vgood</text>\n</g>\n<!-- doors24&#45;&gt;vgood26 -->\n<g id=\"edge32\" class=\"edge\">\n<title>doors24&#45;&gt;vgood26</title>\n<path fill=\"none\" stroke=\"#000000\" d=\"M819.9041,-87.3943C826.1065,-75.1303 834.4925,-58.5489 841.5117,-44.67\"/>\n<polygon fill=\"#000000\" stroke=\"#000000\" points=\"844.7193,-46.0828 846.1092,-35.5796 838.4727,-42.9236 844.7193,-46.0828\"/>\n<text text-anchor=\"middle\" x=\"854.5\" y=\"-57.8\" font-family=\"Times,serif\" font-size=\"14.00\" fill=\"#000000\">5more</text>\n</g>\n<!-- acc27 -->\n<g id=\"node34\" class=\"node\">\n<title>acc27</title>\n<ellipse fill=\"none\" stroke=\"#000000\" cx=\"935\" cy=\"-18\" rx=\"27\" ry=\"18\"/>\n<text text-anchor=\"middle\" x=\"935\" y=\"-14.3\" font-family=\"Times,serif\" font-size=\"14.00\" fill=\"#000000\">acc</text>\n</g>\n<!-- doors24&#45;&gt;acc27 -->\n<g id=\"edge33\" class=\"edge\">\n<title>doors24&#45;&gt;acc27</title>\n<path fill=\"none\" stroke=\"#000000\" d=\"M835.593,-93.2366C848.3501,-86.7299 863.9511,-78.1261 877,-69 889.2584,-60.4268 901.8476,-49.6402 912.1513,-40.1976\"/>\n<polygon fill=\"#000000\" stroke=\"#000000\" points=\"914.6207,-42.6803 919.5417,-33.2976 909.8437,-37.5637 914.6207,-42.6803\"/>\n<text text-anchor=\"middle\" x=\"900\" y=\"-57.8\" font-family=\"Times,serif\" font-size=\"14.00\" fill=\"#000000\">3</text>\n</g>\n<!-- acc28 -->\n<g id=\"node35\" class=\"node\">\n<title>acc28</title>\n<ellipse fill=\"none\" stroke=\"#000000\" cx=\"1007\" cy=\"-18\" rx=\"27\" ry=\"18\"/>\n<text text-anchor=\"middle\" x=\"1007\" y=\"-14.3\" font-family=\"Times,serif\" font-size=\"14.00\" fill=\"#000000\">acc</text>\n</g>\n<!-- doors24&#45;&gt;acc28 -->\n<g id=\"edge34\" class=\"edge\">\n<title>doors24&#45;&gt;acc28</title>\n<path fill=\"none\" stroke=\"#000000\" d=\"M835.9835,-93.5454C841.2334,-91.2758 846.7663,-88.984 852,-87 876.4455,-77.7332 883.8535,-79.0201 908,-69 931.9403,-59.0654 957.9564,-45.5496 977.3088,-34.9279\"/>\n<polygon fill=\"#000000\" stroke=\"#000000\" points=\"979.1897,-37.887 986.2354,-29.9744 975.7932,-31.7662 979.1897,-37.887\"/>\n<text text-anchor=\"middle\" x=\"943\" y=\"-57.8\" font-family=\"Times,serif\" font-size=\"14.00\" fill=\"#000000\">2</text>\n</g>\n<!-- vgood33 -->\n<g id=\"node40\" class=\"node\">\n<title>vgood33</title>\n<ellipse fill=\"none\" stroke=\"#000000\" cx=\"1056\" cy=\"-105\" rx=\"35.194\" ry=\"18\"/>\n<text text-anchor=\"middle\" x=\"1056\" y=\"-101.3\" font-family=\"Times,serif\" font-size=\"14.00\" fill=\"#000000\">vgood</text>\n</g>\n<!-- lug_boot32&#45;&gt;vgood33 -->\n<g id=\"edge39\" class=\"edge\">\n<title>lug_boot32&#45;&gt;vgood33</title>\n<path fill=\"none\" stroke=\"#000000\" d=\"M1123.4043,-174.8116C1110.6196,-161.5703 1092.8044,-143.1189 1078.7001,-128.5108\"/>\n<polygon fill=\"#000000\" stroke=\"#000000\" points=\"1081.1728,-126.0329 1071.7089,-121.2699 1076.137,-130.8951 1081.1728,-126.0329\"/>\n<text text-anchor=\"middle\" x=\"1113.5\" y=\"-144.8\" font-family=\"Times,serif\" font-size=\"14.00\" fill=\"#000000\">big</text>\n</g>\n<!-- good34 -->\n<g id=\"node41\" class=\"node\">\n<title>good34</title>\n<ellipse fill=\"none\" stroke=\"#000000\" cx=\"1140\" cy=\"-105\" rx=\"30.5947\" ry=\"18\"/>\n<text text-anchor=\"middle\" x=\"1140\" y=\"-101.3\" font-family=\"Times,serif\" font-size=\"14.00\" fill=\"#000000\">good</text>\n</g>\n<!-- lug_boot32&#45;&gt;good34 -->\n<g id=\"edge40\" class=\"edge\">\n<title>lug_boot32&#45;&gt;good34</title>\n<path fill=\"none\" stroke=\"#000000\" d=\"M1140,-173.9735C1140,-162.1918 1140,-146.5607 1140,-133.1581\"/>\n<polygon fill=\"#000000\" stroke=\"#000000\" points=\"1143.5001,-133.0033 1140,-123.0034 1136.5001,-133.0034 1143.5001,-133.0033\"/>\n<text text-anchor=\"middle\" x=\"1155.5\" y=\"-144.8\" font-family=\"Times,serif\" font-size=\"14.00\" fill=\"#000000\">small</text>\n</g>\n<!-- good35 -->\n<g id=\"node42\" class=\"node\">\n<title>good35</title>\n<ellipse fill=\"none\" stroke=\"#000000\" cx=\"1219\" cy=\"-105\" rx=\"30.5947\" ry=\"18\"/>\n<text text-anchor=\"middle\" x=\"1219\" y=\"-101.3\" font-family=\"Times,serif\" font-size=\"14.00\" fill=\"#000000\">good</text>\n</g>\n<!-- lug_boot32&#45;&gt;good35 -->\n<g id=\"edge41\" class=\"edge\">\n<title>lug_boot32&#45;&gt;good35</title>\n<path fill=\"none\" stroke=\"#000000\" d=\"M1156.9458,-174.9864C1162.7484,-169.0514 1169.2299,-162.2993 1175,-156 1182.9012,-147.3742 1191.3457,-137.7025 1198.7026,-129.1194\"/>\n<polygon fill=\"#000000\" stroke=\"#000000\" points=\"1201.5489,-131.1754 1205.3696,-121.2934 1196.2204,-126.6359 1201.5489,-131.1754\"/>\n<text text-anchor=\"middle\" x=\"1200.5\" y=\"-144.8\" font-family=\"Times,serif\" font-size=\"14.00\" fill=\"#000000\">med</text>\n</g>\n<!-- vgood37 -->\n<g id=\"node44\" class=\"node\">\n<title>vgood37</title>\n<ellipse fill=\"none\" stroke=\"#000000\" cx=\"1303\" cy=\"-105\" rx=\"35.194\" ry=\"18\"/>\n<text text-anchor=\"middle\" x=\"1303\" y=\"-101.3\" font-family=\"Times,serif\" font-size=\"14.00\" fill=\"#000000\">vgood</text>\n</g>\n<!-- lug_boot36&#45;&gt;vgood37 -->\n<g id=\"edge43\" class=\"edge\">\n<title>lug_boot36&#45;&gt;vgood37</title>\n<path fill=\"none\" stroke=\"#000000\" d=\"M1280.8016,-173.9735C1284.631,-162.0751 1289.7239,-146.2508 1294.0655,-132.7606\"/>\n<polygon fill=\"#000000\" stroke=\"#000000\" points=\"1297.4738,-133.5948 1297.2058,-123.0034 1290.8104,-131.4502 1297.4738,-133.5948\"/>\n<text text-anchor=\"middle\" x=\"1300.5\" y=\"-144.8\" font-family=\"Times,serif\" font-size=\"14.00\" fill=\"#000000\">big</text>\n</g>\n<!-- good38 -->\n<g id=\"node45\" class=\"node\">\n<title>good38</title>\n<ellipse fill=\"none\" stroke=\"#000000\" cx=\"1387\" cy=\"-105\" rx=\"30.5947\" ry=\"18\"/>\n<text text-anchor=\"middle\" x=\"1387\" y=\"-101.3\" font-family=\"Times,serif\" font-size=\"14.00\" fill=\"#000000\">good</text>\n</g>\n<!-- lug_boot36&#45;&gt;good38 -->\n<g id=\"edge44\" class=\"edge\">\n<title>lug_boot36&#45;&gt;good38</title>\n<path fill=\"none\" stroke=\"#000000\" d=\"M1295.8039,-175.8399C1314.0704,-161.6506 1340.7391,-140.9348 1360.5231,-125.5669\"/>\n<polygon fill=\"#000000\" stroke=\"#000000\" points=\"1362.7856,-128.2413 1368.5359,-119.3427 1358.4914,-122.7132 1362.7856,-128.2413\"/>\n<text text-anchor=\"middle\" x=\"1353.5\" y=\"-144.8\" font-family=\"Times,serif\" font-size=\"14.00\" fill=\"#000000\">small</text>\n</g>\n<!-- good39 -->\n<g id=\"node46\" class=\"node\">\n<title>good39</title>\n<ellipse fill=\"none\" stroke=\"#000000\" cx=\"1466\" cy=\"-105\" rx=\"30.5947\" ry=\"18\"/>\n<text text-anchor=\"middle\" x=\"1466\" y=\"-101.3\" font-family=\"Times,serif\" font-size=\"14.00\" fill=\"#000000\">good</text>\n</g>\n<!-- lug_boot36&#45;&gt;good39 -->\n<g id=\"edge45\" class=\"edge\">\n<title>lug_boot36&#45;&gt;good39</title>\n<path fill=\"none\" stroke=\"#000000\" d=\"M1309.9777,-180.5779C1328.9087,-174.0416 1352.5407,-165.3045 1373,-156 1394.5538,-146.1977 1417.9185,-133.3756 1435.837,-123.0403\"/>\n<polygon fill=\"#000000\" stroke=\"#000000\" points=\"1437.7946,-125.9505 1444.6723,-117.8915 1434.2701,-119.9025 1437.7946,-125.9505\"/>\n<text text-anchor=\"middle\" x=\"1414.5\" y=\"-144.8\" font-family=\"Times,serif\" font-size=\"14.00\" fill=\"#000000\">med</text>\n</g>\n<!-- unacc41 -->\n<g id=\"node48\" class=\"node\">\n<title>unacc41</title>\n<ellipse fill=\"none\" stroke=\"#000000\" cx=\"1370\" cy=\"-192\" rx=\"32.4942\" ry=\"18\"/>\n<text text-anchor=\"middle\" x=\"1370\" y=\"-188.3\" font-family=\"Times,serif\" font-size=\"14.00\" fill=\"#000000\">unacc</text>\n</g>\n<!-- maint40&#45;&gt;unacc41 -->\n<g id=\"edge47\" class=\"edge\">\n<title>maint40&#45;&gt;unacc41</title>\n<path fill=\"none\" stroke=\"#000000\" d=\"M1432.5169,-262.636C1420.9015,-249.5121 1404.4301,-230.9015 1391.3101,-216.0777\"/>\n<polygon fill=\"#000000\" stroke=\"#000000\" points=\"1393.6667,-213.4593 1384.4182,-208.2907 1388.4249,-218.0987 1393.6667,-213.4593\"/>\n<text text-anchor=\"middle\" x=\"1427.5\" y=\"-231.8\" font-family=\"Times,serif\" font-size=\"14.00\" fill=\"#000000\">high</text>\n</g>\n<!-- acc42 -->\n<g id=\"node49\" class=\"node\">\n<title>acc42</title>\n<ellipse fill=\"none\" stroke=\"#000000\" cx=\"1447\" cy=\"-192\" rx=\"27\" ry=\"18\"/>\n<text text-anchor=\"middle\" x=\"1447\" y=\"-188.3\" font-family=\"Times,serif\" font-size=\"14.00\" fill=\"#000000\">acc</text>\n</g>\n<!-- maint40&#45;&gt;acc42 -->\n<g id=\"edge48\" class=\"edge\">\n<title>maint40&#45;&gt;acc42</title>\n<path fill=\"none\" stroke=\"#000000\" d=\"M1447,-260.9735C1447,-249.1918 1447,-233.5607 1447,-220.1581\"/>\n<polygon fill=\"#000000\" stroke=\"#000000\" points=\"1450.5001,-220.0033 1447,-210.0034 1443.5001,-220.0034 1450.5001,-220.0033\"/>\n<text text-anchor=\"middle\" x=\"1458\" y=\"-231.8\" font-family=\"Times,serif\" font-size=\"14.00\" fill=\"#000000\">low</text>\n</g>\n<!-- unacc43 -->\n<g id=\"node50\" class=\"node\">\n<title>unacc43</title>\n<ellipse fill=\"none\" stroke=\"#000000\" cx=\"1524\" cy=\"-192\" rx=\"32.4942\" ry=\"18\"/>\n<text text-anchor=\"middle\" x=\"1524\" y=\"-188.3\" font-family=\"Times,serif\" font-size=\"14.00\" fill=\"#000000\">unacc</text>\n</g>\n<!-- maint40&#45;&gt;unacc43 -->\n<g id=\"edge49\" class=\"edge\">\n<title>maint40&#45;&gt;unacc43</title>\n<path fill=\"none\" stroke=\"#000000\" d=\"M1461.4831,-262.636C1473.0985,-249.5121 1489.5699,-230.9015 1502.6899,-216.0777\"/>\n<polygon fill=\"#000000\" stroke=\"#000000\" points=\"1505.5751,-218.0987 1509.5818,-208.2907 1500.3333,-213.4593 1505.5751,-218.0987\"/>\n<text text-anchor=\"middle\" x=\"1508\" y=\"-231.8\" font-family=\"Times,serif\" font-size=\"14.00\" fill=\"#000000\">vhigh</text>\n</g>\n<!-- acc44 -->\n<g id=\"node51\" class=\"node\">\n<title>acc44</title>\n<ellipse fill=\"none\" stroke=\"#000000\" cx=\"1601\" cy=\"-192\" rx=\"27\" ry=\"18\"/>\n<text text-anchor=\"middle\" x=\"1601\" y=\"-188.3\" font-family=\"Times,serif\" font-size=\"14.00\" fill=\"#000000\">acc</text>\n</g>\n<!-- maint40&#45;&gt;acc44 -->\n<g id=\"edge50\" class=\"edge\">\n<title>maint40&#45;&gt;acc44</title>\n<path fill=\"none\" stroke=\"#000000\" d=\"M1473.5072,-268.9581C1489.8959,-262.3635 1511.139,-253.1081 1529,-243 1545.0757,-233.9022 1561.9821,-222.0595 1575.3696,-212.0764\"/>\n<polygon fill=\"#000000\" stroke=\"#000000\" points=\"1577.7561,-214.6596 1583.615,-205.8321 1573.53,-209.0792 1577.7561,-214.6596\"/>\n<text text-anchor=\"middle\" x=\"1564.5\" y=\"-231.8\" font-family=\"Times,serif\" font-size=\"14.00\" fill=\"#000000\">med</text>\n</g>\n<!-- maint46 -->\n<g id=\"node53\" class=\"node\">\n<title>maint46</title>\n<ellipse fill=\"none\" stroke=\"#000000\" cx=\"1833\" cy=\"-279\" rx=\"31.6951\" ry=\"18\"/>\n<text text-anchor=\"middle\" x=\"1833\" y=\"-275.3\" font-family=\"Times,serif\" font-size=\"14.00\" fill=\"#000000\">maint</text>\n</g>\n<!-- buying45&#45;&gt;maint46 -->\n<g id=\"edge52\" class=\"edge\">\n<title>buying45&#45;&gt;maint46</title>\n<path fill=\"none\" stroke=\"#000000\" d=\"M3027.456,-363.3488C2846.4833,-350.569 2065.1194,-295.3916 1874.8765,-281.9572\"/>\n<polygon fill=\"#000000\" stroke=\"#000000\" points=\"1874.9502,-278.4538 1864.7285,-281.2406 1874.4571,-285.4364 1874.9502,-278.4538\"/>\n<text text-anchor=\"middle\" x=\"2540\" y=\"-318.8\" font-family=\"Times,serif\" font-size=\"14.00\" fill=\"#000000\">vhigh</text>\n</g>\n<!-- maint57 -->\n<g id=\"node64\" class=\"node\">\n<title>maint57</title>\n<ellipse fill=\"none\" stroke=\"#000000\" cx=\"2945\" cy=\"-279\" rx=\"31.6951\" ry=\"18\"/>\n<text text-anchor=\"middle\" x=\"2945\" y=\"-275.3\" font-family=\"Times,serif\" font-size=\"14.00\" fill=\"#000000\">maint</text>\n</g>\n<!-- buying45&#45;&gt;maint57 -->\n<g id=\"edge63\" class=\"edge\">\n<title>buying45&#45;&gt;maint57</title>\n<path fill=\"none\" stroke=\"#000000\" d=\"M3044.0976,-350.8458C3024.4164,-336.5769 2994.7941,-315.1007 2973.0617,-299.3447\"/>\n<polygon fill=\"#000000\" stroke=\"#000000\" points=\"2975.0166,-296.4389 2964.866,-293.4029 2970.9078,-302.1062 2975.0166,-296.4389\"/>\n<text text-anchor=\"middle\" x=\"3024\" y=\"-318.8\" font-family=\"Times,serif\" font-size=\"14.00\" fill=\"#000000\">low</text>\n</g>\n<!-- maint93 -->\n<g id=\"node100\" class=\"node\">\n<title>maint93</title>\n<ellipse fill=\"none\" stroke=\"#000000\" cx=\"3364\" cy=\"-279\" rx=\"31.6951\" ry=\"18\"/>\n<text text-anchor=\"middle\" x=\"3364\" y=\"-275.3\" font-family=\"Times,serif\" font-size=\"14.00\" fill=\"#000000\">maint</text>\n</g>\n<!-- buying45&#45;&gt;maint93 -->\n<g id=\"edge99\" class=\"edge\">\n<title>buying45&#45;&gt;maint93</title>\n<path fill=\"none\" stroke=\"#000000\" d=\"M3093.9231,-354.4108C3099.8638,-352.1753 3106.1044,-349.9309 3112,-348 3186.4068,-323.6308 3275.0388,-300.7551 3324.8869,-288.4375\"/>\n<polygon fill=\"#000000\" stroke=\"#000000\" points=\"3325.7445,-291.831 3334.6199,-286.045 3324.0735,-285.0333 3325.7445,-291.831\"/>\n<text text-anchor=\"middle\" x=\"3235.5\" y=\"-318.8\" font-family=\"Times,serif\" font-size=\"14.00\" fill=\"#000000\">high</text>\n</g>\n<!-- maint105 -->\n<g id=\"node112\" class=\"node\">\n<title>maint105</title>\n<ellipse fill=\"none\" stroke=\"#000000\" cx=\"4194\" cy=\"-279\" rx=\"31.6951\" ry=\"18\"/>\n<text text-anchor=\"middle\" x=\"4194\" y=\"-275.3\" font-family=\"Times,serif\" font-size=\"14.00\" fill=\"#000000\">maint</text>\n</g>\n<!-- buying45&#45;&gt;maint105 -->\n<g id=\"edge111\" class=\"edge\">\n<title>buying45&#45;&gt;maint105</title>\n<path fill=\"none\" stroke=\"#000000\" d=\"M3092.9098,-353.7315C3099.0903,-351.4629 3105.6826,-349.3777 3112,-348 3214.8869,-325.5627 3964.6838,-289.6275 4151.7872,-280.9375\"/>\n<polygon fill=\"#000000\" stroke=\"#000000\" points=\"4152.2115,-284.4217 4162.0387,-280.4625 4151.8874,-277.4292 4152.2115,-284.4217\"/>\n<text text-anchor=\"middle\" x=\"3496.5\" y=\"-318.8\" font-family=\"Times,serif\" font-size=\"14.00\" fill=\"#000000\">med</text>\n</g>\n<!-- acc47 -->\n<g id=\"node54\" class=\"node\">\n<title>acc47</title>\n<ellipse fill=\"none\" stroke=\"#000000\" cx=\"1673\" cy=\"-192\" rx=\"27\" ry=\"18\"/>\n<text text-anchor=\"middle\" x=\"1673\" y=\"-188.3\" font-family=\"Times,serif\" font-size=\"14.00\" fill=\"#000000\">acc</text>\n</g>\n<!-- maint46&#45;&gt;acc47 -->\n<g id=\"edge53\" class=\"edge\">\n<title>maint46&#45;&gt;acc47</title>\n<path fill=\"none\" stroke=\"#000000\" d=\"M1807.6882,-267.8044C1792.7505,-261.0017 1773.582,-251.9303 1757,-243 1738.1652,-232.8564 1717.6287,-220.4141 1701.5762,-210.3586\"/>\n<polygon fill=\"#000000\" stroke=\"#000000\" points=\"1703.0141,-207.1273 1692.6896,-204.7493 1699.2777,-213.0467 1703.0141,-207.1273\"/>\n<text text-anchor=\"middle\" x=\"1768\" y=\"-231.8\" font-family=\"Times,serif\" font-size=\"14.00\" fill=\"#000000\">low</text>\n</g>\n<!-- unacc48 -->\n<g id=\"node55\" class=\"node\">\n<title>unacc48</title>\n<ellipse fill=\"none\" stroke=\"#000000\" cx=\"1750\" cy=\"-192\" rx=\"32.4942\" ry=\"18\"/>\n<text text-anchor=\"middle\" x=\"1750\" y=\"-188.3\" font-family=\"Times,serif\" font-size=\"14.00\" fill=\"#000000\">unacc</text>\n</g>\n<!-- maint46&#45;&gt;unacc48 -->\n<g id=\"edge54\" class=\"edge\">\n<title>maint46&#45;&gt;unacc48</title>\n<path fill=\"none\" stroke=\"#000000\" d=\"M1816.0402,-263.5438C1809.3547,-257.2944 1801.6899,-249.931 1795,-243 1786.7124,-234.4137 1777.9551,-224.6585 1770.3906,-215.9954\"/>\n<polygon fill=\"#000000\" stroke=\"#000000\" points=\"1773.0174,-213.6822 1763.8266,-208.4115 1767.7245,-218.2632 1773.0174,-213.6822\"/>\n<text text-anchor=\"middle\" x=\"1812\" y=\"-231.8\" font-family=\"Times,serif\" font-size=\"14.00\" fill=\"#000000\">vhigh</text>\n</g>\n<!-- unacc49 -->\n<g id=\"node56\" class=\"node\">\n<title>unacc49</title>\n<ellipse fill=\"none\" stroke=\"#000000\" cx=\"1833\" cy=\"-192\" rx=\"32.4942\" ry=\"18\"/>\n<text text-anchor=\"middle\" x=\"1833\" y=\"-188.3\" font-family=\"Times,serif\" font-size=\"14.00\" fill=\"#000000\">unacc</text>\n</g>\n<!-- maint46&#45;&gt;unacc49 -->\n<g id=\"edge55\" class=\"edge\">\n<title>maint46&#45;&gt;unacc49</title>\n<path fill=\"none\" stroke=\"#000000\" d=\"M1833,-260.9735C1833,-249.1918 1833,-233.5607 1833,-220.1581\"/>\n<polygon fill=\"#000000\" stroke=\"#000000\" points=\"1836.5001,-220.0033 1833,-210.0034 1829.5001,-220.0034 1836.5001,-220.0033\"/>\n<text text-anchor=\"middle\" x=\"1846.5\" y=\"-231.8\" font-family=\"Times,serif\" font-size=\"14.00\" fill=\"#000000\">high</text>\n</g>\n<!-- lug_boot50 -->\n<g id=\"node57\" class=\"node\">\n<title>lug_boot50</title>\n<ellipse fill=\"none\" stroke=\"#000000\" cx=\"1928\" cy=\"-192\" rx=\"44.6926\" ry=\"18\"/>\n<text text-anchor=\"middle\" x=\"1928\" y=\"-188.3\" font-family=\"Times,serif\" font-size=\"14.00\" fill=\"#000000\">lug_boot</text>\n</g>\n<!-- maint46&#45;&gt;lug_boot50 -->\n<g id=\"edge56\" class=\"edge\">\n<title>maint46&#45;&gt;lug_boot50</title>\n<path fill=\"none\" stroke=\"#000000\" d=\"M1849.9841,-263.4461C1864.4773,-250.1734 1885.5437,-230.8811 1902.1332,-215.6886\"/>\n<polygon fill=\"#000000\" stroke=\"#000000\" points=\"1904.8581,-217.939 1909.8691,-208.6041 1900.1305,-212.7767 1904.8581,-217.939\"/>\n<text text-anchor=\"middle\" x=\"1899.5\" y=\"-231.8\" font-family=\"Times,serif\" font-size=\"14.00\" fill=\"#000000\">med</text>\n</g>\n<!-- acc51 -->\n<g id=\"node58\" class=\"node\">\n<title>acc51</title>\n<ellipse fill=\"none\" stroke=\"#000000\" cx=\"1779\" cy=\"-105\" rx=\"27\" ry=\"18\"/>\n<text text-anchor=\"middle\" x=\"1779\" y=\"-101.3\" font-family=\"Times,serif\" font-size=\"14.00\" fill=\"#000000\">acc</text>\n</g>\n<!-- lug_boot50&#45;&gt;acc51 -->\n<g id=\"edge57\" class=\"edge\">\n<title>lug_boot50&#45;&gt;acc51</title>\n<path fill=\"none\" stroke=\"#000000\" d=\"M1898.4978,-178.2511C1885.3012,-171.8467 1869.6707,-163.906 1856,-156 1838.9879,-146.1616 1820.616,-134.0539 1806.0856,-124.1049\"/>\n<polygon fill=\"#000000\" stroke=\"#000000\" points=\"1807.7981,-121.0339 1797.5814,-118.2287 1803.8189,-126.7929 1807.7981,-121.0339\"/>\n<text text-anchor=\"middle\" x=\"1868.5\" y=\"-144.8\" font-family=\"Times,serif\" font-size=\"14.00\" fill=\"#000000\">med</text>\n</g>\n<!-- acc52 -->\n<g id=\"node59\" class=\"node\">\n<title>acc52</title>\n<ellipse fill=\"none\" stroke=\"#000000\" cx=\"1851\" cy=\"-105\" rx=\"27\" ry=\"18\"/>\n<text text-anchor=\"middle\" x=\"1851\" y=\"-101.3\" font-family=\"Times,serif\" font-size=\"14.00\" fill=\"#000000\">acc</text>\n</g>\n<!-- lug_boot50&#45;&gt;acc52 -->\n<g id=\"edge58\" class=\"edge\">\n<title>lug_boot50&#45;&gt;acc52</title>\n<path fill=\"none\" stroke=\"#000000\" d=\"M1912.7873,-174.8116C1901.0276,-161.5246 1884.6248,-142.9916 1871.6748,-128.3598\"/>\n<polygon fill=\"#000000\" stroke=\"#000000\" points=\"1874.1355,-125.8592 1864.887,-120.6905 1868.8937,-130.4985 1874.1355,-125.8592\"/>\n<text text-anchor=\"middle\" x=\"1904.5\" y=\"-144.8\" font-family=\"Times,serif\" font-size=\"14.00\" fill=\"#000000\">big</text>\n</g>\n<!-- doors53 -->\n<g id=\"node60\" class=\"node\">\n<title>doors53</title>\n<ellipse fill=\"none\" stroke=\"#000000\" cx=\"1928\" cy=\"-105\" rx=\"31.6951\" ry=\"18\"/>\n<text text-anchor=\"middle\" x=\"1928\" y=\"-101.3\" font-family=\"Times,serif\" font-size=\"14.00\" fill=\"#000000\">doors</text>\n</g>\n<!-- lug_boot50&#45;&gt;doors53 -->\n<g id=\"edge59\" class=\"edge\">\n<title>lug_boot50&#45;&gt;doors53</title>\n<path fill=\"none\" stroke=\"#000000\" d=\"M1928,-173.9735C1928,-162.1918 1928,-146.5607 1928,-133.1581\"/>\n<polygon fill=\"#000000\" stroke=\"#000000\" points=\"1931.5001,-133.0033 1928,-123.0034 1924.5001,-133.0034 1931.5001,-133.0033\"/>\n<text text-anchor=\"middle\" x=\"1943.5\" y=\"-144.8\" font-family=\"Times,serif\" font-size=\"14.00\" fill=\"#000000\">small</text>\n</g>\n<!-- unacc54 -->\n<g id=\"node61\" class=\"node\">\n<title>unacc54</title>\n<ellipse fill=\"none\" stroke=\"#000000\" cx=\"1779\" cy=\"-18\" rx=\"32.4942\" ry=\"18\"/>\n<text text-anchor=\"middle\" x=\"1779\" y=\"-14.3\" font-family=\"Times,serif\" font-size=\"14.00\" fill=\"#000000\">unacc</text>\n</g>\n<!-- doors53&#45;&gt;unacc54 -->\n<g id=\"edge60\" class=\"edge\">\n<title>doors53&#45;&gt;unacc54</title>\n<path fill=\"none\" stroke=\"#000000\" d=\"M1905.6932,-91.9752C1880.3468,-77.1756 1838.8026,-52.9183 1810.2398,-36.2407\"/>\n<polygon fill=\"#000000\" stroke=\"#000000\" points=\"1811.8598,-33.1337 1801.4593,-31.1138 1808.3302,-39.1787 1811.8598,-33.1337\"/>\n<text text-anchor=\"middle\" x=\"1867\" y=\"-57.8\" font-family=\"Times,serif\" font-size=\"14.00\" fill=\"#000000\">2</text>\n</g>\n<!-- acc55 -->\n<g id=\"node62\" class=\"node\">\n<title>acc55</title>\n<ellipse fill=\"none\" stroke=\"#000000\" cx=\"1856\" cy=\"-18\" rx=\"27\" ry=\"18\"/>\n<text text-anchor=\"middle\" x=\"1856\" y=\"-14.3\" font-family=\"Times,serif\" font-size=\"14.00\" fill=\"#000000\">acc</text>\n</g>\n<!-- doors53&#45;&gt;acc55 -->\n<g id=\"edge61\" class=\"edge\">\n<title>doors53&#45;&gt;acc55</title>\n<path fill=\"none\" stroke=\"#000000\" d=\"M1914.4574,-88.636C1903.5275,-75.429 1887.9992,-56.6657 1875.6938,-41.7967\"/>\n<polygon fill=\"#000000\" stroke=\"#000000\" points=\"1878.3108,-39.4692 1869.2387,-33.9967 1872.918,-43.9322 1878.3108,-39.4692\"/>\n<text text-anchor=\"middle\" x=\"1901\" y=\"-57.8\" font-family=\"Times,serif\" font-size=\"14.00\" fill=\"#000000\">3</text>\n</g>\n<!-- acc56 -->\n<g id=\"node63\" class=\"node\">\n<title>acc56</title>\n<ellipse fill=\"none\" stroke=\"#000000\" cx=\"1928\" cy=\"-18\" rx=\"27\" ry=\"18\"/>\n<text text-anchor=\"middle\" x=\"1928\" y=\"-14.3\" font-family=\"Times,serif\" font-size=\"14.00\" fill=\"#000000\">acc</text>\n</g>\n<!-- doors53&#45;&gt;acc56 -->\n<g id=\"edge62\" class=\"edge\">\n<title>doors53&#45;&gt;acc56</title>\n<path fill=\"none\" stroke=\"#000000\" d=\"M1928,-86.9735C1928,-75.1918 1928,-59.5607 1928,-46.1581\"/>\n<polygon fill=\"#000000\" stroke=\"#000000\" points=\"1931.5001,-46.0033 1928,-36.0034 1924.5001,-46.0034 1931.5001,-46.0033\"/>\n<text text-anchor=\"middle\" x=\"1946.5\" y=\"-57.8\" font-family=\"Times,serif\" font-size=\"14.00\" fill=\"#000000\">5more</text>\n</g>\n<!-- lug_boot58 -->\n<g id=\"node65\" class=\"node\">\n<title>lug_boot58</title>\n<ellipse fill=\"none\" stroke=\"#000000\" cx=\"2250\" cy=\"-192\" rx=\"44.6926\" ry=\"18\"/>\n<text text-anchor=\"middle\" x=\"2250\" y=\"-188.3\" font-family=\"Times,serif\" font-size=\"14.00\" fill=\"#000000\">lug_boot</text>\n</g>\n<!-- maint57&#45;&gt;lug_boot58 -->\n<g id=\"edge64\" class=\"edge\">\n<title>maint57&#45;&gt;lug_boot58</title>\n<path fill=\"none\" stroke=\"#000000\" d=\"M2913.7871,-275.0928C2804.8966,-261.4619 2441.0033,-215.9098 2303.3591,-198.6795\"/>\n<polygon fill=\"#000000\" stroke=\"#000000\" points=\"2303.4278,-195.1609 2293.0705,-197.3916 2302.5583,-202.1066 2303.4278,-195.1609\"/>\n<text text-anchor=\"middle\" x=\"2653.5\" y=\"-231.8\" font-family=\"Times,serif\" font-size=\"14.00\" fill=\"#000000\">high</text>\n</g>\n<!-- doors69 -->\n<g id=\"node76\" class=\"node\">\n<title>doors69</title>\n<ellipse fill=\"none\" stroke=\"#000000\" cx=\"2714\" cy=\"-192\" rx=\"31.6951\" ry=\"18\"/>\n<text text-anchor=\"middle\" x=\"2714\" y=\"-188.3\" font-family=\"Times,serif\" font-size=\"14.00\" fill=\"#000000\">doors</text>\n</g>\n<!-- maint57&#45;&gt;doors69 -->\n<g id=\"edge75\" class=\"edge\">\n<title>maint57&#45;&gt;doors69</title>\n<path fill=\"none\" stroke=\"#000000\" d=\"M2918.0493,-268.8497C2876.4938,-253.199 2796.7194,-223.1541 2750.1799,-205.6262\"/>\n<polygon fill=\"#000000\" stroke=\"#000000\" points=\"2751.371,-202.3348 2740.7791,-202.0856 2748.9037,-208.8856 2751.371,-202.3348\"/>\n<text text-anchor=\"middle\" x=\"2861\" y=\"-231.8\" font-family=\"Times,serif\" font-size=\"14.00\" fill=\"#000000\">vhigh</text>\n</g>\n<!-- lug_boot76 -->\n<g id=\"node83\" class=\"node\">\n<title>lug_boot76</title>\n<ellipse fill=\"none\" stroke=\"#000000\" cx=\"2945\" cy=\"-192\" rx=\"44.6926\" ry=\"18\"/>\n<text text-anchor=\"middle\" x=\"2945\" y=\"-188.3\" font-family=\"Times,serif\" font-size=\"14.00\" fill=\"#000000\">lug_boot</text>\n</g>\n<!-- maint57&#45;&gt;lug_boot76 -->\n<g id=\"edge82\" class=\"edge\">\n<title>maint57&#45;&gt;lug_boot76</title>\n<path fill=\"none\" stroke=\"#000000\" d=\"M2945,-260.9735C2945,-249.1918 2945,-233.5607 2945,-220.1581\"/>\n<polygon fill=\"#000000\" stroke=\"#000000\" points=\"2948.5001,-220.0033 2945,-210.0034 2941.5001,-220.0034 2948.5001,-220.0033\"/>\n<text text-anchor=\"middle\" x=\"2957.5\" y=\"-231.8\" font-family=\"Times,serif\" font-size=\"14.00\" fill=\"#000000\">med</text>\n</g>\n<!-- doors86 -->\n<g id=\"node93\" class=\"node\">\n<title>doors86</title>\n<ellipse fill=\"none\" stroke=\"#000000\" cx=\"3202\" cy=\"-192\" rx=\"31.6951\" ry=\"18\"/>\n<text text-anchor=\"middle\" x=\"3202\" y=\"-188.3\" font-family=\"Times,serif\" font-size=\"14.00\" fill=\"#000000\">doors</text>\n</g>\n<!-- maint57&#45;&gt;doors86 -->\n<g id=\"edge92\" class=\"edge\">\n<title>maint57&#45;&gt;doors86</title>\n<path fill=\"none\" stroke=\"#000000\" d=\"M2972.5035,-269.6895C3018.8521,-253.9995 3112.5571,-222.2784 3164.7546,-204.6084\"/>\n<polygon fill=\"#000000\" stroke=\"#000000\" points=\"3165.9561,-207.8968 3174.3058,-201.3751 3163.7115,-201.2664 3165.9561,-207.8968\"/>\n<text text-anchor=\"middle\" x=\"3100\" y=\"-231.8\" font-family=\"Times,serif\" font-size=\"14.00\" fill=\"#000000\">low</text>\n</g>\n<!-- vgood59 -->\n<g id=\"node66\" class=\"node\">\n<title>vgood59</title>\n<ellipse fill=\"none\" stroke=\"#000000\" cx=\"2083\" cy=\"-105\" rx=\"35.194\" ry=\"18\"/>\n<text text-anchor=\"middle\" x=\"2083\" y=\"-101.3\" font-family=\"Times,serif\" font-size=\"14.00\" fill=\"#000000\">vgood</text>\n</g>\n<!-- lug_boot58&#45;&gt;vgood59 -->\n<g id=\"edge65\" class=\"edge\">\n<title>lug_boot58&#45;&gt;vgood59</title>\n<path fill=\"none\" stroke=\"#000000\" d=\"M2222.4233,-177.6337C2193.5422,-162.5879 2148.1415,-138.936 2117.0458,-122.7365\"/>\n<polygon fill=\"#000000\" stroke=\"#000000\" points=\"2118.3746,-119.4823 2107.8888,-117.966 2115.1404,-125.6903 2118.3746,-119.4823\"/>\n<text text-anchor=\"middle\" x=\"2186.5\" y=\"-144.8\" font-family=\"Times,serif\" font-size=\"14.00\" fill=\"#000000\">big</text>\n</g>\n<!-- doors60 -->\n<g id=\"node67\" class=\"node\">\n<title>doors60</title>\n<ellipse fill=\"none\" stroke=\"#000000\" cx=\"2168\" cy=\"-105\" rx=\"31.6951\" ry=\"18\"/>\n<text text-anchor=\"middle\" x=\"2168\" y=\"-101.3\" font-family=\"Times,serif\" font-size=\"14.00\" fill=\"#000000\">doors</text>\n</g>\n<!-- lug_boot58&#45;&gt;doors60 -->\n<g id=\"edge66\" class=\"edge\">\n<title>lug_boot58&#45;&gt;doors60</title>\n<path fill=\"none\" stroke=\"#000000\" d=\"M2233.7994,-174.8116C2221.3549,-161.6082 2204.0277,-143.2245 2190.2779,-128.6363\"/>\n<polygon fill=\"#000000\" stroke=\"#000000\" points=\"2192.4668,-125.8558 2183.0609,-120.9793 2187.3729,-130.657 2192.4668,-125.8558\"/>\n<text text-anchor=\"middle\" x=\"2226.5\" y=\"-144.8\" font-family=\"Times,serif\" font-size=\"14.00\" fill=\"#000000\">med</text>\n</g>\n<!-- doors64 -->\n<g id=\"node71\" class=\"node\">\n<title>doors64</title>\n<ellipse fill=\"none\" stroke=\"#000000\" cx=\"2331\" cy=\"-105\" rx=\"31.6951\" ry=\"18\"/>\n<text text-anchor=\"middle\" x=\"2331\" y=\"-101.3\" font-family=\"Times,serif\" font-size=\"14.00\" fill=\"#000000\">doors</text>\n</g>\n<!-- lug_boot58&#45;&gt;doors64 -->\n<g id=\"edge70\" class=\"edge\">\n<title>lug_boot58&#45;&gt;doors64</title>\n<path fill=\"none\" stroke=\"#000000\" d=\"M2266.003,-174.8116C2278.2958,-161.6082 2295.4117,-143.2245 2308.9937,-128.6363\"/>\n<polygon fill=\"#000000\" stroke=\"#000000\" points=\"2311.8701,-130.6832 2316.1227,-120.9793 2306.7469,-125.9133 2311.8701,-130.6832\"/>\n<text text-anchor=\"middle\" x=\"2311.5\" y=\"-144.8\" font-family=\"Times,serif\" font-size=\"14.00\" fill=\"#000000\">small</text>\n</g>\n<!-- vgood61 -->\n<g id=\"node68\" class=\"node\">\n<title>vgood61</title>\n<ellipse fill=\"none\" stroke=\"#000000\" cx=\"2008\" cy=\"-18\" rx=\"35.194\" ry=\"18\"/>\n<text text-anchor=\"middle\" x=\"2008\" y=\"-14.3\" font-family=\"Times,serif\" font-size=\"14.00\" fill=\"#000000\">vgood</text>\n</g>\n<!-- doors60&#45;&gt;vgood61 -->\n<g id=\"edge67\" class=\"edge\">\n<title>doors60&#45;&gt;vgood61</title>\n<path fill=\"none\" stroke=\"#000000\" d=\"M2144.7346,-92.3495C2117.5578,-77.5721 2072.384,-53.0088 2041.45,-36.1885\"/>\n<polygon fill=\"#000000\" stroke=\"#000000\" points=\"2042.7999,-32.9385 2032.3427,-31.2363 2039.456,-39.0882 2042.7999,-32.9385\"/>\n<text text-anchor=\"middle\" x=\"2102\" y=\"-57.8\" font-family=\"Times,serif\" font-size=\"14.00\" fill=\"#000000\">3</text>\n</g>\n<!-- acc62 -->\n<g id=\"node69\" class=\"node\">\n<title>acc62</title>\n<ellipse fill=\"none\" stroke=\"#000000\" cx=\"2088\" cy=\"-18\" rx=\"27\" ry=\"18\"/>\n<text text-anchor=\"middle\" x=\"2088\" y=\"-14.3\" font-family=\"Times,serif\" font-size=\"14.00\" fill=\"#000000\">acc</text>\n</g>\n<!-- doors60&#45;&gt;acc62 -->\n<g id=\"edge68\" class=\"edge\">\n<title>doors60&#45;&gt;acc62</title>\n<path fill=\"none\" stroke=\"#000000\" d=\"M2152.9526,-88.636C2140.5417,-75.1391 2122.7947,-55.8392 2108.9867,-40.8231\"/>\n<polygon fill=\"#000000\" stroke=\"#000000\" points=\"2111.5194,-38.4065 2102.1743,-33.4145 2106.3667,-43.1446 2111.5194,-38.4065\"/>\n<text text-anchor=\"middle\" x=\"2137\" y=\"-57.8\" font-family=\"Times,serif\" font-size=\"14.00\" fill=\"#000000\">2</text>\n</g>\n<!-- vgood63 -->\n<g id=\"node70\" class=\"node\">\n<title>vgood63</title>\n<ellipse fill=\"none\" stroke=\"#000000\" cx=\"2168\" cy=\"-18\" rx=\"35.194\" ry=\"18\"/>\n<text text-anchor=\"middle\" x=\"2168\" y=\"-14.3\" font-family=\"Times,serif\" font-size=\"14.00\" fill=\"#000000\">vgood</text>\n</g>\n<!-- doors60&#45;&gt;vgood63 -->\n<g id=\"edge69\" class=\"edge\">\n<title>doors60&#45;&gt;vgood63</title>\n<path fill=\"none\" stroke=\"#000000\" d=\"M2168,-86.9735C2168,-75.1918 2168,-59.5607 2168,-46.1581\"/>\n<polygon fill=\"#000000\" stroke=\"#000000\" points=\"2171.5001,-46.0033 2168,-36.0034 2164.5001,-46.0034 2171.5001,-46.0033\"/>\n<text text-anchor=\"middle\" x=\"2172\" y=\"-57.8\" font-family=\"Times,serif\" font-size=\"14.00\" fill=\"#000000\">4</text>\n</g>\n<!-- unacc65 -->\n<g id=\"node72\" class=\"node\">\n<title>unacc65</title>\n<ellipse fill=\"none\" stroke=\"#000000\" cx=\"2254\" cy=\"-18\" rx=\"32.4942\" ry=\"18\"/>\n<text text-anchor=\"middle\" x=\"2254\" y=\"-14.3\" font-family=\"Times,serif\" font-size=\"14.00\" fill=\"#000000\">unacc</text>\n</g>\n<!-- doors64&#45;&gt;unacc65 -->\n<g id=\"edge71\" class=\"edge\">\n<title>doors64&#45;&gt;unacc65</title>\n<path fill=\"none\" stroke=\"#000000\" d=\"M2316.5169,-88.636C2304.9015,-75.5121 2288.4301,-56.9015 2275.3101,-42.0777\"/>\n<polygon fill=\"#000000\" stroke=\"#000000\" points=\"2277.6667,-39.4593 2268.4182,-34.2907 2272.4249,-44.0987 2277.6667,-39.4593\"/>\n<text text-anchor=\"middle\" x=\"2302\" y=\"-57.8\" font-family=\"Times,serif\" font-size=\"14.00\" fill=\"#000000\">2</text>\n</g>\n<!-- acc66 -->\n<g id=\"node73\" class=\"node\">\n<title>acc66</title>\n<ellipse fill=\"none\" stroke=\"#000000\" cx=\"2331\" cy=\"-18\" rx=\"27\" ry=\"18\"/>\n<text text-anchor=\"middle\" x=\"2331\" y=\"-14.3\" font-family=\"Times,serif\" font-size=\"14.00\" fill=\"#000000\">acc</text>\n</g>\n<!-- doors64&#45;&gt;acc66 -->\n<g id=\"edge72\" class=\"edge\">\n<title>doors64&#45;&gt;acc66</title>\n<path fill=\"none\" stroke=\"#000000\" d=\"M2331,-86.9735C2331,-75.1918 2331,-59.5607 2331,-46.1581\"/>\n<polygon fill=\"#000000\" stroke=\"#000000\" points=\"2334.5001,-46.0033 2331,-36.0034 2327.5001,-46.0034 2334.5001,-46.0033\"/>\n<text text-anchor=\"middle\" x=\"2335\" y=\"-57.8\" font-family=\"Times,serif\" font-size=\"14.00\" fill=\"#000000\">3</text>\n</g>\n<!-- acc67 -->\n<g id=\"node74\" class=\"node\">\n<title>acc67</title>\n<ellipse fill=\"none\" stroke=\"#000000\" cx=\"2403\" cy=\"-18\" rx=\"27\" ry=\"18\"/>\n<text text-anchor=\"middle\" x=\"2403\" y=\"-14.3\" font-family=\"Times,serif\" font-size=\"14.00\" fill=\"#000000\">acc</text>\n</g>\n<!-- doors64&#45;&gt;acc67 -->\n<g id=\"edge73\" class=\"edge\">\n<title>doors64&#45;&gt;acc67</title>\n<path fill=\"none\" stroke=\"#000000\" d=\"M2344.5426,-88.636C2355.4725,-75.429 2371.0008,-56.6657 2383.3062,-41.7967\"/>\n<polygon fill=\"#000000\" stroke=\"#000000\" points=\"2386.082,-43.9322 2389.7613,-33.9967 2380.6892,-39.4692 2386.082,-43.9322\"/>\n<text text-anchor=\"middle\" x=\"2390.5\" y=\"-57.8\" font-family=\"Times,serif\" font-size=\"14.00\" fill=\"#000000\">5more</text>\n</g>\n<!-- acc68 -->\n<g id=\"node75\" class=\"node\">\n<title>acc68</title>\n<ellipse fill=\"none\" stroke=\"#000000\" cx=\"2475\" cy=\"-18\" rx=\"27\" ry=\"18\"/>\n<text text-anchor=\"middle\" x=\"2475\" y=\"-14.3\" font-family=\"Times,serif\" font-size=\"14.00\" fill=\"#000000\">acc</text>\n</g>\n<!-- doors64&#45;&gt;acc68 -->\n<g id=\"edge74\" class=\"edge\">\n<title>doors64&#45;&gt;acc68</title>\n<path fill=\"none\" stroke=\"#000000\" d=\"M2358.1472,-95.2599C2374.5817,-88.8405 2395.6472,-79.6636 2413,-69 2426.6643,-60.6031 2440.5713,-49.4506 2451.742,-39.7164\"/>\n<polygon fill=\"#000000\" stroke=\"#000000\" points=\"2454.2114,-42.204 2459.3499,-32.9387 2449.555,-36.9773 2454.2114,-42.204\"/>\n<text text-anchor=\"middle\" x=\"2437\" y=\"-57.8\" font-family=\"Times,serif\" font-size=\"14.00\" fill=\"#000000\">4</text>\n</g>\n<!-- lug_boot70 -->\n<g id=\"node77\" class=\"node\">\n<title>lug_boot70</title>\n<ellipse fill=\"none\" stroke=\"#000000\" cx=\"2552\" cy=\"-105\" rx=\"44.6926\" ry=\"18\"/>\n<text text-anchor=\"middle\" x=\"2552\" y=\"-101.3\" font-family=\"Times,serif\" font-size=\"14.00\" fill=\"#000000\">lug_boot</text>\n</g>\n<!-- doors69&#45;&gt;lug_boot70 -->\n<g id=\"edge76\" class=\"edge\">\n<title>doors69&#45;&gt;lug_boot70</title>\n<path fill=\"none\" stroke=\"#000000\" d=\"M2690.7893,-179.535C2663.8748,-165.0809 2619.1982,-141.0879 2587.8205,-124.237\"/>\n<polygon fill=\"#000000\" stroke=\"#000000\" points=\"2589.413,-121.1194 2578.9471,-119.4716 2586.1011,-127.2864 2589.413,-121.1194\"/>\n<text text-anchor=\"middle\" x=\"2647\" y=\"-144.8\" font-family=\"Times,serif\" font-size=\"14.00\" fill=\"#000000\">2</text>\n</g>\n<!-- acc73 -->\n<g id=\"node80\" class=\"node\">\n<title>acc73</title>\n<ellipse fill=\"none\" stroke=\"#000000\" cx=\"2642\" cy=\"-105\" rx=\"27\" ry=\"18\"/>\n<text text-anchor=\"middle\" x=\"2642\" y=\"-101.3\" font-family=\"Times,serif\" font-size=\"14.00\" fill=\"#000000\">acc</text>\n</g>\n<!-- doors69&#45;&gt;acc73 -->\n<g id=\"edge79\" class=\"edge\">\n<title>doors69&#45;&gt;acc73</title>\n<path fill=\"none\" stroke=\"#000000\" d=\"M2700.4574,-175.636C2689.5275,-162.429 2673.9992,-143.6657 2661.6938,-128.7967\"/>\n<polygon fill=\"#000000\" stroke=\"#000000\" points=\"2664.3108,-126.4692 2655.2387,-120.9967 2658.918,-130.9322 2664.3108,-126.4692\"/>\n<text text-anchor=\"middle\" x=\"2687\" y=\"-144.8\" font-family=\"Times,serif\" font-size=\"14.00\" fill=\"#000000\">4</text>\n</g>\n<!-- acc74 -->\n<g id=\"node81\" class=\"node\">\n<title>acc74</title>\n<ellipse fill=\"none\" stroke=\"#000000\" cx=\"2714\" cy=\"-105\" rx=\"27\" ry=\"18\"/>\n<text text-anchor=\"middle\" x=\"2714\" y=\"-101.3\" font-family=\"Times,serif\" font-size=\"14.00\" fill=\"#000000\">acc</text>\n</g>\n<!-- doors69&#45;&gt;acc74 -->\n<g id=\"edge80\" class=\"edge\">\n<title>doors69&#45;&gt;acc74</title>\n<path fill=\"none\" stroke=\"#000000\" d=\"M2714,-173.9735C2714,-162.1918 2714,-146.5607 2714,-133.1581\"/>\n<polygon fill=\"#000000\" stroke=\"#000000\" points=\"2717.5001,-133.0033 2714,-123.0034 2710.5001,-133.0034 2717.5001,-133.0033\"/>\n<text text-anchor=\"middle\" x=\"2718\" y=\"-144.8\" font-family=\"Times,serif\" font-size=\"14.00\" fill=\"#000000\">3</text>\n</g>\n<!-- acc75 -->\n<g id=\"node82\" class=\"node\">\n<title>acc75</title>\n<ellipse fill=\"none\" stroke=\"#000000\" cx=\"2786\" cy=\"-105\" rx=\"27\" ry=\"18\"/>\n<text text-anchor=\"middle\" x=\"2786\" y=\"-101.3\" font-family=\"Times,serif\" font-size=\"14.00\" fill=\"#000000\">acc</text>\n</g>\n<!-- doors69&#45;&gt;acc75 -->\n<g id=\"edge81\" class=\"edge\">\n<title>doors69&#45;&gt;acc75</title>\n<path fill=\"none\" stroke=\"#000000\" d=\"M2727.5426,-175.636C2738.4725,-162.429 2754.0008,-143.6657 2766.3062,-128.7967\"/>\n<polygon fill=\"#000000\" stroke=\"#000000\" points=\"2769.082,-130.9322 2772.7613,-120.9967 2763.6892,-126.4692 2769.082,-130.9322\"/>\n<text text-anchor=\"middle\" x=\"2773.5\" y=\"-144.8\" font-family=\"Times,serif\" font-size=\"14.00\" fill=\"#000000\">5more</text>\n</g>\n<!-- unacc71 -->\n<g id=\"node78\" class=\"node\">\n<title>unacc71</title>\n<ellipse fill=\"none\" stroke=\"#000000\" cx=\"2552\" cy=\"-18\" rx=\"32.4942\" ry=\"18\"/>\n<text text-anchor=\"middle\" x=\"2552\" y=\"-14.3\" font-family=\"Times,serif\" font-size=\"14.00\" fill=\"#000000\">unacc</text>\n</g>\n<!-- lug_boot70&#45;&gt;unacc71 -->\n<g id=\"edge77\" class=\"edge\">\n<title>lug_boot70&#45;&gt;unacc71</title>\n<path fill=\"none\" stroke=\"#000000\" d=\"M2552,-86.9735C2552,-75.1918 2552,-59.5607 2552,-46.1581\"/>\n<polygon fill=\"#000000\" stroke=\"#000000\" points=\"2555.5001,-46.0033 2552,-36.0034 2548.5001,-46.0034 2555.5001,-46.0033\"/>\n<text text-anchor=\"middle\" x=\"2567.5\" y=\"-57.8\" font-family=\"Times,serif\" font-size=\"14.00\" fill=\"#000000\">small</text>\n</g>\n<!-- acc72 -->\n<g id=\"node79\" class=\"node\">\n<title>acc72</title>\n<ellipse fill=\"none\" stroke=\"#000000\" cx=\"2629\" cy=\"-18\" rx=\"27\" ry=\"18\"/>\n<text text-anchor=\"middle\" x=\"2629\" y=\"-14.3\" font-family=\"Times,serif\" font-size=\"14.00\" fill=\"#000000\">acc</text>\n</g>\n<!-- lug_boot70&#45;&gt;acc72 -->\n<g id=\"edge78\" class=\"edge\">\n<title>lug_boot70&#45;&gt;acc72</title>\n<path fill=\"none\" stroke=\"#000000\" d=\"M2569.0287,-88.0615C2574.838,-82.1325 2581.3024,-75.365 2587,-69 2594.6525,-60.451 2602.7373,-50.7961 2609.7482,-42.2049\"/>\n<polygon fill=\"#000000\" stroke=\"#000000\" points=\"2612.5226,-44.3403 2616.0917,-34.3647 2607.0808,-39.9373 2612.5226,-44.3403\"/>\n<text text-anchor=\"middle\" x=\"2611.5\" y=\"-57.8\" font-family=\"Times,serif\" font-size=\"14.00\" fill=\"#000000\">med</text>\n</g>\n<!-- doors77 -->\n<g id=\"node84\" class=\"node\">\n<title>doors77</title>\n<ellipse fill=\"none\" stroke=\"#000000\" cx=\"2863\" cy=\"-105\" rx=\"31.6951\" ry=\"18\"/>\n<text text-anchor=\"middle\" x=\"2863\" y=\"-101.3\" font-family=\"Times,serif\" font-size=\"14.00\" fill=\"#000000\">doors</text>\n</g>\n<!-- lug_boot76&#45;&gt;doors77 -->\n<g id=\"edge83\" class=\"edge\">\n<title>lug_boot76&#45;&gt;doors77</title>\n<path fill=\"none\" stroke=\"#000000\" d=\"M2928.525,-175.2403C2922.6438,-169.2086 2915.9924,-162.3306 2910,-156 2901.6348,-147.1627 2892.5495,-137.3546 2884.6164,-128.7196\"/>\n<polygon fill=\"#000000\" stroke=\"#000000\" points=\"2887.0448,-126.1891 2877.7085,-121.1807 2881.8838,-130.9182 2887.0448,-126.1891\"/>\n<text text-anchor=\"middle\" x=\"2925.5\" y=\"-144.8\" font-family=\"Times,serif\" font-size=\"14.00\" fill=\"#000000\">small</text>\n</g>\n<!-- doors81 -->\n<g id=\"node88\" class=\"node\">\n<title>doors81</title>\n<ellipse fill=\"none\" stroke=\"#000000\" cx=\"2945\" cy=\"-105\" rx=\"31.6951\" ry=\"18\"/>\n<text text-anchor=\"middle\" x=\"2945\" y=\"-101.3\" font-family=\"Times,serif\" font-size=\"14.00\" fill=\"#000000\">doors</text>\n</g>\n<!-- lug_boot76&#45;&gt;doors81 -->\n<g id=\"edge87\" class=\"edge\">\n<title>lug_boot76&#45;&gt;doors81</title>\n<path fill=\"none\" stroke=\"#000000\" d=\"M2945,-173.9735C2945,-162.1918 2945,-146.5607 2945,-133.1581\"/>\n<polygon fill=\"#000000\" stroke=\"#000000\" points=\"2948.5001,-133.0033 2945,-123.0034 2941.5001,-133.0034 2948.5001,-133.0033\"/>\n<text text-anchor=\"middle\" x=\"2957.5\" y=\"-144.8\" font-family=\"Times,serif\" font-size=\"14.00\" fill=\"#000000\">med</text>\n</g>\n<!-- vgood85 -->\n<g id=\"node92\" class=\"node\">\n<title>vgood85</title>\n<ellipse fill=\"none\" stroke=\"#000000\" cx=\"3030\" cy=\"-105\" rx=\"35.194\" ry=\"18\"/>\n<text text-anchor=\"middle\" x=\"3030\" y=\"-101.3\" font-family=\"Times,serif\" font-size=\"14.00\" fill=\"#000000\">vgood</text>\n</g>\n<!-- lug_boot76&#45;&gt;vgood85 -->\n<g id=\"edge91\" class=\"edge\">\n<title>lug_boot76&#45;&gt;vgood85</title>\n<path fill=\"none\" stroke=\"#000000\" d=\"M2961.3889,-175.2255C2974.3705,-161.9384 2992.6589,-143.2198 3007.0899,-128.4492\"/>\n<polygon fill=\"#000000\" stroke=\"#000000\" points=\"3009.7513,-130.7335 3014.2362,-121.1347 3004.7443,-125.8416 3009.7513,-130.7335\"/>\n<text text-anchor=\"middle\" x=\"3002.5\" y=\"-144.8\" font-family=\"Times,serif\" font-size=\"14.00\" fill=\"#000000\">big</text>\n</g>\n<!-- good78 -->\n<g id=\"node85\" class=\"node\">\n<title>good78</title>\n<ellipse fill=\"none\" stroke=\"#000000\" cx=\"2705\" cy=\"-18\" rx=\"30.5947\" ry=\"18\"/>\n<text text-anchor=\"middle\" x=\"2705\" y=\"-14.3\" font-family=\"Times,serif\" font-size=\"14.00\" fill=\"#000000\">good</text>\n</g>\n<!-- doors77&#45;&gt;good78 -->\n<g id=\"edge84\" class=\"edge\">\n<title>doors77&#45;&gt;good78</title>\n<path fill=\"none\" stroke=\"#000000\" d=\"M2837.8916,-93.8566C2832.6508,-91.5645 2827.1531,-89.1848 2822,-87 2802.5475,-78.7526 2796.5516,-79.1122 2778,-69 2761.9651,-60.2596 2745.1853,-48.7267 2731.7621,-38.8393\"/>\n<polygon fill=\"#000000\" stroke=\"#000000\" points=\"2733.5692,-35.8199 2723.4675,-32.6254 2729.3723,-41.4222 2733.5692,-35.8199\"/>\n<text text-anchor=\"middle\" x=\"2796.5\" y=\"-57.8\" font-family=\"Times,serif\" font-size=\"14.00\" fill=\"#000000\">5more</text>\n</g>\n<!-- good79 -->\n<g id=\"node86\" class=\"node\">\n<title>good79</title>\n<ellipse fill=\"none\" stroke=\"#000000\" cx=\"2784\" cy=\"-18\" rx=\"30.5947\" ry=\"18\"/>\n<text text-anchor=\"middle\" x=\"2784\" y=\"-14.3\" font-family=\"Times,serif\" font-size=\"14.00\" fill=\"#000000\">good</text>\n</g>\n<!-- doors77&#45;&gt;good79 -->\n<g id=\"edge85\" class=\"edge\">\n<title>doors77&#45;&gt;good79</title>\n<path fill=\"none\" stroke=\"#000000\" d=\"M2848.1407,-88.636C2836.1482,-75.429 2819.1103,-56.6657 2805.6085,-41.7967\"/>\n<polygon fill=\"#000000\" stroke=\"#000000\" points=\"2807.8394,-39.0471 2798.5258,-33.9967 2802.6571,-43.7529 2807.8394,-39.0471\"/>\n<text text-anchor=\"middle\" x=\"2833\" y=\"-57.8\" font-family=\"Times,serif\" font-size=\"14.00\" fill=\"#000000\">4</text>\n</g>\n<!-- unacc80 -->\n<g id=\"node87\" class=\"node\">\n<title>unacc80</title>\n<ellipse fill=\"none\" stroke=\"#000000\" cx=\"2865\" cy=\"-18\" rx=\"32.4942\" ry=\"18\"/>\n<text text-anchor=\"middle\" x=\"2865\" y=\"-14.3\" font-family=\"Times,serif\" font-size=\"14.00\" fill=\"#000000\">unacc</text>\n</g>\n<!-- doors77&#45;&gt;unacc80 -->\n<g id=\"edge86\" class=\"edge\">\n<title>doors77&#45;&gt;unacc80</title>\n<path fill=\"none\" stroke=\"#000000\" d=\"M2863.4144,-86.9735C2863.6852,-75.1918 2864.0446,-59.5607 2864.3527,-46.1581\"/>\n<polygon fill=\"#000000\" stroke=\"#000000\" points=\"2867.8553,-46.0812 2864.5861,-36.0034 2860.8571,-45.9202 2867.8553,-46.0812\"/>\n<text text-anchor=\"middle\" x=\"2869\" y=\"-57.8\" font-family=\"Times,serif\" font-size=\"14.00\" fill=\"#000000\">2</text>\n</g>\n<!-- vgood82 -->\n<g id=\"node89\" class=\"node\">\n<title>vgood82</title>\n<ellipse fill=\"none\" stroke=\"#000000\" cx=\"2951\" cy=\"-18\" rx=\"35.194\" ry=\"18\"/>\n<text text-anchor=\"middle\" x=\"2951\" y=\"-14.3\" font-family=\"Times,serif\" font-size=\"14.00\" fill=\"#000000\">vgood</text>\n</g>\n<!-- doors81&#45;&gt;vgood82 -->\n<g id=\"edge88\" class=\"edge\">\n<title>doors81&#45;&gt;vgood82</title>\n<path fill=\"none\" stroke=\"#000000\" d=\"M2946.2432,-86.9735C2947.0557,-75.1918 2948.1337,-59.5607 2949.0581,-46.1581\"/>\n<polygon fill=\"#000000\" stroke=\"#000000\" points=\"2952.562,-46.2205 2949.7584,-36.0034 2945.5786,-45.7388 2952.562,-46.2205\"/>\n<text text-anchor=\"middle\" x=\"2953\" y=\"-57.8\" font-family=\"Times,serif\" font-size=\"14.00\" fill=\"#000000\">4</text>\n</g>\n<!-- good83 -->\n<g id=\"node90\" class=\"node\">\n<title>good83</title>\n<ellipse fill=\"none\" stroke=\"#000000\" cx=\"3035\" cy=\"-18\" rx=\"30.5947\" ry=\"18\"/>\n<text text-anchor=\"middle\" x=\"3035\" y=\"-14.3\" font-family=\"Times,serif\" font-size=\"14.00\" fill=\"#000000\">good</text>\n</g>\n<!-- doors81&#45;&gt;good83 -->\n<g id=\"edge89\" class=\"edge\">\n<title>doors81&#45;&gt;good83</title>\n<path fill=\"none\" stroke=\"#000000\" d=\"M2961.0902,-89.4461C2975.1683,-75.8374 2995.7927,-55.9004 3011.6799,-40.5427\"/>\n<polygon fill=\"#000000\" stroke=\"#000000\" points=\"3014.2918,-42.8859 3019.0491,-33.4192 3009.4266,-37.853 3014.2918,-42.8859\"/>\n<text text-anchor=\"middle\" x=\"3000\" y=\"-57.8\" font-family=\"Times,serif\" font-size=\"14.00\" fill=\"#000000\">2</text>\n</g>\n<!-- vgood84 -->\n<g id=\"node91\" class=\"node\">\n<title>vgood84</title>\n<ellipse fill=\"none\" stroke=\"#000000\" cx=\"3119\" cy=\"-18\" rx=\"35.194\" ry=\"18\"/>\n<text text-anchor=\"middle\" x=\"3119\" y=\"-14.3\" font-family=\"Times,serif\" font-size=\"14.00\" fill=\"#000000\">vgood</text>\n</g>\n<!-- doors81&#45;&gt;vgood84 -->\n<g id=\"edge90\" class=\"edge\">\n<title>doors81&#45;&gt;vgood84</title>\n<path fill=\"none\" stroke=\"#000000\" d=\"M2969.194,-92.903C2999.1535,-77.9232 3050.3899,-52.305 3084.4735,-35.2633\"/>\n<polygon fill=\"#000000\" stroke=\"#000000\" points=\"3086.221,-38.3027 3093.6,-30.7 3083.0904,-32.0417 3086.221,-38.3027\"/>\n<text text-anchor=\"middle\" x=\"3047\" y=\"-57.8\" font-family=\"Times,serif\" font-size=\"14.00\" fill=\"#000000\">3</text>\n</g>\n<!-- vgood87 -->\n<g id=\"node94\" class=\"node\">\n<title>vgood87</title>\n<ellipse fill=\"none\" stroke=\"#000000\" cx=\"3118\" cy=\"-105\" rx=\"35.194\" ry=\"18\"/>\n<text text-anchor=\"middle\" x=\"3118\" y=\"-101.3\" font-family=\"Times,serif\" font-size=\"14.00\" fill=\"#000000\">vgood</text>\n</g>\n<!-- doors86&#45;&gt;vgood87 -->\n<g id=\"edge93\" class=\"edge\">\n<title>doors86&#45;&gt;vgood87</title>\n<path fill=\"none\" stroke=\"#000000\" d=\"M3186.5931,-176.0429C3173.7672,-162.7589 3155.3207,-143.6535 3140.7868,-128.6006\"/>\n<polygon fill=\"#000000\" stroke=\"#000000\" points=\"3143.0576,-125.9136 3133.5937,-121.1506 3138.0217,-130.7757 3143.0576,-125.9136\"/>\n<text text-anchor=\"middle\" x=\"3170\" y=\"-144.8\" font-family=\"Times,serif\" font-size=\"14.00\" fill=\"#000000\">4</text>\n</g>\n<!-- good88 -->\n<g id=\"node95\" class=\"node\">\n<title>good88</title>\n<ellipse fill=\"none\" stroke=\"#000000\" cx=\"3202\" cy=\"-105\" rx=\"30.5947\" ry=\"18\"/>\n<text text-anchor=\"middle\" x=\"3202\" y=\"-101.3\" font-family=\"Times,serif\" font-size=\"14.00\" fill=\"#000000\">good</text>\n</g>\n<!-- doors86&#45;&gt;good88 -->\n<g id=\"edge94\" class=\"edge\">\n<title>doors86&#45;&gt;good88</title>\n<path fill=\"none\" stroke=\"#000000\" d=\"M3202,-173.9735C3202,-162.1918 3202,-146.5607 3202,-133.1581\"/>\n<polygon fill=\"#000000\" stroke=\"#000000\" points=\"3205.5001,-133.0033 3202,-123.0034 3198.5001,-133.0034 3205.5001,-133.0033\"/>\n<text text-anchor=\"middle\" x=\"3220.5\" y=\"-144.8\" font-family=\"Times,serif\" font-size=\"14.00\" fill=\"#000000\">5more</text>\n</g>\n<!-- lug_boot89 -->\n<g id=\"node96\" class=\"node\">\n<title>lug_boot89</title>\n<ellipse fill=\"none\" stroke=\"#000000\" cx=\"3295\" cy=\"-105\" rx=\"44.6926\" ry=\"18\"/>\n<text text-anchor=\"middle\" x=\"3295\" y=\"-101.3\" font-family=\"Times,serif\" font-size=\"14.00\" fill=\"#000000\">lug_boot</text>\n</g>\n<!-- doors86&#45;&gt;lug_boot89 -->\n<g id=\"edge95\" class=\"edge\">\n<title>doors86&#45;&gt;lug_boot89</title>\n<path fill=\"none\" stroke=\"#000000\" d=\"M3219.7469,-176.7936C3227.0327,-170.454 3235.5015,-162.9593 3243,-156 3252.3191,-147.351 3262.3394,-137.6287 3271.0726,-129.0103\"/>\n<polygon fill=\"#000000\" stroke=\"#000000\" points=\"3273.7312,-131.3029 3278.3658,-121.7755 3268.8014,-126.3333 3273.7312,-131.3029\"/>\n<text text-anchor=\"middle\" x=\"3262\" y=\"-144.8\" font-family=\"Times,serif\" font-size=\"14.00\" fill=\"#000000\">2</text>\n</g>\n<!-- good92 -->\n<g id=\"node99\" class=\"node\">\n<title>good92</title>\n<ellipse fill=\"none\" stroke=\"#000000\" cx=\"3388\" cy=\"-105\" rx=\"30.5947\" ry=\"18\"/>\n<text text-anchor=\"middle\" x=\"3388\" y=\"-101.3\" font-family=\"Times,serif\" font-size=\"14.00\" fill=\"#000000\">good</text>\n</g>\n<!-- doors86&#45;&gt;good92 -->\n<g id=\"edge98\" class=\"edge\">\n<title>doors86&#45;&gt;good92</title>\n<path fill=\"none\" stroke=\"#000000\" d=\"M3226.6994,-180.4471C3259.5376,-165.0873 3317.6965,-137.8839 3354.4753,-120.6809\"/>\n<polygon fill=\"#000000\" stroke=\"#000000\" points=\"3356.2144,-123.7315 3363.7896,-116.3242 3353.2486,-117.3908 3356.2144,-123.7315\"/>\n<text text-anchor=\"middle\" x=\"3311\" y=\"-144.8\" font-family=\"Times,serif\" font-size=\"14.00\" fill=\"#000000\">3</text>\n</g>\n<!-- good90 -->\n<g id=\"node97\" class=\"node\">\n<title>good90</title>\n<ellipse fill=\"none\" stroke=\"#000000\" cx=\"3254\" cy=\"-18\" rx=\"30.5947\" ry=\"18\"/>\n<text text-anchor=\"middle\" x=\"3254\" y=\"-14.3\" font-family=\"Times,serif\" font-size=\"14.00\" fill=\"#000000\">good</text>\n</g>\n<!-- lug_boot89&#45;&gt;good90 -->\n<g id=\"edge96\" class=\"edge\">\n<title>lug_boot89&#45;&gt;good90</title>\n<path fill=\"none\" stroke=\"#000000\" d=\"M3286.5048,-86.9735C3280.767,-74.7983 3273.092,-58.5122 3266.6407,-44.8228\"/>\n<polygon fill=\"#000000\" stroke=\"#000000\" points=\"3269.6336,-42.9635 3262.2046,-35.4097 3263.3016,-45.9476 3269.6336,-42.9635\"/>\n<text text-anchor=\"middle\" x=\"3289.5\" y=\"-57.8\" font-family=\"Times,serif\" font-size=\"14.00\" fill=\"#000000\">med</text>\n</g>\n<!-- unacc91 -->\n<g id=\"node98\" class=\"node\">\n<title>unacc91</title>\n<ellipse fill=\"none\" stroke=\"#000000\" cx=\"3335\" cy=\"-18\" rx=\"32.4942\" ry=\"18\"/>\n<text text-anchor=\"middle\" x=\"3335\" y=\"-14.3\" font-family=\"Times,serif\" font-size=\"14.00\" fill=\"#000000\">unacc</text>\n</g>\n<!-- lug_boot89&#45;&gt;unacc91 -->\n<g id=\"edge97\" class=\"edge\">\n<title>lug_boot89&#45;&gt;unacc91</title>\n<path fill=\"none\" stroke=\"#000000\" d=\"M3303.288,-86.9735C3308.849,-74.8784 3316.2752,-58.7263 3322.5433,-45.0934\"/>\n<polygon fill=\"#000000\" stroke=\"#000000\" points=\"3325.8621,-46.2535 3326.8595,-35.7057 3319.5021,-43.3293 3325.8621,-46.2535\"/>\n<text text-anchor=\"middle\" x=\"3333.5\" y=\"-57.8\" font-family=\"Times,serif\" font-size=\"14.00\" fill=\"#000000\">small</text>\n</g>\n<!-- acc94 -->\n<g id=\"node101\" class=\"node\">\n<title>acc94</title>\n<ellipse fill=\"none\" stroke=\"#000000\" cx=\"3292\" cy=\"-192\" rx=\"27\" ry=\"18\"/>\n<text text-anchor=\"middle\" x=\"3292\" y=\"-188.3\" font-family=\"Times,serif\" font-size=\"14.00\" fill=\"#000000\">acc</text>\n</g>\n<!-- maint93&#45;&gt;acc94 -->\n<g id=\"edge100\" class=\"edge\">\n<title>maint93&#45;&gt;acc94</title>\n<path fill=\"none\" stroke=\"#000000\" d=\"M3350.4574,-262.636C3339.5275,-249.429 3323.9992,-230.6657 3311.6938,-215.7967\"/>\n<polygon fill=\"#000000\" stroke=\"#000000\" points=\"3314.3108,-213.4692 3305.2387,-207.9967 3308.918,-217.9322 3314.3108,-213.4692\"/>\n<text text-anchor=\"middle\" x=\"3345.5\" y=\"-231.8\" font-family=\"Times,serif\" font-size=\"14.00\" fill=\"#000000\">med</text>\n</g>\n<!-- acc95 -->\n<g id=\"node102\" class=\"node\">\n<title>acc95</title>\n<ellipse fill=\"none\" stroke=\"#000000\" cx=\"3364\" cy=\"-192\" rx=\"27\" ry=\"18\"/>\n<text text-anchor=\"middle\" x=\"3364\" y=\"-188.3\" font-family=\"Times,serif\" font-size=\"14.00\" fill=\"#000000\">acc</text>\n</g>\n<!-- maint93&#45;&gt;acc95 -->\n<g id=\"edge101\" class=\"edge\">\n<title>maint93&#45;&gt;acc95</title>\n<path fill=\"none\" stroke=\"#000000\" d=\"M3364,-260.9735C3364,-249.1918 3364,-233.5607 3364,-220.1581\"/>\n<polygon fill=\"#000000\" stroke=\"#000000\" points=\"3367.5001,-220.0033 3364,-210.0034 3360.5001,-220.0034 3367.5001,-220.0033\"/>\n<text text-anchor=\"middle\" x=\"3375\" y=\"-231.8\" font-family=\"Times,serif\" font-size=\"14.00\" fill=\"#000000\">low</text>\n</g>\n<!-- unacc96 -->\n<g id=\"node103\" class=\"node\">\n<title>unacc96</title>\n<ellipse fill=\"none\" stroke=\"#000000\" cx=\"3441\" cy=\"-192\" rx=\"32.4942\" ry=\"18\"/>\n<text text-anchor=\"middle\" x=\"3441\" y=\"-188.3\" font-family=\"Times,serif\" font-size=\"14.00\" fill=\"#000000\">unacc</text>\n</g>\n<!-- maint93&#45;&gt;unacc96 -->\n<g id=\"edge102\" class=\"edge\">\n<title>maint93&#45;&gt;unacc96</title>\n<path fill=\"none\" stroke=\"#000000\" d=\"M3378.4831,-262.636C3390.0985,-249.5121 3406.5699,-230.9015 3419.6899,-216.0777\"/>\n<polygon fill=\"#000000\" stroke=\"#000000\" points=\"3422.5751,-218.0987 3426.5818,-208.2907 3417.3333,-213.4593 3422.5751,-218.0987\"/>\n<text text-anchor=\"middle\" x=\"3425\" y=\"-231.8\" font-family=\"Times,serif\" font-size=\"14.00\" fill=\"#000000\">vhigh</text>\n</g>\n<!-- doors97 -->\n<g id=\"node104\" class=\"node\">\n<title>doors97</title>\n<ellipse fill=\"none\" stroke=\"#000000\" cx=\"3536\" cy=\"-192\" rx=\"31.6951\" ry=\"18\"/>\n<text text-anchor=\"middle\" x=\"3536\" y=\"-188.3\" font-family=\"Times,serif\" font-size=\"14.00\" fill=\"#000000\">doors</text>\n</g>\n<!-- maint93&#45;&gt;doors97 -->\n<g id=\"edge103\" class=\"edge\">\n<title>maint93&#45;&gt;doors97</title>\n<path fill=\"none\" stroke=\"#000000\" d=\"M3390.1649,-268.3161C3406.4248,-261.4799 3427.6527,-252.1959 3446,-243 3466.0493,-232.951 3487.9536,-220.5706 3505.1325,-210.5244\"/>\n<polygon fill=\"#000000\" stroke=\"#000000\" points=\"3507.309,-213.3044 3514.1485,-205.2129 3503.7559,-207.2732 3507.309,-213.3044\"/>\n<text text-anchor=\"middle\" x=\"3487.5\" y=\"-231.8\" font-family=\"Times,serif\" font-size=\"14.00\" fill=\"#000000\">high</text>\n</g>\n<!-- acc98 -->\n<g id=\"node105\" class=\"node\">\n<title>acc98</title>\n<ellipse fill=\"none\" stroke=\"#000000\" cx=\"3464\" cy=\"-105\" rx=\"27\" ry=\"18\"/>\n<text text-anchor=\"middle\" x=\"3464\" y=\"-101.3\" font-family=\"Times,serif\" font-size=\"14.00\" fill=\"#000000\">acc</text>\n</g>\n<!-- doors97&#45;&gt;acc98 -->\n<g id=\"edge104\" class=\"edge\">\n<title>doors97&#45;&gt;acc98</title>\n<path fill=\"none\" stroke=\"#000000\" d=\"M3522.4574,-175.636C3511.5275,-162.429 3495.9992,-143.6657 3483.6938,-128.7967\"/>\n<polygon fill=\"#000000\" stroke=\"#000000\" points=\"3486.3108,-126.4692 3477.2387,-120.9967 3480.918,-130.9322 3486.3108,-126.4692\"/>\n<text text-anchor=\"middle\" x=\"3509\" y=\"-144.8\" font-family=\"Times,serif\" font-size=\"14.00\" fill=\"#000000\">4</text>\n</g>\n<!-- acc99 -->\n<g id=\"node106\" class=\"node\">\n<title>acc99</title>\n<ellipse fill=\"none\" stroke=\"#000000\" cx=\"3536\" cy=\"-105\" rx=\"27\" ry=\"18\"/>\n<text text-anchor=\"middle\" x=\"3536\" y=\"-101.3\" font-family=\"Times,serif\" font-size=\"14.00\" fill=\"#000000\">acc</text>\n</g>\n<!-- doors97&#45;&gt;acc99 -->\n<g id=\"edge105\" class=\"edge\">\n<title>doors97&#45;&gt;acc99</title>\n<path fill=\"none\" stroke=\"#000000\" d=\"M3536,-173.9735C3536,-162.1918 3536,-146.5607 3536,-133.1581\"/>\n<polygon fill=\"#000000\" stroke=\"#000000\" points=\"3539.5001,-133.0033 3536,-123.0034 3532.5001,-133.0034 3539.5001,-133.0033\"/>\n<text text-anchor=\"middle\" x=\"3554.5\" y=\"-144.8\" font-family=\"Times,serif\" font-size=\"14.00\" fill=\"#000000\">5more</text>\n</g>\n<!-- acc100 -->\n<g id=\"node107\" class=\"node\">\n<title>acc100</title>\n<ellipse fill=\"none\" stroke=\"#000000\" cx=\"3608\" cy=\"-105\" rx=\"27\" ry=\"18\"/>\n<text text-anchor=\"middle\" x=\"3608\" y=\"-101.3\" font-family=\"Times,serif\" font-size=\"14.00\" fill=\"#000000\">acc</text>\n</g>\n<!-- doors97&#45;&gt;acc100 -->\n<g id=\"edge106\" class=\"edge\">\n<title>doors97&#45;&gt;acc100</title>\n<path fill=\"none\" stroke=\"#000000\" d=\"M3555.0849,-177.3269C3562.4065,-171.1854 3570.5453,-163.6913 3577,-156 3583.2914,-148.5033 3589.1603,-139.596 3594.062,-131.3394\"/>\n<polygon fill=\"#000000\" stroke=\"#000000\" points=\"3597.244,-132.8247 3599.1562,-122.4038 3591.1628,-129.3577 3597.244,-132.8247\"/>\n<text text-anchor=\"middle\" x=\"3592\" y=\"-144.8\" font-family=\"Times,serif\" font-size=\"14.00\" fill=\"#000000\">3</text>\n</g>\n<!-- lug_boot101 -->\n<g id=\"node108\" class=\"node\">\n<title>lug_boot101</title>\n<ellipse fill=\"none\" stroke=\"#000000\" cx=\"3698\" cy=\"-105\" rx=\"44.6926\" ry=\"18\"/>\n<text text-anchor=\"middle\" x=\"3698\" y=\"-101.3\" font-family=\"Times,serif\" font-size=\"14.00\" fill=\"#000000\">lug_boot</text>\n</g>\n<!-- doors97&#45;&gt;lug_boot101 -->\n<g id=\"edge107\" class=\"edge\">\n<title>doors97&#45;&gt;lug_boot101</title>\n<path fill=\"none\" stroke=\"#000000\" d=\"M3559.2107,-179.535C3586.1252,-165.0809 3630.8018,-141.0879 3662.1795,-124.237\"/>\n<polygon fill=\"#000000\" stroke=\"#000000\" points=\"3663.8989,-127.2864 3671.0529,-119.4716 3660.587,-121.1194 3663.8989,-127.2864\"/>\n<text text-anchor=\"middle\" x=\"3631\" y=\"-144.8\" font-family=\"Times,serif\" font-size=\"14.00\" fill=\"#000000\">2</text>\n</g>\n<!-- acc102 -->\n<g id=\"node109\" class=\"node\">\n<title>acc102</title>\n<ellipse fill=\"none\" stroke=\"#000000\" cx=\"3574\" cy=\"-18\" rx=\"27\" ry=\"18\"/>\n<text text-anchor=\"middle\" x=\"3574\" y=\"-14.3\" font-family=\"Times,serif\" font-size=\"14.00\" fill=\"#000000\">acc</text>\n</g>\n<!-- lug_boot101&#45;&gt;acc102 -->\n<g id=\"edge108\" class=\"edge\">\n<title>lug_boot101&#45;&gt;acc102</title>\n<path fill=\"none\" stroke=\"#000000\" d=\"M3672.5149,-89.9579C3662.2596,-83.7054 3650.418,-76.2301 3640,-69 3626.1778,-59.4073 3611.3071,-48.0168 3599.1869,-38.4362\"/>\n<polygon fill=\"#000000\" stroke=\"#000000\" points=\"3601.2839,-35.6319 3591.282,-32.1371 3596.9214,-41.1064 3601.2839,-35.6319\"/>\n<text text-anchor=\"middle\" x=\"3652.5\" y=\"-57.8\" font-family=\"Times,serif\" font-size=\"14.00\" fill=\"#000000\">med</text>\n</g>\n<!-- acc103 -->\n<g id=\"node110\" class=\"node\">\n<title>acc103</title>\n<ellipse fill=\"none\" stroke=\"#000000\" cx=\"3646\" cy=\"-18\" rx=\"27\" ry=\"18\"/>\n<text text-anchor=\"middle\" x=\"3646\" y=\"-14.3\" font-family=\"Times,serif\" font-size=\"14.00\" fill=\"#000000\">acc</text>\n</g>\n<!-- lug_boot101&#45;&gt;acc103 -->\n<g id=\"edge109\" class=\"edge\">\n<title>lug_boot101&#45;&gt;acc103</title>\n<path fill=\"none\" stroke=\"#000000\" d=\"M3687.477,-87.3943C3679.979,-74.8494 3669.7809,-57.7873 3661.3734,-43.7209\"/>\n<polygon fill=\"#000000\" stroke=\"#000000\" points=\"3664.2882,-41.7754 3656.1534,-34.9875 3658.2796,-45.3668 3664.2882,-41.7754\"/>\n<text text-anchor=\"middle\" x=\"3685.5\" y=\"-57.8\" font-family=\"Times,serif\" font-size=\"14.00\" fill=\"#000000\">big</text>\n</g>\n<!-- unacc104 -->\n<g id=\"node111\" class=\"node\">\n<title>unacc104</title>\n<ellipse fill=\"none\" stroke=\"#000000\" cx=\"3723\" cy=\"-18\" rx=\"32.4942\" ry=\"18\"/>\n<text text-anchor=\"middle\" x=\"3723\" y=\"-14.3\" font-family=\"Times,serif\" font-size=\"14.00\" fill=\"#000000\">unacc</text>\n</g>\n<!-- lug_boot101&#45;&gt;unacc104 -->\n<g id=\"edge110\" class=\"edge\">\n<title>lug_boot101&#45;&gt;unacc104</title>\n<path fill=\"none\" stroke=\"#000000\" d=\"M3703.18,-86.9735C3706.5991,-75.0751 3711.1463,-59.2508 3715.0228,-45.7606\"/>\n<polygon fill=\"#000000\" stroke=\"#000000\" points=\"3718.4286,-46.5811 3717.8266,-36.0034 3711.7009,-44.6478 3718.4286,-46.5811\"/>\n<text text-anchor=\"middle\" x=\"3727.5\" y=\"-57.8\" font-family=\"Times,serif\" font-size=\"14.00\" fill=\"#000000\">small</text>\n</g>\n<!-- doors106 -->\n<g id=\"node113\" class=\"node\">\n<title>doors106</title>\n<ellipse fill=\"none\" stroke=\"#000000\" cx=\"3968\" cy=\"-192\" rx=\"31.6951\" ry=\"18\"/>\n<text text-anchor=\"middle\" x=\"3968\" y=\"-188.3\" font-family=\"Times,serif\" font-size=\"14.00\" fill=\"#000000\">doors</text>\n</g>\n<!-- maint105&#45;&gt;doors106 -->\n<g id=\"edge112\" class=\"edge\">\n<title>maint105&#45;&gt;doors106</title>\n<path fill=\"none\" stroke=\"#000000\" d=\"M4167.6326,-268.8497C4127.1701,-253.2735 4049.6711,-223.4398 4004.0492,-205.8774\"/>\n<polygon fill=\"#000000\" stroke=\"#000000\" points=\"4005.1386,-202.5464 3994.5488,-202.2201 4002.6238,-209.0791 4005.1386,-202.5464\"/>\n<text text-anchor=\"middle\" x=\"4108.5\" y=\"-231.8\" font-family=\"Times,serif\" font-size=\"14.00\" fill=\"#000000\">high</text>\n</g>\n<!-- lug_boot113 -->\n<g id=\"node120\" class=\"node\">\n<title>lug_boot113</title>\n<ellipse fill=\"none\" stroke=\"#000000\" cx=\"4194\" cy=\"-192\" rx=\"44.6926\" ry=\"18\"/>\n<text text-anchor=\"middle\" x=\"4194\" y=\"-188.3\" font-family=\"Times,serif\" font-size=\"14.00\" fill=\"#000000\">lug_boot</text>\n</g>\n<!-- maint105&#45;&gt;lug_boot113 -->\n<g id=\"edge119\" class=\"edge\">\n<title>maint105&#45;&gt;lug_boot113</title>\n<path fill=\"none\" stroke=\"#000000\" d=\"M4194,-260.9735C4194,-249.1918 4194,-233.5607 4194,-220.1581\"/>\n<polygon fill=\"#000000\" stroke=\"#000000\" points=\"4197.5001,-220.0033 4194,-210.0034 4190.5001,-220.0034 4197.5001,-220.0033\"/>\n<text text-anchor=\"middle\" x=\"4211\" y=\"-231.8\" font-family=\"Times,serif\" font-size=\"14.00\" fill=\"#000000\">vhigh</text>\n</g>\n<!-- doors120 -->\n<g id=\"node127\" class=\"node\">\n<title>doors120</title>\n<ellipse fill=\"none\" stroke=\"#000000\" cx=\"4464\" cy=\"-192\" rx=\"31.6951\" ry=\"18\"/>\n<text text-anchor=\"middle\" x=\"4464\" y=\"-188.3\" font-family=\"Times,serif\" font-size=\"14.00\" fill=\"#000000\">doors</text>\n</g>\n<!-- maint105&#45;&gt;doors120 -->\n<g id=\"edge126\" class=\"edge\">\n<title>maint105&#45;&gt;doors120</title>\n<path fill=\"none\" stroke=\"#000000\" d=\"M4221.8778,-270.0172C4270.7115,-254.2819 4371.7377,-221.729 4426.5917,-204.0538\"/>\n<polygon fill=\"#000000\" stroke=\"#000000\" points=\"4427.8292,-207.3323 4436.2739,-200.934 4425.6823,-200.6697 4427.8292,-207.3323\"/>\n<text text-anchor=\"middle\" x=\"4357\" y=\"-231.8\" font-family=\"Times,serif\" font-size=\"14.00\" fill=\"#000000\">low</text>\n</g>\n<!-- lug_boot130 -->\n<g id=\"node137\" class=\"node\">\n<title>lug_boot130</title>\n<ellipse fill=\"none\" stroke=\"#000000\" cx=\"4770\" cy=\"-192\" rx=\"44.6926\" ry=\"18\"/>\n<text text-anchor=\"middle\" x=\"4770\" y=\"-188.3\" font-family=\"Times,serif\" font-size=\"14.00\" fill=\"#000000\">lug_boot</text>\n</g>\n<!-- maint105&#45;&gt;lug_boot130 -->\n<g id=\"edge136\" class=\"edge\">\n<title>maint105&#45;&gt;lug_boot130</title>\n<path fill=\"none\" stroke=\"#000000\" d=\"M4224.9683,-274.3225C4318.7617,-260.1558 4600.4651,-217.6068 4717.8076,-199.8832\"/>\n<polygon fill=\"#000000\" stroke=\"#000000\" points=\"4718.6083,-203.3021 4727.9734,-198.3478 4717.5628,-196.3806 4718.6083,-203.3021\"/>\n<text text-anchor=\"middle\" x=\"4529.5\" y=\"-231.8\" font-family=\"Times,serif\" font-size=\"14.00\" fill=\"#000000\">med</text>\n</g>\n<!-- lug_boot107 -->\n<g id=\"node114\" class=\"node\">\n<title>lug_boot107</title>\n<ellipse fill=\"none\" stroke=\"#000000\" cx=\"3806\" cy=\"-105\" rx=\"44.6926\" ry=\"18\"/>\n<text text-anchor=\"middle\" x=\"3806\" y=\"-101.3\" font-family=\"Times,serif\" font-size=\"14.00\" fill=\"#000000\">lug_boot</text>\n</g>\n<!-- doors106&#45;&gt;lug_boot107 -->\n<g id=\"edge113\" class=\"edge\">\n<title>doors106&#45;&gt;lug_boot107</title>\n<path fill=\"none\" stroke=\"#000000\" d=\"M3944.7893,-179.535C3917.8748,-165.0809 3873.1982,-141.0879 3841.8205,-124.237\"/>\n<polygon fill=\"#000000\" stroke=\"#000000\" points=\"3843.413,-121.1194 3832.9471,-119.4716 3840.1011,-127.2864 3843.413,-121.1194\"/>\n<text text-anchor=\"middle\" x=\"3901\" y=\"-144.8\" font-family=\"Times,serif\" font-size=\"14.00\" fill=\"#000000\">2</text>\n</g>\n<!-- acc110 -->\n<g id=\"node117\" class=\"node\">\n<title>acc110</title>\n<ellipse fill=\"none\" stroke=\"#000000\" cx=\"3896\" cy=\"-105\" rx=\"27\" ry=\"18\"/>\n<text text-anchor=\"middle\" x=\"3896\" y=\"-101.3\" font-family=\"Times,serif\" font-size=\"14.00\" fill=\"#000000\">acc</text>\n</g>\n<!-- doors106&#45;&gt;acc110 -->\n<g id=\"edge116\" class=\"edge\">\n<title>doors106&#45;&gt;acc110</title>\n<path fill=\"none\" stroke=\"#000000\" d=\"M3948.9151,-177.3269C3941.5935,-171.1854 3933.4547,-163.6913 3927,-156 3920.7086,-148.5033 3914.8397,-139.596 3909.938,-131.3394\"/>\n<polygon fill=\"#000000\" stroke=\"#000000\" points=\"3912.8372,-129.3577 3904.8438,-122.4038 3906.756,-132.8247 3912.8372,-129.3577\"/>\n<text text-anchor=\"middle\" x=\"3945.5\" y=\"-144.8\" font-family=\"Times,serif\" font-size=\"14.00\" fill=\"#000000\">5more</text>\n</g>\n<!-- acc111 -->\n<g id=\"node118\" class=\"node\">\n<title>acc111</title>\n<ellipse fill=\"none\" stroke=\"#000000\" cx=\"3968\" cy=\"-105\" rx=\"27\" ry=\"18\"/>\n<text text-anchor=\"middle\" x=\"3968\" y=\"-101.3\" font-family=\"Times,serif\" font-size=\"14.00\" fill=\"#000000\">acc</text>\n</g>\n<!-- doors106&#45;&gt;acc111 -->\n<g id=\"edge117\" class=\"edge\">\n<title>doors106&#45;&gt;acc111</title>\n<path fill=\"none\" stroke=\"#000000\" d=\"M3968,-173.9735C3968,-162.1918 3968,-146.5607 3968,-133.1581\"/>\n<polygon fill=\"#000000\" stroke=\"#000000\" points=\"3971.5001,-133.0033 3968,-123.0034 3964.5001,-133.0034 3971.5001,-133.0033\"/>\n<text text-anchor=\"middle\" x=\"3972\" y=\"-144.8\" font-family=\"Times,serif\" font-size=\"14.00\" fill=\"#000000\">4</text>\n</g>\n<!-- acc112 -->\n<g id=\"node119\" class=\"node\">\n<title>acc112</title>\n<ellipse fill=\"none\" stroke=\"#000000\" cx=\"4040\" cy=\"-105\" rx=\"27\" ry=\"18\"/>\n<text text-anchor=\"middle\" x=\"4040\" y=\"-101.3\" font-family=\"Times,serif\" font-size=\"14.00\" fill=\"#000000\">acc</text>\n</g>\n<!-- doors106&#45;&gt;acc112 -->\n<g id=\"edge118\" class=\"edge\">\n<title>doors106&#45;&gt;acc112</title>\n<path fill=\"none\" stroke=\"#000000\" d=\"M3981.5426,-175.636C3992.4725,-162.429 4008.0008,-143.6657 4020.3062,-128.7967\"/>\n<polygon fill=\"#000000\" stroke=\"#000000\" points=\"4023.082,-130.9322 4026.7613,-120.9967 4017.6892,-126.4692 4023.082,-130.9322\"/>\n<text text-anchor=\"middle\" x=\"4013\" y=\"-144.8\" font-family=\"Times,serif\" font-size=\"14.00\" fill=\"#000000\">3</text>\n</g>\n<!-- unacc108 -->\n<g id=\"node115\" class=\"node\">\n<title>unacc108</title>\n<ellipse fill=\"none\" stroke=\"#000000\" cx=\"3806\" cy=\"-18\" rx=\"32.4942\" ry=\"18\"/>\n<text text-anchor=\"middle\" x=\"3806\" y=\"-14.3\" font-family=\"Times,serif\" font-size=\"14.00\" fill=\"#000000\">unacc</text>\n</g>\n<!-- lug_boot107&#45;&gt;unacc108 -->\n<g id=\"edge114\" class=\"edge\">\n<title>lug_boot107&#45;&gt;unacc108</title>\n<path fill=\"none\" stroke=\"#000000\" d=\"M3806,-86.9735C3806,-75.1918 3806,-59.5607 3806,-46.1581\"/>\n<polygon fill=\"#000000\" stroke=\"#000000\" points=\"3809.5001,-46.0033 3806,-36.0034 3802.5001,-46.0034 3809.5001,-46.0033\"/>\n<text text-anchor=\"middle\" x=\"3821.5\" y=\"-57.8\" font-family=\"Times,serif\" font-size=\"14.00\" fill=\"#000000\">small</text>\n</g>\n<!-- acc109 -->\n<g id=\"node116\" class=\"node\">\n<title>acc109</title>\n<ellipse fill=\"none\" stroke=\"#000000\" cx=\"3883\" cy=\"-18\" rx=\"27\" ry=\"18\"/>\n<text text-anchor=\"middle\" x=\"3883\" y=\"-14.3\" font-family=\"Times,serif\" font-size=\"14.00\" fill=\"#000000\">acc</text>\n</g>\n<!-- lug_boot107&#45;&gt;acc109 -->\n<g id=\"edge115\" class=\"edge\">\n<title>lug_boot107&#45;&gt;acc109</title>\n<path fill=\"none\" stroke=\"#000000\" d=\"M3823.0287,-88.0615C3828.838,-82.1325 3835.3024,-75.365 3841,-69 3848.6525,-60.451 3856.7373,-50.7961 3863.7482,-42.2049\"/>\n<polygon fill=\"#000000\" stroke=\"#000000\" points=\"3866.5226,-44.3403 3870.0917,-34.3647 3861.0808,-39.9373 3866.5226,-44.3403\"/>\n<text text-anchor=\"middle\" x=\"3862.5\" y=\"-57.8\" font-family=\"Times,serif\" font-size=\"14.00\" fill=\"#000000\">big</text>\n</g>\n<!-- doors114 -->\n<g id=\"node121\" class=\"node\">\n<title>doors114</title>\n<ellipse fill=\"none\" stroke=\"#000000\" cx=\"4117\" cy=\"-105\" rx=\"31.6951\" ry=\"18\"/>\n<text text-anchor=\"middle\" x=\"4117\" y=\"-101.3\" font-family=\"Times,serif\" font-size=\"14.00\" fill=\"#000000\">doors</text>\n</g>\n<!-- lug_boot113&#45;&gt;doors114 -->\n<g id=\"edge120\" class=\"edge\">\n<title>lug_boot113&#45;&gt;doors114</title>\n<path fill=\"none\" stroke=\"#000000\" d=\"M4176.9713,-175.0615C4171.162,-169.1325 4164.6976,-162.365 4159,-156 4151.5411,-147.6673 4143.6716,-138.284 4136.7861,-129.8591\"/>\n<polygon fill=\"#000000\" stroke=\"#000000\" points=\"4139.2945,-127.3953 4130.2802,-121.8281 4133.8553,-131.8015 4139.2945,-127.3953\"/>\n<text text-anchor=\"middle\" x=\"4174.5\" y=\"-144.8\" font-family=\"Times,serif\" font-size=\"14.00\" fill=\"#000000\">small</text>\n</g>\n<!-- acc118 -->\n<g id=\"node125\" class=\"node\">\n<title>acc118</title>\n<ellipse fill=\"none\" stroke=\"#000000\" cx=\"4194\" cy=\"-105\" rx=\"27\" ry=\"18\"/>\n<text text-anchor=\"middle\" x=\"4194\" y=\"-101.3\" font-family=\"Times,serif\" font-size=\"14.00\" fill=\"#000000\">acc</text>\n</g>\n<!-- lug_boot113&#45;&gt;acc118 -->\n<g id=\"edge124\" class=\"edge\">\n<title>lug_boot113&#45;&gt;acc118</title>\n<path fill=\"none\" stroke=\"#000000\" d=\"M4194,-173.9735C4194,-162.1918 4194,-146.5607 4194,-133.1581\"/>\n<polygon fill=\"#000000\" stroke=\"#000000\" points=\"4197.5001,-133.0033 4194,-123.0034 4190.5001,-133.0034 4197.5001,-133.0033\"/>\n<text text-anchor=\"middle\" x=\"4206.5\" y=\"-144.8\" font-family=\"Times,serif\" font-size=\"14.00\" fill=\"#000000\">med</text>\n</g>\n<!-- acc119 -->\n<g id=\"node126\" class=\"node\">\n<title>acc119</title>\n<ellipse fill=\"none\" stroke=\"#000000\" cx=\"4266\" cy=\"-105\" rx=\"27\" ry=\"18\"/>\n<text text-anchor=\"middle\" x=\"4266\" y=\"-101.3\" font-family=\"Times,serif\" font-size=\"14.00\" fill=\"#000000\">acc</text>\n</g>\n<!-- lug_boot113&#45;&gt;acc119 -->\n<g id=\"edge125\" class=\"edge\">\n<title>lug_boot113&#45;&gt;acc119</title>\n<path fill=\"none\" stroke=\"#000000\" d=\"M4208.2249,-174.8116C4219.0506,-161.7305 4234.0845,-143.5645 4246.1027,-129.0425\"/>\n<polygon fill=\"#000000\" stroke=\"#000000\" points=\"4249.0964,-130.9148 4252.7758,-120.9793 4243.7037,-126.4518 4249.0964,-130.9148\"/>\n<text text-anchor=\"middle\" x=\"4244.5\" y=\"-144.8\" font-family=\"Times,serif\" font-size=\"14.00\" fill=\"#000000\">big</text>\n</g>\n<!-- unacc115 -->\n<g id=\"node122\" class=\"node\">\n<title>unacc115</title>\n<ellipse fill=\"none\" stroke=\"#000000\" cx=\"4011\" cy=\"-18\" rx=\"32.4942\" ry=\"18\"/>\n<text text-anchor=\"middle\" x=\"4011\" y=\"-14.3\" font-family=\"Times,serif\" font-size=\"14.00\" fill=\"#000000\">unacc</text>\n</g>\n<!-- doors114&#45;&gt;unacc115 -->\n<g id=\"edge121\" class=\"edge\">\n<title>doors114&#45;&gt;unacc115</title>\n<path fill=\"none\" stroke=\"#000000\" d=\"M4098.5362,-89.8458C4081.5126,-75.8735 4056.069,-54.9906 4036.9941,-39.3348\"/>\n<polygon fill=\"#000000\" stroke=\"#000000\" points=\"4039.2026,-36.6195 4029.2522,-32.9806 4034.7615,-42.0303 4039.2026,-36.6195\"/>\n<text text-anchor=\"middle\" x=\"4075\" y=\"-57.8\" font-family=\"Times,serif\" font-size=\"14.00\" fill=\"#000000\">2</text>\n</g>\n<!-- acc116 -->\n<g id=\"node123\" class=\"node\">\n<title>acc116</title>\n<ellipse fill=\"none\" stroke=\"#000000\" cx=\"4088\" cy=\"-18\" rx=\"27\" ry=\"18\"/>\n<text text-anchor=\"middle\" x=\"4088\" y=\"-14.3\" font-family=\"Times,serif\" font-size=\"14.00\" fill=\"#000000\">acc</text>\n</g>\n<!-- doors114&#45;&gt;acc116 -->\n<g id=\"edge122\" class=\"edge\">\n<title>doors114&#45;&gt;acc116</title>\n<path fill=\"none\" stroke=\"#000000\" d=\"M4110.9912,-86.9735C4106.9986,-74.9958 4101.6799,-59.0396 4097.1637,-45.4912\"/>\n<polygon fill=\"#000000\" stroke=\"#000000\" points=\"4100.3846,-44.0857 4093.9019,-35.7057 4093.7438,-46.2994 4100.3846,-44.0857\"/>\n<text text-anchor=\"middle\" x=\"4109\" y=\"-57.8\" font-family=\"Times,serif\" font-size=\"14.00\" fill=\"#000000\">4</text>\n</g>\n<!-- acc117 -->\n<g id=\"node124\" class=\"node\">\n<title>acc117</title>\n<ellipse fill=\"none\" stroke=\"#000000\" cx=\"4160\" cy=\"-18\" rx=\"27\" ry=\"18\"/>\n<text text-anchor=\"middle\" x=\"4160\" y=\"-14.3\" font-family=\"Times,serif\" font-size=\"14.00\" fill=\"#000000\">acc</text>\n</g>\n<!-- doors114&#45;&gt;acc117 -->\n<g id=\"edge123\" class=\"edge\">\n<title>doors114&#45;&gt;acc117</title>\n<path fill=\"none\" stroke=\"#000000\" d=\"M4125.7017,-87.3943C4131.8031,-75.0496 4140.0665,-58.3306 4146.9535,-44.3965\"/>\n<polygon fill=\"#000000\" stroke=\"#000000\" points=\"4150.1647,-45.7983 4151.458,-35.2827 4143.8894,-42.6966 4150.1647,-45.7983\"/>\n<text text-anchor=\"middle\" x=\"4146\" y=\"-57.8\" font-family=\"Times,serif\" font-size=\"14.00\" fill=\"#000000\">3</text>\n</g>\n<!-- lug_boot121 -->\n<g id=\"node128\" class=\"node\">\n<title>lug_boot121</title>\n<ellipse fill=\"none\" stroke=\"#000000\" cx=\"4356\" cy=\"-105\" rx=\"44.6926\" ry=\"18\"/>\n<text text-anchor=\"middle\" x=\"4356\" y=\"-101.3\" font-family=\"Times,serif\" font-size=\"14.00\" fill=\"#000000\">lug_boot</text>\n</g>\n<!-- doors120&#45;&gt;lug_boot121 -->\n<g id=\"edge127\" class=\"edge\">\n<title>doors120&#45;&gt;lug_boot121</title>\n<path fill=\"none\" stroke=\"#000000\" d=\"M4445.6793,-177.2416C4428.8285,-163.6674 4403.5877,-143.3345 4384.173,-127.6949\"/>\n<polygon fill=\"#000000\" stroke=\"#000000\" points=\"4386.2338,-124.8607 4376.2506,-121.313 4381.8425,-130.312 4386.2338,-124.8607\"/>\n<text text-anchor=\"middle\" x=\"4435.5\" y=\"-144.8\" font-family=\"Times,serif\" font-size=\"14.00\" fill=\"#000000\">5more</text>\n</g>\n<!-- lug_boot125 -->\n<g id=\"node132\" class=\"node\">\n<title>lug_boot125</title>\n<ellipse fill=\"none\" stroke=\"#000000\" cx=\"4464\" cy=\"-105\" rx=\"44.6926\" ry=\"18\"/>\n<text text-anchor=\"middle\" x=\"4464\" y=\"-101.3\" font-family=\"Times,serif\" font-size=\"14.00\" fill=\"#000000\">lug_boot</text>\n</g>\n<!-- doors120&#45;&gt;lug_boot125 -->\n<g id=\"edge131\" class=\"edge\">\n<title>doors120&#45;&gt;lug_boot125</title>\n<path fill=\"none\" stroke=\"#000000\" d=\"M4464,-173.9735C4464,-162.1918 4464,-146.5607 4464,-133.1581\"/>\n<polygon fill=\"#000000\" stroke=\"#000000\" points=\"4467.5001,-133.0033 4464,-123.0034 4460.5001,-133.0034 4467.5001,-133.0033\"/>\n<text text-anchor=\"middle\" x=\"4468\" y=\"-144.8\" font-family=\"Times,serif\" font-size=\"14.00\" fill=\"#000000\">2</text>\n</g>\n<!-- vgood128 -->\n<g id=\"node135\" class=\"node\">\n<title>vgood128</title>\n<ellipse fill=\"none\" stroke=\"#000000\" cx=\"4562\" cy=\"-105\" rx=\"35.194\" ry=\"18\"/>\n<text text-anchor=\"middle\" x=\"4562\" y=\"-101.3\" font-family=\"Times,serif\" font-size=\"14.00\" fill=\"#000000\">vgood</text>\n</g>\n<!-- doors120&#45;&gt;vgood128 -->\n<g id=\"edge134\" class=\"edge\">\n<title>doors120&#45;&gt;vgood128</title>\n<path fill=\"none\" stroke=\"#000000\" d=\"M4481.5204,-176.4461C4496.8937,-162.7984 4519.4362,-142.7862 4536.7554,-127.411\"/>\n<polygon fill=\"#000000\" stroke=\"#000000\" points=\"4539.1461,-129.9689 4544.3008,-120.7125 4534.4989,-124.734 4539.1461,-129.9689\"/>\n<text text-anchor=\"middle\" x=\"4523\" y=\"-144.8\" font-family=\"Times,serif\" font-size=\"14.00\" fill=\"#000000\">3</text>\n</g>\n<!-- vgood129 -->\n<g id=\"node136\" class=\"node\">\n<title>vgood129</title>\n<ellipse fill=\"none\" stroke=\"#000000\" cx=\"4650\" cy=\"-105\" rx=\"35.194\" ry=\"18\"/>\n<text text-anchor=\"middle\" x=\"4650\" y=\"-101.3\" font-family=\"Times,serif\" font-size=\"14.00\" fill=\"#000000\">vgood</text>\n</g>\n<!-- doors120&#45;&gt;vgood129 -->\n<g id=\"edge135\" class=\"edge\">\n<title>doors120&#45;&gt;vgood129</title>\n<path fill=\"none\" stroke=\"#000000\" d=\"M4488.6994,-180.4471C4520.9933,-165.3418 4577.7755,-138.7824 4614.6291,-121.5445\"/>\n<polygon fill=\"#000000\" stroke=\"#000000\" points=\"4616.4247,-124.5686 4623.9999,-117.1614 4613.4588,-118.2279 4616.4247,-124.5686\"/>\n<text text-anchor=\"middle\" x=\"4573\" y=\"-144.8\" font-family=\"Times,serif\" font-size=\"14.00\" fill=\"#000000\">4</text>\n</g>\n<!-- vgood122 -->\n<g id=\"node129\" class=\"node\">\n<title>vgood122</title>\n<ellipse fill=\"none\" stroke=\"#000000\" cx=\"4240\" cy=\"-18\" rx=\"35.194\" ry=\"18\"/>\n<text text-anchor=\"middle\" x=\"4240\" y=\"-14.3\" font-family=\"Times,serif\" font-size=\"14.00\" fill=\"#000000\">vgood</text>\n</g>\n<!-- lug_boot121&#45;&gt;vgood122 -->\n<g id=\"edge128\" class=\"edge\">\n<title>lug_boot121&#45;&gt;vgood122</title>\n<path fill=\"none\" stroke=\"#000000\" d=\"M4334.7238,-89.0429C4315.9833,-74.9875 4288.5531,-54.4148 4268.0279,-39.021\"/>\n<polygon fill=\"#000000\" stroke=\"#000000\" points=\"4270.0783,-36.1837 4259.9782,-32.9837 4265.8782,-41.7837 4270.0783,-36.1837\"/>\n<text text-anchor=\"middle\" x=\"4317.5\" y=\"-57.8\" font-family=\"Times,serif\" font-size=\"14.00\" fill=\"#000000\">med</text>\n</g>\n<!-- vgood123 -->\n<g id=\"node130\" class=\"node\">\n<title>vgood123</title>\n<ellipse fill=\"none\" stroke=\"#000000\" cx=\"4328\" cy=\"-18\" rx=\"35.194\" ry=\"18\"/>\n<text text-anchor=\"middle\" x=\"4328\" y=\"-14.3\" font-family=\"Times,serif\" font-size=\"14.00\" fill=\"#000000\">vgood</text>\n</g>\n<!-- lug_boot121&#45;&gt;vgood123 -->\n<g id=\"edge129\" class=\"edge\">\n<title>lug_boot121&#45;&gt;vgood123</title>\n<path fill=\"none\" stroke=\"#000000\" d=\"M4350.1984,-86.9735C4346.369,-75.0751 4341.2761,-59.2508 4336.9345,-45.7606\"/>\n<polygon fill=\"#000000\" stroke=\"#000000\" points=\"4340.1896,-44.4502 4333.7942,-36.0034 4333.5262,-46.5948 4340.1896,-44.4502\"/>\n<text text-anchor=\"middle\" x=\"4353.5\" y=\"-57.8\" font-family=\"Times,serif\" font-size=\"14.00\" fill=\"#000000\">big</text>\n</g>\n<!-- good124 -->\n<g id=\"node131\" class=\"node\">\n<title>good124</title>\n<ellipse fill=\"none\" stroke=\"#000000\" cx=\"4412\" cy=\"-18\" rx=\"30.5947\" ry=\"18\"/>\n<text text-anchor=\"middle\" x=\"4412\" y=\"-14.3\" font-family=\"Times,serif\" font-size=\"14.00\" fill=\"#000000\">good</text>\n</g>\n<!-- lug_boot121&#45;&gt;good124 -->\n<g id=\"edge130\" class=\"edge\">\n<title>lug_boot121&#45;&gt;good124</title>\n<path fill=\"none\" stroke=\"#000000\" d=\"M4367.3324,-87.3943C4375.4073,-74.8494 4386.3898,-57.7873 4395.444,-43.7209\"/>\n<polygon fill=\"#000000\" stroke=\"#000000\" points=\"4398.5961,-45.2905 4401.0655,-34.9875 4392.71,-41.5018 4398.5961,-45.2905\"/>\n<text text-anchor=\"middle\" x=\"4403.5\" y=\"-57.8\" font-family=\"Times,serif\" font-size=\"14.00\" fill=\"#000000\">small</text>\n</g>\n<!-- good126 -->\n<g id=\"node133\" class=\"node\">\n<title>good126</title>\n<ellipse fill=\"none\" stroke=\"#000000\" cx=\"4491\" cy=\"-18\" rx=\"30.5947\" ry=\"18\"/>\n<text text-anchor=\"middle\" x=\"4491\" y=\"-14.3\" font-family=\"Times,serif\" font-size=\"14.00\" fill=\"#000000\">good</text>\n</g>\n<!-- lug_boot125&#45;&gt;good126 -->\n<g id=\"edge132\" class=\"edge\">\n<title>lug_boot125&#45;&gt;good126</title>\n<path fill=\"none\" stroke=\"#000000\" d=\"M4469.5944,-86.9735C4473.287,-75.0751 4478.198,-59.2508 4482.3846,-45.7606\"/>\n<polygon fill=\"#000000\" stroke=\"#000000\" points=\"4485.7914,-46.5914 4485.4127,-36.0034 4479.106,-44.5166 4485.7914,-46.5914\"/>\n<text text-anchor=\"middle\" x=\"4492.5\" y=\"-57.8\" font-family=\"Times,serif\" font-size=\"14.00\" fill=\"#000000\">med</text>\n</g>\n<!-- unacc127 -->\n<g id=\"node134\" class=\"node\">\n<title>unacc127</title>\n<ellipse fill=\"none\" stroke=\"#000000\" cx=\"4572\" cy=\"-18\" rx=\"32.4942\" ry=\"18\"/>\n<text text-anchor=\"middle\" x=\"4572\" y=\"-14.3\" font-family=\"Times,serif\" font-size=\"14.00\" fill=\"#000000\">unacc</text>\n</g>\n<!-- lug_boot125&#45;&gt;unacc127 -->\n<g id=\"edge133\" class=\"edge\">\n<title>lug_boot125&#45;&gt;unacc127</title>\n<path fill=\"none\" stroke=\"#000000\" d=\"M4484.1807,-88.8961C4491.9472,-82.688 4500.8938,-75.5235 4509,-69 4521.0859,-59.2739 4534.4457,-48.4668 4545.7409,-39.3135\"/>\n<polygon fill=\"#000000\" stroke=\"#000000\" points=\"4547.9894,-41.9963 4553.5529,-32.9798 4543.5809,-36.5589 4547.9894,-41.9963\"/>\n<text text-anchor=\"middle\" x=\"4542.5\" y=\"-57.8\" font-family=\"Times,serif\" font-size=\"14.00\" fill=\"#000000\">small</text>\n</g>\n<!-- acc131 -->\n<g id=\"node138\" class=\"node\">\n<title>acc131</title>\n<ellipse fill=\"none\" stroke=\"#000000\" cx=\"4730\" cy=\"-105\" rx=\"27\" ry=\"18\"/>\n<text text-anchor=\"middle\" x=\"4730\" y=\"-101.3\" font-family=\"Times,serif\" font-size=\"14.00\" fill=\"#000000\">acc</text>\n</g>\n<!-- lug_boot130&#45;&gt;acc131 -->\n<g id=\"edge137\" class=\"edge\">\n<title>lug_boot130&#45;&gt;acc131</title>\n<path fill=\"none\" stroke=\"#000000\" d=\"M4761.712,-173.9735C4756.1141,-161.7983 4748.6263,-145.5122 4742.3323,-131.8228\"/>\n<polygon fill=\"#000000\" stroke=\"#000000\" points=\"4745.3618,-130.0333 4738.0045,-122.4097 4739.0018,-132.9575 4745.3618,-130.0333\"/>\n<text text-anchor=\"middle\" x=\"4768.5\" y=\"-144.8\" font-family=\"Times,serif\" font-size=\"14.00\" fill=\"#000000\">small</text>\n</g>\n<!-- vgood132 -->\n<g id=\"node139\" class=\"node\">\n<title>vgood132</title>\n<ellipse fill=\"none\" stroke=\"#000000\" cx=\"4810\" cy=\"-105\" rx=\"35.194\" ry=\"18\"/>\n<text text-anchor=\"middle\" x=\"4810\" y=\"-101.3\" font-family=\"Times,serif\" font-size=\"14.00\" fill=\"#000000\">vgood</text>\n</g>\n<!-- lug_boot130&#45;&gt;vgood132 -->\n<g id=\"edge138\" class=\"edge\">\n<title>lug_boot130&#45;&gt;vgood132</title>\n<path fill=\"none\" stroke=\"#000000\" d=\"M4779.173,-174.1514C4782.0664,-168.3912 4785.2293,-161.9555 4788,-156 4791.5464,-148.3772 4795.229,-140.0311 4798.5436,-132.3386\"/>\n<polygon fill=\"#000000\" stroke=\"#000000\" points=\"4801.8025,-133.6192 4802.5075,-123.0478 4795.3639,-130.8722 4801.8025,-133.6192\"/>\n<text text-anchor=\"middle\" x=\"4804.5\" y=\"-144.8\" font-family=\"Times,serif\" font-size=\"14.00\" fill=\"#000000\">big</text>\n</g>\n<!-- doors133 -->\n<g id=\"node140\" class=\"node\">\n<title>doors133</title>\n<ellipse fill=\"none\" stroke=\"#000000\" cx=\"4895\" cy=\"-105\" rx=\"31.6951\" ry=\"18\"/>\n<text text-anchor=\"middle\" x=\"4895\" y=\"-101.3\" font-family=\"Times,serif\" font-size=\"14.00\" fill=\"#000000\">doors</text>\n</g>\n<!-- lug_boot130&#45;&gt;doors133 -->\n<g id=\"edge139\" class=\"edge\">\n<title>lug_boot130&#45;&gt;doors133</title>\n<path fill=\"none\" stroke=\"#000000\" d=\"M4792.6366,-176.245C4813.2571,-161.8931 4843.8134,-140.6258 4866.1729,-125.0637\"/>\n<polygon fill=\"#000000\" stroke=\"#000000\" points=\"4868.393,-127.7828 4874.6013,-119.1975 4864.3942,-122.0374 4868.393,-127.7828\"/>\n<text text-anchor=\"middle\" x=\"4852.5\" y=\"-144.8\" font-family=\"Times,serif\" font-size=\"14.00\" fill=\"#000000\">med</text>\n</g>\n<!-- vgood134 -->\n<g id=\"node141\" class=\"node\">\n<title>vgood134</title>\n<ellipse fill=\"none\" stroke=\"#000000\" cx=\"4807\" cy=\"-18\" rx=\"35.194\" ry=\"18\"/>\n<text text-anchor=\"middle\" x=\"4807\" y=\"-14.3\" font-family=\"Times,serif\" font-size=\"14.00\" fill=\"#000000\">vgood</text>\n</g>\n<!-- doors133&#45;&gt;vgood134 -->\n<g id=\"edge140\" class=\"edge\">\n<title>doors133&#45;&gt;vgood134</title>\n<path fill=\"none\" stroke=\"#000000\" d=\"M4877.0745,-89.9812C4869.7614,-83.6703 4861.3204,-76.1464 4854,-69 4845.2927,-60.4996 4836.1354,-50.7625 4828.2404,-42.0898\"/>\n<polygon fill=\"#000000\" stroke=\"#000000\" points=\"4830.6878,-39.5773 4821.3939,-34.4905 4825.4871,-44.2627 4830.6878,-39.5773\"/>\n<text text-anchor=\"middle\" x=\"4872.5\" y=\"-57.8\" font-family=\"Times,serif\" font-size=\"14.00\" fill=\"#000000\">5more</text>\n</g>\n<!-- vgood135 -->\n<g id=\"node142\" class=\"node\">\n<title>vgood135</title>\n<ellipse fill=\"none\" stroke=\"#000000\" cx=\"4895\" cy=\"-18\" rx=\"35.194\" ry=\"18\"/>\n<text text-anchor=\"middle\" x=\"4895\" y=\"-14.3\" font-family=\"Times,serif\" font-size=\"14.00\" fill=\"#000000\">vgood</text>\n</g>\n<!-- doors133&#45;&gt;vgood135 -->\n<g id=\"edge141\" class=\"edge\">\n<title>doors133&#45;&gt;vgood135</title>\n<path fill=\"none\" stroke=\"#000000\" d=\"M4895,-86.9735C4895,-75.1918 4895,-59.5607 4895,-46.1581\"/>\n<polygon fill=\"#000000\" stroke=\"#000000\" points=\"4898.5001,-46.0033 4895,-36.0034 4891.5001,-46.0034 4898.5001,-46.0033\"/>\n<text text-anchor=\"middle\" x=\"4899\" y=\"-57.8\" font-family=\"Times,serif\" font-size=\"14.00\" fill=\"#000000\">4</text>\n</g>\n<!-- acc136 -->\n<g id=\"node143\" class=\"node\">\n<title>acc136</title>\n<ellipse fill=\"none\" stroke=\"#000000\" cx=\"4975\" cy=\"-18\" rx=\"27\" ry=\"18\"/>\n<text text-anchor=\"middle\" x=\"4975\" y=\"-14.3\" font-family=\"Times,serif\" font-size=\"14.00\" fill=\"#000000\">acc</text>\n</g>\n<!-- doors133&#45;&gt;acc136 -->\n<g id=\"edge142\" class=\"edge\">\n<title>doors133&#45;&gt;acc136</title>\n<path fill=\"none\" stroke=\"#000000\" d=\"M4910.0474,-88.636C4922.4583,-75.1391 4940.2053,-55.8392 4954.0133,-40.8231\"/>\n<polygon fill=\"#000000\" stroke=\"#000000\" points=\"4956.6333,-43.1446 4960.8257,-33.4145 4951.4806,-38.4065 4956.6333,-43.1446\"/>\n<text text-anchor=\"middle\" x=\"4944\" y=\"-57.8\" font-family=\"Times,serif\" font-size=\"14.00\" fill=\"#000000\">2</text>\n</g>\n<!-- buying139 -->\n<g id=\"node146\" class=\"node\">\n<title>buying139</title>\n<ellipse fill=\"none\" stroke=\"#000000\" cx=\"5981\" cy=\"-366\" rx=\"37.8943\" ry=\"18\"/>\n<text text-anchor=\"middle\" x=\"5981\" y=\"-362.3\" font-family=\"Times,serif\" font-size=\"14.00\" fill=\"#000000\">buying</text>\n</g>\n<!-- persons138&#45;&gt;buying139 -->\n<g id=\"edge145\" class=\"edge\">\n<title>persons138&#45;&gt;buying139</title>\n<path fill=\"none\" stroke=\"#000000\" d=\"M6027.2628,-435.3943C6018.9539,-422.9309 6007.6724,-406.0087 5998.3302,-391.9953\"/>\n<polygon fill=\"#000000\" stroke=\"#000000\" points=\"6000.981,-389.6617 5992.5218,-383.2827 5995.1566,-393.5446 6000.981,-389.6617\"/>\n<text text-anchor=\"middle\" x=\"6018\" y=\"-405.8\" font-family=\"Times,serif\" font-size=\"14.00\" fill=\"#000000\">4</text>\n</g>\n<!-- unacc215 -->\n<g id=\"node222\" class=\"node\">\n<title>unacc215</title>\n<ellipse fill=\"none\" stroke=\"#000000\" cx=\"6069\" cy=\"-366\" rx=\"32.4942\" ry=\"18\"/>\n<text text-anchor=\"middle\" x=\"6069\" y=\"-362.3\" font-family=\"Times,serif\" font-size=\"14.00\" fill=\"#000000\">unacc</text>\n</g>\n<!-- persons138&#45;&gt;unacc215 -->\n<g id=\"edge221\" class=\"edge\">\n<title>persons138&#45;&gt;unacc215</title>\n<path fill=\"none\" stroke=\"#000000\" d=\"M6045.216,-434.9735C6049.3463,-422.9958 6054.8484,-407.0396 6059.5203,-393.4912\"/>\n<polygon fill=\"#000000\" stroke=\"#000000\" points=\"6062.9434,-394.3004 6062.8946,-383.7057 6056.3258,-392.0184 6062.9434,-394.3004\"/>\n<text text-anchor=\"middle\" x=\"6060\" y=\"-405.8\" font-family=\"Times,serif\" font-size=\"14.00\" fill=\"#000000\">2</text>\n</g>\n<!-- lug_boot216 -->\n<g id=\"node223\" class=\"node\">\n<title>lug_boot216</title>\n<ellipse fill=\"none\" stroke=\"#000000\" cx=\"8449\" cy=\"-366\" rx=\"44.6926\" ry=\"18\"/>\n<text text-anchor=\"middle\" x=\"8449\" y=\"-362.3\" font-family=\"Times,serif\" font-size=\"14.00\" fill=\"#000000\">lug_boot</text>\n</g>\n<!-- persons138&#45;&gt;lug_boot216 -->\n<g id=\"edge222\" class=\"edge\">\n<title>persons138&#45;&gt;lug_boot216</title>\n<path fill=\"none\" stroke=\"#000000\" d=\"M6078.3239,-451.5804C6359.5441,-441.4285 8063.3912,-379.9203 8393.6006,-367.9999\"/>\n<polygon fill=\"#000000\" stroke=\"#000000\" points=\"8394.001,-371.4878 8403.8682,-367.6292 8393.7484,-364.4924 8394.001,-371.4878\"/>\n<text text-anchor=\"middle\" x=\"7404\" y=\"-405.8\" font-family=\"Times,serif\" font-size=\"14.00\" fill=\"#000000\">more</text>\n</g>\n<!-- maint140 -->\n<g id=\"node147\" class=\"node\">\n<title>maint140</title>\n<ellipse fill=\"none\" stroke=\"#000000\" cx=\"5388\" cy=\"-279\" rx=\"31.6951\" ry=\"18\"/>\n<text text-anchor=\"middle\" x=\"5388\" y=\"-275.3\" font-family=\"Times,serif\" font-size=\"14.00\" fill=\"#000000\">maint</text>\n</g>\n<!-- buying139&#45;&gt;maint140 -->\n<g id=\"edge146\" class=\"edge\">\n<title>buying139&#45;&gt;maint140</title>\n<path fill=\"none\" stroke=\"#000000\" d=\"M5944.7979,-360.6887C5840.4132,-345.3743 5539.2891,-301.1959 5429.0581,-285.0237\"/>\n<polygon fill=\"#000000\" stroke=\"#000000\" points=\"5429.4017,-281.5367 5418.9995,-283.548 5428.3855,-288.4626 5429.4017,-281.5367\"/>\n<text text-anchor=\"middle\" x=\"5738\" y=\"-318.8\" font-family=\"Times,serif\" font-size=\"14.00\" fill=\"#000000\">vhigh</text>\n</g>\n<!-- maint157 -->\n<g id=\"node164\" class=\"node\">\n<title>maint157</title>\n<ellipse fill=\"none\" stroke=\"#000000\" cx=\"5780\" cy=\"-279\" rx=\"31.6951\" ry=\"18\"/>\n<text text-anchor=\"middle\" x=\"5780\" y=\"-275.3\" font-family=\"Times,serif\" font-size=\"14.00\" fill=\"#000000\">maint</text>\n</g>\n<!-- buying139&#45;&gt;maint157 -->\n<g id=\"edge163\" class=\"edge\">\n<title>buying139&#45;&gt;maint157</title>\n<path fill=\"none\" stroke=\"#000000\" d=\"M5953.0518,-353.903C5916.9542,-338.2787 5854.1177,-311.0808 5814.9154,-294.1127\"/>\n<polygon fill=\"#000000\" stroke=\"#000000\" points=\"5816.0562,-290.7927 5805.4886,-290.0324 5813.2756,-297.2167 5816.0562,-290.7927\"/>\n<text text-anchor=\"middle\" x=\"5904\" y=\"-318.8\" font-family=\"Times,serif\" font-size=\"14.00\" fill=\"#000000\">low</text>\n</g>\n<!-- lug_boot173 -->\n<g id=\"node180\" class=\"node\">\n<title>lug_boot173</title>\n<ellipse fill=\"none\" stroke=\"#000000\" cx=\"6223\" cy=\"-279\" rx=\"44.6926\" ry=\"18\"/>\n<text text-anchor=\"middle\" x=\"6223\" y=\"-275.3\" font-family=\"Times,serif\" font-size=\"14.00\" fill=\"#000000\">lug_boot</text>\n</g>\n<!-- buying139&#45;&gt;lug_boot173 -->\n<g id=\"edge179\" class=\"edge\">\n<title>buying139&#45;&gt;lug_boot173</title>\n<path fill=\"none\" stroke=\"#000000\" d=\"M6010.2901,-354.6495C6016.1458,-352.4178 6022.2606,-350.1141 6028,-348 6079.7234,-328.948 6139.5238,-307.9372 6179.1213,-294.1656\"/>\n<polygon fill=\"#000000\" stroke=\"#000000\" points=\"6180.438,-297.4135 6188.7359,-290.8259 6178.1411,-290.801 6180.438,-297.4135\"/>\n<text text-anchor=\"middle\" x=\"6132.5\" y=\"-318.8\" font-family=\"Times,serif\" font-size=\"14.00\" fill=\"#000000\">high</text>\n</g>\n<!-- maint192 -->\n<g id=\"node199\" class=\"node\">\n<title>maint192</title>\n<ellipse fill=\"none\" stroke=\"#000000\" cx=\"6967\" cy=\"-279\" rx=\"31.6951\" ry=\"18\"/>\n<text text-anchor=\"middle\" x=\"6967\" y=\"-275.3\" font-family=\"Times,serif\" font-size=\"14.00\" fill=\"#000000\">maint</text>\n</g>\n<!-- buying139&#45;&gt;maint192 -->\n<g id=\"edge198\" class=\"edge\">\n<title>buying139&#45;&gt;maint192</title>\n<path fill=\"none\" stroke=\"#000000\" d=\"M6008.92,-353.7778C6015.0998,-351.5063 6021.6893,-349.4082 6028,-348 6116.3385,-328.2876 6754.7043,-291.0352 6925.2198,-281.3492\"/>\n<polygon fill=\"#000000\" stroke=\"#000000\" points=\"6925.5197,-284.838 6935.3055,-280.7775 6925.1234,-277.8492 6925.5197,-284.838\"/>\n<text text-anchor=\"middle\" x=\"6389.5\" y=\"-318.8\" font-family=\"Times,serif\" font-size=\"14.00\" fill=\"#000000\">med</text>\n</g>\n<!-- doors141 -->\n<g id=\"node148\" class=\"node\">\n<title>doors141</title>\n<ellipse fill=\"none\" stroke=\"#000000\" cx=\"5157\" cy=\"-192\" rx=\"31.6951\" ry=\"18\"/>\n<text text-anchor=\"middle\" x=\"5157\" y=\"-188.3\" font-family=\"Times,serif\" font-size=\"14.00\" fill=\"#000000\">doors</text>\n</g>\n<!-- maint140&#45;&gt;doors141 -->\n<g id=\"edge147\" class=\"edge\">\n<title>maint140&#45;&gt;doors141</title>\n<path fill=\"none\" stroke=\"#000000\" d=\"M5361.0493,-268.8497C5319.4938,-253.199 5239.7194,-223.1541 5193.1799,-205.6262\"/>\n<polygon fill=\"#000000\" stroke=\"#000000\" points=\"5194.371,-202.3348 5183.7791,-202.0856 5191.9037,-208.8856 5194.371,-202.3348\"/>\n<text text-anchor=\"middle\" x=\"5299.5\" y=\"-231.8\" font-family=\"Times,serif\" font-size=\"14.00\" fill=\"#000000\">med</text>\n</g>\n<!-- unacc148 -->\n<g id=\"node155\" class=\"node\">\n<title>unacc148</title>\n<ellipse fill=\"none\" stroke=\"#000000\" cx=\"5293\" cy=\"-192\" rx=\"32.4942\" ry=\"18\"/>\n<text text-anchor=\"middle\" x=\"5293\" y=\"-188.3\" font-family=\"Times,serif\" font-size=\"14.00\" fill=\"#000000\">unacc</text>\n</g>\n<!-- maint140&#45;&gt;unacc148 -->\n<g id=\"edge154\" class=\"edge\">\n<title>maint140&#45;&gt;unacc148</title>\n<path fill=\"none\" stroke=\"#000000\" d=\"M5371.0159,-263.4461C5356.1557,-249.8374 5334.3855,-229.9004 5317.6156,-214.5427\"/>\n<polygon fill=\"#000000\" stroke=\"#000000\" points=\"5319.5757,-211.5918 5309.8371,-207.4192 5314.848,-216.7541 5319.5757,-211.5918\"/>\n<text text-anchor=\"middle\" x=\"5360.5\" y=\"-231.8\" font-family=\"Times,serif\" font-size=\"14.00\" fill=\"#000000\">high</text>\n</g>\n<!-- lug_boot149 -->\n<g id=\"node156\" class=\"node\">\n<title>lug_boot149</title>\n<ellipse fill=\"none\" stroke=\"#000000\" cx=\"5388\" cy=\"-192\" rx=\"44.6926\" ry=\"18\"/>\n<text text-anchor=\"middle\" x=\"5388\" y=\"-188.3\" font-family=\"Times,serif\" font-size=\"14.00\" fill=\"#000000\">lug_boot</text>\n</g>\n<!-- maint140&#45;&gt;lug_boot149 -->\n<g id=\"edge155\" class=\"edge\">\n<title>maint140&#45;&gt;lug_boot149</title>\n<path fill=\"none\" stroke=\"#000000\" d=\"M5388,-260.9735C5388,-249.1918 5388,-233.5607 5388,-220.1581\"/>\n<polygon fill=\"#000000\" stroke=\"#000000\" points=\"5391.5001,-220.0033 5388,-210.0034 5384.5001,-220.0034 5391.5001,-220.0033\"/>\n<text text-anchor=\"middle\" x=\"5399\" y=\"-231.8\" font-family=\"Times,serif\" font-size=\"14.00\" fill=\"#000000\">low</text>\n</g>\n<!-- unacc156 -->\n<g id=\"node163\" class=\"node\">\n<title>unacc156</title>\n<ellipse fill=\"none\" stroke=\"#000000\" cx=\"5483\" cy=\"-192\" rx=\"32.4942\" ry=\"18\"/>\n<text text-anchor=\"middle\" x=\"5483\" y=\"-188.3\" font-family=\"Times,serif\" font-size=\"14.00\" fill=\"#000000\">unacc</text>\n</g>\n<!-- maint140&#45;&gt;unacc156 -->\n<g id=\"edge162\" class=\"edge\">\n<title>maint140&#45;&gt;unacc156</title>\n<path fill=\"none\" stroke=\"#000000\" d=\"M5404.9841,-263.4461C5419.8443,-249.8374 5441.6145,-229.9004 5458.3844,-214.5427\"/>\n<polygon fill=\"#000000\" stroke=\"#000000\" points=\"5461.152,-216.7541 5466.1629,-207.4192 5456.4243,-211.5918 5461.152,-216.7541\"/>\n<text text-anchor=\"middle\" x=\"5459\" y=\"-231.8\" font-family=\"Times,serif\" font-size=\"14.00\" fill=\"#000000\">vhigh</text>\n</g>\n<!-- acc142 -->\n<g id=\"node149\" class=\"node\">\n<title>acc142</title>\n<ellipse fill=\"none\" stroke=\"#000000\" cx=\"4972\" cy=\"-105\" rx=\"27\" ry=\"18\"/>\n<text text-anchor=\"middle\" x=\"4972\" y=\"-101.3\" font-family=\"Times,serif\" font-size=\"14.00\" fill=\"#000000\">acc</text>\n</g>\n<!-- doors141&#45;&gt;acc142 -->\n<g id=\"edge148\" class=\"edge\">\n<title>doors141&#45;&gt;acc142</title>\n<path fill=\"none\" stroke=\"#000000\" d=\"M5132.1111,-180.7498C5102.4396,-167.2744 5051.4088,-143.8975 5008,-123 5006.2528,-122.1589 5004.4614,-121.2886 5002.6559,-120.4054\"/>\n<polygon fill=\"#000000\" stroke=\"#000000\" points=\"5004.1661,-117.2477 4993.6502,-115.9565 5001.0656,-123.5237 5004.1661,-117.2477\"/>\n<text text-anchor=\"middle\" x=\"5082\" y=\"-144.8\" font-family=\"Times,serif\" font-size=\"14.00\" fill=\"#000000\">4</text>\n</g>\n<!-- lug_boot143 -->\n<g id=\"node150\" class=\"node\">\n<title>lug_boot143</title>\n<ellipse fill=\"none\" stroke=\"#000000\" cx=\"5062\" cy=\"-105\" rx=\"44.6926\" ry=\"18\"/>\n<text text-anchor=\"middle\" x=\"5062\" y=\"-101.3\" font-family=\"Times,serif\" font-size=\"14.00\" fill=\"#000000\">lug_boot</text>\n</g>\n<!-- doors141&#45;&gt;lug_boot143 -->\n<g id=\"edge149\" class=\"edge\">\n<title>doors141&#45;&gt;lug_boot143</title>\n<path fill=\"none\" stroke=\"#000000\" d=\"M5140.0159,-176.4461C5125.5227,-163.1734 5104.4563,-143.8811 5087.8668,-128.6886\"/>\n<polygon fill=\"#000000\" stroke=\"#000000\" points=\"5089.8695,-125.7767 5080.1309,-121.6041 5085.1419,-130.939 5089.8695,-125.7767\"/>\n<text text-anchor=\"middle\" x=\"5120\" y=\"-144.8\" font-family=\"Times,serif\" font-size=\"14.00\" fill=\"#000000\">2</text>\n</g>\n<!-- unacc146 -->\n<g id=\"node153\" class=\"node\">\n<title>unacc146</title>\n<ellipse fill=\"none\" stroke=\"#000000\" cx=\"5157\" cy=\"-105\" rx=\"32.4942\" ry=\"18\"/>\n<text text-anchor=\"middle\" x=\"5157\" y=\"-101.3\" font-family=\"Times,serif\" font-size=\"14.00\" fill=\"#000000\">unacc</text>\n</g>\n<!-- doors141&#45;&gt;unacc146 -->\n<g id=\"edge152\" class=\"edge\">\n<title>doors141&#45;&gt;unacc146</title>\n<path fill=\"none\" stroke=\"#000000\" d=\"M5157,-173.9735C5157,-162.1918 5157,-146.5607 5157,-133.1581\"/>\n<polygon fill=\"#000000\" stroke=\"#000000\" points=\"5160.5001,-133.0033 5157,-123.0034 5153.5001,-133.0034 5160.5001,-133.0033\"/>\n<text text-anchor=\"middle\" x=\"5161\" y=\"-144.8\" font-family=\"Times,serif\" font-size=\"14.00\" fill=\"#000000\">3</text>\n</g>\n<!-- acc147 -->\n<g id=\"node154\" class=\"node\">\n<title>acc147</title>\n<ellipse fill=\"none\" stroke=\"#000000\" cx=\"5234\" cy=\"-105\" rx=\"27\" ry=\"18\"/>\n<text text-anchor=\"middle\" x=\"5234\" y=\"-101.3\" font-family=\"Times,serif\" font-size=\"14.00\" fill=\"#000000\">acc</text>\n</g>\n<!-- doors141&#45;&gt;acc147 -->\n<g id=\"edge153\" class=\"edge\">\n<title>doors141&#45;&gt;acc147</title>\n<path fill=\"none\" stroke=\"#000000\" d=\"M5171.4831,-175.636C5183.2455,-162.346 5199.9877,-143.4295 5213.1865,-128.5166\"/>\n<polygon fill=\"#000000\" stroke=\"#000000\" points=\"5216.0938,-130.5127 5220.1005,-120.7047 5210.8519,-125.8733 5216.0938,-130.5127\"/>\n<text text-anchor=\"middle\" x=\"5219.5\" y=\"-144.8\" font-family=\"Times,serif\" font-size=\"14.00\" fill=\"#000000\">5more</text>\n</g>\n<!-- acc144 -->\n<g id=\"node151\" class=\"node\">\n<title>acc144</title>\n<ellipse fill=\"none\" stroke=\"#000000\" cx=\"5054\" cy=\"-18\" rx=\"27\" ry=\"18\"/>\n<text text-anchor=\"middle\" x=\"5054\" y=\"-14.3\" font-family=\"Times,serif\" font-size=\"14.00\" fill=\"#000000\">acc</text>\n</g>\n<!-- lug_boot143&#45;&gt;acc144 -->\n<g id=\"edge150\" class=\"edge\">\n<title>lug_boot143&#45;&gt;acc144</title>\n<path fill=\"none\" stroke=\"#000000\" d=\"M5060.3424,-86.9735C5059.259,-75.1918 5057.8217,-59.5607 5056.5892,-46.1581\"/>\n<polygon fill=\"#000000\" stroke=\"#000000\" points=\"5060.0565,-45.6408 5055.6555,-36.0034 5053.086,-46.2819 5060.0565,-45.6408\"/>\n<text text-anchor=\"middle\" x=\"5068.5\" y=\"-57.8\" font-family=\"Times,serif\" font-size=\"14.00\" fill=\"#000000\">big</text>\n</g>\n<!-- unacc145 -->\n<g id=\"node152\" class=\"node\">\n<title>unacc145</title>\n<ellipse fill=\"none\" stroke=\"#000000\" cx=\"5131\" cy=\"-18\" rx=\"32.4942\" ry=\"18\"/>\n<text text-anchor=\"middle\" x=\"5131\" y=\"-14.3\" font-family=\"Times,serif\" font-size=\"14.00\" fill=\"#000000\">unacc</text>\n</g>\n<!-- lug_boot143&#45;&gt;unacc145 -->\n<g id=\"edge151\" class=\"edge\">\n<title>lug_boot143&#45;&gt;unacc145</title>\n<path fill=\"none\" stroke=\"#000000\" d=\"M5075.6322,-87.8116C5085.8755,-74.8961 5100.0503,-57.0236 5111.493,-42.5957\"/>\n<polygon fill=\"#000000\" stroke=\"#000000\" points=\"5114.3926,-44.5723 5117.8643,-34.5624 5108.9081,-40.2225 5114.3926,-44.5723\"/>\n<text text-anchor=\"middle\" x=\"5116.5\" y=\"-57.8\" font-family=\"Times,serif\" font-size=\"14.00\" fill=\"#000000\">small</text>\n</g>\n<!-- doors150 -->\n<g id=\"node157\" class=\"node\">\n<title>doors150</title>\n<ellipse fill=\"none\" stroke=\"#000000\" cx=\"5311\" cy=\"-105\" rx=\"31.6951\" ry=\"18\"/>\n<text text-anchor=\"middle\" x=\"5311\" y=\"-101.3\" font-family=\"Times,serif\" font-size=\"14.00\" fill=\"#000000\">doors</text>\n</g>\n<!-- lug_boot149&#45;&gt;doors150 -->\n<g id=\"edge156\" class=\"edge\">\n<title>lug_boot149&#45;&gt;doors150</title>\n<path fill=\"none\" stroke=\"#000000\" d=\"M5372.7873,-174.8116C5361.1755,-161.6918 5345.0367,-143.457 5332.1651,-128.9138\"/>\n<polygon fill=\"#000000\" stroke=\"#000000\" points=\"5334.6484,-126.4386 5325.3998,-121.2699 5329.4065,-131.078 5334.6484,-126.4386\"/>\n<text text-anchor=\"middle\" x=\"5367.5\" y=\"-144.8\" font-family=\"Times,serif\" font-size=\"14.00\" fill=\"#000000\">med</text>\n</g>\n<!-- acc154 -->\n<g id=\"node161\" class=\"node\">\n<title>acc154</title>\n<ellipse fill=\"none\" stroke=\"#000000\" cx=\"5388\" cy=\"-105\" rx=\"27\" ry=\"18\"/>\n<text text-anchor=\"middle\" x=\"5388\" y=\"-101.3\" font-family=\"Times,serif\" font-size=\"14.00\" fill=\"#000000\">acc</text>\n</g>\n<!-- lug_boot149&#45;&gt;acc154 -->\n<g id=\"edge160\" class=\"edge\">\n<title>lug_boot149&#45;&gt;acc154</title>\n<path fill=\"none\" stroke=\"#000000\" d=\"M5388,-173.9735C5388,-162.1918 5388,-146.5607 5388,-133.1581\"/>\n<polygon fill=\"#000000\" stroke=\"#000000\" points=\"5391.5001,-133.0033 5388,-123.0034 5384.5001,-133.0034 5391.5001,-133.0033\"/>\n<text text-anchor=\"middle\" x=\"5397.5\" y=\"-144.8\" font-family=\"Times,serif\" font-size=\"14.00\" fill=\"#000000\">big</text>\n</g>\n<!-- unacc155 -->\n<g id=\"node162\" class=\"node\">\n<title>unacc155</title>\n<ellipse fill=\"none\" stroke=\"#000000\" cx=\"5465\" cy=\"-105\" rx=\"32.4942\" ry=\"18\"/>\n<text text-anchor=\"middle\" x=\"5465\" y=\"-101.3\" font-family=\"Times,serif\" font-size=\"14.00\" fill=\"#000000\">unacc</text>\n</g>\n<!-- lug_boot149&#45;&gt;unacc155 -->\n<g id=\"edge161\" class=\"edge\">\n<title>lug_boot149&#45;&gt;unacc155</title>\n<path fill=\"none\" stroke=\"#000000\" d=\"M5403.2127,-174.8116C5414.8245,-161.6918 5430.9633,-143.457 5443.8349,-128.9138\"/>\n<polygon fill=\"#000000\" stroke=\"#000000\" points=\"5446.5935,-131.078 5450.6002,-121.2699 5441.3516,-126.4386 5446.5935,-131.078\"/>\n<text text-anchor=\"middle\" x=\"5447.5\" y=\"-144.8\" font-family=\"Times,serif\" font-size=\"14.00\" fill=\"#000000\">small</text>\n</g>\n<!-- acc151 -->\n<g id=\"node158\" class=\"node\">\n<title>acc151</title>\n<ellipse fill=\"none\" stroke=\"#000000\" cx=\"5239\" cy=\"-18\" rx=\"27\" ry=\"18\"/>\n<text text-anchor=\"middle\" x=\"5239\" y=\"-14.3\" font-family=\"Times,serif\" font-size=\"14.00\" fill=\"#000000\">acc</text>\n</g>\n<!-- doors150&#45;&gt;acc151 -->\n<g id=\"edge157\" class=\"edge\">\n<title>doors150&#45;&gt;acc151</title>\n<path fill=\"none\" stroke=\"#000000\" d=\"M5297.4574,-88.636C5286.5275,-75.429 5270.9992,-56.6657 5258.6938,-41.7967\"/>\n<polygon fill=\"#000000\" stroke=\"#000000\" points=\"5261.3108,-39.4692 5252.2387,-33.9967 5255.918,-43.9322 5261.3108,-39.4692\"/>\n<text text-anchor=\"middle\" x=\"5284\" y=\"-57.8\" font-family=\"Times,serif\" font-size=\"14.00\" fill=\"#000000\">4</text>\n</g>\n<!-- acc152 -->\n<g id=\"node159\" class=\"node\">\n<title>acc152</title>\n<ellipse fill=\"none\" stroke=\"#000000\" cx=\"5311\" cy=\"-18\" rx=\"27\" ry=\"18\"/>\n<text text-anchor=\"middle\" x=\"5311\" y=\"-14.3\" font-family=\"Times,serif\" font-size=\"14.00\" fill=\"#000000\">acc</text>\n</g>\n<!-- doors150&#45;&gt;acc152 -->\n<g id=\"edge158\" class=\"edge\">\n<title>doors150&#45;&gt;acc152</title>\n<path fill=\"none\" stroke=\"#000000\" d=\"M5311,-86.9735C5311,-75.1918 5311,-59.5607 5311,-46.1581\"/>\n<polygon fill=\"#000000\" stroke=\"#000000\" points=\"5314.5001,-46.0033 5311,-36.0034 5307.5001,-46.0034 5314.5001,-46.0033\"/>\n<text text-anchor=\"middle\" x=\"5329.5\" y=\"-57.8\" font-family=\"Times,serif\" font-size=\"14.00\" fill=\"#000000\">5more</text>\n</g>\n<!-- unacc153 -->\n<g id=\"node160\" class=\"node\">\n<title>unacc153</title>\n<ellipse fill=\"none\" stroke=\"#000000\" cx=\"5388\" cy=\"-18\" rx=\"32.4942\" ry=\"18\"/>\n<text text-anchor=\"middle\" x=\"5388\" y=\"-14.3\" font-family=\"Times,serif\" font-size=\"14.00\" fill=\"#000000\">unacc</text>\n</g>\n<!-- doors150&#45;&gt;unacc153 -->\n<g id=\"edge159\" class=\"edge\">\n<title>doors150&#45;&gt;unacc153</title>\n<path fill=\"none\" stroke=\"#000000\" d=\"M5329.8176,-90.0946C5337.1023,-83.9211 5345.2857,-76.4658 5352,-69 5358.9924,-61.225 5365.8278,-52.0662 5371.6312,-43.6712\"/>\n<polygon fill=\"#000000\" stroke=\"#000000\" points=\"5374.5921,-45.5403 5377.2688,-35.2891 5368.7836,-41.6336 5374.5921,-45.5403\"/>\n<text text-anchor=\"middle\" x=\"5368\" y=\"-57.8\" font-family=\"Times,serif\" font-size=\"14.00\" fill=\"#000000\">2</text>\n</g>\n<!-- lug_boot158 -->\n<g id=\"node165\" class=\"node\">\n<title>lug_boot158</title>\n<ellipse fill=\"none\" stroke=\"#000000\" cx=\"5618\" cy=\"-192\" rx=\"44.6926\" ry=\"18\"/>\n<text text-anchor=\"middle\" x=\"5618\" y=\"-188.3\" font-family=\"Times,serif\" font-size=\"14.00\" fill=\"#000000\">lug_boot</text>\n</g>\n<!-- maint157&#45;&gt;lug_boot158 -->\n<g id=\"edge164\" class=\"edge\">\n<title>maint157&#45;&gt;lug_boot158</title>\n<path fill=\"none\" stroke=\"#000000\" d=\"M5756.7893,-266.535C5729.8748,-252.0809 5685.1982,-228.0879 5653.8205,-211.237\"/>\n<polygon fill=\"#000000\" stroke=\"#000000\" points=\"5655.413,-208.1194 5644.9471,-206.4716 5652.1011,-214.2864 5655.413,-208.1194\"/>\n<text text-anchor=\"middle\" x=\"5720\" y=\"-231.8\" font-family=\"Times,serif\" font-size=\"14.00\" fill=\"#000000\">low</text>\n</g>\n<!-- acc165 -->\n<g id=\"node172\" class=\"node\">\n<title>acc165</title>\n<ellipse fill=\"none\" stroke=\"#000000\" cx=\"5708\" cy=\"-192\" rx=\"27\" ry=\"18\"/>\n<text text-anchor=\"middle\" x=\"5708\" y=\"-188.3\" font-family=\"Times,serif\" font-size=\"14.00\" fill=\"#000000\">acc</text>\n</g>\n<!-- maint157&#45;&gt;acc165 -->\n<g id=\"edge171\" class=\"edge\">\n<title>maint157&#45;&gt;acc165</title>\n<path fill=\"none\" stroke=\"#000000\" d=\"M5766.4574,-262.636C5755.5275,-249.429 5739.9992,-230.6657 5727.6938,-215.7967\"/>\n<polygon fill=\"#000000\" stroke=\"#000000\" points=\"5730.3108,-213.4692 5721.2387,-207.9967 5724.918,-217.9322 5730.3108,-213.4692\"/>\n<text text-anchor=\"middle\" x=\"5761.5\" y=\"-231.8\" font-family=\"Times,serif\" font-size=\"14.00\" fill=\"#000000\">med</text>\n</g>\n<!-- acc166 -->\n<g id=\"node173\" class=\"node\">\n<title>acc166</title>\n<ellipse fill=\"none\" stroke=\"#000000\" cx=\"5780\" cy=\"-192\" rx=\"27\" ry=\"18\"/>\n<text text-anchor=\"middle\" x=\"5780\" y=\"-188.3\" font-family=\"Times,serif\" font-size=\"14.00\" fill=\"#000000\">acc</text>\n</g>\n<!-- maint157&#45;&gt;acc166 -->\n<g id=\"edge172\" class=\"edge\">\n<title>maint157&#45;&gt;acc166</title>\n<path fill=\"none\" stroke=\"#000000\" d=\"M5780,-260.9735C5780,-249.1918 5780,-233.5607 5780,-220.1581\"/>\n<polygon fill=\"#000000\" stroke=\"#000000\" points=\"5783.5001,-220.0033 5780,-210.0034 5776.5001,-220.0034 5783.5001,-220.0033\"/>\n<text text-anchor=\"middle\" x=\"5793.5\" y=\"-231.8\" font-family=\"Times,serif\" font-size=\"14.00\" fill=\"#000000\">high</text>\n</g>\n<!-- lug_boot167 -->\n<g id=\"node174\" class=\"node\">\n<title>lug_boot167</title>\n<ellipse fill=\"none\" stroke=\"#000000\" cx=\"5870\" cy=\"-192\" rx=\"44.6926\" ry=\"18\"/>\n<text text-anchor=\"middle\" x=\"5870\" y=\"-188.3\" font-family=\"Times,serif\" font-size=\"14.00\" fill=\"#000000\">lug_boot</text>\n</g>\n<!-- maint157&#45;&gt;lug_boot167 -->\n<g id=\"edge173\" class=\"edge\">\n<title>maint157&#45;&gt;lug_boot167</title>\n<path fill=\"none\" stroke=\"#000000\" d=\"M5796.0902,-263.4461C5809.7337,-250.2574 5829.5258,-231.125 5845.1957,-215.9775\"/>\n<polygon fill=\"#000000\" stroke=\"#000000\" points=\"5847.7547,-218.3718 5852.512,-208.9051 5842.8895,-213.3389 5847.7547,-218.3718\"/>\n<text text-anchor=\"middle\" x=\"5848\" y=\"-231.8\" font-family=\"Times,serif\" font-size=\"14.00\" fill=\"#000000\">vhigh</text>\n</g>\n<!-- acc159 -->\n<g id=\"node166\" class=\"node\">\n<title>acc159</title>\n<ellipse fill=\"none\" stroke=\"#000000\" cx=\"5542\" cy=\"-105\" rx=\"27\" ry=\"18\"/>\n<text text-anchor=\"middle\" x=\"5542\" y=\"-101.3\" font-family=\"Times,serif\" font-size=\"14.00\" fill=\"#000000\">acc</text>\n</g>\n<!-- lug_boot158&#45;&gt;acc159 -->\n<g id=\"edge165\" class=\"edge\">\n<title>lug_boot158&#45;&gt;acc159</title>\n<path fill=\"none\" stroke=\"#000000\" d=\"M5600.9282,-175.0998C5595.1156,-169.1738 5588.6599,-162.3985 5583,-156 5575.5483,-147.5758 5567.7284,-138.0401 5560.9395,-129.5124\"/>\n<polygon fill=\"#000000\" stroke=\"#000000\" points=\"5563.4846,-127.0873 5554.5461,-121.3992 5557.9865,-131.4199 5563.4846,-127.0873\"/>\n<text text-anchor=\"middle\" x=\"5598.5\" y=\"-144.8\" font-family=\"Times,serif\" font-size=\"14.00\" fill=\"#000000\">small</text>\n</g>\n<!-- good160 -->\n<g id=\"node167\" class=\"node\">\n<title>good160</title>\n<ellipse fill=\"none\" stroke=\"#000000\" cx=\"5618\" cy=\"-105\" rx=\"30.5947\" ry=\"18\"/>\n<text text-anchor=\"middle\" x=\"5618\" y=\"-101.3\" font-family=\"Times,serif\" font-size=\"14.00\" fill=\"#000000\">good</text>\n</g>\n<!-- lug_boot158&#45;&gt;good160 -->\n<g id=\"edge166\" class=\"edge\">\n<title>lug_boot158&#45;&gt;good160</title>\n<path fill=\"none\" stroke=\"#000000\" d=\"M5618,-173.9735C5618,-162.1918 5618,-146.5607 5618,-133.1581\"/>\n<polygon fill=\"#000000\" stroke=\"#000000\" points=\"5621.5001,-133.0033 5618,-123.0034 5614.5001,-133.0034 5621.5001,-133.0033\"/>\n<text text-anchor=\"middle\" x=\"5627.5\" y=\"-144.8\" font-family=\"Times,serif\" font-size=\"14.00\" fill=\"#000000\">big</text>\n</g>\n<!-- doors161 -->\n<g id=\"node168\" class=\"node\">\n<title>doors161</title>\n<ellipse fill=\"none\" stroke=\"#000000\" cx=\"5698\" cy=\"-105\" rx=\"31.6951\" ry=\"18\"/>\n<text text-anchor=\"middle\" x=\"5698\" y=\"-101.3\" font-family=\"Times,serif\" font-size=\"14.00\" fill=\"#000000\">doors</text>\n</g>\n<!-- lug_boot158&#45;&gt;doors161 -->\n<g id=\"edge167\" class=\"edge\">\n<title>lug_boot158&#45;&gt;doors161</title>\n<path fill=\"none\" stroke=\"#000000\" d=\"M5633.8054,-174.8116C5645.9465,-161.6082 5662.851,-143.2245 5676.2654,-128.6363\"/>\n<polygon fill=\"#000000\" stroke=\"#000000\" points=\"5679.114,-130.7094 5683.3064,-120.9793 5673.9613,-125.9713 5679.114,-130.7094\"/>\n<text text-anchor=\"middle\" x=\"5675.5\" y=\"-144.8\" font-family=\"Times,serif\" font-size=\"14.00\" fill=\"#000000\">med</text>\n</g>\n<!-- good162 -->\n<g id=\"node169\" class=\"node\">\n<title>good162</title>\n<ellipse fill=\"none\" stroke=\"#000000\" cx=\"5543\" cy=\"-18\" rx=\"30.5947\" ry=\"18\"/>\n<text text-anchor=\"middle\" x=\"5543\" y=\"-14.3\" font-family=\"Times,serif\" font-size=\"14.00\" fill=\"#000000\">good</text>\n</g>\n<!-- doors161&#45;&gt;good162 -->\n<g id=\"edge168\" class=\"edge\">\n<title>doors161&#45;&gt;good162</title>\n<path fill=\"none\" stroke=\"#000000\" d=\"M5673.0801,-93.6638C5668.0959,-91.431 5662.8896,-89.1231 5658,-87 5638.9962,-78.7483 5633.1181,-79.0483 5615,-69 5599.1761,-60.224 5582.6255,-48.6884 5569.388,-38.8083\"/>\n<polygon fill=\"#000000\" stroke=\"#000000\" points=\"5571.29,-35.858 5561.2084,-32.6005 5567.0581,-41.434 5571.29,-35.858\"/>\n<text text-anchor=\"middle\" x=\"5633.5\" y=\"-57.8\" font-family=\"Times,serif\" font-size=\"14.00\" fill=\"#000000\">5more</text>\n</g>\n<!-- good163 -->\n<g id=\"node170\" class=\"node\">\n<title>good163</title>\n<ellipse fill=\"none\" stroke=\"#000000\" cx=\"5622\" cy=\"-18\" rx=\"30.5947\" ry=\"18\"/>\n<text text-anchor=\"middle\" x=\"5622\" y=\"-14.3\" font-family=\"Times,serif\" font-size=\"14.00\" fill=\"#000000\">good</text>\n</g>\n<!-- doors161&#45;&gt;good163 -->\n<g id=\"edge169\" class=\"edge\">\n<title>doors161&#45;&gt;good163</title>\n<path fill=\"none\" stroke=\"#000000\" d=\"M5683.705,-88.636C5672.2404,-75.5121 5655.983,-56.9015 5643.0334,-42.0777\"/>\n<polygon fill=\"#000000\" stroke=\"#000000\" points=\"5645.4458,-39.5192 5636.2309,-34.2907 5640.174,-44.1244 5645.4458,-39.5192\"/>\n<text text-anchor=\"middle\" x=\"5669\" y=\"-57.8\" font-family=\"Times,serif\" font-size=\"14.00\" fill=\"#000000\">4</text>\n</g>\n<!-- acc164 -->\n<g id=\"node171\" class=\"node\">\n<title>acc164</title>\n<ellipse fill=\"none\" stroke=\"#000000\" cx=\"5698\" cy=\"-18\" rx=\"27\" ry=\"18\"/>\n<text text-anchor=\"middle\" x=\"5698\" y=\"-14.3\" font-family=\"Times,serif\" font-size=\"14.00\" fill=\"#000000\">acc</text>\n</g>\n<!-- doors161&#45;&gt;acc164 -->\n<g id=\"edge170\" class=\"edge\">\n<title>doors161&#45;&gt;acc164</title>\n<path fill=\"none\" stroke=\"#000000\" d=\"M5698,-86.9735C5698,-75.1918 5698,-59.5607 5698,-46.1581\"/>\n<polygon fill=\"#000000\" stroke=\"#000000\" points=\"5701.5001,-46.0033 5698,-36.0034 5694.5001,-46.0034 5701.5001,-46.0033\"/>\n<text text-anchor=\"middle\" x=\"5702\" y=\"-57.8\" font-family=\"Times,serif\" font-size=\"14.00\" fill=\"#000000\">2</text>\n</g>\n<!-- acc168 -->\n<g id=\"node175\" class=\"node\">\n<title>acc168</title>\n<ellipse fill=\"none\" stroke=\"#000000\" cx=\"5775\" cy=\"-105\" rx=\"27\" ry=\"18\"/>\n<text text-anchor=\"middle\" x=\"5775\" y=\"-101.3\" font-family=\"Times,serif\" font-size=\"14.00\" fill=\"#000000\">acc</text>\n</g>\n<!-- lug_boot167&#45;&gt;acc168 -->\n<g id=\"edge174\" class=\"edge\">\n<title>lug_boot167&#45;&gt;acc168</title>\n<path fill=\"none\" stroke=\"#000000\" d=\"M5851.683,-175.2255C5836.5776,-161.3922 5815.0436,-141.6715 5798.6389,-126.6482\"/>\n<polygon fill=\"#000000\" stroke=\"#000000\" points=\"5800.7869,-123.8694 5791.0483,-119.6968 5796.0593,-129.0318 5800.7869,-123.8694\"/>\n<text text-anchor=\"middle\" x=\"5838.5\" y=\"-144.8\" font-family=\"Times,serif\" font-size=\"14.00\" fill=\"#000000\">big</text>\n</g>\n<!-- doors169 -->\n<g id=\"node176\" class=\"node\">\n<title>doors169</title>\n<ellipse fill=\"none\" stroke=\"#000000\" cx=\"5852\" cy=\"-105\" rx=\"31.6951\" ry=\"18\"/>\n<text text-anchor=\"middle\" x=\"5852\" y=\"-101.3\" font-family=\"Times,serif\" font-size=\"14.00\" fill=\"#000000\">doors</text>\n</g>\n<!-- lug_boot167&#45;&gt;doors169 -->\n<g id=\"edge175\" class=\"edge\">\n<title>lug_boot167&#45;&gt;doors169</title>\n<path fill=\"none\" stroke=\"#000000\" d=\"M5866.2704,-173.9735C5863.8328,-162.1918 5860.5988,-146.5607 5857.8258,-133.1581\"/>\n<polygon fill=\"#000000\" stroke=\"#000000\" points=\"5861.1784,-132.0868 5855.7248,-123.0034 5854.3236,-133.5051 5861.1784,-132.0868\"/>\n<text text-anchor=\"middle\" x=\"5875.5\" y=\"-144.8\" font-family=\"Times,serif\" font-size=\"14.00\" fill=\"#000000\">med</text>\n</g>\n<!-- unacc172 -->\n<g id=\"node179\" class=\"node\">\n<title>unacc172</title>\n<ellipse fill=\"none\" stroke=\"#000000\" cx=\"5934\" cy=\"-105\" rx=\"32.4942\" ry=\"18\"/>\n<text text-anchor=\"middle\" x=\"5934\" y=\"-101.3\" font-family=\"Times,serif\" font-size=\"14.00\" fill=\"#000000\">unacc</text>\n</g>\n<!-- lug_boot167&#45;&gt;unacc172 -->\n<g id=\"edge178\" class=\"edge\">\n<title>lug_boot167&#45;&gt;unacc172</title>\n<path fill=\"none\" stroke=\"#000000\" d=\"M5882.9514,-174.3943C5892.3281,-161.6477 5905.1357,-144.2374 5915.5763,-130.0447\"/>\n<polygon fill=\"#000000\" stroke=\"#000000\" points=\"5918.6129,-131.8233 5921.7193,-121.694 5912.9743,-127.6753 5918.6129,-131.8233\"/>\n<text text-anchor=\"middle\" x=\"5921.5\" y=\"-144.8\" font-family=\"Times,serif\" font-size=\"14.00\" fill=\"#000000\">small</text>\n</g>\n<!-- unacc170 -->\n<g id=\"node177\" class=\"node\">\n<title>unacc170</title>\n<ellipse fill=\"none\" stroke=\"#000000\" cx=\"5775\" cy=\"-18\" rx=\"32.4942\" ry=\"18\"/>\n<text text-anchor=\"middle\" x=\"5775\" y=\"-14.3\" font-family=\"Times,serif\" font-size=\"14.00\" fill=\"#000000\">unacc</text>\n</g>\n<!-- doors169&#45;&gt;unacc170 -->\n<g id=\"edge176\" class=\"edge\">\n<title>doors169&#45;&gt;unacc170</title>\n<path fill=\"none\" stroke=\"#000000\" d=\"M5837.5169,-88.636C5825.9015,-75.5121 5809.4301,-56.9015 5796.3101,-42.0777\"/>\n<polygon fill=\"#000000\" stroke=\"#000000\" points=\"5798.6667,-39.4593 5789.4182,-34.2907 5793.4249,-44.0987 5798.6667,-39.4593\"/>\n<text text-anchor=\"middle\" x=\"5823\" y=\"-57.8\" font-family=\"Times,serif\" font-size=\"14.00\" fill=\"#000000\">2</text>\n</g>\n<!-- acc171 -->\n<g id=\"node178\" class=\"node\">\n<title>acc171</title>\n<ellipse fill=\"none\" stroke=\"#000000\" cx=\"5852\" cy=\"-18\" rx=\"27\" ry=\"18\"/>\n<text text-anchor=\"middle\" x=\"5852\" y=\"-14.3\" font-family=\"Times,serif\" font-size=\"14.00\" fill=\"#000000\">acc</text>\n</g>\n<!-- doors169&#45;&gt;acc171 -->\n<g id=\"edge177\" class=\"edge\">\n<title>doors169&#45;&gt;acc171</title>\n<path fill=\"none\" stroke=\"#000000\" d=\"M5852,-86.9735C5852,-75.1918 5852,-59.5607 5852,-46.1581\"/>\n<polygon fill=\"#000000\" stroke=\"#000000\" points=\"5855.5001,-46.0033 5852,-36.0034 5848.5001,-46.0034 5855.5001,-46.0033\"/>\n<text text-anchor=\"middle\" x=\"5870.5\" y=\"-57.8\" font-family=\"Times,serif\" font-size=\"14.00\" fill=\"#000000\">5more</text>\n</g>\n<!-- doors174 -->\n<g id=\"node181\" class=\"node\">\n<title>doors174</title>\n<ellipse fill=\"none\" stroke=\"#000000\" cx=\"6182\" cy=\"-192\" rx=\"31.6951\" ry=\"18\"/>\n<text text-anchor=\"middle\" x=\"6182\" y=\"-188.3\" font-family=\"Times,serif\" font-size=\"14.00\" fill=\"#000000\">doors</text>\n</g>\n<!-- lug_boot173&#45;&gt;doors174 -->\n<g id=\"edge180\" class=\"edge\">\n<title>lug_boot173&#45;&gt;doors174</title>\n<path fill=\"none\" stroke=\"#000000\" d=\"M6214.5048,-260.9735C6208.767,-248.7983 6201.092,-232.5122 6194.6407,-218.8228\"/>\n<polygon fill=\"#000000\" stroke=\"#000000\" points=\"6197.6336,-216.9635 6190.2046,-209.4097 6191.3016,-219.9476 6197.6336,-216.9635\"/>\n<text text-anchor=\"middle\" x=\"6217.5\" y=\"-231.8\" font-family=\"Times,serif\" font-size=\"14.00\" fill=\"#000000\">med</text>\n</g>\n<!-- unacc186 -->\n<g id=\"node193\" class=\"node\">\n<title>unacc186</title>\n<ellipse fill=\"none\" stroke=\"#000000\" cx=\"6264\" cy=\"-192\" rx=\"32.4942\" ry=\"18\"/>\n<text text-anchor=\"middle\" x=\"6264\" y=\"-188.3\" font-family=\"Times,serif\" font-size=\"14.00\" fill=\"#000000\">unacc</text>\n</g>\n<!-- lug_boot173&#45;&gt;unacc186 -->\n<g id=\"edge192\" class=\"edge\">\n<title>lug_boot173&#45;&gt;unacc186</title>\n<path fill=\"none\" stroke=\"#000000\" d=\"M6231.4952,-260.9735C6237.1952,-248.8784 6244.8071,-232.7263 6251.2319,-219.0934\"/>\n<polygon fill=\"#000000\" stroke=\"#000000\" points=\"6254.5589,-220.2436 6255.6559,-209.7057 6248.2269,-217.2595 6254.5589,-220.2436\"/>\n<text text-anchor=\"middle\" x=\"6261.5\" y=\"-231.8\" font-family=\"Times,serif\" font-size=\"14.00\" fill=\"#000000\">small</text>\n</g>\n<!-- maint187 -->\n<g id=\"node194\" class=\"node\">\n<title>maint187</title>\n<ellipse fill=\"none\" stroke=\"#000000\" cx=\"6451\" cy=\"-192\" rx=\"31.6951\" ry=\"18\"/>\n<text text-anchor=\"middle\" x=\"6451\" y=\"-188.3\" font-family=\"Times,serif\" font-size=\"14.00\" fill=\"#000000\">maint</text>\n</g>\n<!-- lug_boot173&#45;&gt;maint187 -->\n<g id=\"edge193\" class=\"edge\">\n<title>lug_boot173&#45;&gt;maint187</title>\n<path fill=\"none\" stroke=\"#000000\" d=\"M6255.6668,-266.535C6297.9082,-250.4166 6371.2362,-222.4362 6415.0293,-205.7257\"/>\n<polygon fill=\"#000000\" stroke=\"#000000\" points=\"6416.3374,-208.9728 6424.4325,-202.1376 6413.8418,-202.4327 6416.3374,-208.9728\"/>\n<text text-anchor=\"middle\" x=\"6360.5\" y=\"-231.8\" font-family=\"Times,serif\" font-size=\"14.00\" fill=\"#000000\">big</text>\n</g>\n<!-- maint175 -->\n<g id=\"node182\" class=\"node\">\n<title>maint175</title>\n<ellipse fill=\"none\" stroke=\"#000000\" cx=\"6055\" cy=\"-105\" rx=\"31.6951\" ry=\"18\"/>\n<text text-anchor=\"middle\" x=\"6055\" y=\"-101.3\" font-family=\"Times,serif\" font-size=\"14.00\" fill=\"#000000\">maint</text>\n</g>\n<!-- doors174&#45;&gt;maint175 -->\n<g id=\"edge181\" class=\"edge\">\n<title>doors174&#45;&gt;maint175</title>\n<path fill=\"none\" stroke=\"#000000\" d=\"M6161.5953,-178.0219C6140.4878,-163.5625 6107.3521,-140.8632 6083.6287,-124.6118\"/>\n<polygon fill=\"#000000\" stroke=\"#000000\" points=\"6085.5821,-121.7074 6075.3541,-118.9434 6081.626,-127.4824 6085.5821,-121.7074\"/>\n<text text-anchor=\"middle\" x=\"6131\" y=\"-144.8\" font-family=\"Times,serif\" font-size=\"14.00\" fill=\"#000000\">4</text>\n</g>\n<!-- maint179 -->\n<g id=\"node186\" class=\"node\">\n<title>maint179</title>\n<ellipse fill=\"none\" stroke=\"#000000\" cx=\"6137\" cy=\"-105\" rx=\"31.6951\" ry=\"18\"/>\n<text text-anchor=\"middle\" x=\"6137\" y=\"-101.3\" font-family=\"Times,serif\" font-size=\"14.00\" fill=\"#000000\">maint</text>\n</g>\n<!-- doors174&#45;&gt;maint179 -->\n<g id=\"edge185\" class=\"edge\">\n<title>doors174&#45;&gt;maint179</title>\n<path fill=\"none\" stroke=\"#000000\" d=\"M6169.8124,-175.2129C6165.7879,-169.2961 6161.4599,-162.4976 6158,-156 6154.0128,-148.5122 6150.2702,-140.099 6147.0805,-132.2978\"/>\n<polygon fill=\"#000000\" stroke=\"#000000\" points=\"6150.2832,-130.8783 6143.3591,-122.8591 6143.771,-133.4459 6150.2832,-130.8783\"/>\n<text text-anchor=\"middle\" x=\"6176.5\" y=\"-144.8\" font-family=\"Times,serif\" font-size=\"14.00\" fill=\"#000000\">5more</text>\n</g>\n<!-- unacc184 -->\n<g id=\"node191\" class=\"node\">\n<title>unacc184</title>\n<ellipse fill=\"none\" stroke=\"#000000\" cx=\"6219\" cy=\"-105\" rx=\"32.4942\" ry=\"18\"/>\n<text text-anchor=\"middle\" x=\"6219\" y=\"-101.3\" font-family=\"Times,serif\" font-size=\"14.00\" fill=\"#000000\">unacc</text>\n</g>\n<!-- doors174&#45;&gt;unacc184 -->\n<g id=\"edge190\" class=\"edge\">\n<title>doors174&#45;&gt;unacc184</title>\n<path fill=\"none\" stroke=\"#000000\" d=\"M6189.4875,-174.3943C6194.6531,-162.2482 6201.6196,-145.8674 6207.487,-132.0711\"/>\n<polygon fill=\"#000000\" stroke=\"#000000\" points=\"6210.8308,-133.1517 6211.5236,-122.5796 6204.3891,-130.4121 6210.8308,-133.1517\"/>\n<text text-anchor=\"middle\" x=\"6207\" y=\"-144.8\" font-family=\"Times,serif\" font-size=\"14.00\" fill=\"#000000\">3</text>\n</g>\n<!-- unacc185 -->\n<g id=\"node192\" class=\"node\">\n<title>unacc185</title>\n<ellipse fill=\"none\" stroke=\"#000000\" cx=\"6302\" cy=\"-105\" rx=\"32.4942\" ry=\"18\"/>\n<text text-anchor=\"middle\" x=\"6302\" y=\"-101.3\" font-family=\"Times,serif\" font-size=\"14.00\" fill=\"#000000\">unacc</text>\n</g>\n<!-- doors174&#45;&gt;unacc185 -->\n<g id=\"edge191\" class=\"edge\">\n<title>doors174&#45;&gt;unacc185</title>\n<path fill=\"none\" stroke=\"#000000\" d=\"M6201.8156,-177.6337C6221.4441,-163.403 6251.6915,-141.4737 6273.8171,-125.4326\"/>\n<polygon fill=\"#000000\" stroke=\"#000000\" points=\"6276.1133,-128.091 6282.155,-119.3876 6272.0045,-122.4237 6276.1133,-128.091\"/>\n<text text-anchor=\"middle\" x=\"6254\" y=\"-144.8\" font-family=\"Times,serif\" font-size=\"14.00\" fill=\"#000000\">2</text>\n</g>\n<!-- acc176 -->\n<g id=\"node183\" class=\"node\">\n<title>acc176</title>\n<ellipse fill=\"none\" stroke=\"#000000\" cx=\"5924\" cy=\"-18\" rx=\"27\" ry=\"18\"/>\n<text text-anchor=\"middle\" x=\"5924\" y=\"-14.3\" font-family=\"Times,serif\" font-size=\"14.00\" fill=\"#000000\">acc</text>\n</g>\n<!-- maint175&#45;&gt;acc176 -->\n<g id=\"edge182\" class=\"edge\">\n<title>maint175&#45;&gt;acc176</title>\n<path fill=\"none\" stroke=\"#000000\" d=\"M6031.9606,-92.4242C6020.1265,-85.7646 6005.5871,-77.2698 5993,-69 5978.3328,-59.3635 5962.552,-47.7953 5949.789,-38.1143\"/>\n<polygon fill=\"#000000\" stroke=\"#000000\" points=\"5951.5545,-35.0581 5941.4859,-31.7605 5947.3004,-40.6172 5951.5545,-35.0581\"/>\n<text text-anchor=\"middle\" x=\"6005.5\" y=\"-57.8\" font-family=\"Times,serif\" font-size=\"14.00\" fill=\"#000000\">med</text>\n</g>\n<!-- acc177 -->\n<g id=\"node184\" class=\"node\">\n<title>acc177</title>\n<ellipse fill=\"none\" stroke=\"#000000\" cx=\"5996\" cy=\"-18\" rx=\"27\" ry=\"18\"/>\n<text text-anchor=\"middle\" x=\"5996\" y=\"-14.3\" font-family=\"Times,serif\" font-size=\"14.00\" fill=\"#000000\">acc</text>\n</g>\n<!-- maint175&#45;&gt;acc177 -->\n<g id=\"edge183\" class=\"edge\">\n<title>maint175&#45;&gt;acc177</title>\n<path fill=\"none\" stroke=\"#000000\" d=\"M6043.3435,-87.8116C6034.6665,-75.0168 6022.6905,-57.3572 6012.9548,-43.0012\"/>\n<polygon fill=\"#000000\" stroke=\"#000000\" points=\"6015.7414,-40.8743 6007.232,-34.5624 6009.948,-44.8032 6015.7414,-40.8743\"/>\n<text text-anchor=\"middle\" x=\"6041\" y=\"-57.8\" font-family=\"Times,serif\" font-size=\"14.00\" fill=\"#000000\">low</text>\n</g>\n<!-- unacc178 -->\n<g id=\"node185\" class=\"node\">\n<title>unacc178</title>\n<ellipse fill=\"none\" stroke=\"#000000\" cx=\"6073\" cy=\"-18\" rx=\"32.4942\" ry=\"18\"/>\n<text text-anchor=\"middle\" x=\"6073\" y=\"-14.3\" font-family=\"Times,serif\" font-size=\"14.00\" fill=\"#000000\">unacc</text>\n</g>\n<!-- maint175&#45;&gt;unacc178 -->\n<g id=\"edge184\" class=\"edge\">\n<title>maint175&#45;&gt;unacc178</title>\n<path fill=\"none\" stroke=\"#000000\" d=\"M6058.7296,-86.9735C6061.1672,-75.1918 6064.4012,-59.5607 6067.1742,-46.1581\"/>\n<polygon fill=\"#000000\" stroke=\"#000000\" points=\"6070.6764,-46.5051 6069.2752,-36.0034 6063.8216,-45.0868 6070.6764,-46.5051\"/>\n<text text-anchor=\"middle\" x=\"6083\" y=\"-57.8\" font-family=\"Times,serif\" font-size=\"14.00\" fill=\"#000000\">vhigh</text>\n</g>\n<!-- unacc180 -->\n<g id=\"node187\" class=\"node\">\n<title>unacc180</title>\n<ellipse fill=\"none\" stroke=\"#000000\" cx=\"6156\" cy=\"-18\" rx=\"32.4942\" ry=\"18\"/>\n<text text-anchor=\"middle\" x=\"6156\" y=\"-14.3\" font-family=\"Times,serif\" font-size=\"14.00\" fill=\"#000000\">unacc</text>\n</g>\n<!-- maint179&#45;&gt;unacc180 -->\n<g id=\"edge186\" class=\"edge\">\n<title>maint179&#45;&gt;unacc180</title>\n<path fill=\"none\" stroke=\"#000000\" d=\"M6140.9368,-86.9735C6143.5098,-75.1918 6146.9235,-59.5607 6149.8505,-46.1581\"/>\n<polygon fill=\"#000000\" stroke=\"#000000\" points=\"6153.3539,-46.5199 6152.0682,-36.0034 6146.5151,-45.0263 6153.3539,-46.5199\"/>\n<text text-anchor=\"middle\" x=\"6165\" y=\"-57.8\" font-family=\"Times,serif\" font-size=\"14.00\" fill=\"#000000\">vhigh</text>\n</g>\n<!-- acc181 -->\n<g id=\"node188\" class=\"node\">\n<title>acc181</title>\n<ellipse fill=\"none\" stroke=\"#000000\" cx=\"6233\" cy=\"-18\" rx=\"27\" ry=\"18\"/>\n<text text-anchor=\"middle\" x=\"6233\" y=\"-14.3\" font-family=\"Times,serif\" font-size=\"14.00\" fill=\"#000000\">acc</text>\n</g>\n<!-- maint179&#45;&gt;acc181 -->\n<g id=\"edge187\" class=\"edge\">\n<title>maint179&#45;&gt;acc181</title>\n<path fill=\"none\" stroke=\"#000000\" d=\"M6157.7065,-91.1257C6166.709,-84.7596 6177.1893,-76.8835 6186,-69 6195.4386,-60.5547 6205.0557,-50.4393 6213.1112,-41.452\"/>\n<polygon fill=\"#000000\" stroke=\"#000000\" points=\"6215.7653,-43.734 6219.7445,-33.9148 6210.5104,-39.1094 6215.7653,-43.734\"/>\n<text text-anchor=\"middle\" x=\"6214.5\" y=\"-57.8\" font-family=\"Times,serif\" font-size=\"14.00\" fill=\"#000000\">med</text>\n</g>\n<!-- acc182 -->\n<g id=\"node189\" class=\"node\">\n<title>acc182</title>\n<ellipse fill=\"none\" stroke=\"#000000\" cx=\"6305\" cy=\"-18\" rx=\"27\" ry=\"18\"/>\n<text text-anchor=\"middle\" x=\"6305\" y=\"-14.3\" font-family=\"Times,serif\" font-size=\"14.00\" fill=\"#000000\">acc</text>\n</g>\n<!-- maint179&#45;&gt;acc182 -->\n<g id=\"edge188\" class=\"edge\">\n<title>maint179&#45;&gt;acc182</title>\n<path fill=\"none\" stroke=\"#000000\" d=\"M6162.009,-93.6118C6167.257,-91.3374 6172.7827,-89.0269 6178,-87 6201.1886,-77.9915 6208.7691,-80.1647 6231,-69 6248.0891,-60.4176 6265.7767,-48.3633 6279.5727,-38.1286\"/>\n<polygon fill=\"#000000\" stroke=\"#000000\" points=\"6281.7579,-40.8642 6287.6196,-32.0386 6277.5335,-35.2825 6281.7579,-40.8642\"/>\n<text text-anchor=\"middle\" x=\"6270.5\" y=\"-57.8\" font-family=\"Times,serif\" font-size=\"14.00\" fill=\"#000000\">high</text>\n</g>\n<!-- acc183 -->\n<g id=\"node190\" class=\"node\">\n<title>acc183</title>\n<ellipse fill=\"none\" stroke=\"#000000\" cx=\"6377\" cy=\"-18\" rx=\"27\" ry=\"18\"/>\n<text text-anchor=\"middle\" x=\"6377\" y=\"-14.3\" font-family=\"Times,serif\" font-size=\"14.00\" fill=\"#000000\">acc</text>\n</g>\n<!-- maint179&#45;&gt;acc183 -->\n<g id=\"edge189\" class=\"edge\">\n<title>maint179&#45;&gt;acc183</title>\n<path fill=\"none\" stroke=\"#000000\" d=\"M6161.3395,-93.1197C6166.7314,-90.8269 6172.4842,-88.6336 6178,-87 6225.4996,-72.9318 6241.3179,-85.5803 6288,-69 6310.1502,-61.1328 6333.1189,-47.8205 6350.1737,-36.7693\"/>\n<polygon fill=\"#000000\" stroke=\"#000000\" points=\"6352.1171,-39.6803 6358.5176,-31.2372 6348.2489,-33.8461 6352.1171,-39.6803\"/>\n<text text-anchor=\"middle\" x=\"6330\" y=\"-57.8\" font-family=\"Times,serif\" font-size=\"14.00\" fill=\"#000000\">low</text>\n</g>\n<!-- acc188 -->\n<g id=\"node195\" class=\"node\">\n<title>acc188</title>\n<ellipse fill=\"none\" stroke=\"#000000\" cx=\"6379\" cy=\"-105\" rx=\"27\" ry=\"18\"/>\n<text text-anchor=\"middle\" x=\"6379\" y=\"-101.3\" font-family=\"Times,serif\" font-size=\"14.00\" fill=\"#000000\">acc</text>\n</g>\n<!-- maint187&#45;&gt;acc188 -->\n<g id=\"edge194\" class=\"edge\">\n<title>maint187&#45;&gt;acc188</title>\n<path fill=\"none\" stroke=\"#000000\" d=\"M6437.4574,-175.636C6426.5275,-162.429 6410.9992,-143.6657 6398.6938,-128.7967\"/>\n<polygon fill=\"#000000\" stroke=\"#000000\" points=\"6401.3108,-126.4692 6392.2387,-120.9967 6395.918,-130.9322 6401.3108,-126.4692\"/>\n<text text-anchor=\"middle\" x=\"6431\" y=\"-144.8\" font-family=\"Times,serif\" font-size=\"14.00\" fill=\"#000000\">low</text>\n</g>\n<!-- acc189 -->\n<g id=\"node196\" class=\"node\">\n<title>acc189</title>\n<ellipse fill=\"none\" stroke=\"#000000\" cx=\"6451\" cy=\"-105\" rx=\"27\" ry=\"18\"/>\n<text text-anchor=\"middle\" x=\"6451\" y=\"-101.3\" font-family=\"Times,serif\" font-size=\"14.00\" fill=\"#000000\">acc</text>\n</g>\n<!-- maint187&#45;&gt;acc189 -->\n<g id=\"edge195\" class=\"edge\">\n<title>maint187&#45;&gt;acc189</title>\n<path fill=\"none\" stroke=\"#000000\" d=\"M6451,-173.9735C6451,-162.1918 6451,-146.5607 6451,-133.1581\"/>\n<polygon fill=\"#000000\" stroke=\"#000000\" points=\"6454.5001,-133.0033 6451,-123.0034 6447.5001,-133.0034 6454.5001,-133.0033\"/>\n<text text-anchor=\"middle\" x=\"6464.5\" y=\"-144.8\" font-family=\"Times,serif\" font-size=\"14.00\" fill=\"#000000\">high</text>\n</g>\n<!-- unacc190 -->\n<g id=\"node197\" class=\"node\">\n<title>unacc190</title>\n<ellipse fill=\"none\" stroke=\"#000000\" cx=\"6528\" cy=\"-105\" rx=\"32.4942\" ry=\"18\"/>\n<text text-anchor=\"middle\" x=\"6528\" y=\"-101.3\" font-family=\"Times,serif\" font-size=\"14.00\" fill=\"#000000\">unacc</text>\n</g>\n<!-- maint187&#45;&gt;unacc190 -->\n<g id=\"edge196\" class=\"edge\">\n<title>maint187&#45;&gt;unacc190</title>\n<path fill=\"none\" stroke=\"#000000\" d=\"M6465.4831,-175.636C6477.0985,-162.5121 6493.5699,-143.9015 6506.6899,-129.0777\"/>\n<polygon fill=\"#000000\" stroke=\"#000000\" points=\"6509.5751,-131.0987 6513.5818,-121.2907 6504.3333,-126.4593 6509.5751,-131.0987\"/>\n<text text-anchor=\"middle\" x=\"6512\" y=\"-144.8\" font-family=\"Times,serif\" font-size=\"14.00\" fill=\"#000000\">vhigh</text>\n</g>\n<!-- acc191 -->\n<g id=\"node198\" class=\"node\">\n<title>acc191</title>\n<ellipse fill=\"none\" stroke=\"#000000\" cx=\"6605\" cy=\"-105\" rx=\"27\" ry=\"18\"/>\n<text text-anchor=\"middle\" x=\"6605\" y=\"-101.3\" font-family=\"Times,serif\" font-size=\"14.00\" fill=\"#000000\">acc</text>\n</g>\n<!-- maint187&#45;&gt;acc191 -->\n<g id=\"edge197\" class=\"edge\">\n<title>maint187&#45;&gt;acc191</title>\n<path fill=\"none\" stroke=\"#000000\" d=\"M6477.5072,-181.9581C6493.8959,-175.3635 6515.139,-166.1081 6533,-156 6549.0757,-146.9022 6565.9821,-135.0595 6579.3696,-125.0764\"/>\n<polygon fill=\"#000000\" stroke=\"#000000\" points=\"6581.7561,-127.6596 6587.615,-118.8321 6577.53,-122.0792 6581.7561,-127.6596\"/>\n<text text-anchor=\"middle\" x=\"6568.5\" y=\"-144.8\" font-family=\"Times,serif\" font-size=\"14.00\" fill=\"#000000\">med</text>\n</g>\n<!-- lug_boot193 -->\n<g id=\"node200\" class=\"node\">\n<title>lug_boot193</title>\n<ellipse fill=\"none\" stroke=\"#000000\" cx=\"6803\" cy=\"-192\" rx=\"44.6926\" ry=\"18\"/>\n<text text-anchor=\"middle\" x=\"6803\" y=\"-188.3\" font-family=\"Times,serif\" font-size=\"14.00\" fill=\"#000000\">lug_boot</text>\n</g>\n<!-- maint192&#45;&gt;lug_boot193 -->\n<g id=\"edge199\" class=\"edge\">\n<title>maint192&#45;&gt;lug_boot193</title>\n<path fill=\"none\" stroke=\"#000000\" d=\"M6943.5028,-266.535C6916.256,-252.0809 6871.0278,-228.0879 6839.2628,-211.237\"/>\n<polygon fill=\"#000000\" stroke=\"#000000\" points=\"6840.7539,-208.066 6830.2798,-206.4716 6837.4735,-214.2498 6840.7539,-208.066\"/>\n<text text-anchor=\"middle\" x=\"6908.5\" y=\"-231.8\" font-family=\"Times,serif\" font-size=\"14.00\" fill=\"#000000\">high</text>\n</g>\n<!-- lug_boot200 -->\n<g id=\"node207\" class=\"node\">\n<title>lug_boot200</title>\n<ellipse fill=\"none\" stroke=\"#000000\" cx=\"6967\" cy=\"-192\" rx=\"44.6926\" ry=\"18\"/>\n<text text-anchor=\"middle\" x=\"6967\" y=\"-188.3\" font-family=\"Times,serif\" font-size=\"14.00\" fill=\"#000000\">lug_boot</text>\n</g>\n<!-- maint192&#45;&gt;lug_boot200 -->\n<g id=\"edge206\" class=\"edge\">\n<title>maint192&#45;&gt;lug_boot200</title>\n<path fill=\"none\" stroke=\"#000000\" d=\"M6967,-260.9735C6967,-249.1918 6967,-233.5607 6967,-220.1581\"/>\n<polygon fill=\"#000000\" stroke=\"#000000\" points=\"6970.5001,-220.0033 6967,-210.0034 6963.5001,-220.0034 6970.5001,-220.0033\"/>\n<text text-anchor=\"middle\" x=\"6978\" y=\"-231.8\" font-family=\"Times,serif\" font-size=\"14.00\" fill=\"#000000\">low</text>\n</g>\n<!-- acc207 -->\n<g id=\"node214\" class=\"node\">\n<title>acc207</title>\n<ellipse fill=\"none\" stroke=\"#000000\" cx=\"7057\" cy=\"-192\" rx=\"27\" ry=\"18\"/>\n<text text-anchor=\"middle\" x=\"7057\" y=\"-188.3\" font-family=\"Times,serif\" font-size=\"14.00\" fill=\"#000000\">acc</text>\n</g>\n<!-- maint192&#45;&gt;acc207 -->\n<g id=\"edge213\" class=\"edge\">\n<title>maint192&#45;&gt;acc207</title>\n<path fill=\"none\" stroke=\"#000000\" d=\"M6983.0902,-263.4461C6997.3421,-249.6693 7018.303,-229.4071 7034.2661,-213.9761\"/>\n<polygon fill=\"#000000\" stroke=\"#000000\" points=\"7036.8925,-216.3052 7041.6499,-206.8385 7032.0274,-211.2723 7036.8925,-216.3052\"/>\n<text text-anchor=\"middle\" x=\"7030.5\" y=\"-231.8\" font-family=\"Times,serif\" font-size=\"14.00\" fill=\"#000000\">med</text>\n</g>\n<!-- lug_boot208 -->\n<g id=\"node215\" class=\"node\">\n<title>lug_boot208</title>\n<ellipse fill=\"none\" stroke=\"#000000\" cx=\"7178\" cy=\"-192\" rx=\"44.6926\" ry=\"18\"/>\n<text text-anchor=\"middle\" x=\"7178\" y=\"-188.3\" font-family=\"Times,serif\" font-size=\"14.00\" fill=\"#000000\">lug_boot</text>\n</g>\n<!-- maint192&#45;&gt;lug_boot208 -->\n<g id=\"edge214\" class=\"edge\">\n<title>maint192&#45;&gt;lug_boot208</title>\n<path fill=\"none\" stroke=\"#000000\" d=\"M6992.8727,-268.3321C7028.885,-253.4834 7094.4913,-226.4325 7137.149,-208.8438\"/>\n<polygon fill=\"#000000\" stroke=\"#000000\" points=\"7138.5004,-212.0725 7146.4112,-205.0248 7135.832,-205.601 7138.5004,-212.0725\"/>\n<text text-anchor=\"middle\" x=\"7103\" y=\"-231.8\" font-family=\"Times,serif\" font-size=\"14.00\" fill=\"#000000\">vhigh</text>\n</g>\n<!-- unacc194 -->\n<g id=\"node201\" class=\"node\">\n<title>unacc194</title>\n<ellipse fill=\"none\" stroke=\"#000000\" cx=\"6682\" cy=\"-105\" rx=\"32.4942\" ry=\"18\"/>\n<text text-anchor=\"middle\" x=\"6682\" y=\"-101.3\" font-family=\"Times,serif\" font-size=\"14.00\" fill=\"#000000\">unacc</text>\n</g>\n<!-- lug_boot193&#45;&gt;unacc194 -->\n<g id=\"edge200\" class=\"edge\">\n<title>lug_boot193&#45;&gt;unacc194</title>\n<path fill=\"none\" stroke=\"#000000\" d=\"M6778.4125,-176.8954C6768.5136,-170.6338 6757.0773,-163.1686 6747,-156 6733.9267,-146.7001 6719.869,-135.791 6708.1827,-126.4542\"/>\n<polygon fill=\"#000000\" stroke=\"#000000\" points=\"6710.1244,-123.5241 6700.1403,-119.9789 6705.7345,-128.9765 6710.1244,-123.5241\"/>\n<text text-anchor=\"middle\" x=\"6762.5\" y=\"-144.8\" font-family=\"Times,serif\" font-size=\"14.00\" fill=\"#000000\">small</text>\n</g>\n<!-- doors195 -->\n<g id=\"node202\" class=\"node\">\n<title>doors195</title>\n<ellipse fill=\"none\" stroke=\"#000000\" cx=\"6764\" cy=\"-105\" rx=\"31.6951\" ry=\"18\"/>\n<text text-anchor=\"middle\" x=\"6764\" y=\"-101.3\" font-family=\"Times,serif\" font-size=\"14.00\" fill=\"#000000\">doors</text>\n</g>\n<!-- lug_boot193&#45;&gt;doors195 -->\n<g id=\"edge201\" class=\"edge\">\n<title>lug_boot193&#45;&gt;doors195</title>\n<path fill=\"none\" stroke=\"#000000\" d=\"M6794.9192,-173.9735C6789.4972,-161.8784 6782.2566,-145.7263 6776.1453,-132.0934\"/>\n<polygon fill=\"#000000\" stroke=\"#000000\" points=\"6779.2214,-130.3991 6771.937,-122.7057 6772.8339,-133.2625 6779.2214,-130.3991\"/>\n<text text-anchor=\"middle\" x=\"6798.5\" y=\"-144.8\" font-family=\"Times,serif\" font-size=\"14.00\" fill=\"#000000\">med</text>\n</g>\n<!-- acc199 -->\n<g id=\"node206\" class=\"node\">\n<title>acc199</title>\n<ellipse fill=\"none\" stroke=\"#000000\" cx=\"6841\" cy=\"-105\" rx=\"27\" ry=\"18\"/>\n<text text-anchor=\"middle\" x=\"6841\" y=\"-101.3\" font-family=\"Times,serif\" font-size=\"14.00\" fill=\"#000000\">acc</text>\n</g>\n<!-- lug_boot193&#45;&gt;acc199 -->\n<g id=\"edge205\" class=\"edge\">\n<title>lug_boot193&#45;&gt;acc199</title>\n<path fill=\"none\" stroke=\"#000000\" d=\"M6810.8736,-173.9735C6816.1916,-161.7983 6823.305,-145.5122 6829.2843,-131.8228\"/>\n<polygon fill=\"#000000\" stroke=\"#000000\" points=\"6832.6004,-132.9746 6833.3958,-122.4097 6826.1856,-130.1727 6832.6004,-132.9746\"/>\n<text text-anchor=\"middle\" x=\"6834.5\" y=\"-144.8\" font-family=\"Times,serif\" font-size=\"14.00\" fill=\"#000000\">big</text>\n</g>\n<!-- acc196 -->\n<g id=\"node203\" class=\"node\">\n<title>acc196</title>\n<ellipse fill=\"none\" stroke=\"#000000\" cx=\"6682\" cy=\"-18\" rx=\"27\" ry=\"18\"/>\n<text text-anchor=\"middle\" x=\"6682\" y=\"-14.3\" font-family=\"Times,serif\" font-size=\"14.00\" fill=\"#000000\">acc</text>\n</g>\n<!-- doors195&#45;&gt;acc196 -->\n<g id=\"edge202\" class=\"edge\">\n<title>doors195&#45;&gt;acc196</title>\n<path fill=\"none\" stroke=\"#000000\" d=\"M6744.7907,-90.4337C6737.0581,-84.192 6728.2692,-76.5977 6721,-69 6713.3714,-61.0268 6705.8106,-51.5932 6699.4059,-43.0212\"/>\n<polygon fill=\"#000000\" stroke=\"#000000\" points=\"6702.1471,-40.8399 6693.427,-34.8224 6696.4912,-44.9644 6702.1471,-40.8399\"/>\n<text text-anchor=\"middle\" x=\"6739.5\" y=\"-57.8\" font-family=\"Times,serif\" font-size=\"14.00\" fill=\"#000000\">5more</text>\n</g>\n<!-- unacc197 -->\n<g id=\"node204\" class=\"node\">\n<title>unacc197</title>\n<ellipse fill=\"none\" stroke=\"#000000\" cx=\"6759\" cy=\"-18\" rx=\"32.4942\" ry=\"18\"/>\n<text text-anchor=\"middle\" x=\"6759\" y=\"-14.3\" font-family=\"Times,serif\" font-size=\"14.00\" fill=\"#000000\">unacc</text>\n</g>\n<!-- doors195&#45;&gt;unacc197 -->\n<g id=\"edge203\" class=\"edge\">\n<title>doors195&#45;&gt;unacc197</title>\n<path fill=\"none\" stroke=\"#000000\" d=\"M6762.964,-86.9735C6762.2869,-75.1918 6761.3885,-59.5607 6760.6183,-46.1581\"/>\n<polygon fill=\"#000000\" stroke=\"#000000\" points=\"6764.1028,-45.786 6760.0347,-36.0034 6757.1143,-46.1877 6764.1028,-45.786\"/>\n<text text-anchor=\"middle\" x=\"6766\" y=\"-57.8\" font-family=\"Times,serif\" font-size=\"14.00\" fill=\"#000000\">2</text>\n</g>\n<!-- unacc198 -->\n<g id=\"node205\" class=\"node\">\n<title>unacc198</title>\n<ellipse fill=\"none\" stroke=\"#000000\" cx=\"6842\" cy=\"-18\" rx=\"32.4942\" ry=\"18\"/>\n<text text-anchor=\"middle\" x=\"6842\" y=\"-14.3\" font-family=\"Times,serif\" font-size=\"14.00\" fill=\"#000000\">unacc</text>\n</g>\n<!-- doors195&#45;&gt;unacc198 -->\n<g id=\"edge204\" class=\"edge\">\n<title>doors195&#45;&gt;unacc198</title>\n<path fill=\"none\" stroke=\"#000000\" d=\"M6778.6712,-88.636C6790.4374,-75.5121 6807.1228,-56.9015 6820.4131,-42.0777\"/>\n<polygon fill=\"#000000\" stroke=\"#000000\" points=\"6823.3251,-44.0728 6827.3946,-34.2907 6818.1131,-39.4 6823.3251,-44.0728\"/>\n<text text-anchor=\"middle\" x=\"6812\" y=\"-57.8\" font-family=\"Times,serif\" font-size=\"14.00\" fill=\"#000000\">3</text>\n</g>\n<!-- acc201 -->\n<g id=\"node208\" class=\"node\">\n<title>acc201</title>\n<ellipse fill=\"none\" stroke=\"#000000\" cx=\"6913\" cy=\"-105\" rx=\"27\" ry=\"18\"/>\n<text text-anchor=\"middle\" x=\"6913\" y=\"-101.3\" font-family=\"Times,serif\" font-size=\"14.00\" fill=\"#000000\">acc</text>\n</g>\n<!-- lug_boot200&#45;&gt;acc201 -->\n<g id=\"edge207\" class=\"edge\">\n<title>lug_boot200&#45;&gt;acc201</title>\n<path fill=\"none\" stroke=\"#000000\" d=\"M6954.4719,-174.6343C6950.3815,-168.7891 6945.8927,-162.1813 6942,-156 6937.0065,-148.0707 6931.8567,-139.2539 6927.3079,-131.2116\"/>\n<polygon fill=\"#000000\" stroke=\"#000000\" points=\"6930.2212,-129.2499 6922.2894,-122.2259 6924.1098,-132.6632 6930.2212,-129.2499\"/>\n<text text-anchor=\"middle\" x=\"6957.5\" y=\"-144.8\" font-family=\"Times,serif\" font-size=\"14.00\" fill=\"#000000\">small</text>\n</g>\n<!-- good202 -->\n<g id=\"node209\" class=\"node\">\n<title>good202</title>\n<ellipse fill=\"none\" stroke=\"#000000\" cx=\"6989\" cy=\"-105\" rx=\"30.5947\" ry=\"18\"/>\n<text text-anchor=\"middle\" x=\"6989\" y=\"-101.3\" font-family=\"Times,serif\" font-size=\"14.00\" fill=\"#000000\">good</text>\n</g>\n<!-- lug_boot200&#45;&gt;good202 -->\n<g id=\"edge208\" class=\"edge\">\n<title>lug_boot200&#45;&gt;good202</title>\n<path fill=\"none\" stroke=\"#000000\" d=\"M6971.5584,-173.9735C6974.5672,-162.0751 6978.5688,-146.2508 6981.9801,-132.7606\"/>\n<polygon fill=\"#000000\" stroke=\"#000000\" points=\"6985.389,-133.5563 6984.4474,-123.0034 6978.6026,-131.8401 6985.389,-133.5563\"/>\n<text text-anchor=\"middle\" x=\"6989.5\" y=\"-144.8\" font-family=\"Times,serif\" font-size=\"14.00\" fill=\"#000000\">big</text>\n</g>\n<!-- doors203 -->\n<g id=\"node210\" class=\"node\">\n<title>doors203</title>\n<ellipse fill=\"none\" stroke=\"#000000\" cx=\"7069\" cy=\"-105\" rx=\"31.6951\" ry=\"18\"/>\n<text text-anchor=\"middle\" x=\"7069\" y=\"-101.3\" font-family=\"Times,serif\" font-size=\"14.00\" fill=\"#000000\">doors</text>\n</g>\n<!-- lug_boot200&#45;&gt;doors203 -->\n<g id=\"edge209\" class=\"edge\">\n<title>lug_boot200&#45;&gt;doors203</title>\n<path fill=\"none\" stroke=\"#000000\" d=\"M6986.1854,-175.636C7002.3998,-161.8061 7025.7576,-141.8833 7043.5357,-126.7195\"/>\n<polygon fill=\"#000000\" stroke=\"#000000\" points=\"7045.9287,-129.2787 7051.2657,-120.1263 7041.386,-123.9529 7045.9287,-129.2787\"/>\n<text text-anchor=\"middle\" x=\"7037.5\" y=\"-144.8\" font-family=\"Times,serif\" font-size=\"14.00\" fill=\"#000000\">med</text>\n</g>\n<!-- good204 -->\n<g id=\"node211\" class=\"node\">\n<title>good204</title>\n<ellipse fill=\"none\" stroke=\"#000000\" cx=\"6923\" cy=\"-18\" rx=\"30.5947\" ry=\"18\"/>\n<text text-anchor=\"middle\" x=\"6923\" y=\"-14.3\" font-family=\"Times,serif\" font-size=\"14.00\" fill=\"#000000\">good</text>\n</g>\n<!-- doors203&#45;&gt;good204 -->\n<g id=\"edge210\" class=\"edge\">\n<title>doors203&#45;&gt;good204</title>\n<path fill=\"none\" stroke=\"#000000\" d=\"M7046.8257,-91.7866C7022.028,-77.0098 6981.6964,-52.9766 6953.8348,-36.3742\"/>\n<polygon fill=\"#000000\" stroke=\"#000000\" points=\"6955.2867,-33.1651 6944.9046,-31.0527 6951.7034,-39.1784 6955.2867,-33.1651\"/>\n<text text-anchor=\"middle\" x=\"7009\" y=\"-57.8\" font-family=\"Times,serif\" font-size=\"14.00\" fill=\"#000000\">4</text>\n</g>\n<!-- good205 -->\n<g id=\"node212\" class=\"node\">\n<title>good205</title>\n<ellipse fill=\"none\" stroke=\"#000000\" cx=\"7002\" cy=\"-18\" rx=\"30.5947\" ry=\"18\"/>\n<text text-anchor=\"middle\" x=\"7002\" y=\"-14.3\" font-family=\"Times,serif\" font-size=\"14.00\" fill=\"#000000\">good</text>\n</g>\n<!-- doors203&#45;&gt;good205 -->\n<g id=\"edge211\" class=\"edge\">\n<title>doors203&#45;&gt;good205</title>\n<path fill=\"none\" stroke=\"#000000\" d=\"M7051.444,-89.7517C7044.94,-83.6487 7037.7546,-76.3324 7032,-69 7026.0098,-61.3673 7020.3559,-52.4243 7015.6057,-44.1768\"/>\n<polygon fill=\"#000000\" stroke=\"#000000\" points=\"7018.5724,-42.3099 7010.6567,-35.2678 7012.4532,-45.7092 7018.5724,-42.3099\"/>\n<text text-anchor=\"middle\" x=\"7050.5\" y=\"-57.8\" font-family=\"Times,serif\" font-size=\"14.00\" fill=\"#000000\">5more</text>\n</g>\n<!-- acc206 -->\n<g id=\"node213\" class=\"node\">\n<title>acc206</title>\n<ellipse fill=\"none\" stroke=\"#000000\" cx=\"7078\" cy=\"-18\" rx=\"27\" ry=\"18\"/>\n<text text-anchor=\"middle\" x=\"7078\" y=\"-14.3\" font-family=\"Times,serif\" font-size=\"14.00\" fill=\"#000000\">acc</text>\n</g>\n<!-- doors203&#45;&gt;acc206 -->\n<g id=\"edge212\" class=\"edge\">\n<title>doors203&#45;&gt;acc206</title>\n<path fill=\"none\" stroke=\"#000000\" d=\"M7070.8648,-86.9735C7072.0836,-75.1918 7073.7006,-59.5607 7075.0871,-46.1581\"/>\n<polygon fill=\"#000000\" stroke=\"#000000\" points=\"7078.5899,-46.3105 7076.1376,-36.0034 7071.6271,-45.5901 7078.5899,-46.3105\"/>\n<text text-anchor=\"middle\" x=\"7079\" y=\"-57.8\" font-family=\"Times,serif\" font-size=\"14.00\" fill=\"#000000\">2</text>\n</g>\n<!-- doors209 -->\n<g id=\"node216\" class=\"node\">\n<title>doors209</title>\n<ellipse fill=\"none\" stroke=\"#000000\" cx=\"7155\" cy=\"-105\" rx=\"31.6951\" ry=\"18\"/>\n<text text-anchor=\"middle\" x=\"7155\" y=\"-101.3\" font-family=\"Times,serif\" font-size=\"14.00\" fill=\"#000000\">doors</text>\n</g>\n<!-- lug_boot208&#45;&gt;doors209 -->\n<g id=\"edge215\" class=\"edge\">\n<title>lug_boot208&#45;&gt;doors209</title>\n<path fill=\"none\" stroke=\"#000000\" d=\"M7173.2344,-173.9735C7170.0888,-162.0751 7165.9054,-146.2508 7162.339,-132.7606\"/>\n<polygon fill=\"#000000\" stroke=\"#000000\" points=\"7165.6992,-131.7766 7159.7595,-123.0034 7158.9317,-133.5658 7165.6992,-131.7766\"/>\n<text text-anchor=\"middle\" x=\"7180.5\" y=\"-144.8\" font-family=\"Times,serif\" font-size=\"14.00\" fill=\"#000000\">med</text>\n</g>\n<!-- acc213 -->\n<g id=\"node220\" class=\"node\">\n<title>acc213</title>\n<ellipse fill=\"none\" stroke=\"#000000\" cx=\"7232\" cy=\"-105\" rx=\"27\" ry=\"18\"/>\n<text text-anchor=\"middle\" x=\"7232\" y=\"-101.3\" font-family=\"Times,serif\" font-size=\"14.00\" fill=\"#000000\">acc</text>\n</g>\n<!-- lug_boot208&#45;&gt;acc213 -->\n<g id=\"edge219\" class=\"edge\">\n<title>lug_boot208&#45;&gt;acc213</title>\n<path fill=\"none\" stroke=\"#000000\" d=\"M7188.9277,-174.3943C7196.7647,-161.768 7207.4421,-144.5655 7216.2052,-130.4473\"/>\n<polygon fill=\"#000000\" stroke=\"#000000\" points=\"7219.3383,-132.0362 7221.6382,-121.694 7213.3908,-128.3447 7219.3383,-132.0362\"/>\n<text text-anchor=\"middle\" x=\"7218.5\" y=\"-144.8\" font-family=\"Times,serif\" font-size=\"14.00\" fill=\"#000000\">big</text>\n</g>\n<!-- unacc214 -->\n<g id=\"node221\" class=\"node\">\n<title>unacc214</title>\n<ellipse fill=\"none\" stroke=\"#000000\" cx=\"7309\" cy=\"-105\" rx=\"32.4942\" ry=\"18\"/>\n<text text-anchor=\"middle\" x=\"7309\" y=\"-101.3\" font-family=\"Times,serif\" font-size=\"14.00\" fill=\"#000000\">unacc</text>\n</g>\n<!-- lug_boot208&#45;&gt;unacc214 -->\n<g id=\"edge220\" class=\"edge\">\n<title>lug_boot208&#45;&gt;unacc214</title>\n<path fill=\"none\" stroke=\"#000000\" d=\"M7201.4202,-176.4461C7223.2161,-161.971 7255.7927,-140.3362 7279.3849,-124.668\"/>\n<polygon fill=\"#000000\" stroke=\"#000000\" points=\"7281.5518,-127.4305 7287.9458,-118.9826 7277.6792,-121.5993 7281.5518,-127.4305\"/>\n<text text-anchor=\"middle\" x=\"7267.5\" y=\"-144.8\" font-family=\"Times,serif\" font-size=\"14.00\" fill=\"#000000\">small</text>\n</g>\n<!-- unacc210 -->\n<g id=\"node217\" class=\"node\">\n<title>unacc210</title>\n<ellipse fill=\"none\" stroke=\"#000000\" cx=\"7155\" cy=\"-18\" rx=\"32.4942\" ry=\"18\"/>\n<text text-anchor=\"middle\" x=\"7155\" y=\"-14.3\" font-family=\"Times,serif\" font-size=\"14.00\" fill=\"#000000\">unacc</text>\n</g>\n<!-- doors209&#45;&gt;unacc210 -->\n<g id=\"edge216\" class=\"edge\">\n<title>doors209&#45;&gt;unacc210</title>\n<path fill=\"none\" stroke=\"#000000\" d=\"M7155,-86.9735C7155,-75.1918 7155,-59.5607 7155,-46.1581\"/>\n<polygon fill=\"#000000\" stroke=\"#000000\" points=\"7158.5001,-46.0033 7155,-36.0034 7151.5001,-46.0034 7158.5001,-46.0033\"/>\n<text text-anchor=\"middle\" x=\"7159\" y=\"-57.8\" font-family=\"Times,serif\" font-size=\"14.00\" fill=\"#000000\">2</text>\n</g>\n<!-- acc211 -->\n<g id=\"node218\" class=\"node\">\n<title>acc211</title>\n<ellipse fill=\"none\" stroke=\"#000000\" cx=\"7232\" cy=\"-18\" rx=\"27\" ry=\"18\"/>\n<text text-anchor=\"middle\" x=\"7232\" y=\"-14.3\" font-family=\"Times,serif\" font-size=\"14.00\" fill=\"#000000\">acc</text>\n</g>\n<!-- doors209&#45;&gt;acc211 -->\n<g id=\"edge217\" class=\"edge\">\n<title>doors209&#45;&gt;acc211</title>\n<path fill=\"none\" stroke=\"#000000\" d=\"M7169.4831,-88.636C7181.2455,-75.346 7197.9877,-56.4295 7211.1865,-41.5166\"/>\n<polygon fill=\"#000000\" stroke=\"#000000\" points=\"7214.0938,-43.5127 7218.1005,-33.7047 7208.8519,-38.8733 7214.0938,-43.5127\"/>\n<text text-anchor=\"middle\" x=\"7203\" y=\"-57.8\" font-family=\"Times,serif\" font-size=\"14.00\" fill=\"#000000\">4</text>\n</g>\n<!-- acc212 -->\n<g id=\"node219\" class=\"node\">\n<title>acc212</title>\n<ellipse fill=\"none\" stroke=\"#000000\" cx=\"7304\" cy=\"-18\" rx=\"27\" ry=\"18\"/>\n<text text-anchor=\"middle\" x=\"7304\" y=\"-14.3\" font-family=\"Times,serif\" font-size=\"14.00\" fill=\"#000000\">acc</text>\n</g>\n<!-- doors209&#45;&gt;acc212 -->\n<g id=\"edge218\" class=\"edge\">\n<title>doors209&#45;&gt;acc212</title>\n<path fill=\"none\" stroke=\"#000000\" d=\"M7177.3068,-91.9752C7203.2393,-76.8335 7246.1272,-51.7915 7274.7203,-35.0962\"/>\n<polygon fill=\"#000000\" stroke=\"#000000\" points=\"7276.5909,-38.057 7283.4618,-29.9921 7273.0613,-32.012 7276.5909,-38.057\"/>\n<text text-anchor=\"middle\" x=\"7257.5\" y=\"-57.8\" font-family=\"Times,serif\" font-size=\"14.00\" fill=\"#000000\">5more</text>\n</g>\n<!-- buying217 -->\n<g id=\"node224\" class=\"node\">\n<title>buying217</title>\n<ellipse fill=\"none\" stroke=\"#000000\" cx=\"8108\" cy=\"-279\" rx=\"37.8943\" ry=\"18\"/>\n<text text-anchor=\"middle\" x=\"8108\" y=\"-275.3\" font-family=\"Times,serif\" font-size=\"14.00\" fill=\"#000000\">buying</text>\n</g>\n<!-- lug_boot216&#45;&gt;buying217 -->\n<g id=\"edge223\" class=\"edge\">\n<title>lug_boot216&#45;&gt;buying217</title>\n<path fill=\"none\" stroke=\"#000000\" d=\"M8410.8756,-356.2732C8346.9012,-339.9513 8218.3618,-307.1568 8151.1636,-290.0124\"/>\n<polygon fill=\"#000000\" stroke=\"#000000\" points=\"8151.8717,-286.581 8141.3168,-287.5002 8150.1411,-293.3637 8151.8717,-286.581\"/>\n<text text-anchor=\"middle\" x=\"8308.5\" y=\"-318.8\" font-family=\"Times,serif\" font-size=\"14.00\" fill=\"#000000\">big</text>\n</g>\n<!-- buying238 -->\n<g id=\"node245\" class=\"node\">\n<title>buying238</title>\n<ellipse fill=\"none\" stroke=\"#000000\" cx=\"8716\" cy=\"-279\" rx=\"37.8943\" ry=\"18\"/>\n<text text-anchor=\"middle\" x=\"8716\" y=\"-275.3\" font-family=\"Times,serif\" font-size=\"14.00\" fill=\"#000000\">buying</text>\n</g>\n<!-- lug_boot216&#45;&gt;buying238 -->\n<g id=\"edge244\" class=\"edge\">\n<title>lug_boot216&#45;&gt;buying238</title>\n<path fill=\"none\" stroke=\"#000000\" d=\"M8483.9056,-354.6263C8533.1729,-338.5729 8622.9172,-309.3304 8675.1995,-292.2945\"/>\n<polygon fill=\"#000000\" stroke=\"#000000\" points=\"8676.3969,-295.5856 8684.8205,-289.1596 8674.2281,-288.93 8676.3969,-295.5856\"/>\n<text text-anchor=\"middle\" x=\"8614.5\" y=\"-318.8\" font-family=\"Times,serif\" font-size=\"14.00\" fill=\"#000000\">small</text>\n</g>\n<!-- maint261 -->\n<g id=\"node268\" class=\"node\">\n<title>maint261</title>\n<ellipse fill=\"none\" stroke=\"#000000\" cx=\"10161\" cy=\"-279\" rx=\"31.6951\" ry=\"18\"/>\n<text text-anchor=\"middle\" x=\"10161\" y=\"-275.3\" font-family=\"Times,serif\" font-size=\"14.00\" fill=\"#000000\">maint</text>\n</g>\n<!-- lug_boot216&#45;&gt;maint261 -->\n<g id=\"edge267\" class=\"edge\">\n<title>lug_boot216&#45;&gt;maint261</title>\n<path fill=\"none\" stroke=\"#000000\" d=\"M8493.9119,-363.7177C8736.0395,-351.4133 9883.5896,-293.0974 10118.8093,-281.144\"/>\n<polygon fill=\"#000000\" stroke=\"#000000\" points=\"10119.1922,-284.6292 10129.0017,-280.6261 10118.8369,-277.6382 10119.1922,-284.6292\"/>\n<text text-anchor=\"middle\" x=\"9420.5\" y=\"-318.8\" font-family=\"Times,serif\" font-size=\"14.00\" fill=\"#000000\">med</text>\n</g>\n<!-- maint218 -->\n<g id=\"node225\" class=\"node\">\n<title>maint218</title>\n<ellipse fill=\"none\" stroke=\"#000000\" cx=\"7535\" cy=\"-192\" rx=\"31.6951\" ry=\"18\"/>\n<text text-anchor=\"middle\" x=\"7535\" y=\"-188.3\" font-family=\"Times,serif\" font-size=\"14.00\" fill=\"#000000\">maint</text>\n</g>\n<!-- buying217&#45;&gt;maint218 -->\n<g id=\"edge224\" class=\"edge\">\n<title>buying217&#45;&gt;maint218</title>\n<path fill=\"none\" stroke=\"#000000\" d=\"M8071.7216,-273.4918C7970.0606,-258.0563 7682.8695,-214.4514 7575.8583,-198.2036\"/>\n<polygon fill=\"#000000\" stroke=\"#000000\" points=\"7576.1929,-194.7144 7565.7808,-196.6735 7575.1421,-201.6351 7576.1929,-194.7144\"/>\n<text text-anchor=\"middle\" x=\"7869.5\" y=\"-231.8\" font-family=\"Times,serif\" font-size=\"14.00\" fill=\"#000000\">high</text>\n</g>\n<!-- maint223 -->\n<g id=\"node230\" class=\"node\">\n<title>maint223</title>\n<ellipse fill=\"none\" stroke=\"#000000\" cx=\"7843\" cy=\"-192\" rx=\"31.6951\" ry=\"18\"/>\n<text text-anchor=\"middle\" x=\"7843\" y=\"-188.3\" font-family=\"Times,serif\" font-size=\"14.00\" fill=\"#000000\">maint</text>\n</g>\n<!-- buying217&#45;&gt;maint223 -->\n<g id=\"edge229\" class=\"edge\">\n<title>buying217&#45;&gt;maint223</title>\n<path fill=\"none\" stroke=\"#000000\" d=\"M8076.8219,-268.7642C8027.8505,-252.6868 7933.076,-221.5721 7880.4722,-204.3022\"/>\n<polygon fill=\"#000000\" stroke=\"#000000\" points=\"7881.4433,-200.9373 7870.8505,-201.1434 7879.2598,-207.588 7881.4433,-200.9373\"/>\n<text text-anchor=\"middle\" x=\"8009\" y=\"-231.8\" font-family=\"Times,serif\" font-size=\"14.00\" fill=\"#000000\">vhigh</text>\n</g>\n<!-- maint228 -->\n<g id=\"node235\" class=\"node\">\n<title>maint228</title>\n<ellipse fill=\"none\" stroke=\"#000000\" cx=\"8108\" cy=\"-192\" rx=\"31.6951\" ry=\"18\"/>\n<text text-anchor=\"middle\" x=\"8108\" y=\"-188.3\" font-family=\"Times,serif\" font-size=\"14.00\" fill=\"#000000\">maint</text>\n</g>\n<!-- buying217&#45;&gt;maint228 -->\n<g id=\"edge234\" class=\"edge\">\n<title>buying217&#45;&gt;maint228</title>\n<path fill=\"none\" stroke=\"#000000\" d=\"M8108,-260.9735C8108,-249.1918 8108,-233.5607 8108,-220.1581\"/>\n<polygon fill=\"#000000\" stroke=\"#000000\" points=\"8111.5001,-220.0033 8108,-210.0034 8104.5001,-220.0034 8111.5001,-220.0033\"/>\n<text text-anchor=\"middle\" x=\"8120.5\" y=\"-231.8\" font-family=\"Times,serif\" font-size=\"14.00\" fill=\"#000000\">med</text>\n</g>\n<!-- maint233 -->\n<g id=\"node240\" class=\"node\">\n<title>maint233</title>\n<ellipse fill=\"none\" stroke=\"#000000\" cx=\"8360\" cy=\"-192\" rx=\"31.6951\" ry=\"18\"/>\n<text text-anchor=\"middle\" x=\"8360\" y=\"-188.3\" font-family=\"Times,serif\" font-size=\"14.00\" fill=\"#000000\">maint</text>\n</g>\n<!-- buying217&#45;&gt;maint233 -->\n<g id=\"edge239\" class=\"edge\">\n<title>buying217&#45;&gt;maint233</title>\n<path fill=\"none\" stroke=\"#000000\" d=\"M8138.9001,-268.3321C8185.378,-252.2862 8273.13,-221.9908 8322.9675,-204.785\"/>\n<polygon fill=\"#000000\" stroke=\"#000000\" points=\"8324.3918,-207.9961 8332.7021,-201.4243 8322.1074,-201.3793 8324.3918,-207.9961\"/>\n<text text-anchor=\"middle\" x=\"8261\" y=\"-231.8\" font-family=\"Times,serif\" font-size=\"14.00\" fill=\"#000000\">low</text>\n</g>\n<!-- acc219 -->\n<g id=\"node226\" class=\"node\">\n<title>acc219</title>\n<ellipse fill=\"none\" stroke=\"#000000\" cx=\"7386\" cy=\"-105\" rx=\"27\" ry=\"18\"/>\n<text text-anchor=\"middle\" x=\"7386\" y=\"-101.3\" font-family=\"Times,serif\" font-size=\"14.00\" fill=\"#000000\">acc</text>\n</g>\n<!-- maint218&#45;&gt;acc219 -->\n<g id=\"edge225\" class=\"edge\">\n<title>maint218&#45;&gt;acc219</title>\n<path fill=\"none\" stroke=\"#000000\" d=\"M7510.7735,-180.0083C7497.4151,-173.2349 7480.6215,-164.4537 7466,-156 7448.2393,-145.7313 7428.8234,-133.3821 7413.5674,-123.4076\"/>\n<polygon fill=\"#000000\" stroke=\"#000000\" points=\"7415.3873,-120.4154 7405.1095,-117.8429 7411.5398,-126.2633 7415.3873,-120.4154\"/>\n<text text-anchor=\"middle\" x=\"7477\" y=\"-144.8\" font-family=\"Times,serif\" font-size=\"14.00\" fill=\"#000000\">low</text>\n</g>\n<!-- acc220 -->\n<g id=\"node227\" class=\"node\">\n<title>acc220</title>\n<ellipse fill=\"none\" stroke=\"#000000\" cx=\"7458\" cy=\"-105\" rx=\"27\" ry=\"18\"/>\n<text text-anchor=\"middle\" x=\"7458\" y=\"-101.3\" font-family=\"Times,serif\" font-size=\"14.00\" fill=\"#000000\">acc</text>\n</g>\n<!-- maint218&#45;&gt;acc220 -->\n<g id=\"edge226\" class=\"edge\">\n<title>maint218&#45;&gt;acc220</title>\n<path fill=\"none\" stroke=\"#000000\" d=\"M7520.5169,-175.636C7508.7545,-162.346 7492.0123,-143.4295 7478.8135,-128.5166\"/>\n<polygon fill=\"#000000\" stroke=\"#000000\" points=\"7481.1481,-125.8733 7471.8995,-120.7047 7475.9062,-130.5127 7481.1481,-125.8733\"/>\n<text text-anchor=\"middle\" x=\"7515.5\" y=\"-144.8\" font-family=\"Times,serif\" font-size=\"14.00\" fill=\"#000000\">high</text>\n</g>\n<!-- unacc221 -->\n<g id=\"node228\" class=\"node\">\n<title>unacc221</title>\n<ellipse fill=\"none\" stroke=\"#000000\" cx=\"7535\" cy=\"-105\" rx=\"32.4942\" ry=\"18\"/>\n<text text-anchor=\"middle\" x=\"7535\" y=\"-101.3\" font-family=\"Times,serif\" font-size=\"14.00\" fill=\"#000000\">unacc</text>\n</g>\n<!-- maint218&#45;&gt;unacc221 -->\n<g id=\"edge227\" class=\"edge\">\n<title>maint218&#45;&gt;unacc221</title>\n<path fill=\"none\" stroke=\"#000000\" d=\"M7535,-173.9735C7535,-162.1918 7535,-146.5607 7535,-133.1581\"/>\n<polygon fill=\"#000000\" stroke=\"#000000\" points=\"7538.5001,-133.0033 7535,-123.0034 7531.5001,-133.0034 7538.5001,-133.0033\"/>\n<text text-anchor=\"middle\" x=\"7552\" y=\"-144.8\" font-family=\"Times,serif\" font-size=\"14.00\" fill=\"#000000\">vhigh</text>\n</g>\n<!-- acc222 -->\n<g id=\"node229\" class=\"node\">\n<title>acc222</title>\n<ellipse fill=\"none\" stroke=\"#000000\" cx=\"7612\" cy=\"-105\" rx=\"27\" ry=\"18\"/>\n<text text-anchor=\"middle\" x=\"7612\" y=\"-101.3\" font-family=\"Times,serif\" font-size=\"14.00\" fill=\"#000000\">acc</text>\n</g>\n<!-- maint218&#45;&gt;acc222 -->\n<g id=\"edge228\" class=\"edge\">\n<title>maint218&#45;&gt;acc222</title>\n<path fill=\"none\" stroke=\"#000000\" d=\"M7552.2143,-176.781C7558.9348,-170.5642 7566.5572,-163.1613 7573,-156 7580.3804,-147.7965 7587.8851,-138.3108 7594.3141,-129.7614\"/>\n<polygon fill=\"#000000\" stroke=\"#000000\" points=\"7597.2121,-131.7289 7600.3401,-121.6063 7591.5823,-127.5688 7597.2121,-131.7289\"/>\n<text text-anchor=\"middle\" x=\"7598.5\" y=\"-144.8\" font-family=\"Times,serif\" font-size=\"14.00\" fill=\"#000000\">med</text>\n</g>\n<!-- unacc224 -->\n<g id=\"node231\" class=\"node\">\n<title>unacc224</title>\n<ellipse fill=\"none\" stroke=\"#000000\" cx=\"7689\" cy=\"-105\" rx=\"32.4942\" ry=\"18\"/>\n<text text-anchor=\"middle\" x=\"7689\" y=\"-101.3\" font-family=\"Times,serif\" font-size=\"14.00\" fill=\"#000000\">unacc</text>\n</g>\n<!-- maint223&#45;&gt;unacc224 -->\n<g id=\"edge230\" class=\"edge\">\n<title>maint223&#45;&gt;unacc224</title>\n<path fill=\"none\" stroke=\"#000000\" d=\"M7816.4794,-181.7223C7800.3532,-175.1064 7779.5543,-165.9119 7762,-156 7746.208,-147.0832 7729.5609,-135.6298 7716.1581,-125.8367\"/>\n<polygon fill=\"#000000\" stroke=\"#000000\" points=\"7717.9781,-122.829 7707.8607,-119.6844 7713.8088,-128.452 7717.9781,-122.829\"/>\n<text text-anchor=\"middle\" x=\"7779\" y=\"-144.8\" font-family=\"Times,serif\" font-size=\"14.00\" fill=\"#000000\">vhigh</text>\n</g>\n<!-- acc225 -->\n<g id=\"node232\" class=\"node\">\n<title>acc225</title>\n<ellipse fill=\"none\" stroke=\"#000000\" cx=\"7766\" cy=\"-105\" rx=\"27\" ry=\"18\"/>\n<text text-anchor=\"middle\" x=\"7766\" y=\"-101.3\" font-family=\"Times,serif\" font-size=\"14.00\" fill=\"#000000\">acc</text>\n</g>\n<!-- maint223&#45;&gt;acc225 -->\n<g id=\"edge231\" class=\"edge\">\n<title>maint223&#45;&gt;acc225</title>\n<path fill=\"none\" stroke=\"#000000\" d=\"M7828.5169,-175.636C7816.7545,-162.346 7800.0123,-143.4295 7786.8135,-128.5166\"/>\n<polygon fill=\"#000000\" stroke=\"#000000\" points=\"7789.1481,-125.8733 7779.8995,-120.7047 7783.9062,-130.5127 7789.1481,-125.8733\"/>\n<text text-anchor=\"middle\" x=\"7822.5\" y=\"-144.8\" font-family=\"Times,serif\" font-size=\"14.00\" fill=\"#000000\">med</text>\n</g>\n<!-- unacc226 -->\n<g id=\"node233\" class=\"node\">\n<title>unacc226</title>\n<ellipse fill=\"none\" stroke=\"#000000\" cx=\"7843\" cy=\"-105\" rx=\"32.4942\" ry=\"18\"/>\n<text text-anchor=\"middle\" x=\"7843\" y=\"-101.3\" font-family=\"Times,serif\" font-size=\"14.00\" fill=\"#000000\">unacc</text>\n</g>\n<!-- maint223&#45;&gt;unacc226 -->\n<g id=\"edge232\" class=\"edge\">\n<title>maint223&#45;&gt;unacc226</title>\n<path fill=\"none\" stroke=\"#000000\" d=\"M7843,-173.9735C7843,-162.1918 7843,-146.5607 7843,-133.1581\"/>\n<polygon fill=\"#000000\" stroke=\"#000000\" points=\"7846.5001,-133.0033 7843,-123.0034 7839.5001,-133.0034 7846.5001,-133.0033\"/>\n<text text-anchor=\"middle\" x=\"7856.5\" y=\"-144.8\" font-family=\"Times,serif\" font-size=\"14.00\" fill=\"#000000\">high</text>\n</g>\n<!-- acc227 -->\n<g id=\"node234\" class=\"node\">\n<title>acc227</title>\n<ellipse fill=\"none\" stroke=\"#000000\" cx=\"7920\" cy=\"-105\" rx=\"27\" ry=\"18\"/>\n<text text-anchor=\"middle\" x=\"7920\" y=\"-101.3\" font-family=\"Times,serif\" font-size=\"14.00\" fill=\"#000000\">acc</text>\n</g>\n<!-- maint223&#45;&gt;acc227 -->\n<g id=\"edge233\" class=\"edge\">\n<title>maint223&#45;&gt;acc227</title>\n<path fill=\"none\" stroke=\"#000000\" d=\"M7857.4831,-175.636C7869.2455,-162.346 7885.9877,-143.4295 7899.1865,-128.5166\"/>\n<polygon fill=\"#000000\" stroke=\"#000000\" points=\"7902.0938,-130.5127 7906.1005,-120.7047 7896.8519,-125.8733 7902.0938,-130.5127\"/>\n<text text-anchor=\"middle\" x=\"7898\" y=\"-144.8\" font-family=\"Times,serif\" font-size=\"14.00\" fill=\"#000000\">low</text>\n</g>\n<!-- good229 -->\n<g id=\"node236\" class=\"node\">\n<title>good229</title>\n<ellipse fill=\"none\" stroke=\"#000000\" cx=\"7996\" cy=\"-105\" rx=\"30.5947\" ry=\"18\"/>\n<text text-anchor=\"middle\" x=\"7996\" y=\"-101.3\" font-family=\"Times,serif\" font-size=\"14.00\" fill=\"#000000\">good</text>\n</g>\n<!-- maint228&#45;&gt;good229 -->\n<g id=\"edge235\" class=\"edge\">\n<title>maint228&#45;&gt;good229</title>\n<path fill=\"none\" stroke=\"#000000\" d=\"M8089.2537,-177.4382C8071.0827,-163.3232 8043.3344,-141.7687 8022.8273,-125.8391\"/>\n<polygon fill=\"#000000\" stroke=\"#000000\" points=\"8024.8519,-122.9798 8014.8074,-119.6094 8020.5577,-128.508 8024.8519,-122.9798\"/>\n<text text-anchor=\"middle\" x=\"8070\" y=\"-144.8\" font-family=\"Times,serif\" font-size=\"14.00\" fill=\"#000000\">low</text>\n</g>\n<!-- acc230 -->\n<g id=\"node237\" class=\"node\">\n<title>acc230</title>\n<ellipse fill=\"none\" stroke=\"#000000\" cx=\"8072\" cy=\"-105\" rx=\"27\" ry=\"18\"/>\n<text text-anchor=\"middle\" x=\"8072\" y=\"-101.3\" font-family=\"Times,serif\" font-size=\"14.00\" fill=\"#000000\">acc</text>\n</g>\n<!-- maint228&#45;&gt;acc230 -->\n<g id=\"edge236\" class=\"edge\">\n<title>maint228&#45;&gt;acc230</title>\n<path fill=\"none\" stroke=\"#000000\" d=\"M8100.7149,-174.3943C8095.6889,-162.2482 8088.9107,-145.8674 8083.2018,-132.0711\"/>\n<polygon fill=\"#000000\" stroke=\"#000000\" points=\"8086.3319,-130.4815 8079.2743,-122.5796 8079.8638,-133.158 8086.3319,-130.4815\"/>\n<text text-anchor=\"middle\" x=\"8105.5\" y=\"-144.8\" font-family=\"Times,serif\" font-size=\"14.00\" fill=\"#000000\">med</text>\n</g>\n<!-- acc231 -->\n<g id=\"node238\" class=\"node\">\n<title>acc231</title>\n<ellipse fill=\"none\" stroke=\"#000000\" cx=\"8144\" cy=\"-105\" rx=\"27\" ry=\"18\"/>\n<text text-anchor=\"middle\" x=\"8144\" y=\"-101.3\" font-family=\"Times,serif\" font-size=\"14.00\" fill=\"#000000\">acc</text>\n</g>\n<!-- maint228&#45;&gt;acc231 -->\n<g id=\"edge237\" class=\"edge\">\n<title>maint228&#45;&gt;acc231</title>\n<path fill=\"none\" stroke=\"#000000\" d=\"M8115.2851,-174.3943C8120.3111,-162.2482 8127.0893,-145.8674 8132.7982,-132.0711\"/>\n<polygon fill=\"#000000\" stroke=\"#000000\" points=\"8136.1362,-133.158 8136.7257,-122.5796 8129.6681,-130.4815 8136.1362,-133.158\"/>\n<text text-anchor=\"middle\" x=\"8146\" y=\"-144.8\" font-family=\"Times,serif\" font-size=\"14.00\" fill=\"#000000\">vhigh</text>\n</g>\n<!-- acc232 -->\n<g id=\"node239\" class=\"node\">\n<title>acc232</title>\n<ellipse fill=\"none\" stroke=\"#000000\" cx=\"8216\" cy=\"-105\" rx=\"27\" ry=\"18\"/>\n<text text-anchor=\"middle\" x=\"8216\" y=\"-101.3\" font-family=\"Times,serif\" font-size=\"14.00\" fill=\"#000000\">acc</text>\n</g>\n<!-- maint228&#45;&gt;acc232 -->\n<g id=\"edge238\" class=\"edge\">\n<title>maint228&#45;&gt;acc232</title>\n<path fill=\"none\" stroke=\"#000000\" d=\"M8131.326,-179.624C8142.5625,-173.2074 8155.9603,-164.866 8167,-156 8177.2182,-147.7937 8187.4336,-137.565 8195.8722,-128.4267\"/>\n<polygon fill=\"#000000\" stroke=\"#000000\" points=\"8198.6914,-130.5266 8202.7861,-120.755 8193.4914,-125.8403 8198.6914,-130.5266\"/>\n<text text-anchor=\"middle\" x=\"8196.5\" y=\"-144.8\" font-family=\"Times,serif\" font-size=\"14.00\" fill=\"#000000\">high</text>\n</g>\n<!-- acc234 -->\n<g id=\"node241\" class=\"node\">\n<title>acc234</title>\n<ellipse fill=\"none\" stroke=\"#000000\" cx=\"8288\" cy=\"-105\" rx=\"27\" ry=\"18\"/>\n<text text-anchor=\"middle\" x=\"8288\" y=\"-101.3\" font-family=\"Times,serif\" font-size=\"14.00\" fill=\"#000000\">acc</text>\n</g>\n<!-- maint233&#45;&gt;acc234 -->\n<g id=\"edge240\" class=\"edge\">\n<title>maint233&#45;&gt;acc234</title>\n<path fill=\"none\" stroke=\"#000000\" d=\"M8342.1599,-176.6406C8335.5035,-170.5239 8328.0901,-163.2274 8322,-156 8315.4536,-148.2312 8309.0614,-139.164 8303.6187,-130.8473\"/>\n<polygon fill=\"#000000\" stroke=\"#000000\" points=\"8306.4458,-128.7706 8298.1232,-122.2143 8300.5407,-132.5297 8306.4458,-128.7706\"/>\n<text text-anchor=\"middle\" x=\"8339\" y=\"-144.8\" font-family=\"Times,serif\" font-size=\"14.00\" fill=\"#000000\">vhigh</text>\n</g>\n<!-- acc235 -->\n<g id=\"node242\" class=\"node\">\n<title>acc235</title>\n<ellipse fill=\"none\" stroke=\"#000000\" cx=\"8360\" cy=\"-105\" rx=\"27\" ry=\"18\"/>\n<text text-anchor=\"middle\" x=\"8360\" y=\"-101.3\" font-family=\"Times,serif\" font-size=\"14.00\" fill=\"#000000\">acc</text>\n</g>\n<!-- maint233&#45;&gt;acc235 -->\n<g id=\"edge241\" class=\"edge\">\n<title>maint233&#45;&gt;acc235</title>\n<path fill=\"none\" stroke=\"#000000\" d=\"M8360,-173.9735C8360,-162.1918 8360,-146.5607 8360,-133.1581\"/>\n<polygon fill=\"#000000\" stroke=\"#000000\" points=\"8363.5001,-133.0033 8360,-123.0034 8356.5001,-133.0034 8363.5001,-133.0033\"/>\n<text text-anchor=\"middle\" x=\"8373.5\" y=\"-144.8\" font-family=\"Times,serif\" font-size=\"14.00\" fill=\"#000000\">high</text>\n</g>\n<!-- good236 -->\n<g id=\"node243\" class=\"node\">\n<title>good236</title>\n<ellipse fill=\"none\" stroke=\"#000000\" cx=\"8436\" cy=\"-105\" rx=\"30.5947\" ry=\"18\"/>\n<text text-anchor=\"middle\" x=\"8436\" y=\"-101.3\" font-family=\"Times,serif\" font-size=\"14.00\" fill=\"#000000\">good</text>\n</g>\n<!-- maint233&#45;&gt;good236 -->\n<g id=\"edge242\" class=\"edge\">\n<title>maint233&#45;&gt;good236</title>\n<path fill=\"none\" stroke=\"#000000\" d=\"M8374.295,-175.636C8385.7596,-162.5121 8402.017,-143.9015 8414.9666,-129.0777\"/>\n<polygon fill=\"#000000\" stroke=\"#000000\" points=\"8417.826,-131.1244 8421.7691,-121.2907 8412.5542,-126.5192 8417.826,-131.1244\"/>\n<text text-anchor=\"middle\" x=\"8414\" y=\"-144.8\" font-family=\"Times,serif\" font-size=\"14.00\" fill=\"#000000\">low</text>\n</g>\n<!-- good237 -->\n<g id=\"node244\" class=\"node\">\n<title>good237</title>\n<ellipse fill=\"none\" stroke=\"#000000\" cx=\"8515\" cy=\"-105\" rx=\"30.5947\" ry=\"18\"/>\n<text text-anchor=\"middle\" x=\"8515\" y=\"-101.3\" font-family=\"Times,serif\" font-size=\"14.00\" fill=\"#000000\">good</text>\n</g>\n<!-- maint233&#45;&gt;good237 -->\n<g id=\"edge243\" class=\"edge\">\n<title>maint233&#45;&gt;good237</title>\n<path fill=\"none\" stroke=\"#000000\" d=\"M8383.8017,-179.9857C8397.1784,-173.1328 8414.126,-164.2825 8429,-156 8447.8103,-145.5256 8468.581,-133.2293 8484.9969,-123.3351\"/>\n<polygon fill=\"#000000\" stroke=\"#000000\" points=\"8486.8848,-126.2837 8493.6288,-118.1123 8483.2611,-120.2946 8486.8848,-126.2837\"/>\n<text text-anchor=\"middle\" x=\"8468.5\" y=\"-144.8\" font-family=\"Times,serif\" font-size=\"14.00\" fill=\"#000000\">med</text>\n</g>\n<!-- unacc239 -->\n<g id=\"node246\" class=\"node\">\n<title>unacc239</title>\n<ellipse fill=\"none\" stroke=\"#000000\" cx=\"8634\" cy=\"-192\" rx=\"32.4942\" ry=\"18\"/>\n<text text-anchor=\"middle\" x=\"8634\" y=\"-188.3\" font-family=\"Times,serif\" font-size=\"14.00\" fill=\"#000000\">unacc</text>\n</g>\n<!-- buying238&#45;&gt;unacc239 -->\n<g id=\"edge245\" class=\"edge\">\n<title>buying238&#45;&gt;unacc239</title>\n<path fill=\"none\" stroke=\"#000000\" d=\"M8698.2388,-262.8704C8691.7329,-256.7823 8684.4002,-249.7052 8678,-243 8669.9232,-234.5383 8661.4403,-224.9026 8654.1019,-216.3022\"/>\n<polygon fill=\"#000000\" stroke=\"#000000\" points=\"8656.5934,-213.8279 8647.4673,-208.4459 8651.2453,-218.3443 8656.5934,-213.8279\"/>\n<text text-anchor=\"middle\" x=\"8695\" y=\"-231.8\" font-family=\"Times,serif\" font-size=\"14.00\" fill=\"#000000\">vhigh</text>\n</g>\n<!-- doors240 -->\n<g id=\"node247\" class=\"node\">\n<title>doors240</title>\n<ellipse fill=\"none\" stroke=\"#000000\" cx=\"8716\" cy=\"-192\" rx=\"31.6951\" ry=\"18\"/>\n<text text-anchor=\"middle\" x=\"8716\" y=\"-188.3\" font-family=\"Times,serif\" font-size=\"14.00\" fill=\"#000000\">doors</text>\n</g>\n<!-- buying238&#45;&gt;doors240 -->\n<g id=\"edge246\" class=\"edge\">\n<title>buying238&#45;&gt;doors240</title>\n<path fill=\"none\" stroke=\"#000000\" d=\"M8716,-260.9735C8716,-249.1918 8716,-233.5607 8716,-220.1581\"/>\n<polygon fill=\"#000000\" stroke=\"#000000\" points=\"8719.5001,-220.0033 8716,-210.0034 8712.5001,-220.0034 8719.5001,-220.0033\"/>\n<text text-anchor=\"middle\" x=\"8728.5\" y=\"-231.8\" font-family=\"Times,serif\" font-size=\"14.00\" fill=\"#000000\">med</text>\n</g>\n<!-- unacc251 -->\n<g id=\"node258\" class=\"node\">\n<title>unacc251</title>\n<ellipse fill=\"none\" stroke=\"#000000\" cx=\"8798\" cy=\"-192\" rx=\"32.4942\" ry=\"18\"/>\n<text text-anchor=\"middle\" x=\"8798\" y=\"-188.3\" font-family=\"Times,serif\" font-size=\"14.00\" fill=\"#000000\">unacc</text>\n</g>\n<!-- buying238&#45;&gt;unacc251 -->\n<g id=\"edge257\" class=\"edge\">\n<title>buying238&#45;&gt;unacc251</title>\n<path fill=\"none\" stroke=\"#000000\" d=\"M8731.8104,-262.2255C8744.3339,-248.9384 8761.9768,-230.2198 8775.8984,-215.4492\"/>\n<polygon fill=\"#000000\" stroke=\"#000000\" points=\"8778.4807,-217.8124 8782.7926,-208.1347 8773.3867,-213.0112 8778.4807,-217.8124\"/>\n<text text-anchor=\"middle\" x=\"8775.5\" y=\"-231.8\" font-family=\"Times,serif\" font-size=\"14.00\" fill=\"#000000\">high</text>\n</g>\n<!-- maint252 -->\n<g id=\"node259\" class=\"node\">\n<title>maint252</title>\n<ellipse fill=\"none\" stroke=\"#000000\" cx=\"8990\" cy=\"-192\" rx=\"31.6951\" ry=\"18\"/>\n<text text-anchor=\"middle\" x=\"8990\" y=\"-188.3\" font-family=\"Times,serif\" font-size=\"14.00\" fill=\"#000000\">maint</text>\n</g>\n<!-- buying238&#45;&gt;maint252 -->\n<g id=\"edge258\" class=\"edge\">\n<title>buying238&#45;&gt;maint252</title>\n<path fill=\"none\" stroke=\"#000000\" d=\"M8747.4313,-269.02C8798.2467,-252.8852 8898.2289,-221.139 8952.6169,-203.8698\"/>\n<polygon fill=\"#000000\" stroke=\"#000000\" points=\"8953.7477,-207.183 8962.2196,-200.8208 8951.6292,-200.5113 8953.7477,-207.183\"/>\n<text text-anchor=\"middle\" x=\"8881\" y=\"-231.8\" font-family=\"Times,serif\" font-size=\"14.00\" fill=\"#000000\">low</text>\n</g>\n<!-- maint241 -->\n<g id=\"node248\" class=\"node\">\n<title>maint241</title>\n<ellipse fill=\"none\" stroke=\"#000000\" cx=\"8595\" cy=\"-105\" rx=\"31.6951\" ry=\"18\"/>\n<text text-anchor=\"middle\" x=\"8595\" y=\"-101.3\" font-family=\"Times,serif\" font-size=\"14.00\" fill=\"#000000\">maint</text>\n</g>\n<!-- doors240&#45;&gt;maint241 -->\n<g id=\"edge247\" class=\"edge\">\n<title>doors240&#45;&gt;maint241</title>\n<path fill=\"none\" stroke=\"#000000\" d=\"M8696.29,-177.8283C8676.3382,-163.4828 8645.308,-141.1719 8622.8487,-125.0235\"/>\n<polygon fill=\"#000000\" stroke=\"#000000\" points=\"8624.864,-122.1617 8614.7016,-119.1656 8620.7776,-127.8451 8624.864,-122.1617\"/>\n<text text-anchor=\"middle\" x=\"8667\" y=\"-144.8\" font-family=\"Times,serif\" font-size=\"14.00\" fill=\"#000000\">4</text>\n</g>\n<!-- unacc244 -->\n<g id=\"node251\" class=\"node\">\n<title>unacc244</title>\n<ellipse fill=\"none\" stroke=\"#000000\" cx=\"8677\" cy=\"-105\" rx=\"32.4942\" ry=\"18\"/>\n<text text-anchor=\"middle\" x=\"8677\" y=\"-101.3\" font-family=\"Times,serif\" font-size=\"14.00\" fill=\"#000000\">unacc</text>\n</g>\n<!-- doors240&#45;&gt;unacc244 -->\n<g id=\"edge250\" class=\"edge\">\n<title>doors240&#45;&gt;unacc244</title>\n<path fill=\"none\" stroke=\"#000000\" d=\"M8708.1078,-174.3943C8702.663,-162.2482 8695.3199,-145.8674 8689.1353,-132.0711\"/>\n<polygon fill=\"#000000\" stroke=\"#000000\" points=\"8692.1649,-130.273 8684.8805,-122.5796 8685.7773,-133.1364 8692.1649,-130.273\"/>\n<text text-anchor=\"middle\" x=\"8703\" y=\"-144.8\" font-family=\"Times,serif\" font-size=\"14.00\" fill=\"#000000\">2</text>\n</g>\n<!-- acc245 -->\n<g id=\"node252\" class=\"node\">\n<title>acc245</title>\n<ellipse fill=\"none\" stroke=\"#000000\" cx=\"8754\" cy=\"-105\" rx=\"27\" ry=\"18\"/>\n<text text-anchor=\"middle\" x=\"8754\" y=\"-101.3\" font-family=\"Times,serif\" font-size=\"14.00\" fill=\"#000000\">acc</text>\n</g>\n<!-- doors240&#45;&gt;acc245 -->\n<g id=\"edge251\" class=\"edge\">\n<title>doors240&#45;&gt;acc245</title>\n<path fill=\"none\" stroke=\"#000000\" d=\"M8723.6899,-174.3943C8729.0299,-162.1683 8736.2441,-145.6517 8742.2946,-131.7992\"/>\n<polygon fill=\"#000000\" stroke=\"#000000\" points=\"8745.6559,-132.8476 8746.4513,-122.2827 8739.2411,-130.0457 8745.6559,-132.8476\"/>\n<text text-anchor=\"middle\" x=\"8756.5\" y=\"-144.8\" font-family=\"Times,serif\" font-size=\"14.00\" fill=\"#000000\">5more</text>\n</g>\n<!-- maint246 -->\n<g id=\"node253\" class=\"node\">\n<title>maint246</title>\n<ellipse fill=\"none\" stroke=\"#000000\" cx=\"8831\" cy=\"-105\" rx=\"31.6951\" ry=\"18\"/>\n<text text-anchor=\"middle\" x=\"8831\" y=\"-101.3\" font-family=\"Times,serif\" font-size=\"14.00\" fill=\"#000000\">maint</text>\n</g>\n<!-- doors240&#45;&gt;maint246 -->\n<g id=\"edge252\" class=\"edge\">\n<title>doors240&#45;&gt;maint246</title>\n<path fill=\"none\" stroke=\"#000000\" d=\"M8740.2402,-180.0342C8752.3458,-173.5973 8766.9422,-165.1173 8779,-156 8789.7166,-147.8967 8800.495,-137.7347 8809.4379,-128.6187\"/>\n<polygon fill=\"#000000\" stroke=\"#000000\" points=\"8812.0835,-130.9166 8816.4765,-121.2754 8807.03,-126.0727 8812.0835,-130.9166\"/>\n<text text-anchor=\"middle\" x=\"8800\" y=\"-144.8\" font-family=\"Times,serif\" font-size=\"14.00\" fill=\"#000000\">3</text>\n</g>\n<!-- acc242 -->\n<g id=\"node249\" class=\"node\">\n<title>acc242</title>\n<ellipse fill=\"none\" stroke=\"#000000\" cx=\"8520\" cy=\"-18\" rx=\"27\" ry=\"18\"/>\n<text text-anchor=\"middle\" x=\"8520\" y=\"-14.3\" font-family=\"Times,serif\" font-size=\"14.00\" fill=\"#000000\">acc</text>\n</g>\n<!-- maint241&#45;&gt;acc242 -->\n<g id=\"edge248\" class=\"edge\">\n<title>maint241&#45;&gt;acc242</title>\n<path fill=\"none\" stroke=\"#000000\" d=\"M8580.8931,-88.636C8569.4362,-75.346 8553.1289,-56.4295 8540.2729,-41.5166\"/>\n<polygon fill=\"#000000\" stroke=\"#000000\" points=\"8542.7189,-38.9935 8533.5385,-33.7047 8537.417,-43.5641 8542.7189,-38.9935\"/>\n<text text-anchor=\"middle\" x=\"8573\" y=\"-57.8\" font-family=\"Times,serif\" font-size=\"14.00\" fill=\"#000000\">low</text>\n</g>\n<!-- unacc243 -->\n<g id=\"node250\" class=\"node\">\n<title>unacc243</title>\n<ellipse fill=\"none\" stroke=\"#000000\" cx=\"8597\" cy=\"-18\" rx=\"32.4942\" ry=\"18\"/>\n<text text-anchor=\"middle\" x=\"8597\" y=\"-14.3\" font-family=\"Times,serif\" font-size=\"14.00\" fill=\"#000000\">unacc</text>\n</g>\n<!-- maint241&#45;&gt;unacc243 -->\n<g id=\"edge249\" class=\"edge\">\n<title>maint241&#45;&gt;unacc243</title>\n<path fill=\"none\" stroke=\"#000000\" d=\"M8595.4144,-86.9735C8595.6852,-75.1918 8596.0446,-59.5607 8596.3527,-46.1581\"/>\n<polygon fill=\"#000000\" stroke=\"#000000\" points=\"8599.8553,-46.0812 8596.5861,-36.0034 8592.8571,-45.9202 8599.8553,-46.0812\"/>\n<text text-anchor=\"middle\" x=\"8614\" y=\"-57.8\" font-family=\"Times,serif\" font-size=\"14.00\" fill=\"#000000\">vhigh</text>\n</g>\n<!-- unacc247 -->\n<g id=\"node254\" class=\"node\">\n<title>unacc247</title>\n<ellipse fill=\"none\" stroke=\"#000000\" cx=\"8682\" cy=\"-18\" rx=\"32.4942\" ry=\"18\"/>\n<text text-anchor=\"middle\" x=\"8682\" y=\"-14.3\" font-family=\"Times,serif\" font-size=\"14.00\" fill=\"#000000\">unacc</text>\n</g>\n<!-- maint246&#45;&gt;unacc247 -->\n<g id=\"edge253\" class=\"edge\">\n<title>maint246&#45;&gt;unacc247</title>\n<path fill=\"none\" stroke=\"#000000\" d=\"M8805.8684,-93.8741C8791.3245,-87.1654 8772.8245,-78.1654 8757,-69 8740.8643,-59.6544 8723.608,-48.0418 8709.7206,-38.2594\"/>\n<polygon fill=\"#000000\" stroke=\"#000000\" points=\"8711.7255,-35.3904 8701.5492,-32.4416 8707.6655,-41.0928 8711.7255,-35.3904\"/>\n<text text-anchor=\"middle\" x=\"8774\" y=\"-57.8\" font-family=\"Times,serif\" font-size=\"14.00\" fill=\"#000000\">vhigh</text>\n</g>\n<!-- unacc248 -->\n<g id=\"node255\" class=\"node\">\n<title>unacc248</title>\n<ellipse fill=\"none\" stroke=\"#000000\" cx=\"8765\" cy=\"-18\" rx=\"32.4942\" ry=\"18\"/>\n<text text-anchor=\"middle\" x=\"8765\" y=\"-14.3\" font-family=\"Times,serif\" font-size=\"14.00\" fill=\"#000000\">unacc</text>\n</g>\n<!-- maint246&#45;&gt;unacc248 -->\n<g id=\"edge254\" class=\"edge\">\n<title>maint246&#45;&gt;unacc248</title>\n<path fill=\"none\" stroke=\"#000000\" d=\"M8818.2745,-88.2255C8808.5048,-75.3473 8794.8644,-57.3667 8783.8319,-42.8238\"/>\n<polygon fill=\"#000000\" stroke=\"#000000\" points=\"8786.5187,-40.5745 8777.6864,-34.723 8780.9419,-44.8053 8786.5187,-40.5745\"/>\n<text text-anchor=\"middle\" x=\"8815.5\" y=\"-57.8\" font-family=\"Times,serif\" font-size=\"14.00\" fill=\"#000000\">high</text>\n</g>\n<!-- acc249 -->\n<g id=\"node256\" class=\"node\">\n<title>acc249</title>\n<ellipse fill=\"none\" stroke=\"#000000\" cx=\"8842\" cy=\"-18\" rx=\"27\" ry=\"18\"/>\n<text text-anchor=\"middle\" x=\"8842\" y=\"-14.3\" font-family=\"Times,serif\" font-size=\"14.00\" fill=\"#000000\">acc</text>\n</g>\n<!-- maint246&#45;&gt;acc249 -->\n<g id=\"edge255\" class=\"edge\">\n<title>maint246&#45;&gt;acc249</title>\n<path fill=\"none\" stroke=\"#000000\" d=\"M8833.2792,-86.9735C8834.7689,-75.1918 8836.7452,-59.5607 8838.4398,-46.1581\"/>\n<polygon fill=\"#000000\" stroke=\"#000000\" points=\"8841.9416,-46.3634 8839.7237,-36.0034 8834.9969,-45.4853 8841.9416,-46.3634\"/>\n<text text-anchor=\"middle\" x=\"8849\" y=\"-57.8\" font-family=\"Times,serif\" font-size=\"14.00\" fill=\"#000000\">low</text>\n</g>\n<!-- acc250 -->\n<g id=\"node257\" class=\"node\">\n<title>acc250</title>\n<ellipse fill=\"none\" stroke=\"#000000\" cx=\"8914\" cy=\"-18\" rx=\"27\" ry=\"18\"/>\n<text text-anchor=\"middle\" x=\"8914\" y=\"-14.3\" font-family=\"Times,serif\" font-size=\"14.00\" fill=\"#000000\">acc</text>\n</g>\n<!-- maint246&#45;&gt;acc250 -->\n<g id=\"edge256\" class=\"edge\">\n<title>maint246&#45;&gt;acc250</title>\n<path fill=\"none\" stroke=\"#000000\" d=\"M8846.2235,-89.0429C8859.1358,-75.5083 8877.8134,-55.9305 8892.2932,-40.753\"/>\n<polygon fill=\"#000000\" stroke=\"#000000\" points=\"8895.0593,-42.9239 8899.4297,-33.2725 8889.9945,-38.092 8895.0593,-42.9239\"/>\n<text text-anchor=\"middle\" x=\"8890.5\" y=\"-57.8\" font-family=\"Times,serif\" font-size=\"14.00\" fill=\"#000000\">med</text>\n</g>\n<!-- unacc253 -->\n<g id=\"node260\" class=\"node\">\n<title>unacc253</title>\n<ellipse fill=\"none\" stroke=\"#000000\" cx=\"8913\" cy=\"-105\" rx=\"32.4942\" ry=\"18\"/>\n<text text-anchor=\"middle\" x=\"8913\" y=\"-101.3\" font-family=\"Times,serif\" font-size=\"14.00\" fill=\"#000000\">unacc</text>\n</g>\n<!-- maint252&#45;&gt;unacc253 -->\n<g id=\"edge259\" class=\"edge\">\n<title>maint252&#45;&gt;unacc253</title>\n<path fill=\"none\" stroke=\"#000000\" d=\"M8972.7857,-176.781C8966.0652,-170.5642 8958.4428,-163.1613 8952,-156 8944.7314,-147.9208 8937.3423,-138.5979 8930.9789,-130.1506\"/>\n<polygon fill=\"#000000\" stroke=\"#000000\" points=\"8933.7627,-128.0286 8924.9998,-122.0737 8928.1365,-132.1936 8933.7627,-128.0286\"/>\n<text text-anchor=\"middle\" x=\"8969\" y=\"-144.8\" font-family=\"Times,serif\" font-size=\"14.00\" fill=\"#000000\">vhigh</text>\n</g>\n<!-- acc254 -->\n<g id=\"node261\" class=\"node\">\n<title>acc254</title>\n<ellipse fill=\"none\" stroke=\"#000000\" cx=\"8990\" cy=\"-105\" rx=\"27\" ry=\"18\"/>\n<text text-anchor=\"middle\" x=\"8990\" y=\"-101.3\" font-family=\"Times,serif\" font-size=\"14.00\" fill=\"#000000\">acc</text>\n</g>\n<!-- maint252&#45;&gt;acc254 -->\n<g id=\"edge260\" class=\"edge\">\n<title>maint252&#45;&gt;acc254</title>\n<path fill=\"none\" stroke=\"#000000\" d=\"M8990,-173.9735C8990,-162.1918 8990,-146.5607 8990,-133.1581\"/>\n<polygon fill=\"#000000\" stroke=\"#000000\" points=\"8993.5001,-133.0033 8990,-123.0034 8986.5001,-133.0034 8993.5001,-133.0033\"/>\n<text text-anchor=\"middle\" x=\"9001\" y=\"-144.8\" font-family=\"Times,serif\" font-size=\"14.00\" fill=\"#000000\">low</text>\n</g>\n<!-- acc255 -->\n<g id=\"node262\" class=\"node\">\n<title>acc255</title>\n<ellipse fill=\"none\" stroke=\"#000000\" cx=\"9062\" cy=\"-105\" rx=\"27\" ry=\"18\"/>\n<text text-anchor=\"middle\" x=\"9062\" y=\"-101.3\" font-family=\"Times,serif\" font-size=\"14.00\" fill=\"#000000\">acc</text>\n</g>\n<!-- maint252&#45;&gt;acc255 -->\n<g id=\"edge261\" class=\"edge\">\n<title>maint252&#45;&gt;acc255</title>\n<path fill=\"none\" stroke=\"#000000\" d=\"M9003.5426,-175.636C9014.4725,-162.429 9030.0008,-143.6657 9042.3062,-128.7967\"/>\n<polygon fill=\"#000000\" stroke=\"#000000\" points=\"9045.082,-130.9322 9048.7613,-120.9967 9039.6892,-126.4692 9045.082,-130.9322\"/>\n<text text-anchor=\"middle\" x=\"9043.5\" y=\"-144.8\" font-family=\"Times,serif\" font-size=\"14.00\" fill=\"#000000\">med</text>\n</g>\n<!-- doors256 -->\n<g id=\"node263\" class=\"node\">\n<title>doors256</title>\n<ellipse fill=\"none\" stroke=\"#000000\" cx=\"9139\" cy=\"-105\" rx=\"31.6951\" ry=\"18\"/>\n<text text-anchor=\"middle\" x=\"9139\" y=\"-101.3\" font-family=\"Times,serif\" font-size=\"14.00\" fill=\"#000000\">doors</text>\n</g>\n<!-- maint252&#45;&gt;doors256 -->\n<g id=\"edge262\" class=\"edge\">\n<title>maint252&#45;&gt;doors256</title>\n<path fill=\"none\" stroke=\"#000000\" d=\"M9014.2876,-180.2447C9027.9023,-173.473 9045.0926,-164.6174 9060,-156 9076.8542,-146.2572 9095.1484,-134.5248 9109.8839,-124.7704\"/>\n<polygon fill=\"#000000\" stroke=\"#000000\" points=\"9112.1767,-127.4484 9118.5543,-118.9881 9108.2928,-121.6247 9112.1767,-127.4484\"/>\n<text text-anchor=\"middle\" x=\"9098.5\" y=\"-144.8\" font-family=\"Times,serif\" font-size=\"14.00\" fill=\"#000000\">high</text>\n</g>\n<!-- acc257 -->\n<g id=\"node264\" class=\"node\">\n<title>acc257</title>\n<ellipse fill=\"none\" stroke=\"#000000\" cx=\"8990\" cy=\"-18\" rx=\"27\" ry=\"18\"/>\n<text text-anchor=\"middle\" x=\"8990\" y=\"-14.3\" font-family=\"Times,serif\" font-size=\"14.00\" fill=\"#000000\">acc</text>\n</g>\n<!-- doors256&#45;&gt;acc257 -->\n<g id=\"edge263\" class=\"edge\">\n<title>doors256&#45;&gt;acc257</title>\n<path fill=\"none\" stroke=\"#000000\" d=\"M9116.6932,-91.9752C9090.7607,-76.8335 9047.8728,-51.7915 9019.2797,-35.0962\"/>\n<polygon fill=\"#000000\" stroke=\"#000000\" points=\"9020.9387,-32.012 9010.5382,-29.9921 9017.4091,-38.057 9020.9387,-32.012\"/>\n<text text-anchor=\"middle\" x=\"9078\" y=\"-57.8\" font-family=\"Times,serif\" font-size=\"14.00\" fill=\"#000000\">3</text>\n</g>\n<!-- acc258 -->\n<g id=\"node265\" class=\"node\">\n<title>acc258</title>\n<ellipse fill=\"none\" stroke=\"#000000\" cx=\"9062\" cy=\"-18\" rx=\"27\" ry=\"18\"/>\n<text text-anchor=\"middle\" x=\"9062\" y=\"-14.3\" font-family=\"Times,serif\" font-size=\"14.00\" fill=\"#000000\">acc</text>\n</g>\n<!-- doors256&#45;&gt;acc258 -->\n<g id=\"edge264\" class=\"edge\">\n<title>doors256&#45;&gt;acc258</title>\n<path fill=\"none\" stroke=\"#000000\" d=\"M9124.5169,-88.636C9112.7545,-75.346 9096.0123,-56.4295 9082.8135,-41.5166\"/>\n<polygon fill=\"#000000\" stroke=\"#000000\" points=\"9085.1481,-38.8733 9075.8995,-33.7047 9079.9062,-43.5127 9085.1481,-38.8733\"/>\n<text text-anchor=\"middle\" x=\"9110\" y=\"-57.8\" font-family=\"Times,serif\" font-size=\"14.00\" fill=\"#000000\">4</text>\n</g>\n<!-- unacc259 -->\n<g id=\"node266\" class=\"node\">\n<title>unacc259</title>\n<ellipse fill=\"none\" stroke=\"#000000\" cx=\"9139\" cy=\"-18\" rx=\"32.4942\" ry=\"18\"/>\n<text text-anchor=\"middle\" x=\"9139\" y=\"-14.3\" font-family=\"Times,serif\" font-size=\"14.00\" fill=\"#000000\">unacc</text>\n</g>\n<!-- doors256&#45;&gt;unacc259 -->\n<g id=\"edge265\" class=\"edge\">\n<title>doors256&#45;&gt;unacc259</title>\n<path fill=\"none\" stroke=\"#000000\" d=\"M9139,-86.9735C9139,-75.1918 9139,-59.5607 9139,-46.1581\"/>\n<polygon fill=\"#000000\" stroke=\"#000000\" points=\"9142.5001,-46.0033 9139,-36.0034 9135.5001,-46.0034 9142.5001,-46.0033\"/>\n<text text-anchor=\"middle\" x=\"9143\" y=\"-57.8\" font-family=\"Times,serif\" font-size=\"14.00\" fill=\"#000000\">2</text>\n</g>\n<!-- acc260 -->\n<g id=\"node267\" class=\"node\">\n<title>acc260</title>\n<ellipse fill=\"none\" stroke=\"#000000\" cx=\"9216\" cy=\"-18\" rx=\"27\" ry=\"18\"/>\n<text text-anchor=\"middle\" x=\"9216\" y=\"-14.3\" font-family=\"Times,serif\" font-size=\"14.00\" fill=\"#000000\">acc</text>\n</g>\n<!-- doors256&#45;&gt;acc260 -->\n<g id=\"edge266\" class=\"edge\">\n<title>doors256&#45;&gt;acc260</title>\n<path fill=\"none\" stroke=\"#000000\" d=\"M9153.4831,-88.636C9165.2455,-75.346 9181.9877,-56.4295 9195.1865,-41.5166\"/>\n<polygon fill=\"#000000\" stroke=\"#000000\" points=\"9198.0938,-43.5127 9202.1005,-33.7047 9192.8519,-38.8733 9198.0938,-43.5127\"/>\n<text text-anchor=\"middle\" x=\"9201.5\" y=\"-57.8\" font-family=\"Times,serif\" font-size=\"14.00\" fill=\"#000000\">5more</text>\n</g>\n<!-- doors262 -->\n<g id=\"node269\" class=\"node\">\n<title>doors262</title>\n<ellipse fill=\"none\" stroke=\"#000000\" cx=\"9448\" cy=\"-192\" rx=\"31.6951\" ry=\"18\"/>\n<text text-anchor=\"middle\" x=\"9448\" y=\"-188.3\" font-family=\"Times,serif\" font-size=\"14.00\" fill=\"#000000\">doors</text>\n</g>\n<!-- maint261&#45;&gt;doors262 -->\n<g id=\"edge268\" class=\"edge\">\n<title>maint261&#45;&gt;doors262</title>\n<path fill=\"none\" stroke=\"#000000\" d=\"M10129.4433,-275.1495C10014.6275,-261.1397 9619.0841,-212.8756 9489.4801,-197.0614\"/>\n<polygon fill=\"#000000\" stroke=\"#000000\" points=\"9489.5426,-193.5431 9479.1923,-195.8061 9488.6947,-200.4916 9489.5426,-193.5431\"/>\n<text text-anchor=\"middle\" x=\"9860.5\" y=\"-231.8\" font-family=\"Times,serif\" font-size=\"14.00\" fill=\"#000000\">med</text>\n</g>\n<!-- buying273 -->\n<g id=\"node280\" class=\"node\">\n<title>buying273</title>\n<ellipse fill=\"none\" stroke=\"#000000\" cx=\"10161\" cy=\"-192\" rx=\"37.8943\" ry=\"18\"/>\n<text text-anchor=\"middle\" x=\"10161\" y=\"-188.3\" font-family=\"Times,serif\" font-size=\"14.00\" fill=\"#000000\">buying</text>\n</g>\n<!-- maint261&#45;&gt;buying273 -->\n<g id=\"edge279\" class=\"edge\">\n<title>maint261&#45;&gt;buying273</title>\n<path fill=\"none\" stroke=\"#000000\" d=\"M10161,-260.9735C10161,-249.1918 10161,-233.5607 10161,-220.1581\"/>\n<polygon fill=\"#000000\" stroke=\"#000000\" points=\"10164.5001,-220.0033 10161,-210.0034 10157.5001,-220.0034 10164.5001,-220.0033\"/>\n<text text-anchor=\"middle\" x=\"10172\" y=\"-231.8\" font-family=\"Times,serif\" font-size=\"14.00\" fill=\"#000000\">low</text>\n</g>\n<!-- buying288 -->\n<g id=\"node295\" class=\"node\">\n<title>buying288</title>\n<ellipse fill=\"none\" stroke=\"#000000\" cx=\"10440\" cy=\"-192\" rx=\"37.8943\" ry=\"18\"/>\n<text text-anchor=\"middle\" x=\"10440\" y=\"-188.3\" font-family=\"Times,serif\" font-size=\"14.00\" fill=\"#000000\">buying</text>\n</g>\n<!-- maint261&#45;&gt;buying288 -->\n<g id=\"edge294\" class=\"edge\">\n<title>maint261&#45;&gt;buying288</title>\n<path fill=\"none\" stroke=\"#000000\" d=\"M10189.029,-270.2598C10238.3043,-254.8944 10340.6793,-222.971 10398.2883,-205.0069\"/>\n<polygon fill=\"#000000\" stroke=\"#000000\" points=\"10399.655,-208.247 10408.1597,-201.9287 10397.5712,-201.5643 10399.655,-208.247\"/>\n<text text-anchor=\"middle\" x=\"10335\" y=\"-231.8\" font-family=\"Times,serif\" font-size=\"14.00\" fill=\"#000000\">vhigh</text>\n</g>\n<!-- buying296 -->\n<g id=\"node303\" class=\"node\">\n<title>buying296</title>\n<ellipse fill=\"none\" stroke=\"#000000\" cx=\"10900\" cy=\"-192\" rx=\"37.8943\" ry=\"18\"/>\n<text text-anchor=\"middle\" x=\"10900\" y=\"-188.3\" font-family=\"Times,serif\" font-size=\"14.00\" fill=\"#000000\">buying</text>\n</g>\n<!-- maint261&#45;&gt;buying296 -->\n<g id=\"edge302\" class=\"edge\">\n<title>maint261&#45;&gt;buying296</title>\n<path fill=\"none\" stroke=\"#000000\" d=\"M10192.2819,-275.3173C10308.2161,-261.6687 10713.8295,-213.9172 10852.8369,-197.5524\"/>\n<polygon fill=\"#000000\" stroke=\"#000000\" points=\"10853.6263,-200.9837 10863.1485,-196.3384 10852.8078,-194.0317 10853.6263,-200.9837\"/>\n<text text-anchor=\"middle\" x=\"10588.5\" y=\"-231.8\" font-family=\"Times,serif\" font-size=\"14.00\" fill=\"#000000\">high</text>\n</g>\n<!-- acc263 -->\n<g id=\"node270\" class=\"node\">\n<title>acc263</title>\n<ellipse fill=\"none\" stroke=\"#000000\" cx=\"9282\" cy=\"-105\" rx=\"27\" ry=\"18\"/>\n<text text-anchor=\"middle\" x=\"9282\" y=\"-101.3\" font-family=\"Times,serif\" font-size=\"14.00\" fill=\"#000000\">acc</text>\n</g>\n<!-- doors262&#45;&gt;acc263 -->\n<g id=\"edge269\" class=\"edge\">\n<title>doors262&#45;&gt;acc263</title>\n<path fill=\"none\" stroke=\"#000000\" d=\"M9424.5683,-179.7195C9395.204,-164.3298 9344.8153,-137.9213 9312.4791,-120.974\"/>\n<polygon fill=\"#000000\" stroke=\"#000000\" points=\"9313.9504,-117.7936 9303.4684,-116.2515 9310.7009,-123.9937 9313.9504,-117.7936\"/>\n<text text-anchor=\"middle\" x=\"9379\" y=\"-144.8\" font-family=\"Times,serif\" font-size=\"14.00\" fill=\"#000000\">3</text>\n</g>\n<!-- buying264 -->\n<g id=\"node271\" class=\"node\">\n<title>buying264</title>\n<ellipse fill=\"none\" stroke=\"#000000\" cx=\"9365\" cy=\"-105\" rx=\"37.8943\" ry=\"18\"/>\n<text text-anchor=\"middle\" x=\"9365\" y=\"-101.3\" font-family=\"Times,serif\" font-size=\"14.00\" fill=\"#000000\">buying</text>\n</g>\n<!-- doors262&#45;&gt;buying264 -->\n<g id=\"edge270\" class=\"edge\">\n<title>doors262&#45;&gt;buying264</title>\n<path fill=\"none\" stroke=\"#000000\" d=\"M9432.7765,-176.0429C9420.183,-162.8425 9402.1054,-143.8936 9387.7869,-128.8851\"/>\n<polygon fill=\"#000000\" stroke=\"#000000\" points=\"9390.1262,-126.2666 9380.6909,-121.4471 9385.0613,-131.0986 9390.1262,-126.2666\"/>\n<text text-anchor=\"middle\" x=\"9416\" y=\"-144.8\" font-family=\"Times,serif\" font-size=\"14.00\" fill=\"#000000\">2</text>\n</g>\n<!-- acc267 -->\n<g id=\"node274\" class=\"node\">\n<title>acc267</title>\n<ellipse fill=\"none\" stroke=\"#000000\" cx=\"9448\" cy=\"-105\" rx=\"27\" ry=\"18\"/>\n<text text-anchor=\"middle\" x=\"9448\" y=\"-101.3\" font-family=\"Times,serif\" font-size=\"14.00\" fill=\"#000000\">acc</text>\n</g>\n<!-- doors262&#45;&gt;acc267 -->\n<g id=\"edge273\" class=\"edge\">\n<title>doors262&#45;&gt;acc267</title>\n<path fill=\"none\" stroke=\"#000000\" d=\"M9448,-173.9735C9448,-162.1918 9448,-146.5607 9448,-133.1581\"/>\n<polygon fill=\"#000000\" stroke=\"#000000\" points=\"9451.5001,-133.0033 9448,-123.0034 9444.5001,-133.0034 9451.5001,-133.0033\"/>\n<text text-anchor=\"middle\" x=\"9452\" y=\"-144.8\" font-family=\"Times,serif\" font-size=\"14.00\" fill=\"#000000\">4</text>\n</g>\n<!-- buying268 -->\n<g id=\"node275\" class=\"node\">\n<title>buying268</title>\n<ellipse fill=\"none\" stroke=\"#000000\" cx=\"9531\" cy=\"-105\" rx=\"37.8943\" ry=\"18\"/>\n<text text-anchor=\"middle\" x=\"9531\" y=\"-101.3\" font-family=\"Times,serif\" font-size=\"14.00\" fill=\"#000000\">buying</text>\n</g>\n<!-- doors262&#45;&gt;buying268 -->\n<g id=\"edge274\" class=\"edge\">\n<title>doors262&#45;&gt;buying268</title>\n<path fill=\"none\" stroke=\"#000000\" d=\"M9463.2235,-176.0429C9475.817,-162.8425 9493.8946,-143.8936 9508.2131,-128.8851\"/>\n<polygon fill=\"#000000\" stroke=\"#000000\" points=\"9510.9387,-131.0986 9515.3091,-121.4471 9505.8738,-126.2666 9510.9387,-131.0986\"/>\n<text text-anchor=\"middle\" x=\"9513.5\" y=\"-144.8\" font-family=\"Times,serif\" font-size=\"14.00\" fill=\"#000000\">5more</text>\n</g>\n<!-- acc265 -->\n<g id=\"node272\" class=\"node\">\n<title>acc265</title>\n<ellipse fill=\"none\" stroke=\"#000000\" cx=\"9288\" cy=\"-18\" rx=\"27\" ry=\"18\"/>\n<text text-anchor=\"middle\" x=\"9288\" y=\"-14.3\" font-family=\"Times,serif\" font-size=\"14.00\" fill=\"#000000\">acc</text>\n</g>\n<!-- buying264&#45;&gt;acc265 -->\n<g id=\"edge271\" class=\"edge\">\n<title>buying264&#45;&gt;acc265</title>\n<path fill=\"none\" stroke=\"#000000\" d=\"M9350.1536,-88.2255C9338.3541,-74.8936 9321.715,-56.0936 9308.6219,-41.3001\"/>\n<polygon fill=\"#000000\" stroke=\"#000000\" points=\"9311.0146,-38.7225 9301.7661,-33.5539 9305.7728,-43.3619 9311.0146,-38.7225\"/>\n<text text-anchor=\"middle\" x=\"9343\" y=\"-57.8\" font-family=\"Times,serif\" font-size=\"14.00\" fill=\"#000000\">low</text>\n</g>\n<!-- unacc266 -->\n<g id=\"node273\" class=\"node\">\n<title>unacc266</title>\n<ellipse fill=\"none\" stroke=\"#000000\" cx=\"9365\" cy=\"-18\" rx=\"32.4942\" ry=\"18\"/>\n<text text-anchor=\"middle\" x=\"9365\" y=\"-14.3\" font-family=\"Times,serif\" font-size=\"14.00\" fill=\"#000000\">unacc</text>\n</g>\n<!-- buying264&#45;&gt;unacc266 -->\n<g id=\"edge272\" class=\"edge\">\n<title>buying264&#45;&gt;unacc266</title>\n<path fill=\"none\" stroke=\"#000000\" d=\"M9365,-86.9735C9365,-75.1918 9365,-59.5607 9365,-46.1581\"/>\n<polygon fill=\"#000000\" stroke=\"#000000\" points=\"9368.5001,-46.0033 9365,-36.0034 9361.5001,-46.0034 9368.5001,-46.0033\"/>\n<text text-anchor=\"middle\" x=\"9382\" y=\"-57.8\" font-family=\"Times,serif\" font-size=\"14.00\" fill=\"#000000\">vhigh</text>\n</g>\n<!-- acc269 -->\n<g id=\"node276\" class=\"node\">\n<title>acc269</title>\n<ellipse fill=\"none\" stroke=\"#000000\" cx=\"9442\" cy=\"-18\" rx=\"27\" ry=\"18\"/>\n<text text-anchor=\"middle\" x=\"9442\" y=\"-14.3\" font-family=\"Times,serif\" font-size=\"14.00\" fill=\"#000000\">acc</text>\n</g>\n<!-- buying268&#45;&gt;acc269 -->\n<g id=\"edge275\" class=\"edge\">\n<title>buying268&#45;&gt;acc269</title>\n<path fill=\"none\" stroke=\"#000000\" d=\"M9512.8248,-89.1439C9505.8923,-82.9662 9497.9816,-75.7578 9491,-69 9481.7197,-60.0173 9471.7931,-49.8061 9463.3181,-40.8925\"/>\n<polygon fill=\"#000000\" stroke=\"#000000\" points=\"9465.7072,-38.3246 9456.2968,-33.4568 9460.6177,-43.1305 9465.7072,-38.3246\"/>\n<text text-anchor=\"middle\" x=\"9504.5\" y=\"-57.8\" font-family=\"Times,serif\" font-size=\"14.00\" fill=\"#000000\">high</text>\n</g>\n<!-- acc270 -->\n<g id=\"node277\" class=\"node\">\n<title>acc270</title>\n<ellipse fill=\"none\" stroke=\"#000000\" cx=\"9514\" cy=\"-18\" rx=\"27\" ry=\"18\"/>\n<text text-anchor=\"middle\" x=\"9514\" y=\"-14.3\" font-family=\"Times,serif\" font-size=\"14.00\" fill=\"#000000\">acc</text>\n</g>\n<!-- buying268&#45;&gt;acc270 -->\n<g id=\"edge276\" class=\"edge\">\n<title>buying268&#45;&gt;acc270</title>\n<path fill=\"none\" stroke=\"#000000\" d=\"M9527.4776,-86.9735C9525.1754,-75.1918 9522.121,-59.5607 9519.5022,-46.1581\"/>\n<polygon fill=\"#000000\" stroke=\"#000000\" points=\"9522.8708,-45.1465 9517.5179,-36.0034 9516.0007,-46.489 9522.8708,-45.1465\"/>\n<text text-anchor=\"middle\" x=\"9541\" y=\"-57.8\" font-family=\"Times,serif\" font-size=\"14.00\" fill=\"#000000\">vhigh</text>\n</g>\n<!-- acc271 -->\n<g id=\"node278\" class=\"node\">\n<title>acc271</title>\n<ellipse fill=\"none\" stroke=\"#000000\" cx=\"9586\" cy=\"-18\" rx=\"27\" ry=\"18\"/>\n<text text-anchor=\"middle\" x=\"9586\" y=\"-14.3\" font-family=\"Times,serif\" font-size=\"14.00\" fill=\"#000000\">acc</text>\n</g>\n<!-- buying268&#45;&gt;acc271 -->\n<g id=\"edge277\" class=\"edge\">\n<title>buying268&#45;&gt;acc271</title>\n<path fill=\"none\" stroke=\"#000000\" d=\"M9546.8232,-88.5374C9552.0279,-82.6465 9557.6017,-75.7815 9562,-69 9566.8456,-61.5289 9571.2789,-52.9251 9574.9807,-44.9378\"/>\n<polygon fill=\"#000000\" stroke=\"#000000\" points=\"9578.2589,-46.1789 9579.1118,-35.6184 9571.8595,-43.342 9578.2589,-46.1789\"/>\n<text text-anchor=\"middle\" x=\"9583.5\" y=\"-57.8\" font-family=\"Times,serif\" font-size=\"14.00\" fill=\"#000000\">med</text>\n</g>\n<!-- good272 -->\n<g id=\"node279\" class=\"node\">\n<title>good272</title>\n<ellipse fill=\"none\" stroke=\"#000000\" cx=\"9662\" cy=\"-18\" rx=\"30.5947\" ry=\"18\"/>\n<text text-anchor=\"middle\" x=\"9662\" y=\"-14.3\" font-family=\"Times,serif\" font-size=\"14.00\" fill=\"#000000\">good</text>\n</g>\n<!-- buying268&#45;&gt;good272 -->\n<g id=\"edge278\" class=\"edge\">\n<title>buying268&#45;&gt;good272</title>\n<path fill=\"none\" stroke=\"#000000\" d=\"M9558.2766,-92.4017C9571.2715,-85.9939 9586.8169,-77.7245 9600,-69 9613.0939,-60.3345 9626.6702,-49.4193 9637.7685,-39.9125\"/>\n<polygon fill=\"#000000\" stroke=\"#000000\" points=\"9640.1281,-42.4988 9645.3696,-33.2914 9635.5303,-37.2206 9640.1281,-42.4988\"/>\n<text text-anchor=\"middle\" x=\"9631\" y=\"-57.8\" font-family=\"Times,serif\" font-size=\"14.00\" fill=\"#000000\">low</text>\n</g>\n<!-- doors274 -->\n<g id=\"node281\" class=\"node\">\n<title>doors274</title>\n<ellipse fill=\"none\" stroke=\"#000000\" cx=\"9854\" cy=\"-105\" rx=\"31.6951\" ry=\"18\"/>\n<text text-anchor=\"middle\" x=\"9854\" y=\"-101.3\" font-family=\"Times,serif\" font-size=\"14.00\" fill=\"#000000\">doors</text>\n</g>\n<!-- buying273&#45;&gt;doors274 -->\n<g id=\"edge280\" class=\"edge\">\n<title>buying273&#45;&gt;doors274</title>\n<path fill=\"none\" stroke=\"#000000\" d=\"M10128.4363,-182.7718C10071.2803,-166.5745 9953.203,-133.1129 9892.2555,-115.8411\"/>\n<polygon fill=\"#000000\" stroke=\"#000000\" points=\"9893.2036,-112.4721 9882.6282,-113.1129 9891.295,-119.2068 9893.2036,-112.4721\"/>\n<text text-anchor=\"middle\" x=\"10043\" y=\"-144.8\" font-family=\"Times,serif\" font-size=\"14.00\" fill=\"#000000\">vhigh</text>\n</g>\n<!-- doors278 -->\n<g id=\"node285\" class=\"node\">\n<title>doors278</title>\n<ellipse fill=\"none\" stroke=\"#000000\" cx=\"10121\" cy=\"-105\" rx=\"31.6951\" ry=\"18\"/>\n<text text-anchor=\"middle\" x=\"10121\" y=\"-101.3\" font-family=\"Times,serif\" font-size=\"14.00\" fill=\"#000000\">doors</text>\n</g>\n<!-- buying273&#45;&gt;doors278 -->\n<g id=\"edge284\" class=\"edge\">\n<title>buying273&#45;&gt;doors278</title>\n<path fill=\"none\" stroke=\"#000000\" d=\"M10149.5,-174.8322C10145.8687,-169.0002 10142.02,-162.3501 10139,-156 10135.467,-148.5713 10132.2441,-140.2541 10129.5328,-132.5267\"/>\n<polygon fill=\"#000000\" stroke=\"#000000\" points=\"10132.7793,-131.1995 10126.2801,-122.8322 10126.1429,-133.4262 10132.7793,-131.1995\"/>\n<text text-anchor=\"middle\" x=\"10151.5\" y=\"-144.8\" font-family=\"Times,serif\" font-size=\"14.00\" fill=\"#000000\">med</text>\n</g>\n<!-- doors283 -->\n<g id=\"node290\" class=\"node\">\n<title>doors283</title>\n<ellipse fill=\"none\" stroke=\"#000000\" cx=\"10203\" cy=\"-105\" rx=\"31.6951\" ry=\"18\"/>\n<text text-anchor=\"middle\" x=\"10203\" y=\"-101.3\" font-family=\"Times,serif\" font-size=\"14.00\" fill=\"#000000\">doors</text>\n</g>\n<!-- buying273&#45;&gt;doors283 -->\n<g id=\"edge289\" class=\"edge\">\n<title>buying273&#45;&gt;doors283</title>\n<path fill=\"none\" stroke=\"#000000\" d=\"M10169.4993,-174.3943C10175.4199,-162.1303 10183.4246,-145.5489 10190.1248,-131.67\"/>\n<polygon fill=\"#000000\" stroke=\"#000000\" points=\"10193.3177,-133.1067 10194.5133,-122.5796 10187.0138,-130.0634 10193.3177,-133.1067\"/>\n<text text-anchor=\"middle\" x=\"10196\" y=\"-144.8\" font-family=\"Times,serif\" font-size=\"14.00\" fill=\"#000000\">low</text>\n</g>\n<!-- acc287 -->\n<g id=\"node294\" class=\"node\">\n<title>acc287</title>\n<ellipse fill=\"none\" stroke=\"#000000\" cx=\"10280\" cy=\"-105\" rx=\"27\" ry=\"18\"/>\n<text text-anchor=\"middle\" x=\"10280\" y=\"-101.3\" font-family=\"Times,serif\" font-size=\"14.00\" fill=\"#000000\">acc</text>\n</g>\n<!-- buying273&#45;&gt;acc287 -->\n<g id=\"edge293\" class=\"edge\">\n<title>buying273&#45;&gt;acc287</title>\n<path fill=\"none\" stroke=\"#000000\" d=\"M10181.9635,-176.9946C10190.9262,-170.5564 10201.4945,-162.9345 10211,-156 10225.08,-145.7283 10240.7026,-134.1928 10253.5167,-124.6943\"/>\n<polygon fill=\"#000000\" stroke=\"#000000\" points=\"10255.9407,-127.254 10261.8858,-118.4843 10251.7695,-121.6324 10255.9407,-127.254\"/>\n<text text-anchor=\"middle\" x=\"10244.5\" y=\"-144.8\" font-family=\"Times,serif\" font-size=\"14.00\" fill=\"#000000\">high</text>\n</g>\n<!-- acc275 -->\n<g id=\"node282\" class=\"node\">\n<title>acc275</title>\n<ellipse fill=\"none\" stroke=\"#000000\" cx=\"9738\" cy=\"-18\" rx=\"27\" ry=\"18\"/>\n<text text-anchor=\"middle\" x=\"9738\" y=\"-14.3\" font-family=\"Times,serif\" font-size=\"14.00\" fill=\"#000000\">acc</text>\n</g>\n<!-- doors274&#45;&gt;acc275 -->\n<g id=\"edge281\" class=\"edge\">\n<title>doors274&#45;&gt;acc275</title>\n<path fill=\"none\" stroke=\"#000000\" d=\"M9834.5842,-90.4382C9815.2251,-75.9188 9785.3701,-53.5276 9763.9789,-37.4842\"/>\n<polygon fill=\"#000000\" stroke=\"#000000\" points=\"9766.0521,-34.6641 9755.9521,-31.464 9761.8521,-40.2641 9766.0521,-34.6641\"/>\n<text text-anchor=\"middle\" x=\"9807\" y=\"-57.8\" font-family=\"Times,serif\" font-size=\"14.00\" fill=\"#000000\">3</text>\n</g>\n<!-- unacc276 -->\n<g id=\"node283\" class=\"node\">\n<title>unacc276</title>\n<ellipse fill=\"none\" stroke=\"#000000\" cx=\"9815\" cy=\"-18\" rx=\"32.4942\" ry=\"18\"/>\n<text text-anchor=\"middle\" x=\"9815\" y=\"-14.3\" font-family=\"Times,serif\" font-size=\"14.00\" fill=\"#000000\">unacc</text>\n</g>\n<!-- doors274&#45;&gt;unacc276 -->\n<g id=\"edge282\" class=\"edge\">\n<title>doors274&#45;&gt;unacc276</title>\n<path fill=\"none\" stroke=\"#000000\" d=\"M9846.1078,-87.3943C9840.663,-75.2482 9833.3199,-58.8674 9827.1353,-45.0711\"/>\n<polygon fill=\"#000000\" stroke=\"#000000\" points=\"9830.1649,-43.273 9822.8805,-35.5796 9823.7773,-46.1364 9830.1649,-43.273\"/>\n<text text-anchor=\"middle\" x=\"9841\" y=\"-57.8\" font-family=\"Times,serif\" font-size=\"14.00\" fill=\"#000000\">2</text>\n</g>\n<!-- acc277 -->\n<g id=\"node284\" class=\"node\">\n<title>acc277</title>\n<ellipse fill=\"none\" stroke=\"#000000\" cx=\"9892\" cy=\"-18\" rx=\"27\" ry=\"18\"/>\n<text text-anchor=\"middle\" x=\"9892\" y=\"-14.3\" font-family=\"Times,serif\" font-size=\"14.00\" fill=\"#000000\">acc</text>\n</g>\n<!-- doors274&#45;&gt;acc277 -->\n<g id=\"edge283\" class=\"edge\">\n<title>doors274&#45;&gt;acc277</title>\n<path fill=\"none\" stroke=\"#000000\" d=\"M9861.6899,-87.3943C9867.0299,-75.1683 9874.2441,-58.6517 9880.2946,-44.7992\"/>\n<polygon fill=\"#000000\" stroke=\"#000000\" points=\"9883.6559,-45.8476 9884.4513,-35.2827 9877.2411,-43.0457 9883.6559,-45.8476\"/>\n<text text-anchor=\"middle\" x=\"9894.5\" y=\"-57.8\" font-family=\"Times,serif\" font-size=\"14.00\" fill=\"#000000\">5more</text>\n</g>\n<!-- good279 -->\n<g id=\"node286\" class=\"node\">\n<title>good279</title>\n<ellipse fill=\"none\" stroke=\"#000000\" cx=\"9968\" cy=\"-18\" rx=\"30.5947\" ry=\"18\"/>\n<text text-anchor=\"middle\" x=\"9968\" y=\"-14.3\" font-family=\"Times,serif\" font-size=\"14.00\" fill=\"#000000\">good</text>\n</g>\n<!-- doors278&#45;&gt;good279 -->\n<g id=\"edge285\" class=\"edge\">\n<title>doors278&#45;&gt;good279</title>\n<path fill=\"none\" stroke=\"#000000\" d=\"M10094.4693,-94.9997C10078.0716,-88.4207 10056.8275,-79.1671 10039,-69 10023.5351,-60.1803 10007.3352,-48.735 9994.3211,-38.9222\"/>\n<polygon fill=\"#000000\" stroke=\"#000000\" points=\"9996.3356,-36.0565 9986.2687,-32.7535 9992.0786,-41.6133 9996.3356,-36.0565\"/>\n<text text-anchor=\"middle\" x=\"10057.5\" y=\"-57.8\" font-family=\"Times,serif\" font-size=\"14.00\" fill=\"#000000\">5more</text>\n</g>\n<!-- good280 -->\n<g id=\"node287\" class=\"node\">\n<title>good280</title>\n<ellipse fill=\"none\" stroke=\"#000000\" cx=\"10047\" cy=\"-18\" rx=\"30.5947\" ry=\"18\"/>\n<text text-anchor=\"middle\" x=\"10047\" y=\"-14.3\" font-family=\"Times,serif\" font-size=\"14.00\" fill=\"#000000\">good</text>\n</g>\n<!-- doors278&#45;&gt;good280 -->\n<g id=\"edge286\" class=\"edge\">\n<title>doors278&#45;&gt;good280</title>\n<path fill=\"none\" stroke=\"#000000\" d=\"M10107.0812,-88.636C10095.9183,-75.5121 10080.0887,-56.9015 10067.4799,-42.0777\"/>\n<polygon fill=\"#000000\" stroke=\"#000000\" points=\"10070.0015,-39.6402 10060.8564,-34.2907 10064.6694,-44.1756 10070.0015,-39.6402\"/>\n<text text-anchor=\"middle\" x=\"10093\" y=\"-57.8\" font-family=\"Times,serif\" font-size=\"14.00\" fill=\"#000000\">3</text>\n</g>\n<!-- acc281 -->\n<g id=\"node288\" class=\"node\">\n<title>acc281</title>\n<ellipse fill=\"none\" stroke=\"#000000\" cx=\"10123\" cy=\"-18\" rx=\"27\" ry=\"18\"/>\n<text text-anchor=\"middle\" x=\"10123\" y=\"-14.3\" font-family=\"Times,serif\" font-size=\"14.00\" fill=\"#000000\">acc</text>\n</g>\n<!-- doors278&#45;&gt;acc281 -->\n<g id=\"edge287\" class=\"edge\">\n<title>doors278&#45;&gt;acc281</title>\n<path fill=\"none\" stroke=\"#000000\" d=\"M10121.4144,-86.9735C10121.6852,-75.1918 10122.0446,-59.5607 10122.3527,-46.1581\"/>\n<polygon fill=\"#000000\" stroke=\"#000000\" points=\"10125.8553,-46.0812 10122.5861,-36.0034 10118.8571,-45.9202 10125.8553,-46.0812\"/>\n<text text-anchor=\"middle\" x=\"10127\" y=\"-57.8\" font-family=\"Times,serif\" font-size=\"14.00\" fill=\"#000000\">2</text>\n</g>\n<!-- good282 -->\n<g id=\"node289\" class=\"node\">\n<title>good282</title>\n<ellipse fill=\"none\" stroke=\"#000000\" cx=\"10199\" cy=\"-18\" rx=\"30.5947\" ry=\"18\"/>\n<text text-anchor=\"middle\" x=\"10199\" y=\"-14.3\" font-family=\"Times,serif\" font-size=\"14.00\" fill=\"#000000\">good</text>\n</g>\n<!-- doors278&#45;&gt;good282 -->\n<g id=\"edge288\" class=\"edge\">\n<title>doors278&#45;&gt;good282</title>\n<path fill=\"none\" stroke=\"#000000\" d=\"M10135.6712,-88.636C10147.5119,-75.429 10164.3342,-56.6657 10177.6651,-41.7967\"/>\n<polygon fill=\"#000000\" stroke=\"#000000\" points=\"10180.5886,-43.7789 10184.6581,-33.9967 10175.3766,-39.106 10180.5886,-43.7789\"/>\n<text text-anchor=\"middle\" x=\"10169\" y=\"-57.8\" font-family=\"Times,serif\" font-size=\"14.00\" fill=\"#000000\">4</text>\n</g>\n<!-- good284 -->\n<g id=\"node291\" class=\"node\">\n<title>good284</title>\n<ellipse fill=\"none\" stroke=\"#000000\" cx=\"10278\" cy=\"-18\" rx=\"30.5947\" ry=\"18\"/>\n<text text-anchor=\"middle\" x=\"10278\" y=\"-14.3\" font-family=\"Times,serif\" font-size=\"14.00\" fill=\"#000000\">good</text>\n</g>\n<!-- doors283&#45;&gt;good284 -->\n<g id=\"edge290\" class=\"edge\">\n<title>doors283&#45;&gt;good284</title>\n<path fill=\"none\" stroke=\"#000000\" d=\"M10217.1069,-88.636C10228.4206,-75.5121 10244.4642,-56.9015 10257.2434,-42.0777\"/>\n<polygon fill=\"#000000\" stroke=\"#000000\" points=\"10260.0778,-44.1501 10263.9563,-34.2907 10254.776,-39.5795 10260.0778,-44.1501\"/>\n<text text-anchor=\"middle\" x=\"10249\" y=\"-57.8\" font-family=\"Times,serif\" font-size=\"14.00\" fill=\"#000000\">4</text>\n</g>\n<!-- acc285 -->\n<g id=\"node292\" class=\"node\">\n<title>acc285</title>\n<ellipse fill=\"none\" stroke=\"#000000\" cx=\"10354\" cy=\"-18\" rx=\"27\" ry=\"18\"/>\n<text text-anchor=\"middle\" x=\"10354\" y=\"-14.3\" font-family=\"Times,serif\" font-size=\"14.00\" fill=\"#000000\">acc</text>\n</g>\n<!-- doors283&#45;&gt;acc285 -->\n<g id=\"edge291\" class=\"edge\">\n<title>doors283&#45;&gt;acc285</title>\n<path fill=\"none\" stroke=\"#000000\" d=\"M10225.6062,-91.9752C10251.8868,-76.8335 10295.3504,-51.7915 10324.3272,-35.0962\"/>\n<polygon fill=\"#000000\" stroke=\"#000000\" points=\"10326.2687,-38.0171 10333.1861,-29.9921 10322.7741,-31.9517 10326.2687,-38.0171\"/>\n<text text-anchor=\"middle\" x=\"10292\" y=\"-57.8\" font-family=\"Times,serif\" font-size=\"14.00\" fill=\"#000000\">2</text>\n</g>\n<!-- good286 -->\n<g id=\"node293\" class=\"node\">\n<title>good286</title>\n<ellipse fill=\"none\" stroke=\"#000000\" cx=\"10430\" cy=\"-18\" rx=\"30.5947\" ry=\"18\"/>\n<text text-anchor=\"middle\" x=\"10430\" y=\"-14.3\" font-family=\"Times,serif\" font-size=\"14.00\" fill=\"#000000\">good</text>\n</g>\n<!-- doors283&#45;&gt;good286 -->\n<g id=\"edge292\" class=\"edge\">\n<title>doors283&#45;&gt;good286</title>\n<path fill=\"none\" stroke=\"#000000\" d=\"M10227.9835,-93.5454C10233.2334,-91.2758 10238.7663,-88.984 10244,-87 10268.4455,-77.7332 10275.278,-77.5017 10300,-69 10340.2884,-55.1452 10350.549,-52.0852 10390,-36 10392.0626,-35.159 10394.176,-34.2752 10396.3018,-33.3694\"/>\n<polygon fill=\"#000000\" stroke=\"#000000\" points=\"10397.8148,-36.528 10405.581,-29.3212 10395.0157,-30.112 10397.8148,-36.528\"/>\n<text text-anchor=\"middle\" x=\"10361.5\" y=\"-57.8\" font-family=\"Times,serif\" font-size=\"14.00\" fill=\"#000000\">5more</text>\n</g>\n<!-- unacc289 -->\n<g id=\"node296\" class=\"node\">\n<title>unacc289</title>\n<ellipse fill=\"none\" stroke=\"#000000\" cx=\"10357\" cy=\"-105\" rx=\"32.4942\" ry=\"18\"/>\n<text text-anchor=\"middle\" x=\"10357\" y=\"-101.3\" font-family=\"Times,serif\" font-size=\"14.00\" fill=\"#000000\">unacc</text>\n</g>\n<!-- buying288&#45;&gt;unacc289 -->\n<g id=\"edge295\" class=\"edge\">\n<title>buying288&#45;&gt;unacc289</title>\n<path fill=\"none\" stroke=\"#000000\" d=\"M10422.2793,-175.8316C10415.7776,-169.7393 10408.4374,-162.6695 10402,-156 10393.7124,-147.4137 10384.9551,-137.6585 10377.3906,-128.9954\"/>\n<polygon fill=\"#000000\" stroke=\"#000000\" points=\"10380.0174,-126.6822 10370.8266,-121.4115 10374.7245,-131.2632 10380.0174,-126.6822\"/>\n<text text-anchor=\"middle\" x=\"10419\" y=\"-144.8\" font-family=\"Times,serif\" font-size=\"14.00\" fill=\"#000000\">vhigh</text>\n</g>\n<!-- unacc290 -->\n<g id=\"node297\" class=\"node\">\n<title>unacc290</title>\n<ellipse fill=\"none\" stroke=\"#000000\" cx=\"10440\" cy=\"-105\" rx=\"32.4942\" ry=\"18\"/>\n<text text-anchor=\"middle\" x=\"10440\" y=\"-101.3\" font-family=\"Times,serif\" font-size=\"14.00\" fill=\"#000000\">unacc</text>\n</g>\n<!-- buying288&#45;&gt;unacc290 -->\n<g id=\"edge296\" class=\"edge\">\n<title>buying288&#45;&gt;unacc290</title>\n<path fill=\"none\" stroke=\"#000000\" d=\"M10440,-173.9735C10440,-162.1918 10440,-146.5607 10440,-133.1581\"/>\n<polygon fill=\"#000000\" stroke=\"#000000\" points=\"10443.5001,-133.0033 10440,-123.0034 10436.5001,-133.0034 10443.5001,-133.0033\"/>\n<text text-anchor=\"middle\" x=\"10453.5\" y=\"-144.8\" font-family=\"Times,serif\" font-size=\"14.00\" fill=\"#000000\">high</text>\n</g>\n<!-- acc291 -->\n<g id=\"node298\" class=\"node\">\n<title>acc291</title>\n<ellipse fill=\"none\" stroke=\"#000000\" cx=\"10517\" cy=\"-105\" rx=\"27\" ry=\"18\"/>\n<text text-anchor=\"middle\" x=\"10517\" y=\"-101.3\" font-family=\"Times,serif\" font-size=\"14.00\" fill=\"#000000\">acc</text>\n</g>\n<!-- buying288&#45;&gt;acc291 -->\n<g id=\"edge297\" class=\"edge\">\n<title>buying288&#45;&gt;acc291</title>\n<path fill=\"none\" stroke=\"#000000\" d=\"M10454.8464,-175.2255C10466.6459,-161.8936 10483.285,-143.0936 10496.3781,-128.3001\"/>\n<polygon fill=\"#000000\" stroke=\"#000000\" points=\"10499.2272,-130.3619 10503.2339,-120.5539 10493.9854,-125.7225 10499.2272,-130.3619\"/>\n<text text-anchor=\"middle\" x=\"10496.5\" y=\"-144.8\" font-family=\"Times,serif\" font-size=\"14.00\" fill=\"#000000\">med</text>\n</g>\n<!-- doors292 -->\n<g id=\"node299\" class=\"node\">\n<title>doors292</title>\n<ellipse fill=\"none\" stroke=\"#000000\" cx=\"10594\" cy=\"-105\" rx=\"31.6951\" ry=\"18\"/>\n<text text-anchor=\"middle\" x=\"10594\" y=\"-101.3\" font-family=\"Times,serif\" font-size=\"14.00\" fill=\"#000000\">doors</text>\n</g>\n<!-- buying288&#45;&gt;doors292 -->\n<g id=\"edge298\" class=\"edge\">\n<title>buying288&#45;&gt;doors292</title>\n<path fill=\"none\" stroke=\"#000000\" d=\"M10467.3875,-179.324C10481.2361,-172.7062 10498.2011,-164.2786 10513,-156 10530.5789,-146.1662 10549.6702,-134.2113 10564.9007,-124.3484\"/>\n<polygon fill=\"#000000\" stroke=\"#000000\" points=\"10566.9191,-127.2106 10573.3815,-118.8149 10563.094,-121.3482 10566.9191,-127.2106\"/>\n<text text-anchor=\"middle\" x=\"10549\" y=\"-144.8\" font-family=\"Times,serif\" font-size=\"14.00\" fill=\"#000000\">low</text>\n</g>\n<!-- unacc293 -->\n<g id=\"node300\" class=\"node\">\n<title>unacc293</title>\n<ellipse fill=\"none\" stroke=\"#000000\" cx=\"10515\" cy=\"-18\" rx=\"32.4942\" ry=\"18\"/>\n<text text-anchor=\"middle\" x=\"10515\" y=\"-14.3\" font-family=\"Times,serif\" font-size=\"14.00\" fill=\"#000000\">unacc</text>\n</g>\n<!-- doors292&#45;&gt;unacc293 -->\n<g id=\"edge299\" class=\"edge\">\n<title>doors292&#45;&gt;unacc293</title>\n<path fill=\"none\" stroke=\"#000000\" d=\"M10579.1407,-88.636C10567.2236,-75.5121 10550.3244,-56.9015 10536.8636,-42.0777\"/>\n<polygon fill=\"#000000\" stroke=\"#000000\" points=\"10539.1063,-39.341 10529.7927,-34.2907 10533.924,-44.0468 10539.1063,-39.341\"/>\n<text text-anchor=\"middle\" x=\"10564\" y=\"-57.8\" font-family=\"Times,serif\" font-size=\"14.00\" fill=\"#000000\">2</text>\n</g>\n<!-- acc294 -->\n<g id=\"node301\" class=\"node\">\n<title>acc294</title>\n<ellipse fill=\"none\" stroke=\"#000000\" cx=\"10592\" cy=\"-18\" rx=\"27\" ry=\"18\"/>\n<text text-anchor=\"middle\" x=\"10592\" y=\"-14.3\" font-family=\"Times,serif\" font-size=\"14.00\" fill=\"#000000\">acc</text>\n</g>\n<!-- doors292&#45;&gt;acc294 -->\n<g id=\"edge300\" class=\"edge\">\n<title>doors292&#45;&gt;acc294</title>\n<path fill=\"none\" stroke=\"#000000\" d=\"M10593.5856,-86.9735C10593.3148,-75.1918 10592.9554,-59.5607 10592.6473,-46.1581\"/>\n<polygon fill=\"#000000\" stroke=\"#000000\" points=\"10596.1429,-45.9202 10592.4139,-36.0034 10589.1447,-46.0812 10596.1429,-45.9202\"/>\n<text text-anchor=\"middle\" x=\"10598\" y=\"-57.8\" font-family=\"Times,serif\" font-size=\"14.00\" fill=\"#000000\">3</text>\n</g>\n<!-- acc295 -->\n<g id=\"node302\" class=\"node\">\n<title>acc295</title>\n<ellipse fill=\"none\" stroke=\"#000000\" cx=\"10664\" cy=\"-18\" rx=\"27\" ry=\"18\"/>\n<text text-anchor=\"middle\" x=\"10664\" y=\"-14.3\" font-family=\"Times,serif\" font-size=\"14.00\" fill=\"#000000\">acc</text>\n</g>\n<!-- doors292&#45;&gt;acc295 -->\n<g id=\"edge301\" class=\"edge\">\n<title>doors292&#45;&gt;acc295</title>\n<path fill=\"none\" stroke=\"#000000\" d=\"M10607.4967,-88.2255C10617.9913,-75.1822 10632.6972,-56.9049 10644.4755,-42.2662\"/>\n<polygon fill=\"#000000\" stroke=\"#000000\" points=\"10647.4762,-44.12 10651.018,-34.1347 10642.0223,-39.7318 10647.4762,-44.12\"/>\n<text text-anchor=\"middle\" x=\"10652.5\" y=\"-57.8\" font-family=\"Times,serif\" font-size=\"14.00\" fill=\"#000000\">5more</text>\n</g>\n<!-- doors297 -->\n<g id=\"node304\" class=\"node\">\n<title>doors297</title>\n<ellipse fill=\"none\" stroke=\"#000000\" cx=\"10818\" cy=\"-105\" rx=\"31.6951\" ry=\"18\"/>\n<text text-anchor=\"middle\" x=\"10818\" y=\"-101.3\" font-family=\"Times,serif\" font-size=\"14.00\" fill=\"#000000\">doors</text>\n</g>\n<!-- buying296&#45;&gt;doors297 -->\n<g id=\"edge303\" class=\"edge\">\n<title>buying296&#45;&gt;doors297</title>\n<path fill=\"none\" stroke=\"#000000\" d=\"M10884.1896,-175.2255C10871.6661,-161.9384 10854.0232,-143.2198 10840.1016,-128.4492\"/>\n<polygon fill=\"#000000\" stroke=\"#000000\" points=\"10842.6133,-126.0112 10833.2074,-121.1347 10837.5193,-130.8124 10842.6133,-126.0112\"/>\n<text text-anchor=\"middle\" x=\"10876.5\" y=\"-144.8\" font-family=\"Times,serif\" font-size=\"14.00\" fill=\"#000000\">med</text>\n</g>\n<!-- unacc302 -->\n<g id=\"node309\" class=\"node\">\n<title>unacc302</title>\n<ellipse fill=\"none\" stroke=\"#000000\" cx=\"10900\" cy=\"-105\" rx=\"32.4942\" ry=\"18\"/>\n<text text-anchor=\"middle\" x=\"10900\" y=\"-101.3\" font-family=\"Times,serif\" font-size=\"14.00\" fill=\"#000000\">unacc</text>\n</g>\n<!-- buying296&#45;&gt;unacc302 -->\n<g id=\"edge308\" class=\"edge\">\n<title>buying296&#45;&gt;unacc302</title>\n<path fill=\"none\" stroke=\"#000000\" d=\"M10900,-173.9735C10900,-162.1918 10900,-146.5607 10900,-133.1581\"/>\n<polygon fill=\"#000000\" stroke=\"#000000\" points=\"10903.5001,-133.0033 10900,-123.0034 10896.5001,-133.0034 10903.5001,-133.0033\"/>\n<text text-anchor=\"middle\" x=\"10917\" y=\"-144.8\" font-family=\"Times,serif\" font-size=\"14.00\" fill=\"#000000\">vhigh</text>\n</g>\n<!-- acc303 -->\n<g id=\"node310\" class=\"node\">\n<title>acc303</title>\n<ellipse fill=\"none\" stroke=\"#000000\" cx=\"10977\" cy=\"-105\" rx=\"27\" ry=\"18\"/>\n<text text-anchor=\"middle\" x=\"10977\" y=\"-101.3\" font-family=\"Times,serif\" font-size=\"14.00\" fill=\"#000000\">acc</text>\n</g>\n<!-- buying296&#45;&gt;acc303 -->\n<g id=\"edge309\" class=\"edge\">\n<title>buying296&#45;&gt;acc303</title>\n<path fill=\"none\" stroke=\"#000000\" d=\"M10917.9789,-176.0722C10924.5084,-170.0059 10931.8003,-162.891 10938,-156 10945.3804,-147.7965 10952.8851,-138.3108 10959.3141,-129.7614\"/>\n<polygon fill=\"#000000\" stroke=\"#000000\" points=\"10962.2121,-131.7289 10965.3401,-121.6063 10956.5823,-127.5688 10962.2121,-131.7289\"/>\n<text text-anchor=\"middle\" x=\"10962\" y=\"-144.8\" font-family=\"Times,serif\" font-size=\"14.00\" fill=\"#000000\">low</text>\n</g>\n<!-- acc304 -->\n<g id=\"node311\" class=\"node\">\n<title>acc304</title>\n<ellipse fill=\"none\" stroke=\"#000000\" cx=\"11049\" cy=\"-105\" rx=\"27\" ry=\"18\"/>\n<text text-anchor=\"middle\" x=\"11049\" y=\"-101.3\" font-family=\"Times,serif\" font-size=\"14.00\" fill=\"#000000\">acc</text>\n</g>\n<!-- buying296&#45;&gt;acc304 -->\n<g id=\"edge310\" class=\"edge\">\n<title>buying296&#45;&gt;acc304</title>\n<path fill=\"none\" stroke=\"#000000\" d=\"M10928.7782,-180.0148C10943.519,-173.5112 10961.5652,-164.9777 10977,-156 10992.8584,-146.776 11009.6372,-135.0202 11023.0042,-125.1205\"/>\n<polygon fill=\"#000000\" stroke=\"#000000\" points=\"11025.3562,-127.7314 11031.2517,-118.9283 11021.1533,-122.1335 11025.3562,-127.7314\"/>\n<text text-anchor=\"middle\" x=\"11013.5\" y=\"-144.8\" font-family=\"Times,serif\" font-size=\"14.00\" fill=\"#000000\">high</text>\n</g>\n<!-- unacc298 -->\n<g id=\"node305\" class=\"node\">\n<title>unacc298</title>\n<ellipse fill=\"none\" stroke=\"#000000\" cx=\"10741\" cy=\"-18\" rx=\"32.4942\" ry=\"18\"/>\n<text text-anchor=\"middle\" x=\"10741\" y=\"-14.3\" font-family=\"Times,serif\" font-size=\"14.00\" fill=\"#000000\">unacc</text>\n</g>\n<!-- doors297&#45;&gt;unacc298 -->\n<g id=\"edge304\" class=\"edge\">\n<title>doors297&#45;&gt;unacc298</title>\n<path fill=\"none\" stroke=\"#000000\" d=\"M10803.5169,-88.636C10791.9015,-75.5121 10775.4301,-56.9015 10762.3101,-42.0777\"/>\n<polygon fill=\"#000000\" stroke=\"#000000\" points=\"10764.6667,-39.4593 10755.4182,-34.2907 10759.4249,-44.0987 10764.6667,-39.4593\"/>\n<text text-anchor=\"middle\" x=\"10789\" y=\"-57.8\" font-family=\"Times,serif\" font-size=\"14.00\" fill=\"#000000\">2</text>\n</g>\n<!-- acc299 -->\n<g id=\"node306\" class=\"node\">\n<title>acc299</title>\n<ellipse fill=\"none\" stroke=\"#000000\" cx=\"10818\" cy=\"-18\" rx=\"27\" ry=\"18\"/>\n<text text-anchor=\"middle\" x=\"10818\" y=\"-14.3\" font-family=\"Times,serif\" font-size=\"14.00\" fill=\"#000000\">acc</text>\n</g>\n<!-- doors297&#45;&gt;acc299 -->\n<g id=\"edge305\" class=\"edge\">\n<title>doors297&#45;&gt;acc299</title>\n<path fill=\"none\" stroke=\"#000000\" d=\"M10818,-86.9735C10818,-75.1918 10818,-59.5607 10818,-46.1581\"/>\n<polygon fill=\"#000000\" stroke=\"#000000\" points=\"10821.5001,-46.0033 10818,-36.0034 10814.5001,-46.0034 10821.5001,-46.0033\"/>\n<text text-anchor=\"middle\" x=\"10836.5\" y=\"-57.8\" font-family=\"Times,serif\" font-size=\"14.00\" fill=\"#000000\">5more</text>\n</g>\n<!-- acc300 -->\n<g id=\"node307\" class=\"node\">\n<title>acc300</title>\n<ellipse fill=\"none\" stroke=\"#000000\" cx=\"10890\" cy=\"-18\" rx=\"27\" ry=\"18\"/>\n<text text-anchor=\"middle\" x=\"10890\" y=\"-14.3\" font-family=\"Times,serif\" font-size=\"14.00\" fill=\"#000000\">acc</text>\n</g>\n<!-- doors297&#45;&gt;acc300 -->\n<g id=\"edge306\" class=\"edge\">\n<title>doors297&#45;&gt;acc300</title>\n<path fill=\"none\" stroke=\"#000000\" d=\"M10837.0849,-90.3269C10844.4065,-84.1854 10852.5453,-76.6913 10859,-69 10865.2914,-61.5033 10871.1603,-52.596 10876.062,-44.3394\"/>\n<polygon fill=\"#000000\" stroke=\"#000000\" points=\"10879.244,-45.8247 10881.1562,-35.4038 10873.1628,-42.3577 10879.244,-45.8247\"/>\n<text text-anchor=\"middle\" x=\"10874\" y=\"-57.8\" font-family=\"Times,serif\" font-size=\"14.00\" fill=\"#000000\">4</text>\n</g>\n<!-- acc301 -->\n<g id=\"node308\" class=\"node\">\n<title>acc301</title>\n<ellipse fill=\"none\" stroke=\"#000000\" cx=\"10962\" cy=\"-18\" rx=\"27\" ry=\"18\"/>\n<text text-anchor=\"middle\" x=\"10962\" y=\"-14.3\" font-family=\"Times,serif\" font-size=\"14.00\" fill=\"#000000\">acc</text>\n</g>\n<!-- doors297&#45;&gt;acc301 -->\n<g id=\"edge307\" class=\"edge\">\n<title>doors297&#45;&gt;acc301</title>\n<path fill=\"none\" stroke=\"#000000\" d=\"M10840.9835,-92.4735C10853.2507,-85.6869 10868.5505,-77.0614 10882,-69 10899.5967,-58.4529 10919.0082,-46.0961 10934.303,-36.1874\"/>\n<polygon fill=\"#000000\" stroke=\"#000000\" points=\"10936.3135,-39.0549 10942.7878,-30.6684 10932.4967,-33.1871 10936.3135,-39.0549\"/>\n<text text-anchor=\"middle\" x=\"10909\" y=\"-57.8\" font-family=\"Times,serif\" font-size=\"14.00\" fill=\"#000000\">3</text>\n</g>\n</g>\n</svg>\n"
          },
          "metadata": {},
          "execution_count": 58
        }
      ]
    },
    {
      "cell_type": "markdown",
      "source": [
        "##Predicting on Train Dataset"
      ],
      "metadata": {
        "id": "KSCHZmMQCnx0"
      }
    },
    {
      "cell_type": "code",
      "source": [
        "y_train_pred=d.predict(df)\n",
        "print(accuracy_score(df[target_name].tolist(),y_train_pred))"
      ],
      "metadata": {
        "colab": {
          "base_uri": "https://localhost:8080/"
        },
        "outputId": "6e5dbbe3-59fd-4764-e4df-7b3f362c6ba2",
        "id": "ydajFq4JCnx0"
      },
      "execution_count": 59,
      "outputs": [
        {
          "output_type": "stream",
          "name": "stdout",
          "text": [
            "100.0\n"
          ]
        }
      ]
    },
    {
      "cell_type": "markdown",
      "source": [
        "##Predicting on Test Dataset"
      ],
      "metadata": {
        "id": "hWpsZvBFCnx1"
      }
    },
    {
      "cell_type": "code",
      "source": [
        "y_test_pred=d.predict(test_df)\n",
        "accuracy_score(test_df[target_name].tolist(),y_test_pred)"
      ],
      "metadata": {
        "colab": {
          "base_uri": "https://localhost:8080/"
        },
        "outputId": "394bc4b8-8d54-4f11-c043-3f1b9ddd3614",
        "id": "sHYlqu5xCnx1"
      },
      "execution_count": 60,
      "outputs": [
        {
          "output_type": "execute_result",
          "data": {
            "text/plain": [
              "96.91119691119691"
            ]
          },
          "metadata": {},
          "execution_count": 60
        }
      ]
    },
    {
      "cell_type": "code",
      "source": [],
      "metadata": {
        "id": "3QTFSRyQCnx2"
      },
      "execution_count": 60,
      "outputs": []
    },
    {
      "cell_type": "markdown",
      "source": [
        "#Lenses Dataset"
      ],
      "metadata": {
        "id": "JrcC3JIdDG6P"
      }
    },
    {
      "cell_type": "code",
      "source": [
        "## Variables ##\n",
        "dataset='lenses'\n",
        "split_func='IG'"
      ],
      "metadata": {
        "id": "ixI7wypiDG6V"
      },
      "execution_count": 61,
      "outputs": []
    },
    {
      "cell_type": "markdown",
      "source": [
        "##Reading Datast"
      ],
      "metadata": {
        "id": "y0zBEhkCDG6V"
      }
    },
    {
      "cell_type": "code",
      "source": [
        "dataset_url,target_name=datasets[dataset]\n",
        "data=pd.read_csv(dataset_url)\n",
        "data=data.applymap(lambda x: x.strip() if isinstance(x, str) else x)"
      ],
      "metadata": {
        "id": "vHHrecjrDG6W"
      },
      "execution_count": 62,
      "outputs": []
    },
    {
      "cell_type": "code",
      "source": [
        "data"
      ],
      "metadata": {
        "colab": {
          "base_uri": "https://localhost:8080/",
          "height": 0
        },
        "outputId": "a242a8f2-1540-483e-ddd9-05f9f671a1ee",
        "id": "DS9fekqEDG6W"
      },
      "execution_count": 63,
      "outputs": [
        {
          "output_type": "execute_result",
          "data": {
            "text/plain": [
              "    age  spectacle  astigmatic  tear  Class\n",
              "0     1          1           1     1      3\n",
              "1     1          1           1     2      2\n",
              "2     1          1           2     1      3\n",
              "3     1          1           2     2      1\n",
              "4     1          2           1     1      3\n",
              "5     1          2           1     2      2\n",
              "6     1          2           2     1      3\n",
              "7     1          2           2     2      1\n",
              "8     2          1           1     1      3\n",
              "9     2          1           1     2      2\n",
              "10    2          1           2     1      3\n",
              "11    2          1           2     2      1\n",
              "12    2          2           1     1      3\n",
              "13    2          2           1     2      2\n",
              "14    2          2           2     1      3\n",
              "15    2          2           2     2      3\n",
              "16    3          1           1     1      3\n",
              "17    3          1           1     2      3\n",
              "18    3          1           2     1      3\n",
              "19    3          1           2     2      1\n",
              "20    3          2           1     1      3\n",
              "21    3          2           1     2      2\n",
              "22    3          2           2     1      3\n",
              "23    3          2           2     2      3"
            ],
            "text/html": [
              "\n",
              "  <div id=\"df-a6d98447-fe9d-40ab-9f96-077f469a0ad7\">\n",
              "    <div class=\"colab-df-container\">\n",
              "      <div>\n",
              "<style scoped>\n",
              "    .dataframe tbody tr th:only-of-type {\n",
              "        vertical-align: middle;\n",
              "    }\n",
              "\n",
              "    .dataframe tbody tr th {\n",
              "        vertical-align: top;\n",
              "    }\n",
              "\n",
              "    .dataframe thead th {\n",
              "        text-align: right;\n",
              "    }\n",
              "</style>\n",
              "<table border=\"1\" class=\"dataframe\">\n",
              "  <thead>\n",
              "    <tr style=\"text-align: right;\">\n",
              "      <th></th>\n",
              "      <th>age</th>\n",
              "      <th>spectacle</th>\n",
              "      <th>astigmatic</th>\n",
              "      <th>tear</th>\n",
              "      <th>Class</th>\n",
              "    </tr>\n",
              "  </thead>\n",
              "  <tbody>\n",
              "    <tr>\n",
              "      <th>0</th>\n",
              "      <td>1</td>\n",
              "      <td>1</td>\n",
              "      <td>1</td>\n",
              "      <td>1</td>\n",
              "      <td>3</td>\n",
              "    </tr>\n",
              "    <tr>\n",
              "      <th>1</th>\n",
              "      <td>1</td>\n",
              "      <td>1</td>\n",
              "      <td>1</td>\n",
              "      <td>2</td>\n",
              "      <td>2</td>\n",
              "    </tr>\n",
              "    <tr>\n",
              "      <th>2</th>\n",
              "      <td>1</td>\n",
              "      <td>1</td>\n",
              "      <td>2</td>\n",
              "      <td>1</td>\n",
              "      <td>3</td>\n",
              "    </tr>\n",
              "    <tr>\n",
              "      <th>3</th>\n",
              "      <td>1</td>\n",
              "      <td>1</td>\n",
              "      <td>2</td>\n",
              "      <td>2</td>\n",
              "      <td>1</td>\n",
              "    </tr>\n",
              "    <tr>\n",
              "      <th>4</th>\n",
              "      <td>1</td>\n",
              "      <td>2</td>\n",
              "      <td>1</td>\n",
              "      <td>1</td>\n",
              "      <td>3</td>\n",
              "    </tr>\n",
              "    <tr>\n",
              "      <th>5</th>\n",
              "      <td>1</td>\n",
              "      <td>2</td>\n",
              "      <td>1</td>\n",
              "      <td>2</td>\n",
              "      <td>2</td>\n",
              "    </tr>\n",
              "    <tr>\n",
              "      <th>6</th>\n",
              "      <td>1</td>\n",
              "      <td>2</td>\n",
              "      <td>2</td>\n",
              "      <td>1</td>\n",
              "      <td>3</td>\n",
              "    </tr>\n",
              "    <tr>\n",
              "      <th>7</th>\n",
              "      <td>1</td>\n",
              "      <td>2</td>\n",
              "      <td>2</td>\n",
              "      <td>2</td>\n",
              "      <td>1</td>\n",
              "    </tr>\n",
              "    <tr>\n",
              "      <th>8</th>\n",
              "      <td>2</td>\n",
              "      <td>1</td>\n",
              "      <td>1</td>\n",
              "      <td>1</td>\n",
              "      <td>3</td>\n",
              "    </tr>\n",
              "    <tr>\n",
              "      <th>9</th>\n",
              "      <td>2</td>\n",
              "      <td>1</td>\n",
              "      <td>1</td>\n",
              "      <td>2</td>\n",
              "      <td>2</td>\n",
              "    </tr>\n",
              "    <tr>\n",
              "      <th>10</th>\n",
              "      <td>2</td>\n",
              "      <td>1</td>\n",
              "      <td>2</td>\n",
              "      <td>1</td>\n",
              "      <td>3</td>\n",
              "    </tr>\n",
              "    <tr>\n",
              "      <th>11</th>\n",
              "      <td>2</td>\n",
              "      <td>1</td>\n",
              "      <td>2</td>\n",
              "      <td>2</td>\n",
              "      <td>1</td>\n",
              "    </tr>\n",
              "    <tr>\n",
              "      <th>12</th>\n",
              "      <td>2</td>\n",
              "      <td>2</td>\n",
              "      <td>1</td>\n",
              "      <td>1</td>\n",
              "      <td>3</td>\n",
              "    </tr>\n",
              "    <tr>\n",
              "      <th>13</th>\n",
              "      <td>2</td>\n",
              "      <td>2</td>\n",
              "      <td>1</td>\n",
              "      <td>2</td>\n",
              "      <td>2</td>\n",
              "    </tr>\n",
              "    <tr>\n",
              "      <th>14</th>\n",
              "      <td>2</td>\n",
              "      <td>2</td>\n",
              "      <td>2</td>\n",
              "      <td>1</td>\n",
              "      <td>3</td>\n",
              "    </tr>\n",
              "    <tr>\n",
              "      <th>15</th>\n",
              "      <td>2</td>\n",
              "      <td>2</td>\n",
              "      <td>2</td>\n",
              "      <td>2</td>\n",
              "      <td>3</td>\n",
              "    </tr>\n",
              "    <tr>\n",
              "      <th>16</th>\n",
              "      <td>3</td>\n",
              "      <td>1</td>\n",
              "      <td>1</td>\n",
              "      <td>1</td>\n",
              "      <td>3</td>\n",
              "    </tr>\n",
              "    <tr>\n",
              "      <th>17</th>\n",
              "      <td>3</td>\n",
              "      <td>1</td>\n",
              "      <td>1</td>\n",
              "      <td>2</td>\n",
              "      <td>3</td>\n",
              "    </tr>\n",
              "    <tr>\n",
              "      <th>18</th>\n",
              "      <td>3</td>\n",
              "      <td>1</td>\n",
              "      <td>2</td>\n",
              "      <td>1</td>\n",
              "      <td>3</td>\n",
              "    </tr>\n",
              "    <tr>\n",
              "      <th>19</th>\n",
              "      <td>3</td>\n",
              "      <td>1</td>\n",
              "      <td>2</td>\n",
              "      <td>2</td>\n",
              "      <td>1</td>\n",
              "    </tr>\n",
              "    <tr>\n",
              "      <th>20</th>\n",
              "      <td>3</td>\n",
              "      <td>2</td>\n",
              "      <td>1</td>\n",
              "      <td>1</td>\n",
              "      <td>3</td>\n",
              "    </tr>\n",
              "    <tr>\n",
              "      <th>21</th>\n",
              "      <td>3</td>\n",
              "      <td>2</td>\n",
              "      <td>1</td>\n",
              "      <td>2</td>\n",
              "      <td>2</td>\n",
              "    </tr>\n",
              "    <tr>\n",
              "      <th>22</th>\n",
              "      <td>3</td>\n",
              "      <td>2</td>\n",
              "      <td>2</td>\n",
              "      <td>1</td>\n",
              "      <td>3</td>\n",
              "    </tr>\n",
              "    <tr>\n",
              "      <th>23</th>\n",
              "      <td>3</td>\n",
              "      <td>2</td>\n",
              "      <td>2</td>\n",
              "      <td>2</td>\n",
              "      <td>3</td>\n",
              "    </tr>\n",
              "  </tbody>\n",
              "</table>\n",
              "</div>\n",
              "      <button class=\"colab-df-convert\" onclick=\"convertToInteractive('df-a6d98447-fe9d-40ab-9f96-077f469a0ad7')\"\n",
              "              title=\"Convert this dataframe to an interactive table.\"\n",
              "              style=\"display:none;\">\n",
              "        \n",
              "  <svg xmlns=\"http://www.w3.org/2000/svg\" height=\"24px\"viewBox=\"0 0 24 24\"\n",
              "       width=\"24px\">\n",
              "    <path d=\"M0 0h24v24H0V0z\" fill=\"none\"/>\n",
              "    <path d=\"M18.56 5.44l.94 2.06.94-2.06 2.06-.94-2.06-.94-.94-2.06-.94 2.06-2.06.94zm-11 1L8.5 8.5l.94-2.06 2.06-.94-2.06-.94L8.5 2.5l-.94 2.06-2.06.94zm10 10l.94 2.06.94-2.06 2.06-.94-2.06-.94-.94-2.06-.94 2.06-2.06.94z\"/><path d=\"M17.41 7.96l-1.37-1.37c-.4-.4-.92-.59-1.43-.59-.52 0-1.04.2-1.43.59L10.3 9.45l-7.72 7.72c-.78.78-.78 2.05 0 2.83L4 21.41c.39.39.9.59 1.41.59.51 0 1.02-.2 1.41-.59l7.78-7.78 2.81-2.81c.8-.78.8-2.07 0-2.86zM5.41 20L4 18.59l7.72-7.72 1.47 1.35L5.41 20z\"/>\n",
              "  </svg>\n",
              "      </button>\n",
              "      \n",
              "  <style>\n",
              "    .colab-df-container {\n",
              "      display:flex;\n",
              "      flex-wrap:wrap;\n",
              "      gap: 12px;\n",
              "    }\n",
              "\n",
              "    .colab-df-convert {\n",
              "      background-color: #E8F0FE;\n",
              "      border: none;\n",
              "      border-radius: 50%;\n",
              "      cursor: pointer;\n",
              "      display: none;\n",
              "      fill: #1967D2;\n",
              "      height: 32px;\n",
              "      padding: 0 0 0 0;\n",
              "      width: 32px;\n",
              "    }\n",
              "\n",
              "    .colab-df-convert:hover {\n",
              "      background-color: #E2EBFA;\n",
              "      box-shadow: 0px 1px 2px rgba(60, 64, 67, 0.3), 0px 1px 3px 1px rgba(60, 64, 67, 0.15);\n",
              "      fill: #174EA6;\n",
              "    }\n",
              "\n",
              "    [theme=dark] .colab-df-convert {\n",
              "      background-color: #3B4455;\n",
              "      fill: #D2E3FC;\n",
              "    }\n",
              "\n",
              "    [theme=dark] .colab-df-convert:hover {\n",
              "      background-color: #434B5C;\n",
              "      box-shadow: 0px 1px 3px 1px rgba(0, 0, 0, 0.15);\n",
              "      filter: drop-shadow(0px 1px 2px rgba(0, 0, 0, 0.3));\n",
              "      fill: #FFFFFF;\n",
              "    }\n",
              "  </style>\n",
              "\n",
              "      <script>\n",
              "        const buttonEl =\n",
              "          document.querySelector('#df-a6d98447-fe9d-40ab-9f96-077f469a0ad7 button.colab-df-convert');\n",
              "        buttonEl.style.display =\n",
              "          google.colab.kernel.accessAllowed ? 'block' : 'none';\n",
              "\n",
              "        async function convertToInteractive(key) {\n",
              "          const element = document.querySelector('#df-a6d98447-fe9d-40ab-9f96-077f469a0ad7');\n",
              "          const dataTable =\n",
              "            await google.colab.kernel.invokeFunction('convertToInteractive',\n",
              "                                                     [key], {});\n",
              "          if (!dataTable) return;\n",
              "\n",
              "          const docLinkHtml = 'Like what you see? Visit the ' +\n",
              "            '<a target=\"_blank\" href=https://colab.research.google.com/notebooks/data_table.ipynb>data table notebook</a>'\n",
              "            + ' to learn more about interactive tables.';\n",
              "          element.innerHTML = '';\n",
              "          dataTable['output_type'] = 'display_data';\n",
              "          await google.colab.output.renderOutput(dataTable, element);\n",
              "          const docLink = document.createElement('div');\n",
              "          docLink.innerHTML = docLinkHtml;\n",
              "          element.appendChild(docLink);\n",
              "        }\n",
              "      </script>\n",
              "    </div>\n",
              "  </div>\n",
              "  "
            ]
          },
          "metadata": {},
          "execution_count": 63
        }
      ]
    },
    {
      "cell_type": "code",
      "source": [
        "data.dtypes"
      ],
      "metadata": {
        "colab": {
          "base_uri": "https://localhost:8080/"
        },
        "outputId": "3108e0de-d4cf-4db3-e425-13395b7d8d96",
        "id": "hebqb9MADG6W"
      },
      "execution_count": 64,
      "outputs": [
        {
          "output_type": "execute_result",
          "data": {
            "text/plain": [
              "age           int64\n",
              "spectacle     int64\n",
              "astigmatic    int64\n",
              "tear          int64\n",
              "Class         int64\n",
              "dtype: object"
            ]
          },
          "metadata": {},
          "execution_count": 64
        }
      ]
    },
    {
      "cell_type": "code",
      "source": [
        "# test_df=data\n",
        "df,test_df=train_test_split(data,0.3)\n",
        "print(\"Size of Train Dataset: \",len(df),\"\\n\",\"Size of Test Dataset: \",len(test_df))\n",
        "\n",
        "\n",
        "# from sklearn.model_selection import train_test_split\n",
        "# df,test_df=test_train_split(df,test_size=0.3)"
      ],
      "metadata": {
        "colab": {
          "base_uri": "https://localhost:8080/"
        },
        "outputId": "f5d53072-cfbc-42ef-ebb5-a15e849a69ac",
        "id": "3bgsBIDGDG6W"
      },
      "execution_count": 65,
      "outputs": [
        {
          "output_type": "stream",
          "name": "stdout",
          "text": [
            "Size of Train Dataset:  17 \n",
            " Size of Test Dataset:  7\n"
          ]
        }
      ]
    },
    {
      "cell_type": "code",
      "source": [
        "print(df.count())\n",
        "print(sum(df[target_name].value_counts().to_dict().values()))"
      ],
      "metadata": {
        "colab": {
          "base_uri": "https://localhost:8080/"
        },
        "outputId": "66042b1b-e1ce-43b4-a4fe-7988381d4ce6",
        "id": "Z8R7HHobDG6W"
      },
      "execution_count": 66,
      "outputs": [
        {
          "output_type": "stream",
          "name": "stdout",
          "text": [
            "age           17\n",
            "spectacle     17\n",
            "astigmatic    17\n",
            "tear          17\n",
            "Class         17\n",
            "dtype: int64\n",
            "17\n"
          ]
        }
      ]
    },
    {
      "cell_type": "markdown",
      "source": [
        "##Descion Tree Training"
      ],
      "metadata": {
        "id": "nnYmzFNCDG6W"
      }
    },
    {
      "cell_type": "code",
      "source": [
        "d=DecisionTree(data,target_name,split_function=split_func)"
      ],
      "metadata": {
        "id": "sRaBF8mzDG6W"
      },
      "execution_count": 67,
      "outputs": []
    },
    {
      "cell_type": "code",
      "source": [
        "d.construct()"
      ],
      "metadata": {
        "id": "_aMcdvoQDG6W"
      },
      "execution_count": 68,
      "outputs": []
    },
    {
      "cell_type": "code",
      "source": [
        "print(d.tree.no_leafs)"
      ],
      "metadata": {
        "colab": {
          "base_uri": "https://localhost:8080/"
        },
        "outputId": "f3761bfb-d331-4909-c3f9-88edbc112589",
        "id": "XjMNLQUWDG6X"
      },
      "execution_count": 69,
      "outputs": [
        {
          "output_type": "stream",
          "name": "stdout",
          "text": [
            "7\n"
          ]
        }
      ]
    },
    {
      "cell_type": "code",
      "source": [
        "d.get_rules()"
      ],
      "metadata": {
        "colab": {
          "base_uri": "https://localhost:8080/"
        },
        "outputId": "484e3928-ee67-4eae-c6b2-eefb6bc3ed8d",
        "id": "WlpLZaffDG6X"
      },
      "execution_count": 70,
      "outputs": [
        {
          "output_type": "stream",
          "name": "stderr",
          "text": [
            "/usr/local/lib/python3.7/dist-packages/ipykernel_launcher.py:175: FutureWarning: elementwise comparison failed; returning scalar instead, but in the future will perform elementwise comparison\n"
          ]
        },
        {
          "output_type": "execute_result",
          "data": {
            "text/plain": [
              "['tear ->  ( 1 ) 3',\n",
              " 'tear ->  ( 2 ) astigmatic ->  ( 2 ) spectacle ->  ( 1 ) 1',\n",
              " 'tear ->  ( 2 ) astigmatic ->  ( 2 ) spectacle ->  ( 2 ) age ->  ( 3 ) 3',\n",
              " 'tear ->  ( 2 ) astigmatic ->  ( 2 ) spectacle ->  ( 2 ) age ->  ( 1 ) 1',\n",
              " 'tear ->  ( 2 ) astigmatic ->  ( 2 ) spectacle ->  ( 2 ) age ->  ( 2 ) 3',\n",
              " 'tear ->  ( 2 ) astigmatic ->  ( 1 ) spectacle ->  ( 2 ) 2',\n",
              " 'tear ->  ( 2 ) astigmatic ->  ( 1 ) spectacle ->  ( 1 ) 3']"
            ]
          },
          "metadata": {},
          "execution_count": 70
        }
      ]
    },
    {
      "cell_type": "code",
      "source": [
        "d.tree.printt()"
      ],
      "metadata": {
        "colab": {
          "base_uri": "https://localhost:8080/"
        },
        "outputId": "1500513e-971a-4cd8-dd68-172fd1e5fe08",
        "id": "ja58F0qADG6X"
      },
      "execution_count": 71,
      "outputs": [
        {
          "output_type": "stream",
          "name": "stdout",
          "text": [
            "| tear\n",
            "|----- ( 1) 3\n",
            "|----- ( 2) astigmatic\n",
            "|---------- ( 2) spectacle\n",
            "|--------------- ( 1) 1\n",
            "|--------------- ( 2) age\n",
            "|-------------------- ( 3) 3\n",
            "|-------------------- ( 1) 1\n",
            "|-------------------- ( 2) 3\n",
            "|---------- ( 1) spectacle5\n",
            "|--------------- ( 2) 2\n",
            "|--------------- ( 1) 3\n"
          ]
        }
      ]
    },
    {
      "cell_type": "markdown",
      "source": [
        "##Graphviz Representation of Decision Tree"
      ],
      "metadata": {
        "id": "JJ5PA6F8DG6X"
      }
    },
    {
      "cell_type": "code",
      "source": [
        "f = open(\"Lenses.dot\", \"w\")\n",
        "f.write(str(d.getGraph()))\n",
        "f.close()"
      ],
      "metadata": {
        "id": "p-UvmyHaOrYq"
      },
      "execution_count": 72,
      "outputs": []
    },
    {
      "cell_type": "code",
      "source": [
        "d.getGraph()"
      ],
      "metadata": {
        "colab": {
          "base_uri": "https://localhost:8080/",
          "height": 0
        },
        "outputId": "e3781533-3860-4e29-da28-ed33ccafaa6d",
        "id": "Iai-fHeEDG6X"
      },
      "execution_count": 73,
      "outputs": [
        {
          "output_type": "execute_result",
          "data": {
            "text/plain": [
              "<graphviz.dot.Digraph at 0x7f0fa2d0d4d0>"
            ],
            "image/svg+xml": "<?xml version=\"1.0\" encoding=\"UTF-8\" standalone=\"no\"?>\n<!DOCTYPE svg PUBLIC \"-//W3C//DTD SVG 1.1//EN\"\n \"http://www.w3.org/Graphics/SVG/1.1/DTD/svg11.dtd\">\n<!-- Generated by graphviz version 2.40.1 (20161225.0304)\n -->\n<!-- Title: %3 Pages: 1 -->\n<svg width=\"282pt\" height=\"392pt\"\n viewBox=\"0.00 0.00 282.00 392.00\" xmlns=\"http://www.w3.org/2000/svg\" xmlns:xlink=\"http://www.w3.org/1999/xlink\">\n<g id=\"graph0\" class=\"graph\" transform=\"scale(1 1) rotate(0) translate(4 388)\">\n<title>%3</title>\n<polygon fill=\"#ffffff\" stroke=\"transparent\" points=\"-4,4 -4,-388 278,-388 278,4 -4,4\"/>\n<!-- tear -->\n<g id=\"node1\" class=\"node\">\n<title>tear</title>\n<ellipse fill=\"none\" stroke=\"#000000\" cx=\"75\" cy=\"-366\" rx=\"27\" ry=\"18\"/>\n<text text-anchor=\"middle\" x=\"75\" y=\"-362.3\" font-family=\"Times,serif\" font-size=\"14.00\" fill=\"#000000\">tear</text>\n</g>\n<!-- class0 -->\n<g id=\"node2\" class=\"node\">\n<title>class0</title>\n<ellipse fill=\"none\" stroke=\"#000000\" cx=\"44\" cy=\"-279\" rx=\"27\" ry=\"18\"/>\n<text text-anchor=\"middle\" x=\"44\" y=\"-275.3\" font-family=\"Times,serif\" font-size=\"14.00\" fill=\"#000000\">3</text>\n</g>\n<!-- tear&#45;&gt;class0 -->\n<g id=\"edge1\" class=\"edge\">\n<title>tear&#45;&gt;class0</title>\n<path fill=\"none\" stroke=\"#000000\" d=\"M68.7267,-348.3943C64.3988,-336.2482 58.562,-319.8674 53.646,-306.0711\"/>\n<polygon fill=\"#000000\" stroke=\"#000000\" points=\"56.9175,-304.8246 50.264,-296.5796 50.3236,-307.1742 56.9175,-304.8246\"/>\n<text text-anchor=\"middle\" x=\"66\" y=\"-318.8\" font-family=\"Times,serif\" font-size=\"14.00\" fill=\"#000000\">1</text>\n</g>\n<!-- astigmatic -->\n<g id=\"node3\" class=\"node\">\n<title>astigmatic</title>\n<ellipse fill=\"none\" stroke=\"#000000\" cx=\"137\" cy=\"-279\" rx=\"48.1917\" ry=\"18\"/>\n<text text-anchor=\"middle\" x=\"137\" y=\"-275.3\" font-family=\"Times,serif\" font-size=\"14.00\" fill=\"#000000\">astigmatic</text>\n</g>\n<!-- tear&#45;&gt;astigmatic -->\n<g id=\"edge2\" class=\"edge\">\n<title>tear&#45;&gt;astigmatic</title>\n<path fill=\"none\" stroke=\"#000000\" d=\"M86.6617,-349.636C95.6088,-337.0812 108.1341,-319.5054 118.4521,-305.0268\"/>\n<polygon fill=\"#000000\" stroke=\"#000000\" points=\"121.5863,-306.6597 124.5396,-296.4848 115.8857,-302.5972 121.5863,-306.6597\"/>\n<text text-anchor=\"middle\" x=\"114\" y=\"-318.8\" font-family=\"Times,serif\" font-size=\"14.00\" fill=\"#000000\">2</text>\n</g>\n<!-- spectacle -->\n<g id=\"node4\" class=\"node\">\n<title>spectacle</title>\n<ellipse fill=\"none\" stroke=\"#000000\" cx=\"75\" cy=\"-192\" rx=\"43.5923\" ry=\"18\"/>\n<text text-anchor=\"middle\" x=\"75\" y=\"-188.3\" font-family=\"Times,serif\" font-size=\"14.00\" fill=\"#000000\">spectacle</text>\n</g>\n<!-- astigmatic&#45;&gt;spectacle -->\n<g id=\"edge3\" class=\"edge\">\n<title>astigmatic&#45;&gt;spectacle</title>\n<path fill=\"none\" stroke=\"#000000\" d=\"M124.4534,-261.3943C115.4869,-248.8122 103.2819,-231.6859 93.2406,-217.5957\"/>\n<polygon fill=\"#000000\" stroke=\"#000000\" points=\"95.9702,-215.3951 87.3164,-209.2827 90.2697,-219.4576 95.9702,-215.3951\"/>\n<text text-anchor=\"middle\" x=\"114\" y=\"-231.8\" font-family=\"Times,serif\" font-size=\"14.00\" fill=\"#000000\">2</text>\n</g>\n<!-- spectacle5 -->\n<g id=\"node10\" class=\"node\">\n<title>spectacle5</title>\n<ellipse fill=\"none\" stroke=\"#000000\" cx=\"180\" cy=\"-192\" rx=\"43.5923\" ry=\"18\"/>\n<text text-anchor=\"middle\" x=\"180\" y=\"-188.3\" font-family=\"Times,serif\" font-size=\"14.00\" fill=\"#000000\">spectacle</text>\n</g>\n<!-- astigmatic&#45;&gt;spectacle5 -->\n<g id=\"edge9\" class=\"edge\">\n<title>astigmatic&#45;&gt;spectacle5</title>\n<path fill=\"none\" stroke=\"#000000\" d=\"M145.9096,-260.9735C151.9457,-248.7609 160.0261,-232.4123 166.8049,-218.697\"/>\n<polygon fill=\"#000000\" stroke=\"#000000\" points=\"169.9557,-220.2213 171.2489,-209.7057 163.6803,-217.1197 169.9557,-220.2213\"/>\n<text text-anchor=\"middle\" x=\"166\" y=\"-231.8\" font-family=\"Times,serif\" font-size=\"14.00\" fill=\"#000000\">1</text>\n</g>\n<!-- class1 -->\n<g id=\"node5\" class=\"node\">\n<title>class1</title>\n<ellipse fill=\"none\" stroke=\"#000000\" cx=\"27\" cy=\"-105\" rx=\"27\" ry=\"18\"/>\n<text text-anchor=\"middle\" x=\"27\" y=\"-101.3\" font-family=\"Times,serif\" font-size=\"14.00\" fill=\"#000000\">1</text>\n</g>\n<!-- spectacle&#45;&gt;class1 -->\n<g id=\"edge4\" class=\"edge\">\n<title>spectacle&#45;&gt;class1</title>\n<path fill=\"none\" stroke=\"#000000\" d=\"M65.2865,-174.3943C58.4311,-161.9689 49.1307,-145.1119 41.413,-131.1236\"/>\n<polygon fill=\"#000000\" stroke=\"#000000\" points=\"44.2677,-129.0525 36.3724,-121.9875 38.1387,-132.4341 44.2677,-129.0525\"/>\n<text text-anchor=\"middle\" x=\"58\" y=\"-144.8\" font-family=\"Times,serif\" font-size=\"14.00\" fill=\"#000000\">1</text>\n</g>\n<!-- age -->\n<g id=\"node6\" class=\"node\">\n<title>age</title>\n<ellipse fill=\"none\" stroke=\"#000000\" cx=\"99\" cy=\"-105\" rx=\"27\" ry=\"18\"/>\n<text text-anchor=\"middle\" x=\"99\" y=\"-101.3\" font-family=\"Times,serif\" font-size=\"14.00\" fill=\"#000000\">age</text>\n</g>\n<!-- spectacle&#45;&gt;age -->\n<g id=\"edge5\" class=\"edge\">\n<title>spectacle&#45;&gt;age</title>\n<path fill=\"none\" stroke=\"#000000\" d=\"M79.9728,-173.9735C83.277,-161.9958 87.6787,-146.0396 91.4162,-132.4912\"/>\n<polygon fill=\"#000000\" stroke=\"#000000\" points=\"94.8303,-133.2764 94.1157,-122.7057 88.0823,-131.4148 94.8303,-133.2764\"/>\n<text text-anchor=\"middle\" x=\"93\" y=\"-144.8\" font-family=\"Times,serif\" font-size=\"14.00\" fill=\"#000000\">2</text>\n</g>\n<!-- class2 -->\n<g id=\"node7\" class=\"node\">\n<title>class2</title>\n<ellipse fill=\"none\" stroke=\"#000000\" cx=\"27\" cy=\"-18\" rx=\"27\" ry=\"18\"/>\n<text text-anchor=\"middle\" x=\"27\" y=\"-14.3\" font-family=\"Times,serif\" font-size=\"14.00\" fill=\"#000000\">3</text>\n</g>\n<!-- age&#45;&gt;class2 -->\n<g id=\"edge6\" class=\"edge\">\n<title>age&#45;&gt;class2</title>\n<path fill=\"none\" stroke=\"#000000\" d=\"M85.7941,-89.0429C74.8328,-75.798 59.0821,-56.7659 46.6416,-41.7336\"/>\n<polygon fill=\"#000000\" stroke=\"#000000\" points=\"49.1943,-39.3284 40.1222,-33.856 43.8015,-43.7914 49.1943,-39.3284\"/>\n<text text-anchor=\"middle\" x=\"72\" y=\"-57.8\" font-family=\"Times,serif\" font-size=\"14.00\" fill=\"#000000\">3</text>\n</g>\n<!-- class3 -->\n<g id=\"node8\" class=\"node\">\n<title>class3</title>\n<ellipse fill=\"none\" stroke=\"#000000\" cx=\"99\" cy=\"-18\" rx=\"27\" ry=\"18\"/>\n<text text-anchor=\"middle\" x=\"99\" y=\"-14.3\" font-family=\"Times,serif\" font-size=\"14.00\" fill=\"#000000\">1</text>\n</g>\n<!-- age&#45;&gt;class3 -->\n<g id=\"edge7\" class=\"edge\">\n<title>age&#45;&gt;class3</title>\n<path fill=\"none\" stroke=\"#000000\" d=\"M99,-86.9735C99,-75.1918 99,-59.5607 99,-46.1581\"/>\n<polygon fill=\"#000000\" stroke=\"#000000\" points=\"102.5001,-46.0033 99,-36.0034 95.5001,-46.0034 102.5001,-46.0033\"/>\n<text text-anchor=\"middle\" x=\"103\" y=\"-57.8\" font-family=\"Times,serif\" font-size=\"14.00\" fill=\"#000000\">1</text>\n</g>\n<!-- class4 -->\n<g id=\"node9\" class=\"node\">\n<title>class4</title>\n<ellipse fill=\"none\" stroke=\"#000000\" cx=\"171\" cy=\"-18\" rx=\"27\" ry=\"18\"/>\n<text text-anchor=\"middle\" x=\"171\" y=\"-14.3\" font-family=\"Times,serif\" font-size=\"14.00\" fill=\"#000000\">3</text>\n</g>\n<!-- age&#45;&gt;class4 -->\n<g id=\"edge8\" class=\"edge\">\n<title>age&#45;&gt;class4</title>\n<path fill=\"none\" stroke=\"#000000\" d=\"M112.2059,-89.0429C123.1672,-75.798 138.9179,-56.7659 151.3584,-41.7336\"/>\n<polygon fill=\"#000000\" stroke=\"#000000\" points=\"154.1985,-43.7914 157.8778,-33.856 148.8057,-39.3284 154.1985,-43.7914\"/>\n<text text-anchor=\"middle\" x=\"144\" y=\"-57.8\" font-family=\"Times,serif\" font-size=\"14.00\" fill=\"#000000\">2</text>\n</g>\n<!-- class6 -->\n<g id=\"node11\" class=\"node\">\n<title>class6</title>\n<ellipse fill=\"none\" stroke=\"#000000\" cx=\"175\" cy=\"-105\" rx=\"27\" ry=\"18\"/>\n<text text-anchor=\"middle\" x=\"175\" y=\"-101.3\" font-family=\"Times,serif\" font-size=\"14.00\" fill=\"#000000\">2</text>\n</g>\n<!-- spectacle5&#45;&gt;class6 -->\n<g id=\"edge10\" class=\"edge\">\n<title>spectacle5&#45;&gt;class6</title>\n<path fill=\"none\" stroke=\"#000000\" d=\"M178.964,-173.9735C178.2869,-162.1918 177.3885,-146.5607 176.6183,-133.1581\"/>\n<polygon fill=\"#000000\" stroke=\"#000000\" points=\"180.1028,-132.786 176.0347,-123.0034 173.1143,-133.1877 180.1028,-132.786\"/>\n<text text-anchor=\"middle\" x=\"181\" y=\"-144.8\" font-family=\"Times,serif\" font-size=\"14.00\" fill=\"#000000\">2</text>\n</g>\n<!-- class7 -->\n<g id=\"node12\" class=\"node\">\n<title>class7</title>\n<ellipse fill=\"none\" stroke=\"#000000\" cx=\"247\" cy=\"-105\" rx=\"27\" ry=\"18\"/>\n<text text-anchor=\"middle\" x=\"247\" y=\"-101.3\" font-family=\"Times,serif\" font-size=\"14.00\" fill=\"#000000\">3</text>\n</g>\n<!-- spectacle5&#45;&gt;class7 -->\n<g id=\"edge11\" class=\"edge\">\n<title>spectacle5&#45;&gt;class7</title>\n<path fill=\"none\" stroke=\"#000000\" d=\"M193.237,-174.8116C203.2473,-161.8133 217.124,-143.7943 228.2718,-129.3187\"/>\n<polygon fill=\"#000000\" stroke=\"#000000\" points=\"231.1417,-131.3284 234.4703,-121.2699 225.5957,-127.0573 231.1417,-131.3284\"/>\n<text text-anchor=\"middle\" x=\"221\" y=\"-144.8\" font-family=\"Times,serif\" font-size=\"14.00\" fill=\"#000000\">1</text>\n</g>\n</g>\n</svg>\n"
          },
          "metadata": {},
          "execution_count": 73
        }
      ]
    },
    {
      "cell_type": "markdown",
      "source": [
        "##Predicting on Train Dataset"
      ],
      "metadata": {
        "id": "EsNbzsD0DG6X"
      }
    },
    {
      "cell_type": "code",
      "source": [
        "y_train_pred=d.predict(df)\n",
        "print(accuracy_score(df[target_name].tolist(),y_train_pred))"
      ],
      "metadata": {
        "colab": {
          "base_uri": "https://localhost:8080/"
        },
        "outputId": "3862799f-e2d3-489a-8877-99bcc1221de4",
        "id": "Phu2XDuWDG6X"
      },
      "execution_count": 74,
      "outputs": [
        {
          "output_type": "stream",
          "name": "stdout",
          "text": [
            "100.0\n"
          ]
        },
        {
          "output_type": "stream",
          "name": "stderr",
          "text": [
            "/usr/local/lib/python3.7/dist-packages/ipykernel_launcher.py:157: FutureWarning: elementwise comparison failed; returning scalar instead, but in the future will perform elementwise comparison\n"
          ]
        }
      ]
    },
    {
      "cell_type": "markdown",
      "source": [
        "##Predicting on Test Dataset"
      ],
      "metadata": {
        "id": "dg9JwYk4DG6X"
      }
    },
    {
      "cell_type": "code",
      "source": [
        "y_test_pred=d.predict(test_df)\n",
        "accuracy_score(test_df[target_name].tolist(),y_test_pred)"
      ],
      "metadata": {
        "colab": {
          "base_uri": "https://localhost:8080/"
        },
        "outputId": "67595d9b-5045-4bda-bc9b-4753c7127e7a",
        "id": "q62ly0cMDG6X"
      },
      "execution_count": 75,
      "outputs": [
        {
          "output_type": "stream",
          "name": "stderr",
          "text": [
            "/usr/local/lib/python3.7/dist-packages/ipykernel_launcher.py:157: FutureWarning: elementwise comparison failed; returning scalar instead, but in the future will perform elementwise comparison\n"
          ]
        },
        {
          "output_type": "execute_result",
          "data": {
            "text/plain": [
              "85.71428571428571"
            ]
          },
          "metadata": {},
          "execution_count": 75
        }
      ]
    },
    {
      "cell_type": "code",
      "source": [],
      "metadata": {
        "id": "svShbILMDG6X"
      },
      "execution_count": 75,
      "outputs": []
    },
    {
      "cell_type": "markdown",
      "source": [
        "#Chess Dataset"
      ],
      "metadata": {
        "id": "CUG2ZceDDnia"
      }
    },
    {
      "cell_type": "code",
      "source": [
        "## Variables ##\n",
        "dataset='chess'\n",
        "split_func='IG'"
      ],
      "metadata": {
        "id": "h4Qo4K8HDnia"
      },
      "execution_count": 76,
      "outputs": []
    },
    {
      "cell_type": "markdown",
      "source": [
        "##Reading Datast"
      ],
      "metadata": {
        "id": "8LYWOmX8Dnia"
      }
    },
    {
      "cell_type": "code",
      "source": [
        "dataset_url,target_name=datasets[dataset]\n",
        "data=pd.read_csv(dataset_url)\n",
        "data=data.applymap(lambda x: x.strip() if isinstance(x, str) else x)"
      ],
      "metadata": {
        "id": "vtpUPxLoDnia"
      },
      "execution_count": 77,
      "outputs": []
    },
    {
      "cell_type": "code",
      "source": [
        "data"
      ],
      "metadata": {
        "colab": {
          "base_uri": "https://localhost:8080/",
          "height": 0
        },
        "outputId": "f0be866e-61a4-4898-907a-bd93cd307c61",
        "id": "kGSiZ4FlDnia"
      },
      "execution_count": 78,
      "outputs": [
        {
          "output_type": "execute_result",
          "data": {
            "text/plain": [
              "     bkblk bknwy bkon8 bkona bkspr bkxbq bkxcr bkxwp blxwp bxqsq  ... spcop  \\\n",
              "0        f     f     f     f     f     f     f     f     f     f  ...     f   \n",
              "1        f     f     f     f     t     f     f     f     f     f  ...     f   \n",
              "2        f     f     f     f     t     f     t     f     f     f  ...     f   \n",
              "3        f     f     f     f     f     f     f     f     t     f  ...     f   \n",
              "4        f     f     f     f     f     f     f     f     f     f  ...     f   \n",
              "...    ...   ...   ...   ...   ...   ...   ...   ...   ...   ...  ...   ...   \n",
              "3191     t     f     f     f     f     f     t     f     f     f  ...     f   \n",
              "3192     t     f     f     f     f     f     t     f     f     f  ...     f   \n",
              "3193     t     f     f     f     f     f     t     f     f     f  ...     f   \n",
              "3194     t     f     t     f     f     f     t     f     f     f  ...     f   \n",
              "3195     t     f     t     f     f     f     t     f     f     f  ...     f   \n",
              "\n",
              "     stlmt thrsk wkcti wkna8 wknck wkovl wkpos wtoeg result  \n",
              "0        f     f     f     f     f     t     t     n    won  \n",
              "1        f     f     f     f     f     t     t     n    won  \n",
              "2        f     f     f     f     f     t     t     n    won  \n",
              "3        f     f     f     f     f     t     t     n    won  \n",
              "4        f     f     f     f     f     t     t     n    won  \n",
              "...    ...   ...   ...   ...   ...   ...   ...   ...    ...  \n",
              "3191     t     f     f     t     f     t     f     n  nowin  \n",
              "3192     t     f     f     t     f     t     f     n  nowin  \n",
              "3193     t     f     f     t     f     t     f     n  nowin  \n",
              "3194     t     f     f     t     f     f     f     n  nowin  \n",
              "3195     t     f     f     t     f     f     f     n  nowin  \n",
              "\n",
              "[3196 rows x 37 columns]"
            ],
            "text/html": [
              "\n",
              "  <div id=\"df-6b25c87e-bf4f-4558-a5d9-852c8b66ec2c\">\n",
              "    <div class=\"colab-df-container\">\n",
              "      <div>\n",
              "<style scoped>\n",
              "    .dataframe tbody tr th:only-of-type {\n",
              "        vertical-align: middle;\n",
              "    }\n",
              "\n",
              "    .dataframe tbody tr th {\n",
              "        vertical-align: top;\n",
              "    }\n",
              "\n",
              "    .dataframe thead th {\n",
              "        text-align: right;\n",
              "    }\n",
              "</style>\n",
              "<table border=\"1\" class=\"dataframe\">\n",
              "  <thead>\n",
              "    <tr style=\"text-align: right;\">\n",
              "      <th></th>\n",
              "      <th>bkblk</th>\n",
              "      <th>bknwy</th>\n",
              "      <th>bkon8</th>\n",
              "      <th>bkona</th>\n",
              "      <th>bkspr</th>\n",
              "      <th>bkxbq</th>\n",
              "      <th>bkxcr</th>\n",
              "      <th>bkxwp</th>\n",
              "      <th>blxwp</th>\n",
              "      <th>bxqsq</th>\n",
              "      <th>...</th>\n",
              "      <th>spcop</th>\n",
              "      <th>stlmt</th>\n",
              "      <th>thrsk</th>\n",
              "      <th>wkcti</th>\n",
              "      <th>wkna8</th>\n",
              "      <th>wknck</th>\n",
              "      <th>wkovl</th>\n",
              "      <th>wkpos</th>\n",
              "      <th>wtoeg</th>\n",
              "      <th>result</th>\n",
              "    </tr>\n",
              "  </thead>\n",
              "  <tbody>\n",
              "    <tr>\n",
              "      <th>0</th>\n",
              "      <td>f</td>\n",
              "      <td>f</td>\n",
              "      <td>f</td>\n",
              "      <td>f</td>\n",
              "      <td>f</td>\n",
              "      <td>f</td>\n",
              "      <td>f</td>\n",
              "      <td>f</td>\n",
              "      <td>f</td>\n",
              "      <td>f</td>\n",
              "      <td>...</td>\n",
              "      <td>f</td>\n",
              "      <td>f</td>\n",
              "      <td>f</td>\n",
              "      <td>f</td>\n",
              "      <td>f</td>\n",
              "      <td>f</td>\n",
              "      <td>t</td>\n",
              "      <td>t</td>\n",
              "      <td>n</td>\n",
              "      <td>won</td>\n",
              "    </tr>\n",
              "    <tr>\n",
              "      <th>1</th>\n",
              "      <td>f</td>\n",
              "      <td>f</td>\n",
              "      <td>f</td>\n",
              "      <td>f</td>\n",
              "      <td>t</td>\n",
              "      <td>f</td>\n",
              "      <td>f</td>\n",
              "      <td>f</td>\n",
              "      <td>f</td>\n",
              "      <td>f</td>\n",
              "      <td>...</td>\n",
              "      <td>f</td>\n",
              "      <td>f</td>\n",
              "      <td>f</td>\n",
              "      <td>f</td>\n",
              "      <td>f</td>\n",
              "      <td>f</td>\n",
              "      <td>t</td>\n",
              "      <td>t</td>\n",
              "      <td>n</td>\n",
              "      <td>won</td>\n",
              "    </tr>\n",
              "    <tr>\n",
              "      <th>2</th>\n",
              "      <td>f</td>\n",
              "      <td>f</td>\n",
              "      <td>f</td>\n",
              "      <td>f</td>\n",
              "      <td>t</td>\n",
              "      <td>f</td>\n",
              "      <td>t</td>\n",
              "      <td>f</td>\n",
              "      <td>f</td>\n",
              "      <td>f</td>\n",
              "      <td>...</td>\n",
              "      <td>f</td>\n",
              "      <td>f</td>\n",
              "      <td>f</td>\n",
              "      <td>f</td>\n",
              "      <td>f</td>\n",
              "      <td>f</td>\n",
              "      <td>t</td>\n",
              "      <td>t</td>\n",
              "      <td>n</td>\n",
              "      <td>won</td>\n",
              "    </tr>\n",
              "    <tr>\n",
              "      <th>3</th>\n",
              "      <td>f</td>\n",
              "      <td>f</td>\n",
              "      <td>f</td>\n",
              "      <td>f</td>\n",
              "      <td>f</td>\n",
              "      <td>f</td>\n",
              "      <td>f</td>\n",
              "      <td>f</td>\n",
              "      <td>t</td>\n",
              "      <td>f</td>\n",
              "      <td>...</td>\n",
              "      <td>f</td>\n",
              "      <td>f</td>\n",
              "      <td>f</td>\n",
              "      <td>f</td>\n",
              "      <td>f</td>\n",
              "      <td>f</td>\n",
              "      <td>t</td>\n",
              "      <td>t</td>\n",
              "      <td>n</td>\n",
              "      <td>won</td>\n",
              "    </tr>\n",
              "    <tr>\n",
              "      <th>4</th>\n",
              "      <td>f</td>\n",
              "      <td>f</td>\n",
              "      <td>f</td>\n",
              "      <td>f</td>\n",
              "      <td>f</td>\n",
              "      <td>f</td>\n",
              "      <td>f</td>\n",
              "      <td>f</td>\n",
              "      <td>f</td>\n",
              "      <td>f</td>\n",
              "      <td>...</td>\n",
              "      <td>f</td>\n",
              "      <td>f</td>\n",
              "      <td>f</td>\n",
              "      <td>f</td>\n",
              "      <td>f</td>\n",
              "      <td>f</td>\n",
              "      <td>t</td>\n",
              "      <td>t</td>\n",
              "      <td>n</td>\n",
              "      <td>won</td>\n",
              "    </tr>\n",
              "    <tr>\n",
              "      <th>...</th>\n",
              "      <td>...</td>\n",
              "      <td>...</td>\n",
              "      <td>...</td>\n",
              "      <td>...</td>\n",
              "      <td>...</td>\n",
              "      <td>...</td>\n",
              "      <td>...</td>\n",
              "      <td>...</td>\n",
              "      <td>...</td>\n",
              "      <td>...</td>\n",
              "      <td>...</td>\n",
              "      <td>...</td>\n",
              "      <td>...</td>\n",
              "      <td>...</td>\n",
              "      <td>...</td>\n",
              "      <td>...</td>\n",
              "      <td>...</td>\n",
              "      <td>...</td>\n",
              "      <td>...</td>\n",
              "      <td>...</td>\n",
              "      <td>...</td>\n",
              "    </tr>\n",
              "    <tr>\n",
              "      <th>3191</th>\n",
              "      <td>t</td>\n",
              "      <td>f</td>\n",
              "      <td>f</td>\n",
              "      <td>f</td>\n",
              "      <td>f</td>\n",
              "      <td>f</td>\n",
              "      <td>t</td>\n",
              "      <td>f</td>\n",
              "      <td>f</td>\n",
              "      <td>f</td>\n",
              "      <td>...</td>\n",
              "      <td>f</td>\n",
              "      <td>t</td>\n",
              "      <td>f</td>\n",
              "      <td>f</td>\n",
              "      <td>t</td>\n",
              "      <td>f</td>\n",
              "      <td>t</td>\n",
              "      <td>f</td>\n",
              "      <td>n</td>\n",
              "      <td>nowin</td>\n",
              "    </tr>\n",
              "    <tr>\n",
              "      <th>3192</th>\n",
              "      <td>t</td>\n",
              "      <td>f</td>\n",
              "      <td>f</td>\n",
              "      <td>f</td>\n",
              "      <td>f</td>\n",
              "      <td>f</td>\n",
              "      <td>t</td>\n",
              "      <td>f</td>\n",
              "      <td>f</td>\n",
              "      <td>f</td>\n",
              "      <td>...</td>\n",
              "      <td>f</td>\n",
              "      <td>t</td>\n",
              "      <td>f</td>\n",
              "      <td>f</td>\n",
              "      <td>t</td>\n",
              "      <td>f</td>\n",
              "      <td>t</td>\n",
              "      <td>f</td>\n",
              "      <td>n</td>\n",
              "      <td>nowin</td>\n",
              "    </tr>\n",
              "    <tr>\n",
              "      <th>3193</th>\n",
              "      <td>t</td>\n",
              "      <td>f</td>\n",
              "      <td>f</td>\n",
              "      <td>f</td>\n",
              "      <td>f</td>\n",
              "      <td>f</td>\n",
              "      <td>t</td>\n",
              "      <td>f</td>\n",
              "      <td>f</td>\n",
              "      <td>f</td>\n",
              "      <td>...</td>\n",
              "      <td>f</td>\n",
              "      <td>t</td>\n",
              "      <td>f</td>\n",
              "      <td>f</td>\n",
              "      <td>t</td>\n",
              "      <td>f</td>\n",
              "      <td>t</td>\n",
              "      <td>f</td>\n",
              "      <td>n</td>\n",
              "      <td>nowin</td>\n",
              "    </tr>\n",
              "    <tr>\n",
              "      <th>3194</th>\n",
              "      <td>t</td>\n",
              "      <td>f</td>\n",
              "      <td>t</td>\n",
              "      <td>f</td>\n",
              "      <td>f</td>\n",
              "      <td>f</td>\n",
              "      <td>t</td>\n",
              "      <td>f</td>\n",
              "      <td>f</td>\n",
              "      <td>f</td>\n",
              "      <td>...</td>\n",
              "      <td>f</td>\n",
              "      <td>t</td>\n",
              "      <td>f</td>\n",
              "      <td>f</td>\n",
              "      <td>t</td>\n",
              "      <td>f</td>\n",
              "      <td>f</td>\n",
              "      <td>f</td>\n",
              "      <td>n</td>\n",
              "      <td>nowin</td>\n",
              "    </tr>\n",
              "    <tr>\n",
              "      <th>3195</th>\n",
              "      <td>t</td>\n",
              "      <td>f</td>\n",
              "      <td>t</td>\n",
              "      <td>f</td>\n",
              "      <td>f</td>\n",
              "      <td>f</td>\n",
              "      <td>t</td>\n",
              "      <td>f</td>\n",
              "      <td>f</td>\n",
              "      <td>f</td>\n",
              "      <td>...</td>\n",
              "      <td>f</td>\n",
              "      <td>t</td>\n",
              "      <td>f</td>\n",
              "      <td>f</td>\n",
              "      <td>t</td>\n",
              "      <td>f</td>\n",
              "      <td>f</td>\n",
              "      <td>f</td>\n",
              "      <td>n</td>\n",
              "      <td>nowin</td>\n",
              "    </tr>\n",
              "  </tbody>\n",
              "</table>\n",
              "<p>3196 rows × 37 columns</p>\n",
              "</div>\n",
              "      <button class=\"colab-df-convert\" onclick=\"convertToInteractive('df-6b25c87e-bf4f-4558-a5d9-852c8b66ec2c')\"\n",
              "              title=\"Convert this dataframe to an interactive table.\"\n",
              "              style=\"display:none;\">\n",
              "        \n",
              "  <svg xmlns=\"http://www.w3.org/2000/svg\" height=\"24px\"viewBox=\"0 0 24 24\"\n",
              "       width=\"24px\">\n",
              "    <path d=\"M0 0h24v24H0V0z\" fill=\"none\"/>\n",
              "    <path d=\"M18.56 5.44l.94 2.06.94-2.06 2.06-.94-2.06-.94-.94-2.06-.94 2.06-2.06.94zm-11 1L8.5 8.5l.94-2.06 2.06-.94-2.06-.94L8.5 2.5l-.94 2.06-2.06.94zm10 10l.94 2.06.94-2.06 2.06-.94-2.06-.94-.94-2.06-.94 2.06-2.06.94z\"/><path d=\"M17.41 7.96l-1.37-1.37c-.4-.4-.92-.59-1.43-.59-.52 0-1.04.2-1.43.59L10.3 9.45l-7.72 7.72c-.78.78-.78 2.05 0 2.83L4 21.41c.39.39.9.59 1.41.59.51 0 1.02-.2 1.41-.59l7.78-7.78 2.81-2.81c.8-.78.8-2.07 0-2.86zM5.41 20L4 18.59l7.72-7.72 1.47 1.35L5.41 20z\"/>\n",
              "  </svg>\n",
              "      </button>\n",
              "      \n",
              "  <style>\n",
              "    .colab-df-container {\n",
              "      display:flex;\n",
              "      flex-wrap:wrap;\n",
              "      gap: 12px;\n",
              "    }\n",
              "\n",
              "    .colab-df-convert {\n",
              "      background-color: #E8F0FE;\n",
              "      border: none;\n",
              "      border-radius: 50%;\n",
              "      cursor: pointer;\n",
              "      display: none;\n",
              "      fill: #1967D2;\n",
              "      height: 32px;\n",
              "      padding: 0 0 0 0;\n",
              "      width: 32px;\n",
              "    }\n",
              "\n",
              "    .colab-df-convert:hover {\n",
              "      background-color: #E2EBFA;\n",
              "      box-shadow: 0px 1px 2px rgba(60, 64, 67, 0.3), 0px 1px 3px 1px rgba(60, 64, 67, 0.15);\n",
              "      fill: #174EA6;\n",
              "    }\n",
              "\n",
              "    [theme=dark] .colab-df-convert {\n",
              "      background-color: #3B4455;\n",
              "      fill: #D2E3FC;\n",
              "    }\n",
              "\n",
              "    [theme=dark] .colab-df-convert:hover {\n",
              "      background-color: #434B5C;\n",
              "      box-shadow: 0px 1px 3px 1px rgba(0, 0, 0, 0.15);\n",
              "      filter: drop-shadow(0px 1px 2px rgba(0, 0, 0, 0.3));\n",
              "      fill: #FFFFFF;\n",
              "    }\n",
              "  </style>\n",
              "\n",
              "      <script>\n",
              "        const buttonEl =\n",
              "          document.querySelector('#df-6b25c87e-bf4f-4558-a5d9-852c8b66ec2c button.colab-df-convert');\n",
              "        buttonEl.style.display =\n",
              "          google.colab.kernel.accessAllowed ? 'block' : 'none';\n",
              "\n",
              "        async function convertToInteractive(key) {\n",
              "          const element = document.querySelector('#df-6b25c87e-bf4f-4558-a5d9-852c8b66ec2c');\n",
              "          const dataTable =\n",
              "            await google.colab.kernel.invokeFunction('convertToInteractive',\n",
              "                                                     [key], {});\n",
              "          if (!dataTable) return;\n",
              "\n",
              "          const docLinkHtml = 'Like what you see? Visit the ' +\n",
              "            '<a target=\"_blank\" href=https://colab.research.google.com/notebooks/data_table.ipynb>data table notebook</a>'\n",
              "            + ' to learn more about interactive tables.';\n",
              "          element.innerHTML = '';\n",
              "          dataTable['output_type'] = 'display_data';\n",
              "          await google.colab.output.renderOutput(dataTable, element);\n",
              "          const docLink = document.createElement('div');\n",
              "          docLink.innerHTML = docLinkHtml;\n",
              "          element.appendChild(docLink);\n",
              "        }\n",
              "      </script>\n",
              "    </div>\n",
              "  </div>\n",
              "  "
            ]
          },
          "metadata": {},
          "execution_count": 78
        }
      ]
    },
    {
      "cell_type": "code",
      "source": [
        "data.dtypes"
      ],
      "metadata": {
        "colab": {
          "base_uri": "https://localhost:8080/"
        },
        "outputId": "971d70d3-2370-425f-ec43-3aa89233c936",
        "id": "qVY1ZlHDDnia"
      },
      "execution_count": 79,
      "outputs": [
        {
          "output_type": "execute_result",
          "data": {
            "text/plain": [
              "bkblk     object\n",
              "bknwy     object\n",
              "bkon8     object\n",
              "bkona     object\n",
              "bkspr     object\n",
              "bkxbq     object\n",
              "bkxcr     object\n",
              "bkxwp     object\n",
              "blxwp     object\n",
              "bxqsq     object\n",
              "cntxt     object\n",
              "dsopp     object\n",
              "dwipd     object\n",
              "hdchk     object\n",
              "katri     object\n",
              "mulch     object\n",
              "qxmsq     object\n",
              "r2ar8     object\n",
              "reskd     object\n",
              "reskr     object\n",
              "rimmx     object\n",
              "rkxwp     object\n",
              "rxmsq     object\n",
              "simpl     object\n",
              "skach     object\n",
              "skewr     object\n",
              "skrxp     object\n",
              "spcop     object\n",
              "stlmt     object\n",
              "thrsk     object\n",
              "wkcti     object\n",
              "wkna8     object\n",
              "wknck     object\n",
              "wkovl     object\n",
              "wkpos     object\n",
              "wtoeg     object\n",
              "result    object\n",
              "dtype: object"
            ]
          },
          "metadata": {},
          "execution_count": 79
        }
      ]
    },
    {
      "cell_type": "code",
      "source": [
        "# test_df=data\n",
        "df,test_df=train_test_split(data,0.3)\n",
        "print(\"Size of Train Dataset: \",len(df),\"\\n\",\"Size of Test Dataset: \",len(test_df))\n",
        "\n",
        "\n",
        "# from sklearn.model_selection import train_test_split\n",
        "# df,test_df=test_train_split(df,test_size=0.3)"
      ],
      "metadata": {
        "colab": {
          "base_uri": "https://localhost:8080/"
        },
        "outputId": "0ea06288-fda0-4c45-85dd-f457eb72cb83",
        "id": "CNTqLbsoDnia"
      },
      "execution_count": 80,
      "outputs": [
        {
          "output_type": "stream",
          "name": "stdout",
          "text": [
            "Size of Train Dataset:  2238 \n",
            " Size of Test Dataset:  958\n"
          ]
        }
      ]
    },
    {
      "cell_type": "code",
      "source": [
        "print(df.count())\n",
        "print(sum(df[target_name].value_counts().to_dict().values()))"
      ],
      "metadata": {
        "colab": {
          "base_uri": "https://localhost:8080/"
        },
        "outputId": "1d891c63-cfb2-4417-eb15-ae6351a0a271",
        "id": "dl4r9u0ZDnib"
      },
      "execution_count": 81,
      "outputs": [
        {
          "output_type": "stream",
          "name": "stdout",
          "text": [
            "bkblk     2238\n",
            "bknwy     2238\n",
            "bkon8     2238\n",
            "bkona     2238\n",
            "bkspr     2238\n",
            "bkxbq     2238\n",
            "bkxcr     2238\n",
            "bkxwp     2238\n",
            "blxwp     2238\n",
            "bxqsq     2238\n",
            "cntxt     2238\n",
            "dsopp     2238\n",
            "dwipd     2238\n",
            "hdchk     2238\n",
            "katri     2238\n",
            "mulch     2238\n",
            "qxmsq     2238\n",
            "r2ar8     2238\n",
            "reskd     2238\n",
            "reskr     2238\n",
            "rimmx     2238\n",
            "rkxwp     2238\n",
            "rxmsq     2238\n",
            "simpl     2238\n",
            "skach     2238\n",
            "skewr     2238\n",
            "skrxp     2238\n",
            "spcop     2238\n",
            "stlmt     2238\n",
            "thrsk     2238\n",
            "wkcti     2238\n",
            "wkna8     2238\n",
            "wknck     2238\n",
            "wkovl     2238\n",
            "wkpos     2238\n",
            "wtoeg     2238\n",
            "result    2238\n",
            "dtype: int64\n",
            "2238\n"
          ]
        }
      ]
    },
    {
      "cell_type": "markdown",
      "source": [
        "##Descion Tree Training"
      ],
      "metadata": {
        "id": "K2YU9WlLDnib"
      }
    },
    {
      "cell_type": "code",
      "source": [
        "d=DecisionTree(data,target_name,split_function=split_func)"
      ],
      "metadata": {
        "id": "wz8_5WpiDnib"
      },
      "execution_count": 82,
      "outputs": []
    },
    {
      "cell_type": "code",
      "source": [
        "d.construct()"
      ],
      "metadata": {
        "id": "cOp9Bs2wDnib"
      },
      "execution_count": 83,
      "outputs": []
    },
    {
      "cell_type": "code",
      "source": [
        "print(d.tree.no_leafs)"
      ],
      "metadata": {
        "colab": {
          "base_uri": "https://localhost:8080/"
        },
        "outputId": "03c51670-64ee-4bb1-c527-1948533a1b66",
        "id": "kJH3gIuWDnib"
      },
      "execution_count": 84,
      "outputs": [
        {
          "output_type": "stream",
          "name": "stdout",
          "text": [
            "47\n"
          ]
        }
      ]
    },
    {
      "cell_type": "code",
      "source": [
        "d.get_rules()"
      ],
      "metadata": {
        "colab": {
          "base_uri": "https://localhost:8080/"
        },
        "outputId": "ffa62b64-421a-4a9c-b37b-aa3dbf510c68",
        "id": "MekiHGK_Dnib"
      },
      "execution_count": 85,
      "outputs": [
        {
          "output_type": "execute_result",
          "data": {
            "text/plain": [
              "['rimmx ->  ( f ) bxqsq ->  ( f ) wknck ->  ( f ) wkpos ->  ( t ) bkxbq ->  ( t ) won',\n",
              " 'rimmx ->  ( f ) bxqsq ->  ( f ) wknck ->  ( f ) wkpos ->  ( t ) bkxbq ->  ( f ) katri ->  ( n ) rxmsq ->  ( f ) dsopp ->  ( f ) won',\n",
              " 'rimmx ->  ( f ) bxqsq ->  ( f ) wknck ->  ( f ) wkpos ->  ( t ) bkxbq ->  ( f ) katri ->  ( n ) rxmsq ->  ( f ) dsopp ->  ( t ) dwipd ->  ( g ) thrsk ->  ( f ) skewr ->  ( f ) won',\n",
              " 'rimmx ->  ( f ) bxqsq ->  ( f ) wknck ->  ( f ) wkpos ->  ( t ) bkxbq ->  ( f ) katri ->  ( n ) rxmsq ->  ( f ) dsopp ->  ( t ) dwipd ->  ( g ) thrsk ->  ( f ) skewr ->  ( t ) wtoeg ->  ( n ) won',\n",
              " 'rimmx ->  ( f ) bxqsq ->  ( f ) wknck ->  ( f ) wkpos ->  ( t ) bkxbq ->  ( f ) katri ->  ( n ) rxmsq ->  ( f ) dsopp ->  ( t ) dwipd ->  ( g ) thrsk ->  ( f ) skewr ->  ( t ) wtoeg ->  ( t ) nowin',\n",
              " 'rimmx ->  ( f ) bxqsq ->  ( f ) wknck ->  ( f ) wkpos ->  ( t ) bkxbq ->  ( f ) katri ->  ( n ) rxmsq ->  ( f ) dsopp ->  ( t ) dwipd ->  ( g ) thrsk ->  ( t ) nowin',\n",
              " 'rimmx ->  ( f ) bxqsq ->  ( f ) wknck ->  ( f ) wkpos ->  ( t ) bkxbq ->  ( f ) katri ->  ( n ) rxmsq ->  ( f ) dsopp ->  ( t ) dwipd ->  ( l ) won',\n",
              " 'rimmx ->  ( f ) bxqsq ->  ( f ) wknck ->  ( f ) wkpos ->  ( t ) bkxbq ->  ( f ) katri ->  ( n ) rxmsq ->  ( t ) qxmsq ->  ( t ) won',\n",
              " 'rimmx ->  ( f ) bxqsq ->  ( f ) wknck ->  ( f ) wkpos ->  ( t ) bkxbq ->  ( f ) katri ->  ( n ) rxmsq ->  ( t ) qxmsq ->  ( f ) nowin',\n",
              " 'rimmx ->  ( f ) bxqsq ->  ( f ) wknck ->  ( f ) wkpos ->  ( t ) bkxbq ->  ( f ) katri ->  ( w ) won',\n",
              " 'rimmx ->  ( f ) bxqsq ->  ( f ) wknck ->  ( f ) wkpos ->  ( t ) bkxbq ->  ( f ) katri ->  ( b ) bkblk ->  ( t ) won',\n",
              " 'rimmx ->  ( f ) bxqsq ->  ( f ) wknck ->  ( f ) wkpos ->  ( t ) bkxbq ->  ( f ) katri ->  ( b ) bkblk ->  ( f ) nowin',\n",
              " 'rimmx ->  ( f ) bxqsq ->  ( f ) wknck ->  ( f ) wkpos ->  ( f ) bkxbq ->  ( t ) won',\n",
              " 'rimmx ->  ( f ) bxqsq ->  ( f ) wknck ->  ( f ) wkpos ->  ( f ) bkxbq ->  ( f ) wkna8 ->  ( t ) bknwy ->  ( f ) nowin',\n",
              " 'rimmx ->  ( f ) bxqsq ->  ( f ) wknck ->  ( f ) wkpos ->  ( f ) bkxbq ->  ( f ) wkna8 ->  ( t ) bknwy ->  ( t ) r2ar8 ->  ( f ) simpl ->  ( t ) nowin',\n",
              " 'rimmx ->  ( f ) bxqsq ->  ( f ) wknck ->  ( f ) wkpos ->  ( f ) bkxbq ->  ( f ) wkna8 ->  ( t ) bknwy ->  ( t ) r2ar8 ->  ( f ) simpl ->  ( f ) won',\n",
              " 'rimmx ->  ( f ) bxqsq ->  ( f ) wknck ->  ( f ) wkpos ->  ( f ) bkxbq ->  ( f ) wkna8 ->  ( t ) bknwy ->  ( t ) r2ar8 ->  ( t ) nowin',\n",
              " 'rimmx ->  ( f ) bxqsq ->  ( f ) wknck ->  ( f ) wkpos ->  ( f ) bkxbq ->  ( f ) wkna8 ->  ( f ) katri ->  ( n ) bkblk ->  ( t ) hdchk ->  ( f ) won',\n",
              " 'rimmx ->  ( f ) bxqsq ->  ( f ) wknck ->  ( f ) wkpos ->  ( f ) bkxbq ->  ( f ) wkna8 ->  ( f ) katri ->  ( n ) bkblk ->  ( t ) hdchk ->  ( t ) nowin',\n",
              " 'rimmx ->  ( f ) bxqsq ->  ( f ) wknck ->  ( f ) wkpos ->  ( f ) bkxbq ->  ( f ) wkna8 ->  ( f ) katri ->  ( n ) bkblk ->  ( f ) wkcti ->  ( t ) wkovl ->  ( t ) nowin',\n",
              " 'rimmx ->  ( f ) bxqsq ->  ( f ) wknck ->  ( f ) wkpos ->  ( f ) bkxbq ->  ( f ) wkna8 ->  ( f ) katri ->  ( n ) bkblk ->  ( f ) wkcti ->  ( t ) wkovl ->  ( f ) reskr ->  ( f ) skach ->  ( f ) won',\n",
              " 'rimmx ->  ( f ) bxqsq ->  ( f ) wknck ->  ( f ) wkpos ->  ( f ) bkxbq ->  ( f ) wkna8 ->  ( f ) katri ->  ( n ) bkblk ->  ( f ) wkcti ->  ( t ) wkovl ->  ( f ) reskr ->  ( f ) skach ->  ( t ) nowin',\n",
              " 'rimmx ->  ( f ) bxqsq ->  ( f ) wknck ->  ( f ) wkpos ->  ( f ) bkxbq ->  ( f ) wkna8 ->  ( f ) katri ->  ( n ) bkblk ->  ( f ) wkcti ->  ( t ) wkovl ->  ( f ) reskr ->  ( t ) nowin',\n",
              " 'rimmx ->  ( f ) bxqsq ->  ( f ) wknck ->  ( f ) wkpos ->  ( f ) bkxbq ->  ( f ) wkna8 ->  ( f ) katri ->  ( n ) bkblk ->  ( f ) wkcti ->  ( f ) nowin',\n",
              " 'rimmx ->  ( f ) bxqsq ->  ( f ) wknck ->  ( f ) wkpos ->  ( f ) bkxbq ->  ( f ) wkna8 ->  ( f ) katri ->  ( b ) bkblk ->  ( f ) nowin',\n",
              " 'rimmx ->  ( f ) bxqsq ->  ( f ) wknck ->  ( f ) wkpos ->  ( f ) bkxbq ->  ( f ) wkna8 ->  ( f ) katri ->  ( b ) bkblk ->  ( t ) hdchk ->  ( f ) spcop ->  ( t ) nowin',\n",
              " 'rimmx ->  ( f ) bxqsq ->  ( f ) wknck ->  ( f ) wkpos ->  ( f ) bkxbq ->  ( f ) wkna8 ->  ( f ) katri ->  ( b ) bkblk ->  ( t ) hdchk ->  ( f ) spcop ->  ( f ) won',\n",
              " 'rimmx ->  ( f ) bxqsq ->  ( f ) wknck ->  ( f ) wkpos ->  ( f ) bkxbq ->  ( f ) wkna8 ->  ( f ) katri ->  ( b ) bkblk ->  ( t ) hdchk ->  ( t ) nowin',\n",
              " 'rimmx ->  ( f ) bxqsq ->  ( f ) wknck ->  ( f ) wkpos ->  ( f ) bkxbq ->  ( f ) wkna8 ->  ( f ) katri ->  ( w ) won',\n",
              " 'rimmx ->  ( f ) bxqsq ->  ( f ) wknck ->  ( t ) wkovl ->  ( t ) bknwy ->  ( f ) nowin',\n",
              " 'rimmx ->  ( f ) bxqsq ->  ( f ) wknck ->  ( t ) wkovl ->  ( t ) bknwy ->  ( t ) mulch ->  ( f ) won',\n",
              " 'rimmx ->  ( f ) bxqsq ->  ( f ) wknck ->  ( t ) wkovl ->  ( t ) bknwy ->  ( t ) mulch ->  ( t ) nowin',\n",
              " 'rimmx ->  ( f ) bxqsq ->  ( f ) wknck ->  ( t ) wkovl ->  ( f ) bkxcr ->  ( f ) bkona ->  ( f ) mulch ->  ( f ) thrsk ->  ( t ) nowin',\n",
              " 'rimmx ->  ( f ) bxqsq ->  ( f ) wknck ->  ( t ) wkovl ->  ( f ) bkxcr ->  ( f ) bkona ->  ( f ) mulch ->  ( f ) thrsk ->  ( f ) bkon8 ->  ( f ) skrxp ->  ( f ) dsopp ->  ( f ) skach ->  ( f ) rkxwp ->  ( f ) reskr ->  ( f ) won',\n",
              " 'rimmx ->  ( f ) bxqsq ->  ( f ) wknck ->  ( t ) wkovl ->  ( f ) bkxcr ->  ( f ) bkona ->  ( f ) mulch ->  ( f ) thrsk ->  ( f ) bkon8 ->  ( f ) skrxp ->  ( f ) dsopp ->  ( f ) skach ->  ( f ) rkxwp ->  ( f ) reskr ->  ( t ) nowin',\n",
              " 'rimmx ->  ( f ) bxqsq ->  ( f ) wknck ->  ( t ) wkovl ->  ( f ) bkxcr ->  ( f ) bkona ->  ( f ) mulch ->  ( f ) thrsk ->  ( f ) bkon8 ->  ( f ) skrxp ->  ( f ) dsopp ->  ( f ) skach ->  ( f ) rkxwp ->  ( t ) nowin',\n",
              " 'rimmx ->  ( f ) bxqsq ->  ( f ) wknck ->  ( t ) wkovl ->  ( f ) bkxcr ->  ( f ) bkona ->  ( f ) mulch ->  ( f ) thrsk ->  ( f ) bkon8 ->  ( f ) skrxp ->  ( f ) dsopp ->  ( f ) skach ->  ( t ) nowin',\n",
              " 'rimmx ->  ( f ) bxqsq ->  ( f ) wknck ->  ( t ) wkovl ->  ( f ) bkxcr ->  ( f ) bkona ->  ( f ) mulch ->  ( f ) thrsk ->  ( f ) bkon8 ->  ( f ) skrxp ->  ( f ) dsopp ->  ( t ) wtoeg ->  ( t ) skewr ->  ( t ) won',\n",
              " 'rimmx ->  ( f ) bxqsq ->  ( f ) wknck ->  ( t ) wkovl ->  ( f ) bkxcr ->  ( f ) bkona ->  ( f ) mulch ->  ( f ) thrsk ->  ( f ) bkon8 ->  ( f ) skrxp ->  ( f ) dsopp ->  ( t ) wtoeg ->  ( t ) skewr ->  ( f ) nowin',\n",
              " 'rimmx ->  ( f ) bxqsq ->  ( f ) wknck ->  ( t ) wkovl ->  ( f ) bkxcr ->  ( f ) bkona ->  ( f ) mulch ->  ( f ) thrsk ->  ( f ) bkon8 ->  ( f ) skrxp ->  ( f ) dsopp ->  ( t ) wtoeg ->  ( n ) nowin',\n",
              " 'rimmx ->  ( f ) bxqsq ->  ( f ) wknck ->  ( t ) wkovl ->  ( f ) bkxcr ->  ( f ) bkona ->  ( f ) mulch ->  ( f ) thrsk ->  ( f ) bkon8 ->  ( f ) skrxp ->  ( t ) nowin',\n",
              " 'rimmx ->  ( f ) bxqsq ->  ( f ) wknck ->  ( t ) wkovl ->  ( f ) bkxcr ->  ( f ) bkona ->  ( f ) mulch ->  ( f ) thrsk ->  ( f ) bkon8 ->  ( t ) nowin',\n",
              " 'rimmx ->  ( f ) bxqsq ->  ( f ) wknck ->  ( t ) wkovl ->  ( f ) bkxcr ->  ( f ) bkona ->  ( f ) mulch ->  ( t ) nowin',\n",
              " 'rimmx ->  ( f ) bxqsq ->  ( f ) wknck ->  ( t ) wkovl ->  ( f ) bkxcr ->  ( f ) bkona ->  ( t ) nowin',\n",
              " 'rimmx ->  ( f ) bxqsq ->  ( f ) wknck ->  ( t ) wkovl ->  ( f ) bkxcr ->  ( t ) nowin',\n",
              " 'rimmx ->  ( f ) bxqsq ->  ( t ) nowin',\n",
              " 'rimmx ->  ( t ) won']"
            ]
          },
          "metadata": {},
          "execution_count": 85
        }
      ]
    },
    {
      "cell_type": "code",
      "source": [
        "d.tree.printt()"
      ],
      "metadata": {
        "colab": {
          "base_uri": "https://localhost:8080/"
        },
        "outputId": "2a725e31-8425-4e62-a13a-2206cde3e8e8",
        "id": "QFFPAkGhDnib"
      },
      "execution_count": 86,
      "outputs": [
        {
          "output_type": "stream",
          "name": "stdout",
          "text": [
            "| rimmx\n",
            "|----- ( f) bxqsq\n",
            "|---------- ( f) wknck\n",
            "|--------------- ( f) wkpos\n",
            "|-------------------- ( t) bkxbq\n",
            "|------------------------- ( t) won\n",
            "|------------------------- ( f) katri\n",
            "|------------------------------ ( n) rxmsq\n",
            "|----------------------------------- ( f) dsopp\n",
            "|---------------------------------------- ( f) won\n",
            "|---------------------------------------- ( t) dwipd\n",
            "|--------------------------------------------- ( g) thrsk\n",
            "|-------------------------------------------------- ( f) skewr\n",
            "|------------------------------------------------------- ( f) won\n",
            "|------------------------------------------------------- ( t) wtoeg\n",
            "|------------------------------------------------------------ ( n) won\n",
            "|------------------------------------------------------------ ( t) nowin\n",
            "|-------------------------------------------------- ( t) nowin\n",
            "|--------------------------------------------- ( l) won\n",
            "|----------------------------------- ( t) qxmsq\n",
            "|---------------------------------------- ( t) won\n",
            "|---------------------------------------- ( f) nowin\n",
            "|------------------------------ ( w) won\n",
            "|------------------------------ ( b) bkblk\n",
            "|----------------------------------- ( t) won\n",
            "|----------------------------------- ( f) nowin\n",
            "|-------------------- ( f) bkxbq12\n",
            "|------------------------- ( t) won\n",
            "|------------------------- ( f) wkna8\n",
            "|------------------------------ ( t) bknwy\n",
            "|----------------------------------- ( f) nowin\n",
            "|----------------------------------- ( t) r2ar8\n",
            "|---------------------------------------- ( f) simpl\n",
            "|--------------------------------------------- ( t) nowin\n",
            "|--------------------------------------------- ( f) won\n",
            "|---------------------------------------- ( t) nowin\n",
            "|------------------------------ ( f) katri18\n",
            "|----------------------------------- ( n) bkblk19\n",
            "|---------------------------------------- ( t) hdchk\n",
            "|--------------------------------------------- ( f) won\n",
            "|--------------------------------------------- ( t) nowin\n",
            "|---------------------------------------- ( f) wkcti\n",
            "|--------------------------------------------- ( t) wkovl\n",
            "|-------------------------------------------------- ( t) nowin\n",
            "|-------------------------------------------------- ( f) reskr\n",
            "|------------------------------------------------------- ( f) skach\n",
            "|------------------------------------------------------------ ( f) won\n",
            "|------------------------------------------------------------ ( t) nowin\n",
            "|------------------------------------------------------- ( t) nowin\n",
            "|--------------------------------------------- ( f) nowin\n",
            "|----------------------------------- ( b) bkblk27\n",
            "|---------------------------------------- ( f) nowin\n",
            "|---------------------------------------- ( t) hdchk29\n",
            "|--------------------------------------------- ( f) spcop\n",
            "|-------------------------------------------------- ( t) nowin\n",
            "|-------------------------------------------------- ( f) won\n",
            "|--------------------------------------------- ( t) nowin\n",
            "|----------------------------------- ( w) won\n",
            "|--------------- ( t) wkovl34\n",
            "|-------------------- ( t) bknwy35\n",
            "|------------------------- ( f) nowin\n",
            "|------------------------- ( t) mulch\n",
            "|------------------------------ ( f) won\n",
            "|------------------------------ ( t) nowin\n",
            "|-------------------- ( f) bkxcr\n",
            "|------------------------- ( f) bkona\n",
            "|------------------------------ ( f) mulch39\n",
            "|----------------------------------- ( f) thrsk40\n",
            "|---------------------------------------- ( t) nowin\n",
            "|---------------------------------------- ( f) bkon8\n",
            "|--------------------------------------------- ( f) skrxp\n",
            "|-------------------------------------------------- ( f) dsopp42\n",
            "|------------------------------------------------------- ( f) skach43\n",
            "|------------------------------------------------------------ ( f) rkxwp\n",
            "|----------------------------------------------------------------- ( f) reskr44\n",
            "|---------------------------------------------------------------------- ( f) won\n",
            "|---------------------------------------------------------------------- ( t) nowin\n",
            "|----------------------------------------------------------------- ( t) nowin\n",
            "|------------------------------------------------------------ ( t) nowin\n",
            "|------------------------------------------------------- ( t) wtoeg49\n",
            "|------------------------------------------------------------ ( t) skewr50\n",
            "|----------------------------------------------------------------- ( t) won\n",
            "|----------------------------------------------------------------- ( f) nowin\n",
            "|------------------------------------------------------------ ( n) nowin\n",
            "|-------------------------------------------------- ( t) nowin\n",
            "|--------------------------------------------- ( t) nowin\n",
            "|----------------------------------- ( t) nowin\n",
            "|------------------------------ ( t) nowin\n",
            "|------------------------- ( t) nowin\n",
            "|---------- ( t) nowin\n",
            "|----- ( t) won\n"
          ]
        }
      ]
    },
    {
      "cell_type": "markdown",
      "source": [
        "##Graphviz Representation of Decision Tree"
      ],
      "metadata": {
        "id": "iSbTSmdkDnib"
      }
    },
    {
      "cell_type": "code",
      "source": [
        "f = open(\"Chess.dot\", \"w\")\n",
        "f.write(str(d.getGraph()))\n",
        "f.close()"
      ],
      "metadata": {
        "id": "gkuq21rlO0XI"
      },
      "execution_count": 87,
      "outputs": []
    },
    {
      "cell_type": "code",
      "source": [
        "d.getGraph()"
      ],
      "metadata": {
        "colab": {
          "base_uri": "https://localhost:8080/",
          "height": 0
        },
        "outputId": "43847f85-a895-43ee-d326-9fa5504b3b04",
        "id": "WQY45e_GDnib"
      },
      "execution_count": 88,
      "outputs": [
        {
          "output_type": "execute_result",
          "data": {
            "text/plain": [
              "<graphviz.dot.Digraph at 0x7f0fa2bdba50>"
            ],
            "image/svg+xml": "<?xml version=\"1.0\" encoding=\"UTF-8\" standalone=\"no\"?>\n<!DOCTYPE svg PUBLIC \"-//W3C//DTD SVG 1.1//EN\"\n \"http://www.w3.org/Graphics/SVG/1.1/DTD/svg11.dtd\">\n<!-- Generated by graphviz version 2.40.1 (20161225.0304)\n -->\n<!-- Title: %3 Pages: 1 -->\n<svg width=\"1142pt\" height=\"1262pt\"\n viewBox=\"0.00 0.00 1141.74 1262.00\" xmlns=\"http://www.w3.org/2000/svg\" xmlns:xlink=\"http://www.w3.org/1999/xlink\">\n<g id=\"graph0\" class=\"graph\" transform=\"scale(1 1) rotate(0) translate(4 1258)\">\n<title>%3</title>\n<polygon fill=\"#ffffff\" stroke=\"transparent\" points=\"-4,4 -4,-1258 1137.7445,-1258 1137.7445,4 -4,4\"/>\n<!-- rimmx -->\n<g id=\"node1\" class=\"node\">\n<title>rimmx</title>\n<ellipse fill=\"none\" stroke=\"#000000\" cx=\"747.2976\" cy=\"-1236\" rx=\"35.9954\" ry=\"18\"/>\n<text text-anchor=\"middle\" x=\"747.2976\" y=\"-1232.3\" font-family=\"Times,serif\" font-size=\"14.00\" fill=\"#000000\">rimmx</text>\n</g>\n<!-- bxqsq -->\n<g id=\"node2\" class=\"node\">\n<title>bxqsq</title>\n<ellipse fill=\"none\" stroke=\"#000000\" cx=\"707.2976\" cy=\"-1149\" rx=\"33.5952\" ry=\"18\"/>\n<text text-anchor=\"middle\" x=\"707.2976\" y=\"-1145.3\" font-family=\"Times,serif\" font-size=\"14.00\" fill=\"#000000\">bxqsq</text>\n</g>\n<!-- rimmx&#45;&gt;bxqsq -->\n<g id=\"edge1\" class=\"edge\">\n<title>rimmx&#45;&gt;bxqsq</title>\n<path fill=\"none\" stroke=\"#000000\" d=\"M739.203,-1218.3943C733.5644,-1206.1303 725.9408,-1189.5489 719.5597,-1175.67\"/>\n<polygon fill=\"#000000\" stroke=\"#000000\" points=\"722.7375,-1174.2032 715.3801,-1166.5796 716.3775,-1177.1274 722.7375,-1174.2032\"/>\n<text text-anchor=\"middle\" x=\"732.7976\" y=\"-1188.8\" font-family=\"Times,serif\" font-size=\"14.00\" fill=\"#000000\">f</text>\n</g>\n<!-- won60 -->\n<g id=\"node91\" class=\"node\">\n<title>won60</title>\n<ellipse fill=\"none\" stroke=\"#000000\" cx=\"786.2976\" cy=\"-1149\" rx=\"27.0966\" ry=\"18\"/>\n<text text-anchor=\"middle\" x=\"786.2976\" y=\"-1145.3\" font-family=\"Times,serif\" font-size=\"14.00\" fill=\"#000000\">won</text>\n</g>\n<!-- rimmx&#45;&gt;won60 -->\n<g id=\"edge90\" class=\"edge\">\n<title>rimmx&#45;&gt;won60</title>\n<path fill=\"none\" stroke=\"#000000\" d=\"M755.1898,-1218.3943C760.6704,-1206.1683 768.0744,-1189.6517 774.2842,-1175.7992\"/>\n<polygon fill=\"#000000\" stroke=\"#000000\" points=\"777.6533,-1176.8395 778.5502,-1166.2827 771.2658,-1173.976 777.6533,-1176.8395\"/>\n<text text-anchor=\"middle\" x=\"771.2976\" y=\"-1188.8\" font-family=\"Times,serif\" font-size=\"14.00\" fill=\"#000000\">t</text>\n</g>\n<!-- wknck -->\n<g id=\"node3\" class=\"node\">\n<title>wknck</title>\n<ellipse fill=\"none\" stroke=\"#000000\" cx=\"662.2976\" cy=\"-1062\" rx=\"36.2938\" ry=\"18\"/>\n<text text-anchor=\"middle\" x=\"662.2976\" y=\"-1058.3\" font-family=\"Times,serif\" font-size=\"14.00\" fill=\"#000000\">wknck</text>\n</g>\n<!-- bxqsq&#45;&gt;wknck -->\n<g id=\"edge2\" class=\"edge\">\n<title>bxqsq&#45;&gt;wknck</title>\n<path fill=\"none\" stroke=\"#000000\" d=\"M698.1912,-1131.3943C691.8477,-1119.1303 683.2712,-1102.5489 676.0924,-1088.67\"/>\n<polygon fill=\"#000000\" stroke=\"#000000\" points=\"679.0935,-1086.8538 671.3905,-1079.5796 672.876,-1090.0698 679.0935,-1086.8538\"/>\n<text text-anchor=\"middle\" x=\"690.7976\" y=\"-1101.8\" font-family=\"Times,serif\" font-size=\"14.00\" fill=\"#000000\">f</text>\n</g>\n<!-- nowin59 -->\n<g id=\"node90\" class=\"node\">\n<title>nowin59</title>\n<ellipse fill=\"none\" stroke=\"#000000\" cx=\"751.2976\" cy=\"-1062\" rx=\"34.394\" ry=\"18\"/>\n<text text-anchor=\"middle\" x=\"751.2976\" y=\"-1058.3\" font-family=\"Times,serif\" font-size=\"14.00\" fill=\"#000000\">nowin</text>\n</g>\n<!-- bxqsq&#45;&gt;nowin59 -->\n<g id=\"edge89\" class=\"edge\">\n<title>bxqsq&#45;&gt;nowin59</title>\n<path fill=\"none\" stroke=\"#000000\" d=\"M716.2016,-1131.3943C722.4041,-1119.1303 730.7901,-1102.5489 737.8093,-1088.67\"/>\n<polygon fill=\"#000000\" stroke=\"#000000\" points=\"741.0169,-1090.0828 742.4068,-1079.5796 734.7703,-1086.9236 741.0169,-1090.0828\"/>\n<text text-anchor=\"middle\" x=\"734.2976\" y=\"-1101.8\" font-family=\"Times,serif\" font-size=\"14.00\" fill=\"#000000\">t</text>\n</g>\n<!-- wkpos -->\n<g id=\"node4\" class=\"node\">\n<title>wkpos</title>\n<ellipse fill=\"none\" stroke=\"#000000\" cx=\"617.2976\" cy=\"-975\" rx=\"35.9954\" ry=\"18\"/>\n<text text-anchor=\"middle\" x=\"617.2976\" y=\"-971.3\" font-family=\"Times,serif\" font-size=\"14.00\" fill=\"#000000\">wkpos</text>\n</g>\n<!-- wknck&#45;&gt;wkpos -->\n<g id=\"edge3\" class=\"edge\">\n<title>wknck&#45;&gt;wkpos</title>\n<path fill=\"none\" stroke=\"#000000\" d=\"M653.1912,-1044.3943C646.8477,-1032.1303 638.2712,-1015.5489 631.0924,-1001.67\"/>\n<polygon fill=\"#000000\" stroke=\"#000000\" points=\"634.0935,-999.8538 626.3905,-992.5796 627.876,-1003.0698 634.0935,-999.8538\"/>\n<text text-anchor=\"middle\" x=\"645.7976\" y=\"-1014.8\" font-family=\"Times,serif\" font-size=\"14.00\" fill=\"#000000\">f</text>\n</g>\n<!-- wkovl34 -->\n<g id=\"node59\" class=\"node\">\n<title>wkovl34</title>\n<ellipse fill=\"none\" stroke=\"#000000\" cx=\"747.2976\" cy=\"-975\" rx=\"34.394\" ry=\"18\"/>\n<text text-anchor=\"middle\" x=\"747.2976\" y=\"-971.3\" font-family=\"Times,serif\" font-size=\"14.00\" fill=\"#000000\">wkovl</text>\n</g>\n<!-- wknck&#45;&gt;wkovl34 -->\n<g id=\"edge58\" class=\"edge\">\n<title>wknck&#45;&gt;wkovl34</title>\n<path fill=\"none\" stroke=\"#000000\" d=\"M678.2854,-1045.636C691.2263,-1032.3906 709.6275,-1013.5564 724.1748,-998.6669\"/>\n<polygon fill=\"#000000\" stroke=\"#000000\" points=\"726.8965,-1000.8894 731.3814,-991.2907 721.8895,-995.9976 726.8965,-1000.8894\"/>\n<text text-anchor=\"middle\" x=\"712.2976\" y=\"-1014.8\" font-family=\"Times,serif\" font-size=\"14.00\" fill=\"#000000\">t</text>\n</g>\n<!-- bkxbq -->\n<g id=\"node5\" class=\"node\">\n<title>bkxbq</title>\n<ellipse fill=\"none\" stroke=\"#000000\" cx=\"366.2976\" cy=\"-888\" rx=\"35.194\" ry=\"18\"/>\n<text text-anchor=\"middle\" x=\"366.2976\" y=\"-884.3\" font-family=\"Times,serif\" font-size=\"14.00\" fill=\"#000000\">bkxbq</text>\n</g>\n<!-- wkpos&#45;&gt;bkxbq -->\n<g id=\"edge4\" class=\"edge\">\n<title>wkpos&#45;&gt;bkxbq</title>\n<path fill=\"none\" stroke=\"#000000\" d=\"M587.5189,-964.6783C542.1092,-948.9387 455.5353,-918.931 405.2083,-901.487\"/>\n<polygon fill=\"#000000\" stroke=\"#000000\" points=\"406.2439,-898.1417 395.6491,-898.1736 403.9514,-904.7557 406.2439,-898.1417\"/>\n<text text-anchor=\"middle\" x=\"509.2976\" y=\"-927.8\" font-family=\"Times,serif\" font-size=\"14.00\" fill=\"#000000\">t</text>\n</g>\n<!-- bkxbq12 -->\n<g id=\"node27\" class=\"node\">\n<title>bkxbq12</title>\n<ellipse fill=\"none\" stroke=\"#000000\" cx=\"617.2976\" cy=\"-888\" rx=\"35.194\" ry=\"18\"/>\n<text text-anchor=\"middle\" x=\"617.2976\" y=\"-884.3\" font-family=\"Times,serif\" font-size=\"14.00\" fill=\"#000000\">bkxbq</text>\n</g>\n<!-- wkpos&#45;&gt;bkxbq12 -->\n<g id=\"edge26\" class=\"edge\">\n<title>wkpos&#45;&gt;bkxbq12</title>\n<path fill=\"none\" stroke=\"#000000\" d=\"M617.2976,-956.9735C617.2976,-945.1918 617.2976,-929.5607 617.2976,-916.1581\"/>\n<polygon fill=\"#000000\" stroke=\"#000000\" points=\"620.7977,-916.0033 617.2976,-906.0034 613.7977,-916.0034 620.7977,-916.0033\"/>\n<text text-anchor=\"middle\" x=\"619.7976\" y=\"-927.8\" font-family=\"Times,serif\" font-size=\"14.00\" fill=\"#000000\">f</text>\n</g>\n<!-- won0 -->\n<g id=\"node6\" class=\"node\">\n<title>won0</title>\n<ellipse fill=\"none\" stroke=\"#000000\" cx=\"293.2976\" cy=\"-801\" rx=\"27.0966\" ry=\"18\"/>\n<text text-anchor=\"middle\" x=\"293.2976\" y=\"-797.3\" font-family=\"Times,serif\" font-size=\"14.00\" fill=\"#000000\">won</text>\n</g>\n<!-- bkxbq&#45;&gt;won0 -->\n<g id=\"edge5\" class=\"edge\">\n<title>bkxbq&#45;&gt;won0</title>\n<path fill=\"none\" stroke=\"#000000\" d=\"M352.2224,-871.2255C341.1058,-857.977 325.4582,-839.3284 313.0814,-824.578\"/>\n<polygon fill=\"#000000\" stroke=\"#000000\" points=\"315.7004,-822.2542 306.5914,-816.8433 310.3381,-826.7536 315.7004,-822.2542\"/>\n<text text-anchor=\"middle\" x=\"336.2976\" y=\"-840.8\" font-family=\"Times,serif\" font-size=\"14.00\" fill=\"#000000\">t</text>\n</g>\n<!-- katri -->\n<g id=\"node7\" class=\"node\">\n<title>katri</title>\n<ellipse fill=\"none\" stroke=\"#000000\" cx=\"366.2976\" cy=\"-801\" rx=\"27.0966\" ry=\"18\"/>\n<text text-anchor=\"middle\" x=\"366.2976\" y=\"-797.3\" font-family=\"Times,serif\" font-size=\"14.00\" fill=\"#000000\">katri</text>\n</g>\n<!-- bkxbq&#45;&gt;katri -->\n<g id=\"edge6\" class=\"edge\">\n<title>bkxbq&#45;&gt;katri</title>\n<path fill=\"none\" stroke=\"#000000\" d=\"M366.2976,-869.9735C366.2976,-858.1918 366.2976,-842.5607 366.2976,-829.1581\"/>\n<polygon fill=\"#000000\" stroke=\"#000000\" points=\"369.7977,-829.0033 366.2976,-819.0034 362.7977,-829.0034 369.7977,-829.0033\"/>\n<text text-anchor=\"middle\" x=\"368.7976\" y=\"-840.8\" font-family=\"Times,serif\" font-size=\"14.00\" fill=\"#000000\">f</text>\n</g>\n<!-- rxmsq -->\n<g id=\"node8\" class=\"node\">\n<title>rxmsq</title>\n<ellipse fill=\"none\" stroke=\"#000000\" cx=\"256.2976\" cy=\"-714\" rx=\"34.394\" ry=\"18\"/>\n<text text-anchor=\"middle\" x=\"256.2976\" y=\"-710.3\" font-family=\"Times,serif\" font-size=\"14.00\" fill=\"#000000\">rxmsq</text>\n</g>\n<!-- katri&#45;&gt;rxmsq -->\n<g id=\"edge7\" class=\"edge\">\n<title>katri&#45;&gt;rxmsq</title>\n<path fill=\"none\" stroke=\"#000000\" d=\"M348.6242,-787.0219C331.0097,-773.0905 303.724,-751.51 283.3767,-735.4171\"/>\n<polygon fill=\"#000000\" stroke=\"#000000\" points=\"285.4197,-732.5705 275.4051,-729.1123 281.0773,-738.0609 285.4197,-732.5705\"/>\n<text text-anchor=\"middle\" x=\"322.2976\" y=\"-753.8\" font-family=\"Times,serif\" font-size=\"14.00\" fill=\"#000000\">n</text>\n</g>\n<!-- won9 -->\n<g id=\"node23\" class=\"node\">\n<title>won9</title>\n<ellipse fill=\"none\" stroke=\"#000000\" cx=\"338.2976\" cy=\"-714\" rx=\"27.0966\" ry=\"18\"/>\n<text text-anchor=\"middle\" x=\"338.2976\" y=\"-710.3\" font-family=\"Times,serif\" font-size=\"14.00\" fill=\"#000000\">won</text>\n</g>\n<!-- katri&#45;&gt;won9 -->\n<g id=\"edge22\" class=\"edge\">\n<title>katri&#45;&gt;won9</title>\n<path fill=\"none\" stroke=\"#000000\" d=\"M360.496,-782.9735C356.6411,-770.9958 351.5057,-755.0396 347.1453,-741.4912\"/>\n<polygon fill=\"#000000\" stroke=\"#000000\" points=\"350.3914,-740.1525 343.996,-731.7057 343.728,-742.2971 350.3914,-740.1525\"/>\n<text text-anchor=\"middle\" x=\"359.7976\" y=\"-753.8\" font-family=\"Times,serif\" font-size=\"14.00\" fill=\"#000000\">w</text>\n</g>\n<!-- bkblk -->\n<g id=\"node24\" class=\"node\">\n<title>bkblk</title>\n<ellipse fill=\"none\" stroke=\"#000000\" cx=\"416.2976\" cy=\"-714\" rx=\"32.4942\" ry=\"18\"/>\n<text text-anchor=\"middle\" x=\"416.2976\" y=\"-710.3\" font-family=\"Times,serif\" font-size=\"14.00\" fill=\"#000000\">bkblk</text>\n</g>\n<!-- katri&#45;&gt;bkblk -->\n<g id=\"edge23\" class=\"edge\">\n<title>katri&#45;&gt;bkblk</title>\n<path fill=\"none\" stroke=\"#000000\" d=\"M376.176,-783.8116C383.3666,-771.3 393.2306,-754.1366 401.3785,-739.9592\"/>\n<polygon fill=\"#000000\" stroke=\"#000000\" points=\"404.4914,-741.5669 406.4397,-731.1527 398.4223,-738.0788 404.4914,-741.5669\"/>\n<text text-anchor=\"middle\" x=\"398.2976\" y=\"-753.8\" font-family=\"Times,serif\" font-size=\"14.00\" fill=\"#000000\">b</text>\n</g>\n<!-- dsopp -->\n<g id=\"node9\" class=\"node\">\n<title>dsopp</title>\n<ellipse fill=\"none\" stroke=\"#000000\" cx=\"168.2976\" cy=\"-627\" rx=\"33.5952\" ry=\"18\"/>\n<text text-anchor=\"middle\" x=\"168.2976\" y=\"-623.3\" font-family=\"Times,serif\" font-size=\"14.00\" fill=\"#000000\">dsopp</text>\n</g>\n<!-- rxmsq&#45;&gt;dsopp -->\n<g id=\"edge8\" class=\"edge\">\n<title>rxmsq&#45;&gt;dsopp</title>\n<path fill=\"none\" stroke=\"#000000\" d=\"M240.157,-698.0429C226.5118,-684.5527 206.7941,-665.059 191.4635,-649.9027\"/>\n<polygon fill=\"#000000\" stroke=\"#000000\" points=\"193.9079,-647.3976 184.3358,-642.856 188.9865,-652.3755 193.9079,-647.3976\"/>\n<text text-anchor=\"middle\" x=\"220.7976\" y=\"-666.8\" font-family=\"Times,serif\" font-size=\"14.00\" fill=\"#000000\">f</text>\n</g>\n<!-- qxmsq -->\n<g id=\"node20\" class=\"node\">\n<title>qxmsq</title>\n<ellipse fill=\"none\" stroke=\"#000000\" cx=\"256.2976\" cy=\"-627\" rx=\"36.2938\" ry=\"18\"/>\n<text text-anchor=\"middle\" x=\"256.2976\" y=\"-623.3\" font-family=\"Times,serif\" font-size=\"14.00\" fill=\"#000000\">qxmsq</text>\n</g>\n<!-- rxmsq&#45;&gt;qxmsq -->\n<g id=\"edge19\" class=\"edge\">\n<title>rxmsq&#45;&gt;qxmsq</title>\n<path fill=\"none\" stroke=\"#000000\" d=\"M256.2976,-695.9735C256.2976,-684.1918 256.2976,-668.5607 256.2976,-655.1581\"/>\n<polygon fill=\"#000000\" stroke=\"#000000\" points=\"259.7977,-655.0033 256.2976,-645.0034 252.7977,-655.0034 259.7977,-655.0033\"/>\n<text text-anchor=\"middle\" x=\"258.2976\" y=\"-666.8\" font-family=\"Times,serif\" font-size=\"14.00\" fill=\"#000000\">t</text>\n</g>\n<!-- won1 -->\n<g id=\"node10\" class=\"node\">\n<title>won1</title>\n<ellipse fill=\"none\" stroke=\"#000000\" cx=\"90.2976\" cy=\"-540\" rx=\"27.0966\" ry=\"18\"/>\n<text text-anchor=\"middle\" x=\"90.2976\" y=\"-536.3\" font-family=\"Times,serif\" font-size=\"14.00\" fill=\"#000000\">won</text>\n</g>\n<!-- dsopp&#45;&gt;won1 -->\n<g id=\"edge9\" class=\"edge\">\n<title>dsopp&#45;&gt;won1</title>\n<path fill=\"none\" stroke=\"#000000\" d=\"M153.6264,-610.636C141.7112,-597.346 124.7516,-578.4295 111.3814,-563.5166\"/>\n<polygon fill=\"#000000\" stroke=\"#000000\" points=\"113.6591,-560.814 104.3776,-555.7047 108.4471,-565.4868 113.6591,-560.814\"/>\n<text text-anchor=\"middle\" x=\"136.7976\" y=\"-579.8\" font-family=\"Times,serif\" font-size=\"14.00\" fill=\"#000000\">f</text>\n</g>\n<!-- dwipd -->\n<g id=\"node11\" class=\"node\">\n<title>dwipd</title>\n<ellipse fill=\"none\" stroke=\"#000000\" cx=\"170.2976\" cy=\"-540\" rx=\"34.394\" ry=\"18\"/>\n<text text-anchor=\"middle\" x=\"170.2976\" y=\"-536.3\" font-family=\"Times,serif\" font-size=\"14.00\" fill=\"#000000\">dwipd</text>\n</g>\n<!-- dsopp&#45;&gt;dwipd -->\n<g id=\"edge10\" class=\"edge\">\n<title>dsopp&#45;&gt;dwipd</title>\n<path fill=\"none\" stroke=\"#000000\" d=\"M168.712,-608.9735C168.9828,-597.1918 169.3422,-581.5607 169.6503,-568.1581\"/>\n<polygon fill=\"#000000\" stroke=\"#000000\" points=\"173.1529,-568.0812 169.8837,-558.0034 166.1547,-567.9202 173.1529,-568.0812\"/>\n<text text-anchor=\"middle\" x=\"172.2976\" y=\"-579.8\" font-family=\"Times,serif\" font-size=\"14.00\" fill=\"#000000\">t</text>\n</g>\n<!-- thrsk -->\n<g id=\"node12\" class=\"node\">\n<title>thrsk</title>\n<ellipse fill=\"none\" stroke=\"#000000\" cx=\"122.2976\" cy=\"-453\" rx=\"29.4969\" ry=\"18\"/>\n<text text-anchor=\"middle\" x=\"122.2976\" y=\"-449.3\" font-family=\"Times,serif\" font-size=\"14.00\" fill=\"#000000\">thrsk</text>\n</g>\n<!-- dwipd&#45;&gt;thrsk -->\n<g id=\"edge11\" class=\"edge\">\n<title>dwipd&#45;&gt;thrsk</title>\n<path fill=\"none\" stroke=\"#000000\" d=\"M160.5841,-522.3943C153.7732,-510.0496 144.5489,-493.3306 136.8611,-479.3965\"/>\n<polygon fill=\"#000000\" stroke=\"#000000\" points=\"139.7282,-477.3477 131.8328,-470.2827 133.5991,-480.7292 139.7282,-477.3477\"/>\n<text text-anchor=\"middle\" x=\"153.2976\" y=\"-492.8\" font-family=\"Times,serif\" font-size=\"14.00\" fill=\"#000000\">g</text>\n</g>\n<!-- won6 -->\n<g id=\"node19\" class=\"node\">\n<title>won6</title>\n<ellipse fill=\"none\" stroke=\"#000000\" cx=\"197.2976\" cy=\"-453\" rx=\"27.0966\" ry=\"18\"/>\n<text text-anchor=\"middle\" x=\"197.2976\" y=\"-449.3\" font-family=\"Times,serif\" font-size=\"14.00\" fill=\"#000000\">won</text>\n</g>\n<!-- dwipd&#45;&gt;won6 -->\n<g id=\"edge18\" class=\"edge\">\n<title>dwipd&#45;&gt;won6</title>\n<path fill=\"none\" stroke=\"#000000\" d=\"M175.892,-521.9735C179.6092,-509.9958 184.5612,-494.0396 188.7658,-480.4912\"/>\n<polygon fill=\"#000000\" stroke=\"#000000\" points=\"192.1814,-481.2938 191.8027,-470.7057 185.4959,-479.2189 192.1814,-481.2938\"/>\n<text text-anchor=\"middle\" x=\"188.2976\" y=\"-492.8\" font-family=\"Times,serif\" font-size=\"14.00\" fill=\"#000000\">l</text>\n</g>\n<!-- skewr -->\n<g id=\"node13\" class=\"node\">\n<title>skewr</title>\n<ellipse fill=\"none\" stroke=\"#000000\" cx=\"66.2976\" cy=\"-366\" rx=\"32.4942\" ry=\"18\"/>\n<text text-anchor=\"middle\" x=\"66.2976\" y=\"-362.3\" font-family=\"Times,serif\" font-size=\"14.00\" fill=\"#000000\">skewr</text>\n</g>\n<!-- thrsk&#45;&gt;skewr -->\n<g id=\"edge12\" class=\"edge\">\n<title>thrsk&#45;&gt;skewr</title>\n<path fill=\"none\" stroke=\"#000000\" d=\"M111.5002,-436.2255C103.3409,-423.5494 91.9996,-405.9299 82.7185,-391.5111\"/>\n<polygon fill=\"#000000\" stroke=\"#000000\" points=\"85.6084,-389.5341 77.2529,-383.0198 79.7223,-393.3229 85.6084,-389.5341\"/>\n<text text-anchor=\"middle\" x=\"100.7976\" y=\"-405.8\" font-family=\"Times,serif\" font-size=\"14.00\" fill=\"#000000\">f</text>\n</g>\n<!-- nowin5 -->\n<g id=\"node18\" class=\"node\">\n<title>nowin5</title>\n<ellipse fill=\"none\" stroke=\"#000000\" cx=\"151.2976\" cy=\"-366\" rx=\"34.394\" ry=\"18\"/>\n<text text-anchor=\"middle\" x=\"151.2976\" y=\"-362.3\" font-family=\"Times,serif\" font-size=\"14.00\" fill=\"#000000\">nowin</text>\n</g>\n<!-- thrsk&#45;&gt;nowin5 -->\n<g id=\"edge17\" class=\"edge\">\n<title>thrsk&#45;&gt;nowin5</title>\n<path fill=\"none\" stroke=\"#000000\" d=\"M128.3064,-434.9735C132.2725,-423.0751 137.5473,-407.2508 142.044,-393.7606\"/>\n<polygon fill=\"#000000\" stroke=\"#000000\" points=\"145.4545,-394.597 145.2965,-384.0034 138.8137,-392.3834 145.4545,-394.597\"/>\n<text text-anchor=\"middle\" x=\"141.2976\" y=\"-405.8\" font-family=\"Times,serif\" font-size=\"14.00\" fill=\"#000000\">t</text>\n</g>\n<!-- won2 -->\n<g id=\"node14\" class=\"node\">\n<title>won2</title>\n<ellipse fill=\"none\" stroke=\"#000000\" cx=\"27.2976\" cy=\"-279\" rx=\"27.0966\" ry=\"18\"/>\n<text text-anchor=\"middle\" x=\"27.2976\" y=\"-275.3\" font-family=\"Times,serif\" font-size=\"14.00\" fill=\"#000000\">won</text>\n</g>\n<!-- skewr&#45;&gt;won2 -->\n<g id=\"edge13\" class=\"edge\">\n<title>skewr&#45;&gt;won2</title>\n<path fill=\"none\" stroke=\"#000000\" d=\"M58.4053,-348.3943C52.9247,-336.1683 45.5208,-319.6517 39.311,-305.7992\"/>\n<polygon fill=\"#000000\" stroke=\"#000000\" points=\"42.3294,-303.976 35.045,-296.2827 35.9418,-306.8395 42.3294,-303.976\"/>\n<text text-anchor=\"middle\" x=\"51.7976\" y=\"-318.8\" font-family=\"Times,serif\" font-size=\"14.00\" fill=\"#000000\">f</text>\n</g>\n<!-- wtoeg -->\n<g id=\"node15\" class=\"node\">\n<title>wtoeg</title>\n<ellipse fill=\"none\" stroke=\"#000000\" cx=\"106.2976\" cy=\"-279\" rx=\"33.5952\" ry=\"18\"/>\n<text text-anchor=\"middle\" x=\"106.2976\" y=\"-275.3\" font-family=\"Times,serif\" font-size=\"14.00\" fill=\"#000000\">wtoeg</text>\n</g>\n<!-- skewr&#45;&gt;wtoeg -->\n<g id=\"edge14\" class=\"edge\">\n<title>skewr&#45;&gt;wtoeg</title>\n<path fill=\"none\" stroke=\"#000000\" d=\"M74.3922,-348.3943C80.0308,-336.1303 87.6544,-319.5489 94.0355,-305.67\"/>\n<polygon fill=\"#000000\" stroke=\"#000000\" points=\"97.2176,-307.1274 98.215,-296.5796 90.8576,-304.2032 97.2176,-307.1274\"/>\n<text text-anchor=\"middle\" x=\"91.2976\" y=\"-318.8\" font-family=\"Times,serif\" font-size=\"14.00\" fill=\"#000000\">t</text>\n</g>\n<!-- won3 -->\n<g id=\"node16\" class=\"node\">\n<title>won3</title>\n<ellipse fill=\"none\" stroke=\"#000000\" cx=\"66.2976\" cy=\"-192\" rx=\"27.0966\" ry=\"18\"/>\n<text text-anchor=\"middle\" x=\"66.2976\" y=\"-188.3\" font-family=\"Times,serif\" font-size=\"14.00\" fill=\"#000000\">won</text>\n</g>\n<!-- wtoeg&#45;&gt;won3 -->\n<g id=\"edge15\" class=\"edge\">\n<title>wtoeg&#45;&gt;won3</title>\n<path fill=\"none\" stroke=\"#000000\" d=\"M98.203,-261.3943C92.5273,-249.0496 84.8404,-232.3306 78.4339,-218.3965\"/>\n<polygon fill=\"#000000\" stroke=\"#000000\" points=\"81.601,-216.9063 74.2436,-209.2827 75.241,-219.8305 81.601,-216.9063\"/>\n<text text-anchor=\"middle\" x=\"93.2976\" y=\"-231.8\" font-family=\"Times,serif\" font-size=\"14.00\" fill=\"#000000\">n</text>\n</g>\n<!-- nowin4 -->\n<g id=\"node17\" class=\"node\">\n<title>nowin4</title>\n<ellipse fill=\"none\" stroke=\"#000000\" cx=\"146.2976\" cy=\"-192\" rx=\"34.394\" ry=\"18\"/>\n<text text-anchor=\"middle\" x=\"146.2976\" y=\"-188.3\" font-family=\"Times,serif\" font-size=\"14.00\" fill=\"#000000\">nowin</text>\n</g>\n<!-- wtoeg&#45;&gt;nowin4 -->\n<g id=\"edge16\" class=\"edge\">\n<title>wtoeg&#45;&gt;nowin4</title>\n<path fill=\"none\" stroke=\"#000000\" d=\"M114.3922,-261.3943C120.0308,-249.1303 127.6544,-232.5489 134.0355,-218.67\"/>\n<polygon fill=\"#000000\" stroke=\"#000000\" points=\"137.2176,-220.1274 138.215,-209.5796 130.8576,-217.2032 137.2176,-220.1274\"/>\n<text text-anchor=\"middle\" x=\"131.2976\" y=\"-231.8\" font-family=\"Times,serif\" font-size=\"14.00\" fill=\"#000000\">t</text>\n</g>\n<!-- won7 -->\n<g id=\"node21\" class=\"node\">\n<title>won7</title>\n<ellipse fill=\"none\" stroke=\"#000000\" cx=\"252.2976\" cy=\"-540\" rx=\"27.0966\" ry=\"18\"/>\n<text text-anchor=\"middle\" x=\"252.2976\" y=\"-536.3\" font-family=\"Times,serif\" font-size=\"14.00\" fill=\"#000000\">won</text>\n</g>\n<!-- qxmsq&#45;&gt;won7 -->\n<g id=\"edge20\" class=\"edge\">\n<title>qxmsq&#45;&gt;won7</title>\n<path fill=\"none\" stroke=\"#000000\" d=\"M255.4688,-608.9735C254.9271,-597.1918 254.2084,-581.5607 253.5922,-568.1581\"/>\n<polygon fill=\"#000000\" stroke=\"#000000\" points=\"257.081,-567.832 253.1253,-558.0034 250.0884,-568.1536 257.081,-567.832\"/>\n<text text-anchor=\"middle\" x=\"257.2976\" y=\"-579.8\" font-family=\"Times,serif\" font-size=\"14.00\" fill=\"#000000\">t</text>\n</g>\n<!-- nowin8 -->\n<g id=\"node22\" class=\"node\">\n<title>nowin8</title>\n<ellipse fill=\"none\" stroke=\"#000000\" cx=\"332.2976\" cy=\"-540\" rx=\"34.394\" ry=\"18\"/>\n<text text-anchor=\"middle\" x=\"332.2976\" y=\"-536.3\" font-family=\"Times,serif\" font-size=\"14.00\" fill=\"#000000\">nowin</text>\n</g>\n<!-- qxmsq&#45;&gt;nowin8 -->\n<g id=\"edge21\" class=\"edge\">\n<title>qxmsq&#45;&gt;nowin8</title>\n<path fill=\"none\" stroke=\"#000000\" d=\"M270.9511,-610.2255C282.379,-597.1436 298.4062,-578.7967 311.2129,-564.1364\"/>\n<polygon fill=\"#000000\" stroke=\"#000000\" points=\"314.0037,-566.2617 317.9467,-556.4279 308.7319,-561.6565 314.0037,-566.2617\"/>\n<text text-anchor=\"middle\" x=\"301.7976\" y=\"-579.8\" font-family=\"Times,serif\" font-size=\"14.00\" fill=\"#000000\">f</text>\n</g>\n<!-- won10 -->\n<g id=\"node25\" class=\"node\">\n<title>won10</title>\n<ellipse fill=\"none\" stroke=\"#000000\" cx=\"338.2976\" cy=\"-627\" rx=\"27.0966\" ry=\"18\"/>\n<text text-anchor=\"middle\" x=\"338.2976\" y=\"-623.3\" font-family=\"Times,serif\" font-size=\"14.00\" fill=\"#000000\">won</text>\n</g>\n<!-- bkblk&#45;&gt;won10 -->\n<g id=\"edge24\" class=\"edge\">\n<title>bkblk&#45;&gt;won10</title>\n<path fill=\"none\" stroke=\"#000000\" d=\"M401.6264,-697.636C389.7112,-684.346 372.7516,-665.4295 359.3814,-650.5166\"/>\n<polygon fill=\"#000000\" stroke=\"#000000\" points=\"361.6591,-647.814 352.3776,-642.7047 356.4471,-652.4868 361.6591,-647.814\"/>\n<text text-anchor=\"middle\" x=\"384.2976\" y=\"-666.8\" font-family=\"Times,serif\" font-size=\"14.00\" fill=\"#000000\">t</text>\n</g>\n<!-- nowin11 -->\n<g id=\"node26\" class=\"node\">\n<title>nowin11</title>\n<ellipse fill=\"none\" stroke=\"#000000\" cx=\"418.2976\" cy=\"-627\" rx=\"34.394\" ry=\"18\"/>\n<text text-anchor=\"middle\" x=\"418.2976\" y=\"-623.3\" font-family=\"Times,serif\" font-size=\"14.00\" fill=\"#000000\">nowin</text>\n</g>\n<!-- bkblk&#45;&gt;nowin11 -->\n<g id=\"edge25\" class=\"edge\">\n<title>bkblk&#45;&gt;nowin11</title>\n<path fill=\"none\" stroke=\"#000000\" d=\"M416.712,-695.9735C416.9828,-684.1918 417.3422,-668.5607 417.6503,-655.1581\"/>\n<polygon fill=\"#000000\" stroke=\"#000000\" points=\"421.1529,-655.0812 417.8837,-645.0034 414.1547,-654.9202 421.1529,-655.0812\"/>\n<text text-anchor=\"middle\" x=\"420.7976\" y=\"-666.8\" font-family=\"Times,serif\" font-size=\"14.00\" fill=\"#000000\">f</text>\n</g>\n<!-- won13 -->\n<g id=\"node28\" class=\"node\">\n<title>won13</title>\n<ellipse fill=\"none\" stroke=\"#000000\" cx=\"550.2976\" cy=\"-801\" rx=\"27.0966\" ry=\"18\"/>\n<text text-anchor=\"middle\" x=\"550.2976\" y=\"-797.3\" font-family=\"Times,serif\" font-size=\"14.00\" fill=\"#000000\">won</text>\n</g>\n<!-- bkxbq12&#45;&gt;won13 -->\n<g id=\"edge27\" class=\"edge\">\n<title>bkxbq12&#45;&gt;won13</title>\n<path fill=\"none\" stroke=\"#000000\" d=\"M604.3793,-871.2255C594.3344,-858.1822 580.2588,-839.9049 568.9853,-825.2662\"/>\n<polygon fill=\"#000000\" stroke=\"#000000\" points=\"571.5977,-822.922 562.7232,-817.1347 566.0517,-827.1931 571.5977,-822.922\"/>\n<text text-anchor=\"middle\" x=\"590.2976\" y=\"-840.8\" font-family=\"Times,serif\" font-size=\"14.00\" fill=\"#000000\">t</text>\n</g>\n<!-- wkna8 -->\n<g id=\"node29\" class=\"node\">\n<title>wkna8</title>\n<ellipse fill=\"none\" stroke=\"#000000\" cx=\"632.2976\" cy=\"-801\" rx=\"36.2938\" ry=\"18\"/>\n<text text-anchor=\"middle\" x=\"632.2976\" y=\"-797.3\" font-family=\"Times,serif\" font-size=\"14.00\" fill=\"#000000\">wkna8</text>\n</g>\n<!-- bkxbq12&#45;&gt;wkna8 -->\n<g id=\"edge28\" class=\"edge\">\n<title>bkxbq12&#45;&gt;wkna8</title>\n<path fill=\"none\" stroke=\"#000000\" d=\"M620.4056,-869.9735C622.4369,-858.1918 625.1319,-842.5607 627.4427,-829.1581\"/>\n<polygon fill=\"#000000\" stroke=\"#000000\" points=\"630.9435,-829.4527 629.1935,-819.0034 624.0453,-828.2633 630.9435,-829.4527\"/>\n<text text-anchor=\"middle\" x=\"628.7976\" y=\"-840.8\" font-family=\"Times,serif\" font-size=\"14.00\" fill=\"#000000\">f</text>\n</g>\n<!-- bknwy -->\n<g id=\"node30\" class=\"node\">\n<title>bknwy</title>\n<ellipse fill=\"none\" stroke=\"#000000\" cx=\"588.2976\" cy=\"-714\" rx=\"37.0935\" ry=\"18\"/>\n<text text-anchor=\"middle\" x=\"588.2976\" y=\"-710.3\" font-family=\"Times,serif\" font-size=\"14.00\" fill=\"#000000\">bknwy</text>\n</g>\n<!-- wkna8&#45;&gt;bknwy -->\n<g id=\"edge29\" class=\"edge\">\n<title>wkna8&#45;&gt;bknwy</title>\n<path fill=\"none\" stroke=\"#000000\" d=\"M623.3935,-783.3943C617.1911,-771.1303 608.8051,-754.5489 601.7859,-740.67\"/>\n<polygon fill=\"#000000\" stroke=\"#000000\" points=\"604.8248,-738.9236 597.1884,-731.5796 598.5783,-742.0828 604.8248,-738.9236\"/>\n<text text-anchor=\"middle\" x=\"615.2976\" y=\"-753.8\" font-family=\"Times,serif\" font-size=\"14.00\" fill=\"#000000\">t</text>\n</g>\n<!-- katri18 -->\n<g id=\"node37\" class=\"node\">\n<title>katri18</title>\n<ellipse fill=\"none\" stroke=\"#000000\" cx=\"678.2976\" cy=\"-714\" rx=\"27.0966\" ry=\"18\"/>\n<text text-anchor=\"middle\" x=\"678.2976\" y=\"-710.3\" font-family=\"Times,serif\" font-size=\"14.00\" fill=\"#000000\">katri</text>\n</g>\n<!-- wkna8&#45;&gt;katri18 -->\n<g id=\"edge36\" class=\"edge\">\n<title>wkna8&#45;&gt;katri18</title>\n<path fill=\"none\" stroke=\"#000000\" d=\"M641.6064,-783.3943C648.1334,-771.0496 656.9734,-754.3306 664.3408,-740.3965\"/>\n<polygon fill=\"#000000\" stroke=\"#000000\" points=\"667.5795,-741.759 669.1596,-731.2827 661.3912,-738.487 667.5795,-741.759\"/>\n<text text-anchor=\"middle\" x=\"660.7976\" y=\"-753.8\" font-family=\"Times,serif\" font-size=\"14.00\" fill=\"#000000\">f</text>\n</g>\n<!-- nowin14 -->\n<g id=\"node31\" class=\"node\">\n<title>nowin14</title>\n<ellipse fill=\"none\" stroke=\"#000000\" cx=\"505.2976\" cy=\"-627\" rx=\"34.394\" ry=\"18\"/>\n<text text-anchor=\"middle\" x=\"505.2976\" y=\"-623.3\" font-family=\"Times,serif\" font-size=\"14.00\" fill=\"#000000\">nowin</text>\n</g>\n<!-- bknwy&#45;&gt;nowin14 -->\n<g id=\"edge30\" class=\"edge\">\n<title>bknwy&#45;&gt;nowin14</title>\n<path fill=\"none\" stroke=\"#000000\" d=\"M572.6859,-697.636C560.0495,-684.3906 542.0813,-665.5564 527.8763,-650.6669\"/>\n<polygon fill=\"#000000\" stroke=\"#000000\" points=\"530.2745,-648.1101 520.8392,-643.2907 525.2096,-652.9421 530.2745,-648.1101\"/>\n<text text-anchor=\"middle\" x=\"554.7976\" y=\"-666.8\" font-family=\"Times,serif\" font-size=\"14.00\" fill=\"#000000\">f</text>\n</g>\n<!-- r2ar8 -->\n<g id=\"node32\" class=\"node\">\n<title>r2ar8</title>\n<ellipse fill=\"none\" stroke=\"#000000\" cx=\"588.2976\" cy=\"-627\" rx=\"30.5947\" ry=\"18\"/>\n<text text-anchor=\"middle\" x=\"588.2976\" y=\"-623.3\" font-family=\"Times,serif\" font-size=\"14.00\" fill=\"#000000\">r2ar8</text>\n</g>\n<!-- bknwy&#45;&gt;r2ar8 -->\n<g id=\"edge31\" class=\"edge\">\n<title>bknwy&#45;&gt;r2ar8</title>\n<path fill=\"none\" stroke=\"#000000\" d=\"M588.2976,-695.9735C588.2976,-684.1918 588.2976,-668.5607 588.2976,-655.1581\"/>\n<polygon fill=\"#000000\" stroke=\"#000000\" points=\"591.7977,-655.0033 588.2976,-645.0034 584.7977,-655.0034 591.7977,-655.0033\"/>\n<text text-anchor=\"middle\" x=\"590.2976\" y=\"-666.8\" font-family=\"Times,serif\" font-size=\"14.00\" fill=\"#000000\">t</text>\n</g>\n<!-- simpl -->\n<g id=\"node33\" class=\"node\">\n<title>simpl</title>\n<ellipse fill=\"none\" stroke=\"#000000\" cx=\"417.2976\" cy=\"-540\" rx=\"31.3957\" ry=\"18\"/>\n<text text-anchor=\"middle\" x=\"417.2976\" y=\"-536.3\" font-family=\"Times,serif\" font-size=\"14.00\" fill=\"#000000\">simpl</text>\n</g>\n<!-- r2ar8&#45;&gt;simpl -->\n<g id=\"edge32\" class=\"edge\">\n<title>r2ar8&#45;&gt;simpl</title>\n<path fill=\"none\" stroke=\"#000000\" d=\"M564.8793,-615.0854C535.0308,-599.8994 483.281,-573.5705 449.6719,-556.4712\"/>\n<polygon fill=\"#000000\" stroke=\"#000000\" points=\"451.2067,-553.3251 440.7068,-551.9099 448.0324,-559.564 451.2067,-553.3251\"/>\n<text text-anchor=\"middle\" x=\"515.7976\" y=\"-579.8\" font-family=\"Times,serif\" font-size=\"14.00\" fill=\"#000000\">f</text>\n</g>\n<!-- nowin17 -->\n<g id=\"node36\" class=\"node\">\n<title>nowin17</title>\n<ellipse fill=\"none\" stroke=\"#000000\" cx=\"501.2976\" cy=\"-540\" rx=\"34.394\" ry=\"18\"/>\n<text text-anchor=\"middle\" x=\"501.2976\" y=\"-536.3\" font-family=\"Times,serif\" font-size=\"14.00\" fill=\"#000000\">nowin</text>\n</g>\n<!-- r2ar8&#45;&gt;nowin17 -->\n<g id=\"edge35\" class=\"edge\">\n<title>r2ar8&#45;&gt;nowin17</title>\n<path fill=\"none\" stroke=\"#000000\" d=\"M572.7437,-611.4461C559.3029,-598.0054 539.6893,-578.3917 524.4112,-563.1136\"/>\n<polygon fill=\"#000000\" stroke=\"#000000\" points=\"526.8514,-560.604 517.3054,-556.0078 521.9016,-565.5538 526.8514,-560.604\"/>\n<text text-anchor=\"middle\" x=\"552.2976\" y=\"-579.8\" font-family=\"Times,serif\" font-size=\"14.00\" fill=\"#000000\">t</text>\n</g>\n<!-- nowin15 -->\n<g id=\"node34\" class=\"node\">\n<title>nowin15</title>\n<ellipse fill=\"none\" stroke=\"#000000\" cx=\"344.2976\" cy=\"-453\" rx=\"34.394\" ry=\"18\"/>\n<text text-anchor=\"middle\" x=\"344.2976\" y=\"-449.3\" font-family=\"Times,serif\" font-size=\"14.00\" fill=\"#000000\">nowin</text>\n</g>\n<!-- simpl&#45;&gt;nowin15 -->\n<g id=\"edge33\" class=\"edge\">\n<title>simpl&#45;&gt;nowin15</title>\n<path fill=\"none\" stroke=\"#000000\" d=\"M403.5668,-523.636C392.6245,-510.5952 377.1366,-492.1369 364.7372,-477.3596\"/>\n<polygon fill=\"#000000\" stroke=\"#000000\" points=\"367.324,-474.9973 358.2149,-469.5865 361.9616,-479.4967 367.324,-474.9973\"/>\n<text text-anchor=\"middle\" x=\"387.2976\" y=\"-492.8\" font-family=\"Times,serif\" font-size=\"14.00\" fill=\"#000000\">t</text>\n</g>\n<!-- won16 -->\n<g id=\"node35\" class=\"node\">\n<title>won16</title>\n<ellipse fill=\"none\" stroke=\"#000000\" cx=\"424.2976\" cy=\"-453\" rx=\"27.0966\" ry=\"18\"/>\n<text text-anchor=\"middle\" x=\"424.2976\" y=\"-449.3\" font-family=\"Times,serif\" font-size=\"14.00\" fill=\"#000000\">won</text>\n</g>\n<!-- simpl&#45;&gt;won16 -->\n<g id=\"edge34\" class=\"edge\">\n<title>simpl&#45;&gt;won16</title>\n<path fill=\"none\" stroke=\"#000000\" d=\"M418.748,-521.9735C419.6959,-510.1918 420.9536,-494.5607 422.032,-481.1581\"/>\n<polygon fill=\"#000000\" stroke=\"#000000\" points=\"425.5357,-481.2519 422.849,-471.0034 418.5582,-480.6904 425.5357,-481.2519\"/>\n<text text-anchor=\"middle\" x=\"423.7976\" y=\"-492.8\" font-family=\"Times,serif\" font-size=\"14.00\" fill=\"#000000\">f</text>\n</g>\n<!-- bkblk19 -->\n<g id=\"node38\" class=\"node\">\n<title>bkblk19</title>\n<ellipse fill=\"none\" stroke=\"#000000\" cx=\"672.2976\" cy=\"-627\" rx=\"32.4942\" ry=\"18\"/>\n<text text-anchor=\"middle\" x=\"672.2976\" y=\"-623.3\" font-family=\"Times,serif\" font-size=\"14.00\" fill=\"#000000\">bkblk</text>\n</g>\n<!-- katri18&#45;&gt;bkblk19 -->\n<g id=\"edge37\" class=\"edge\">\n<title>katri18&#45;&gt;bkblk19</title>\n<path fill=\"none\" stroke=\"#000000\" d=\"M677.0544,-695.9735C676.2418,-684.1918 675.1638,-668.5607 674.2395,-655.1581\"/>\n<polygon fill=\"#000000\" stroke=\"#000000\" points=\"677.719,-654.7388 673.5392,-645.0034 670.7356,-655.2205 677.719,-654.7388\"/>\n<text text-anchor=\"middle\" x=\"680.2976\" y=\"-666.8\" font-family=\"Times,serif\" font-size=\"14.00\" fill=\"#000000\">n</text>\n</g>\n<!-- bkblk27 -->\n<g id=\"node51\" class=\"node\">\n<title>bkblk27</title>\n<ellipse fill=\"none\" stroke=\"#000000\" cx=\"756.2976\" cy=\"-627\" rx=\"32.4942\" ry=\"18\"/>\n<text text-anchor=\"middle\" x=\"756.2976\" y=\"-623.3\" font-family=\"Times,serif\" font-size=\"14.00\" fill=\"#000000\">bkblk</text>\n</g>\n<!-- katri18&#45;&gt;bkblk27 -->\n<g id=\"edge50\" class=\"edge\">\n<title>katri18&#45;&gt;bkblk27</title>\n<path fill=\"none\" stroke=\"#000000\" d=\"M692.2424,-698.4461C704.1086,-685.2108 721.3412,-665.9898 734.9443,-650.8172\"/>\n<polygon fill=\"#000000\" stroke=\"#000000\" points=\"737.6098,-653.0871 741.6793,-643.305 732.3978,-648.4143 737.6098,-653.0871\"/>\n<text text-anchor=\"middle\" x=\"726.2976\" y=\"-666.8\" font-family=\"Times,serif\" font-size=\"14.00\" fill=\"#000000\">b</text>\n</g>\n<!-- won33 -->\n<g id=\"node58\" class=\"node\">\n<title>won33</title>\n<ellipse fill=\"none\" stroke=\"#000000\" cx=\"834.2976\" cy=\"-627\" rx=\"27.0966\" ry=\"18\"/>\n<text text-anchor=\"middle\" x=\"834.2976\" y=\"-623.3\" font-family=\"Times,serif\" font-size=\"14.00\" fill=\"#000000\">won</text>\n</g>\n<!-- katri18&#45;&gt;won33 -->\n<g id=\"edge57\" class=\"edge\">\n<title>katri18&#45;&gt;won33</title>\n<path fill=\"none\" stroke=\"#000000\" d=\"M699.3364,-702.2668C726.3942,-687.1769 773.5596,-660.8731 804.353,-643.6999\"/>\n<polygon fill=\"#000000\" stroke=\"#000000\" points=\"806.3146,-646.6134 813.3435,-638.6859 802.9051,-640.4999 806.3146,-646.6134\"/>\n<text text-anchor=\"middle\" x=\"771.7976\" y=\"-666.8\" font-family=\"Times,serif\" font-size=\"14.00\" fill=\"#000000\">w</text>\n</g>\n<!-- hdchk -->\n<g id=\"node39\" class=\"node\">\n<title>hdchk</title>\n<ellipse fill=\"none\" stroke=\"#000000\" cx=\"588.2976\" cy=\"-540\" rx=\"34.394\" ry=\"18\"/>\n<text text-anchor=\"middle\" x=\"588.2976\" y=\"-536.3\" font-family=\"Times,serif\" font-size=\"14.00\" fill=\"#000000\">hdchk</text>\n</g>\n<!-- bkblk19&#45;&gt;hdchk -->\n<g id=\"edge38\" class=\"edge\">\n<title>bkblk19&#45;&gt;hdchk</title>\n<path fill=\"none\" stroke=\"#000000\" d=\"M656.8907,-611.0429C644.0648,-597.7589 625.6182,-578.6535 611.0844,-563.6006\"/>\n<polygon fill=\"#000000\" stroke=\"#000000\" points=\"613.3552,-560.9136 603.8913,-556.1506 608.3193,-565.7757 613.3552,-560.9136\"/>\n<text text-anchor=\"middle\" x=\"638.2976\" y=\"-579.8\" font-family=\"Times,serif\" font-size=\"14.00\" fill=\"#000000\">t</text>\n</g>\n<!-- wkcti -->\n<g id=\"node42\" class=\"node\">\n<title>wkcti</title>\n<ellipse fill=\"none\" stroke=\"#000000\" cx=\"672.2976\" cy=\"-540\" rx=\"31.3957\" ry=\"18\"/>\n<text text-anchor=\"middle\" x=\"672.2976\" y=\"-536.3\" font-family=\"Times,serif\" font-size=\"14.00\" fill=\"#000000\">wkcti</text>\n</g>\n<!-- bkblk19&#45;&gt;wkcti -->\n<g id=\"edge41\" class=\"edge\">\n<title>bkblk19&#45;&gt;wkcti</title>\n<path fill=\"none\" stroke=\"#000000\" d=\"M672.2976,-608.9735C672.2976,-597.1918 672.2976,-581.5607 672.2976,-568.1581\"/>\n<polygon fill=\"#000000\" stroke=\"#000000\" points=\"675.7977,-568.0033 672.2976,-558.0034 668.7977,-568.0034 675.7977,-568.0033\"/>\n<text text-anchor=\"middle\" x=\"674.7976\" y=\"-579.8\" font-family=\"Times,serif\" font-size=\"14.00\" fill=\"#000000\">f</text>\n</g>\n<!-- won20 -->\n<g id=\"node40\" class=\"node\">\n<title>won20</title>\n<ellipse fill=\"none\" stroke=\"#000000\" cx=\"504.2976\" cy=\"-453\" rx=\"27.0966\" ry=\"18\"/>\n<text text-anchor=\"middle\" x=\"504.2976\" y=\"-449.3\" font-family=\"Times,serif\" font-size=\"14.00\" fill=\"#000000\">won</text>\n</g>\n<!-- hdchk&#45;&gt;won20 -->\n<g id=\"edge39\" class=\"edge\">\n<title>hdchk&#45;&gt;won20</title>\n<path fill=\"none\" stroke=\"#000000\" d=\"M572.4978,-523.636C559.4663,-510.1391 540.832,-490.8392 526.3336,-475.8231\"/>\n<polygon fill=\"#000000\" stroke=\"#000000\" points=\"528.6444,-473.1775 519.1806,-468.4145 523.6086,-478.0396 528.6444,-473.1775\"/>\n<text text-anchor=\"middle\" x=\"554.7976\" y=\"-492.8\" font-family=\"Times,serif\" font-size=\"14.00\" fill=\"#000000\">f</text>\n</g>\n<!-- nowin21 -->\n<g id=\"node41\" class=\"node\">\n<title>nowin21</title>\n<ellipse fill=\"none\" stroke=\"#000000\" cx=\"584.2976\" cy=\"-453\" rx=\"34.394\" ry=\"18\"/>\n<text text-anchor=\"middle\" x=\"584.2976\" y=\"-449.3\" font-family=\"Times,serif\" font-size=\"14.00\" fill=\"#000000\">nowin</text>\n</g>\n<!-- hdchk&#45;&gt;nowin21 -->\n<g id=\"edge40\" class=\"edge\">\n<title>hdchk&#45;&gt;nowin21</title>\n<path fill=\"none\" stroke=\"#000000\" d=\"M587.4688,-521.9735C586.9271,-510.1918 586.2084,-494.5607 585.5922,-481.1581\"/>\n<polygon fill=\"#000000\" stroke=\"#000000\" points=\"589.081,-480.832 585.1253,-471.0034 582.0884,-481.1536 589.081,-480.832\"/>\n<text text-anchor=\"middle\" x=\"589.2976\" y=\"-492.8\" font-family=\"Times,serif\" font-size=\"14.00\" fill=\"#000000\">t</text>\n</g>\n<!-- wkovl -->\n<g id=\"node43\" class=\"node\">\n<title>wkovl</title>\n<ellipse fill=\"none\" stroke=\"#000000\" cx=\"671.2976\" cy=\"-453\" rx=\"34.394\" ry=\"18\"/>\n<text text-anchor=\"middle\" x=\"671.2976\" y=\"-449.3\" font-family=\"Times,serif\" font-size=\"14.00\" fill=\"#000000\">wkovl</text>\n</g>\n<!-- wkcti&#45;&gt;wkovl -->\n<g id=\"edge42\" class=\"edge\">\n<title>wkcti&#45;&gt;wkovl</title>\n<path fill=\"none\" stroke=\"#000000\" d=\"M672.0904,-521.9735C671.955,-510.1918 671.7753,-494.5607 671.6212,-481.1581\"/>\n<polygon fill=\"#000000\" stroke=\"#000000\" points=\"675.1193,-480.9624 671.5045,-471.0034 668.1198,-481.043 675.1193,-480.9624\"/>\n<text text-anchor=\"middle\" x=\"674.2976\" y=\"-492.8\" font-family=\"Times,serif\" font-size=\"14.00\" fill=\"#000000\">t</text>\n</g>\n<!-- nowin26 -->\n<g id=\"node50\" class=\"node\">\n<title>nowin26</title>\n<ellipse fill=\"none\" stroke=\"#000000\" cx=\"758.2976\" cy=\"-453\" rx=\"34.394\" ry=\"18\"/>\n<text text-anchor=\"middle\" x=\"758.2976\" y=\"-449.3\" font-family=\"Times,serif\" font-size=\"14.00\" fill=\"#000000\">nowin</text>\n</g>\n<!-- wkcti&#45;&gt;nowin26 -->\n<g id=\"edge49\" class=\"edge\">\n<title>wkcti&#45;&gt;nowin26</title>\n<path fill=\"none\" stroke=\"#000000\" d=\"M688.0713,-524.0429C701.2026,-510.7589 720.0883,-491.6535 734.9682,-476.6006\"/>\n<polygon fill=\"#000000\" stroke=\"#000000\" points=\"737.7917,-478.723 742.3326,-469.1506 732.8134,-473.8019 737.7917,-478.723\"/>\n<text text-anchor=\"middle\" x=\"723.7976\" y=\"-492.8\" font-family=\"Times,serif\" font-size=\"14.00\" fill=\"#000000\">f</text>\n</g>\n<!-- nowin22 -->\n<g id=\"node44\" class=\"node\">\n<title>nowin22</title>\n<ellipse fill=\"none\" stroke=\"#000000\" cx=\"603.2976\" cy=\"-366\" rx=\"34.394\" ry=\"18\"/>\n<text text-anchor=\"middle\" x=\"603.2976\" y=\"-362.3\" font-family=\"Times,serif\" font-size=\"14.00\" fill=\"#000000\">nowin</text>\n</g>\n<!-- wkovl&#45;&gt;nowin22 -->\n<g id=\"edge43\" class=\"edge\">\n<title>wkovl&#45;&gt;nowin22</title>\n<path fill=\"none\" stroke=\"#000000\" d=\"M658.1865,-436.2255C648.1208,-423.3473 634.067,-405.3667 622.7001,-390.8238\"/>\n<polygon fill=\"#000000\" stroke=\"#000000\" points=\"625.2843,-388.4465 616.3684,-382.723 619.769,-392.7573 625.2843,-388.4465\"/>\n<text text-anchor=\"middle\" x=\"644.2976\" y=\"-405.8\" font-family=\"Times,serif\" font-size=\"14.00\" fill=\"#000000\">t</text>\n</g>\n<!-- reskr -->\n<g id=\"node45\" class=\"node\">\n<title>reskr</title>\n<ellipse fill=\"none\" stroke=\"#000000\" cx=\"684.2976\" cy=\"-366\" rx=\"28.6953\" ry=\"18\"/>\n<text text-anchor=\"middle\" x=\"684.2976\" y=\"-362.3\" font-family=\"Times,serif\" font-size=\"14.00\" fill=\"#000000\">reskr</text>\n</g>\n<!-- wkovl&#45;&gt;reskr -->\n<g id=\"edge44\" class=\"edge\">\n<title>wkovl&#45;&gt;reskr</title>\n<path fill=\"none\" stroke=\"#000000\" d=\"M673.9912,-434.9735C675.7517,-423.1918 678.0874,-407.5607 680.09,-394.1581\"/>\n<polygon fill=\"#000000\" stroke=\"#000000\" points=\"683.5911,-394.4108 681.6074,-384.0034 676.6679,-393.3763 683.5911,-394.4108\"/>\n<text text-anchor=\"middle\" x=\"681.7976\" y=\"-405.8\" font-family=\"Times,serif\" font-size=\"14.00\" fill=\"#000000\">f</text>\n</g>\n<!-- skach -->\n<g id=\"node46\" class=\"node\">\n<title>skach</title>\n<ellipse fill=\"none\" stroke=\"#000000\" cx=\"628.2976\" cy=\"-279\" rx=\"31.6951\" ry=\"18\"/>\n<text text-anchor=\"middle\" x=\"628.2976\" y=\"-275.3\" font-family=\"Times,serif\" font-size=\"14.00\" fill=\"#000000\">skach</text>\n</g>\n<!-- reskr&#45;&gt;skach -->\n<g id=\"edge45\" class=\"edge\">\n<title>reskr&#45;&gt;skach</title>\n<path fill=\"none\" stroke=\"#000000\" d=\"M673.5002,-349.2255C665.3409,-336.5494 653.9996,-318.9299 644.7185,-304.5111\"/>\n<polygon fill=\"#000000\" stroke=\"#000000\" points=\"647.6084,-302.5341 639.2529,-296.0198 641.7223,-306.3229 647.6084,-302.5341\"/>\n<text text-anchor=\"middle\" x=\"662.7976\" y=\"-318.8\" font-family=\"Times,serif\" font-size=\"14.00\" fill=\"#000000\">f</text>\n</g>\n<!-- nowin25 -->\n<g id=\"node49\" class=\"node\">\n<title>nowin25</title>\n<ellipse fill=\"none\" stroke=\"#000000\" cx=\"712.2976\" cy=\"-279\" rx=\"34.394\" ry=\"18\"/>\n<text text-anchor=\"middle\" x=\"712.2976\" y=\"-275.3\" font-family=\"Times,serif\" font-size=\"14.00\" fill=\"#000000\">nowin</text>\n</g>\n<!-- reskr&#45;&gt;nowin25 -->\n<g id=\"edge48\" class=\"edge\">\n<title>reskr&#45;&gt;nowin25</title>\n<path fill=\"none\" stroke=\"#000000\" d=\"M690.0992,-347.9735C693.9286,-336.0751 699.0215,-320.2508 703.3631,-306.7606\"/>\n<polygon fill=\"#000000\" stroke=\"#000000\" points=\"706.7714,-307.5948 706.5034,-297.0034 700.108,-305.4502 706.7714,-307.5948\"/>\n<text text-anchor=\"middle\" x=\"702.2976\" y=\"-318.8\" font-family=\"Times,serif\" font-size=\"14.00\" fill=\"#000000\">t</text>\n</g>\n<!-- won23 -->\n<g id=\"node47\" class=\"node\">\n<title>won23</title>\n<ellipse fill=\"none\" stroke=\"#000000\" cx=\"582.2976\" cy=\"-192\" rx=\"27.0966\" ry=\"18\"/>\n<text text-anchor=\"middle\" x=\"582.2976\" y=\"-188.3\" font-family=\"Times,serif\" font-size=\"14.00\" fill=\"#000000\">won</text>\n</g>\n<!-- skach&#45;&gt;won23 -->\n<g id=\"edge46\" class=\"edge\">\n<title>skach&#45;&gt;won23</title>\n<path fill=\"none\" stroke=\"#000000\" d=\"M618.9888,-261.3943C612.4617,-249.0496 603.6218,-232.3306 596.2543,-218.3965\"/>\n<polygon fill=\"#000000\" stroke=\"#000000\" points=\"599.2039,-216.487 591.4355,-209.2827 593.0157,-219.759 599.2039,-216.487\"/>\n<text text-anchor=\"middle\" x=\"610.7976\" y=\"-231.8\" font-family=\"Times,serif\" font-size=\"14.00\" fill=\"#000000\">f</text>\n</g>\n<!-- nowin24 -->\n<g id=\"node48\" class=\"node\">\n<title>nowin24</title>\n<ellipse fill=\"none\" stroke=\"#000000\" cx=\"662.2976\" cy=\"-192\" rx=\"34.394\" ry=\"18\"/>\n<text text-anchor=\"middle\" x=\"662.2976\" y=\"-188.3\" font-family=\"Times,serif\" font-size=\"14.00\" fill=\"#000000\">nowin</text>\n</g>\n<!-- skach&#45;&gt;nowin24 -->\n<g id=\"edge47\" class=\"edge\">\n<title>skach&#45;&gt;nowin24</title>\n<path fill=\"none\" stroke=\"#000000\" d=\"M635.178,-261.3943C639.8935,-249.3281 646.2422,-233.0828 651.6115,-219.3438\"/>\n<polygon fill=\"#000000\" stroke=\"#000000\" points=\"654.9306,-220.4662 655.3107,-209.8782 648.4108,-217.9182 654.9306,-220.4662\"/>\n<text text-anchor=\"middle\" x=\"650.2976\" y=\"-231.8\" font-family=\"Times,serif\" font-size=\"14.00\" fill=\"#000000\">t</text>\n</g>\n<!-- nowin28 -->\n<g id=\"node52\" class=\"node\">\n<title>nowin28</title>\n<ellipse fill=\"none\" stroke=\"#000000\" cx=\"756.2976\" cy=\"-540\" rx=\"34.394\" ry=\"18\"/>\n<text text-anchor=\"middle\" x=\"756.2976\" y=\"-536.3\" font-family=\"Times,serif\" font-size=\"14.00\" fill=\"#000000\">nowin</text>\n</g>\n<!-- bkblk27&#45;&gt;nowin28 -->\n<g id=\"edge51\" class=\"edge\">\n<title>bkblk27&#45;&gt;nowin28</title>\n<path fill=\"none\" stroke=\"#000000\" d=\"M756.2976,-608.9735C756.2976,-597.1918 756.2976,-581.5607 756.2976,-568.1581\"/>\n<polygon fill=\"#000000\" stroke=\"#000000\" points=\"759.7977,-568.0033 756.2976,-558.0034 752.7977,-568.0034 759.7977,-568.0033\"/>\n<text text-anchor=\"middle\" x=\"758.7976\" y=\"-579.8\" font-family=\"Times,serif\" font-size=\"14.00\" fill=\"#000000\">f</text>\n</g>\n<!-- hdchk29 -->\n<g id=\"node53\" class=\"node\">\n<title>hdchk29</title>\n<ellipse fill=\"none\" stroke=\"#000000\" cx=\"843.2976\" cy=\"-540\" rx=\"34.394\" ry=\"18\"/>\n<text text-anchor=\"middle\" x=\"843.2976\" y=\"-536.3\" font-family=\"Times,serif\" font-size=\"14.00\" fill=\"#000000\">hdchk</text>\n</g>\n<!-- bkblk27&#45;&gt;hdchk29 -->\n<g id=\"edge52\" class=\"edge\">\n<title>bkblk27&#45;&gt;hdchk29</title>\n<path fill=\"none\" stroke=\"#000000\" d=\"M772.2547,-611.0429C785.5387,-597.7589 804.644,-578.6535 819.697,-563.6006\"/>\n<polygon fill=\"#000000\" stroke=\"#000000\" points=\"822.5508,-565.6966 827.147,-556.1506 817.601,-560.7468 822.5508,-565.6966\"/>\n<text text-anchor=\"middle\" x=\"806.2976\" y=\"-579.8\" font-family=\"Times,serif\" font-size=\"14.00\" fill=\"#000000\">t</text>\n</g>\n<!-- spcop -->\n<g id=\"node54\" class=\"node\">\n<title>spcop</title>\n<ellipse fill=\"none\" stroke=\"#000000\" cx=\"843.2976\" cy=\"-453\" rx=\"32.4942\" ry=\"18\"/>\n<text text-anchor=\"middle\" x=\"843.2976\" y=\"-449.3\" font-family=\"Times,serif\" font-size=\"14.00\" fill=\"#000000\">spcop</text>\n</g>\n<!-- hdchk29&#45;&gt;spcop -->\n<g id=\"edge53\" class=\"edge\">\n<title>hdchk29&#45;&gt;spcop</title>\n<path fill=\"none\" stroke=\"#000000\" d=\"M843.2976,-521.9735C843.2976,-510.1918 843.2976,-494.5607 843.2976,-481.1581\"/>\n<polygon fill=\"#000000\" stroke=\"#000000\" points=\"846.7977,-481.0033 843.2976,-471.0034 839.7977,-481.0034 846.7977,-481.0033\"/>\n<text text-anchor=\"middle\" x=\"845.7976\" y=\"-492.8\" font-family=\"Times,serif\" font-size=\"14.00\" fill=\"#000000\">f</text>\n</g>\n<!-- nowin32 -->\n<g id=\"node57\" class=\"node\">\n<title>nowin32</title>\n<ellipse fill=\"none\" stroke=\"#000000\" cx=\"928.2976\" cy=\"-453\" rx=\"34.394\" ry=\"18\"/>\n<text text-anchor=\"middle\" x=\"928.2976\" y=\"-449.3\" font-family=\"Times,serif\" font-size=\"14.00\" fill=\"#000000\">nowin</text>\n</g>\n<!-- hdchk29&#45;&gt;nowin32 -->\n<g id=\"edge56\" class=\"edge\">\n<title>hdchk29&#45;&gt;nowin32</title>\n<path fill=\"none\" stroke=\"#000000\" d=\"M859.2854,-523.636C872.2263,-510.3906 890.6275,-491.5564 905.1748,-476.6669\"/>\n<polygon fill=\"#000000\" stroke=\"#000000\" points=\"907.8965,-478.8894 912.3814,-469.2907 902.8895,-473.9976 907.8965,-478.8894\"/>\n<text text-anchor=\"middle\" x=\"892.2976\" y=\"-492.8\" font-family=\"Times,serif\" font-size=\"14.00\" fill=\"#000000\">t</text>\n</g>\n<!-- nowin30 -->\n<g id=\"node55\" class=\"node\">\n<title>nowin30</title>\n<ellipse fill=\"none\" stroke=\"#000000\" cx=\"796.2976\" cy=\"-366\" rx=\"34.394\" ry=\"18\"/>\n<text text-anchor=\"middle\" x=\"796.2976\" y=\"-362.3\" font-family=\"Times,serif\" font-size=\"14.00\" fill=\"#000000\">nowin</text>\n</g>\n<!-- spcop&#45;&gt;nowin30 -->\n<g id=\"edge54\" class=\"edge\">\n<title>spcop&#45;&gt;nowin30</title>\n<path fill=\"none\" stroke=\"#000000\" d=\"M833.7864,-435.3943C827.1611,-423.1303 818.2033,-406.5489 810.7055,-392.67\"/>\n<polygon fill=\"#000000\" stroke=\"#000000\" points=\"813.6271,-390.7142 805.7946,-383.5796 807.4683,-394.0414 813.6271,-390.7142\"/>\n<text text-anchor=\"middle\" x=\"824.2976\" y=\"-405.8\" font-family=\"Times,serif\" font-size=\"14.00\" fill=\"#000000\">t</text>\n</g>\n<!-- won31 -->\n<g id=\"node56\" class=\"node\">\n<title>won31</title>\n<ellipse fill=\"none\" stroke=\"#000000\" cx=\"876.2976\" cy=\"-366\" rx=\"27.0966\" ry=\"18\"/>\n<text text-anchor=\"middle\" x=\"876.2976\" y=\"-362.3\" font-family=\"Times,serif\" font-size=\"14.00\" fill=\"#000000\">won</text>\n</g>\n<!-- spcop&#45;&gt;won31 -->\n<g id=\"edge55\" class=\"edge\">\n<title>spcop&#45;&gt;won31</title>\n<path fill=\"none\" stroke=\"#000000\" d=\"M850.1352,-434.9735C854.723,-422.8784 860.8497,-406.7263 866.0208,-393.0934\"/>\n<polygon fill=\"#000000\" stroke=\"#000000\" points=\"869.3075,-394.297 869.5816,-383.7057 862.7625,-391.8144 869.3075,-394.297\"/>\n<text text-anchor=\"middle\" x=\"863.7976\" y=\"-405.8\" font-family=\"Times,serif\" font-size=\"14.00\" fill=\"#000000\">f</text>\n</g>\n<!-- bknwy35 -->\n<g id=\"node60\" class=\"node\">\n<title>bknwy35</title>\n<ellipse fill=\"none\" stroke=\"#000000\" cx=\"747.2976\" cy=\"-888\" rx=\"37.0935\" ry=\"18\"/>\n<text text-anchor=\"middle\" x=\"747.2976\" y=\"-884.3\" font-family=\"Times,serif\" font-size=\"14.00\" fill=\"#000000\">bknwy</text>\n</g>\n<!-- wkovl34&#45;&gt;bknwy35 -->\n<g id=\"edge59\" class=\"edge\">\n<title>wkovl34&#45;&gt;bknwy35</title>\n<path fill=\"none\" stroke=\"#000000\" d=\"M747.2976,-956.9735C747.2976,-945.1918 747.2976,-929.5607 747.2976,-916.1581\"/>\n<polygon fill=\"#000000\" stroke=\"#000000\" points=\"750.7977,-916.0033 747.2976,-906.0034 743.7977,-916.0034 750.7977,-916.0033\"/>\n<text text-anchor=\"middle\" x=\"749.2976\" y=\"-927.8\" font-family=\"Times,serif\" font-size=\"14.00\" fill=\"#000000\">t</text>\n</g>\n<!-- bkxcr -->\n<g id=\"node65\" class=\"node\">\n<title>bkxcr</title>\n<ellipse fill=\"none\" stroke=\"#000000\" cx=\"930.2976\" cy=\"-888\" rx=\"32.4942\" ry=\"18\"/>\n<text text-anchor=\"middle\" x=\"930.2976\" y=\"-884.3\" font-family=\"Times,serif\" font-size=\"14.00\" fill=\"#000000\">bkxcr</text>\n</g>\n<!-- wkovl34&#45;&gt;bkxcr -->\n<g id=\"edge64\" class=\"edge\">\n<title>wkovl34&#45;&gt;bkxcr</title>\n<path fill=\"none\" stroke=\"#000000\" d=\"M773.1289,-962.7195C805.4165,-947.3697 860.7616,-921.0581 896.4196,-904.1059\"/>\n<polygon fill=\"#000000\" stroke=\"#000000\" points=\"897.9483,-907.2546 905.4768,-899.8 894.9427,-900.9327 897.9483,-907.2546\"/>\n<text text-anchor=\"middle\" x=\"851.7976\" y=\"-927.8\" font-family=\"Times,serif\" font-size=\"14.00\" fill=\"#000000\">f</text>\n</g>\n<!-- nowin36 -->\n<g id=\"node61\" class=\"node\">\n<title>nowin36</title>\n<ellipse fill=\"none\" stroke=\"#000000\" cx=\"733.2976\" cy=\"-801\" rx=\"34.394\" ry=\"18\"/>\n<text text-anchor=\"middle\" x=\"733.2976\" y=\"-797.3\" font-family=\"Times,serif\" font-size=\"14.00\" fill=\"#000000\">nowin</text>\n</g>\n<!-- bknwy35&#45;&gt;nowin36 -->\n<g id=\"edge60\" class=\"edge\">\n<title>bknwy35&#45;&gt;nowin36</title>\n<path fill=\"none\" stroke=\"#000000\" d=\"M744.3968,-869.9735C742.5009,-858.1918 739.9855,-842.5607 737.8288,-829.1581\"/>\n<polygon fill=\"#000000\" stroke=\"#000000\" points=\"741.2391,-828.3203 736.1947,-819.0034 734.328,-829.4324 741.2391,-828.3203\"/>\n<text text-anchor=\"middle\" x=\"743.7976\" y=\"-840.8\" font-family=\"Times,serif\" font-size=\"14.00\" fill=\"#000000\">f</text>\n</g>\n<!-- mulch -->\n<g id=\"node62\" class=\"node\">\n<title>mulch</title>\n<ellipse fill=\"none\" stroke=\"#000000\" cx=\"820.2976\" cy=\"-801\" rx=\"34.394\" ry=\"18\"/>\n<text text-anchor=\"middle\" x=\"820.2976\" y=\"-797.3\" font-family=\"Times,serif\" font-size=\"14.00\" fill=\"#000000\">mulch</text>\n</g>\n<!-- bknwy35&#45;&gt;mulch -->\n<g id=\"edge61\" class=\"edge\">\n<title>bknwy35&#45;&gt;mulch</title>\n<path fill=\"none\" stroke=\"#000000\" d=\"M761.3727,-871.2255C772.2796,-858.2269 787.5481,-840.0302 799.8098,-825.417\"/>\n<polygon fill=\"#000000\" stroke=\"#000000\" points=\"802.519,-827.6333 806.2657,-817.723 797.1566,-823.1338 802.519,-827.6333\"/>\n<text text-anchor=\"middle\" x=\"789.2976\" y=\"-840.8\" font-family=\"Times,serif\" font-size=\"14.00\" fill=\"#000000\">t</text>\n</g>\n<!-- won37 -->\n<g id=\"node63\" class=\"node\">\n<title>won37</title>\n<ellipse fill=\"none\" stroke=\"#000000\" cx=\"759.2976\" cy=\"-714\" rx=\"27.0966\" ry=\"18\"/>\n<text text-anchor=\"middle\" x=\"759.2976\" y=\"-710.3\" font-family=\"Times,serif\" font-size=\"14.00\" fill=\"#000000\">won</text>\n</g>\n<!-- mulch&#45;&gt;won37 -->\n<g id=\"edge62\" class=\"edge\">\n<title>mulch&#45;&gt;won37</title>\n<path fill=\"none\" stroke=\"#000000\" d=\"M808.2459,-783.8116C799.2748,-771.0168 786.8929,-753.3572 776.8271,-739.0012\"/>\n<polygon fill=\"#000000\" stroke=\"#000000\" points=\"779.517,-736.741 770.9103,-730.5624 773.7855,-740.7597 779.517,-736.741\"/>\n<text text-anchor=\"middle\" x=\"795.7976\" y=\"-753.8\" font-family=\"Times,serif\" font-size=\"14.00\" fill=\"#000000\">f</text>\n</g>\n<!-- nowin38 -->\n<g id=\"node64\" class=\"node\">\n<title>nowin38</title>\n<ellipse fill=\"none\" stroke=\"#000000\" cx=\"839.2976\" cy=\"-714\" rx=\"34.394\" ry=\"18\"/>\n<text text-anchor=\"middle\" x=\"839.2976\" y=\"-710.3\" font-family=\"Times,serif\" font-size=\"14.00\" fill=\"#000000\">nowin</text>\n</g>\n<!-- mulch&#45;&gt;nowin38 -->\n<g id=\"edge63\" class=\"edge\">\n<title>mulch&#45;&gt;nowin38</title>\n<path fill=\"none\" stroke=\"#000000\" d=\"M824.2344,-782.9735C826.8074,-771.1918 830.2211,-755.5607 833.1481,-742.1581\"/>\n<polygon fill=\"#000000\" stroke=\"#000000\" points=\"836.6515,-742.5199 835.3658,-732.0034 829.8127,-741.0263 836.6515,-742.5199\"/>\n<text text-anchor=\"middle\" x=\"832.2976\" y=\"-753.8\" font-family=\"Times,serif\" font-size=\"14.00\" fill=\"#000000\">t</text>\n</g>\n<!-- bkona -->\n<g id=\"node66\" class=\"node\">\n<title>bkona</title>\n<ellipse fill=\"none\" stroke=\"#000000\" cx=\"930.2976\" cy=\"-801\" rx=\"34.394\" ry=\"18\"/>\n<text text-anchor=\"middle\" x=\"930.2976\" y=\"-797.3\" font-family=\"Times,serif\" font-size=\"14.00\" fill=\"#000000\">bkona</text>\n</g>\n<!-- bkxcr&#45;&gt;bkona -->\n<g id=\"edge65\" class=\"edge\">\n<title>bkxcr&#45;&gt;bkona</title>\n<path fill=\"none\" stroke=\"#000000\" d=\"M930.2976,-869.9735C930.2976,-858.1918 930.2976,-842.5607 930.2976,-829.1581\"/>\n<polygon fill=\"#000000\" stroke=\"#000000\" points=\"933.7977,-829.0033 930.2976,-819.0034 926.7977,-829.0034 933.7977,-829.0033\"/>\n<text text-anchor=\"middle\" x=\"932.7976\" y=\"-840.8\" font-family=\"Times,serif\" font-size=\"14.00\" fill=\"#000000\">f</text>\n</g>\n<!-- nowin58 -->\n<g id=\"node89\" class=\"node\">\n<title>nowin58</title>\n<ellipse fill=\"none\" stroke=\"#000000\" cx=\"1017.2976\" cy=\"-801\" rx=\"34.394\" ry=\"18\"/>\n<text text-anchor=\"middle\" x=\"1017.2976\" y=\"-797.3\" font-family=\"Times,serif\" font-size=\"14.00\" fill=\"#000000\">nowin</text>\n</g>\n<!-- bkxcr&#45;&gt;nowin58 -->\n<g id=\"edge88\" class=\"edge\">\n<title>bkxcr&#45;&gt;nowin58</title>\n<path fill=\"none\" stroke=\"#000000\" d=\"M946.2547,-872.0429C959.5387,-858.7589 978.644,-839.6535 993.697,-824.6006\"/>\n<polygon fill=\"#000000\" stroke=\"#000000\" points=\"996.5508,-826.6966 1001.147,-817.1506 991.601,-821.7468 996.5508,-826.6966\"/>\n<text text-anchor=\"middle\" x=\"980.2976\" y=\"-840.8\" font-family=\"Times,serif\" font-size=\"14.00\" fill=\"#000000\">t</text>\n</g>\n<!-- mulch39 -->\n<g id=\"node67\" class=\"node\">\n<title>mulch39</title>\n<ellipse fill=\"none\" stroke=\"#000000\" cx=\"930.2976\" cy=\"-714\" rx=\"34.394\" ry=\"18\"/>\n<text text-anchor=\"middle\" x=\"930.2976\" y=\"-710.3\" font-family=\"Times,serif\" font-size=\"14.00\" fill=\"#000000\">mulch</text>\n</g>\n<!-- bkona&#45;&gt;mulch39 -->\n<g id=\"edge66\" class=\"edge\">\n<title>bkona&#45;&gt;mulch39</title>\n<path fill=\"none\" stroke=\"#000000\" d=\"M930.2976,-782.9735C930.2976,-771.1918 930.2976,-755.5607 930.2976,-742.1581\"/>\n<polygon fill=\"#000000\" stroke=\"#000000\" points=\"933.7977,-742.0033 930.2976,-732.0034 926.7977,-742.0034 933.7977,-742.0033\"/>\n<text text-anchor=\"middle\" x=\"932.7976\" y=\"-753.8\" font-family=\"Times,serif\" font-size=\"14.00\" fill=\"#000000\">f</text>\n</g>\n<!-- nowin57 -->\n<g id=\"node88\" class=\"node\">\n<title>nowin57</title>\n<ellipse fill=\"none\" stroke=\"#000000\" cx=\"1017.2976\" cy=\"-714\" rx=\"34.394\" ry=\"18\"/>\n<text text-anchor=\"middle\" x=\"1017.2976\" y=\"-710.3\" font-family=\"Times,serif\" font-size=\"14.00\" fill=\"#000000\">nowin</text>\n</g>\n<!-- bkona&#45;&gt;nowin57 -->\n<g id=\"edge87\" class=\"edge\">\n<title>bkona&#45;&gt;nowin57</title>\n<path fill=\"none\" stroke=\"#000000\" d=\"M946.2547,-785.0429C959.5387,-771.7589 978.644,-752.6535 993.697,-737.6006\"/>\n<polygon fill=\"#000000\" stroke=\"#000000\" points=\"996.5508,-739.6966 1001.147,-730.1506 991.601,-734.7468 996.5508,-739.6966\"/>\n<text text-anchor=\"middle\" x=\"980.2976\" y=\"-753.8\" font-family=\"Times,serif\" font-size=\"14.00\" fill=\"#000000\">t</text>\n</g>\n<!-- thrsk40 -->\n<g id=\"node68\" class=\"node\">\n<title>thrsk40</title>\n<ellipse fill=\"none\" stroke=\"#000000\" cx=\"930.2976\" cy=\"-627\" rx=\"29.4969\" ry=\"18\"/>\n<text text-anchor=\"middle\" x=\"930.2976\" y=\"-623.3\" font-family=\"Times,serif\" font-size=\"14.00\" fill=\"#000000\">thrsk</text>\n</g>\n<!-- mulch39&#45;&gt;thrsk40 -->\n<g id=\"edge67\" class=\"edge\">\n<title>mulch39&#45;&gt;thrsk40</title>\n<path fill=\"none\" stroke=\"#000000\" d=\"M930.2976,-695.9735C930.2976,-684.1918 930.2976,-668.5607 930.2976,-655.1581\"/>\n<polygon fill=\"#000000\" stroke=\"#000000\" points=\"933.7977,-655.0033 930.2976,-645.0034 926.7977,-655.0034 933.7977,-655.0033\"/>\n<text text-anchor=\"middle\" x=\"932.7976\" y=\"-666.8\" font-family=\"Times,serif\" font-size=\"14.00\" fill=\"#000000\">f</text>\n</g>\n<!-- nowin56 -->\n<g id=\"node87\" class=\"node\">\n<title>nowin56</title>\n<ellipse fill=\"none\" stroke=\"#000000\" cx=\"1012.2976\" cy=\"-627\" rx=\"34.394\" ry=\"18\"/>\n<text text-anchor=\"middle\" x=\"1012.2976\" y=\"-623.3\" font-family=\"Times,serif\" font-size=\"14.00\" fill=\"#000000\">nowin</text>\n</g>\n<!-- mulch39&#45;&gt;nowin56 -->\n<g id=\"edge86\" class=\"edge\">\n<title>mulch39&#45;&gt;nowin56</title>\n<path fill=\"none\" stroke=\"#000000\" d=\"M945.7212,-697.636C958.2053,-684.3906 975.957,-665.5564 989.9909,-650.6669\"/>\n<polygon fill=\"#000000\" stroke=\"#000000\" points=\"992.6313,-652.9684 996.9432,-643.2907 987.5373,-648.1672 992.6313,-652.9684\"/>\n<text text-anchor=\"middle\" x=\"977.2976\" y=\"-666.8\" font-family=\"Times,serif\" font-size=\"14.00\" fill=\"#000000\">t</text>\n</g>\n<!-- nowin41 -->\n<g id=\"node69\" class=\"node\">\n<title>nowin41</title>\n<ellipse fill=\"none\" stroke=\"#000000\" cx=\"930.2976\" cy=\"-540\" rx=\"34.394\" ry=\"18\"/>\n<text text-anchor=\"middle\" x=\"930.2976\" y=\"-536.3\" font-family=\"Times,serif\" font-size=\"14.00\" fill=\"#000000\">nowin</text>\n</g>\n<!-- thrsk40&#45;&gt;nowin41 -->\n<g id=\"edge68\" class=\"edge\">\n<title>thrsk40&#45;&gt;nowin41</title>\n<path fill=\"none\" stroke=\"#000000\" d=\"M930.2976,-608.9735C930.2976,-597.1918 930.2976,-581.5607 930.2976,-568.1581\"/>\n<polygon fill=\"#000000\" stroke=\"#000000\" points=\"933.7977,-568.0033 930.2976,-558.0034 926.7977,-568.0034 933.7977,-568.0033\"/>\n<text text-anchor=\"middle\" x=\"932.2976\" y=\"-579.8\" font-family=\"Times,serif\" font-size=\"14.00\" fill=\"#000000\">t</text>\n</g>\n<!-- bkon8 -->\n<g id=\"node70\" class=\"node\">\n<title>bkon8</title>\n<ellipse fill=\"none\" stroke=\"#000000\" cx=\"1018.2976\" cy=\"-540\" rx=\"35.194\" ry=\"18\"/>\n<text text-anchor=\"middle\" x=\"1018.2976\" y=\"-536.3\" font-family=\"Times,serif\" font-size=\"14.00\" fill=\"#000000\">bkon8</text>\n</g>\n<!-- thrsk40&#45;&gt;bkon8 -->\n<g id=\"edge69\" class=\"edge\">\n<title>thrsk40&#45;&gt;bkon8</title>\n<path fill=\"none\" stroke=\"#000000\" d=\"M946.0302,-611.4461C959.6255,-598.0054 979.4646,-578.3917 994.9183,-563.1136\"/>\n<polygon fill=\"#000000\" stroke=\"#000000\" points=\"997.4551,-565.5274 1002.1058,-556.0078 992.5337,-560.5494 997.4551,-565.5274\"/>\n<text text-anchor=\"middle\" x=\"981.7976\" y=\"-579.8\" font-family=\"Times,serif\" font-size=\"14.00\" fill=\"#000000\">f</text>\n</g>\n<!-- skrxp -->\n<g id=\"node71\" class=\"node\">\n<title>skrxp</title>\n<ellipse fill=\"none\" stroke=\"#000000\" cx=\"1015.2976\" cy=\"-453\" rx=\"31.6951\" ry=\"18\"/>\n<text text-anchor=\"middle\" x=\"1015.2976\" y=\"-449.3\" font-family=\"Times,serif\" font-size=\"14.00\" fill=\"#000000\">skrxp</text>\n</g>\n<!-- bkon8&#45;&gt;skrxp -->\n<g id=\"edge70\" class=\"edge\">\n<title>bkon8&#45;&gt;skrxp</title>\n<path fill=\"none\" stroke=\"#000000\" d=\"M1017.676,-521.9735C1017.2697,-510.1918 1016.7307,-494.5607 1016.2685,-481.1581\"/>\n<polygon fill=\"#000000\" stroke=\"#000000\" points=\"1019.761,-480.8768 1015.9184,-471.0034 1012.7652,-481.1181 1019.761,-480.8768\"/>\n<text text-anchor=\"middle\" x=\"1018.7976\" y=\"-492.8\" font-family=\"Times,serif\" font-size=\"14.00\" fill=\"#000000\">f</text>\n</g>\n<!-- nowin55 -->\n<g id=\"node86\" class=\"node\">\n<title>nowin55</title>\n<ellipse fill=\"none\" stroke=\"#000000\" cx=\"1099.2976\" cy=\"-453\" rx=\"34.394\" ry=\"18\"/>\n<text text-anchor=\"middle\" x=\"1099.2976\" y=\"-449.3\" font-family=\"Times,serif\" font-size=\"14.00\" fill=\"#000000\">nowin</text>\n</g>\n<!-- bkon8&#45;&gt;nowin55 -->\n<g id=\"edge85\" class=\"edge\">\n<title>bkon8&#45;&gt;nowin55</title>\n<path fill=\"none\" stroke=\"#000000\" d=\"M1033.5331,-523.636C1045.865,-510.3906 1063.4002,-491.5564 1077.2629,-476.6669\"/>\n<polygon fill=\"#000000\" stroke=\"#000000\" points=\"1079.8778,-478.9946 1084.1304,-469.2907 1074.7546,-474.2246 1079.8778,-478.9946\"/>\n<text text-anchor=\"middle\" x=\"1065.2976\" y=\"-492.8\" font-family=\"Times,serif\" font-size=\"14.00\" fill=\"#000000\">t</text>\n</g>\n<!-- dsopp42 -->\n<g id=\"node72\" class=\"node\">\n<title>dsopp42</title>\n<ellipse fill=\"none\" stroke=\"#000000\" cx=\"957.2976\" cy=\"-366\" rx=\"33.5952\" ry=\"18\"/>\n<text text-anchor=\"middle\" x=\"957.2976\" y=\"-362.3\" font-family=\"Times,serif\" font-size=\"14.00\" fill=\"#000000\">dsopp</text>\n</g>\n<!-- skrxp&#45;&gt;dsopp42 -->\n<g id=\"edge71\" class=\"edge\">\n<title>skrxp&#45;&gt;dsopp42</title>\n<path fill=\"none\" stroke=\"#000000\" d=\"M1003.8386,-435.8116C995.4181,-423.1808 983.8371,-405.8092 974.3342,-391.5549\"/>\n<polygon fill=\"#000000\" stroke=\"#000000\" points=\"977.1919,-389.5317 968.7327,-383.1527 971.3676,-393.4147 977.1919,-389.5317\"/>\n<text text-anchor=\"middle\" x=\"991.7976\" y=\"-405.8\" font-family=\"Times,serif\" font-size=\"14.00\" fill=\"#000000\">f</text>\n</g>\n<!-- nowin54 -->\n<g id=\"node85\" class=\"node\">\n<title>nowin54</title>\n<ellipse fill=\"none\" stroke=\"#000000\" cx=\"1043.2976\" cy=\"-366\" rx=\"34.394\" ry=\"18\"/>\n<text text-anchor=\"middle\" x=\"1043.2976\" y=\"-362.3\" font-family=\"Times,serif\" font-size=\"14.00\" fill=\"#000000\">nowin</text>\n</g>\n<!-- skrxp&#45;&gt;nowin54 -->\n<g id=\"edge84\" class=\"edge\">\n<title>skrxp&#45;&gt;nowin54</title>\n<path fill=\"none\" stroke=\"#000000\" d=\"M1021.0992,-434.9735C1024.9286,-423.0751 1030.0215,-407.2508 1034.3631,-393.7606\"/>\n<polygon fill=\"#000000\" stroke=\"#000000\" points=\"1037.7714,-394.5948 1037.5034,-384.0034 1031.108,-392.4502 1037.7714,-394.5948\"/>\n<text text-anchor=\"middle\" x=\"1032.2976\" y=\"-405.8\" font-family=\"Times,serif\" font-size=\"14.00\" fill=\"#000000\">t</text>\n</g>\n<!-- skach43 -->\n<g id=\"node73\" class=\"node\">\n<title>skach43</title>\n<ellipse fill=\"none\" stroke=\"#000000\" cx=\"928.2976\" cy=\"-279\" rx=\"31.6951\" ry=\"18\"/>\n<text text-anchor=\"middle\" x=\"928.2976\" y=\"-275.3\" font-family=\"Times,serif\" font-size=\"14.00\" fill=\"#000000\">skach</text>\n</g>\n<!-- dsopp42&#45;&gt;skach43 -->\n<g id=\"edge72\" class=\"edge\">\n<title>dsopp42&#45;&gt;skach43</title>\n<path fill=\"none\" stroke=\"#000000\" d=\"M951.2888,-347.9735C947.2962,-335.9958 941.9774,-320.0396 937.4613,-306.4912\"/>\n<polygon fill=\"#000000\" stroke=\"#000000\" points=\"940.6822,-305.0857 934.1995,-296.7057 934.0414,-307.2994 940.6822,-305.0857\"/>\n<text text-anchor=\"middle\" x=\"946.7976\" y=\"-318.8\" font-family=\"Times,serif\" font-size=\"14.00\" fill=\"#000000\">f</text>\n</g>\n<!-- wtoeg49 -->\n<g id=\"node80\" class=\"node\">\n<title>wtoeg49</title>\n<ellipse fill=\"none\" stroke=\"#000000\" cx=\"1013.2976\" cy=\"-279\" rx=\"33.5952\" ry=\"18\"/>\n<text text-anchor=\"middle\" x=\"1013.2976\" y=\"-275.3\" font-family=\"Times,serif\" font-size=\"14.00\" fill=\"#000000\">wtoeg</text>\n</g>\n<!-- dsopp42&#45;&gt;wtoeg49 -->\n<g id=\"edge79\" class=\"edge\">\n<title>dsopp42&#45;&gt;wtoeg49</title>\n<path fill=\"none\" stroke=\"#000000\" d=\"M968.3614,-348.8116C976.4148,-336.3 987.4625,-319.1366 996.5882,-304.9592\"/>\n<polygon fill=\"#000000\" stroke=\"#000000\" points=\"999.7873,-306.4557 1002.2568,-296.1527 993.9012,-302.667 999.7873,-306.4557\"/>\n<text text-anchor=\"middle\" x=\"990.2976\" y=\"-318.8\" font-family=\"Times,serif\" font-size=\"14.00\" fill=\"#000000\">t</text>\n</g>\n<!-- rkxwp -->\n<g id=\"node74\" class=\"node\">\n<title>rkxwp</title>\n<ellipse fill=\"none\" stroke=\"#000000\" cx=\"840.2976\" cy=\"-192\" rx=\"35.194\" ry=\"18\"/>\n<text text-anchor=\"middle\" x=\"840.2976\" y=\"-188.3\" font-family=\"Times,serif\" font-size=\"14.00\" fill=\"#000000\">rkxwp</text>\n</g>\n<!-- skach43&#45;&gt;rkxwp -->\n<g id=\"edge73\" class=\"edge\">\n<title>skach43&#45;&gt;rkxwp</title>\n<path fill=\"none\" stroke=\"#000000\" d=\"M912.157,-263.0429C898.5971,-249.637 879.0403,-230.3025 863.7514,-215.1873\"/>\n<polygon fill=\"#000000\" stroke=\"#000000\" points=\"866.2059,-212.6922 856.6338,-208.1506 861.2845,-217.6702 866.2059,-212.6922\"/>\n<text text-anchor=\"middle\" x=\"891.7976\" y=\"-231.8\" font-family=\"Times,serif\" font-size=\"14.00\" fill=\"#000000\">f</text>\n</g>\n<!-- nowin48 -->\n<g id=\"node79\" class=\"node\">\n<title>nowin48</title>\n<ellipse fill=\"none\" stroke=\"#000000\" cx=\"928.2976\" cy=\"-192\" rx=\"34.394\" ry=\"18\"/>\n<text text-anchor=\"middle\" x=\"928.2976\" y=\"-188.3\" font-family=\"Times,serif\" font-size=\"14.00\" fill=\"#000000\">nowin</text>\n</g>\n<!-- skach43&#45;&gt;nowin48 -->\n<g id=\"edge78\" class=\"edge\">\n<title>skach43&#45;&gt;nowin48</title>\n<path fill=\"none\" stroke=\"#000000\" d=\"M928.2976,-260.9735C928.2976,-249.1918 928.2976,-233.5607 928.2976,-220.1581\"/>\n<polygon fill=\"#000000\" stroke=\"#000000\" points=\"931.7977,-220.0033 928.2976,-210.0034 924.7977,-220.0034 931.7977,-220.0033\"/>\n<text text-anchor=\"middle\" x=\"930.2976\" y=\"-231.8\" font-family=\"Times,serif\" font-size=\"14.00\" fill=\"#000000\">t</text>\n</g>\n<!-- reskr44 -->\n<g id=\"node75\" class=\"node\">\n<title>reskr44</title>\n<ellipse fill=\"none\" stroke=\"#000000\" cx=\"789.2976\" cy=\"-105\" rx=\"28.6953\" ry=\"18\"/>\n<text text-anchor=\"middle\" x=\"789.2976\" y=\"-101.3\" font-family=\"Times,serif\" font-size=\"14.00\" fill=\"#000000\">reskr</text>\n</g>\n<!-- rkxwp&#45;&gt;reskr44 -->\n<g id=\"edge74\" class=\"edge\">\n<title>rkxwp&#45;&gt;reskr44</title>\n<path fill=\"none\" stroke=\"#000000\" d=\"M829.977,-174.3943C822.6231,-161.8494 812.6211,-144.7873 804.3753,-130.7209\"/>\n<polygon fill=\"#000000\" stroke=\"#000000\" points=\"807.3324,-128.8444 799.2558,-121.9875 801.2935,-132.3845 807.3324,-128.8444\"/>\n<text text-anchor=\"middle\" x=\"819.7976\" y=\"-144.8\" font-family=\"Times,serif\" font-size=\"14.00\" fill=\"#000000\">f</text>\n</g>\n<!-- nowin47 -->\n<g id=\"node78\" class=\"node\">\n<title>nowin47</title>\n<ellipse fill=\"none\" stroke=\"#000000\" cx=\"870.2976\" cy=\"-105\" rx=\"34.394\" ry=\"18\"/>\n<text text-anchor=\"middle\" x=\"870.2976\" y=\"-101.3\" font-family=\"Times,serif\" font-size=\"14.00\" fill=\"#000000\">nowin</text>\n</g>\n<!-- rkxwp&#45;&gt;nowin47 -->\n<g id=\"edge77\" class=\"edge\">\n<title>rkxwp&#45;&gt;nowin47</title>\n<path fill=\"none\" stroke=\"#000000\" d=\"M846.5136,-173.9735C850.6165,-162.0751 856.0732,-146.2508 860.7249,-132.7606\"/>\n<polygon fill=\"#000000\" stroke=\"#000000\" points=\"864.1384,-133.5981 864.0895,-123.0034 857.5207,-131.3161 864.1384,-133.5981\"/>\n<text text-anchor=\"middle\" x=\"858.2976\" y=\"-144.8\" font-family=\"Times,serif\" font-size=\"14.00\" fill=\"#000000\">t</text>\n</g>\n<!-- won45 -->\n<g id=\"node76\" class=\"node\">\n<title>won45</title>\n<ellipse fill=\"none\" stroke=\"#000000\" cx=\"749.2976\" cy=\"-18\" rx=\"27.0966\" ry=\"18\"/>\n<text text-anchor=\"middle\" x=\"749.2976\" y=\"-14.3\" font-family=\"Times,serif\" font-size=\"14.00\" fill=\"#000000\">won</text>\n</g>\n<!-- reskr44&#45;&gt;won45 -->\n<g id=\"edge75\" class=\"edge\">\n<title>reskr44&#45;&gt;won45</title>\n<path fill=\"none\" stroke=\"#000000\" d=\"M781.203,-87.3943C775.5273,-75.0496 767.8404,-58.3306 761.4339,-44.3965\"/>\n<polygon fill=\"#000000\" stroke=\"#000000\" points=\"764.601,-42.9063 757.2436,-35.2827 758.241,-45.8305 764.601,-42.9063\"/>\n<text text-anchor=\"middle\" x=\"774.7976\" y=\"-57.8\" font-family=\"Times,serif\" font-size=\"14.00\" fill=\"#000000\">f</text>\n</g>\n<!-- nowin46 -->\n<g id=\"node77\" class=\"node\">\n<title>nowin46</title>\n<ellipse fill=\"none\" stroke=\"#000000\" cx=\"829.2976\" cy=\"-18\" rx=\"34.394\" ry=\"18\"/>\n<text text-anchor=\"middle\" x=\"829.2976\" y=\"-14.3\" font-family=\"Times,serif\" font-size=\"14.00\" fill=\"#000000\">nowin</text>\n</g>\n<!-- reskr44&#45;&gt;nowin46 -->\n<g id=\"edge76\" class=\"edge\">\n<title>reskr44&#45;&gt;nowin46</title>\n<path fill=\"none\" stroke=\"#000000\" d=\"M797.3922,-87.3943C803.0308,-75.1303 810.6544,-58.5489 817.0355,-44.67\"/>\n<polygon fill=\"#000000\" stroke=\"#000000\" points=\"820.2176,-46.1274 821.215,-35.5796 813.8576,-43.2032 820.2176,-46.1274\"/>\n<text text-anchor=\"middle\" x=\"813.2976\" y=\"-57.8\" font-family=\"Times,serif\" font-size=\"14.00\" fill=\"#000000\">t</text>\n</g>\n<!-- skewr50 -->\n<g id=\"node81\" class=\"node\">\n<title>skewr50</title>\n<ellipse fill=\"none\" stroke=\"#000000\" cx=\"1013.2976\" cy=\"-192\" rx=\"32.4942\" ry=\"18\"/>\n<text text-anchor=\"middle\" x=\"1013.2976\" y=\"-188.3\" font-family=\"Times,serif\" font-size=\"14.00\" fill=\"#000000\">skewr</text>\n</g>\n<!-- wtoeg49&#45;&gt;skewr50 -->\n<g id=\"edge80\" class=\"edge\">\n<title>wtoeg49&#45;&gt;skewr50</title>\n<path fill=\"none\" stroke=\"#000000\" d=\"M1013.2976,-260.9735C1013.2976,-249.1918 1013.2976,-233.5607 1013.2976,-220.1581\"/>\n<polygon fill=\"#000000\" stroke=\"#000000\" points=\"1016.7977,-220.0033 1013.2976,-210.0034 1009.7977,-220.0034 1016.7977,-220.0033\"/>\n<text text-anchor=\"middle\" x=\"1015.2976\" y=\"-231.8\" font-family=\"Times,serif\" font-size=\"14.00\" fill=\"#000000\">t</text>\n</g>\n<!-- nowin53 -->\n<g id=\"node84\" class=\"node\">\n<title>nowin53</title>\n<ellipse fill=\"none\" stroke=\"#000000\" cx=\"1098.2976\" cy=\"-192\" rx=\"34.394\" ry=\"18\"/>\n<text text-anchor=\"middle\" x=\"1098.2976\" y=\"-188.3\" font-family=\"Times,serif\" font-size=\"14.00\" fill=\"#000000\">nowin</text>\n</g>\n<!-- wtoeg49&#45;&gt;nowin53 -->\n<g id=\"edge83\" class=\"edge\">\n<title>wtoeg49&#45;&gt;nowin53</title>\n<path fill=\"none\" stroke=\"#000000\" d=\"M1029.2854,-262.636C1042.2263,-249.3906 1060.6275,-230.5564 1075.1748,-215.6669\"/>\n<polygon fill=\"#000000\" stroke=\"#000000\" points=\"1077.8965,-217.8894 1082.3814,-208.2907 1072.8895,-212.9976 1077.8965,-217.8894\"/>\n<text text-anchor=\"middle\" x=\"1064.2976\" y=\"-231.8\" font-family=\"Times,serif\" font-size=\"14.00\" fill=\"#000000\">n</text>\n</g>\n<!-- won51 -->\n<g id=\"node82\" class=\"node\">\n<title>won51</title>\n<ellipse fill=\"none\" stroke=\"#000000\" cx=\"956.2976\" cy=\"-105\" rx=\"27.0966\" ry=\"18\"/>\n<text text-anchor=\"middle\" x=\"956.2976\" y=\"-101.3\" font-family=\"Times,serif\" font-size=\"14.00\" fill=\"#000000\">won</text>\n</g>\n<!-- skewr50&#45;&gt;won51 -->\n<g id=\"edge81\" class=\"edge\">\n<title>skewr50&#45;&gt;won51</title>\n<path fill=\"none\" stroke=\"#000000\" d=\"M1002.0362,-174.8116C993.6534,-162.0168 982.0833,-144.3572 972.6776,-130.0012\"/>\n<polygon fill=\"#000000\" stroke=\"#000000\" points=\"975.5567,-128.0089 967.1488,-121.5624 969.7015,-131.8451 975.5567,-128.0089\"/>\n<text text-anchor=\"middle\" x=\"989.2976\" y=\"-144.8\" font-family=\"Times,serif\" font-size=\"14.00\" fill=\"#000000\">t</text>\n</g>\n<!-- nowin52 -->\n<g id=\"node83\" class=\"node\">\n<title>nowin52</title>\n<ellipse fill=\"none\" stroke=\"#000000\" cx=\"1036.2976\" cy=\"-105\" rx=\"34.394\" ry=\"18\"/>\n<text text-anchor=\"middle\" x=\"1036.2976\" y=\"-101.3\" font-family=\"Times,serif\" font-size=\"14.00\" fill=\"#000000\">nowin</text>\n</g>\n<!-- skewr50&#45;&gt;nowin52 -->\n<g id=\"edge82\" class=\"edge\">\n<title>skewr50&#45;&gt;nowin52</title>\n<path fill=\"none\" stroke=\"#000000\" d=\"M1018.0632,-173.9735C1021.2088,-162.0751 1025.3922,-146.2508 1028.9586,-132.7606\"/>\n<polygon fill=\"#000000\" stroke=\"#000000\" points=\"1032.3659,-133.5658 1031.5381,-123.0034 1025.5984,-131.7766 1032.3659,-133.5658\"/>\n<text text-anchor=\"middle\" x=\"1027.7976\" y=\"-144.8\" font-family=\"Times,serif\" font-size=\"14.00\" fill=\"#000000\">f</text>\n</g>\n</g>\n</svg>\n"
          },
          "metadata": {},
          "execution_count": 88
        }
      ]
    },
    {
      "cell_type": "markdown",
      "source": [
        "##Predicting on Train Dataset"
      ],
      "metadata": {
        "id": "UF0Rrh6ODnic"
      }
    },
    {
      "cell_type": "code",
      "source": [
        "y_train_pred=d.predict(df)\n",
        "print(accuracy_score(df[target_name].tolist(),y_train_pred))"
      ],
      "metadata": {
        "colab": {
          "base_uri": "https://localhost:8080/"
        },
        "outputId": "f15c4210-b11e-4589-8ffc-1444bddb0d26",
        "id": "HzLcBqtjDnic"
      },
      "execution_count": 89,
      "outputs": [
        {
          "output_type": "stream",
          "name": "stdout",
          "text": [
            "100.0\n"
          ]
        }
      ]
    },
    {
      "cell_type": "markdown",
      "source": [
        "##Predicting on Test Dataset"
      ],
      "metadata": {
        "id": "k1vFxxo3Dnic"
      }
    },
    {
      "cell_type": "code",
      "source": [
        "y_test_pred=d.predict(test_df)\n",
        "accuracy_score(test_df[target_name].tolist(),y_test_pred)"
      ],
      "metadata": {
        "colab": {
          "base_uri": "https://localhost:8080/"
        },
        "outputId": "8e93b03d-b36f-4b21-d323-e65a98262f26",
        "id": "pWak_eimDnic"
      },
      "execution_count": 90,
      "outputs": [
        {
          "output_type": "execute_result",
          "data": {
            "text/plain": [
              "99.89561586638831"
            ]
          },
          "metadata": {},
          "execution_count": 90
        }
      ]
    },
    {
      "cell_type": "code",
      "source": [],
      "metadata": {
        "id": "6MyNlUsBDnic"
      },
      "execution_count": 90,
      "outputs": []
    },
    {
      "cell_type": "markdown",
      "source": [
        "#Baloons Dataset"
      ],
      "metadata": {
        "id": "u23dhrSzEDwh"
      }
    },
    {
      "cell_type": "code",
      "source": [
        "## Variables ##\n",
        "dataset='baloons'\n",
        "split_func='IG'"
      ],
      "metadata": {
        "id": "2rJeP-EhEDwv"
      },
      "execution_count": 91,
      "outputs": []
    },
    {
      "cell_type": "markdown",
      "source": [
        "##Reading Datast"
      ],
      "metadata": {
        "id": "kVJU9O8jEDww"
      }
    },
    {
      "cell_type": "code",
      "source": [
        "dataset_url,target_name=datasets[dataset]\n",
        "data=pd.read_csv(dataset_url)\n",
        "data=data.applymap(lambda x: x.strip() if isinstance(x, str) else x)"
      ],
      "metadata": {
        "id": "TFP8HDDwEDww"
      },
      "execution_count": 92,
      "outputs": []
    },
    {
      "cell_type": "code",
      "source": [
        "data"
      ],
      "metadata": {
        "colab": {
          "base_uri": "https://localhost:8080/",
          "height": 0
        },
        "outputId": "519f4478-5d1a-4ecf-ad9e-452d58bd6e4c",
        "id": "-zhIMDpgEDww"
      },
      "execution_count": 93,
      "outputs": [
        {
          "output_type": "execute_result",
          "data": {
            "text/plain": [
              "     Color   size      act    age inflated\n",
              "0   YELLOW  SMALL  STRETCH  ADULT        T\n",
              "1   YELLOW  SMALL  STRETCH  ADULT        T\n",
              "2   YELLOW  SMALL  STRETCH  CHILD        F\n",
              "3   YELLOW  SMALL      DIP  ADULT        F\n",
              "4   YELLOW  SMALL      DIP  CHILD        F\n",
              "5   YELLOW  LARGE  STRETCH  ADULT        T\n",
              "6   YELLOW  LARGE  STRETCH  ADULT        T\n",
              "7   YELLOW  LARGE  STRETCH  CHILD        F\n",
              "8   YELLOW  LARGE      DIP  ADULT        F\n",
              "9   YELLOW  LARGE      DIP  CHILD        F\n",
              "10  PURPLE  SMALL  STRETCH  ADULT        T\n",
              "11  PURPLE  SMALL  STRETCH  ADULT        T\n",
              "12  PURPLE  SMALL  STRETCH  CHILD        F\n",
              "13  PURPLE  SMALL      DIP  ADULT        F\n",
              "14  PURPLE  SMALL      DIP  CHILD        F\n",
              "15  PURPLE  LARGE  STRETCH  ADULT        T\n",
              "16  PURPLE  LARGE  STRETCH  ADULT        T\n",
              "17  PURPLE  LARGE  STRETCH  CHILD        F\n",
              "18  PURPLE  LARGE      DIP  ADULT        F\n",
              "19  PURPLE  LARGE      DIP  CHILD        F"
            ],
            "text/html": [
              "\n",
              "  <div id=\"df-393d28c8-4b10-4f66-ab80-42b75bfaec8c\">\n",
              "    <div class=\"colab-df-container\">\n",
              "      <div>\n",
              "<style scoped>\n",
              "    .dataframe tbody tr th:only-of-type {\n",
              "        vertical-align: middle;\n",
              "    }\n",
              "\n",
              "    .dataframe tbody tr th {\n",
              "        vertical-align: top;\n",
              "    }\n",
              "\n",
              "    .dataframe thead th {\n",
              "        text-align: right;\n",
              "    }\n",
              "</style>\n",
              "<table border=\"1\" class=\"dataframe\">\n",
              "  <thead>\n",
              "    <tr style=\"text-align: right;\">\n",
              "      <th></th>\n",
              "      <th>Color</th>\n",
              "      <th>size</th>\n",
              "      <th>act</th>\n",
              "      <th>age</th>\n",
              "      <th>inflated</th>\n",
              "    </tr>\n",
              "  </thead>\n",
              "  <tbody>\n",
              "    <tr>\n",
              "      <th>0</th>\n",
              "      <td>YELLOW</td>\n",
              "      <td>SMALL</td>\n",
              "      <td>STRETCH</td>\n",
              "      <td>ADULT</td>\n",
              "      <td>T</td>\n",
              "    </tr>\n",
              "    <tr>\n",
              "      <th>1</th>\n",
              "      <td>YELLOW</td>\n",
              "      <td>SMALL</td>\n",
              "      <td>STRETCH</td>\n",
              "      <td>ADULT</td>\n",
              "      <td>T</td>\n",
              "    </tr>\n",
              "    <tr>\n",
              "      <th>2</th>\n",
              "      <td>YELLOW</td>\n",
              "      <td>SMALL</td>\n",
              "      <td>STRETCH</td>\n",
              "      <td>CHILD</td>\n",
              "      <td>F</td>\n",
              "    </tr>\n",
              "    <tr>\n",
              "      <th>3</th>\n",
              "      <td>YELLOW</td>\n",
              "      <td>SMALL</td>\n",
              "      <td>DIP</td>\n",
              "      <td>ADULT</td>\n",
              "      <td>F</td>\n",
              "    </tr>\n",
              "    <tr>\n",
              "      <th>4</th>\n",
              "      <td>YELLOW</td>\n",
              "      <td>SMALL</td>\n",
              "      <td>DIP</td>\n",
              "      <td>CHILD</td>\n",
              "      <td>F</td>\n",
              "    </tr>\n",
              "    <tr>\n",
              "      <th>5</th>\n",
              "      <td>YELLOW</td>\n",
              "      <td>LARGE</td>\n",
              "      <td>STRETCH</td>\n",
              "      <td>ADULT</td>\n",
              "      <td>T</td>\n",
              "    </tr>\n",
              "    <tr>\n",
              "      <th>6</th>\n",
              "      <td>YELLOW</td>\n",
              "      <td>LARGE</td>\n",
              "      <td>STRETCH</td>\n",
              "      <td>ADULT</td>\n",
              "      <td>T</td>\n",
              "    </tr>\n",
              "    <tr>\n",
              "      <th>7</th>\n",
              "      <td>YELLOW</td>\n",
              "      <td>LARGE</td>\n",
              "      <td>STRETCH</td>\n",
              "      <td>CHILD</td>\n",
              "      <td>F</td>\n",
              "    </tr>\n",
              "    <tr>\n",
              "      <th>8</th>\n",
              "      <td>YELLOW</td>\n",
              "      <td>LARGE</td>\n",
              "      <td>DIP</td>\n",
              "      <td>ADULT</td>\n",
              "      <td>F</td>\n",
              "    </tr>\n",
              "    <tr>\n",
              "      <th>9</th>\n",
              "      <td>YELLOW</td>\n",
              "      <td>LARGE</td>\n",
              "      <td>DIP</td>\n",
              "      <td>CHILD</td>\n",
              "      <td>F</td>\n",
              "    </tr>\n",
              "    <tr>\n",
              "      <th>10</th>\n",
              "      <td>PURPLE</td>\n",
              "      <td>SMALL</td>\n",
              "      <td>STRETCH</td>\n",
              "      <td>ADULT</td>\n",
              "      <td>T</td>\n",
              "    </tr>\n",
              "    <tr>\n",
              "      <th>11</th>\n",
              "      <td>PURPLE</td>\n",
              "      <td>SMALL</td>\n",
              "      <td>STRETCH</td>\n",
              "      <td>ADULT</td>\n",
              "      <td>T</td>\n",
              "    </tr>\n",
              "    <tr>\n",
              "      <th>12</th>\n",
              "      <td>PURPLE</td>\n",
              "      <td>SMALL</td>\n",
              "      <td>STRETCH</td>\n",
              "      <td>CHILD</td>\n",
              "      <td>F</td>\n",
              "    </tr>\n",
              "    <tr>\n",
              "      <th>13</th>\n",
              "      <td>PURPLE</td>\n",
              "      <td>SMALL</td>\n",
              "      <td>DIP</td>\n",
              "      <td>ADULT</td>\n",
              "      <td>F</td>\n",
              "    </tr>\n",
              "    <tr>\n",
              "      <th>14</th>\n",
              "      <td>PURPLE</td>\n",
              "      <td>SMALL</td>\n",
              "      <td>DIP</td>\n",
              "      <td>CHILD</td>\n",
              "      <td>F</td>\n",
              "    </tr>\n",
              "    <tr>\n",
              "      <th>15</th>\n",
              "      <td>PURPLE</td>\n",
              "      <td>LARGE</td>\n",
              "      <td>STRETCH</td>\n",
              "      <td>ADULT</td>\n",
              "      <td>T</td>\n",
              "    </tr>\n",
              "    <tr>\n",
              "      <th>16</th>\n",
              "      <td>PURPLE</td>\n",
              "      <td>LARGE</td>\n",
              "      <td>STRETCH</td>\n",
              "      <td>ADULT</td>\n",
              "      <td>T</td>\n",
              "    </tr>\n",
              "    <tr>\n",
              "      <th>17</th>\n",
              "      <td>PURPLE</td>\n",
              "      <td>LARGE</td>\n",
              "      <td>STRETCH</td>\n",
              "      <td>CHILD</td>\n",
              "      <td>F</td>\n",
              "    </tr>\n",
              "    <tr>\n",
              "      <th>18</th>\n",
              "      <td>PURPLE</td>\n",
              "      <td>LARGE</td>\n",
              "      <td>DIP</td>\n",
              "      <td>ADULT</td>\n",
              "      <td>F</td>\n",
              "    </tr>\n",
              "    <tr>\n",
              "      <th>19</th>\n",
              "      <td>PURPLE</td>\n",
              "      <td>LARGE</td>\n",
              "      <td>DIP</td>\n",
              "      <td>CHILD</td>\n",
              "      <td>F</td>\n",
              "    </tr>\n",
              "  </tbody>\n",
              "</table>\n",
              "</div>\n",
              "      <button class=\"colab-df-convert\" onclick=\"convertToInteractive('df-393d28c8-4b10-4f66-ab80-42b75bfaec8c')\"\n",
              "              title=\"Convert this dataframe to an interactive table.\"\n",
              "              style=\"display:none;\">\n",
              "        \n",
              "  <svg xmlns=\"http://www.w3.org/2000/svg\" height=\"24px\"viewBox=\"0 0 24 24\"\n",
              "       width=\"24px\">\n",
              "    <path d=\"M0 0h24v24H0V0z\" fill=\"none\"/>\n",
              "    <path d=\"M18.56 5.44l.94 2.06.94-2.06 2.06-.94-2.06-.94-.94-2.06-.94 2.06-2.06.94zm-11 1L8.5 8.5l.94-2.06 2.06-.94-2.06-.94L8.5 2.5l-.94 2.06-2.06.94zm10 10l.94 2.06.94-2.06 2.06-.94-2.06-.94-.94-2.06-.94 2.06-2.06.94z\"/><path d=\"M17.41 7.96l-1.37-1.37c-.4-.4-.92-.59-1.43-.59-.52 0-1.04.2-1.43.59L10.3 9.45l-7.72 7.72c-.78.78-.78 2.05 0 2.83L4 21.41c.39.39.9.59 1.41.59.51 0 1.02-.2 1.41-.59l7.78-7.78 2.81-2.81c.8-.78.8-2.07 0-2.86zM5.41 20L4 18.59l7.72-7.72 1.47 1.35L5.41 20z\"/>\n",
              "  </svg>\n",
              "      </button>\n",
              "      \n",
              "  <style>\n",
              "    .colab-df-container {\n",
              "      display:flex;\n",
              "      flex-wrap:wrap;\n",
              "      gap: 12px;\n",
              "    }\n",
              "\n",
              "    .colab-df-convert {\n",
              "      background-color: #E8F0FE;\n",
              "      border: none;\n",
              "      border-radius: 50%;\n",
              "      cursor: pointer;\n",
              "      display: none;\n",
              "      fill: #1967D2;\n",
              "      height: 32px;\n",
              "      padding: 0 0 0 0;\n",
              "      width: 32px;\n",
              "    }\n",
              "\n",
              "    .colab-df-convert:hover {\n",
              "      background-color: #E2EBFA;\n",
              "      box-shadow: 0px 1px 2px rgba(60, 64, 67, 0.3), 0px 1px 3px 1px rgba(60, 64, 67, 0.15);\n",
              "      fill: #174EA6;\n",
              "    }\n",
              "\n",
              "    [theme=dark] .colab-df-convert {\n",
              "      background-color: #3B4455;\n",
              "      fill: #D2E3FC;\n",
              "    }\n",
              "\n",
              "    [theme=dark] .colab-df-convert:hover {\n",
              "      background-color: #434B5C;\n",
              "      box-shadow: 0px 1px 3px 1px rgba(0, 0, 0, 0.15);\n",
              "      filter: drop-shadow(0px 1px 2px rgba(0, 0, 0, 0.3));\n",
              "      fill: #FFFFFF;\n",
              "    }\n",
              "  </style>\n",
              "\n",
              "      <script>\n",
              "        const buttonEl =\n",
              "          document.querySelector('#df-393d28c8-4b10-4f66-ab80-42b75bfaec8c button.colab-df-convert');\n",
              "        buttonEl.style.display =\n",
              "          google.colab.kernel.accessAllowed ? 'block' : 'none';\n",
              "\n",
              "        async function convertToInteractive(key) {\n",
              "          const element = document.querySelector('#df-393d28c8-4b10-4f66-ab80-42b75bfaec8c');\n",
              "          const dataTable =\n",
              "            await google.colab.kernel.invokeFunction('convertToInteractive',\n",
              "                                                     [key], {});\n",
              "          if (!dataTable) return;\n",
              "\n",
              "          const docLinkHtml = 'Like what you see? Visit the ' +\n",
              "            '<a target=\"_blank\" href=https://colab.research.google.com/notebooks/data_table.ipynb>data table notebook</a>'\n",
              "            + ' to learn more about interactive tables.';\n",
              "          element.innerHTML = '';\n",
              "          dataTable['output_type'] = 'display_data';\n",
              "          await google.colab.output.renderOutput(dataTable, element);\n",
              "          const docLink = document.createElement('div');\n",
              "          docLink.innerHTML = docLinkHtml;\n",
              "          element.appendChild(docLink);\n",
              "        }\n",
              "      </script>\n",
              "    </div>\n",
              "  </div>\n",
              "  "
            ]
          },
          "metadata": {},
          "execution_count": 93
        }
      ]
    },
    {
      "cell_type": "code",
      "source": [
        "data.dtypes"
      ],
      "metadata": {
        "colab": {
          "base_uri": "https://localhost:8080/"
        },
        "outputId": "e4e6d467-7889-4bd9-e181-176b18f801f2",
        "id": "IId8nvDZEDww"
      },
      "execution_count": 94,
      "outputs": [
        {
          "output_type": "execute_result",
          "data": {
            "text/plain": [
              "Color       object\n",
              "size        object\n",
              "act         object\n",
              "age         object\n",
              "inflated    object\n",
              "dtype: object"
            ]
          },
          "metadata": {},
          "execution_count": 94
        }
      ]
    },
    {
      "cell_type": "code",
      "source": [
        "# test_df=data\n",
        "df,test_df=train_test_split(data,0.3)\n",
        "print(\"Size of Train Dataset: \",len(df),\"\\n\",\"Size of Test Dataset: \",len(test_df))\n",
        "\n",
        "\n",
        "# from sklearn.model_selection import train_test_split\n",
        "# df,test_df=test_train_split(df,test_size=0.3)"
      ],
      "metadata": {
        "colab": {
          "base_uri": "https://localhost:8080/"
        },
        "outputId": "d8be8162-fc65-42e8-a9ca-312f8715f0e2",
        "id": "VEtksmAwEDwx"
      },
      "execution_count": 95,
      "outputs": [
        {
          "output_type": "stream",
          "name": "stdout",
          "text": [
            "Size of Train Dataset:  14 \n",
            " Size of Test Dataset:  6\n"
          ]
        }
      ]
    },
    {
      "cell_type": "code",
      "source": [
        "print(df.count())\n",
        "print(sum(df[target_name].value_counts().to_dict().values()))"
      ],
      "metadata": {
        "colab": {
          "base_uri": "https://localhost:8080/"
        },
        "outputId": "9b04e870-deaa-4952-d33a-912f9c79503f",
        "id": "ZzI5rE1rEDwx"
      },
      "execution_count": 96,
      "outputs": [
        {
          "output_type": "stream",
          "name": "stdout",
          "text": [
            "Color       14\n",
            "size        14\n",
            "act         14\n",
            "age         14\n",
            "inflated    14\n",
            "dtype: int64\n",
            "14\n"
          ]
        }
      ]
    },
    {
      "cell_type": "markdown",
      "source": [
        "##Descion Tree Training"
      ],
      "metadata": {
        "id": "7dTg4sMGEDwx"
      }
    },
    {
      "cell_type": "code",
      "source": [
        "d=DecisionTree(data,target_name,split_function=split_func)"
      ],
      "metadata": {
        "id": "ZYh2bX2JEDwx"
      },
      "execution_count": 97,
      "outputs": []
    },
    {
      "cell_type": "code",
      "source": [
        "d.construct()"
      ],
      "metadata": {
        "id": "9_tI9S-WEDwx"
      },
      "execution_count": 98,
      "outputs": []
    },
    {
      "cell_type": "code",
      "source": [
        "print(d.tree.no_leafs)"
      ],
      "metadata": {
        "colab": {
          "base_uri": "https://localhost:8080/"
        },
        "outputId": "553d7721-be1b-48d5-baae-de4df372a09a",
        "id": "YbLfJKBsEDwx"
      },
      "execution_count": 99,
      "outputs": [
        {
          "output_type": "stream",
          "name": "stdout",
          "text": [
            "3\n"
          ]
        }
      ]
    },
    {
      "cell_type": "code",
      "source": [
        "d.get_rules()"
      ],
      "metadata": {
        "colab": {
          "base_uri": "https://localhost:8080/"
        },
        "outputId": "6be61e6d-7997-4abe-c682-94a60d85843a",
        "id": "MNUUKwTfEDwy"
      },
      "execution_count": 100,
      "outputs": [
        {
          "output_type": "execute_result",
          "data": {
            "text/plain": [
              "['act ->  ( STRETCH ) age ->  ( CHILD ) F',\n",
              " 'act ->  ( STRETCH ) age ->  ( ADULT ) T',\n",
              " 'act ->  ( DIP ) F']"
            ]
          },
          "metadata": {},
          "execution_count": 100
        }
      ]
    },
    {
      "cell_type": "code",
      "source": [
        "d.tree.printt()"
      ],
      "metadata": {
        "colab": {
          "base_uri": "https://localhost:8080/"
        },
        "outputId": "b04a0e5f-9065-466f-b241-ac7b4fdced25",
        "id": "twfibOrYEDwy"
      },
      "execution_count": 101,
      "outputs": [
        {
          "output_type": "stream",
          "name": "stdout",
          "text": [
            "| act\n",
            "|----- ( STRETCH) age\n",
            "|---------- ( CHILD) F\n",
            "|---------- ( ADULT) T\n",
            "|----- ( DIP) F\n"
          ]
        }
      ]
    },
    {
      "cell_type": "markdown",
      "source": [
        "##Graphviz Representation of Decision Tree"
      ],
      "metadata": {
        "id": "KWiJh1qVEDwy"
      }
    },
    {
      "cell_type": "code",
      "source": [
        "f = open(\"Baloons.dot\", \"w\")\n",
        "f.write(str(d.getGraph()))\n",
        "f.close()"
      ],
      "metadata": {
        "id": "hN7n6CYaPCRf"
      },
      "execution_count": 102,
      "outputs": []
    },
    {
      "cell_type": "code",
      "source": [
        "d.getGraph()"
      ],
      "metadata": {
        "colab": {
          "base_uri": "https://localhost:8080/",
          "height": 0
        },
        "outputId": "731e1ef4-f077-4b27-e5f8-06f25d9919a8",
        "id": "lWUnZOhTEDwy"
      },
      "execution_count": 103,
      "outputs": [
        {
          "output_type": "execute_result",
          "data": {
            "text/plain": [
              "<graphviz.dot.Digraph at 0x7f0fa13c2ad0>"
            ],
            "image/svg+xml": "<?xml version=\"1.0\" encoding=\"UTF-8\" standalone=\"no\"?>\n<!DOCTYPE svg PUBLIC \"-//W3C//DTD SVG 1.1//EN\"\n \"http://www.w3.org/Graphics/SVG/1.1/DTD/svg11.dtd\">\n<!-- Generated by graphviz version 2.40.1 (20161225.0304)\n -->\n<!-- Title: %3 Pages: 1 -->\n<svg width=\"187pt\" height=\"218pt\"\n viewBox=\"0.00 0.00 187.00 218.00\" xmlns=\"http://www.w3.org/2000/svg\" xmlns:xlink=\"http://www.w3.org/1999/xlink\">\n<g id=\"graph0\" class=\"graph\" transform=\"scale(1 1) rotate(0) translate(4 214)\">\n<title>%3</title>\n<polygon fill=\"#ffffff\" stroke=\"transparent\" points=\"-4,4 -4,-214 183,-214 183,4 -4,4\"/>\n<!-- act -->\n<g id=\"node1\" class=\"node\">\n<title>act</title>\n<ellipse fill=\"none\" stroke=\"#000000\" cx=\"107\" cy=\"-192\" rx=\"27\" ry=\"18\"/>\n<text text-anchor=\"middle\" x=\"107\" y=\"-188.3\" font-family=\"Times,serif\" font-size=\"14.00\" fill=\"#000000\">act</text>\n</g>\n<!-- age -->\n<g id=\"node2\" class=\"node\">\n<title>age</title>\n<ellipse fill=\"none\" stroke=\"#000000\" cx=\"63\" cy=\"-105\" rx=\"27\" ry=\"18\"/>\n<text text-anchor=\"middle\" x=\"63\" y=\"-101.3\" font-family=\"Times,serif\" font-size=\"14.00\" fill=\"#000000\">age</text>\n</g>\n<!-- act&#45;&gt;age -->\n<g id=\"edge1\" class=\"edge\">\n<title>act&#45;&gt;age</title>\n<path fill=\"none\" stroke=\"#000000\" d=\"M86.4124,-180.2984C77.8461,-174.244 68.7947,-166.0102 64,-156 60.6861,-149.0813 59.5004,-141.0054 59.3821,-133.3476\"/>\n<polygon fill=\"#000000\" stroke=\"#000000\" points=\"62.8809,-133.4439 59.7827,-123.3122 55.8865,-133.1646 62.8809,-133.4439\"/>\n<text text-anchor=\"middle\" x=\"97\" y=\"-144.8\" font-family=\"Times,serif\" font-size=\"14.00\" fill=\"#000000\">STRETCH</text>\n</g>\n<!-- F2 -->\n<g id=\"node5\" class=\"node\">\n<title>F2</title>\n<ellipse fill=\"none\" stroke=\"#000000\" cx=\"152\" cy=\"-105\" rx=\"27\" ry=\"18\"/>\n<text text-anchor=\"middle\" x=\"152\" y=\"-101.3\" font-family=\"Times,serif\" font-size=\"14.00\" fill=\"#000000\">F</text>\n</g>\n<!-- act&#45;&gt;F2 -->\n<g id=\"edge4\" class=\"edge\">\n<title>act&#45;&gt;F2</title>\n<path fill=\"none\" stroke=\"#000000\" d=\"M118.3402,-175.4862C122.2533,-169.4776 126.5233,-162.5513 130,-156 134.0046,-148.4538 137.8723,-140.0227 141.2182,-132.2228\"/>\n<polygon fill=\"#000000\" stroke=\"#000000\" points=\"144.5312,-133.3717 145.1483,-122.7948 138.0701,-130.6783 144.5312,-133.3717\"/>\n<text text-anchor=\"middle\" x=\"148\" y=\"-144.8\" font-family=\"Times,serif\" font-size=\"14.00\" fill=\"#000000\">DIP</text>\n</g>\n<!-- F0 -->\n<g id=\"node3\" class=\"node\">\n<title>F0</title>\n<ellipse fill=\"none\" stroke=\"#000000\" cx=\"27\" cy=\"-18\" rx=\"27\" ry=\"18\"/>\n<text text-anchor=\"middle\" x=\"27\" y=\"-14.3\" font-family=\"Times,serif\" font-size=\"14.00\" fill=\"#000000\">F</text>\n</g>\n<!-- age&#45;&gt;F0 -->\n<g id=\"edge2\" class=\"edge\">\n<title>age&#45;&gt;F0</title>\n<path fill=\"none\" stroke=\"#000000\" d=\"M46.7606,-90.3374C41.1234,-84.3063 35.3744,-76.8862 32,-69 28.9682,-61.9147 27.4158,-53.7849 26.6886,-46.1288\"/>\n<polygon fill=\"#000000\" stroke=\"#000000\" points=\"30.1825,-45.9209 26.1471,-36.1247 23.1928,-46.2993 30.1825,-45.9209\"/>\n<text text-anchor=\"middle\" x=\"54.5\" y=\"-57.8\" font-family=\"Times,serif\" font-size=\"14.00\" fill=\"#000000\">CHILD</text>\n</g>\n<!-- T1 -->\n<g id=\"node4\" class=\"node\">\n<title>T1</title>\n<ellipse fill=\"none\" stroke=\"#000000\" cx=\"99\" cy=\"-18\" rx=\"27\" ry=\"18\"/>\n<text text-anchor=\"middle\" x=\"99\" y=\"-14.3\" font-family=\"Times,serif\" font-size=\"14.00\" fill=\"#000000\">T</text>\n</g>\n<!-- age&#45;&gt;T1 -->\n<g id=\"edge3\" class=\"edge\">\n<title>age&#45;&gt;T1</title>\n<path fill=\"none\" stroke=\"#000000\" d=\"M70.2851,-87.3943C75.3111,-75.2482 82.0893,-58.8674 87.7982,-45.0711\"/>\n<polygon fill=\"#000000\" stroke=\"#000000\" points=\"91.1362,-46.158 91.7257,-35.5796 84.6681,-43.4815 91.1362,-46.158\"/>\n<text text-anchor=\"middle\" x=\"107.5\" y=\"-57.8\" font-family=\"Times,serif\" font-size=\"14.00\" fill=\"#000000\">ADULT</text>\n</g>\n</g>\n</svg>\n"
          },
          "metadata": {},
          "execution_count": 103
        }
      ]
    },
    {
      "cell_type": "markdown",
      "source": [
        "##Predicting on Train Dataset"
      ],
      "metadata": {
        "id": "C0j_KID5EDwy"
      }
    },
    {
      "cell_type": "code",
      "source": [
        "y_train_pred=d.predict(df)\n",
        "print(accuracy_score(df[target_name].tolist(),y_train_pred))"
      ],
      "metadata": {
        "colab": {
          "base_uri": "https://localhost:8080/"
        },
        "outputId": "7b899ee6-6b04-488e-cfe9-90ff800329b8",
        "id": "lqbTWfOOEDwy"
      },
      "execution_count": 104,
      "outputs": [
        {
          "output_type": "stream",
          "name": "stdout",
          "text": [
            "100.0\n"
          ]
        }
      ]
    },
    {
      "cell_type": "markdown",
      "source": [
        "##Predicting on Test Dataset"
      ],
      "metadata": {
        "id": "a09FZHjCEDwy"
      }
    },
    {
      "cell_type": "code",
      "source": [
        "y_test_pred=d.predict(test_df)\n",
        "accuracy_score(test_df[target_name].tolist(),y_test_pred)"
      ],
      "metadata": {
        "colab": {
          "base_uri": "https://localhost:8080/"
        },
        "outputId": "99b73280-6992-4917-cbd4-78fefe013f1a",
        "id": "RwapxxPYEDwz"
      },
      "execution_count": 105,
      "outputs": [
        {
          "output_type": "execute_result",
          "data": {
            "text/plain": [
              "100.0"
            ]
          },
          "metadata": {},
          "execution_count": 105
        }
      ]
    },
    {
      "cell_type": "code",
      "source": [],
      "metadata": {
        "id": "UpvvDF2qEDwz"
      },
      "execution_count": 105,
      "outputs": []
    },
    {
      "cell_type": "markdown",
      "source": [
        "#Lymphography Dataset"
      ],
      "metadata": {
        "id": "oorvuHCxEdkI"
      }
    },
    {
      "cell_type": "code",
      "source": [
        "## Variables ##\n",
        "dataset='lymphography'\n",
        "split_func='IG'"
      ],
      "metadata": {
        "id": "TBVYtv1yEdkI"
      },
      "execution_count": 106,
      "outputs": []
    },
    {
      "cell_type": "markdown",
      "source": [
        "##Reading Datast"
      ],
      "metadata": {
        "id": "TJM8oeUKEdkJ"
      }
    },
    {
      "cell_type": "code",
      "source": [
        "dataset_url,target_name=datasets[dataset]\n",
        "data=pd.read_csv(dataset_url)\n",
        "data=data.applymap(lambda x: x.strip() if isinstance(x, str) else x)"
      ],
      "metadata": {
        "id": "9Qd-PD2TEdkJ"
      },
      "execution_count": 107,
      "outputs": []
    },
    {
      "cell_type": "code",
      "source": [
        "data"
      ],
      "metadata": {
        "colab": {
          "base_uri": "https://localhost:8080/",
          "height": 0
        },
        "outputId": "74a24e7c-e9b1-46c8-c25f-0cfc41549b7c",
        "id": "Vj7C0_vBEdkJ"
      },
      "execution_count": 108,
      "outputs": [
        {
          "output_type": "execute_result",
          "data": {
            "text/plain": [
              "     class  lymphatics  block of affere  bl. of lymph. c  bl. of lymph. s  \\\n",
              "0        3           4                2                1                1   \n",
              "1        2           3                2                1                1   \n",
              "2        3           3                2                2                2   \n",
              "3        3           3                1                1                1   \n",
              "4        2           3                1                1                1   \n",
              "..     ...         ...              ...              ...              ...   \n",
              "143      3           3                2                1                1   \n",
              "144      2           2                1                1                1   \n",
              "145      3           2                2                1                1   \n",
              "146      2           2                1                1                1   \n",
              "147      2           2                2                2                1   \n",
              "\n",
              "     by pass  extravasates  regeneration of  early uptake in  lym.nodes dimin  \\\n",
              "0          1             1                1                2                1   \n",
              "1          2             2                1                2                1   \n",
              "2          2             2                2                2                1   \n",
              "3          1             2                1                2                1   \n",
              "4          1             1                1                1                1   \n",
              "..       ...           ...              ...              ...              ...   \n",
              "143        2             2                1                2                1   \n",
              "144        1             1                1                1                1   \n",
              "145        1             2                1                2                1   \n",
              "146        1             1                1                2                1   \n",
              "147        2             2                1                2                1   \n",
              "\n",
              "     lym.nodes enlar  changes in lym  defect in node  changes in node  \\\n",
              "0                  2               2               2                4   \n",
              "1                  3               3               2                3   \n",
              "2                  4               3               3                4   \n",
              "3                  3               3               4                4   \n",
              "4                  2               2               4                3   \n",
              "..               ...             ...             ...              ...   \n",
              "143                2               2               4                3   \n",
              "144                1               1               1                1   \n",
              "145                3               3               3                3   \n",
              "146                2               2               4                2   \n",
              "147                3               3               4                3   \n",
              "\n",
              "     changes in stru  special forms  dislocation of  exclusion of no  \\\n",
              "0                  8              1               1                2   \n",
              "1                  4              2               2                2   \n",
              "2                  8              3               2                2   \n",
              "3                  4              3               1                2   \n",
              "4                  5              1               2                2   \n",
              "..               ...            ...             ...              ...   \n",
              "143                5              2               2                2   \n",
              "144                3              1               2                2   \n",
              "145                8              3               2                2   \n",
              "146                2              1               2                2   \n",
              "147                4              3               2                2   \n",
              "\n",
              "     no. of nodes in  \n",
              "0                  2  \n",
              "1                  2  \n",
              "2                  7  \n",
              "3                  6  \n",
              "4                  1  \n",
              "..               ...  \n",
              "143                4  \n",
              "144                1  \n",
              "145                4  \n",
              "146                1  \n",
              "147                6  \n",
              "\n",
              "[148 rows x 19 columns]"
            ],
            "text/html": [
              "\n",
              "  <div id=\"df-4c2bd58f-b3ad-4dbb-b1db-288ea9486a9a\">\n",
              "    <div class=\"colab-df-container\">\n",
              "      <div>\n",
              "<style scoped>\n",
              "    .dataframe tbody tr th:only-of-type {\n",
              "        vertical-align: middle;\n",
              "    }\n",
              "\n",
              "    .dataframe tbody tr th {\n",
              "        vertical-align: top;\n",
              "    }\n",
              "\n",
              "    .dataframe thead th {\n",
              "        text-align: right;\n",
              "    }\n",
              "</style>\n",
              "<table border=\"1\" class=\"dataframe\">\n",
              "  <thead>\n",
              "    <tr style=\"text-align: right;\">\n",
              "      <th></th>\n",
              "      <th>class</th>\n",
              "      <th>lymphatics</th>\n",
              "      <th>block of affere</th>\n",
              "      <th>bl. of lymph. c</th>\n",
              "      <th>bl. of lymph. s</th>\n",
              "      <th>by pass</th>\n",
              "      <th>extravasates</th>\n",
              "      <th>regeneration of</th>\n",
              "      <th>early uptake in</th>\n",
              "      <th>lym.nodes dimin</th>\n",
              "      <th>lym.nodes enlar</th>\n",
              "      <th>changes in lym</th>\n",
              "      <th>defect in node</th>\n",
              "      <th>changes in node</th>\n",
              "      <th>changes in stru</th>\n",
              "      <th>special forms</th>\n",
              "      <th>dislocation of</th>\n",
              "      <th>exclusion of no</th>\n",
              "      <th>no. of nodes in</th>\n",
              "    </tr>\n",
              "  </thead>\n",
              "  <tbody>\n",
              "    <tr>\n",
              "      <th>0</th>\n",
              "      <td>3</td>\n",
              "      <td>4</td>\n",
              "      <td>2</td>\n",
              "      <td>1</td>\n",
              "      <td>1</td>\n",
              "      <td>1</td>\n",
              "      <td>1</td>\n",
              "      <td>1</td>\n",
              "      <td>2</td>\n",
              "      <td>1</td>\n",
              "      <td>2</td>\n",
              "      <td>2</td>\n",
              "      <td>2</td>\n",
              "      <td>4</td>\n",
              "      <td>8</td>\n",
              "      <td>1</td>\n",
              "      <td>1</td>\n",
              "      <td>2</td>\n",
              "      <td>2</td>\n",
              "    </tr>\n",
              "    <tr>\n",
              "      <th>1</th>\n",
              "      <td>2</td>\n",
              "      <td>3</td>\n",
              "      <td>2</td>\n",
              "      <td>1</td>\n",
              "      <td>1</td>\n",
              "      <td>2</td>\n",
              "      <td>2</td>\n",
              "      <td>1</td>\n",
              "      <td>2</td>\n",
              "      <td>1</td>\n",
              "      <td>3</td>\n",
              "      <td>3</td>\n",
              "      <td>2</td>\n",
              "      <td>3</td>\n",
              "      <td>4</td>\n",
              "      <td>2</td>\n",
              "      <td>2</td>\n",
              "      <td>2</td>\n",
              "      <td>2</td>\n",
              "    </tr>\n",
              "    <tr>\n",
              "      <th>2</th>\n",
              "      <td>3</td>\n",
              "      <td>3</td>\n",
              "      <td>2</td>\n",
              "      <td>2</td>\n",
              "      <td>2</td>\n",
              "      <td>2</td>\n",
              "      <td>2</td>\n",
              "      <td>2</td>\n",
              "      <td>2</td>\n",
              "      <td>1</td>\n",
              "      <td>4</td>\n",
              "      <td>3</td>\n",
              "      <td>3</td>\n",
              "      <td>4</td>\n",
              "      <td>8</td>\n",
              "      <td>3</td>\n",
              "      <td>2</td>\n",
              "      <td>2</td>\n",
              "      <td>7</td>\n",
              "    </tr>\n",
              "    <tr>\n",
              "      <th>3</th>\n",
              "      <td>3</td>\n",
              "      <td>3</td>\n",
              "      <td>1</td>\n",
              "      <td>1</td>\n",
              "      <td>1</td>\n",
              "      <td>1</td>\n",
              "      <td>2</td>\n",
              "      <td>1</td>\n",
              "      <td>2</td>\n",
              "      <td>1</td>\n",
              "      <td>3</td>\n",
              "      <td>3</td>\n",
              "      <td>4</td>\n",
              "      <td>4</td>\n",
              "      <td>4</td>\n",
              "      <td>3</td>\n",
              "      <td>1</td>\n",
              "      <td>2</td>\n",
              "      <td>6</td>\n",
              "    </tr>\n",
              "    <tr>\n",
              "      <th>4</th>\n",
              "      <td>2</td>\n",
              "      <td>3</td>\n",
              "      <td>1</td>\n",
              "      <td>1</td>\n",
              "      <td>1</td>\n",
              "      <td>1</td>\n",
              "      <td>1</td>\n",
              "      <td>1</td>\n",
              "      <td>1</td>\n",
              "      <td>1</td>\n",
              "      <td>2</td>\n",
              "      <td>2</td>\n",
              "      <td>4</td>\n",
              "      <td>3</td>\n",
              "      <td>5</td>\n",
              "      <td>1</td>\n",
              "      <td>2</td>\n",
              "      <td>2</td>\n",
              "      <td>1</td>\n",
              "    </tr>\n",
              "    <tr>\n",
              "      <th>...</th>\n",
              "      <td>...</td>\n",
              "      <td>...</td>\n",
              "      <td>...</td>\n",
              "      <td>...</td>\n",
              "      <td>...</td>\n",
              "      <td>...</td>\n",
              "      <td>...</td>\n",
              "      <td>...</td>\n",
              "      <td>...</td>\n",
              "      <td>...</td>\n",
              "      <td>...</td>\n",
              "      <td>...</td>\n",
              "      <td>...</td>\n",
              "      <td>...</td>\n",
              "      <td>...</td>\n",
              "      <td>...</td>\n",
              "      <td>...</td>\n",
              "      <td>...</td>\n",
              "      <td>...</td>\n",
              "    </tr>\n",
              "    <tr>\n",
              "      <th>143</th>\n",
              "      <td>3</td>\n",
              "      <td>3</td>\n",
              "      <td>2</td>\n",
              "      <td>1</td>\n",
              "      <td>1</td>\n",
              "      <td>2</td>\n",
              "      <td>2</td>\n",
              "      <td>1</td>\n",
              "      <td>2</td>\n",
              "      <td>1</td>\n",
              "      <td>2</td>\n",
              "      <td>2</td>\n",
              "      <td>4</td>\n",
              "      <td>3</td>\n",
              "      <td>5</td>\n",
              "      <td>2</td>\n",
              "      <td>2</td>\n",
              "      <td>2</td>\n",
              "      <td>4</td>\n",
              "    </tr>\n",
              "    <tr>\n",
              "      <th>144</th>\n",
              "      <td>2</td>\n",
              "      <td>2</td>\n",
              "      <td>1</td>\n",
              "      <td>1</td>\n",
              "      <td>1</td>\n",
              "      <td>1</td>\n",
              "      <td>1</td>\n",
              "      <td>1</td>\n",
              "      <td>1</td>\n",
              "      <td>1</td>\n",
              "      <td>1</td>\n",
              "      <td>1</td>\n",
              "      <td>1</td>\n",
              "      <td>1</td>\n",
              "      <td>3</td>\n",
              "      <td>1</td>\n",
              "      <td>2</td>\n",
              "      <td>2</td>\n",
              "      <td>1</td>\n",
              "    </tr>\n",
              "    <tr>\n",
              "      <th>145</th>\n",
              "      <td>3</td>\n",
              "      <td>2</td>\n",
              "      <td>2</td>\n",
              "      <td>1</td>\n",
              "      <td>1</td>\n",
              "      <td>1</td>\n",
              "      <td>2</td>\n",
              "      <td>1</td>\n",
              "      <td>2</td>\n",
              "      <td>1</td>\n",
              "      <td>3</td>\n",
              "      <td>3</td>\n",
              "      <td>3</td>\n",
              "      <td>3</td>\n",
              "      <td>8</td>\n",
              "      <td>3</td>\n",
              "      <td>2</td>\n",
              "      <td>2</td>\n",
              "      <td>4</td>\n",
              "    </tr>\n",
              "    <tr>\n",
              "      <th>146</th>\n",
              "      <td>2</td>\n",
              "      <td>2</td>\n",
              "      <td>1</td>\n",
              "      <td>1</td>\n",
              "      <td>1</td>\n",
              "      <td>1</td>\n",
              "      <td>1</td>\n",
              "      <td>1</td>\n",
              "      <td>2</td>\n",
              "      <td>1</td>\n",
              "      <td>2</td>\n",
              "      <td>2</td>\n",
              "      <td>4</td>\n",
              "      <td>2</td>\n",
              "      <td>2</td>\n",
              "      <td>1</td>\n",
              "      <td>2</td>\n",
              "      <td>2</td>\n",
              "      <td>1</td>\n",
              "    </tr>\n",
              "    <tr>\n",
              "      <th>147</th>\n",
              "      <td>2</td>\n",
              "      <td>2</td>\n",
              "      <td>2</td>\n",
              "      <td>2</td>\n",
              "      <td>1</td>\n",
              "      <td>2</td>\n",
              "      <td>2</td>\n",
              "      <td>1</td>\n",
              "      <td>2</td>\n",
              "      <td>1</td>\n",
              "      <td>3</td>\n",
              "      <td>3</td>\n",
              "      <td>4</td>\n",
              "      <td>3</td>\n",
              "      <td>4</td>\n",
              "      <td>3</td>\n",
              "      <td>2</td>\n",
              "      <td>2</td>\n",
              "      <td>6</td>\n",
              "    </tr>\n",
              "  </tbody>\n",
              "</table>\n",
              "<p>148 rows × 19 columns</p>\n",
              "</div>\n",
              "      <button class=\"colab-df-convert\" onclick=\"convertToInteractive('df-4c2bd58f-b3ad-4dbb-b1db-288ea9486a9a')\"\n",
              "              title=\"Convert this dataframe to an interactive table.\"\n",
              "              style=\"display:none;\">\n",
              "        \n",
              "  <svg xmlns=\"http://www.w3.org/2000/svg\" height=\"24px\"viewBox=\"0 0 24 24\"\n",
              "       width=\"24px\">\n",
              "    <path d=\"M0 0h24v24H0V0z\" fill=\"none\"/>\n",
              "    <path d=\"M18.56 5.44l.94 2.06.94-2.06 2.06-.94-2.06-.94-.94-2.06-.94 2.06-2.06.94zm-11 1L8.5 8.5l.94-2.06 2.06-.94-2.06-.94L8.5 2.5l-.94 2.06-2.06.94zm10 10l.94 2.06.94-2.06 2.06-.94-2.06-.94-.94-2.06-.94 2.06-2.06.94z\"/><path d=\"M17.41 7.96l-1.37-1.37c-.4-.4-.92-.59-1.43-.59-.52 0-1.04.2-1.43.59L10.3 9.45l-7.72 7.72c-.78.78-.78 2.05 0 2.83L4 21.41c.39.39.9.59 1.41.59.51 0 1.02-.2 1.41-.59l7.78-7.78 2.81-2.81c.8-.78.8-2.07 0-2.86zM5.41 20L4 18.59l7.72-7.72 1.47 1.35L5.41 20z\"/>\n",
              "  </svg>\n",
              "      </button>\n",
              "      \n",
              "  <style>\n",
              "    .colab-df-container {\n",
              "      display:flex;\n",
              "      flex-wrap:wrap;\n",
              "      gap: 12px;\n",
              "    }\n",
              "\n",
              "    .colab-df-convert {\n",
              "      background-color: #E8F0FE;\n",
              "      border: none;\n",
              "      border-radius: 50%;\n",
              "      cursor: pointer;\n",
              "      display: none;\n",
              "      fill: #1967D2;\n",
              "      height: 32px;\n",
              "      padding: 0 0 0 0;\n",
              "      width: 32px;\n",
              "    }\n",
              "\n",
              "    .colab-df-convert:hover {\n",
              "      background-color: #E2EBFA;\n",
              "      box-shadow: 0px 1px 2px rgba(60, 64, 67, 0.3), 0px 1px 3px 1px rgba(60, 64, 67, 0.15);\n",
              "      fill: #174EA6;\n",
              "    }\n",
              "\n",
              "    [theme=dark] .colab-df-convert {\n",
              "      background-color: #3B4455;\n",
              "      fill: #D2E3FC;\n",
              "    }\n",
              "\n",
              "    [theme=dark] .colab-df-convert:hover {\n",
              "      background-color: #434B5C;\n",
              "      box-shadow: 0px 1px 3px 1px rgba(0, 0, 0, 0.15);\n",
              "      filter: drop-shadow(0px 1px 2px rgba(0, 0, 0, 0.3));\n",
              "      fill: #FFFFFF;\n",
              "    }\n",
              "  </style>\n",
              "\n",
              "      <script>\n",
              "        const buttonEl =\n",
              "          document.querySelector('#df-4c2bd58f-b3ad-4dbb-b1db-288ea9486a9a button.colab-df-convert');\n",
              "        buttonEl.style.display =\n",
              "          google.colab.kernel.accessAllowed ? 'block' : 'none';\n",
              "\n",
              "        async function convertToInteractive(key) {\n",
              "          const element = document.querySelector('#df-4c2bd58f-b3ad-4dbb-b1db-288ea9486a9a');\n",
              "          const dataTable =\n",
              "            await google.colab.kernel.invokeFunction('convertToInteractive',\n",
              "                                                     [key], {});\n",
              "          if (!dataTable) return;\n",
              "\n",
              "          const docLinkHtml = 'Like what you see? Visit the ' +\n",
              "            '<a target=\"_blank\" href=https://colab.research.google.com/notebooks/data_table.ipynb>data table notebook</a>'\n",
              "            + ' to learn more about interactive tables.';\n",
              "          element.innerHTML = '';\n",
              "          dataTable['output_type'] = 'display_data';\n",
              "          await google.colab.output.renderOutput(dataTable, element);\n",
              "          const docLink = document.createElement('div');\n",
              "          docLink.innerHTML = docLinkHtml;\n",
              "          element.appendChild(docLink);\n",
              "        }\n",
              "      </script>\n",
              "    </div>\n",
              "  </div>\n",
              "  "
            ]
          },
          "metadata": {},
          "execution_count": 108
        }
      ]
    },
    {
      "cell_type": "code",
      "source": [
        "data.dtypes"
      ],
      "metadata": {
        "colab": {
          "base_uri": "https://localhost:8080/"
        },
        "outputId": "0d1a37e5-7e6b-453b-9609-e9909e6eb268",
        "id": "H91ib43sEdkJ"
      },
      "execution_count": 109,
      "outputs": [
        {
          "output_type": "execute_result",
          "data": {
            "text/plain": [
              "class              int64\n",
              "lymphatics         int64\n",
              "block of affere    int64\n",
              "bl. of lymph. c    int64\n",
              "bl. of lymph. s    int64\n",
              "by pass            int64\n",
              "extravasates       int64\n",
              "regeneration of    int64\n",
              "early uptake in    int64\n",
              "lym.nodes dimin    int64\n",
              "lym.nodes enlar    int64\n",
              "changes in lym     int64\n",
              "defect in node     int64\n",
              "changes in node    int64\n",
              "changes in stru    int64\n",
              "special forms      int64\n",
              "dislocation of     int64\n",
              "exclusion of no    int64\n",
              "no. of nodes in    int64\n",
              "dtype: object"
            ]
          },
          "metadata": {},
          "execution_count": 109
        }
      ]
    },
    {
      "cell_type": "code",
      "source": [
        "# test_df=data\n",
        "df,test_df=train_test_split(data,0.3)\n",
        "print(\"Size of Train Dataset: \",len(df),\"\\n\",\"Size of Test Dataset: \",len(test_df))\n",
        "\n",
        "\n",
        "# from sklearn.model_selection import train_test_split\n",
        "# df,test_df=test_train_split(df,test_size=0.3)"
      ],
      "metadata": {
        "colab": {
          "base_uri": "https://localhost:8080/"
        },
        "outputId": "b1a9b3fd-d05d-49ee-a87d-3d688a7752f1",
        "id": "Wsc3j9f9EdkJ"
      },
      "execution_count": 110,
      "outputs": [
        {
          "output_type": "stream",
          "name": "stdout",
          "text": [
            "Size of Train Dataset:  104 \n",
            " Size of Test Dataset:  44\n"
          ]
        }
      ]
    },
    {
      "cell_type": "code",
      "source": [
        "print(df.count())\n",
        "print(sum(df[target_name].value_counts().to_dict().values()))"
      ],
      "metadata": {
        "colab": {
          "base_uri": "https://localhost:8080/"
        },
        "outputId": "74b0b32d-5835-4c14-92a6-2a7125332a8b",
        "id": "EEwpgPwFEdkJ"
      },
      "execution_count": 111,
      "outputs": [
        {
          "output_type": "stream",
          "name": "stdout",
          "text": [
            "class              104\n",
            "lymphatics         104\n",
            "block of affere    104\n",
            "bl. of lymph. c    104\n",
            "bl. of lymph. s    104\n",
            "by pass            104\n",
            "extravasates       104\n",
            "regeneration of    104\n",
            "early uptake in    104\n",
            "lym.nodes dimin    104\n",
            "lym.nodes enlar    104\n",
            "changes in lym     104\n",
            "defect in node     104\n",
            "changes in node    104\n",
            "changes in stru    104\n",
            "special forms      104\n",
            "dislocation of     104\n",
            "exclusion of no    104\n",
            "no. of nodes in    104\n",
            "dtype: int64\n",
            "104\n"
          ]
        }
      ]
    },
    {
      "cell_type": "markdown",
      "source": [
        "##Descion Tree Training"
      ],
      "metadata": {
        "id": "04dYrvfGEdkJ"
      }
    },
    {
      "cell_type": "code",
      "source": [
        "d=DecisionTree(data,target_name,split_function=split_func)"
      ],
      "metadata": {
        "id": "5c6lcJP0EdkJ"
      },
      "execution_count": 112,
      "outputs": []
    },
    {
      "cell_type": "code",
      "source": [
        "d.construct()"
      ],
      "metadata": {
        "id": "EtZ_f-NHEdkJ"
      },
      "execution_count": 113,
      "outputs": []
    },
    {
      "cell_type": "code",
      "source": [
        "print(d.tree.no_leafs)"
      ],
      "metadata": {
        "colab": {
          "base_uri": "https://localhost:8080/"
        },
        "outputId": "50073b0d-6166-41b0-8d54-8adec8241504",
        "id": "rUo1pFaeEdkK"
      },
      "execution_count": 114,
      "outputs": [
        {
          "output_type": "stream",
          "name": "stdout",
          "text": [
            "77\n"
          ]
        }
      ]
    },
    {
      "cell_type": "code",
      "source": [
        "d.get_rules()"
      ],
      "metadata": {
        "colab": {
          "base_uri": "https://localhost:8080/"
        },
        "outputId": "132fc6f0-9320-46c6-b4b5-478c055446a9",
        "id": "GBItyd-FEdkK"
      },
      "execution_count": 115,
      "outputs": [
        {
          "output_type": "stream",
          "name": "stderr",
          "text": [
            "/usr/local/lib/python3.7/dist-packages/ipykernel_launcher.py:175: FutureWarning: elementwise comparison failed; returning scalar instead, but in the future will perform elementwise comparison\n"
          ]
        },
        {
          "output_type": "execute_result",
          "data": {
            "text/plain": [
              "['lym.nodes enlar ->  ( 2 ) changes in stru ->  ( 8 ) lymphatics ->  ( 2 ) exclusion of no ->  ( 1 ) 1',\n",
              " 'lym.nodes enlar ->  ( 2 ) changes in stru ->  ( 8 ) lymphatics ->  ( 2 ) exclusion of no ->  ( 2 ) dislocation of ->  ( 2 ) changes in node ->  ( 2 ) special forms ->  ( 3 ) early uptake in ->  ( 2 ) 3',\n",
              " 'lym.nodes enlar ->  ( 2 ) changes in stru ->  ( 8 ) lymphatics ->  ( 2 ) exclusion of no ->  ( 2 ) dislocation of ->  ( 2 ) changes in node ->  ( 2 ) special forms ->  ( 3 ) early uptake in ->  ( 1 ) 1',\n",
              " 'lym.nodes enlar ->  ( 2 ) changes in stru ->  ( 8 ) lymphatics ->  ( 2 ) exclusion of no ->  ( 2 ) dislocation of ->  ( 2 ) changes in node ->  ( 2 ) special forms ->  ( 2 ) 1',\n",
              " 'lym.nodes enlar ->  ( 2 ) changes in stru ->  ( 8 ) lymphatics ->  ( 2 ) exclusion of no ->  ( 2 ) dislocation of ->  ( 2 ) changes in node ->  ( 3 ) early uptake in ->  ( 1 ) 3',\n",
              " 'lym.nodes enlar ->  ( 2 ) changes in stru ->  ( 8 ) lymphatics ->  ( 2 ) exclusion of no ->  ( 2 ) dislocation of ->  ( 2 ) changes in node ->  ( 3 ) early uptake in ->  ( 2 ) 2',\n",
              " 'lym.nodes enlar ->  ( 2 ) changes in stru ->  ( 8 ) lymphatics ->  ( 2 ) exclusion of no ->  ( 2 ) dislocation of ->  ( 1 ) 2',\n",
              " 'lym.nodes enlar ->  ( 2 ) changes in stru ->  ( 8 ) lymphatics ->  ( 3 ) changes in node ->  ( 3 ) 1',\n",
              " 'lym.nodes enlar ->  ( 2 ) changes in stru ->  ( 8 ) lymphatics ->  ( 3 ) changes in node ->  ( 2 ) 1',\n",
              " 'lym.nodes enlar ->  ( 2 ) changes in stru ->  ( 8 ) lymphatics ->  ( 3 ) changes in node ->  ( 4 ) 3',\n",
              " 'lym.nodes enlar ->  ( 2 ) changes in stru ->  ( 8 ) lymphatics ->  ( 4 ) 2',\n",
              " 'lym.nodes enlar ->  ( 2 ) changes in stru ->  ( 2 ) lymphatics ->  ( 3 ) exclusion of no ->  ( 1 ) 1',\n",
              " 'lym.nodes enlar ->  ( 2 ) changes in stru ->  ( 2 ) lymphatics ->  ( 3 ) exclusion of no ->  ( 2 ) defect in node ->  ( 3 ) 3',\n",
              " 'lym.nodes enlar ->  ( 2 ) changes in stru ->  ( 2 ) lymphatics ->  ( 3 ) exclusion of no ->  ( 2 ) defect in node ->  ( 2 ) 1',\n",
              " 'lym.nodes enlar ->  ( 2 ) changes in stru ->  ( 2 ) lymphatics ->  ( 3 ) exclusion of no ->  ( 2 ) defect in node ->  ( 4 ) 3',\n",
              " 'lym.nodes enlar ->  ( 2 ) changes in stru ->  ( 2 ) lymphatics ->  ( 2 ) 1',\n",
              " 'lym.nodes enlar ->  ( 2 ) changes in stru ->  ( 2 ) lymphatics ->  ( 4 ) exclusion of no ->  ( 1 ) 1',\n",
              " 'lym.nodes enlar ->  ( 2 ) changes in stru ->  ( 2 ) lymphatics ->  ( 4 ) exclusion of no ->  ( 2 ) 4',\n",
              " 'lym.nodes enlar ->  ( 2 ) changes in stru ->  ( 2 ) lymphatics ->  ( 1 ) 2',\n",
              " 'lym.nodes enlar ->  ( 2 ) changes in stru ->  ( 5 ) defect in node ->  ( 4 ) by pass ->  ( 2 ) 4',\n",
              " 'lym.nodes enlar ->  ( 2 ) changes in stru ->  ( 5 ) defect in node ->  ( 4 ) by pass ->  ( 1 ) 1',\n",
              " 'lym.nodes enlar ->  ( 2 ) changes in stru ->  ( 5 ) defect in node ->  ( 3 ) bl. of lymph. c ->  ( 1 ) class ->  ( 2 ) 1',\n",
              " 'lym.nodes enlar ->  ( 2 ) changes in stru ->  ( 5 ) defect in node ->  ( 3 ) bl. of lymph. c ->  ( 1 ) class ->  ( 3 ) 2',\n",
              " 'lym.nodes enlar ->  ( 2 ) changes in stru ->  ( 5 ) defect in node ->  ( 3 ) bl. of lymph. c ->  ( 2 ) 2',\n",
              " 'lym.nodes enlar ->  ( 2 ) changes in stru ->  ( 5 ) defect in node ->  ( 2 ) 2',\n",
              " 'lym.nodes enlar ->  ( 2 ) changes in stru ->  ( 4 ) bl. of lymph. s ->  ( 1 ) defect in node ->  ( 2 ) 2',\n",
              " 'lym.nodes enlar ->  ( 2 ) changes in stru ->  ( 4 ) bl. of lymph. s ->  ( 1 ) defect in node ->  ( 3 ) special forms ->  ( 2 ) 1',\n",
              " 'lym.nodes enlar ->  ( 2 ) changes in stru ->  ( 4 ) bl. of lymph. s ->  ( 1 ) defect in node ->  ( 3 ) special forms ->  ( 3 ) 2',\n",
              " 'lym.nodes enlar ->  ( 2 ) changes in stru ->  ( 4 ) bl. of lymph. s ->  ( 1 ) defect in node ->  ( 4 ) exclusion of no ->  ( 1 ) 1',\n",
              " 'lym.nodes enlar ->  ( 2 ) changes in stru ->  ( 4 ) bl. of lymph. s ->  ( 1 ) defect in node ->  ( 4 ) exclusion of no ->  ( 2 ) 2',\n",
              " 'lym.nodes enlar ->  ( 2 ) changes in stru ->  ( 4 ) bl. of lymph. s ->  ( 2 ) 7',\n",
              " 'lym.nodes enlar ->  ( 2 ) changes in stru ->  ( 3 ) bl. of lymph. c ->  ( 2 ) exclusion of no ->  ( 1 ) 1',\n",
              " 'lym.nodes enlar ->  ( 2 ) changes in stru ->  ( 3 ) bl. of lymph. c ->  ( 2 ) exclusion of no ->  ( 2 ) 2',\n",
              " 'lym.nodes enlar ->  ( 2 ) changes in stru ->  ( 3 ) bl. of lymph. c ->  ( 1 ) 1',\n",
              " 'lym.nodes enlar ->  ( 2 ) changes in stru ->  ( 7 ) 2',\n",
              " 'lym.nodes enlar ->  ( 4 ) changes in stru ->  ( 5 ) lymphatics ->  ( 2 ) 5',\n",
              " 'lym.nodes enlar ->  ( 4 ) changes in stru ->  ( 5 ) lymphatics ->  ( 3 ) 3',\n",
              " 'lym.nodes enlar ->  ( 4 ) changes in stru ->  ( 5 ) lymphatics ->  ( 4 ) 2',\n",
              " 'lym.nodes enlar ->  ( 4 ) changes in stru ->  ( 4 ) defect in node ->  ( 3 ) 1',\n",
              " 'lym.nodes enlar ->  ( 4 ) changes in stru ->  ( 4 ) defect in node ->  ( 4 ) 6',\n",
              " 'lym.nodes enlar ->  ( 4 ) changes in stru ->  ( 4 ) defect in node ->  ( 2 ) 7',\n",
              " 'lym.nodes enlar ->  ( 4 ) changes in stru ->  ( 8 ) changes in node ->  ( 2 ) dislocation of ->  ( 1 ) 4',\n",
              " 'lym.nodes enlar ->  ( 4 ) changes in stru ->  ( 8 ) changes in node ->  ( 2 ) dislocation of ->  ( 2 ) 6',\n",
              " 'lym.nodes enlar ->  ( 4 ) changes in stru ->  ( 8 ) changes in node ->  ( 4 ) 7',\n",
              " 'lym.nodes enlar ->  ( 4 ) changes in stru ->  ( 7 ) 5',\n",
              " 'lym.nodes enlar ->  ( 4 ) changes in stru ->  ( 3 ) 5',\n",
              " 'lym.nodes enlar ->  ( 3 ) changes in stru ->  ( 8 ) extravasates ->  ( 2 ) special forms ->  ( 3 ) changes in node ->  ( 3 ) 2',\n",
              " 'lym.nodes enlar ->  ( 3 ) changes in stru ->  ( 8 ) extravasates ->  ( 2 ) special forms ->  ( 3 ) changes in node ->  ( 2 ) block of affere ->  ( 2 ) 2',\n",
              " 'lym.nodes enlar ->  ( 3 ) changes in stru ->  ( 8 ) extravasates ->  ( 2 ) special forms ->  ( 3 ) changes in node ->  ( 2 ) block of affere ->  ( 1 ) 3',\n",
              " 'lym.nodes enlar ->  ( 3 ) changes in stru ->  ( 8 ) extravasates ->  ( 2 ) special forms ->  ( 3 ) changes in node ->  ( 4 ) 2',\n",
              " 'lym.nodes enlar ->  ( 3 ) changes in stru ->  ( 8 ) extravasates ->  ( 2 ) special forms ->  ( 2 ) 3',\n",
              " 'lym.nodes enlar ->  ( 3 ) changes in stru ->  ( 8 ) extravasates ->  ( 1 ) changes in node ->  ( 2 ) dislocation of ->  ( 1 ) 5',\n",
              " 'lym.nodes enlar ->  ( 3 ) changes in stru ->  ( 8 ) extravasates ->  ( 1 ) changes in node ->  ( 2 ) dislocation of ->  ( 2 ) 4',\n",
              " 'lym.nodes enlar ->  ( 3 ) changes in stru ->  ( 8 ) extravasates ->  ( 1 ) changes in node ->  ( 4 ) defect in node ->  ( 2 ) 3',\n",
              " 'lym.nodes enlar ->  ( 3 ) changes in stru ->  ( 8 ) extravasates ->  ( 1 ) changes in node ->  ( 4 ) defect in node ->  ( 4 ) 1',\n",
              " 'lym.nodes enlar ->  ( 3 ) changes in stru ->  ( 8 ) extravasates ->  ( 1 ) changes in node ->  ( 3 ) 3',\n",
              " 'lym.nodes enlar ->  ( 3 ) changes in stru ->  ( 3 ) 1',\n",
              " 'lym.nodes enlar ->  ( 3 ) changes in stru ->  ( 4 ) special forms ->  ( 1 ) 1',\n",
              " 'lym.nodes enlar ->  ( 3 ) changes in stru ->  ( 4 ) special forms ->  ( 2 ) early uptake in ->  ( 2 ) 2',\n",
              " 'lym.nodes enlar ->  ( 3 ) changes in stru ->  ( 4 ) special forms ->  ( 2 ) early uptake in ->  ( 1 ) 3',\n",
              " 'lym.nodes enlar ->  ( 3 ) changes in stru ->  ( 4 ) special forms ->  ( 3 ) lymphatics ->  ( 3 ) dislocation of ->  ( 2 ) 1',\n",
              " 'lym.nodes enlar ->  ( 3 ) changes in stru ->  ( 4 ) special forms ->  ( 3 ) lymphatics ->  ( 3 ) dislocation of ->  ( 1 ) 6',\n",
              " 'lym.nodes enlar ->  ( 3 ) changes in stru ->  ( 4 ) special forms ->  ( 3 ) lymphatics ->  ( 4 ) 2',\n",
              " 'lym.nodes enlar ->  ( 3 ) changes in stru ->  ( 4 ) special forms ->  ( 3 ) lymphatics ->  ( 2 ) changes in node ->  ( 3 ) 6',\n",
              " 'lym.nodes enlar ->  ( 3 ) changes in stru ->  ( 4 ) special forms ->  ( 3 ) lymphatics ->  ( 2 ) changes in node ->  ( 4 ) 5',\n",
              " 'lym.nodes enlar ->  ( 3 ) changes in stru ->  ( 5 ) changes in node ->  ( 2 ) 3',\n",
              " 'lym.nodes enlar ->  ( 3 ) changes in stru ->  ( 5 ) changes in node ->  ( 3 ) 3',\n",
              " 'lym.nodes enlar ->  ( 3 ) changes in stru ->  ( 5 ) changes in node ->  ( 4 ) 5',\n",
              " 'lym.nodes enlar ->  ( 3 ) changes in stru ->  ( 2 ) 3',\n",
              " 'lym.nodes enlar ->  ( 3 ) changes in stru ->  ( 6 ) 6',\n",
              " 'lym.nodes enlar ->  ( 1 ) class ->  ( 4 ) exclusion of no ->  ( 1 ) 7',\n",
              " 'lym.nodes enlar ->  ( 1 ) class ->  ( 4 ) exclusion of no ->  ( 2 ) 4',\n",
              " 'lym.nodes enlar ->  ( 1 ) class ->  ( 2 ) special forms ->  ( 1 ) 1',\n",
              " 'lym.nodes enlar ->  ( 1 ) class ->  ( 2 ) special forms ->  ( 3 ) 3',\n",
              " 'lym.nodes enlar ->  ( 1 ) class ->  ( 2 ) special forms ->  ( 2 ) 2',\n",
              " 'lym.nodes enlar ->  ( 1 ) class ->  ( 3 ) dislocation of ->  ( 2 ) 2',\n",
              " 'lym.nodes enlar ->  ( 1 ) class ->  ( 3 ) dislocation of ->  ( 1 ) 8']"
            ]
          },
          "metadata": {},
          "execution_count": 115
        }
      ]
    },
    {
      "cell_type": "code",
      "source": [
        "d.tree.printt()"
      ],
      "metadata": {
        "colab": {
          "base_uri": "https://localhost:8080/"
        },
        "outputId": "006d1510-864b-4b80-b2ff-3a1e7a261f8e",
        "id": "TrN_v65fEdkK"
      },
      "execution_count": 116,
      "outputs": [
        {
          "output_type": "stream",
          "name": "stdout",
          "text": [
            "| lym.nodes enlar\n",
            "|----- ( 2) changes in stru\n",
            "|---------- ( 8) lymphatics\n",
            "|--------------- ( 2) exclusion of no\n",
            "|-------------------- ( 1) 1\n",
            "|-------------------- ( 2) dislocation of\n",
            "|------------------------- ( 2) changes in node\n",
            "|------------------------------ ( 2) special forms\n",
            "|----------------------------------- ( 3) early uptake in\n",
            "|---------------------------------------- ( 2) 3\n",
            "|---------------------------------------- ( 1) 1\n",
            "|----------------------------------- ( 2) 1\n",
            "|------------------------------ ( 3) early uptake in4\n",
            "|----------------------------------- ( 1) 3\n",
            "|----------------------------------- ( 2) 2\n",
            "|------------------------- ( 1) 2\n",
            "|--------------- ( 3) changes in node8\n",
            "|-------------------- ( 3) 1\n",
            "|-------------------- ( 2) 1\n",
            "|-------------------- ( 4) 3\n",
            "|--------------- ( 4) 2\n",
            "|---------- ( 2) lymphatics13\n",
            "|--------------- ( 3) exclusion of no14\n",
            "|-------------------- ( 1) 1\n",
            "|-------------------- ( 2) defect in node\n",
            "|------------------------- ( 3) 3\n",
            "|------------------------- ( 2) 1\n",
            "|------------------------- ( 4) 3\n",
            "|--------------- ( 2) 1\n",
            "|--------------- ( 4) exclusion of no20\n",
            "|-------------------- ( 1) 1\n",
            "|-------------------- ( 2) 4\n",
            "|--------------- ( 1) 2\n",
            "|---------- ( 5) defect in node24\n",
            "|--------------- ( 4) by pass\n",
            "|-------------------- ( 2) 4\n",
            "|-------------------- ( 1) 1\n",
            "|--------------- ( 3) bl. of lymph. c\n",
            "|-------------------- ( 1) class\n",
            "|------------------------- ( 2) 1\n",
            "|------------------------- ( 3) 2\n",
            "|-------------------- ( 2) 2\n",
            "|--------------- ( 2) 2\n",
            "|---------- ( 4) bl. of lymph. s\n",
            "|--------------- ( 1) defect in node31\n",
            "|-------------------- ( 2) 2\n",
            "|-------------------- ( 3) special forms33\n",
            "|------------------------- ( 2) 1\n",
            "|------------------------- ( 3) 2\n",
            "|-------------------- ( 4) exclusion of no36\n",
            "|------------------------- ( 1) 1\n",
            "|------------------------- ( 2) 2\n",
            "|--------------- ( 2) 7\n",
            "|---------- ( 3) bl. of lymph. c40\n",
            "|--------------- ( 2) exclusion of no41\n",
            "|-------------------- ( 1) 1\n",
            "|-------------------- ( 2) 2\n",
            "|--------------- ( 1) 1\n",
            "|---------- ( 7) 2\n",
            "|----- ( 4) changes in stru46\n",
            "|---------- ( 5) lymphatics47\n",
            "|--------------- ( 2) 5\n",
            "|--------------- ( 3) 3\n",
            "|--------------- ( 4) 2\n",
            "|---------- ( 4) defect in node51\n",
            "|--------------- ( 3) 1\n",
            "|--------------- ( 4) 6\n",
            "|--------------- ( 2) 7\n",
            "|---------- ( 8) changes in node55\n",
            "|--------------- ( 2) dislocation of56\n",
            "|-------------------- ( 1) 4\n",
            "|-------------------- ( 2) 6\n",
            "|--------------- ( 4) 7\n",
            "|---------- ( 7) 5\n",
            "|---------- ( 3) 5\n",
            "|----- ( 3) changes in stru62\n",
            "|---------- ( 8) extravasates\n",
            "|--------------- ( 2) special forms63\n",
            "|-------------------- ( 3) changes in node64\n",
            "|------------------------- ( 3) 2\n",
            "|------------------------- ( 2) block of affere\n",
            "|------------------------------ ( 2) 2\n",
            "|------------------------------ ( 1) 3\n",
            "|------------------------- ( 4) 2\n",
            "|-------------------- ( 2) 3\n",
            "|--------------- ( 1) changes in node70\n",
            "|-------------------- ( 2) dislocation of71\n",
            "|------------------------- ( 1) 5\n",
            "|------------------------- ( 2) 4\n",
            "|-------------------- ( 4) defect in node74\n",
            "|------------------------- ( 2) 3\n",
            "|------------------------- ( 4) 1\n",
            "|-------------------- ( 3) 3\n",
            "|---------- ( 3) 1\n",
            "|---------- ( 4) special forms79\n",
            "|--------------- ( 1) 1\n",
            "|--------------- ( 2) early uptake in81\n",
            "|-------------------- ( 2) 2\n",
            "|-------------------- ( 1) 3\n",
            "|--------------- ( 3) lymphatics84\n",
            "|-------------------- ( 3) dislocation of85\n",
            "|------------------------- ( 2) 1\n",
            "|------------------------- ( 1) 6\n",
            "|-------------------- ( 4) 2\n",
            "|-------------------- ( 2) changes in node89\n",
            "|------------------------- ( 3) 6\n",
            "|------------------------- ( 4) 5\n",
            "|---------- ( 5) changes in node92\n",
            "|--------------- ( 2) 3\n",
            "|--------------- ( 3) 3\n",
            "|--------------- ( 4) 5\n",
            "|---------- ( 2) 3\n",
            "|---------- ( 6) 6\n",
            "|----- ( 1) class98\n",
            "|---------- ( 4) exclusion of no99\n",
            "|--------------- ( 1) 7\n",
            "|--------------- ( 2) 4\n",
            "|---------- ( 2) special forms102\n",
            "|--------------- ( 1) 1\n",
            "|--------------- ( 3) 3\n",
            "|--------------- ( 2) 2\n",
            "|---------- ( 3) dislocation of106\n",
            "|--------------- ( 2) 2\n",
            "|--------------- ( 1) 8\n"
          ]
        }
      ]
    },
    {
      "cell_type": "markdown",
      "source": [
        "##Graphviz Representation of Decision Tree"
      ],
      "metadata": {
        "id": "EQQZKd35EdkK"
      }
    },
    {
      "cell_type": "code",
      "source": [
        "f = open(\"Lymphography.dot\", \"w\")\n",
        "f.write(str(d.getGraph()))\n",
        "f.close()"
      ],
      "metadata": {
        "id": "IhKzFA5dPHfs"
      },
      "execution_count": 117,
      "outputs": []
    },
    {
      "cell_type": "code",
      "source": [
        "d.getGraph()"
      ],
      "metadata": {
        "colab": {
          "base_uri": "https://localhost:8080/",
          "height": 0
        },
        "outputId": "f692e753-5f84-4408-d4b6-db02584d3b96",
        "id": "j-NGkCQNEdkK"
      },
      "execution_count": 118,
      "outputs": [
        {
          "output_type": "execute_result",
          "data": {
            "text/plain": [
              "<graphviz.dot.Digraph at 0x7f0fa1332910>"
            ],
            "image/svg+xml": "<?xml version=\"1.0\" encoding=\"UTF-8\" standalone=\"no\"?>\n<!DOCTYPE svg PUBLIC \"-//W3C//DTD SVG 1.1//EN\"\n \"http://www.w3.org/Graphics/SVG/1.1/DTD/svg11.dtd\">\n<!-- Generated by graphviz version 2.40.1 (20161225.0304)\n -->\n<!-- Title: %3 Pages: 1 -->\n<svg width=\"3993pt\" height=\"740pt\"\n viewBox=\"0.00 0.00 3992.64 740.00\" xmlns=\"http://www.w3.org/2000/svg\" xmlns:xlink=\"http://www.w3.org/1999/xlink\">\n<g id=\"graph0\" class=\"graph\" transform=\"scale(1 1) rotate(0) translate(4 736)\">\n<title>%3</title>\n<polygon fill=\"#ffffff\" stroke=\"transparent\" points=\"-4,4 -4,-736 3988.6442,-736 3988.6442,4 -4,4\"/>\n<!-- lym.nodes enlar -->\n<g id=\"node1\" class=\"node\">\n<title>lym.nodes enlar</title>\n<ellipse fill=\"none\" stroke=\"#000000\" cx=\"2647.6442\" cy=\"-714\" rx=\"70.3881\" ry=\"18\"/>\n<text text-anchor=\"middle\" x=\"2647.6442\" y=\"-710.3\" font-family=\"Times,serif\" font-size=\"14.00\" fill=\"#000000\">lym.nodes enlar</text>\n</g>\n<!-- changes in stru -->\n<g id=\"node2\" class=\"node\">\n<title>changes in stru</title>\n<ellipse fill=\"none\" stroke=\"#000000\" cx=\"1522.6442\" cy=\"-627\" rx=\"66.0889\" ry=\"18\"/>\n<text text-anchor=\"middle\" x=\"1522.6442\" y=\"-623.3\" font-family=\"Times,serif\" font-size=\"14.00\" fill=\"#000000\">changes in stru</text>\n</g>\n<!-- lym.nodes enlar&#45;&gt;changes in stru -->\n<g id=\"edge1\" class=\"edge\">\n<title>lym.nodes enlar&#45;&gt;changes in stru</title>\n<path fill=\"none\" stroke=\"#000000\" d=\"M2580.2222,-708.786C2382.0988,-693.4645 1802.7224,-648.6594 1596.5426,-632.7148\"/>\n<polygon fill=\"#000000\" stroke=\"#000000\" points=\"1596.6634,-629.2138 1586.4233,-631.9322 1596.1236,-636.193 1596.6634,-629.2138\"/>\n<text text-anchor=\"middle\" x=\"2156.6442\" y=\"-666.8\" font-family=\"Times,serif\" font-size=\"14.00\" fill=\"#000000\">2</text>\n</g>\n<!-- changes in stru46 -->\n<g id=\"node60\" class=\"node\">\n<title>changes in stru46</title>\n<ellipse fill=\"none\" stroke=\"#000000\" cx=\"2460.6442\" cy=\"-627\" rx=\"66.0889\" ry=\"18\"/>\n<text text-anchor=\"middle\" x=\"2460.6442\" y=\"-623.3\" font-family=\"Times,serif\" font-size=\"14.00\" fill=\"#000000\">changes in stru</text>\n</g>\n<!-- lym.nodes enlar&#45;&gt;changes in stru46 -->\n<g id=\"edge59\" class=\"edge\">\n<title>lym.nodes enlar&#45;&gt;changes in stru46</title>\n<path fill=\"none\" stroke=\"#000000\" d=\"M2613.3455,-698.0429C2582.4441,-683.6663 2536.887,-662.4713 2503.5768,-646.974\"/>\n<polygon fill=\"#000000\" stroke=\"#000000\" points=\"2504.6394,-643.6082 2494.0963,-642.5633 2501.6866,-649.9549 2504.6394,-643.6082\"/>\n<text text-anchor=\"middle\" x=\"2569.6442\" y=\"-666.8\" font-family=\"Times,serif\" font-size=\"14.00\" fill=\"#000000\">4</text>\n</g>\n<!-- changes in stru62 -->\n<g id=\"node76\" class=\"node\">\n<title>changes in stru62</title>\n<ellipse fill=\"none\" stroke=\"#000000\" cx=\"3118.6442\" cy=\"-627\" rx=\"66.0889\" ry=\"18\"/>\n<text text-anchor=\"middle\" x=\"3118.6442\" y=\"-623.3\" font-family=\"Times,serif\" font-size=\"14.00\" fill=\"#000000\">changes in stru</text>\n</g>\n<!-- lym.nodes enlar&#45;&gt;changes in stru62 -->\n<g id=\"edge75\" class=\"edge\">\n<title>lym.nodes enlar&#45;&gt;changes in stru62</title>\n<path fill=\"none\" stroke=\"#000000\" d=\"M2704.9271,-703.4191C2792.9498,-687.1601 2960.9671,-656.1251 3053.501,-639.0328\"/>\n<polygon fill=\"#000000\" stroke=\"#000000\" points=\"3054.3832,-642.4292 3063.5811,-637.1709 3053.1117,-635.5456 3054.3832,-642.4292\"/>\n<text text-anchor=\"middle\" x=\"2915.6442\" y=\"-666.8\" font-family=\"Times,serif\" font-size=\"14.00\" fill=\"#000000\">3</text>\n</g>\n<!-- class98 -->\n<g id=\"node114\" class=\"node\">\n<title>class98</title>\n<ellipse fill=\"none\" stroke=\"#000000\" cx=\"3667.6442\" cy=\"-627\" rx=\"27.8951\" ry=\"18\"/>\n<text text-anchor=\"middle\" x=\"3667.6442\" y=\"-623.3\" font-family=\"Times,serif\" font-size=\"14.00\" fill=\"#000000\">class</text>\n</g>\n<!-- lym.nodes enlar&#45;&gt;class98 -->\n<g id=\"edge113\" class=\"edge\">\n<title>lym.nodes enlar&#45;&gt;class98</title>\n<path fill=\"none\" stroke=\"#000000\" d=\"M2714.5692,-708.2917C2910.2041,-691.6052 3476.8933,-643.2699 3629.4426,-630.2584\"/>\n<polygon fill=\"#000000\" stroke=\"#000000\" points=\"3630.0333,-633.7208 3639.6997,-629.3835 3629.4384,-626.7461 3630.0333,-633.7208\"/>\n<text text-anchor=\"middle\" x=\"3223.6442\" y=\"-666.8\" font-family=\"Times,serif\" font-size=\"14.00\" fill=\"#000000\">1</text>\n</g>\n<!-- lymphatics -->\n<g id=\"node3\" class=\"node\">\n<title>lymphatics</title>\n<ellipse fill=\"none\" stroke=\"#000000\" cx=\"608.6442\" cy=\"-540\" rx=\"51.1914\" ry=\"18\"/>\n<text text-anchor=\"middle\" x=\"608.6442\" y=\"-536.3\" font-family=\"Times,serif\" font-size=\"14.00\" fill=\"#000000\">lymphatics</text>\n</g>\n<!-- changes in stru&#45;&gt;lymphatics -->\n<g id=\"edge2\" class=\"edge\">\n<title>changes in stru&#45;&gt;lymphatics</title>\n<path fill=\"none\" stroke=\"#000000\" d=\"M1459.8213,-621.0201C1291.7979,-605.0267 833.6682,-561.4191 668.7818,-545.7243\"/>\n<polygon fill=\"#000000\" stroke=\"#000000\" points=\"668.6379,-542.1948 658.3513,-544.7314 667.9746,-549.1633 668.6379,-542.1948\"/>\n<text text-anchor=\"middle\" x=\"1124.6442\" y=\"-579.8\" font-family=\"Times,serif\" font-size=\"14.00\" fill=\"#000000\">8</text>\n</g>\n<!-- lymphatics13 -->\n<g id=\"node22\" class=\"node\">\n<title>lymphatics13</title>\n<ellipse fill=\"none\" stroke=\"#000000\" cx=\"965.6442\" cy=\"-540\" rx=\"51.1914\" ry=\"18\"/>\n<text text-anchor=\"middle\" x=\"965.6442\" y=\"-536.3\" font-family=\"Times,serif\" font-size=\"14.00\" fill=\"#000000\">lymphatics</text>\n</g>\n<!-- changes in stru&#45;&gt;lymphatics13 -->\n<g id=\"edge21\" class=\"edge\">\n<title>changes in stru&#45;&gt;lymphatics13</title>\n<path fill=\"none\" stroke=\"#000000\" d=\"M1465.1333,-618.0172C1358.0992,-601.2991 1129.5245,-565.5971 1022.7772,-548.9238\"/>\n<polygon fill=\"#000000\" stroke=\"#000000\" points=\"1023.2557,-545.4562 1012.8353,-547.371 1022.1753,-552.3723 1023.2557,-545.4562\"/>\n<text text-anchor=\"middle\" x=\"1281.6442\" y=\"-579.8\" font-family=\"Times,serif\" font-size=\"14.00\" fill=\"#000000\">2</text>\n</g>\n<!-- defect in node24 -->\n<g id=\"node34\" class=\"node\">\n<title>defect in node24</title>\n<ellipse fill=\"none\" stroke=\"#000000\" cx=\"1367.6442\" cy=\"-540\" rx=\"63.8893\" ry=\"18\"/>\n<text text-anchor=\"middle\" x=\"1367.6442\" y=\"-536.3\" font-family=\"Times,serif\" font-size=\"14.00\" fill=\"#000000\">defect in node</text>\n</g>\n<!-- changes in stru&#45;&gt;defect in node24 -->\n<g id=\"edge33\" class=\"edge\">\n<title>changes in stru&#45;&gt;defect in node24</title>\n<path fill=\"none\" stroke=\"#000000\" d=\"M1493.4899,-610.636C1468.514,-596.6172 1432.3845,-576.3381 1405.2382,-561.1012\"/>\n<polygon fill=\"#000000\" stroke=\"#000000\" points=\"1406.8389,-557.986 1396.4055,-556.1435 1403.4126,-564.0902 1406.8389,-557.986\"/>\n<text text-anchor=\"middle\" x=\"1458.6442\" y=\"-579.8\" font-family=\"Times,serif\" font-size=\"14.00\" fill=\"#000000\">5</text>\n</g>\n<!-- bl. of lymph. s -->\n<g id=\"node44\" class=\"node\">\n<title>bl. of lymph. s</title>\n<ellipse fill=\"none\" stroke=\"#000000\" cx=\"1522.6442\" cy=\"-540\" rx=\"65.7887\" ry=\"18\"/>\n<text text-anchor=\"middle\" x=\"1522.6442\" y=\"-536.3\" font-family=\"Times,serif\" font-size=\"14.00\" fill=\"#000000\">bl. of lymph. s</text>\n</g>\n<!-- changes in stru&#45;&gt;bl. of lymph. s -->\n<g id=\"edge43\" class=\"edge\">\n<title>changes in stru&#45;&gt;bl. of lymph. s</title>\n<path fill=\"none\" stroke=\"#000000\" d=\"M1522.6442,-608.9735C1522.6442,-597.1918 1522.6442,-581.5607 1522.6442,-568.1581\"/>\n<polygon fill=\"#000000\" stroke=\"#000000\" points=\"1526.1443,-568.0033 1522.6442,-558.0034 1519.1443,-568.0034 1526.1443,-568.0033\"/>\n<text text-anchor=\"middle\" x=\"1526.6442\" y=\"-579.8\" font-family=\"Times,serif\" font-size=\"14.00\" fill=\"#000000\">4</text>\n</g>\n<!-- bl. of lymph. c40 -->\n<g id=\"node54\" class=\"node\">\n<title>bl. of lymph. c40</title>\n<ellipse fill=\"none\" stroke=\"#000000\" cx=\"1708.6442\" cy=\"-540\" rx=\"66.0889\" ry=\"18\"/>\n<text text-anchor=\"middle\" x=\"1708.6442\" y=\"-536.3\" font-family=\"Times,serif\" font-size=\"14.00\" fill=\"#000000\">bl. of lymph. c</text>\n</g>\n<!-- changes in stru&#45;&gt;bl. of lymph. c40 -->\n<g id=\"edge53\" class=\"edge\">\n<title>changes in stru&#45;&gt;bl. of lymph. c40</title>\n<path fill=\"none\" stroke=\"#000000\" d=\"M1556.3274,-611.245C1587.0082,-596.8942 1632.4713,-575.6292 1665.7414,-560.0674\"/>\n<polygon fill=\"#000000\" stroke=\"#000000\" points=\"1667.6364,-563.0451 1675.2116,-555.6378 1664.6705,-556.7044 1667.6364,-563.0451\"/>\n<text text-anchor=\"middle\" x=\"1631.6442\" y=\"-579.8\" font-family=\"Times,serif\" font-size=\"14.00\" fill=\"#000000\">3</text>\n</g>\n<!-- class45 -->\n<g id=\"node59\" class=\"node\">\n<title>class45</title>\n<ellipse fill=\"none\" stroke=\"#000000\" cx=\"1819.6442\" cy=\"-540\" rx=\"27\" ry=\"18\"/>\n<text text-anchor=\"middle\" x=\"1819.6442\" y=\"-536.3\" font-family=\"Times,serif\" font-size=\"14.00\" fill=\"#000000\">2</text>\n</g>\n<!-- changes in stru&#45;&gt;class45 -->\n<g id=\"edge58\" class=\"edge\">\n<title>changes in stru&#45;&gt;class45</title>\n<path fill=\"none\" stroke=\"#000000\" d=\"M1576.1312,-616.2356C1629.6017,-604.6943 1713.7076,-584.4083 1783.6442,-558 1785.5073,-557.2965 1787.4017,-556.5265 1789.2975,-555.7136\"/>\n<polygon fill=\"#000000\" stroke=\"#000000\" points=\"1791.0334,-558.7674 1798.6475,-551.4002 1788.101,-552.4111 1791.0334,-558.7674\"/>\n<text text-anchor=\"middle\" x=\"1732.6442\" y=\"-579.8\" font-family=\"Times,serif\" font-size=\"14.00\" fill=\"#000000\">7</text>\n</g>\n<!-- exclusion of no -->\n<g id=\"node4\" class=\"node\">\n<title>exclusion of no</title>\n<ellipse fill=\"none\" stroke=\"#000000\" cx=\"339.6442\" cy=\"-453\" rx=\"68.7879\" ry=\"18\"/>\n<text text-anchor=\"middle\" x=\"339.6442\" y=\"-449.3\" font-family=\"Times,serif\" font-size=\"14.00\" fill=\"#000000\">exclusion of no</text>\n</g>\n<!-- lymphatics&#45;&gt;exclusion of no -->\n<g id=\"edge3\" class=\"edge\">\n<title>lymphatics&#45;&gt;exclusion of no</title>\n<path fill=\"none\" stroke=\"#000000\" d=\"M570.6736,-527.7195C524.2786,-512.7145 445.4961,-487.2346 393.0182,-470.2622\"/>\n<polygon fill=\"#000000\" stroke=\"#000000\" points=\"393.8071,-466.8389 383.2153,-467.0918 391.653,-473.4993 393.8071,-466.8389\"/>\n<text text-anchor=\"middle\" x=\"494.6442\" y=\"-492.8\" font-family=\"Times,serif\" font-size=\"14.00\" fill=\"#000000\">2</text>\n</g>\n<!-- changes in node8 -->\n<g id=\"node17\" class=\"node\">\n<title>changes in node8</title>\n<ellipse fill=\"none\" stroke=\"#000000\" cx=\"507.6442\" cy=\"-453\" rx=\"71.4873\" ry=\"18\"/>\n<text text-anchor=\"middle\" x=\"507.6442\" y=\"-449.3\" font-family=\"Times,serif\" font-size=\"14.00\" fill=\"#000000\">changes in node</text>\n</g>\n<!-- lymphatics&#45;&gt;changes in node8 -->\n<g id=\"edge16\" class=\"edge\">\n<title>lymphatics&#45;&gt;changes in node8</title>\n<path fill=\"none\" stroke=\"#000000\" d=\"M589.1704,-523.2255C573.9977,-510.156 552.7242,-491.8313 535.7128,-477.1779\"/>\n<polygon fill=\"#000000\" stroke=\"#000000\" points=\"537.6105,-474.1931 527.7495,-470.3185 533.0419,-479.4968 537.6105,-474.1931\"/>\n<text text-anchor=\"middle\" x=\"568.6442\" y=\"-492.8\" font-family=\"Times,serif\" font-size=\"14.00\" fill=\"#000000\">3</text>\n</g>\n<!-- class12 -->\n<g id=\"node21\" class=\"node\">\n<title>class12</title>\n<ellipse fill=\"none\" stroke=\"#000000\" cx=\"623.6442\" cy=\"-453\" rx=\"27\" ry=\"18\"/>\n<text text-anchor=\"middle\" x=\"623.6442\" y=\"-449.3\" font-family=\"Times,serif\" font-size=\"14.00\" fill=\"#000000\">2</text>\n</g>\n<!-- lymphatics&#45;&gt;class12 -->\n<g id=\"edge20\" class=\"edge\">\n<title>lymphatics&#45;&gt;class12</title>\n<path fill=\"none\" stroke=\"#000000\" d=\"M611.7522,-521.9735C613.7835,-510.1918 616.4785,-494.5607 618.7893,-481.1581\"/>\n<polygon fill=\"#000000\" stroke=\"#000000\" points=\"622.2901,-481.4527 620.5401,-471.0034 615.3919,-480.2633 622.2901,-481.4527\"/>\n<text text-anchor=\"middle\" x=\"621.6442\" y=\"-492.8\" font-family=\"Times,serif\" font-size=\"14.00\" fill=\"#000000\">4</text>\n</g>\n<!-- class0 -->\n<g id=\"node5\" class=\"node\">\n<title>class0</title>\n<ellipse fill=\"none\" stroke=\"#000000\" cx=\"232.6442\" cy=\"-366\" rx=\"27\" ry=\"18\"/>\n<text text-anchor=\"middle\" x=\"232.6442\" y=\"-362.3\" font-family=\"Times,serif\" font-size=\"14.00\" fill=\"#000000\">1</text>\n</g>\n<!-- exclusion of no&#45;&gt;class0 -->\n<g id=\"edge4\" class=\"edge\">\n<title>exclusion of no&#45;&gt;class0</title>\n<path fill=\"none\" stroke=\"#000000\" d=\"M318.5044,-435.8116C301.0753,-421.6402 276.3065,-401.5012 257.8477,-386.4926\"/>\n<polygon fill=\"#000000\" stroke=\"#000000\" points=\"259.8267,-383.5907 249.8597,-379.9977 255.4106,-389.022 259.8267,-383.5907\"/>\n<text text-anchor=\"middle\" x=\"296.6442\" y=\"-405.8\" font-family=\"Times,serif\" font-size=\"14.00\" fill=\"#000000\">1</text>\n</g>\n<!-- dislocation of -->\n<g id=\"node6\" class=\"node\">\n<title>dislocation of</title>\n<ellipse fill=\"none\" stroke=\"#000000\" cx=\"339.6442\" cy=\"-366\" rx=\"61.99\" ry=\"18\"/>\n<text text-anchor=\"middle\" x=\"339.6442\" y=\"-362.3\" font-family=\"Times,serif\" font-size=\"14.00\" fill=\"#000000\">dislocation of</text>\n</g>\n<!-- exclusion of no&#45;&gt;dislocation of -->\n<g id=\"edge5\" class=\"edge\">\n<title>exclusion of no&#45;&gt;dislocation of</title>\n<path fill=\"none\" stroke=\"#000000\" d=\"M339.6442,-434.9735C339.6442,-423.1918 339.6442,-407.5607 339.6442,-394.1581\"/>\n<polygon fill=\"#000000\" stroke=\"#000000\" points=\"343.1443,-394.0033 339.6442,-384.0034 336.1443,-394.0034 343.1443,-394.0033\"/>\n<text text-anchor=\"middle\" x=\"343.6442\" y=\"-405.8\" font-family=\"Times,serif\" font-size=\"14.00\" fill=\"#000000\">2</text>\n</g>\n<!-- changes in node -->\n<g id=\"node7\" class=\"node\">\n<title>changes in node</title>\n<ellipse fill=\"none\" stroke=\"#000000\" cx=\"260.6442\" cy=\"-279\" rx=\"71.4873\" ry=\"18\"/>\n<text text-anchor=\"middle\" x=\"260.6442\" y=\"-275.3\" font-family=\"Times,serif\" font-size=\"14.00\" fill=\"#000000\">changes in node</text>\n</g>\n<!-- dislocation of&#45;&gt;changes in node -->\n<g id=\"edge6\" class=\"edge\">\n<title>dislocation of&#45;&gt;changes in node</title>\n<path fill=\"none\" stroke=\"#000000\" d=\"M323.6573,-348.3943C312.0928,-335.6586 296.3005,-318.2671 283.4189,-304.081\"/>\n<polygon fill=\"#000000\" stroke=\"#000000\" points=\"285.9209,-301.63 276.6072,-296.5796 280.7386,-306.3357 285.9209,-301.63\"/>\n<text text-anchor=\"middle\" x=\"309.6442\" y=\"-318.8\" font-family=\"Times,serif\" font-size=\"14.00\" fill=\"#000000\">2</text>\n</g>\n<!-- class7 -->\n<g id=\"node16\" class=\"node\">\n<title>class7</title>\n<ellipse fill=\"none\" stroke=\"#000000\" cx=\"376.6442\" cy=\"-279\" rx=\"27\" ry=\"18\"/>\n<text text-anchor=\"middle\" x=\"376.6442\" y=\"-275.3\" font-family=\"Times,serif\" font-size=\"14.00\" fill=\"#000000\">2</text>\n</g>\n<!-- dislocation of&#45;&gt;class7 -->\n<g id=\"edge15\" class=\"edge\">\n<title>dislocation of&#45;&gt;class7</title>\n<path fill=\"none\" stroke=\"#000000\" d=\"M347.3106,-347.9735C352.4886,-335.7983 359.4148,-319.5122 365.2368,-305.8228\"/>\n<polygon fill=\"#000000\" stroke=\"#000000\" points=\"368.5472,-306.9819 369.2401,-296.4097 362.1055,-304.2423 368.5472,-306.9819\"/>\n<text text-anchor=\"middle\" x=\"364.6442\" y=\"-318.8\" font-family=\"Times,serif\" font-size=\"14.00\" fill=\"#000000\">1</text>\n</g>\n<!-- special forms -->\n<g id=\"node8\" class=\"node\">\n<title>special forms</title>\n<ellipse fill=\"none\" stroke=\"#000000\" cx=\"161.6442\" cy=\"-192\" rx=\"59.5901\" ry=\"18\"/>\n<text text-anchor=\"middle\" x=\"161.6442\" y=\"-188.3\" font-family=\"Times,serif\" font-size=\"14.00\" fill=\"#000000\">special forms</text>\n</g>\n<!-- changes in node&#45;&gt;special forms -->\n<g id=\"edge7\" class=\"edge\">\n<title>changes in node&#45;&gt;special forms</title>\n<path fill=\"none\" stroke=\"#000000\" d=\"M240.61,-261.3943C225.7523,-248.3374 205.3258,-230.3869 188.9704,-216.014\"/>\n<polygon fill=\"#000000\" stroke=\"#000000\" points=\"191.1327,-213.2548 181.3106,-209.2827 186.5119,-218.5129 191.1327,-213.2548\"/>\n<text text-anchor=\"middle\" x=\"221.6442\" y=\"-231.8\" font-family=\"Times,serif\" font-size=\"14.00\" fill=\"#000000\">2</text>\n</g>\n<!-- early uptake in4 -->\n<g id=\"node13\" class=\"node\">\n<title>early uptake in4</title>\n<ellipse fill=\"none\" stroke=\"#000000\" cx=\"304.6442\" cy=\"-192\" rx=\"65.7887\" ry=\"18\"/>\n<text text-anchor=\"middle\" x=\"304.6442\" y=\"-188.3\" font-family=\"Times,serif\" font-size=\"14.00\" fill=\"#000000\">early uptake in</text>\n</g>\n<!-- changes in node&#45;&gt;early uptake in4 -->\n<g id=\"edge12\" class=\"edge\">\n<title>changes in node&#45;&gt;early uptake in4</title>\n<path fill=\"none\" stroke=\"#000000\" d=\"M269.761,-260.9735C275.8966,-248.8418 284.0963,-232.6287 291.0043,-218.9698\"/>\n<polygon fill=\"#000000\" stroke=\"#000000\" points=\"294.1491,-220.5066 295.539,-210.0034 287.9026,-217.3474 294.1491,-220.5066\"/>\n<text text-anchor=\"middle\" x=\"289.6442\" y=\"-231.8\" font-family=\"Times,serif\" font-size=\"14.00\" fill=\"#000000\">3</text>\n</g>\n<!-- early uptake in -->\n<g id=\"node9\" class=\"node\">\n<title>early uptake in</title>\n<ellipse fill=\"none\" stroke=\"#000000\" cx=\"65.6442\" cy=\"-105\" rx=\"65.7887\" ry=\"18\"/>\n<text text-anchor=\"middle\" x=\"65.6442\" y=\"-101.3\" font-family=\"Times,serif\" font-size=\"14.00\" fill=\"#000000\">early uptake in</text>\n</g>\n<!-- special forms&#45;&gt;early uptake in -->\n<g id=\"edge8\" class=\"edge\">\n<title>special forms&#45;&gt;early uptake in</title>\n<path fill=\"none\" stroke=\"#000000\" d=\"M142.6777,-174.8116C128.3082,-161.7893 108.3782,-143.7277 92.3902,-129.2386\"/>\n<polygon fill=\"#000000\" stroke=\"#000000\" points=\"94.6601,-126.5722 84.8999,-122.4505 89.9594,-131.7592 94.6601,-126.5722\"/>\n<text text-anchor=\"middle\" x=\"123.6442\" y=\"-144.8\" font-family=\"Times,serif\" font-size=\"14.00\" fill=\"#000000\">3</text>\n</g>\n<!-- class3 -->\n<g id=\"node12\" class=\"node\">\n<title>class3</title>\n<ellipse fill=\"none\" stroke=\"#000000\" cx=\"176.6442\" cy=\"-105\" rx=\"27\" ry=\"18\"/>\n<text text-anchor=\"middle\" x=\"176.6442\" y=\"-101.3\" font-family=\"Times,serif\" font-size=\"14.00\" fill=\"#000000\">1</text>\n</g>\n<!-- special forms&#45;&gt;class3 -->\n<g id=\"edge11\" class=\"edge\">\n<title>special forms&#45;&gt;class3</title>\n<path fill=\"none\" stroke=\"#000000\" d=\"M164.7522,-173.9735C166.7835,-162.1918 169.4785,-146.5607 171.7893,-133.1581\"/>\n<polygon fill=\"#000000\" stroke=\"#000000\" points=\"175.2901,-133.4527 173.5401,-123.0034 168.3919,-132.2633 175.2901,-133.4527\"/>\n<text text-anchor=\"middle\" x=\"174.6442\" y=\"-144.8\" font-family=\"Times,serif\" font-size=\"14.00\" fill=\"#000000\">2</text>\n</g>\n<!-- class1 -->\n<g id=\"node10\" class=\"node\">\n<title>class1</title>\n<ellipse fill=\"none\" stroke=\"#000000\" cx=\"29.6442\" cy=\"-18\" rx=\"27\" ry=\"18\"/>\n<text text-anchor=\"middle\" x=\"29.6442\" y=\"-14.3\" font-family=\"Times,serif\" font-size=\"14.00\" fill=\"#000000\">3</text>\n</g>\n<!-- early uptake in&#45;&gt;class1 -->\n<g id=\"edge9\" class=\"edge\">\n<title>early uptake in&#45;&gt;class1</title>\n<path fill=\"none\" stroke=\"#000000\" d=\"M58.185,-86.9735C53.1469,-74.7983 46.4079,-58.5122 40.7433,-44.8228\"/>\n<polygon fill=\"#000000\" stroke=\"#000000\" points=\"43.9058,-43.3116 36.8482,-35.4097 37.4377,-45.9881 43.9058,-43.3116\"/>\n<text text-anchor=\"middle\" x=\"54.6442\" y=\"-57.8\" font-family=\"Times,serif\" font-size=\"14.00\" fill=\"#000000\">2</text>\n</g>\n<!-- class2 -->\n<g id=\"node11\" class=\"node\">\n<title>class2</title>\n<ellipse fill=\"none\" stroke=\"#000000\" cx=\"101.6442\" cy=\"-18\" rx=\"27\" ry=\"18\"/>\n<text text-anchor=\"middle\" x=\"101.6442\" y=\"-14.3\" font-family=\"Times,serif\" font-size=\"14.00\" fill=\"#000000\">1</text>\n</g>\n<!-- early uptake in&#45;&gt;class2 -->\n<g id=\"edge10\" class=\"edge\">\n<title>early uptake in&#45;&gt;class2</title>\n<path fill=\"none\" stroke=\"#000000\" d=\"M73.1034,-86.9735C78.1414,-74.7983 84.8805,-58.5122 90.5451,-44.8228\"/>\n<polygon fill=\"#000000\" stroke=\"#000000\" points=\"93.8506,-45.9881 94.4402,-35.4097 87.3825,-43.3116 93.8506,-45.9881\"/>\n<text text-anchor=\"middle\" x=\"90.6442\" y=\"-57.8\" font-family=\"Times,serif\" font-size=\"14.00\" fill=\"#000000\">1</text>\n</g>\n<!-- class5 -->\n<g id=\"node14\" class=\"node\">\n<title>class5</title>\n<ellipse fill=\"none\" stroke=\"#000000\" cx=\"276.6442\" cy=\"-105\" rx=\"27\" ry=\"18\"/>\n<text text-anchor=\"middle\" x=\"276.6442\" y=\"-101.3\" font-family=\"Times,serif\" font-size=\"14.00\" fill=\"#000000\">3</text>\n</g>\n<!-- early uptake in4&#45;&gt;class5 -->\n<g id=\"edge13\" class=\"edge\">\n<title>early uptake in4&#45;&gt;class5</title>\n<path fill=\"none\" stroke=\"#000000\" d=\"M298.8426,-173.9735C294.9877,-161.9958 289.8523,-146.0396 285.4919,-132.4912\"/>\n<polygon fill=\"#000000\" stroke=\"#000000\" points=\"288.738,-131.1525 282.3426,-122.7057 282.0746,-133.2971 288.738,-131.1525\"/>\n<text text-anchor=\"middle\" x=\"296.6442\" y=\"-144.8\" font-family=\"Times,serif\" font-size=\"14.00\" fill=\"#000000\">1</text>\n</g>\n<!-- class6 -->\n<g id=\"node15\" class=\"node\">\n<title>class6</title>\n<ellipse fill=\"none\" stroke=\"#000000\" cx=\"348.6442\" cy=\"-105\" rx=\"27\" ry=\"18\"/>\n<text text-anchor=\"middle\" x=\"348.6442\" y=\"-101.3\" font-family=\"Times,serif\" font-size=\"14.00\" fill=\"#000000\">2</text>\n</g>\n<!-- early uptake in4&#45;&gt;class6 -->\n<g id=\"edge14\" class=\"edge\">\n<title>early uptake in4&#45;&gt;class6</title>\n<path fill=\"none\" stroke=\"#000000\" d=\"M313.761,-173.9735C320.0193,-161.5992 328.4252,-144.9785 335.4172,-131.1534\"/>\n<polygon fill=\"#000000\" stroke=\"#000000\" points=\"338.5982,-132.6187 339.9881,-122.1154 332.3517,-129.4595 338.5982,-132.6187\"/>\n<text text-anchor=\"middle\" x=\"333.6442\" y=\"-144.8\" font-family=\"Times,serif\" font-size=\"14.00\" fill=\"#000000\">2</text>\n</g>\n<!-- class9 -->\n<g id=\"node18\" class=\"node\">\n<title>class9</title>\n<ellipse fill=\"none\" stroke=\"#000000\" cx=\"446.6442\" cy=\"-366\" rx=\"27\" ry=\"18\"/>\n<text text-anchor=\"middle\" x=\"446.6442\" y=\"-362.3\" font-family=\"Times,serif\" font-size=\"14.00\" fill=\"#000000\">1</text>\n</g>\n<!-- changes in node8&#45;&gt;class9 -->\n<g id=\"edge17\" class=\"edge\">\n<title>changes in node8&#45;&gt;class9</title>\n<path fill=\"none\" stroke=\"#000000\" d=\"M495.0049,-434.9735C486.0462,-422.1964 473.9132,-404.8919 464.0414,-390.8124\"/>\n<polygon fill=\"#000000\" stroke=\"#000000\" points=\"466.8423,-388.7105 458.2355,-382.532 461.1108,-392.7292 466.8423,-388.7105\"/>\n<text text-anchor=\"middle\" x=\"485.6442\" y=\"-405.8\" font-family=\"Times,serif\" font-size=\"14.00\" fill=\"#000000\">3</text>\n</g>\n<!-- class10 -->\n<g id=\"node19\" class=\"node\">\n<title>class10</title>\n<ellipse fill=\"none\" stroke=\"#000000\" cx=\"518.6442\" cy=\"-366\" rx=\"27\" ry=\"18\"/>\n<text text-anchor=\"middle\" x=\"518.6442\" y=\"-362.3\" font-family=\"Times,serif\" font-size=\"14.00\" fill=\"#000000\">1</text>\n</g>\n<!-- changes in node8&#45;&gt;class10 -->\n<g id=\"edge18\" class=\"edge\">\n<title>changes in node8&#45;&gt;class10</title>\n<path fill=\"none\" stroke=\"#000000\" d=\"M509.9234,-434.9735C511.413,-423.1918 513.3894,-407.5607 515.084,-394.1581\"/>\n<polygon fill=\"#000000\" stroke=\"#000000\" points=\"518.5858,-394.3634 516.3679,-384.0034 511.6411,-393.4853 518.5858,-394.3634\"/>\n<text text-anchor=\"middle\" x=\"518.6442\" y=\"-405.8\" font-family=\"Times,serif\" font-size=\"14.00\" fill=\"#000000\">2</text>\n</g>\n<!-- class11 -->\n<g id=\"node20\" class=\"node\">\n<title>class11</title>\n<ellipse fill=\"none\" stroke=\"#000000\" cx=\"590.6442\" cy=\"-366\" rx=\"27\" ry=\"18\"/>\n<text text-anchor=\"middle\" x=\"590.6442\" y=\"-362.3\" font-family=\"Times,serif\" font-size=\"14.00\" fill=\"#000000\">3</text>\n</g>\n<!-- changes in node8&#45;&gt;class11 -->\n<g id=\"edge19\" class=\"edge\">\n<title>changes in node8&#45;&gt;class11</title>\n<path fill=\"none\" stroke=\"#000000\" d=\"M524.4405,-435.3943C537.23,-421.9883 554.9413,-403.4235 568.8267,-388.8689\"/>\n<polygon fill=\"#000000\" stroke=\"#000000\" points=\"571.7213,-390.9053 576.0917,-381.2538 566.6565,-386.0733 571.7213,-390.9053\"/>\n<text text-anchor=\"middle\" x=\"558.6442\" y=\"-405.8\" font-family=\"Times,serif\" font-size=\"14.00\" fill=\"#000000\">4</text>\n</g>\n<!-- exclusion of no14 -->\n<g id=\"node23\" class=\"node\">\n<title>exclusion of no14</title>\n<ellipse fill=\"none\" stroke=\"#000000\" cx=\"737.6442\" cy=\"-453\" rx=\"68.7879\" ry=\"18\"/>\n<text text-anchor=\"middle\" x=\"737.6442\" y=\"-449.3\" font-family=\"Times,serif\" font-size=\"14.00\" fill=\"#000000\">exclusion of no</text>\n</g>\n<!-- lymphatics13&#45;&gt;exclusion of no14 -->\n<g id=\"edge22\" class=\"edge\">\n<title>lymphatics13&#45;&gt;exclusion of no14</title>\n<path fill=\"none\" stroke=\"#000000\" d=\"M930.5188,-526.5969C891.8473,-511.8407 829.4244,-488.0214 786.112,-471.4943\"/>\n<polygon fill=\"#000000\" stroke=\"#000000\" points=\"787.222,-468.1718 776.6313,-467.8767 784.7264,-474.7118 787.222,-468.1718\"/>\n<text text-anchor=\"middle\" x=\"869.6442\" y=\"-492.8\" font-family=\"Times,serif\" font-size=\"14.00\" fill=\"#000000\">3</text>\n</g>\n<!-- class19 -->\n<g id=\"node29\" class=\"node\">\n<title>class19</title>\n<ellipse fill=\"none\" stroke=\"#000000\" cx=\"851.6442\" cy=\"-453\" rx=\"27\" ry=\"18\"/>\n<text text-anchor=\"middle\" x=\"851.6442\" y=\"-449.3\" font-family=\"Times,serif\" font-size=\"14.00\" fill=\"#000000\">1</text>\n</g>\n<!-- lymphatics13&#45;&gt;class19 -->\n<g id=\"edge28\" class=\"edge\">\n<title>lymphatics13&#45;&gt;class19</title>\n<path fill=\"none\" stroke=\"#000000\" d=\"M944.2016,-523.636C925.3521,-509.2508 897.8647,-488.2736 877.742,-472.9167\"/>\n<polygon fill=\"#000000\" stroke=\"#000000\" points=\"879.6884,-469.9994 869.6154,-466.7149 875.4416,-475.564 879.6884,-469.9994\"/>\n<text text-anchor=\"middle\" x=\"919.6442\" y=\"-492.8\" font-family=\"Times,serif\" font-size=\"14.00\" fill=\"#000000\">2</text>\n</g>\n<!-- exclusion of no20 -->\n<g id=\"node30\" class=\"node\">\n<title>exclusion of no20</title>\n<ellipse fill=\"none\" stroke=\"#000000\" cx=\"965.6442\" cy=\"-453\" rx=\"68.7879\" ry=\"18\"/>\n<text text-anchor=\"middle\" x=\"965.6442\" y=\"-449.3\" font-family=\"Times,serif\" font-size=\"14.00\" fill=\"#000000\">exclusion of no</text>\n</g>\n<!-- lymphatics13&#45;&gt;exclusion of no20 -->\n<g id=\"edge29\" class=\"edge\">\n<title>lymphatics13&#45;&gt;exclusion of no20</title>\n<path fill=\"none\" stroke=\"#000000\" d=\"M965.6442,-521.9735C965.6442,-510.1918 965.6442,-494.5607 965.6442,-481.1581\"/>\n<polygon fill=\"#000000\" stroke=\"#000000\" points=\"969.1443,-481.0033 965.6442,-471.0034 962.1443,-481.0034 969.1443,-481.0033\"/>\n<text text-anchor=\"middle\" x=\"969.6442\" y=\"-492.8\" font-family=\"Times,serif\" font-size=\"14.00\" fill=\"#000000\">4</text>\n</g>\n<!-- class23 -->\n<g id=\"node33\" class=\"node\">\n<title>class23</title>\n<ellipse fill=\"none\" stroke=\"#000000\" cx=\"1079.6442\" cy=\"-453\" rx=\"27\" ry=\"18\"/>\n<text text-anchor=\"middle\" x=\"1079.6442\" y=\"-449.3\" font-family=\"Times,serif\" font-size=\"14.00\" fill=\"#000000\">2</text>\n</g>\n<!-- lymphatics13&#45;&gt;class23 -->\n<g id=\"edge32\" class=\"edge\">\n<title>lymphatics13&#45;&gt;class23</title>\n<path fill=\"none\" stroke=\"#000000\" d=\"M987.0867,-523.636C1005.9363,-509.2508 1033.4236,-488.2736 1053.5464,-472.9167\"/>\n<polygon fill=\"#000000\" stroke=\"#000000\" points=\"1055.8467,-475.564 1061.6729,-466.7149 1051.6,-469.9994 1055.8467,-475.564\"/>\n<text text-anchor=\"middle\" x=\"1033.6442\" y=\"-492.8\" font-family=\"Times,serif\" font-size=\"14.00\" fill=\"#000000\">1</text>\n</g>\n<!-- class15 -->\n<g id=\"node24\" class=\"node\">\n<title>class15</title>\n<ellipse fill=\"none\" stroke=\"#000000\" cx=\"695.6442\" cy=\"-366\" rx=\"27\" ry=\"18\"/>\n<text text-anchor=\"middle\" x=\"695.6442\" y=\"-362.3\" font-family=\"Times,serif\" font-size=\"14.00\" fill=\"#000000\">1</text>\n</g>\n<!-- exclusion of no14&#45;&gt;class15 -->\n<g id=\"edge23\" class=\"edge\">\n<title>exclusion of no14&#45;&gt;class15</title>\n<path fill=\"none\" stroke=\"#000000\" d=\"M728.9417,-434.9735C723.007,-422.6801 715.0489,-406.1956 708.401,-392.4249\"/>\n<polygon fill=\"#000000\" stroke=\"#000000\" points=\"711.5483,-390.8936 704.0489,-383.4097 705.2445,-393.9369 711.5483,-390.8936\"/>\n<text text-anchor=\"middle\" x=\"723.6442\" y=\"-405.8\" font-family=\"Times,serif\" font-size=\"14.00\" fill=\"#000000\">1</text>\n</g>\n<!-- defect in node -->\n<g id=\"node25\" class=\"node\">\n<title>defect in node</title>\n<ellipse fill=\"none\" stroke=\"#000000\" cx=\"804.6442\" cy=\"-366\" rx=\"63.8893\" ry=\"18\"/>\n<text text-anchor=\"middle\" x=\"804.6442\" y=\"-362.3\" font-family=\"Times,serif\" font-size=\"14.00\" fill=\"#000000\">defect in node</text>\n</g>\n<!-- exclusion of no14&#45;&gt;defect in node -->\n<g id=\"edge24\" class=\"edge\">\n<title>exclusion of no14&#45;&gt;defect in node</title>\n<path fill=\"none\" stroke=\"#000000\" d=\"M751.5266,-434.9735C761.1126,-422.5261 774.0075,-405.782 784.6915,-391.9087\"/>\n<polygon fill=\"#000000\" stroke=\"#000000\" points=\"787.6802,-393.7641 791.0088,-383.7057 782.1342,-389.493 787.6802,-393.7641\"/>\n<text text-anchor=\"middle\" x=\"779.6442\" y=\"-405.8\" font-family=\"Times,serif\" font-size=\"14.00\" fill=\"#000000\">2</text>\n</g>\n<!-- class16 -->\n<g id=\"node26\" class=\"node\">\n<title>class16</title>\n<ellipse fill=\"none\" stroke=\"#000000\" cx=\"732.6442\" cy=\"-279\" rx=\"27\" ry=\"18\"/>\n<text text-anchor=\"middle\" x=\"732.6442\" y=\"-275.3\" font-family=\"Times,serif\" font-size=\"14.00\" fill=\"#000000\">3</text>\n</g>\n<!-- defect in node&#45;&gt;class16 -->\n<g id=\"edge25\" class=\"edge\">\n<title>defect in node&#45;&gt;class16</title>\n<path fill=\"none\" stroke=\"#000000\" d=\"M790.0739,-348.3943C779.2194,-335.2785 764.2784,-317.2247 752.3568,-302.8195\"/>\n<polygon fill=\"#000000\" stroke=\"#000000\" points=\"754.8123,-300.2969 745.7402,-294.8244 749.4196,-304.7599 754.8123,-300.2969\"/>\n<text text-anchor=\"middle\" x=\"777.6442\" y=\"-318.8\" font-family=\"Times,serif\" font-size=\"14.00\" fill=\"#000000\">3</text>\n</g>\n<!-- class17 -->\n<g id=\"node27\" class=\"node\">\n<title>class17</title>\n<ellipse fill=\"none\" stroke=\"#000000\" cx=\"804.6442\" cy=\"-279\" rx=\"27\" ry=\"18\"/>\n<text text-anchor=\"middle\" x=\"804.6442\" y=\"-275.3\" font-family=\"Times,serif\" font-size=\"14.00\" fill=\"#000000\">1</text>\n</g>\n<!-- defect in node&#45;&gt;class17 -->\n<g id=\"edge26\" class=\"edge\">\n<title>defect in node&#45;&gt;class17</title>\n<path fill=\"none\" stroke=\"#000000\" d=\"M804.6442,-347.9735C804.6442,-336.1918 804.6442,-320.5607 804.6442,-307.1581\"/>\n<polygon fill=\"#000000\" stroke=\"#000000\" points=\"808.1443,-307.0033 804.6442,-297.0034 801.1443,-307.0034 808.1443,-307.0033\"/>\n<text text-anchor=\"middle\" x=\"808.6442\" y=\"-318.8\" font-family=\"Times,serif\" font-size=\"14.00\" fill=\"#000000\">2</text>\n</g>\n<!-- class18 -->\n<g id=\"node28\" class=\"node\">\n<title>class18</title>\n<ellipse fill=\"none\" stroke=\"#000000\" cx=\"876.6442\" cy=\"-279\" rx=\"27\" ry=\"18\"/>\n<text text-anchor=\"middle\" x=\"876.6442\" y=\"-275.3\" font-family=\"Times,serif\" font-size=\"14.00\" fill=\"#000000\">3</text>\n</g>\n<!-- defect in node&#45;&gt;class18 -->\n<g id=\"edge27\" class=\"edge\">\n<title>defect in node&#45;&gt;class18</title>\n<path fill=\"none\" stroke=\"#000000\" d=\"M819.2144,-348.3943C830.0689,-335.2785 845.0099,-317.2247 856.9315,-302.8195\"/>\n<polygon fill=\"#000000\" stroke=\"#000000\" points=\"859.8688,-304.7599 863.5481,-294.8244 854.476,-300.2969 859.8688,-304.7599\"/>\n<text text-anchor=\"middle\" x=\"849.6442\" y=\"-318.8\" font-family=\"Times,serif\" font-size=\"14.00\" fill=\"#000000\">4</text>\n</g>\n<!-- class21 -->\n<g id=\"node31\" class=\"node\">\n<title>class21</title>\n<ellipse fill=\"none\" stroke=\"#000000\" cx=\"919.6442\" cy=\"-366\" rx=\"27\" ry=\"18\"/>\n<text text-anchor=\"middle\" x=\"919.6442\" y=\"-362.3\" font-family=\"Times,serif\" font-size=\"14.00\" fill=\"#000000\">1</text>\n</g>\n<!-- exclusion of no20&#45;&gt;class21 -->\n<g id=\"edge30\" class=\"edge\">\n<title>exclusion of no20&#45;&gt;class21</title>\n<path fill=\"none\" stroke=\"#000000\" d=\"M956.1129,-434.9735C949.5702,-422.5992 940.7822,-405.9785 933.4724,-392.1534\"/>\n<polygon fill=\"#000000\" stroke=\"#000000\" points=\"936.4621,-390.3198 928.6937,-383.1154 930.2738,-393.5917 936.4621,-390.3198\"/>\n<text text-anchor=\"middle\" x=\"949.6442\" y=\"-405.8\" font-family=\"Times,serif\" font-size=\"14.00\" fill=\"#000000\">1</text>\n</g>\n<!-- class22 -->\n<g id=\"node32\" class=\"node\">\n<title>class22</title>\n<ellipse fill=\"none\" stroke=\"#000000\" cx=\"991.6442\" cy=\"-366\" rx=\"27\" ry=\"18\"/>\n<text text-anchor=\"middle\" x=\"991.6442\" y=\"-362.3\" font-family=\"Times,serif\" font-size=\"14.00\" fill=\"#000000\">4</text>\n</g>\n<!-- exclusion of no20&#45;&gt;class22 -->\n<g id=\"edge31\" class=\"edge\">\n<title>exclusion of no20&#45;&gt;class22</title>\n<path fill=\"none\" stroke=\"#000000\" d=\"M971.0314,-434.9735C974.6109,-422.9958 979.3795,-407.0396 983.4284,-393.4912\"/>\n<polygon fill=\"#000000\" stroke=\"#000000\" points=\"986.8428,-394.2892 986.3528,-383.7057 980.1359,-392.2848 986.8428,-394.2892\"/>\n<text text-anchor=\"middle\" x=\"984.6442\" y=\"-405.8\" font-family=\"Times,serif\" font-size=\"14.00\" fill=\"#000000\">2</text>\n</g>\n<!-- by pass -->\n<g id=\"node35\" class=\"node\">\n<title>by pass</title>\n<ellipse fill=\"none\" stroke=\"#000000\" cx=\"1162.6442\" cy=\"-453\" rx=\"38.1938\" ry=\"18\"/>\n<text text-anchor=\"middle\" x=\"1162.6442\" y=\"-449.3\" font-family=\"Times,serif\" font-size=\"14.00\" fill=\"#000000\">by pass</text>\n</g>\n<!-- defect in node24&#45;&gt;by pass -->\n<g id=\"edge34\" class=\"edge\">\n<title>defect in node24&#45;&gt;by pass</title>\n<path fill=\"none\" stroke=\"#000000\" d=\"M1331.9359,-524.8458C1295.29,-509.2936 1238.4694,-485.1795 1200.9154,-469.2419\"/>\n<polygon fill=\"#000000\" stroke=\"#000000\" points=\"1201.9101,-465.862 1191.3374,-465.1771 1199.1754,-472.3057 1201.9101,-465.862\"/>\n<text text-anchor=\"middle\" x=\"1281.6442\" y=\"-492.8\" font-family=\"Times,serif\" font-size=\"14.00\" fill=\"#000000\">4</text>\n</g>\n<!-- bl. of lymph. c -->\n<g id=\"node38\" class=\"node\">\n<title>bl. of lymph. c</title>\n<ellipse fill=\"none\" stroke=\"#000000\" cx=\"1285.6442\" cy=\"-453\" rx=\"66.0889\" ry=\"18\"/>\n<text text-anchor=\"middle\" x=\"1285.6442\" y=\"-449.3\" font-family=\"Times,serif\" font-size=\"14.00\" fill=\"#000000\">bl. of lymph. c</text>\n</g>\n<!-- defect in node24&#45;&gt;bl. of lymph. c -->\n<g id=\"edge37\" class=\"edge\">\n<title>defect in node24&#45;&gt;bl. of lymph. c</title>\n<path fill=\"none\" stroke=\"#000000\" d=\"M1351.0503,-522.3943C1339.0465,-509.6586 1322.6545,-492.2671 1309.2837,-478.081\"/>\n<polygon fill=\"#000000\" stroke=\"#000000\" points=\"1311.6193,-475.4561 1302.2134,-470.5796 1306.5253,-480.2573 1311.6193,-475.4561\"/>\n<text text-anchor=\"middle\" x=\"1335.6442\" y=\"-492.8\" font-family=\"Times,serif\" font-size=\"14.00\" fill=\"#000000\">3</text>\n</g>\n<!-- class30 -->\n<g id=\"node43\" class=\"node\">\n<title>class30</title>\n<ellipse fill=\"none\" stroke=\"#000000\" cx=\"1396.6442\" cy=\"-453\" rx=\"27\" ry=\"18\"/>\n<text text-anchor=\"middle\" x=\"1396.6442\" y=\"-449.3\" font-family=\"Times,serif\" font-size=\"14.00\" fill=\"#000000\">2</text>\n</g>\n<!-- defect in node24&#45;&gt;class30 -->\n<g id=\"edge42\" class=\"edge\">\n<title>defect in node24&#45;&gt;class30</title>\n<path fill=\"none\" stroke=\"#000000\" d=\"M1373.653,-521.9735C1377.6456,-509.9958 1382.9643,-494.0396 1387.4805,-480.4912\"/>\n<polygon fill=\"#000000\" stroke=\"#000000\" points=\"1390.9003,-481.2994 1390.7423,-470.7057 1384.2595,-479.0857 1390.9003,-481.2994\"/>\n<text text-anchor=\"middle\" x=\"1388.6442\" y=\"-492.8\" font-family=\"Times,serif\" font-size=\"14.00\" fill=\"#000000\">2</text>\n</g>\n<!-- class25 -->\n<g id=\"node36\" class=\"node\">\n<title>class25</title>\n<ellipse fill=\"none\" stroke=\"#000000\" cx=\"1090.6442\" cy=\"-366\" rx=\"27\" ry=\"18\"/>\n<text text-anchor=\"middle\" x=\"1090.6442\" y=\"-362.3\" font-family=\"Times,serif\" font-size=\"14.00\" fill=\"#000000\">4</text>\n</g>\n<!-- by pass&#45;&gt;class25 -->\n<g id=\"edge35\" class=\"edge\">\n<title>by pass&#45;&gt;class25</title>\n<path fill=\"none\" stroke=\"#000000\" d=\"M1148.4193,-435.8116C1137.5935,-422.7305 1122.5596,-404.5645 1110.5415,-390.0425\"/>\n<polygon fill=\"#000000\" stroke=\"#000000\" points=\"1112.9405,-387.4518 1103.8684,-381.9793 1107.5477,-391.9148 1112.9405,-387.4518\"/>\n<text text-anchor=\"middle\" x=\"1135.6442\" y=\"-405.8\" font-family=\"Times,serif\" font-size=\"14.00\" fill=\"#000000\">2</text>\n</g>\n<!-- class26 -->\n<g id=\"node37\" class=\"node\">\n<title>class26</title>\n<ellipse fill=\"none\" stroke=\"#000000\" cx=\"1162.6442\" cy=\"-366\" rx=\"27\" ry=\"18\"/>\n<text text-anchor=\"middle\" x=\"1162.6442\" y=\"-362.3\" font-family=\"Times,serif\" font-size=\"14.00\" fill=\"#000000\">1</text>\n</g>\n<!-- by pass&#45;&gt;class26 -->\n<g id=\"edge36\" class=\"edge\">\n<title>by pass&#45;&gt;class26</title>\n<path fill=\"none\" stroke=\"#000000\" d=\"M1162.6442,-434.9735C1162.6442,-423.1918 1162.6442,-407.5607 1162.6442,-394.1581\"/>\n<polygon fill=\"#000000\" stroke=\"#000000\" points=\"1166.1443,-394.0033 1162.6442,-384.0034 1159.1443,-394.0034 1166.1443,-394.0033\"/>\n<text text-anchor=\"middle\" x=\"1166.6442\" y=\"-405.8\" font-family=\"Times,serif\" font-size=\"14.00\" fill=\"#000000\">1</text>\n</g>\n<!-- class -->\n<g id=\"node39\" class=\"node\">\n<title>class</title>\n<ellipse fill=\"none\" stroke=\"#000000\" cx=\"1235.6442\" cy=\"-366\" rx=\"27.8951\" ry=\"18\"/>\n<text text-anchor=\"middle\" x=\"1235.6442\" y=\"-362.3\" font-family=\"Times,serif\" font-size=\"14.00\" fill=\"#000000\">class</text>\n</g>\n<!-- bl. of lymph. c&#45;&gt;class -->\n<g id=\"edge38\" class=\"edge\">\n<title>bl. of lymph. c&#45;&gt;class</title>\n<path fill=\"none\" stroke=\"#000000\" d=\"M1275.2841,-434.9735C1268.1724,-422.5992 1258.6203,-405.9785 1250.6749,-392.1534\"/>\n<polygon fill=\"#000000\" stroke=\"#000000\" points=\"1253.498,-390.0415 1245.4806,-383.1154 1247.4289,-393.5296 1253.498,-390.0415\"/>\n<text text-anchor=\"middle\" x=\"1267.6442\" y=\"-405.8\" font-family=\"Times,serif\" font-size=\"14.00\" fill=\"#000000\">1</text>\n</g>\n<!-- class29 -->\n<g id=\"node42\" class=\"node\">\n<title>class29</title>\n<ellipse fill=\"none\" stroke=\"#000000\" cx=\"1308.6442\" cy=\"-366\" rx=\"27\" ry=\"18\"/>\n<text text-anchor=\"middle\" x=\"1308.6442\" y=\"-362.3\" font-family=\"Times,serif\" font-size=\"14.00\" fill=\"#000000\">2</text>\n</g>\n<!-- bl. of lymph. c&#45;&gt;class29 -->\n<g id=\"edge41\" class=\"edge\">\n<title>bl. of lymph. c&#45;&gt;class29</title>\n<path fill=\"none\" stroke=\"#000000\" d=\"M1290.4098,-434.9735C1293.5553,-423.0751 1297.7388,-407.2508 1301.3052,-393.7606\"/>\n<polygon fill=\"#000000\" stroke=\"#000000\" points=\"1304.7125,-394.5658 1303.8847,-384.0034 1297.945,-392.7766 1304.7125,-394.5658\"/>\n<text text-anchor=\"middle\" x=\"1302.6442\" y=\"-405.8\" font-family=\"Times,serif\" font-size=\"14.00\" fill=\"#000000\">2</text>\n</g>\n<!-- class27 -->\n<g id=\"node40\" class=\"node\">\n<title>class27</title>\n<ellipse fill=\"none\" stroke=\"#000000\" cx=\"1199.6442\" cy=\"-279\" rx=\"27\" ry=\"18\"/>\n<text text-anchor=\"middle\" x=\"1199.6442\" y=\"-275.3\" font-family=\"Times,serif\" font-size=\"14.00\" fill=\"#000000\">1</text>\n</g>\n<!-- class&#45;&gt;class27 -->\n<g id=\"edge39\" class=\"edge\">\n<title>class&#45;&gt;class27</title>\n<path fill=\"none\" stroke=\"#000000\" d=\"M1228.359,-348.3943C1223.3331,-336.2482 1216.5548,-319.8674 1210.846,-306.0711\"/>\n<polygon fill=\"#000000\" stroke=\"#000000\" points=\"1213.9761,-304.4815 1206.9185,-296.5796 1207.508,-307.158 1213.9761,-304.4815\"/>\n<text text-anchor=\"middle\" x=\"1224.6442\" y=\"-318.8\" font-family=\"Times,serif\" font-size=\"14.00\" fill=\"#000000\">2</text>\n</g>\n<!-- class28 -->\n<g id=\"node41\" class=\"node\">\n<title>class28</title>\n<ellipse fill=\"none\" stroke=\"#000000\" cx=\"1271.6442\" cy=\"-279\" rx=\"27\" ry=\"18\"/>\n<text text-anchor=\"middle\" x=\"1271.6442\" y=\"-275.3\" font-family=\"Times,serif\" font-size=\"14.00\" fill=\"#000000\">2</text>\n</g>\n<!-- class&#45;&gt;class28 -->\n<g id=\"edge40\" class=\"edge\">\n<title>class&#45;&gt;class28</title>\n<path fill=\"none\" stroke=\"#000000\" d=\"M1242.9293,-348.3943C1247.9553,-336.2482 1254.7335,-319.8674 1260.4423,-306.0711\"/>\n<polygon fill=\"#000000\" stroke=\"#000000\" points=\"1263.7804,-307.158 1264.3699,-296.5796 1257.3122,-304.4815 1263.7804,-307.158\"/>\n<text text-anchor=\"middle\" x=\"1260.6442\" y=\"-318.8\" font-family=\"Times,serif\" font-size=\"14.00\" fill=\"#000000\">3</text>\n</g>\n<!-- defect in node31 -->\n<g id=\"node45\" class=\"node\">\n<title>defect in node31</title>\n<ellipse fill=\"none\" stroke=\"#000000\" cx=\"1505.6442\" cy=\"-453\" rx=\"63.8893\" ry=\"18\"/>\n<text text-anchor=\"middle\" x=\"1505.6442\" y=\"-449.3\" font-family=\"Times,serif\" font-size=\"14.00\" fill=\"#000000\">defect in node</text>\n</g>\n<!-- bl. of lymph. s&#45;&gt;defect in node31 -->\n<g id=\"edge44\" class=\"edge\">\n<title>bl. of lymph. s&#45;&gt;defect in node31</title>\n<path fill=\"none\" stroke=\"#000000\" d=\"M1519.1218,-521.9735C1516.8196,-510.1918 1513.7652,-494.5607 1511.1463,-481.1581\"/>\n<polygon fill=\"#000000\" stroke=\"#000000\" points=\"1514.5149,-480.1465 1509.1621,-471.0034 1507.6449,-481.489 1514.5149,-480.1465\"/>\n<text text-anchor=\"middle\" x=\"1519.6442\" y=\"-492.8\" font-family=\"Times,serif\" font-size=\"14.00\" fill=\"#000000\">1</text>\n</g>\n<!-- class39 -->\n<g id=\"node53\" class=\"node\">\n<title>class39</title>\n<ellipse fill=\"none\" stroke=\"#000000\" cx=\"1614.6442\" cy=\"-453\" rx=\"27\" ry=\"18\"/>\n<text text-anchor=\"middle\" x=\"1614.6442\" y=\"-449.3\" font-family=\"Times,serif\" font-size=\"14.00\" fill=\"#000000\">7</text>\n</g>\n<!-- bl. of lymph. s&#45;&gt;class39 -->\n<g id=\"edge52\" class=\"edge\">\n<title>bl. of lymph. s&#45;&gt;class39</title>\n<path fill=\"none\" stroke=\"#000000\" d=\"M1541.2617,-522.3943C1555.6588,-508.7796 1575.6825,-489.8442 1591.1766,-475.1921\"/>\n<polygon fill=\"#000000\" stroke=\"#000000\" points=\"1593.9515,-477.3852 1598.8125,-467.9713 1589.1419,-472.2992 1593.9515,-477.3852\"/>\n<text text-anchor=\"middle\" x=\"1578.6442\" y=\"-492.8\" font-family=\"Times,serif\" font-size=\"14.00\" fill=\"#000000\">2</text>\n</g>\n<!-- class32 -->\n<g id=\"node46\" class=\"node\">\n<title>class32</title>\n<ellipse fill=\"none\" stroke=\"#000000\" cx=\"1380.6442\" cy=\"-366\" rx=\"27\" ry=\"18\"/>\n<text text-anchor=\"middle\" x=\"1380.6442\" y=\"-362.3\" font-family=\"Times,serif\" font-size=\"14.00\" fill=\"#000000\">2</text>\n</g>\n<!-- defect in node31&#45;&gt;class32 -->\n<g id=\"edge45\" class=\"edge\">\n<title>defect in node31&#45;&gt;class32</title>\n<path fill=\"none\" stroke=\"#000000\" d=\"M1481.5429,-436.2255C1460.3738,-421.4918 1429.609,-400.0795 1407.6232,-384.7774\"/>\n<polygon fill=\"#000000\" stroke=\"#000000\" points=\"1409.582,-381.8764 1399.3748,-379.0365 1405.5832,-387.6219 1409.582,-381.8764\"/>\n<text text-anchor=\"middle\" x=\"1454.6442\" y=\"-405.8\" font-family=\"Times,serif\" font-size=\"14.00\" fill=\"#000000\">2</text>\n</g>\n<!-- special forms33 -->\n<g id=\"node47\" class=\"node\">\n<title>special forms33</title>\n<ellipse fill=\"none\" stroke=\"#000000\" cx=\"1485.6442\" cy=\"-366\" rx=\"59.5901\" ry=\"18\"/>\n<text text-anchor=\"middle\" x=\"1485.6442\" y=\"-362.3\" font-family=\"Times,serif\" font-size=\"14.00\" fill=\"#000000\">special forms</text>\n</g>\n<!-- defect in node31&#45;&gt;special forms33 -->\n<g id=\"edge46\" class=\"edge\">\n<title>defect in node31&#45;&gt;special forms33</title>\n<path fill=\"none\" stroke=\"#000000\" d=\"M1501.5002,-434.9735C1498.7649,-423.0751 1495.1271,-407.2508 1492.0259,-393.7606\"/>\n<polygon fill=\"#000000\" stroke=\"#000000\" points=\"1495.4344,-392.965 1489.7829,-384.0034 1488.6123,-394.5333 1495.4344,-392.965\"/>\n<text text-anchor=\"middle\" x=\"1501.6442\" y=\"-405.8\" font-family=\"Times,serif\" font-size=\"14.00\" fill=\"#000000\">3</text>\n</g>\n<!-- exclusion of no36 -->\n<g id=\"node50\" class=\"node\">\n<title>exclusion of no36</title>\n<ellipse fill=\"none\" stroke=\"#000000\" cx=\"1632.6442\" cy=\"-366\" rx=\"68.7879\" ry=\"18\"/>\n<text text-anchor=\"middle\" x=\"1632.6442\" y=\"-362.3\" font-family=\"Times,serif\" font-size=\"14.00\" fill=\"#000000\">exclusion of no</text>\n</g>\n<!-- defect in node31&#45;&gt;exclusion of no36 -->\n<g id=\"edge49\" class=\"edge\">\n<title>defect in node31&#45;&gt;exclusion of no36</title>\n<path fill=\"none\" stroke=\"#000000\" d=\"M1530.1311,-436.2255C1549.8572,-422.7123 1577.7842,-403.5813 1599.5091,-388.6988\"/>\n<polygon fill=\"#000000\" stroke=\"#000000\" points=\"1601.5273,-391.5588 1607.7991,-383.0198 1597.5712,-385.7839 1601.5273,-391.5588\"/>\n<text text-anchor=\"middle\" x=\"1581.6442\" y=\"-405.8\" font-family=\"Times,serif\" font-size=\"14.00\" fill=\"#000000\">4</text>\n</g>\n<!-- class34 -->\n<g id=\"node48\" class=\"node\">\n<title>class34</title>\n<ellipse fill=\"none\" stroke=\"#000000\" cx=\"1449.6442\" cy=\"-279\" rx=\"27\" ry=\"18\"/>\n<text text-anchor=\"middle\" x=\"1449.6442\" y=\"-275.3\" font-family=\"Times,serif\" font-size=\"14.00\" fill=\"#000000\">1</text>\n</g>\n<!-- special forms33&#45;&gt;class34 -->\n<g id=\"edge47\" class=\"edge\">\n<title>special forms33&#45;&gt;class34</title>\n<path fill=\"none\" stroke=\"#000000\" d=\"M1478.185,-347.9735C1473.1469,-335.7983 1466.4079,-319.5122 1460.7433,-305.8228\"/>\n<polygon fill=\"#000000\" stroke=\"#000000\" points=\"1463.9058,-304.3116 1456.8482,-296.4097 1457.4377,-306.9881 1463.9058,-304.3116\"/>\n<text text-anchor=\"middle\" x=\"1474.6442\" y=\"-318.8\" font-family=\"Times,serif\" font-size=\"14.00\" fill=\"#000000\">2</text>\n</g>\n<!-- class35 -->\n<g id=\"node49\" class=\"node\">\n<title>class35</title>\n<ellipse fill=\"none\" stroke=\"#000000\" cx=\"1521.6442\" cy=\"-279\" rx=\"27\" ry=\"18\"/>\n<text text-anchor=\"middle\" x=\"1521.6442\" y=\"-275.3\" font-family=\"Times,serif\" font-size=\"14.00\" fill=\"#000000\">2</text>\n</g>\n<!-- special forms33&#45;&gt;class35 -->\n<g id=\"edge48\" class=\"edge\">\n<title>special forms33&#45;&gt;class35</title>\n<path fill=\"none\" stroke=\"#000000\" d=\"M1493.1034,-347.9735C1498.1414,-335.7983 1504.8805,-319.5122 1510.5451,-305.8228\"/>\n<polygon fill=\"#000000\" stroke=\"#000000\" points=\"1513.8506,-306.9881 1514.4402,-296.4097 1507.3825,-304.3116 1513.8506,-306.9881\"/>\n<text text-anchor=\"middle\" x=\"1510.6442\" y=\"-318.8\" font-family=\"Times,serif\" font-size=\"14.00\" fill=\"#000000\">3</text>\n</g>\n<!-- class37 -->\n<g id=\"node51\" class=\"node\">\n<title>class37</title>\n<ellipse fill=\"none\" stroke=\"#000000\" cx=\"1631.6442\" cy=\"-279\" rx=\"27\" ry=\"18\"/>\n<text text-anchor=\"middle\" x=\"1631.6442\" y=\"-275.3\" font-family=\"Times,serif\" font-size=\"14.00\" fill=\"#000000\">1</text>\n</g>\n<!-- exclusion of no36&#45;&gt;class37 -->\n<g id=\"edge50\" class=\"edge\">\n<title>exclusion of no36&#45;&gt;class37</title>\n<path fill=\"none\" stroke=\"#000000\" d=\"M1632.437,-347.9735C1632.3016,-336.1918 1632.1219,-320.5607 1631.9678,-307.1581\"/>\n<polygon fill=\"#000000\" stroke=\"#000000\" points=\"1635.4659,-306.9624 1631.8511,-297.0034 1628.4664,-307.043 1635.4659,-306.9624\"/>\n<text text-anchor=\"middle\" x=\"1636.6442\" y=\"-318.8\" font-family=\"Times,serif\" font-size=\"14.00\" fill=\"#000000\">1</text>\n</g>\n<!-- class38 -->\n<g id=\"node52\" class=\"node\">\n<title>class38</title>\n<ellipse fill=\"none\" stroke=\"#000000\" cx=\"1703.6442\" cy=\"-279\" rx=\"27\" ry=\"18\"/>\n<text text-anchor=\"middle\" x=\"1703.6442\" y=\"-275.3\" font-family=\"Times,serif\" font-size=\"14.00\" fill=\"#000000\">2</text>\n</g>\n<!-- exclusion of no36&#45;&gt;class38 -->\n<g id=\"edge51\" class=\"edge\">\n<title>exclusion of no36&#45;&gt;class38</title>\n<path fill=\"none\" stroke=\"#000000\" d=\"M1647.0121,-348.3943C1657.7158,-335.2785 1672.4493,-317.2247 1684.2053,-302.8195\"/>\n<polygon fill=\"#000000\" stroke=\"#000000\" points=\"1687.1189,-304.7849 1690.73,-294.8244 1681.6957,-300.359 1687.1189,-304.7849\"/>\n<text text-anchor=\"middle\" x=\"1676.6442\" y=\"-318.8\" font-family=\"Times,serif\" font-size=\"14.00\" fill=\"#000000\">2</text>\n</g>\n<!-- exclusion of no41 -->\n<g id=\"node55\" class=\"node\">\n<title>exclusion of no41</title>\n<ellipse fill=\"none\" stroke=\"#000000\" cx=\"1728.6442\" cy=\"-453\" rx=\"68.7879\" ry=\"18\"/>\n<text text-anchor=\"middle\" x=\"1728.6442\" y=\"-449.3\" font-family=\"Times,serif\" font-size=\"14.00\" fill=\"#000000\">exclusion of no</text>\n</g>\n<!-- bl. of lymph. c40&#45;&gt;exclusion of no41 -->\n<g id=\"edge54\" class=\"edge\">\n<title>bl. of lymph. c40&#45;&gt;exclusion of no41</title>\n<path fill=\"none\" stroke=\"#000000\" d=\"M1712.7882,-521.9735C1715.5235,-510.0751 1719.1612,-494.2508 1722.2624,-480.7606\"/>\n<polygon fill=\"#000000\" stroke=\"#000000\" points=\"1725.676,-481.5333 1724.5055,-471.0034 1718.854,-479.965 1725.676,-481.5333\"/>\n<text text-anchor=\"middle\" x=\"1724.6442\" y=\"-492.8\" font-family=\"Times,serif\" font-size=\"14.00\" fill=\"#000000\">2</text>\n</g>\n<!-- class44 -->\n<g id=\"node58\" class=\"node\">\n<title>class44</title>\n<ellipse fill=\"none\" stroke=\"#000000\" cx=\"1842.6442\" cy=\"-453\" rx=\"27\" ry=\"18\"/>\n<text text-anchor=\"middle\" x=\"1842.6442\" y=\"-449.3\" font-family=\"Times,serif\" font-size=\"14.00\" fill=\"#000000\">1</text>\n</g>\n<!-- bl. of lymph. c40&#45;&gt;class44 -->\n<g id=\"edge57\" class=\"edge\">\n<title>bl. of lymph. c40&#45;&gt;class44</title>\n<path fill=\"none\" stroke=\"#000000\" d=\"M1734.4807,-523.2255C1757.4093,-508.339 1790.8389,-486.6348 1814.4527,-471.3034\"/>\n<polygon fill=\"#000000\" stroke=\"#000000\" points=\"1816.4986,-474.1481 1822.98,-465.7671 1812.6867,-468.277 1816.4986,-474.1481\"/>\n<text text-anchor=\"middle\" x=\"1788.6442\" y=\"-492.8\" font-family=\"Times,serif\" font-size=\"14.00\" fill=\"#000000\">1</text>\n</g>\n<!-- class42 -->\n<g id=\"node56\" class=\"node\">\n<title>class42</title>\n<ellipse fill=\"none\" stroke=\"#000000\" cx=\"1746.6442\" cy=\"-366\" rx=\"27\" ry=\"18\"/>\n<text text-anchor=\"middle\" x=\"1746.6442\" y=\"-362.3\" font-family=\"Times,serif\" font-size=\"14.00\" fill=\"#000000\">1</text>\n</g>\n<!-- exclusion of no41&#45;&gt;class42 -->\n<g id=\"edge55\" class=\"edge\">\n<title>exclusion of no41&#45;&gt;class42</title>\n<path fill=\"none\" stroke=\"#000000\" d=\"M1732.3738,-434.9735C1734.8114,-423.1918 1738.0454,-407.5607 1740.8184,-394.1581\"/>\n<polygon fill=\"#000000\" stroke=\"#000000\" points=\"1744.3206,-394.5051 1742.9193,-384.0034 1737.4658,-393.0868 1744.3206,-394.5051\"/>\n<text text-anchor=\"middle\" x=\"1743.6442\" y=\"-405.8\" font-family=\"Times,serif\" font-size=\"14.00\" fill=\"#000000\">1</text>\n</g>\n<!-- class43 -->\n<g id=\"node57\" class=\"node\">\n<title>class43</title>\n<ellipse fill=\"none\" stroke=\"#000000\" cx=\"1818.6442\" cy=\"-366\" rx=\"27\" ry=\"18\"/>\n<text text-anchor=\"middle\" x=\"1818.6442\" y=\"-362.3\" font-family=\"Times,serif\" font-size=\"14.00\" fill=\"#000000\">2</text>\n</g>\n<!-- exclusion of no41&#45;&gt;class43 -->\n<g id=\"edge56\" class=\"edge\">\n<title>exclusion of no41&#45;&gt;class43</title>\n<path fill=\"none\" stroke=\"#000000\" d=\"M1746.857,-435.3943C1760.9411,-421.7796 1780.5294,-402.8442 1795.6868,-388.1921\"/>\n<polygon fill=\"#000000\" stroke=\"#000000\" points=\"1798.3993,-390.438 1803.1566,-380.9713 1793.5341,-385.4051 1798.3993,-390.438\"/>\n<text text-anchor=\"middle\" x=\"1783.6442\" y=\"-405.8\" font-family=\"Times,serif\" font-size=\"14.00\" fill=\"#000000\">2</text>\n</g>\n<!-- lymphatics47 -->\n<g id=\"node61\" class=\"node\">\n<title>lymphatics47</title>\n<ellipse fill=\"none\" stroke=\"#000000\" cx=\"2017.6442\" cy=\"-540\" rx=\"51.1914\" ry=\"18\"/>\n<text text-anchor=\"middle\" x=\"2017.6442\" y=\"-536.3\" font-family=\"Times,serif\" font-size=\"14.00\" fill=\"#000000\">lymphatics</text>\n</g>\n<!-- changes in stru46&#45;&gt;lymphatics47 -->\n<g id=\"edge60\" class=\"edge\">\n<title>changes in stru46&#45;&gt;lymphatics47</title>\n<path fill=\"none\" stroke=\"#000000\" d=\"M2406.7666,-616.4191C2321.9017,-599.7526 2157.9791,-567.5601 2072.507,-550.7744\"/>\n<polygon fill=\"#000000\" stroke=\"#000000\" points=\"2072.9701,-547.2986 2062.483,-548.8058 2071.6211,-554.1674 2072.9701,-547.2986\"/>\n<text text-anchor=\"middle\" x=\"2270.6442\" y=\"-579.8\" font-family=\"Times,serif\" font-size=\"14.00\" fill=\"#000000\">5</text>\n</g>\n<!-- defect in node51 -->\n<g id=\"node65\" class=\"node\">\n<title>defect in node51</title>\n<ellipse fill=\"none\" stroke=\"#000000\" cx=\"2215.6442\" cy=\"-540\" rx=\"63.8893\" ry=\"18\"/>\n<text text-anchor=\"middle\" x=\"2215.6442\" y=\"-536.3\" font-family=\"Times,serif\" font-size=\"14.00\" fill=\"#000000\">defect in node</text>\n</g>\n<!-- changes in stru46&#45;&gt;defect in node51 -->\n<g id=\"edge64\" class=\"edge\">\n<title>changes in stru46&#45;&gt;defect in node51</title>\n<path fill=\"none\" stroke=\"#000000\" d=\"M2420.1874,-612.6337C2377.6427,-597.526 2310.6632,-573.7414 2265.0303,-557.5371\"/>\n<polygon fill=\"#000000\" stroke=\"#000000\" points=\"2265.9429,-554.1471 2255.3481,-554.099 2263.6004,-560.7435 2265.9429,-554.1471\"/>\n<text text-anchor=\"middle\" x=\"2357.6442\" y=\"-579.8\" font-family=\"Times,serif\" font-size=\"14.00\" fill=\"#000000\">4</text>\n</g>\n<!-- changes in node55 -->\n<g id=\"node69\" class=\"node\">\n<title>changes in node55</title>\n<ellipse fill=\"none\" stroke=\"#000000\" cx=\"2381.6442\" cy=\"-540\" rx=\"71.4873\" ry=\"18\"/>\n<text text-anchor=\"middle\" x=\"2381.6442\" y=\"-536.3\" font-family=\"Times,serif\" font-size=\"14.00\" fill=\"#000000\">changes in node</text>\n</g>\n<!-- changes in stru46&#45;&gt;changes in node55 -->\n<g id=\"edge68\" class=\"edge\">\n<title>changes in stru46&#45;&gt;changes in node55</title>\n<path fill=\"none\" stroke=\"#000000\" d=\"M2444.6573,-609.3943C2433.0928,-596.6586 2417.3005,-579.2671 2404.4189,-565.081\"/>\n<polygon fill=\"#000000\" stroke=\"#000000\" points=\"2406.9209,-562.63 2397.6072,-557.5796 2401.7386,-567.3357 2406.9209,-562.63\"/>\n<text text-anchor=\"middle\" x=\"2430.6442\" y=\"-579.8\" font-family=\"Times,serif\" font-size=\"14.00\" fill=\"#000000\">8</text>\n</g>\n<!-- class60 -->\n<g id=\"node74\" class=\"node\">\n<title>class60</title>\n<ellipse fill=\"none\" stroke=\"#000000\" cx=\"2497.6442\" cy=\"-540\" rx=\"27\" ry=\"18\"/>\n<text text-anchor=\"middle\" x=\"2497.6442\" y=\"-536.3\" font-family=\"Times,serif\" font-size=\"14.00\" fill=\"#000000\">5</text>\n</g>\n<!-- changes in stru46&#45;&gt;class60 -->\n<g id=\"edge73\" class=\"edge\">\n<title>changes in stru46&#45;&gt;class60</title>\n<path fill=\"none\" stroke=\"#000000\" d=\"M2468.3106,-608.9735C2473.4886,-596.7983 2480.4148,-580.5122 2486.2368,-566.8228\"/>\n<polygon fill=\"#000000\" stroke=\"#000000\" points=\"2489.5472,-567.9819 2490.2401,-557.4097 2483.1055,-565.2423 2489.5472,-567.9819\"/>\n<text text-anchor=\"middle\" x=\"2485.6442\" y=\"-579.8\" font-family=\"Times,serif\" font-size=\"14.00\" fill=\"#000000\">7</text>\n</g>\n<!-- class61 -->\n<g id=\"node75\" class=\"node\">\n<title>class61</title>\n<ellipse fill=\"none\" stroke=\"#000000\" cx=\"2569.6442\" cy=\"-540\" rx=\"27\" ry=\"18\"/>\n<text text-anchor=\"middle\" x=\"2569.6442\" y=\"-536.3\" font-family=\"Times,serif\" font-size=\"14.00\" fill=\"#000000\">5</text>\n</g>\n<!-- changes in stru46&#45;&gt;class61 -->\n<g id=\"edge74\" class=\"edge\">\n<title>changes in stru46&#45;&gt;class61</title>\n<path fill=\"none\" stroke=\"#000000\" d=\"M2482.1791,-609.8116C2500.014,-595.5764 2525.3932,-575.3196 2544.2232,-560.2901\"/>\n<polygon fill=\"#000000\" stroke=\"#000000\" points=\"2546.4745,-562.9714 2552.1069,-553.9977 2542.1078,-557.5004 2546.4745,-562.9714\"/>\n<text text-anchor=\"middle\" x=\"2526.6442\" y=\"-579.8\" font-family=\"Times,serif\" font-size=\"14.00\" fill=\"#000000\">3</text>\n</g>\n<!-- class48 -->\n<g id=\"node62\" class=\"node\">\n<title>class48</title>\n<ellipse fill=\"none\" stroke=\"#000000\" cx=\"1914.6442\" cy=\"-453\" rx=\"27\" ry=\"18\"/>\n<text text-anchor=\"middle\" x=\"1914.6442\" y=\"-449.3\" font-family=\"Times,serif\" font-size=\"14.00\" fill=\"#000000\">5</text>\n</g>\n<!-- lymphatics47&#45;&gt;class48 -->\n<g id=\"edge61\" class=\"edge\">\n<title>lymphatics47&#45;&gt;class48</title>\n<path fill=\"none\" stroke=\"#000000\" d=\"M1997.7847,-523.2255C1981.0556,-509.0951 1957.054,-488.8219 1939.1357,-473.6871\"/>\n<polygon fill=\"#000000\" stroke=\"#000000\" points=\"1941.2771,-470.9143 1931.3791,-467.1353 1936.7601,-476.2619 1941.2771,-470.9143\"/>\n<text text-anchor=\"middle\" x=\"1976.6442\" y=\"-492.8\" font-family=\"Times,serif\" font-size=\"14.00\" fill=\"#000000\">2</text>\n</g>\n<!-- class49 -->\n<g id=\"node63\" class=\"node\">\n<title>class49</title>\n<ellipse fill=\"none\" stroke=\"#000000\" cx=\"1986.6442\" cy=\"-453\" rx=\"27\" ry=\"18\"/>\n<text text-anchor=\"middle\" x=\"1986.6442\" y=\"-449.3\" font-family=\"Times,serif\" font-size=\"14.00\" fill=\"#000000\">3</text>\n</g>\n<!-- lymphatics47&#45;&gt;class49 -->\n<g id=\"edge62\" class=\"edge\">\n<title>lymphatics47&#45;&gt;class49</title>\n<path fill=\"none\" stroke=\"#000000\" d=\"M2011.221,-521.9735C2006.953,-509.9958 2001.2675,-494.0396 1996.4399,-480.4912\"/>\n<polygon fill=\"#000000\" stroke=\"#000000\" points=\"1999.6066,-478.9508 1992.9531,-470.7057 1993.0127,-481.3004 1999.6066,-478.9508\"/>\n<text text-anchor=\"middle\" x=\"2008.6442\" y=\"-492.8\" font-family=\"Times,serif\" font-size=\"14.00\" fill=\"#000000\">3</text>\n</g>\n<!-- class50 -->\n<g id=\"node64\" class=\"node\">\n<title>class50</title>\n<ellipse fill=\"none\" stroke=\"#000000\" cx=\"2058.6442\" cy=\"-453\" rx=\"27\" ry=\"18\"/>\n<text text-anchor=\"middle\" x=\"2058.6442\" y=\"-449.3\" font-family=\"Times,serif\" font-size=\"14.00\" fill=\"#000000\">2</text>\n</g>\n<!-- lymphatics47&#45;&gt;class50 -->\n<g id=\"edge63\" class=\"edge\">\n<title>lymphatics47&#45;&gt;class50</title>\n<path fill=\"none\" stroke=\"#000000\" d=\"M2026.1394,-521.9735C2031.8772,-509.7983 2039.5522,-493.5122 2046.0035,-479.8228\"/>\n<polygon fill=\"#000000\" stroke=\"#000000\" points=\"2049.3426,-480.9476 2050.4396,-470.4097 2043.0105,-477.9635 2049.3426,-480.9476\"/>\n<text text-anchor=\"middle\" x=\"2044.6442\" y=\"-492.8\" font-family=\"Times,serif\" font-size=\"14.00\" fill=\"#000000\">4</text>\n</g>\n<!-- class52 -->\n<g id=\"node66\" class=\"node\">\n<title>class52</title>\n<ellipse fill=\"none\" stroke=\"#000000\" cx=\"2130.6442\" cy=\"-453\" rx=\"27\" ry=\"18\"/>\n<text text-anchor=\"middle\" x=\"2130.6442\" y=\"-449.3\" font-family=\"Times,serif\" font-size=\"14.00\" fill=\"#000000\">1</text>\n</g>\n<!-- defect in node51&#45;&gt;class52 -->\n<g id=\"edge65\" class=\"edge\">\n<title>defect in node51&#45;&gt;class52</title>\n<path fill=\"none\" stroke=\"#000000\" d=\"M2198.4432,-522.3943C2185.2241,-508.8642 2166.871,-490.0793 2152.5934,-475.4656\"/>\n<polygon fill=\"#000000\" stroke=\"#000000\" points=\"2155.0392,-472.9607 2145.5473,-468.2538 2150.0322,-477.8526 2155.0392,-472.9607\"/>\n<text text-anchor=\"middle\" x=\"2182.6442\" y=\"-492.8\" font-family=\"Times,serif\" font-size=\"14.00\" fill=\"#000000\">3</text>\n</g>\n<!-- class53 -->\n<g id=\"node67\" class=\"node\">\n<title>class53</title>\n<ellipse fill=\"none\" stroke=\"#000000\" cx=\"2202.6442\" cy=\"-453\" rx=\"27\" ry=\"18\"/>\n<text text-anchor=\"middle\" x=\"2202.6442\" y=\"-449.3\" font-family=\"Times,serif\" font-size=\"14.00\" fill=\"#000000\">6</text>\n</g>\n<!-- defect in node51&#45;&gt;class53 -->\n<g id=\"edge66\" class=\"edge\">\n<title>defect in node51&#45;&gt;class53</title>\n<path fill=\"none\" stroke=\"#000000\" d=\"M2212.9506,-521.9735C2211.1901,-510.1918 2208.8544,-494.5607 2206.8517,-481.1581\"/>\n<polygon fill=\"#000000\" stroke=\"#000000\" points=\"2210.2738,-480.3763 2205.3343,-471.0034 2203.3507,-481.4108 2210.2738,-480.3763\"/>\n<text text-anchor=\"middle\" x=\"2214.6442\" y=\"-492.8\" font-family=\"Times,serif\" font-size=\"14.00\" fill=\"#000000\">4</text>\n</g>\n<!-- class54 -->\n<g id=\"node68\" class=\"node\">\n<title>class54</title>\n<ellipse fill=\"none\" stroke=\"#000000\" cx=\"2274.6442\" cy=\"-453\" rx=\"27\" ry=\"18\"/>\n<text text-anchor=\"middle\" x=\"2274.6442\" y=\"-449.3\" font-family=\"Times,serif\" font-size=\"14.00\" fill=\"#000000\">7</text>\n</g>\n<!-- defect in node51&#45;&gt;class54 -->\n<g id=\"edge67\" class=\"edge\">\n<title>defect in node51&#45;&gt;class54</title>\n<path fill=\"none\" stroke=\"#000000\" d=\"M2227.869,-521.9735C2236.534,-509.1964 2248.2692,-491.8919 2257.8174,-477.8124\"/>\n<polygon fill=\"#000000\" stroke=\"#000000\" points=\"2260.7168,-479.7728 2263.4329,-469.532 2254.9234,-475.8439 2260.7168,-479.7728\"/>\n<text text-anchor=\"middle\" x=\"2253.6442\" y=\"-492.8\" font-family=\"Times,serif\" font-size=\"14.00\" fill=\"#000000\">2</text>\n</g>\n<!-- dislocation of56 -->\n<g id=\"node70\" class=\"node\">\n<title>dislocation of56</title>\n<ellipse fill=\"none\" stroke=\"#000000\" cx=\"2381.6442\" cy=\"-453\" rx=\"61.99\" ry=\"18\"/>\n<text text-anchor=\"middle\" x=\"2381.6442\" y=\"-449.3\" font-family=\"Times,serif\" font-size=\"14.00\" fill=\"#000000\">dislocation of</text>\n</g>\n<!-- changes in node55&#45;&gt;dislocation of56 -->\n<g id=\"edge69\" class=\"edge\">\n<title>changes in node55&#45;&gt;dislocation of56</title>\n<path fill=\"none\" stroke=\"#000000\" d=\"M2381.6442,-521.9735C2381.6442,-510.1918 2381.6442,-494.5607 2381.6442,-481.1581\"/>\n<polygon fill=\"#000000\" stroke=\"#000000\" points=\"2385.1443,-481.0033 2381.6442,-471.0034 2378.1443,-481.0034 2385.1443,-481.0033\"/>\n<text text-anchor=\"middle\" x=\"2385.6442\" y=\"-492.8\" font-family=\"Times,serif\" font-size=\"14.00\" fill=\"#000000\">2</text>\n</g>\n<!-- class59 -->\n<g id=\"node73\" class=\"node\">\n<title>class59</title>\n<ellipse fill=\"none\" stroke=\"#000000\" cx=\"2488.6442\" cy=\"-453\" rx=\"27\" ry=\"18\"/>\n<text text-anchor=\"middle\" x=\"2488.6442\" y=\"-449.3\" font-family=\"Times,serif\" font-size=\"14.00\" fill=\"#000000\">7</text>\n</g>\n<!-- changes in node55&#45;&gt;class59 -->\n<g id=\"edge72\" class=\"edge\">\n<title>changes in node55&#45;&gt;class59</title>\n<path fill=\"none\" stroke=\"#000000\" d=\"M2403.0401,-522.6033C2420.4928,-508.4128 2445.1788,-488.341 2463.5599,-473.3956\"/>\n<polygon fill=\"#000000\" stroke=\"#000000\" points=\"2465.9621,-475.9534 2471.513,-466.929 2461.5461,-470.5221 2465.9621,-475.9534\"/>\n<text text-anchor=\"middle\" x=\"2445.6442\" y=\"-492.8\" font-family=\"Times,serif\" font-size=\"14.00\" fill=\"#000000\">4</text>\n</g>\n<!-- class57 -->\n<g id=\"node71\" class=\"node\">\n<title>class57</title>\n<ellipse fill=\"none\" stroke=\"#000000\" cx=\"2299.6442\" cy=\"-366\" rx=\"27\" ry=\"18\"/>\n<text text-anchor=\"middle\" x=\"2299.6442\" y=\"-362.3\" font-family=\"Times,serif\" font-size=\"14.00\" fill=\"#000000\">4</text>\n</g>\n<!-- dislocation of56&#45;&gt;class57 -->\n<g id=\"edge70\" class=\"edge\">\n<title>dislocation of56&#45;&gt;class57</title>\n<path fill=\"none\" stroke=\"#000000\" d=\"M2365.0503,-435.3943C2352.4148,-421.9883 2334.9169,-403.4235 2321.1988,-388.8689\"/>\n<polygon fill=\"#000000\" stroke=\"#000000\" points=\"2323.4272,-386.1303 2314.0213,-381.2538 2318.3332,-390.9315 2323.4272,-386.1303\"/>\n<text text-anchor=\"middle\" x=\"2349.6442\" y=\"-405.8\" font-family=\"Times,serif\" font-size=\"14.00\" fill=\"#000000\">1</text>\n</g>\n<!-- class58 -->\n<g id=\"node72\" class=\"node\">\n<title>class58</title>\n<ellipse fill=\"none\" stroke=\"#000000\" cx=\"2371.6442\" cy=\"-366\" rx=\"27\" ry=\"18\"/>\n<text text-anchor=\"middle\" x=\"2371.6442\" y=\"-362.3\" font-family=\"Times,serif\" font-size=\"14.00\" fill=\"#000000\">6</text>\n</g>\n<!-- dislocation of56&#45;&gt;class58 -->\n<g id=\"edge71\" class=\"edge\">\n<title>dislocation of56&#45;&gt;class58</title>\n<path fill=\"none\" stroke=\"#000000\" d=\"M2379.5722,-434.9735C2378.2179,-423.1918 2376.4213,-407.5607 2374.8807,-394.1581\"/>\n<polygon fill=\"#000000\" stroke=\"#000000\" points=\"2378.3326,-393.5383 2373.7135,-384.0034 2371.3784,-394.3376 2378.3326,-393.5383\"/>\n<text text-anchor=\"middle\" x=\"2381.6442\" y=\"-405.8\" font-family=\"Times,serif\" font-size=\"14.00\" fill=\"#000000\">2</text>\n</g>\n<!-- extravasates -->\n<g id=\"node77\" class=\"node\">\n<title>extravasates</title>\n<ellipse fill=\"none\" stroke=\"#000000\" cx=\"2851.6442\" cy=\"-540\" rx=\"54.6905\" ry=\"18\"/>\n<text text-anchor=\"middle\" x=\"2851.6442\" y=\"-536.3\" font-family=\"Times,serif\" font-size=\"14.00\" fill=\"#000000\">extravasates</text>\n</g>\n<!-- changes in stru62&#45;&gt;extravasates -->\n<g id=\"edge76\" class=\"edge\">\n<title>changes in stru62&#45;&gt;extravasates</title>\n<path fill=\"none\" stroke=\"#000000\" d=\"M3076.042,-613.1184C3028.1465,-597.512 2950.5243,-572.2194 2900.2862,-555.8497\"/>\n<polygon fill=\"#000000\" stroke=\"#000000\" points=\"2901.213,-552.4706 2890.6206,-552.7002 2899.0443,-559.1262 2901.213,-552.4706\"/>\n<text text-anchor=\"middle\" x=\"3005.6442\" y=\"-579.8\" font-family=\"Times,serif\" font-size=\"14.00\" fill=\"#000000\">8</text>\n</g>\n<!-- class78 -->\n<g id=\"node94\" class=\"node\">\n<title>class78</title>\n<ellipse fill=\"none\" stroke=\"#000000\" cx=\"3013.6442\" cy=\"-540\" rx=\"27\" ry=\"18\"/>\n<text text-anchor=\"middle\" x=\"3013.6442\" y=\"-536.3\" font-family=\"Times,serif\" font-size=\"14.00\" fill=\"#000000\">1</text>\n</g>\n<!-- changes in stru62&#45;&gt;class78 -->\n<g id=\"edge93\" class=\"edge\">\n<title>changes in stru62&#45;&gt;class78</title>\n<path fill=\"none\" stroke=\"#000000\" d=\"M3097.8996,-609.8116C3080.8999,-595.7261 3056.7848,-575.7451 3038.7067,-560.7661\"/>\n<polygon fill=\"#000000\" stroke=\"#000000\" points=\"3040.8059,-557.9601 3030.8726,-554.2749 3036.3397,-563.3502 3040.8059,-557.9601\"/>\n<text text-anchor=\"middle\" x=\"3076.6442\" y=\"-579.8\" font-family=\"Times,serif\" font-size=\"14.00\" fill=\"#000000\">3</text>\n</g>\n<!-- special forms79 -->\n<g id=\"node95\" class=\"node\">\n<title>special forms79</title>\n<ellipse fill=\"none\" stroke=\"#000000\" cx=\"3118.6442\" cy=\"-540\" rx=\"59.5901\" ry=\"18\"/>\n<text text-anchor=\"middle\" x=\"3118.6442\" y=\"-536.3\" font-family=\"Times,serif\" font-size=\"14.00\" fill=\"#000000\">special forms</text>\n</g>\n<!-- changes in stru62&#45;&gt;special forms79 -->\n<g id=\"edge94\" class=\"edge\">\n<title>changes in stru62&#45;&gt;special forms79</title>\n<path fill=\"none\" stroke=\"#000000\" d=\"M3118.6442,-608.9735C3118.6442,-597.1918 3118.6442,-581.5607 3118.6442,-568.1581\"/>\n<polygon fill=\"#000000\" stroke=\"#000000\" points=\"3122.1443,-568.0033 3118.6442,-558.0034 3115.1443,-568.0034 3122.1443,-568.0033\"/>\n<text text-anchor=\"middle\" x=\"3122.6442\" y=\"-579.8\" font-family=\"Times,serif\" font-size=\"14.00\" fill=\"#000000\">4</text>\n</g>\n<!-- changes in node92 -->\n<g id=\"node108\" class=\"node\">\n<title>changes in node92</title>\n<ellipse fill=\"none\" stroke=\"#000000\" cx=\"3275.6442\" cy=\"-540\" rx=\"71.4873\" ry=\"18\"/>\n<text text-anchor=\"middle\" x=\"3275.6442\" y=\"-536.3\" font-family=\"Times,serif\" font-size=\"14.00\" fill=\"#000000\">changes in node</text>\n</g>\n<!-- changes in stru62&#45;&gt;changes in node92 -->\n<g id=\"edge107\" class=\"edge\">\n<title>changes in stru62&#45;&gt;changes in node92</title>\n<path fill=\"none\" stroke=\"#000000\" d=\"M3148.1747,-610.636C3173.3132,-596.7057 3209.6071,-576.5938 3237.0436,-561.3901\"/>\n<polygon fill=\"#000000\" stroke=\"#000000\" points=\"3238.9292,-564.3467 3245.9796,-556.4383 3235.5363,-558.2239 3238.9292,-564.3467\"/>\n<text text-anchor=\"middle\" x=\"3210.6442\" y=\"-579.8\" font-family=\"Times,serif\" font-size=\"14.00\" fill=\"#000000\">5</text>\n</g>\n<!-- class96 -->\n<g id=\"node112\" class=\"node\">\n<title>class96</title>\n<ellipse fill=\"none\" stroke=\"#000000\" cx=\"3391.6442\" cy=\"-540\" rx=\"27\" ry=\"18\"/>\n<text text-anchor=\"middle\" x=\"3391.6442\" y=\"-536.3\" font-family=\"Times,serif\" font-size=\"14.00\" fill=\"#000000\">3</text>\n</g>\n<!-- changes in stru62&#45;&gt;class96 -->\n<g id=\"edge111\" class=\"edge\">\n<title>changes in stru62&#45;&gt;class96</title>\n<path fill=\"none\" stroke=\"#000000\" d=\"M3168.9932,-615.1529C3217.5773,-603.0679 3292.8017,-582.6261 3355.6442,-558 3357.4984,-557.2734 3359.3859,-556.4855 3361.2764,-555.6589\"/>\n<polygon fill=\"#000000\" stroke=\"#000000\" points=\"3363.0263,-558.7049 3370.6124,-551.3089 3360.0698,-552.3599 3363.0263,-558.7049\"/>\n<text text-anchor=\"middle\" x=\"3309.6442\" y=\"-579.8\" font-family=\"Times,serif\" font-size=\"14.00\" fill=\"#000000\">2</text>\n</g>\n<!-- class97 -->\n<g id=\"node113\" class=\"node\">\n<title>class97</title>\n<ellipse fill=\"none\" stroke=\"#000000\" cx=\"3463.6442\" cy=\"-540\" rx=\"27\" ry=\"18\"/>\n<text text-anchor=\"middle\" x=\"3463.6442\" y=\"-536.3\" font-family=\"Times,serif\" font-size=\"14.00\" fill=\"#000000\">6</text>\n</g>\n<!-- changes in stru62&#45;&gt;class97 -->\n<g id=\"edge112\" class=\"edge\">\n<title>changes in stru62&#45;&gt;class97</title>\n<path fill=\"none\" stroke=\"#000000\" d=\"M3178.6722,-619.3314C3242.1741,-609.9131 3344.4859,-590.9787 3427.6442,-558 3429.4954,-557.2658 3431.3806,-556.4721 3433.2694,-555.641\"/>\n<polygon fill=\"#000000\" stroke=\"#000000\" points=\"3435.0237,-558.6845 3442.6006,-551.279 3432.0594,-552.3432 3435.0237,-558.6845\"/>\n<text text-anchor=\"middle\" x=\"3374.6442\" y=\"-579.8\" font-family=\"Times,serif\" font-size=\"14.00\" fill=\"#000000\">6</text>\n</g>\n<!-- special forms63 -->\n<g id=\"node78\" class=\"node\">\n<title>special forms63</title>\n<ellipse fill=\"none\" stroke=\"#000000\" cx=\"2603.6442\" cy=\"-453\" rx=\"59.5901\" ry=\"18\"/>\n<text text-anchor=\"middle\" x=\"2603.6442\" y=\"-449.3\" font-family=\"Times,serif\" font-size=\"14.00\" fill=\"#000000\">special forms</text>\n</g>\n<!-- extravasates&#45;&gt;special forms63 -->\n<g id=\"edge77\" class=\"edge\">\n<title>extravasates&#45;&gt;special forms63</title>\n<path fill=\"none\" stroke=\"#000000\" d=\"M2814.2476,-526.881C2771.0793,-511.7373 2699.9418,-486.7818 2652.4493,-470.1211\"/>\n<polygon fill=\"#000000\" stroke=\"#000000\" points=\"2653.5819,-466.8094 2642.9871,-466.8017 2651.2647,-473.4148 2653.5819,-466.8094\"/>\n<text text-anchor=\"middle\" x=\"2746.6442\" y=\"-492.8\" font-family=\"Times,serif\" font-size=\"14.00\" fill=\"#000000\">2</text>\n</g>\n<!-- changes in node70 -->\n<g id=\"node86\" class=\"node\">\n<title>changes in node70</title>\n<ellipse fill=\"none\" stroke=\"#000000\" cx=\"2851.6442\" cy=\"-453\" rx=\"71.4873\" ry=\"18\"/>\n<text text-anchor=\"middle\" x=\"2851.6442\" y=\"-449.3\" font-family=\"Times,serif\" font-size=\"14.00\" fill=\"#000000\">changes in node</text>\n</g>\n<!-- extravasates&#45;&gt;changes in node70 -->\n<g id=\"edge85\" class=\"edge\">\n<title>extravasates&#45;&gt;changes in node70</title>\n<path fill=\"none\" stroke=\"#000000\" d=\"M2851.6442,-521.9735C2851.6442,-510.1918 2851.6442,-494.5607 2851.6442,-481.1581\"/>\n<polygon fill=\"#000000\" stroke=\"#000000\" points=\"2855.1443,-481.0033 2851.6442,-471.0034 2848.1443,-481.0034 2855.1443,-481.0033\"/>\n<text text-anchor=\"middle\" x=\"2855.6442\" y=\"-492.8\" font-family=\"Times,serif\" font-size=\"14.00\" fill=\"#000000\">1</text>\n</g>\n<!-- changes in node64 -->\n<g id=\"node79\" class=\"node\">\n<title>changes in node64</title>\n<ellipse fill=\"none\" stroke=\"#000000\" cx=\"2487.6442\" cy=\"-366\" rx=\"71.4873\" ry=\"18\"/>\n<text text-anchor=\"middle\" x=\"2487.6442\" y=\"-362.3\" font-family=\"Times,serif\" font-size=\"14.00\" fill=\"#000000\">changes in node</text>\n</g>\n<!-- special forms63&#45;&gt;changes in node64 -->\n<g id=\"edge78\" class=\"edge\">\n<title>special forms63&#45;&gt;changes in node64</title>\n<path fill=\"none\" stroke=\"#000000\" d=\"M2581.2782,-436.2255C2563.5353,-422.9183 2538.5285,-404.1632 2518.8206,-389.3823\"/>\n<polygon fill=\"#000000\" stroke=\"#000000\" points=\"2520.8355,-386.5185 2510.7355,-383.3185 2516.6355,-392.1185 2520.8355,-386.5185\"/>\n<text text-anchor=\"middle\" x=\"2556.6442\" y=\"-405.8\" font-family=\"Times,serif\" font-size=\"14.00\" fill=\"#000000\">3</text>\n</g>\n<!-- class69 -->\n<g id=\"node85\" class=\"node\">\n<title>class69</title>\n<ellipse fill=\"none\" stroke=\"#000000\" cx=\"2603.6442\" cy=\"-366\" rx=\"27\" ry=\"18\"/>\n<text text-anchor=\"middle\" x=\"2603.6442\" y=\"-362.3\" font-family=\"Times,serif\" font-size=\"14.00\" fill=\"#000000\">3</text>\n</g>\n<!-- special forms63&#45;&gt;class69 -->\n<g id=\"edge84\" class=\"edge\">\n<title>special forms63&#45;&gt;class69</title>\n<path fill=\"none\" stroke=\"#000000\" d=\"M2603.6442,-434.9735C2603.6442,-423.1918 2603.6442,-407.5607 2603.6442,-394.1581\"/>\n<polygon fill=\"#000000\" stroke=\"#000000\" points=\"2607.1443,-394.0033 2603.6442,-384.0034 2600.1443,-394.0034 2607.1443,-394.0033\"/>\n<text text-anchor=\"middle\" x=\"2607.6442\" y=\"-405.8\" font-family=\"Times,serif\" font-size=\"14.00\" fill=\"#000000\">2</text>\n</g>\n<!-- class65 -->\n<g id=\"node80\" class=\"node\">\n<title>class65</title>\n<ellipse fill=\"none\" stroke=\"#000000\" cx=\"2377.6442\" cy=\"-279\" rx=\"27\" ry=\"18\"/>\n<text text-anchor=\"middle\" x=\"2377.6442\" y=\"-275.3\" font-family=\"Times,serif\" font-size=\"14.00\" fill=\"#000000\">2</text>\n</g>\n<!-- changes in node64&#45;&gt;class65 -->\n<g id=\"edge79\" class=\"edge\">\n<title>changes in node64&#45;&gt;class65</title>\n<path fill=\"none\" stroke=\"#000000\" d=\"M2465.9117,-348.8116C2447.9132,-334.5764 2422.3012,-314.3196 2403.2983,-299.2901\"/>\n<polygon fill=\"#000000\" stroke=\"#000000\" points=\"2405.357,-296.4559 2395.3424,-292.9977 2401.0146,-301.9463 2405.357,-296.4559\"/>\n<text text-anchor=\"middle\" x=\"2443.6442\" y=\"-318.8\" font-family=\"Times,serif\" font-size=\"14.00\" fill=\"#000000\">3</text>\n</g>\n<!-- block of affere -->\n<g id=\"node81\" class=\"node\">\n<title>block of affere</title>\n<ellipse fill=\"none\" stroke=\"#000000\" cx=\"2487.6442\" cy=\"-279\" rx=\"64.9885\" ry=\"18\"/>\n<text text-anchor=\"middle\" x=\"2487.6442\" y=\"-275.3\" font-family=\"Times,serif\" font-size=\"14.00\" fill=\"#000000\">block of affere</text>\n</g>\n<!-- changes in node64&#45;&gt;block of affere -->\n<g id=\"edge80\" class=\"edge\">\n<title>changes in node64&#45;&gt;block of affere</title>\n<path fill=\"none\" stroke=\"#000000\" d=\"M2487.6442,-347.9735C2487.6442,-336.1918 2487.6442,-320.5607 2487.6442,-307.1581\"/>\n<polygon fill=\"#000000\" stroke=\"#000000\" points=\"2491.1443,-307.0033 2487.6442,-297.0034 2484.1443,-307.0034 2491.1443,-307.0033\"/>\n<text text-anchor=\"middle\" x=\"2491.6442\" y=\"-318.8\" font-family=\"Times,serif\" font-size=\"14.00\" fill=\"#000000\">2</text>\n</g>\n<!-- class68 -->\n<g id=\"node84\" class=\"node\">\n<title>class68</title>\n<ellipse fill=\"none\" stroke=\"#000000\" cx=\"2597.6442\" cy=\"-279\" rx=\"27\" ry=\"18\"/>\n<text text-anchor=\"middle\" x=\"2597.6442\" y=\"-275.3\" font-family=\"Times,serif\" font-size=\"14.00\" fill=\"#000000\">2</text>\n</g>\n<!-- changes in node64&#45;&gt;class68 -->\n<g id=\"edge83\" class=\"edge\">\n<title>changes in node64&#45;&gt;class68</title>\n<path fill=\"none\" stroke=\"#000000\" d=\"M2509.3766,-348.8116C2527.3752,-334.5764 2552.9872,-314.3196 2571.99,-299.2901\"/>\n<polygon fill=\"#000000\" stroke=\"#000000\" points=\"2574.2738,-301.9463 2579.946,-292.9977 2569.9314,-296.4559 2574.2738,-301.9463\"/>\n<text text-anchor=\"middle\" x=\"2553.6442\" y=\"-318.8\" font-family=\"Times,serif\" font-size=\"14.00\" fill=\"#000000\">4</text>\n</g>\n<!-- class66 -->\n<g id=\"node82\" class=\"node\">\n<title>class66</title>\n<ellipse fill=\"none\" stroke=\"#000000\" cx=\"2451.6442\" cy=\"-192\" rx=\"27\" ry=\"18\"/>\n<text text-anchor=\"middle\" x=\"2451.6442\" y=\"-188.3\" font-family=\"Times,serif\" font-size=\"14.00\" fill=\"#000000\">2</text>\n</g>\n<!-- block of affere&#45;&gt;class66 -->\n<g id=\"edge81\" class=\"edge\">\n<title>block of affere&#45;&gt;class66</title>\n<path fill=\"none\" stroke=\"#000000\" d=\"M2480.185,-260.9735C2475.1469,-248.7983 2468.4079,-232.5122 2462.7433,-218.8228\"/>\n<polygon fill=\"#000000\" stroke=\"#000000\" points=\"2465.9058,-217.3116 2458.8482,-209.4097 2459.4377,-219.9881 2465.9058,-217.3116\"/>\n<text text-anchor=\"middle\" x=\"2476.6442\" y=\"-231.8\" font-family=\"Times,serif\" font-size=\"14.00\" fill=\"#000000\">2</text>\n</g>\n<!-- class67 -->\n<g id=\"node83\" class=\"node\">\n<title>class67</title>\n<ellipse fill=\"none\" stroke=\"#000000\" cx=\"2523.6442\" cy=\"-192\" rx=\"27\" ry=\"18\"/>\n<text text-anchor=\"middle\" x=\"2523.6442\" y=\"-188.3\" font-family=\"Times,serif\" font-size=\"14.00\" fill=\"#000000\">3</text>\n</g>\n<!-- block of affere&#45;&gt;class67 -->\n<g id=\"edge82\" class=\"edge\">\n<title>block of affere&#45;&gt;class67</title>\n<path fill=\"none\" stroke=\"#000000\" d=\"M2495.1034,-260.9735C2500.1414,-248.7983 2506.8805,-232.5122 2512.5451,-218.8228\"/>\n<polygon fill=\"#000000\" stroke=\"#000000\" points=\"2515.8506,-219.9881 2516.4402,-209.4097 2509.3825,-217.3116 2515.8506,-219.9881\"/>\n<text text-anchor=\"middle\" x=\"2512.6442\" y=\"-231.8\" font-family=\"Times,serif\" font-size=\"14.00\" fill=\"#000000\">1</text>\n</g>\n<!-- dislocation of71 -->\n<g id=\"node87\" class=\"node\">\n<title>dislocation of71</title>\n<ellipse fill=\"none\" stroke=\"#000000\" cx=\"2710.6442\" cy=\"-366\" rx=\"61.99\" ry=\"18\"/>\n<text text-anchor=\"middle\" x=\"2710.6442\" y=\"-362.3\" font-family=\"Times,serif\" font-size=\"14.00\" fill=\"#000000\">dislocation of</text>\n</g>\n<!-- changes in node70&#45;&gt;dislocation of71 -->\n<g id=\"edge86\" class=\"edge\">\n<title>changes in node70&#45;&gt;dislocation of71</title>\n<path fill=\"none\" stroke=\"#000000\" d=\"M2824.458,-436.2255C2802.0784,-422.4168 2770.1914,-402.7419 2745.8596,-387.7287\"/>\n<polygon fill=\"#000000\" stroke=\"#000000\" points=\"2747.617,-384.7004 2737.2688,-382.4279 2743.9412,-390.6577 2747.617,-384.7004\"/>\n<text text-anchor=\"middle\" x=\"2793.6442\" y=\"-405.8\" font-family=\"Times,serif\" font-size=\"14.00\" fill=\"#000000\">2</text>\n</g>\n<!-- defect in node74 -->\n<g id=\"node90\" class=\"node\">\n<title>defect in node74</title>\n<ellipse fill=\"none\" stroke=\"#000000\" cx=\"2853.6442\" cy=\"-366\" rx=\"63.8893\" ry=\"18\"/>\n<text text-anchor=\"middle\" x=\"2853.6442\" y=\"-362.3\" font-family=\"Times,serif\" font-size=\"14.00\" fill=\"#000000\">defect in node</text>\n</g>\n<!-- changes in node70&#45;&gt;defect in node74 -->\n<g id=\"edge89\" class=\"edge\">\n<title>changes in node70&#45;&gt;defect in node74</title>\n<path fill=\"none\" stroke=\"#000000\" d=\"M2852.0586,-434.9735C2852.3294,-423.1918 2852.6888,-407.5607 2852.9969,-394.1581\"/>\n<polygon fill=\"#000000\" stroke=\"#000000\" points=\"2856.4995,-394.0812 2853.2303,-384.0034 2849.5013,-393.9202 2856.4995,-394.0812\"/>\n<text text-anchor=\"middle\" x=\"2857.6442\" y=\"-405.8\" font-family=\"Times,serif\" font-size=\"14.00\" fill=\"#000000\">4</text>\n</g>\n<!-- class77 -->\n<g id=\"node93\" class=\"node\">\n<title>class77</title>\n<ellipse fill=\"none\" stroke=\"#000000\" cx=\"2962.6442\" cy=\"-366\" rx=\"27\" ry=\"18\"/>\n<text text-anchor=\"middle\" x=\"2962.6442\" y=\"-362.3\" font-family=\"Times,serif\" font-size=\"14.00\" fill=\"#000000\">3</text>\n</g>\n<!-- changes in node70&#45;&gt;class77 -->\n<g id=\"edge92\" class=\"edge\">\n<title>changes in node70&#45;&gt;class77</title>\n<path fill=\"none\" stroke=\"#000000\" d=\"M2873.5742,-435.8116C2891.8464,-421.4901 2917.8948,-401.0739 2937.1047,-386.0174\"/>\n<polygon fill=\"#000000\" stroke=\"#000000\" points=\"2939.4248,-388.646 2945.1363,-379.7224 2935.1066,-383.1366 2939.4248,-388.646\"/>\n<text text-anchor=\"middle\" x=\"2918.6442\" y=\"-405.8\" font-family=\"Times,serif\" font-size=\"14.00\" fill=\"#000000\">3</text>\n</g>\n<!-- class72 -->\n<g id=\"node88\" class=\"node\">\n<title>class72</title>\n<ellipse fill=\"none\" stroke=\"#000000\" cx=\"2679.6442\" cy=\"-279\" rx=\"27\" ry=\"18\"/>\n<text text-anchor=\"middle\" x=\"2679.6442\" y=\"-275.3\" font-family=\"Times,serif\" font-size=\"14.00\" fill=\"#000000\">5</text>\n</g>\n<!-- dislocation of71&#45;&gt;class72 -->\n<g id=\"edge87\" class=\"edge\">\n<title>dislocation of71&#45;&gt;class72</title>\n<path fill=\"none\" stroke=\"#000000\" d=\"M2704.221,-347.9735C2699.953,-335.9958 2694.2675,-320.0396 2689.4399,-306.4912\"/>\n<polygon fill=\"#000000\" stroke=\"#000000\" points=\"2692.6066,-304.9508 2685.9531,-296.7057 2686.0127,-307.3004 2692.6066,-304.9508\"/>\n<text text-anchor=\"middle\" x=\"2701.6442\" y=\"-318.8\" font-family=\"Times,serif\" font-size=\"14.00\" fill=\"#000000\">1</text>\n</g>\n<!-- class73 -->\n<g id=\"node89\" class=\"node\">\n<title>class73</title>\n<ellipse fill=\"none\" stroke=\"#000000\" cx=\"2751.6442\" cy=\"-279\" rx=\"27\" ry=\"18\"/>\n<text text-anchor=\"middle\" x=\"2751.6442\" y=\"-275.3\" font-family=\"Times,serif\" font-size=\"14.00\" fill=\"#000000\">4</text>\n</g>\n<!-- dislocation of71&#45;&gt;class73 -->\n<g id=\"edge88\" class=\"edge\">\n<title>dislocation of71&#45;&gt;class73</title>\n<path fill=\"none\" stroke=\"#000000\" d=\"M2719.1394,-347.9735C2724.8772,-335.7983 2732.5522,-319.5122 2739.0035,-305.8228\"/>\n<polygon fill=\"#000000\" stroke=\"#000000\" points=\"2742.3426,-306.9476 2743.4396,-296.4097 2736.0105,-303.9635 2742.3426,-306.9476\"/>\n<text text-anchor=\"middle\" x=\"2737.6442\" y=\"-318.8\" font-family=\"Times,serif\" font-size=\"14.00\" fill=\"#000000\">2</text>\n</g>\n<!-- class75 -->\n<g id=\"node91\" class=\"node\">\n<title>class75</title>\n<ellipse fill=\"none\" stroke=\"#000000\" cx=\"2843.6442\" cy=\"-279\" rx=\"27\" ry=\"18\"/>\n<text text-anchor=\"middle\" x=\"2843.6442\" y=\"-275.3\" font-family=\"Times,serif\" font-size=\"14.00\" fill=\"#000000\">3</text>\n</g>\n<!-- defect in node74&#45;&gt;class75 -->\n<g id=\"edge90\" class=\"edge\">\n<title>defect in node74&#45;&gt;class75</title>\n<path fill=\"none\" stroke=\"#000000\" d=\"M2851.5722,-347.9735C2850.2179,-336.1918 2848.4213,-320.5607 2846.8807,-307.1581\"/>\n<polygon fill=\"#000000\" stroke=\"#000000\" points=\"2850.3326,-306.5383 2845.7135,-297.0034 2843.3784,-307.3376 2850.3326,-306.5383\"/>\n<text text-anchor=\"middle\" x=\"2853.6442\" y=\"-318.8\" font-family=\"Times,serif\" font-size=\"14.00\" fill=\"#000000\">2</text>\n</g>\n<!-- class76 -->\n<g id=\"node92\" class=\"node\">\n<title>class76</title>\n<ellipse fill=\"none\" stroke=\"#000000\" cx=\"2915.6442\" cy=\"-279\" rx=\"27\" ry=\"18\"/>\n<text text-anchor=\"middle\" x=\"2915.6442\" y=\"-275.3\" font-family=\"Times,serif\" font-size=\"14.00\" fill=\"#000000\">1</text>\n</g>\n<!-- defect in node74&#45;&gt;class76 -->\n<g id=\"edge91\" class=\"edge\">\n<title>defect in node74&#45;&gt;class76</title>\n<path fill=\"none\" stroke=\"#000000\" d=\"M2866.4906,-347.9735C2875.5962,-335.1964 2887.9281,-317.8919 2897.9618,-303.8124\"/>\n<polygon fill=\"#000000\" stroke=\"#000000\" points=\"2900.9095,-305.7069 2903.8628,-295.532 2895.2089,-301.6444 2900.9095,-305.7069\"/>\n<text text-anchor=\"middle\" x=\"2892.6442\" y=\"-318.8\" font-family=\"Times,serif\" font-size=\"14.00\" fill=\"#000000\">4</text>\n</g>\n<!-- class80 -->\n<g id=\"node96\" class=\"node\">\n<title>class80</title>\n<ellipse fill=\"none\" stroke=\"#000000\" cx=\"2967.6442\" cy=\"-453\" rx=\"27\" ry=\"18\"/>\n<text text-anchor=\"middle\" x=\"2967.6442\" y=\"-449.3\" font-family=\"Times,serif\" font-size=\"14.00\" fill=\"#000000\">1</text>\n</g>\n<!-- special forms79&#45;&gt;class80 -->\n<g id=\"edge95\" class=\"edge\">\n<title>special forms79&#45;&gt;class80</title>\n<path fill=\"none\" stroke=\"#000000\" d=\"M3090.9484,-524.0429C3064.3284,-508.7055 3024.2394,-485.6079 2997.058,-469.947\"/>\n<polygon fill=\"#000000\" stroke=\"#000000\" points=\"2998.7849,-466.9026 2988.3728,-464.943 2995.2902,-472.968 2998.7849,-466.9026\"/>\n<text text-anchor=\"middle\" x=\"3056.6442\" y=\"-492.8\" font-family=\"Times,serif\" font-size=\"14.00\" fill=\"#000000\">1</text>\n</g>\n<!-- early uptake in81 -->\n<g id=\"node97\" class=\"node\">\n<title>early uptake in81</title>\n<ellipse fill=\"none\" stroke=\"#000000\" cx=\"3078.6442\" cy=\"-453\" rx=\"65.7887\" ry=\"18\"/>\n<text text-anchor=\"middle\" x=\"3078.6442\" y=\"-449.3\" font-family=\"Times,serif\" font-size=\"14.00\" fill=\"#000000\">early uptake in</text>\n</g>\n<!-- special forms79&#45;&gt;early uptake in81 -->\n<g id=\"edge96\" class=\"edge\">\n<title>special forms79&#45;&gt;early uptake in81</title>\n<path fill=\"none\" stroke=\"#000000\" d=\"M3110.3561,-521.9735C3104.832,-509.9585 3097.4672,-493.9401 3091.2256,-480.3646\"/>\n<polygon fill=\"#000000\" stroke=\"#000000\" points=\"3094.279,-478.627 3086.9216,-471.0034 3087.919,-481.5512 3094.279,-478.627\"/>\n<text text-anchor=\"middle\" x=\"3105.6442\" y=\"-492.8\" font-family=\"Times,serif\" font-size=\"14.00\" fill=\"#000000\">2</text>\n</g>\n<!-- lymphatics84 -->\n<g id=\"node100\" class=\"node\">\n<title>lymphatics84</title>\n<ellipse fill=\"none\" stroke=\"#000000\" cx=\"3213.6442\" cy=\"-453\" rx=\"51.1914\" ry=\"18\"/>\n<text text-anchor=\"middle\" x=\"3213.6442\" y=\"-449.3\" font-family=\"Times,serif\" font-size=\"14.00\" fill=\"#000000\">lymphatics</text>\n</g>\n<!-- special forms79&#45;&gt;lymphatics84 -->\n<g id=\"edge99\" class=\"edge\">\n<title>special forms79&#45;&gt;lymphatics84</title>\n<path fill=\"none\" stroke=\"#000000\" d=\"M3137.4131,-522.8116C3151.8188,-509.619 3171.8718,-491.2547 3187.7952,-476.6723\"/>\n<polygon fill=\"#000000\" stroke=\"#000000\" points=\"3190.2265,-479.1916 3195.2375,-469.8567 3185.4989,-474.0292 3190.2265,-479.1916\"/>\n<text text-anchor=\"middle\" x=\"3176.6442\" y=\"-492.8\" font-family=\"Times,serif\" font-size=\"14.00\" fill=\"#000000\">3</text>\n</g>\n<!-- class82 -->\n<g id=\"node98\" class=\"node\">\n<title>class82</title>\n<ellipse fill=\"none\" stroke=\"#000000\" cx=\"3034.6442\" cy=\"-366\" rx=\"27\" ry=\"18\"/>\n<text text-anchor=\"middle\" x=\"3034.6442\" y=\"-362.3\" font-family=\"Times,serif\" font-size=\"14.00\" fill=\"#000000\">2</text>\n</g>\n<!-- early uptake in81&#45;&gt;class82 -->\n<g id=\"edge97\" class=\"edge\">\n<title>early uptake in81&#45;&gt;class82</title>\n<path fill=\"none\" stroke=\"#000000\" d=\"M3069.5273,-434.9735C3063.2691,-422.5992 3054.8632,-405.9785 3047.8712,-392.1534\"/>\n<polygon fill=\"#000000\" stroke=\"#000000\" points=\"3050.9367,-390.4595 3043.3002,-383.1154 3044.6901,-393.6187 3050.9367,-390.4595\"/>\n<text text-anchor=\"middle\" x=\"3063.6442\" y=\"-405.8\" font-family=\"Times,serif\" font-size=\"14.00\" fill=\"#000000\">2</text>\n</g>\n<!-- class83 -->\n<g id=\"node99\" class=\"node\">\n<title>class83</title>\n<ellipse fill=\"none\" stroke=\"#000000\" cx=\"3106.6442\" cy=\"-366\" rx=\"27\" ry=\"18\"/>\n<text text-anchor=\"middle\" x=\"3106.6442\" y=\"-362.3\" font-family=\"Times,serif\" font-size=\"14.00\" fill=\"#000000\">3</text>\n</g>\n<!-- early uptake in81&#45;&gt;class83 -->\n<g id=\"edge98\" class=\"edge\">\n<title>early uptake in81&#45;&gt;class83</title>\n<path fill=\"none\" stroke=\"#000000\" d=\"M3084.4458,-434.9735C3088.3007,-422.9958 3093.436,-407.0396 3097.7964,-393.4912\"/>\n<polygon fill=\"#000000\" stroke=\"#000000\" points=\"3101.2138,-394.2971 3100.9458,-383.7057 3094.5504,-392.1525 3101.2138,-394.2971\"/>\n<text text-anchor=\"middle\" x=\"3098.6442\" y=\"-405.8\" font-family=\"Times,serif\" font-size=\"14.00\" fill=\"#000000\">1</text>\n</g>\n<!-- dislocation of85 -->\n<g id=\"node101\" class=\"node\">\n<title>dislocation of85</title>\n<ellipse fill=\"none\" stroke=\"#000000\" cx=\"3213.6442\" cy=\"-366\" rx=\"61.99\" ry=\"18\"/>\n<text text-anchor=\"middle\" x=\"3213.6442\" y=\"-362.3\" font-family=\"Times,serif\" font-size=\"14.00\" fill=\"#000000\">dislocation of</text>\n</g>\n<!-- lymphatics84&#45;&gt;dislocation of85 -->\n<g id=\"edge100\" class=\"edge\">\n<title>lymphatics84&#45;&gt;dislocation of85</title>\n<path fill=\"none\" stroke=\"#000000\" d=\"M3213.6442,-434.9735C3213.6442,-423.1918 3213.6442,-407.5607 3213.6442,-394.1581\"/>\n<polygon fill=\"#000000\" stroke=\"#000000\" points=\"3217.1443,-394.0033 3213.6442,-384.0034 3210.1443,-394.0034 3217.1443,-394.0033\"/>\n<text text-anchor=\"middle\" x=\"3217.6442\" y=\"-405.8\" font-family=\"Times,serif\" font-size=\"14.00\" fill=\"#000000\">3</text>\n</g>\n<!-- class88 -->\n<g id=\"node104\" class=\"node\">\n<title>class88</title>\n<ellipse fill=\"none\" stroke=\"#000000\" cx=\"3320.6442\" cy=\"-366\" rx=\"27\" ry=\"18\"/>\n<text text-anchor=\"middle\" x=\"3320.6442\" y=\"-362.3\" font-family=\"Times,serif\" font-size=\"14.00\" fill=\"#000000\">2</text>\n</g>\n<!-- lymphatics84&#45;&gt;class88 -->\n<g id=\"edge103\" class=\"edge\">\n<title>lymphatics84&#45;&gt;class88</title>\n<path fill=\"none\" stroke=\"#000000\" d=\"M3234.0219,-436.4312C3251.5577,-422.1731 3276.9206,-401.5509 3295.6735,-386.3033\"/>\n<polygon fill=\"#000000\" stroke=\"#000000\" points=\"3297.9668,-388.9496 3303.5177,-379.9253 3293.5507,-383.5183 3297.9668,-388.9496\"/>\n<text text-anchor=\"middle\" x=\"3277.6442\" y=\"-405.8\" font-family=\"Times,serif\" font-size=\"14.00\" fill=\"#000000\">4</text>\n</g>\n<!-- changes in node89 -->\n<g id=\"node105\" class=\"node\">\n<title>changes in node89</title>\n<ellipse fill=\"none\" stroke=\"#000000\" cx=\"3436.6442\" cy=\"-366\" rx=\"71.4873\" ry=\"18\"/>\n<text text-anchor=\"middle\" x=\"3436.6442\" y=\"-362.3\" font-family=\"Times,serif\" font-size=\"14.00\" fill=\"#000000\">changes in node</text>\n</g>\n<!-- lymphatics84&#45;&gt;changes in node89 -->\n<g id=\"edge104\" class=\"edge\">\n<title>lymphatics84&#45;&gt;changes in node89</title>\n<path fill=\"none\" stroke=\"#000000\" d=\"M3247.9992,-439.5969C3285.5165,-424.9601 3345.8898,-401.4064 3388.2069,-384.897\"/>\n<polygon fill=\"#000000\" stroke=\"#000000\" points=\"3389.7037,-388.0701 3397.7478,-381.1748 3387.1595,-381.5488 3389.7037,-388.0701\"/>\n<text text-anchor=\"middle\" x=\"3342.6442\" y=\"-405.8\" font-family=\"Times,serif\" font-size=\"14.00\" fill=\"#000000\">2</text>\n</g>\n<!-- class86 -->\n<g id=\"node102\" class=\"node\">\n<title>class86</title>\n<ellipse fill=\"none\" stroke=\"#000000\" cx=\"3177.6442\" cy=\"-279\" rx=\"27\" ry=\"18\"/>\n<text text-anchor=\"middle\" x=\"3177.6442\" y=\"-275.3\" font-family=\"Times,serif\" font-size=\"14.00\" fill=\"#000000\">1</text>\n</g>\n<!-- dislocation of85&#45;&gt;class86 -->\n<g id=\"edge101\" class=\"edge\">\n<title>dislocation of85&#45;&gt;class86</title>\n<path fill=\"none\" stroke=\"#000000\" d=\"M3206.185,-347.9735C3201.1469,-335.7983 3194.4079,-319.5122 3188.7433,-305.8228\"/>\n<polygon fill=\"#000000\" stroke=\"#000000\" points=\"3191.9058,-304.3116 3184.8482,-296.4097 3185.4377,-306.9881 3191.9058,-304.3116\"/>\n<text text-anchor=\"middle\" x=\"3202.6442\" y=\"-318.8\" font-family=\"Times,serif\" font-size=\"14.00\" fill=\"#000000\">2</text>\n</g>\n<!-- class87 -->\n<g id=\"node103\" class=\"node\">\n<title>class87</title>\n<ellipse fill=\"none\" stroke=\"#000000\" cx=\"3249.6442\" cy=\"-279\" rx=\"27\" ry=\"18\"/>\n<text text-anchor=\"middle\" x=\"3249.6442\" y=\"-275.3\" font-family=\"Times,serif\" font-size=\"14.00\" fill=\"#000000\">6</text>\n</g>\n<!-- dislocation of85&#45;&gt;class87 -->\n<g id=\"edge102\" class=\"edge\">\n<title>dislocation of85&#45;&gt;class87</title>\n<path fill=\"none\" stroke=\"#000000\" d=\"M3221.1034,-347.9735C3226.1414,-335.7983 3232.8805,-319.5122 3238.5451,-305.8228\"/>\n<polygon fill=\"#000000\" stroke=\"#000000\" points=\"3241.8506,-306.9881 3242.4402,-296.4097 3235.3825,-304.3116 3241.8506,-306.9881\"/>\n<text text-anchor=\"middle\" x=\"3238.6442\" y=\"-318.8\" font-family=\"Times,serif\" font-size=\"14.00\" fill=\"#000000\">1</text>\n</g>\n<!-- class90 -->\n<g id=\"node106\" class=\"node\">\n<title>class90</title>\n<ellipse fill=\"none\" stroke=\"#000000\" cx=\"3400.6442\" cy=\"-279\" rx=\"27\" ry=\"18\"/>\n<text text-anchor=\"middle\" x=\"3400.6442\" y=\"-275.3\" font-family=\"Times,serif\" font-size=\"14.00\" fill=\"#000000\">6</text>\n</g>\n<!-- changes in node89&#45;&gt;class90 -->\n<g id=\"edge105\" class=\"edge\">\n<title>changes in node89&#45;&gt;class90</title>\n<path fill=\"none\" stroke=\"#000000\" d=\"M3429.185,-347.9735C3424.1469,-335.7983 3417.4079,-319.5122 3411.7433,-305.8228\"/>\n<polygon fill=\"#000000\" stroke=\"#000000\" points=\"3414.9058,-304.3116 3407.8482,-296.4097 3408.4377,-306.9881 3414.9058,-304.3116\"/>\n<text text-anchor=\"middle\" x=\"3425.6442\" y=\"-318.8\" font-family=\"Times,serif\" font-size=\"14.00\" fill=\"#000000\">3</text>\n</g>\n<!-- class91 -->\n<g id=\"node107\" class=\"node\">\n<title>class91</title>\n<ellipse fill=\"none\" stroke=\"#000000\" cx=\"3472.6442\" cy=\"-279\" rx=\"27\" ry=\"18\"/>\n<text text-anchor=\"middle\" x=\"3472.6442\" y=\"-275.3\" font-family=\"Times,serif\" font-size=\"14.00\" fill=\"#000000\">5</text>\n</g>\n<!-- changes in node89&#45;&gt;class91 -->\n<g id=\"edge106\" class=\"edge\">\n<title>changes in node89&#45;&gt;class91</title>\n<path fill=\"none\" stroke=\"#000000\" d=\"M3444.1034,-347.9735C3449.1414,-335.7983 3455.8805,-319.5122 3461.5451,-305.8228\"/>\n<polygon fill=\"#000000\" stroke=\"#000000\" points=\"3464.8506,-306.9881 3465.4402,-296.4097 3458.3825,-304.3116 3464.8506,-306.9881\"/>\n<text text-anchor=\"middle\" x=\"3461.6442\" y=\"-318.8\" font-family=\"Times,serif\" font-size=\"14.00\" fill=\"#000000\">4</text>\n</g>\n<!-- class93 -->\n<g id=\"node109\" class=\"node\">\n<title>class93</title>\n<ellipse fill=\"none\" stroke=\"#000000\" cx=\"3309.6442\" cy=\"-453\" rx=\"27\" ry=\"18\"/>\n<text text-anchor=\"middle\" x=\"3309.6442\" y=\"-449.3\" font-family=\"Times,serif\" font-size=\"14.00\" fill=\"#000000\">3</text>\n</g>\n<!-- changes in node92&#45;&gt;class93 -->\n<g id=\"edge108\" class=\"edge\">\n<title>changes in node92&#45;&gt;class93</title>\n<path fill=\"none\" stroke=\"#000000\" d=\"M3282.689,-521.9735C3287.4158,-509.8784 3293.7281,-493.7263 3299.056,-480.0934\"/>\n<polygon fill=\"#000000\" stroke=\"#000000\" points=\"3302.3446,-481.2937 3302.7247,-470.7057 3295.8248,-478.7457 3302.3446,-481.2937\"/>\n<text text-anchor=\"middle\" x=\"3299.6442\" y=\"-492.8\" font-family=\"Times,serif\" font-size=\"14.00\" fill=\"#000000\">2</text>\n</g>\n<!-- class94 -->\n<g id=\"node110\" class=\"node\">\n<title>class94</title>\n<ellipse fill=\"none\" stroke=\"#000000\" cx=\"3381.6442\" cy=\"-453\" rx=\"27\" ry=\"18\"/>\n<text text-anchor=\"middle\" x=\"3381.6442\" y=\"-449.3\" font-family=\"Times,serif\" font-size=\"14.00\" fill=\"#000000\">3</text>\n</g>\n<!-- changes in node92&#45;&gt;class94 -->\n<g id=\"edge109\" class=\"edge\">\n<title>changes in node92&#45;&gt;class94</title>\n<path fill=\"none\" stroke=\"#000000\" d=\"M3296.8401,-522.6033C3314.025,-508.4988 3338.2888,-488.5841 3356.4626,-473.6679\"/>\n<polygon fill=\"#000000\" stroke=\"#000000\" points=\"3358.8275,-476.2548 3364.3369,-467.2051 3354.3865,-470.8439 3358.8275,-476.2548\"/>\n<text text-anchor=\"middle\" x=\"3339.6442\" y=\"-492.8\" font-family=\"Times,serif\" font-size=\"14.00\" fill=\"#000000\">3</text>\n</g>\n<!-- class95 -->\n<g id=\"node111\" class=\"node\">\n<title>class95</title>\n<ellipse fill=\"none\" stroke=\"#000000\" cx=\"3453.6442\" cy=\"-453\" rx=\"27\" ry=\"18\"/>\n<text text-anchor=\"middle\" x=\"3453.6442\" y=\"-449.3\" font-family=\"Times,serif\" font-size=\"14.00\" fill=\"#000000\">5</text>\n</g>\n<!-- changes in node92&#45;&gt;class95 -->\n<g id=\"edge110\" class=\"edge\">\n<title>changes in node92&#45;&gt;class95</title>\n<path fill=\"none\" stroke=\"#000000\" d=\"M3308.9782,-523.934C3337.788,-510.0172 3380.5216,-489.2992 3417.6442,-471 3419.3834,-470.1427 3421.1686,-469.2597 3422.9694,-468.3667\"/>\n<polygon fill=\"#000000\" stroke=\"#000000\" points=\"3424.5691,-471.4801 3431.9619,-463.8908 3421.45,-465.2134 3424.5691,-471.4801\"/>\n<text text-anchor=\"middle\" x=\"3383.6442\" y=\"-492.8\" font-family=\"Times,serif\" font-size=\"14.00\" fill=\"#000000\">4</text>\n</g>\n<!-- exclusion of no99 -->\n<g id=\"node115\" class=\"node\">\n<title>exclusion of no99</title>\n<ellipse fill=\"none\" stroke=\"#000000\" cx=\"3594.6442\" cy=\"-540\" rx=\"68.7879\" ry=\"18\"/>\n<text text-anchor=\"middle\" x=\"3594.6442\" y=\"-536.3\" font-family=\"Times,serif\" font-size=\"14.00\" fill=\"#000000\">exclusion of no</text>\n</g>\n<!-- class98&#45;&gt;exclusion of no99 -->\n<g id=\"edge114\" class=\"edge\">\n<title>class98&#45;&gt;exclusion of no99</title>\n<path fill=\"none\" stroke=\"#000000\" d=\"M3654.2549,-611.0429C3643.5581,-598.2947 3628.3628,-580.1852 3615.9913,-565.4411\"/>\n<polygon fill=\"#000000\" stroke=\"#000000\" points=\"3618.5643,-563.0624 3609.4553,-557.6516 3613.2019,-567.5619 3618.5643,-563.0624\"/>\n<text text-anchor=\"middle\" x=\"3639.6442\" y=\"-579.8\" font-family=\"Times,serif\" font-size=\"14.00\" fill=\"#000000\">4</text>\n</g>\n<!-- special forms102 -->\n<g id=\"node118\" class=\"node\">\n<title>special forms102</title>\n<ellipse fill=\"none\" stroke=\"#000000\" cx=\"3741.6442\" cy=\"-540\" rx=\"59.5901\" ry=\"18\"/>\n<text text-anchor=\"middle\" x=\"3741.6442\" y=\"-536.3\" font-family=\"Times,serif\" font-size=\"14.00\" fill=\"#000000\">special forms</text>\n</g>\n<!-- class98&#45;&gt;special forms102 -->\n<g id=\"edge117\" class=\"edge\">\n<title>class98&#45;&gt;special forms102</title>\n<path fill=\"none\" stroke=\"#000000\" d=\"M3681.2169,-611.0429C3692.0602,-598.2947 3707.4637,-580.1852 3720.0046,-565.4411\"/>\n<polygon fill=\"#000000\" stroke=\"#000000\" points=\"3722.8172,-567.5365 3726.6302,-557.6516 3717.4851,-563.0012 3722.8172,-567.5365\"/>\n<text text-anchor=\"middle\" x=\"3713.6442\" y=\"-579.8\" font-family=\"Times,serif\" font-size=\"14.00\" fill=\"#000000\">2</text>\n</g>\n<!-- dislocation of106 -->\n<g id=\"node122\" class=\"node\">\n<title>dislocation of106</title>\n<ellipse fill=\"none\" stroke=\"#000000\" cx=\"3885.6442\" cy=\"-540\" rx=\"61.99\" ry=\"18\"/>\n<text text-anchor=\"middle\" x=\"3885.6442\" y=\"-536.3\" font-family=\"Times,serif\" font-size=\"14.00\" fill=\"#000000\">dislocation of</text>\n</g>\n<!-- class98&#45;&gt;dislocation of106 -->\n<g id=\"edge121\" class=\"edge\">\n<title>class98&#45;&gt;dislocation of106</title>\n<path fill=\"none\" stroke=\"#000000\" d=\"M3691.8069,-617.3571C3727.335,-603.1784 3794.3328,-576.4408 3839.4835,-558.4219\"/>\n<polygon fill=\"#000000\" stroke=\"#000000\" points=\"3841.058,-561.5621 3849.0484,-554.6048 3838.4633,-555.0607 3841.058,-561.5621\"/>\n<text text-anchor=\"middle\" x=\"3794.6442\" y=\"-579.8\" font-family=\"Times,serif\" font-size=\"14.00\" fill=\"#000000\">3</text>\n</g>\n<!-- class100 -->\n<g id=\"node116\" class=\"node\">\n<title>class100</title>\n<ellipse fill=\"none\" stroke=\"#000000\" cx=\"3525.6442\" cy=\"-453\" rx=\"27\" ry=\"18\"/>\n<text text-anchor=\"middle\" x=\"3525.6442\" y=\"-449.3\" font-family=\"Times,serif\" font-size=\"14.00\" fill=\"#000000\">7</text>\n</g>\n<!-- exclusion of no99&#45;&gt;class100 -->\n<g id=\"edge115\" class=\"edge\">\n<title>exclusion of no99&#45;&gt;class100</title>\n<path fill=\"none\" stroke=\"#000000\" d=\"M3580.3473,-521.9735C3569.9861,-508.9094 3555.8712,-491.1123 3544.5745,-476.8687\"/>\n<polygon fill=\"#000000\" stroke=\"#000000\" points=\"3547.2548,-474.6157 3538.2986,-468.9556 3541.7703,-478.9655 3547.2548,-474.6157\"/>\n<text text-anchor=\"middle\" x=\"3568.6442\" y=\"-492.8\" font-family=\"Times,serif\" font-size=\"14.00\" fill=\"#000000\">1</text>\n</g>\n<!-- class101 -->\n<g id=\"node117\" class=\"node\">\n<title>class101</title>\n<ellipse fill=\"none\" stroke=\"#000000\" cx=\"3597.6442\" cy=\"-453\" rx=\"27\" ry=\"18\"/>\n<text text-anchor=\"middle\" x=\"3597.6442\" y=\"-449.3\" font-family=\"Times,serif\" font-size=\"14.00\" fill=\"#000000\">4</text>\n</g>\n<!-- exclusion of no99&#45;&gt;class101 -->\n<g id=\"edge116\" class=\"edge\">\n<title>exclusion of no99&#45;&gt;class101</title>\n<path fill=\"none\" stroke=\"#000000\" d=\"M3595.2658,-521.9735C3595.672,-510.1918 3596.211,-494.5607 3596.6732,-481.1581\"/>\n<polygon fill=\"#000000\" stroke=\"#000000\" points=\"3600.1766,-481.1181 3597.0234,-471.0034 3593.1807,-480.8768 3600.1766,-481.1181\"/>\n<text text-anchor=\"middle\" x=\"3600.6442\" y=\"-492.8\" font-family=\"Times,serif\" font-size=\"14.00\" fill=\"#000000\">2</text>\n</g>\n<!-- class103 -->\n<g id=\"node119\" class=\"node\">\n<title>class103</title>\n<ellipse fill=\"none\" stroke=\"#000000\" cx=\"3669.6442\" cy=\"-453\" rx=\"27\" ry=\"18\"/>\n<text text-anchor=\"middle\" x=\"3669.6442\" y=\"-449.3\" font-family=\"Times,serif\" font-size=\"14.00\" fill=\"#000000\">1</text>\n</g>\n<!-- special forms102&#45;&gt;class103 -->\n<g id=\"edge118\" class=\"edge\">\n<title>special forms102&#45;&gt;class103</title>\n<path fill=\"none\" stroke=\"#000000\" d=\"M3727.0739,-522.3943C3716.2194,-509.2785 3701.2784,-491.2247 3689.3568,-476.8195\"/>\n<polygon fill=\"#000000\" stroke=\"#000000\" points=\"3691.8123,-474.2969 3682.7402,-468.8244 3686.4196,-478.7599 3691.8123,-474.2969\"/>\n<text text-anchor=\"middle\" x=\"3714.6442\" y=\"-492.8\" font-family=\"Times,serif\" font-size=\"14.00\" fill=\"#000000\">1</text>\n</g>\n<!-- class104 -->\n<g id=\"node120\" class=\"node\">\n<title>class104</title>\n<ellipse fill=\"none\" stroke=\"#000000\" cx=\"3741.6442\" cy=\"-453\" rx=\"27\" ry=\"18\"/>\n<text text-anchor=\"middle\" x=\"3741.6442\" y=\"-449.3\" font-family=\"Times,serif\" font-size=\"14.00\" fill=\"#000000\">3</text>\n</g>\n<!-- special forms102&#45;&gt;class104 -->\n<g id=\"edge119\" class=\"edge\">\n<title>special forms102&#45;&gt;class104</title>\n<path fill=\"none\" stroke=\"#000000\" d=\"M3741.6442,-521.9735C3741.6442,-510.1918 3741.6442,-494.5607 3741.6442,-481.1581\"/>\n<polygon fill=\"#000000\" stroke=\"#000000\" points=\"3745.1443,-481.0033 3741.6442,-471.0034 3738.1443,-481.0034 3745.1443,-481.0033\"/>\n<text text-anchor=\"middle\" x=\"3745.6442\" y=\"-492.8\" font-family=\"Times,serif\" font-size=\"14.00\" fill=\"#000000\">3</text>\n</g>\n<!-- class105 -->\n<g id=\"node121\" class=\"node\">\n<title>class105</title>\n<ellipse fill=\"none\" stroke=\"#000000\" cx=\"3813.6442\" cy=\"-453\" rx=\"27\" ry=\"18\"/>\n<text text-anchor=\"middle\" x=\"3813.6442\" y=\"-449.3\" font-family=\"Times,serif\" font-size=\"14.00\" fill=\"#000000\">2</text>\n</g>\n<!-- special forms102&#45;&gt;class105 -->\n<g id=\"edge120\" class=\"edge\">\n<title>special forms102&#45;&gt;class105</title>\n<path fill=\"none\" stroke=\"#000000\" d=\"M3756.2144,-522.3943C3767.0689,-509.2785 3782.0099,-491.2247 3793.9315,-476.8195\"/>\n<polygon fill=\"#000000\" stroke=\"#000000\" points=\"3796.8688,-478.7599 3800.5481,-468.8244 3791.476,-474.2969 3796.8688,-478.7599\"/>\n<text text-anchor=\"middle\" x=\"3786.6442\" y=\"-492.8\" font-family=\"Times,serif\" font-size=\"14.00\" fill=\"#000000\">2</text>\n</g>\n<!-- class107 -->\n<g id=\"node123\" class=\"node\">\n<title>class107</title>\n<ellipse fill=\"none\" stroke=\"#000000\" cx=\"3885.6442\" cy=\"-453\" rx=\"27\" ry=\"18\"/>\n<text text-anchor=\"middle\" x=\"3885.6442\" y=\"-449.3\" font-family=\"Times,serif\" font-size=\"14.00\" fill=\"#000000\">2</text>\n</g>\n<!-- dislocation of106&#45;&gt;class107 -->\n<g id=\"edge122\" class=\"edge\">\n<title>dislocation of106&#45;&gt;class107</title>\n<path fill=\"none\" stroke=\"#000000\" d=\"M3885.6442,-521.9735C3885.6442,-510.1918 3885.6442,-494.5607 3885.6442,-481.1581\"/>\n<polygon fill=\"#000000\" stroke=\"#000000\" points=\"3889.1443,-481.0033 3885.6442,-471.0034 3882.1443,-481.0034 3889.1443,-481.0033\"/>\n<text text-anchor=\"middle\" x=\"3889.6442\" y=\"-492.8\" font-family=\"Times,serif\" font-size=\"14.00\" fill=\"#000000\">2</text>\n</g>\n<!-- class108 -->\n<g id=\"node124\" class=\"node\">\n<title>class108</title>\n<ellipse fill=\"none\" stroke=\"#000000\" cx=\"3957.6442\" cy=\"-453\" rx=\"27\" ry=\"18\"/>\n<text text-anchor=\"middle\" x=\"3957.6442\" y=\"-449.3\" font-family=\"Times,serif\" font-size=\"14.00\" fill=\"#000000\">8</text>\n</g>\n<!-- dislocation of106&#45;&gt;class108 -->\n<g id=\"edge123\" class=\"edge\">\n<title>dislocation of106&#45;&gt;class108</title>\n<path fill=\"none\" stroke=\"#000000\" d=\"M3900.2144,-522.3943C3911.0689,-509.2785 3926.0099,-491.2247 3937.9315,-476.8195\"/>\n<polygon fill=\"#000000\" stroke=\"#000000\" points=\"3940.8688,-478.7599 3944.5481,-468.8244 3935.476,-474.2969 3940.8688,-478.7599\"/>\n<text text-anchor=\"middle\" x=\"3929.6442\" y=\"-492.8\" font-family=\"Times,serif\" font-size=\"14.00\" fill=\"#000000\">1</text>\n</g>\n</g>\n</svg>\n"
          },
          "metadata": {},
          "execution_count": 118
        }
      ]
    },
    {
      "cell_type": "markdown",
      "source": [
        "##Predicting on Train Dataset"
      ],
      "metadata": {
        "id": "e9oJyP5sEdkK"
      }
    },
    {
      "cell_type": "code",
      "source": [
        "y_train_pred=d.predict(df)\n",
        "print(accuracy_score(df[target_name].tolist(),y_train_pred))"
      ],
      "metadata": {
        "colab": {
          "base_uri": "https://localhost:8080/"
        },
        "outputId": "1454d888-a300-418f-dd02-ef96c50732d7",
        "id": "gJVGOqSZEdkK"
      },
      "execution_count": 119,
      "outputs": [
        {
          "output_type": "stream",
          "name": "stderr",
          "text": [
            "/usr/local/lib/python3.7/dist-packages/ipykernel_launcher.py:157: FutureWarning: elementwise comparison failed; returning scalar instead, but in the future will perform elementwise comparison\n"
          ]
        },
        {
          "output_type": "stream",
          "name": "stdout",
          "text": [
            "100.0\n"
          ]
        }
      ]
    },
    {
      "cell_type": "markdown",
      "source": [
        "##Predicting on Test Dataset"
      ],
      "metadata": {
        "id": "bBsXE43gEdkK"
      }
    },
    {
      "cell_type": "code",
      "source": [
        "y_test_pred=d.predict(test_df)\n",
        "accuracy_score(test_df[target_name].tolist(),y_test_pred)"
      ],
      "metadata": {
        "colab": {
          "base_uri": "https://localhost:8080/"
        },
        "outputId": "9586d9ad-5386-4731-bb48-b1394fc97ccd",
        "id": "ZF45Te7WEdkK"
      },
      "execution_count": 120,
      "outputs": [
        {
          "output_type": "stream",
          "name": "stderr",
          "text": [
            "/usr/local/lib/python3.7/dist-packages/ipykernel_launcher.py:157: FutureWarning: elementwise comparison failed; returning scalar instead, but in the future will perform elementwise comparison\n"
          ]
        },
        {
          "output_type": "execute_result",
          "data": {
            "text/plain": [
              "75.0"
            ]
          },
          "metadata": {},
          "execution_count": 120
        }
      ]
    },
    {
      "cell_type": "code",
      "source": [],
      "metadata": {
        "id": "zhJMB3tzEdkK"
      },
      "execution_count": 120,
      "outputs": []
    },
    {
      "cell_type": "markdown",
      "source": [
        "#Heart Dataset"
      ],
      "metadata": {
        "id": "SnUu-0J4FBDm"
      }
    },
    {
      "cell_type": "code",
      "source": [
        "## Variables ##\n",
        "dataset='heart'\n",
        "split_func='IG'"
      ],
      "metadata": {
        "id": "UOf1Dnl6FBD2"
      },
      "execution_count": 121,
      "outputs": []
    },
    {
      "cell_type": "markdown",
      "source": [
        "##Reading Datast"
      ],
      "metadata": {
        "id": "vsGVBqewFBD2"
      }
    },
    {
      "cell_type": "code",
      "source": [
        "dataset_url,target_name=datasets[dataset]\n",
        "data=pd.read_csv(dataset_url)\n",
        "data=data.applymap(lambda x: x.strip() if isinstance(x, str) else x)"
      ],
      "metadata": {
        "id": "L4eMHDtqFBD2"
      },
      "execution_count": 122,
      "outputs": []
    },
    {
      "cell_type": "code",
      "source": [
        "data"
      ],
      "metadata": {
        "colab": {
          "base_uri": "https://localhost:8080/",
          "height": 0
        },
        "outputId": "31061cf1-2994-43da-a7a2-3e11c98eeca0",
        "id": "jycjBMpfFBD2"
      },
      "execution_count": 123,
      "outputs": [
        {
          "output_type": "execute_result",
          "data": {
            "text/plain": [
              "    diagnosis  F1  F2  F3  F4  F5  F6  F7  F8  F9  ...  F13  F14  F15  F16  \\\n",
              "0           1   0   0   0   1   0   0   0   1   1  ...    1    1    0    0   \n",
              "1           1   0   0   1   1   0   0   0   1   1  ...    1    1    0    0   \n",
              "2           1   1   0   1   0   1   0   0   1   0  ...    1    0    0    0   \n",
              "3           1   0   0   0   0   0   0   0   0   0  ...    0    0    0    0   \n",
              "4           1   0   0   0   0   0   0   0   1   0  ...    1    0    1    1   \n",
              "..        ...  ..  ..  ..  ..  ..  ..  ..  ..  ..  ...  ...  ...  ...  ...   \n",
              "75          0   1   0   0   0   1   0   0   0   0  ...    0    0    0    0   \n",
              "76          0   1   0   0   0   1   1   0   0   1  ...    0    1    0    0   \n",
              "77          0   1   0   0   0   1   0   0   0   0  ...    0    0    0    0   \n",
              "78          0   0   0   1   1   0   0   1   0   0  ...    1    1    0    0   \n",
              "79          0   1   0   0   0   1   0   0   0   0  ...    0    0    0    0   \n",
              "\n",
              "    F17  F18  F19  F20  F21  F22  \n",
              "0     0    0    0    0    0    0  \n",
              "1     0    0    0    0    0    1  \n",
              "2     0    0    0    0    0    0  \n",
              "3     0    0    0    1    1    1  \n",
              "4     0    0    0    0    0    0  \n",
              "..  ...  ...  ...  ...  ...  ...  \n",
              "75    0    0    0    0    0    0  \n",
              "76    0    0    1    1    0    0  \n",
              "77    0    0    1    0    0    0  \n",
              "78    0    0    0    0    1    1  \n",
              "79    0    0    0    0    0    0  \n",
              "\n",
              "[80 rows x 23 columns]"
            ],
            "text/html": [
              "\n",
              "  <div id=\"df-10f0dd01-3af1-4b00-8f64-753bda0e9139\">\n",
              "    <div class=\"colab-df-container\">\n",
              "      <div>\n",
              "<style scoped>\n",
              "    .dataframe tbody tr th:only-of-type {\n",
              "        vertical-align: middle;\n",
              "    }\n",
              "\n",
              "    .dataframe tbody tr th {\n",
              "        vertical-align: top;\n",
              "    }\n",
              "\n",
              "    .dataframe thead th {\n",
              "        text-align: right;\n",
              "    }\n",
              "</style>\n",
              "<table border=\"1\" class=\"dataframe\">\n",
              "  <thead>\n",
              "    <tr style=\"text-align: right;\">\n",
              "      <th></th>\n",
              "      <th>diagnosis</th>\n",
              "      <th>F1</th>\n",
              "      <th>F2</th>\n",
              "      <th>F3</th>\n",
              "      <th>F4</th>\n",
              "      <th>F5</th>\n",
              "      <th>F6</th>\n",
              "      <th>F7</th>\n",
              "      <th>F8</th>\n",
              "      <th>F9</th>\n",
              "      <th>...</th>\n",
              "      <th>F13</th>\n",
              "      <th>F14</th>\n",
              "      <th>F15</th>\n",
              "      <th>F16</th>\n",
              "      <th>F17</th>\n",
              "      <th>F18</th>\n",
              "      <th>F19</th>\n",
              "      <th>F20</th>\n",
              "      <th>F21</th>\n",
              "      <th>F22</th>\n",
              "    </tr>\n",
              "  </thead>\n",
              "  <tbody>\n",
              "    <tr>\n",
              "      <th>0</th>\n",
              "      <td>1</td>\n",
              "      <td>0</td>\n",
              "      <td>0</td>\n",
              "      <td>0</td>\n",
              "      <td>1</td>\n",
              "      <td>0</td>\n",
              "      <td>0</td>\n",
              "      <td>0</td>\n",
              "      <td>1</td>\n",
              "      <td>1</td>\n",
              "      <td>...</td>\n",
              "      <td>1</td>\n",
              "      <td>1</td>\n",
              "      <td>0</td>\n",
              "      <td>0</td>\n",
              "      <td>0</td>\n",
              "      <td>0</td>\n",
              "      <td>0</td>\n",
              "      <td>0</td>\n",
              "      <td>0</td>\n",
              "      <td>0</td>\n",
              "    </tr>\n",
              "    <tr>\n",
              "      <th>1</th>\n",
              "      <td>1</td>\n",
              "      <td>0</td>\n",
              "      <td>0</td>\n",
              "      <td>1</td>\n",
              "      <td>1</td>\n",
              "      <td>0</td>\n",
              "      <td>0</td>\n",
              "      <td>0</td>\n",
              "      <td>1</td>\n",
              "      <td>1</td>\n",
              "      <td>...</td>\n",
              "      <td>1</td>\n",
              "      <td>1</td>\n",
              "      <td>0</td>\n",
              "      <td>0</td>\n",
              "      <td>0</td>\n",
              "      <td>0</td>\n",
              "      <td>0</td>\n",
              "      <td>0</td>\n",
              "      <td>0</td>\n",
              "      <td>1</td>\n",
              "    </tr>\n",
              "    <tr>\n",
              "      <th>2</th>\n",
              "      <td>1</td>\n",
              "      <td>1</td>\n",
              "      <td>0</td>\n",
              "      <td>1</td>\n",
              "      <td>0</td>\n",
              "      <td>1</td>\n",
              "      <td>0</td>\n",
              "      <td>0</td>\n",
              "      <td>1</td>\n",
              "      <td>0</td>\n",
              "      <td>...</td>\n",
              "      <td>1</td>\n",
              "      <td>0</td>\n",
              "      <td>0</td>\n",
              "      <td>0</td>\n",
              "      <td>0</td>\n",
              "      <td>0</td>\n",
              "      <td>0</td>\n",
              "      <td>0</td>\n",
              "      <td>0</td>\n",
              "      <td>0</td>\n",
              "    </tr>\n",
              "    <tr>\n",
              "      <th>3</th>\n",
              "      <td>1</td>\n",
              "      <td>0</td>\n",
              "      <td>0</td>\n",
              "      <td>0</td>\n",
              "      <td>0</td>\n",
              "      <td>0</td>\n",
              "      <td>0</td>\n",
              "      <td>0</td>\n",
              "      <td>0</td>\n",
              "      <td>0</td>\n",
              "      <td>...</td>\n",
              "      <td>0</td>\n",
              "      <td>0</td>\n",
              "      <td>0</td>\n",
              "      <td>0</td>\n",
              "      <td>0</td>\n",
              "      <td>0</td>\n",
              "      <td>0</td>\n",
              "      <td>1</td>\n",
              "      <td>1</td>\n",
              "      <td>1</td>\n",
              "    </tr>\n",
              "    <tr>\n",
              "      <th>4</th>\n",
              "      <td>1</td>\n",
              "      <td>0</td>\n",
              "      <td>0</td>\n",
              "      <td>0</td>\n",
              "      <td>0</td>\n",
              "      <td>0</td>\n",
              "      <td>0</td>\n",
              "      <td>0</td>\n",
              "      <td>1</td>\n",
              "      <td>0</td>\n",
              "      <td>...</td>\n",
              "      <td>1</td>\n",
              "      <td>0</td>\n",
              "      <td>1</td>\n",
              "      <td>1</td>\n",
              "      <td>0</td>\n",
              "      <td>0</td>\n",
              "      <td>0</td>\n",
              "      <td>0</td>\n",
              "      <td>0</td>\n",
              "      <td>0</td>\n",
              "    </tr>\n",
              "    <tr>\n",
              "      <th>...</th>\n",
              "      <td>...</td>\n",
              "      <td>...</td>\n",
              "      <td>...</td>\n",
              "      <td>...</td>\n",
              "      <td>...</td>\n",
              "      <td>...</td>\n",
              "      <td>...</td>\n",
              "      <td>...</td>\n",
              "      <td>...</td>\n",
              "      <td>...</td>\n",
              "      <td>...</td>\n",
              "      <td>...</td>\n",
              "      <td>...</td>\n",
              "      <td>...</td>\n",
              "      <td>...</td>\n",
              "      <td>...</td>\n",
              "      <td>...</td>\n",
              "      <td>...</td>\n",
              "      <td>...</td>\n",
              "      <td>...</td>\n",
              "      <td>...</td>\n",
              "    </tr>\n",
              "    <tr>\n",
              "      <th>75</th>\n",
              "      <td>0</td>\n",
              "      <td>1</td>\n",
              "      <td>0</td>\n",
              "      <td>0</td>\n",
              "      <td>0</td>\n",
              "      <td>1</td>\n",
              "      <td>0</td>\n",
              "      <td>0</td>\n",
              "      <td>0</td>\n",
              "      <td>0</td>\n",
              "      <td>...</td>\n",
              "      <td>0</td>\n",
              "      <td>0</td>\n",
              "      <td>0</td>\n",
              "      <td>0</td>\n",
              "      <td>0</td>\n",
              "      <td>0</td>\n",
              "      <td>0</td>\n",
              "      <td>0</td>\n",
              "      <td>0</td>\n",
              "      <td>0</td>\n",
              "    </tr>\n",
              "    <tr>\n",
              "      <th>76</th>\n",
              "      <td>0</td>\n",
              "      <td>1</td>\n",
              "      <td>0</td>\n",
              "      <td>0</td>\n",
              "      <td>0</td>\n",
              "      <td>1</td>\n",
              "      <td>1</td>\n",
              "      <td>0</td>\n",
              "      <td>0</td>\n",
              "      <td>1</td>\n",
              "      <td>...</td>\n",
              "      <td>0</td>\n",
              "      <td>1</td>\n",
              "      <td>0</td>\n",
              "      <td>0</td>\n",
              "      <td>0</td>\n",
              "      <td>0</td>\n",
              "      <td>1</td>\n",
              "      <td>1</td>\n",
              "      <td>0</td>\n",
              "      <td>0</td>\n",
              "    </tr>\n",
              "    <tr>\n",
              "      <th>77</th>\n",
              "      <td>0</td>\n",
              "      <td>1</td>\n",
              "      <td>0</td>\n",
              "      <td>0</td>\n",
              "      <td>0</td>\n",
              "      <td>1</td>\n",
              "      <td>0</td>\n",
              "      <td>0</td>\n",
              "      <td>0</td>\n",
              "      <td>0</td>\n",
              "      <td>...</td>\n",
              "      <td>0</td>\n",
              "      <td>0</td>\n",
              "      <td>0</td>\n",
              "      <td>0</td>\n",
              "      <td>0</td>\n",
              "      <td>0</td>\n",
              "      <td>1</td>\n",
              "      <td>0</td>\n",
              "      <td>0</td>\n",
              "      <td>0</td>\n",
              "    </tr>\n",
              "    <tr>\n",
              "      <th>78</th>\n",
              "      <td>0</td>\n",
              "      <td>0</td>\n",
              "      <td>0</td>\n",
              "      <td>1</td>\n",
              "      <td>1</td>\n",
              "      <td>0</td>\n",
              "      <td>0</td>\n",
              "      <td>1</td>\n",
              "      <td>0</td>\n",
              "      <td>0</td>\n",
              "      <td>...</td>\n",
              "      <td>1</td>\n",
              "      <td>1</td>\n",
              "      <td>0</td>\n",
              "      <td>0</td>\n",
              "      <td>0</td>\n",
              "      <td>0</td>\n",
              "      <td>0</td>\n",
              "      <td>0</td>\n",
              "      <td>1</td>\n",
              "      <td>1</td>\n",
              "    </tr>\n",
              "    <tr>\n",
              "      <th>79</th>\n",
              "      <td>0</td>\n",
              "      <td>1</td>\n",
              "      <td>0</td>\n",
              "      <td>0</td>\n",
              "      <td>0</td>\n",
              "      <td>1</td>\n",
              "      <td>0</td>\n",
              "      <td>0</td>\n",
              "      <td>0</td>\n",
              "      <td>0</td>\n",
              "      <td>...</td>\n",
              "      <td>0</td>\n",
              "      <td>0</td>\n",
              "      <td>0</td>\n",
              "      <td>0</td>\n",
              "      <td>0</td>\n",
              "      <td>0</td>\n",
              "      <td>0</td>\n",
              "      <td>0</td>\n",
              "      <td>0</td>\n",
              "      <td>0</td>\n",
              "    </tr>\n",
              "  </tbody>\n",
              "</table>\n",
              "<p>80 rows × 23 columns</p>\n",
              "</div>\n",
              "      <button class=\"colab-df-convert\" onclick=\"convertToInteractive('df-10f0dd01-3af1-4b00-8f64-753bda0e9139')\"\n",
              "              title=\"Convert this dataframe to an interactive table.\"\n",
              "              style=\"display:none;\">\n",
              "        \n",
              "  <svg xmlns=\"http://www.w3.org/2000/svg\" height=\"24px\"viewBox=\"0 0 24 24\"\n",
              "       width=\"24px\">\n",
              "    <path d=\"M0 0h24v24H0V0z\" fill=\"none\"/>\n",
              "    <path d=\"M18.56 5.44l.94 2.06.94-2.06 2.06-.94-2.06-.94-.94-2.06-.94 2.06-2.06.94zm-11 1L8.5 8.5l.94-2.06 2.06-.94-2.06-.94L8.5 2.5l-.94 2.06-2.06.94zm10 10l.94 2.06.94-2.06 2.06-.94-2.06-.94-.94-2.06-.94 2.06-2.06.94z\"/><path d=\"M17.41 7.96l-1.37-1.37c-.4-.4-.92-.59-1.43-.59-.52 0-1.04.2-1.43.59L10.3 9.45l-7.72 7.72c-.78.78-.78 2.05 0 2.83L4 21.41c.39.39.9.59 1.41.59.51 0 1.02-.2 1.41-.59l7.78-7.78 2.81-2.81c.8-.78.8-2.07 0-2.86zM5.41 20L4 18.59l7.72-7.72 1.47 1.35L5.41 20z\"/>\n",
              "  </svg>\n",
              "      </button>\n",
              "      \n",
              "  <style>\n",
              "    .colab-df-container {\n",
              "      display:flex;\n",
              "      flex-wrap:wrap;\n",
              "      gap: 12px;\n",
              "    }\n",
              "\n",
              "    .colab-df-convert {\n",
              "      background-color: #E8F0FE;\n",
              "      border: none;\n",
              "      border-radius: 50%;\n",
              "      cursor: pointer;\n",
              "      display: none;\n",
              "      fill: #1967D2;\n",
              "      height: 32px;\n",
              "      padding: 0 0 0 0;\n",
              "      width: 32px;\n",
              "    }\n",
              "\n",
              "    .colab-df-convert:hover {\n",
              "      background-color: #E2EBFA;\n",
              "      box-shadow: 0px 1px 2px rgba(60, 64, 67, 0.3), 0px 1px 3px 1px rgba(60, 64, 67, 0.15);\n",
              "      fill: #174EA6;\n",
              "    }\n",
              "\n",
              "    [theme=dark] .colab-df-convert {\n",
              "      background-color: #3B4455;\n",
              "      fill: #D2E3FC;\n",
              "    }\n",
              "\n",
              "    [theme=dark] .colab-df-convert:hover {\n",
              "      background-color: #434B5C;\n",
              "      box-shadow: 0px 1px 3px 1px rgba(0, 0, 0, 0.15);\n",
              "      filter: drop-shadow(0px 1px 2px rgba(0, 0, 0, 0.3));\n",
              "      fill: #FFFFFF;\n",
              "    }\n",
              "  </style>\n",
              "\n",
              "      <script>\n",
              "        const buttonEl =\n",
              "          document.querySelector('#df-10f0dd01-3af1-4b00-8f64-753bda0e9139 button.colab-df-convert');\n",
              "        buttonEl.style.display =\n",
              "          google.colab.kernel.accessAllowed ? 'block' : 'none';\n",
              "\n",
              "        async function convertToInteractive(key) {\n",
              "          const element = document.querySelector('#df-10f0dd01-3af1-4b00-8f64-753bda0e9139');\n",
              "          const dataTable =\n",
              "            await google.colab.kernel.invokeFunction('convertToInteractive',\n",
              "                                                     [key], {});\n",
              "          if (!dataTable) return;\n",
              "\n",
              "          const docLinkHtml = 'Like what you see? Visit the ' +\n",
              "            '<a target=\"_blank\" href=https://colab.research.google.com/notebooks/data_table.ipynb>data table notebook</a>'\n",
              "            + ' to learn more about interactive tables.';\n",
              "          element.innerHTML = '';\n",
              "          dataTable['output_type'] = 'display_data';\n",
              "          await google.colab.output.renderOutput(dataTable, element);\n",
              "          const docLink = document.createElement('div');\n",
              "          docLink.innerHTML = docLinkHtml;\n",
              "          element.appendChild(docLink);\n",
              "        }\n",
              "      </script>\n",
              "    </div>\n",
              "  </div>\n",
              "  "
            ]
          },
          "metadata": {},
          "execution_count": 123
        }
      ]
    },
    {
      "cell_type": "code",
      "source": [
        "data.dtypes"
      ],
      "metadata": {
        "colab": {
          "base_uri": "https://localhost:8080/"
        },
        "outputId": "1d07026c-e71e-47cf-c9c5-a1e07deb41ac",
        "id": "1oZqMgwrFBD3"
      },
      "execution_count": 124,
      "outputs": [
        {
          "output_type": "execute_result",
          "data": {
            "text/plain": [
              "diagnosis    int64\n",
              "F1           int64\n",
              "F2           int64\n",
              "F3           int64\n",
              "F4           int64\n",
              "F5           int64\n",
              "F6           int64\n",
              "F7           int64\n",
              "F8           int64\n",
              "F9           int64\n",
              "F10          int64\n",
              "F11          int64\n",
              "F12          int64\n",
              "F13          int64\n",
              "F14          int64\n",
              "F15          int64\n",
              "F16          int64\n",
              "F17          int64\n",
              "F18          int64\n",
              "F19          int64\n",
              "F20          int64\n",
              "F21          int64\n",
              "F22          int64\n",
              "dtype: object"
            ]
          },
          "metadata": {},
          "execution_count": 124
        }
      ]
    },
    {
      "cell_type": "code",
      "source": [
        "# test_df=data\n",
        "df,test_df=train_test_split(data,0.3)\n",
        "print(\"Size of Train Dataset: \",len(df),\"\\n\",\"Size of Test Dataset: \",len(test_df))\n",
        "\n",
        "\n",
        "# from sklearn.model_selection import train_test_split\n",
        "# df,test_df=test_train_split(df,test_size=0.3)"
      ],
      "metadata": {
        "colab": {
          "base_uri": "https://localhost:8080/"
        },
        "outputId": "b27b1009-5445-4fdd-c513-6f4a472a4fe3",
        "id": "CHbeUtCPFBD3"
      },
      "execution_count": 125,
      "outputs": [
        {
          "output_type": "stream",
          "name": "stdout",
          "text": [
            "Size of Train Dataset:  56 \n",
            " Size of Test Dataset:  24\n"
          ]
        }
      ]
    },
    {
      "cell_type": "code",
      "source": [
        "print(df.count())\n",
        "print(sum(df[target_name].value_counts().to_dict().values()))"
      ],
      "metadata": {
        "colab": {
          "base_uri": "https://localhost:8080/"
        },
        "outputId": "04dcdab5-b519-4e60-c50c-b79f4b7ddfd1",
        "id": "ZHhZNXm3FBD3"
      },
      "execution_count": 126,
      "outputs": [
        {
          "output_type": "stream",
          "name": "stdout",
          "text": [
            "diagnosis    56\n",
            "F1           56\n",
            "F2           56\n",
            "F3           56\n",
            "F4           56\n",
            "F5           56\n",
            "F6           56\n",
            "F7           56\n",
            "F8           56\n",
            "F9           56\n",
            "F10          56\n",
            "F11          56\n",
            "F12          56\n",
            "F13          56\n",
            "F14          56\n",
            "F15          56\n",
            "F16          56\n",
            "F17          56\n",
            "F18          56\n",
            "F19          56\n",
            "F20          56\n",
            "F21          56\n",
            "F22          56\n",
            "dtype: int64\n",
            "56\n"
          ]
        }
      ]
    },
    {
      "cell_type": "markdown",
      "source": [
        "##Descion Tree Training"
      ],
      "metadata": {
        "id": "FpIu92Y7FBD3"
      }
    },
    {
      "cell_type": "code",
      "source": [
        "d=DecisionTree(data,target_name,split_function=split_func)"
      ],
      "metadata": {
        "id": "piMYBl9vFBD4"
      },
      "execution_count": 127,
      "outputs": []
    },
    {
      "cell_type": "code",
      "source": [
        "d.construct()"
      ],
      "metadata": {
        "id": "5GepeBNvFBD4"
      },
      "execution_count": 128,
      "outputs": []
    },
    {
      "cell_type": "code",
      "source": [
        "print(d.tree.no_leafs)"
      ],
      "metadata": {
        "colab": {
          "base_uri": "https://localhost:8080/"
        },
        "outputId": "9977070e-d87a-4bf2-cae1-a3ea8646d7ee",
        "id": "MZ1bWPrKFBD4"
      },
      "execution_count": 129,
      "outputs": [
        {
          "output_type": "stream",
          "name": "stdout",
          "text": [
            "16\n"
          ]
        }
      ]
    },
    {
      "cell_type": "code",
      "source": [
        "d.get_rules()"
      ],
      "metadata": {
        "colab": {
          "base_uri": "https://localhost:8080/"
        },
        "outputId": "f66183a5-e76b-475f-94e4-c7ccaf4d41e8",
        "id": "BskMi2MQFBD4"
      },
      "execution_count": 130,
      "outputs": [
        {
          "output_type": "stream",
          "name": "stderr",
          "text": [
            "/usr/local/lib/python3.7/dist-packages/ipykernel_launcher.py:175: FutureWarning: elementwise comparison failed; returning scalar instead, but in the future will perform elementwise comparison\n"
          ]
        },
        {
          "output_type": "execute_result",
          "data": {
            "text/plain": [
              "['F16 ->  ( 0 ) F11 ->  ( 0 ) F13 ->  ( 0 ) F22 ->  ( 0 ) F20 ->  ( 0 ) 0',\n",
              " 'F16 ->  ( 0 ) F11 ->  ( 0 ) F13 ->  ( 0 ) F22 ->  ( 0 ) F20 ->  ( 1 ) F19 ->  ( 1 ) 0',\n",
              " 'F16 ->  ( 0 ) F11 ->  ( 0 ) F13 ->  ( 0 ) F22 ->  ( 1 ) F10 ->  ( 0 ) F7 ->  ( 0 ) F20 ->  ( 1 ) 0',\n",
              " 'F16 ->  ( 0 ) F11 ->  ( 0 ) F13 ->  ( 0 ) F22 ->  ( 1 ) F10 ->  ( 0 ) F7 ->  ( 1 ) 1',\n",
              " 'F16 ->  ( 0 ) F11 ->  ( 0 ) F13 ->  ( 0 ) F22 ->  ( 1 ) F10 ->  ( 1 ) 0',\n",
              " 'F16 ->  ( 0 ) F11 ->  ( 0 ) F13 ->  ( 1 ) F5 ->  ( 0 ) F8 ->  ( 1 ) F10 ->  ( 0 ) 1',\n",
              " 'F16 ->  ( 0 ) F11 ->  ( 0 ) F13 ->  ( 1 ) F5 ->  ( 0 ) F8 ->  ( 1 ) F10 ->  ( 1 ) F22 ->  ( 1 ) 1',\n",
              " 'F16 ->  ( 0 ) F11 ->  ( 0 ) F13 ->  ( 1 ) F5 ->  ( 0 ) F8 ->  ( 1 ) F10 ->  ( 1 ) F22 ->  ( 0 ) 0',\n",
              " 'F16 ->  ( 0 ) F11 ->  ( 0 ) F13 ->  ( 1 ) F5 ->  ( 0 ) F8 ->  ( 0 ) 0',\n",
              " 'F16 ->  ( 0 ) F11 ->  ( 0 ) F13 ->  ( 1 ) F5 ->  ( 1 ) 1',\n",
              " 'F16 ->  ( 0 ) F11 ->  ( 1 ) F22 ->  ( 0 ) F19 ->  ( 0 ) F10 ->  ( 0 ) F8 ->  ( 0 ) 0',\n",
              " 'F16 ->  ( 0 ) F11 ->  ( 1 ) F22 ->  ( 0 ) F19 ->  ( 0 ) F10 ->  ( 0 ) F8 ->  ( 1 ) 1',\n",
              " 'F16 ->  ( 0 ) F11 ->  ( 1 ) F22 ->  ( 0 ) F19 ->  ( 0 ) F10 ->  ( 1 ) 1',\n",
              " 'F16 ->  ( 0 ) F11 ->  ( 1 ) F22 ->  ( 0 ) F19 ->  ( 1 ) 1',\n",
              " 'F16 ->  ( 0 ) F11 ->  ( 1 ) F22 ->  ( 1 ) 1',\n",
              " 'F16 ->  ( 1 ) 1']"
            ]
          },
          "metadata": {},
          "execution_count": 130
        }
      ]
    },
    {
      "cell_type": "code",
      "source": [
        "d.tree.printt()"
      ],
      "metadata": {
        "colab": {
          "base_uri": "https://localhost:8080/"
        },
        "outputId": "bf00009c-d105-4496-c06e-76c96ae8cbc4",
        "id": "ZFNzG1RUFBD4"
      },
      "execution_count": 131,
      "outputs": [
        {
          "output_type": "stream",
          "name": "stdout",
          "text": [
            "| F16\n",
            "|----- F11\n",
            "|---------- F13\n",
            "|--------------- F22\n",
            "|-------------------- F20\n",
            "|------------------------- 0\n",
            "|------------------------- ( 1) F19\n",
            "|------------------------------ F21\n",
            "|----------------------------------- F18\n",
            "|---------------------------------------- F17\n",
            "|--------------------------------------------- F15\n",
            "|-------------------------------------------------- F14\n",
            "|------------------------------------------------------- F12\n",
            "|------------------------------------------------------------ F10\n",
            "|----------------------------------------------------------------- F9\n",
            "|---------------------------------------------------------------------- F8\n",
            "|--------------------------------------------------------------------------- F7\n",
            "|-------------------------------------------------------------------------------- F6\n",
            "|------------------------------------------------------------------------------------- F5\n",
            "|------------------------------------------------------------------------------------------ F4\n",
            "|----------------------------------------------------------------------------------------------- F3\n",
            "|---------------------------------------------------------------------------------------------------- F2\n",
            "|--------------------------------------------------------------------------------------------------------- F1\n",
            "|-------------------------------------------------------------------------------------------------------------- \n",
            "|------------------------------ ( 1) 0\n",
            "|-------------------- ( 1) F102\n",
            "|------------------------- F73\n",
            "|------------------------------ F204\n",
            "|----------------------------------- ( 1) 0\n",
            "|----------------------------------- F216\n",
            "|---------------------------------------- F197\n",
            "|--------------------------------------------- F188\n",
            "|-------------------------------------------------- F179\n",
            "|------------------------------------------------------- F1510\n",
            "|------------------------------------------------------------ F1411\n",
            "|----------------------------------------------------------------- F1212\n",
            "|---------------------------------------------------------------------- F913\n",
            "|--------------------------------------------------------------------------- F814\n",
            "|-------------------------------------------------------------------------------- F615\n",
            "|------------------------------------------------------------------------------------- F516\n",
            "|------------------------------------------------------------------------------------------ F417\n",
            "|----------------------------------------------------------------------------------------------- F318\n",
            "|---------------------------------------------------------------------------------------------------- F219\n",
            "|--------------------------------------------------------------------------------------------------------- F120\n",
            "|-------------------------------------------------------------------------------------------------------------- 21\n",
            "|------------------------------ ( 1) 1\n",
            "|------------------------- ( 1) 0\n",
            "|--------------- ( 1) F524\n",
            "|-------------------- F825\n",
            "|------------------------- ( 1) F1026\n",
            "|------------------------------ 1\n",
            "|------------------------------ ( 1) F2228\n",
            "|----------------------------------- ( 1) 1\n",
            "|----------------------------------- 0\n",
            "|------------------------- 0\n",
            "|-------------------- ( 1) 1\n",
            "|---------- ( 1) F2233\n",
            "|--------------- F1934\n",
            "|-------------------- F1035\n",
            "|------------------------- F836\n",
            "|------------------------------ 0\n",
            "|------------------------------ ( 1) 1\n",
            "|------------------------- ( 1) 1\n",
            "|-------------------- ( 1) 1\n",
            "|--------------- ( 1) 1\n",
            "|----- ( 1) 1\n"
          ]
        }
      ]
    },
    {
      "cell_type": "markdown",
      "source": [
        "##Graphviz Representation of Decision Tree"
      ],
      "metadata": {
        "id": "7-Z9yZ9_FBD4"
      }
    },
    {
      "cell_type": "code",
      "source": [
        "f = open(\"Heart.dot\", \"w\")\n",
        "f.write(str(d.getGraph()))\n",
        "f.close()"
      ],
      "metadata": {
        "id": "6ARzTyu_N9Hj"
      },
      "execution_count": 132,
      "outputs": []
    },
    {
      "cell_type": "code",
      "source": [
        "d.getGraph()"
      ],
      "metadata": {
        "colab": {
          "base_uri": "https://localhost:8080/",
          "height": 0
        },
        "outputId": "1d9bc418-e55d-4475-8528-6df9aa118395",
        "id": "UfTd9xPnFBD5"
      },
      "execution_count": 133,
      "outputs": [
        {
          "output_type": "execute_result",
          "data": {
            "text/plain": [
              "<graphviz.dot.Digraph at 0x7f0fa13a28d0>"
            ],
            "image/svg+xml": "<?xml version=\"1.0\" encoding=\"UTF-8\" standalone=\"no\"?>\n<!DOCTYPE svg PUBLIC \"-//W3C//DTD SVG 1.1//EN\"\n \"http://www.w3.org/Graphics/SVG/1.1/DTD/svg11.dtd\">\n<!-- Generated by graphviz version 2.40.1 (20161225.0304)\n -->\n<!-- Title: %3 Pages: 1 -->\n<svg width=\"566pt\" height=\"1958pt\"\n viewBox=\"0.00 0.00 566.00 1958.00\" xmlns=\"http://www.w3.org/2000/svg\" xmlns:xlink=\"http://www.w3.org/1999/xlink\">\n<g id=\"graph0\" class=\"graph\" transform=\"scale(1 1) rotate(0) translate(4 1954)\">\n<title>%3</title>\n<polygon fill=\"#ffffff\" stroke=\"transparent\" points=\"-4,4 -4,-1954 562,-1954 562,4 -4,4\"/>\n<!-- F16 -->\n<g id=\"node1\" class=\"node\">\n<title>F16</title>\n<ellipse fill=\"none\" stroke=\"#000000\" cx=\"460\" cy=\"-1932\" rx=\"27\" ry=\"18\"/>\n<text text-anchor=\"middle\" x=\"460\" y=\"-1928.3\" font-family=\"Times,serif\" font-size=\"14.00\" fill=\"#000000\">F16</text>\n</g>\n<!-- F11 -->\n<g id=\"node2\" class=\"node\">\n<title>F11</title>\n<ellipse fill=\"none\" stroke=\"#000000\" cx=\"406\" cy=\"-1845\" rx=\"27\" ry=\"18\"/>\n<text text-anchor=\"middle\" x=\"406\" y=\"-1841.3\" font-family=\"Times,serif\" font-size=\"14.00\" fill=\"#000000\">F11</text>\n</g>\n<!-- F16&#45;&gt;F11 -->\n<g id=\"edge1\" class=\"edge\">\n<title>F16&#45;&gt;F11</title>\n<path fill=\"none\" stroke=\"#000000\" d=\"M449.5883,-1915.2255C441.6696,-1902.4677 430.6429,-1884.7024 421.6615,-1870.2325\"/>\n<polygon fill=\"#000000\" stroke=\"#000000\" points=\"424.6272,-1868.3736 416.3798,-1861.723 418.6797,-1872.0652 424.6272,-1868.3736\"/>\n<text text-anchor=\"middle\" x=\"441\" y=\"-1884.8\" font-family=\"Times,serif\" font-size=\"14.00\" fill=\"#000000\">0</text>\n</g>\n<!-- class42 -->\n<g id=\"node66\" class=\"node\">\n<title>class42</title>\n<ellipse fill=\"none\" stroke=\"#000000\" cx=\"478\" cy=\"-1845\" rx=\"27\" ry=\"18\"/>\n<text text-anchor=\"middle\" x=\"478\" y=\"-1841.3\" font-family=\"Times,serif\" font-size=\"14.00\" fill=\"#000000\">1</text>\n</g>\n<!-- F16&#45;&gt;class42 -->\n<g id=\"edge65\" class=\"edge\">\n<title>F16&#45;&gt;class42</title>\n<path fill=\"none\" stroke=\"#000000\" d=\"M463.7296,-1913.9735C466.1672,-1902.1918 469.4012,-1886.5607 472.1742,-1873.1581\"/>\n<polygon fill=\"#000000\" stroke=\"#000000\" points=\"475.6764,-1873.5051 474.2752,-1863.0034 468.8216,-1872.0868 475.6764,-1873.5051\"/>\n<text text-anchor=\"middle\" x=\"475\" y=\"-1884.8\" font-family=\"Times,serif\" font-size=\"14.00\" fill=\"#000000\">1</text>\n</g>\n<!-- F13 -->\n<g id=\"node3\" class=\"node\">\n<title>F13</title>\n<ellipse fill=\"none\" stroke=\"#000000\" cx=\"335\" cy=\"-1758\" rx=\"27\" ry=\"18\"/>\n<text text-anchor=\"middle\" x=\"335\" y=\"-1754.3\" font-family=\"Times,serif\" font-size=\"14.00\" fill=\"#000000\">F13</text>\n</g>\n<!-- F11&#45;&gt;F13 -->\n<g id=\"edge2\" class=\"edge\">\n<title>F11&#45;&gt;F13</title>\n<path fill=\"none\" stroke=\"#000000\" d=\"M392.9775,-1829.0429C382.1685,-1815.798 366.6366,-1796.7659 354.3688,-1781.7336\"/>\n<polygon fill=\"#000000\" stroke=\"#000000\" points=\"356.9743,-1779.3906 347.9399,-1773.856 351.551,-1783.8165 356.9743,-1779.3906\"/>\n<text text-anchor=\"middle\" x=\"379\" y=\"-1797.8\" font-family=\"Times,serif\" font-size=\"14.00\" fill=\"#000000\">0</text>\n</g>\n<!-- F2233 -->\n<g id=\"node57\" class=\"node\">\n<title>F2233</title>\n<ellipse fill=\"none\" stroke=\"#000000\" cx=\"459\" cy=\"-1758\" rx=\"27\" ry=\"18\"/>\n<text text-anchor=\"middle\" x=\"459\" y=\"-1754.3\" font-family=\"Times,serif\" font-size=\"14.00\" fill=\"#000000\">F22</text>\n</g>\n<!-- F11&#45;&gt;F2233 -->\n<g id=\"edge56\" class=\"edge\">\n<title>F11&#45;&gt;F2233</title>\n<path fill=\"none\" stroke=\"#000000\" d=\"M416.2189,-1828.2255C423.9176,-1815.588 434.6096,-1798.0371 443.3785,-1783.6429\"/>\n<polygon fill=\"#000000\" stroke=\"#000000\" points=\"446.5988,-1785.084 448.8124,-1774.723 440.6208,-1781.4422 446.5988,-1785.084\"/>\n<text text-anchor=\"middle\" x=\"440\" y=\"-1797.8\" font-family=\"Times,serif\" font-size=\"14.00\" fill=\"#000000\">1</text>\n</g>\n<!-- F22 -->\n<g id=\"node4\" class=\"node\">\n<title>F22</title>\n<ellipse fill=\"none\" stroke=\"#000000\" cx=\"243\" cy=\"-1671\" rx=\"27\" ry=\"18\"/>\n<text text-anchor=\"middle\" x=\"243\" y=\"-1667.3\" font-family=\"Times,serif\" font-size=\"14.00\" fill=\"#000000\">F22</text>\n</g>\n<!-- F13&#45;&gt;F22 -->\n<g id=\"edge3\" class=\"edge\">\n<title>F13&#45;&gt;F22</title>\n<path fill=\"none\" stroke=\"#000000\" d=\"M319.3935,-1743.2416C304.8548,-1729.4932 282.9845,-1708.8115 266.3649,-1693.0951\"/>\n<polygon fill=\"#000000\" stroke=\"#000000\" points=\"268.3537,-1690.1586 258.6831,-1685.8308 263.5441,-1695.2447 268.3537,-1690.1586\"/>\n<text text-anchor=\"middle\" x=\"299\" y=\"-1710.8\" font-family=\"Times,serif\" font-size=\"14.00\" fill=\"#000000\">0</text>\n</g>\n<!-- F524 -->\n<g id=\"node48\" class=\"node\">\n<title>F524</title>\n<ellipse fill=\"none\" stroke=\"#000000\" cx=\"335\" cy=\"-1671\" rx=\"27\" ry=\"18\"/>\n<text text-anchor=\"middle\" x=\"335\" y=\"-1667.3\" font-family=\"Times,serif\" font-size=\"14.00\" fill=\"#000000\">F5</text>\n</g>\n<!-- F13&#45;&gt;F524 -->\n<g id=\"edge47\" class=\"edge\">\n<title>F13&#45;&gt;F524</title>\n<path fill=\"none\" stroke=\"#000000\" d=\"M335,-1739.9735C335,-1728.1918 335,-1712.5607 335,-1699.1581\"/>\n<polygon fill=\"#000000\" stroke=\"#000000\" points=\"338.5001,-1699.0033 335,-1689.0034 331.5001,-1699.0034 338.5001,-1699.0033\"/>\n<text text-anchor=\"middle\" x=\"339\" y=\"-1710.8\" font-family=\"Times,serif\" font-size=\"14.00\" fill=\"#000000\">1</text>\n</g>\n<!-- F20 -->\n<g id=\"node5\" class=\"node\">\n<title>F20</title>\n<ellipse fill=\"none\" stroke=\"#000000\" cx=\"99\" cy=\"-1584\" rx=\"27\" ry=\"18\"/>\n<text text-anchor=\"middle\" x=\"99\" y=\"-1580.3\" font-family=\"Times,serif\" font-size=\"14.00\" fill=\"#000000\">F20</text>\n</g>\n<!-- F22&#45;&gt;F20 -->\n<g id=\"edge4\" class=\"edge\">\n<title>F22&#45;&gt;F20</title>\n<path fill=\"none\" stroke=\"#000000\" d=\"M222.9774,-1658.903C198.292,-1643.9889 156.1521,-1618.5294 127.9454,-1601.4878\"/>\n<polygon fill=\"#000000\" stroke=\"#000000\" points=\"129.6858,-1598.4502 119.3168,-1596.2747 126.066,-1604.4416 129.6858,-1598.4502\"/>\n<text text-anchor=\"middle\" x=\"184\" y=\"-1623.8\" font-family=\"Times,serif\" font-size=\"14.00\" fill=\"#000000\">0</text>\n</g>\n<!-- F102 -->\n<g id=\"node26\" class=\"node\">\n<title>F102</title>\n<ellipse fill=\"none\" stroke=\"#000000\" cx=\"243\" cy=\"-1584\" rx=\"27\" ry=\"18\"/>\n<text text-anchor=\"middle\" x=\"243\" y=\"-1580.3\" font-family=\"Times,serif\" font-size=\"14.00\" fill=\"#000000\">F10</text>\n</g>\n<!-- F22&#45;&gt;F102 -->\n<g id=\"edge25\" class=\"edge\">\n<title>F22&#45;&gt;F102</title>\n<path fill=\"none\" stroke=\"#000000\" d=\"M243,-1652.9735C243,-1641.1918 243,-1625.5607 243,-1612.1581\"/>\n<polygon fill=\"#000000\" stroke=\"#000000\" points=\"246.5001,-1612.0033 243,-1602.0034 239.5001,-1612.0034 246.5001,-1612.0033\"/>\n<text text-anchor=\"middle\" x=\"247\" y=\"-1623.8\" font-family=\"Times,serif\" font-size=\"14.00\" fill=\"#000000\">1</text>\n</g>\n<!-- class0 -->\n<g id=\"node6\" class=\"node\">\n<title>class0</title>\n<ellipse fill=\"none\" stroke=\"#000000\" cx=\"27\" cy=\"-1497\" rx=\"27\" ry=\"18\"/>\n<text text-anchor=\"middle\" x=\"27\" y=\"-1493.3\" font-family=\"Times,serif\" font-size=\"14.00\" fill=\"#000000\">0</text>\n</g>\n<!-- F20&#45;&gt;class0 -->\n<g id=\"edge5\" class=\"edge\">\n<title>F20&#45;&gt;class0</title>\n<path fill=\"none\" stroke=\"#000000\" d=\"M85.7941,-1568.0429C74.8328,-1554.798 59.0821,-1535.7659 46.6416,-1520.7336\"/>\n<polygon fill=\"#000000\" stroke=\"#000000\" points=\"49.1943,-1518.3284 40.1222,-1512.856 43.8015,-1522.7914 49.1943,-1518.3284\"/>\n<text text-anchor=\"middle\" x=\"72\" y=\"-1536.8\" font-family=\"Times,serif\" font-size=\"14.00\" fill=\"#000000\">0</text>\n</g>\n<!-- F19 -->\n<g id=\"node7\" class=\"node\">\n<title>F19</title>\n<ellipse fill=\"none\" stroke=\"#000000\" cx=\"99\" cy=\"-1497\" rx=\"27\" ry=\"18\"/>\n<text text-anchor=\"middle\" x=\"99\" y=\"-1493.3\" font-family=\"Times,serif\" font-size=\"14.00\" fill=\"#000000\">F19</text>\n</g>\n<!-- F20&#45;&gt;F19 -->\n<g id=\"edge6\" class=\"edge\">\n<title>F20&#45;&gt;F19</title>\n<path fill=\"none\" stroke=\"#000000\" d=\"M99,-1565.9735C99,-1554.1918 99,-1538.5607 99,-1525.1581\"/>\n<polygon fill=\"#000000\" stroke=\"#000000\" points=\"102.5001,-1525.0033 99,-1515.0034 95.5001,-1525.0034 102.5001,-1525.0033\"/>\n<text text-anchor=\"middle\" x=\"103\" y=\"-1536.8\" font-family=\"Times,serif\" font-size=\"14.00\" fill=\"#000000\">1</text>\n</g>\n<!-- F21 -->\n<g id=\"node8\" class=\"node\">\n<title>F21</title>\n<ellipse fill=\"none\" stroke=\"#000000\" cx=\"27\" cy=\"-1410\" rx=\"27\" ry=\"18\"/>\n<text text-anchor=\"middle\" x=\"27\" y=\"-1406.3\" font-family=\"Times,serif\" font-size=\"14.00\" fill=\"#000000\">F21</text>\n</g>\n<!-- F19&#45;&gt;F21 -->\n<g id=\"edge7\" class=\"edge\">\n<title>F19&#45;&gt;F21</title>\n<path fill=\"none\" stroke=\"#000000\" d=\"M85.7941,-1481.0429C74.8328,-1467.798 59.0821,-1448.7659 46.6416,-1433.7336\"/>\n<polygon fill=\"#000000\" stroke=\"#000000\" points=\"49.1943,-1431.3284 40.1222,-1425.856 43.8015,-1435.7914 49.1943,-1431.3284\"/>\n<text text-anchor=\"middle\" x=\"72\" y=\"-1449.8\" font-family=\"Times,serif\" font-size=\"14.00\" fill=\"#000000\">0</text>\n</g>\n<!-- class1 -->\n<g id=\"node25\" class=\"node\">\n<title>class1</title>\n<ellipse fill=\"none\" stroke=\"#000000\" cx=\"99\" cy=\"-1410\" rx=\"27\" ry=\"18\"/>\n<text text-anchor=\"middle\" x=\"99\" y=\"-1406.3\" font-family=\"Times,serif\" font-size=\"14.00\" fill=\"#000000\">0</text>\n</g>\n<!-- F19&#45;&gt;class1 -->\n<g id=\"edge24\" class=\"edge\">\n<title>F19&#45;&gt;class1</title>\n<path fill=\"none\" stroke=\"#000000\" d=\"M99,-1478.9735C99,-1467.1918 99,-1451.5607 99,-1438.1581\"/>\n<polygon fill=\"#000000\" stroke=\"#000000\" points=\"102.5001,-1438.0033 99,-1428.0034 95.5001,-1438.0034 102.5001,-1438.0033\"/>\n<text text-anchor=\"middle\" x=\"103\" y=\"-1449.8\" font-family=\"Times,serif\" font-size=\"14.00\" fill=\"#000000\">1</text>\n</g>\n<!-- F18 -->\n<g id=\"node9\" class=\"node\">\n<title>F18</title>\n<ellipse fill=\"none\" stroke=\"#000000\" cx=\"27\" cy=\"-1323\" rx=\"27\" ry=\"18\"/>\n<text text-anchor=\"middle\" x=\"27\" y=\"-1319.3\" font-family=\"Times,serif\" font-size=\"14.00\" fill=\"#000000\">F18</text>\n</g>\n<!-- F21&#45;&gt;F18 -->\n<g id=\"edge8\" class=\"edge\">\n<title>F21&#45;&gt;F18</title>\n<path fill=\"none\" stroke=\"#000000\" d=\"M27,-1391.9735C27,-1380.1918 27,-1364.5607 27,-1351.1581\"/>\n<polygon fill=\"#000000\" stroke=\"#000000\" points=\"30.5001,-1351.0033 27,-1341.0034 23.5001,-1351.0034 30.5001,-1351.0033\"/>\n<text text-anchor=\"middle\" x=\"31\" y=\"-1362.8\" font-family=\"Times,serif\" font-size=\"14.00\" fill=\"#000000\">0</text>\n</g>\n<!-- F17 -->\n<g id=\"node10\" class=\"node\">\n<title>F17</title>\n<ellipse fill=\"none\" stroke=\"#000000\" cx=\"27\" cy=\"-1236\" rx=\"27\" ry=\"18\"/>\n<text text-anchor=\"middle\" x=\"27\" y=\"-1232.3\" font-family=\"Times,serif\" font-size=\"14.00\" fill=\"#000000\">F17</text>\n</g>\n<!-- F18&#45;&gt;F17 -->\n<g id=\"edge9\" class=\"edge\">\n<title>F18&#45;&gt;F17</title>\n<path fill=\"none\" stroke=\"#000000\" d=\"M27,-1304.9735C27,-1293.1918 27,-1277.5607 27,-1264.1581\"/>\n<polygon fill=\"#000000\" stroke=\"#000000\" points=\"30.5001,-1264.0033 27,-1254.0034 23.5001,-1264.0034 30.5001,-1264.0033\"/>\n<text text-anchor=\"middle\" x=\"31\" y=\"-1275.8\" font-family=\"Times,serif\" font-size=\"14.00\" fill=\"#000000\">0</text>\n</g>\n<!-- F15 -->\n<g id=\"node11\" class=\"node\">\n<title>F15</title>\n<ellipse fill=\"none\" stroke=\"#000000\" cx=\"27\" cy=\"-1149\" rx=\"27\" ry=\"18\"/>\n<text text-anchor=\"middle\" x=\"27\" y=\"-1145.3\" font-family=\"Times,serif\" font-size=\"14.00\" fill=\"#000000\">F15</text>\n</g>\n<!-- F17&#45;&gt;F15 -->\n<g id=\"edge10\" class=\"edge\">\n<title>F17&#45;&gt;F15</title>\n<path fill=\"none\" stroke=\"#000000\" d=\"M27,-1217.9735C27,-1206.1918 27,-1190.5607 27,-1177.1581\"/>\n<polygon fill=\"#000000\" stroke=\"#000000\" points=\"30.5001,-1177.0033 27,-1167.0034 23.5001,-1177.0034 30.5001,-1177.0033\"/>\n<text text-anchor=\"middle\" x=\"31\" y=\"-1188.8\" font-family=\"Times,serif\" font-size=\"14.00\" fill=\"#000000\">0</text>\n</g>\n<!-- F14 -->\n<g id=\"node12\" class=\"node\">\n<title>F14</title>\n<ellipse fill=\"none\" stroke=\"#000000\" cx=\"27\" cy=\"-1062\" rx=\"27\" ry=\"18\"/>\n<text text-anchor=\"middle\" x=\"27\" y=\"-1058.3\" font-family=\"Times,serif\" font-size=\"14.00\" fill=\"#000000\">F14</text>\n</g>\n<!-- F15&#45;&gt;F14 -->\n<g id=\"edge11\" class=\"edge\">\n<title>F15&#45;&gt;F14</title>\n<path fill=\"none\" stroke=\"#000000\" d=\"M27,-1130.9735C27,-1119.1918 27,-1103.5607 27,-1090.1581\"/>\n<polygon fill=\"#000000\" stroke=\"#000000\" points=\"30.5001,-1090.0033 27,-1080.0034 23.5001,-1090.0034 30.5001,-1090.0033\"/>\n<text text-anchor=\"middle\" x=\"31\" y=\"-1101.8\" font-family=\"Times,serif\" font-size=\"14.00\" fill=\"#000000\">0</text>\n</g>\n<!-- F12 -->\n<g id=\"node13\" class=\"node\">\n<title>F12</title>\n<ellipse fill=\"none\" stroke=\"#000000\" cx=\"27\" cy=\"-975\" rx=\"27\" ry=\"18\"/>\n<text text-anchor=\"middle\" x=\"27\" y=\"-971.3\" font-family=\"Times,serif\" font-size=\"14.00\" fill=\"#000000\">F12</text>\n</g>\n<!-- F14&#45;&gt;F12 -->\n<g id=\"edge12\" class=\"edge\">\n<title>F14&#45;&gt;F12</title>\n<path fill=\"none\" stroke=\"#000000\" d=\"M27,-1043.9735C27,-1032.1918 27,-1016.5607 27,-1003.1581\"/>\n<polygon fill=\"#000000\" stroke=\"#000000\" points=\"30.5001,-1003.0033 27,-993.0034 23.5001,-1003.0034 30.5001,-1003.0033\"/>\n<text text-anchor=\"middle\" x=\"31\" y=\"-1014.8\" font-family=\"Times,serif\" font-size=\"14.00\" fill=\"#000000\">0</text>\n</g>\n<!-- F10 -->\n<g id=\"node14\" class=\"node\">\n<title>F10</title>\n<ellipse fill=\"none\" stroke=\"#000000\" cx=\"27\" cy=\"-888\" rx=\"27\" ry=\"18\"/>\n<text text-anchor=\"middle\" x=\"27\" y=\"-884.3\" font-family=\"Times,serif\" font-size=\"14.00\" fill=\"#000000\">F10</text>\n</g>\n<!-- F12&#45;&gt;F10 -->\n<g id=\"edge13\" class=\"edge\">\n<title>F12&#45;&gt;F10</title>\n<path fill=\"none\" stroke=\"#000000\" d=\"M27,-956.9735C27,-945.1918 27,-929.5607 27,-916.1581\"/>\n<polygon fill=\"#000000\" stroke=\"#000000\" points=\"30.5001,-916.0033 27,-906.0034 23.5001,-916.0034 30.5001,-916.0033\"/>\n<text text-anchor=\"middle\" x=\"31\" y=\"-927.8\" font-family=\"Times,serif\" font-size=\"14.00\" fill=\"#000000\">0</text>\n</g>\n<!-- F9 -->\n<g id=\"node15\" class=\"node\">\n<title>F9</title>\n<ellipse fill=\"none\" stroke=\"#000000\" cx=\"27\" cy=\"-801\" rx=\"27\" ry=\"18\"/>\n<text text-anchor=\"middle\" x=\"27\" y=\"-797.3\" font-family=\"Times,serif\" font-size=\"14.00\" fill=\"#000000\">F9</text>\n</g>\n<!-- F10&#45;&gt;F9 -->\n<g id=\"edge14\" class=\"edge\">\n<title>F10&#45;&gt;F9</title>\n<path fill=\"none\" stroke=\"#000000\" d=\"M27,-869.9735C27,-858.1918 27,-842.5607 27,-829.1581\"/>\n<polygon fill=\"#000000\" stroke=\"#000000\" points=\"30.5001,-829.0033 27,-819.0034 23.5001,-829.0034 30.5001,-829.0033\"/>\n<text text-anchor=\"middle\" x=\"31\" y=\"-840.8\" font-family=\"Times,serif\" font-size=\"14.00\" fill=\"#000000\">0</text>\n</g>\n<!-- F8 -->\n<g id=\"node16\" class=\"node\">\n<title>F8</title>\n<ellipse fill=\"none\" stroke=\"#000000\" cx=\"27\" cy=\"-714\" rx=\"27\" ry=\"18\"/>\n<text text-anchor=\"middle\" x=\"27\" y=\"-710.3\" font-family=\"Times,serif\" font-size=\"14.00\" fill=\"#000000\">F8</text>\n</g>\n<!-- F9&#45;&gt;F8 -->\n<g id=\"edge15\" class=\"edge\">\n<title>F9&#45;&gt;F8</title>\n<path fill=\"none\" stroke=\"#000000\" d=\"M27,-782.9735C27,-771.1918 27,-755.5607 27,-742.1581\"/>\n<polygon fill=\"#000000\" stroke=\"#000000\" points=\"30.5001,-742.0033 27,-732.0034 23.5001,-742.0034 30.5001,-742.0033\"/>\n<text text-anchor=\"middle\" x=\"31\" y=\"-753.8\" font-family=\"Times,serif\" font-size=\"14.00\" fill=\"#000000\">0</text>\n</g>\n<!-- F7 -->\n<g id=\"node17\" class=\"node\">\n<title>F7</title>\n<ellipse fill=\"none\" stroke=\"#000000\" cx=\"27\" cy=\"-627\" rx=\"27\" ry=\"18\"/>\n<text text-anchor=\"middle\" x=\"27\" y=\"-623.3\" font-family=\"Times,serif\" font-size=\"14.00\" fill=\"#000000\">F7</text>\n</g>\n<!-- F8&#45;&gt;F7 -->\n<g id=\"edge16\" class=\"edge\">\n<title>F8&#45;&gt;F7</title>\n<path fill=\"none\" stroke=\"#000000\" d=\"M27,-695.9735C27,-684.1918 27,-668.5607 27,-655.1581\"/>\n<polygon fill=\"#000000\" stroke=\"#000000\" points=\"30.5001,-655.0033 27,-645.0034 23.5001,-655.0034 30.5001,-655.0033\"/>\n<text text-anchor=\"middle\" x=\"31\" y=\"-666.8\" font-family=\"Times,serif\" font-size=\"14.00\" fill=\"#000000\">0</text>\n</g>\n<!-- F6 -->\n<g id=\"node18\" class=\"node\">\n<title>F6</title>\n<ellipse fill=\"none\" stroke=\"#000000\" cx=\"27\" cy=\"-540\" rx=\"27\" ry=\"18\"/>\n<text text-anchor=\"middle\" x=\"27\" y=\"-536.3\" font-family=\"Times,serif\" font-size=\"14.00\" fill=\"#000000\">F6</text>\n</g>\n<!-- F7&#45;&gt;F6 -->\n<g id=\"edge17\" class=\"edge\">\n<title>F7&#45;&gt;F6</title>\n<path fill=\"none\" stroke=\"#000000\" d=\"M27,-608.9735C27,-597.1918 27,-581.5607 27,-568.1581\"/>\n<polygon fill=\"#000000\" stroke=\"#000000\" points=\"30.5001,-568.0033 27,-558.0034 23.5001,-568.0034 30.5001,-568.0033\"/>\n<text text-anchor=\"middle\" x=\"31\" y=\"-579.8\" font-family=\"Times,serif\" font-size=\"14.00\" fill=\"#000000\">0</text>\n</g>\n<!-- F5 -->\n<g id=\"node19\" class=\"node\">\n<title>F5</title>\n<ellipse fill=\"none\" stroke=\"#000000\" cx=\"27\" cy=\"-453\" rx=\"27\" ry=\"18\"/>\n<text text-anchor=\"middle\" x=\"27\" y=\"-449.3\" font-family=\"Times,serif\" font-size=\"14.00\" fill=\"#000000\">F5</text>\n</g>\n<!-- F6&#45;&gt;F5 -->\n<g id=\"edge18\" class=\"edge\">\n<title>F6&#45;&gt;F5</title>\n<path fill=\"none\" stroke=\"#000000\" d=\"M27,-521.9735C27,-510.1918 27,-494.5607 27,-481.1581\"/>\n<polygon fill=\"#000000\" stroke=\"#000000\" points=\"30.5001,-481.0033 27,-471.0034 23.5001,-481.0034 30.5001,-481.0033\"/>\n<text text-anchor=\"middle\" x=\"31\" y=\"-492.8\" font-family=\"Times,serif\" font-size=\"14.00\" fill=\"#000000\">0</text>\n</g>\n<!-- F4 -->\n<g id=\"node20\" class=\"node\">\n<title>F4</title>\n<ellipse fill=\"none\" stroke=\"#000000\" cx=\"27\" cy=\"-366\" rx=\"27\" ry=\"18\"/>\n<text text-anchor=\"middle\" x=\"27\" y=\"-362.3\" font-family=\"Times,serif\" font-size=\"14.00\" fill=\"#000000\">F4</text>\n</g>\n<!-- F5&#45;&gt;F4 -->\n<g id=\"edge19\" class=\"edge\">\n<title>F5&#45;&gt;F4</title>\n<path fill=\"none\" stroke=\"#000000\" d=\"M27,-434.9735C27,-423.1918 27,-407.5607 27,-394.1581\"/>\n<polygon fill=\"#000000\" stroke=\"#000000\" points=\"30.5001,-394.0033 27,-384.0034 23.5001,-394.0034 30.5001,-394.0033\"/>\n<text text-anchor=\"middle\" x=\"31\" y=\"-405.8\" font-family=\"Times,serif\" font-size=\"14.00\" fill=\"#000000\">0</text>\n</g>\n<!-- F3 -->\n<g id=\"node21\" class=\"node\">\n<title>F3</title>\n<ellipse fill=\"none\" stroke=\"#000000\" cx=\"27\" cy=\"-279\" rx=\"27\" ry=\"18\"/>\n<text text-anchor=\"middle\" x=\"27\" y=\"-275.3\" font-family=\"Times,serif\" font-size=\"14.00\" fill=\"#000000\">F3</text>\n</g>\n<!-- F4&#45;&gt;F3 -->\n<g id=\"edge20\" class=\"edge\">\n<title>F4&#45;&gt;F3</title>\n<path fill=\"none\" stroke=\"#000000\" d=\"M27,-347.9735C27,-336.1918 27,-320.5607 27,-307.1581\"/>\n<polygon fill=\"#000000\" stroke=\"#000000\" points=\"30.5001,-307.0033 27,-297.0034 23.5001,-307.0034 30.5001,-307.0033\"/>\n<text text-anchor=\"middle\" x=\"31\" y=\"-318.8\" font-family=\"Times,serif\" font-size=\"14.00\" fill=\"#000000\">0</text>\n</g>\n<!-- F2 -->\n<g id=\"node22\" class=\"node\">\n<title>F2</title>\n<ellipse fill=\"none\" stroke=\"#000000\" cx=\"27\" cy=\"-192\" rx=\"27\" ry=\"18\"/>\n<text text-anchor=\"middle\" x=\"27\" y=\"-188.3\" font-family=\"Times,serif\" font-size=\"14.00\" fill=\"#000000\">F2</text>\n</g>\n<!-- F3&#45;&gt;F2 -->\n<g id=\"edge21\" class=\"edge\">\n<title>F3&#45;&gt;F2</title>\n<path fill=\"none\" stroke=\"#000000\" d=\"M27,-260.9735C27,-249.1918 27,-233.5607 27,-220.1581\"/>\n<polygon fill=\"#000000\" stroke=\"#000000\" points=\"30.5001,-220.0033 27,-210.0034 23.5001,-220.0034 30.5001,-220.0033\"/>\n<text text-anchor=\"middle\" x=\"31\" y=\"-231.8\" font-family=\"Times,serif\" font-size=\"14.00\" fill=\"#000000\">0</text>\n</g>\n<!-- F1 -->\n<g id=\"node23\" class=\"node\">\n<title>F1</title>\n<ellipse fill=\"none\" stroke=\"#000000\" cx=\"27\" cy=\"-105\" rx=\"27\" ry=\"18\"/>\n<text text-anchor=\"middle\" x=\"27\" y=\"-101.3\" font-family=\"Times,serif\" font-size=\"14.00\" fill=\"#000000\">F1</text>\n</g>\n<!-- F2&#45;&gt;F1 -->\n<g id=\"edge22\" class=\"edge\">\n<title>F2&#45;&gt;F1</title>\n<path fill=\"none\" stroke=\"#000000\" d=\"M27,-173.9735C27,-162.1918 27,-146.5607 27,-133.1581\"/>\n<polygon fill=\"#000000\" stroke=\"#000000\" points=\"30.5001,-133.0033 27,-123.0034 23.5001,-133.0034 30.5001,-133.0033\"/>\n<text text-anchor=\"middle\" x=\"31\" y=\"-144.8\" font-family=\"Times,serif\" font-size=\"14.00\" fill=\"#000000\">0</text>\n</g>\n<g id=\"node24\" class=\"node\">\n<title></title>\n<ellipse fill=\"none\" stroke=\"#000000\" cx=\"27\" cy=\"-18\" rx=\"27\" ry=\"18\"/>\n</g>\n<!-- F1&#45;&gt; -->\n<g id=\"edge23\" class=\"edge\">\n<title>F1&#45;&gt;</title>\n<path fill=\"none\" stroke=\"#000000\" d=\"M27,-86.9735C27,-75.1918 27,-59.5607 27,-46.1581\"/>\n<polygon fill=\"#000000\" stroke=\"#000000\" points=\"30.5001,-46.0033 27,-36.0034 23.5001,-46.0034 30.5001,-46.0033\"/>\n<text text-anchor=\"middle\" x=\"31\" y=\"-57.8\" font-family=\"Times,serif\" font-size=\"14.00\" fill=\"#000000\">0</text>\n</g>\n<!-- F73 -->\n<g id=\"node27\" class=\"node\">\n<title>F73</title>\n<ellipse fill=\"none\" stroke=\"#000000\" cx=\"171\" cy=\"-1497\" rx=\"27\" ry=\"18\"/>\n<text text-anchor=\"middle\" x=\"171\" y=\"-1493.3\" font-family=\"Times,serif\" font-size=\"14.00\" fill=\"#000000\">F7</text>\n</g>\n<!-- F102&#45;&gt;F73 -->\n<g id=\"edge26\" class=\"edge\">\n<title>F102&#45;&gt;F73</title>\n<path fill=\"none\" stroke=\"#000000\" d=\"M229.7941,-1568.0429C218.8328,-1554.798 203.0821,-1535.7659 190.6416,-1520.7336\"/>\n<polygon fill=\"#000000\" stroke=\"#000000\" points=\"193.1943,-1518.3284 184.1222,-1512.856 187.8015,-1522.7914 193.1943,-1518.3284\"/>\n<text text-anchor=\"middle\" x=\"216\" y=\"-1536.8\" font-family=\"Times,serif\" font-size=\"14.00\" fill=\"#000000\">0</text>\n</g>\n<!-- class23 -->\n<g id=\"node47\" class=\"node\">\n<title>class23</title>\n<ellipse fill=\"none\" stroke=\"#000000\" cx=\"243\" cy=\"-1497\" rx=\"27\" ry=\"18\"/>\n<text text-anchor=\"middle\" x=\"243\" y=\"-1493.3\" font-family=\"Times,serif\" font-size=\"14.00\" fill=\"#000000\">0</text>\n</g>\n<!-- F102&#45;&gt;class23 -->\n<g id=\"edge46\" class=\"edge\">\n<title>F102&#45;&gt;class23</title>\n<path fill=\"none\" stroke=\"#000000\" d=\"M243,-1565.9735C243,-1554.1918 243,-1538.5607 243,-1525.1581\"/>\n<polygon fill=\"#000000\" stroke=\"#000000\" points=\"246.5001,-1525.0033 243,-1515.0034 239.5001,-1525.0034 246.5001,-1525.0033\"/>\n<text text-anchor=\"middle\" x=\"247\" y=\"-1536.8\" font-family=\"Times,serif\" font-size=\"14.00\" fill=\"#000000\">1</text>\n</g>\n<!-- F204 -->\n<g id=\"node28\" class=\"node\">\n<title>F204</title>\n<ellipse fill=\"none\" stroke=\"#000000\" cx=\"171\" cy=\"-1410\" rx=\"27\" ry=\"18\"/>\n<text text-anchor=\"middle\" x=\"171\" y=\"-1406.3\" font-family=\"Times,serif\" font-size=\"14.00\" fill=\"#000000\">F20</text>\n</g>\n<!-- F73&#45;&gt;F204 -->\n<g id=\"edge27\" class=\"edge\">\n<title>F73&#45;&gt;F204</title>\n<path fill=\"none\" stroke=\"#000000\" d=\"M171,-1478.9735C171,-1467.1918 171,-1451.5607 171,-1438.1581\"/>\n<polygon fill=\"#000000\" stroke=\"#000000\" points=\"174.5001,-1438.0033 171,-1428.0034 167.5001,-1438.0034 174.5001,-1438.0033\"/>\n<text text-anchor=\"middle\" x=\"175\" y=\"-1449.8\" font-family=\"Times,serif\" font-size=\"14.00\" fill=\"#000000\">0</text>\n</g>\n<!-- class22 -->\n<g id=\"node46\" class=\"node\">\n<title>class22</title>\n<ellipse fill=\"none\" stroke=\"#000000\" cx=\"243\" cy=\"-1410\" rx=\"27\" ry=\"18\"/>\n<text text-anchor=\"middle\" x=\"243\" y=\"-1406.3\" font-family=\"Times,serif\" font-size=\"14.00\" fill=\"#000000\">1</text>\n</g>\n<!-- F73&#45;&gt;class22 -->\n<g id=\"edge45\" class=\"edge\">\n<title>F73&#45;&gt;class22</title>\n<path fill=\"none\" stroke=\"#000000\" d=\"M184.2059,-1481.0429C195.1672,-1467.798 210.9179,-1448.7659 223.3584,-1433.7336\"/>\n<polygon fill=\"#000000\" stroke=\"#000000\" points=\"226.1985,-1435.7914 229.8778,-1425.856 220.8057,-1431.3284 226.1985,-1435.7914\"/>\n<text text-anchor=\"middle\" x=\"216\" y=\"-1449.8\" font-family=\"Times,serif\" font-size=\"14.00\" fill=\"#000000\">1</text>\n</g>\n<!-- class5 -->\n<g id=\"node29\" class=\"node\">\n<title>class5</title>\n<ellipse fill=\"none\" stroke=\"#000000\" cx=\"145\" cy=\"-1323\" rx=\"27\" ry=\"18\"/>\n<text text-anchor=\"middle\" x=\"145\" y=\"-1319.3\" font-family=\"Times,serif\" font-size=\"14.00\" fill=\"#000000\">0</text>\n</g>\n<!-- F204&#45;&gt;class5 -->\n<g id=\"edge28\" class=\"edge\">\n<title>F204&#45;&gt;class5</title>\n<path fill=\"none\" stroke=\"#000000\" d=\"M165.6128,-1391.9735C162.0332,-1379.9958 157.2647,-1364.0396 153.2157,-1350.4912\"/>\n<polygon fill=\"#000000\" stroke=\"#000000\" points=\"156.5083,-1349.2848 150.2914,-1340.7057 149.8013,-1351.2892 156.5083,-1349.2848\"/>\n<text text-anchor=\"middle\" x=\"164\" y=\"-1362.8\" font-family=\"Times,serif\" font-size=\"14.00\" fill=\"#000000\">1</text>\n</g>\n<!-- F216 -->\n<g id=\"node30\" class=\"node\">\n<title>F216</title>\n<ellipse fill=\"none\" stroke=\"#000000\" cx=\"217\" cy=\"-1323\" rx=\"27\" ry=\"18\"/>\n<text text-anchor=\"middle\" x=\"217\" y=\"-1319.3\" font-family=\"Times,serif\" font-size=\"14.00\" fill=\"#000000\">F21</text>\n</g>\n<!-- F204&#45;&gt;F216 -->\n<g id=\"edge29\" class=\"edge\">\n<title>F204&#45;&gt;F216</title>\n<path fill=\"none\" stroke=\"#000000\" d=\"M180.0881,-1392.8116C186.6405,-1380.4191 195.6057,-1363.4631 203.0599,-1349.3651\"/>\n<polygon fill=\"#000000\" stroke=\"#000000\" points=\"206.3506,-1350.629 207.9308,-1340.1527 200.1624,-1347.3571 206.3506,-1350.629\"/>\n<text text-anchor=\"middle\" x=\"201\" y=\"-1362.8\" font-family=\"Times,serif\" font-size=\"14.00\" fill=\"#000000\">0</text>\n</g>\n<!-- F197 -->\n<g id=\"node31\" class=\"node\">\n<title>F197</title>\n<ellipse fill=\"none\" stroke=\"#000000\" cx=\"217\" cy=\"-1236\" rx=\"27\" ry=\"18\"/>\n<text text-anchor=\"middle\" x=\"217\" y=\"-1232.3\" font-family=\"Times,serif\" font-size=\"14.00\" fill=\"#000000\">F19</text>\n</g>\n<!-- F216&#45;&gt;F197 -->\n<g id=\"edge30\" class=\"edge\">\n<title>F216&#45;&gt;F197</title>\n<path fill=\"none\" stroke=\"#000000\" d=\"M217,-1304.9735C217,-1293.1918 217,-1277.5607 217,-1264.1581\"/>\n<polygon fill=\"#000000\" stroke=\"#000000\" points=\"220.5001,-1264.0033 217,-1254.0034 213.5001,-1264.0034 220.5001,-1264.0033\"/>\n<text text-anchor=\"middle\" x=\"221\" y=\"-1275.8\" font-family=\"Times,serif\" font-size=\"14.00\" fill=\"#000000\">0</text>\n</g>\n<!-- F188 -->\n<g id=\"node32\" class=\"node\">\n<title>F188</title>\n<ellipse fill=\"none\" stroke=\"#000000\" cx=\"217\" cy=\"-1149\" rx=\"27\" ry=\"18\"/>\n<text text-anchor=\"middle\" x=\"217\" y=\"-1145.3\" font-family=\"Times,serif\" font-size=\"14.00\" fill=\"#000000\">F18</text>\n</g>\n<!-- F197&#45;&gt;F188 -->\n<g id=\"edge31\" class=\"edge\">\n<title>F197&#45;&gt;F188</title>\n<path fill=\"none\" stroke=\"#000000\" d=\"M217,-1217.9735C217,-1206.1918 217,-1190.5607 217,-1177.1581\"/>\n<polygon fill=\"#000000\" stroke=\"#000000\" points=\"220.5001,-1177.0033 217,-1167.0034 213.5001,-1177.0034 220.5001,-1177.0033\"/>\n<text text-anchor=\"middle\" x=\"221\" y=\"-1188.8\" font-family=\"Times,serif\" font-size=\"14.00\" fill=\"#000000\">0</text>\n</g>\n<!-- F179 -->\n<g id=\"node33\" class=\"node\">\n<title>F179</title>\n<ellipse fill=\"none\" stroke=\"#000000\" cx=\"217\" cy=\"-1062\" rx=\"27\" ry=\"18\"/>\n<text text-anchor=\"middle\" x=\"217\" y=\"-1058.3\" font-family=\"Times,serif\" font-size=\"14.00\" fill=\"#000000\">F17</text>\n</g>\n<!-- F188&#45;&gt;F179 -->\n<g id=\"edge32\" class=\"edge\">\n<title>F188&#45;&gt;F179</title>\n<path fill=\"none\" stroke=\"#000000\" d=\"M217,-1130.9735C217,-1119.1918 217,-1103.5607 217,-1090.1581\"/>\n<polygon fill=\"#000000\" stroke=\"#000000\" points=\"220.5001,-1090.0033 217,-1080.0034 213.5001,-1090.0034 220.5001,-1090.0033\"/>\n<text text-anchor=\"middle\" x=\"221\" y=\"-1101.8\" font-family=\"Times,serif\" font-size=\"14.00\" fill=\"#000000\">0</text>\n</g>\n<!-- F1510 -->\n<g id=\"node34\" class=\"node\">\n<title>F1510</title>\n<ellipse fill=\"none\" stroke=\"#000000\" cx=\"217\" cy=\"-975\" rx=\"27\" ry=\"18\"/>\n<text text-anchor=\"middle\" x=\"217\" y=\"-971.3\" font-family=\"Times,serif\" font-size=\"14.00\" fill=\"#000000\">F15</text>\n</g>\n<!-- F179&#45;&gt;F1510 -->\n<g id=\"edge33\" class=\"edge\">\n<title>F179&#45;&gt;F1510</title>\n<path fill=\"none\" stroke=\"#000000\" d=\"M217,-1043.9735C217,-1032.1918 217,-1016.5607 217,-1003.1581\"/>\n<polygon fill=\"#000000\" stroke=\"#000000\" points=\"220.5001,-1003.0033 217,-993.0034 213.5001,-1003.0034 220.5001,-1003.0033\"/>\n<text text-anchor=\"middle\" x=\"221\" y=\"-1014.8\" font-family=\"Times,serif\" font-size=\"14.00\" fill=\"#000000\">0</text>\n</g>\n<!-- F1411 -->\n<g id=\"node35\" class=\"node\">\n<title>F1411</title>\n<ellipse fill=\"none\" stroke=\"#000000\" cx=\"217\" cy=\"-888\" rx=\"27\" ry=\"18\"/>\n<text text-anchor=\"middle\" x=\"217\" y=\"-884.3\" font-family=\"Times,serif\" font-size=\"14.00\" fill=\"#000000\">F14</text>\n</g>\n<!-- F1510&#45;&gt;F1411 -->\n<g id=\"edge34\" class=\"edge\">\n<title>F1510&#45;&gt;F1411</title>\n<path fill=\"none\" stroke=\"#000000\" d=\"M217,-956.9735C217,-945.1918 217,-929.5607 217,-916.1581\"/>\n<polygon fill=\"#000000\" stroke=\"#000000\" points=\"220.5001,-916.0033 217,-906.0034 213.5001,-916.0034 220.5001,-916.0033\"/>\n<text text-anchor=\"middle\" x=\"221\" y=\"-927.8\" font-family=\"Times,serif\" font-size=\"14.00\" fill=\"#000000\">0</text>\n</g>\n<!-- F1212 -->\n<g id=\"node36\" class=\"node\">\n<title>F1212</title>\n<ellipse fill=\"none\" stroke=\"#000000\" cx=\"217\" cy=\"-801\" rx=\"27\" ry=\"18\"/>\n<text text-anchor=\"middle\" x=\"217\" y=\"-797.3\" font-family=\"Times,serif\" font-size=\"14.00\" fill=\"#000000\">F12</text>\n</g>\n<!-- F1411&#45;&gt;F1212 -->\n<g id=\"edge35\" class=\"edge\">\n<title>F1411&#45;&gt;F1212</title>\n<path fill=\"none\" stroke=\"#000000\" d=\"M217,-869.9735C217,-858.1918 217,-842.5607 217,-829.1581\"/>\n<polygon fill=\"#000000\" stroke=\"#000000\" points=\"220.5001,-829.0033 217,-819.0034 213.5001,-829.0034 220.5001,-829.0033\"/>\n<text text-anchor=\"middle\" x=\"221\" y=\"-840.8\" font-family=\"Times,serif\" font-size=\"14.00\" fill=\"#000000\">0</text>\n</g>\n<!-- F913 -->\n<g id=\"node37\" class=\"node\">\n<title>F913</title>\n<ellipse fill=\"none\" stroke=\"#000000\" cx=\"217\" cy=\"-714\" rx=\"27\" ry=\"18\"/>\n<text text-anchor=\"middle\" x=\"217\" y=\"-710.3\" font-family=\"Times,serif\" font-size=\"14.00\" fill=\"#000000\">F9</text>\n</g>\n<!-- F1212&#45;&gt;F913 -->\n<g id=\"edge36\" class=\"edge\">\n<title>F1212&#45;&gt;F913</title>\n<path fill=\"none\" stroke=\"#000000\" d=\"M217,-782.9735C217,-771.1918 217,-755.5607 217,-742.1581\"/>\n<polygon fill=\"#000000\" stroke=\"#000000\" points=\"220.5001,-742.0033 217,-732.0034 213.5001,-742.0034 220.5001,-742.0033\"/>\n<text text-anchor=\"middle\" x=\"221\" y=\"-753.8\" font-family=\"Times,serif\" font-size=\"14.00\" fill=\"#000000\">0</text>\n</g>\n<!-- F814 -->\n<g id=\"node38\" class=\"node\">\n<title>F814</title>\n<ellipse fill=\"none\" stroke=\"#000000\" cx=\"217\" cy=\"-627\" rx=\"27\" ry=\"18\"/>\n<text text-anchor=\"middle\" x=\"217\" y=\"-623.3\" font-family=\"Times,serif\" font-size=\"14.00\" fill=\"#000000\">F8</text>\n</g>\n<!-- F913&#45;&gt;F814 -->\n<g id=\"edge37\" class=\"edge\">\n<title>F913&#45;&gt;F814</title>\n<path fill=\"none\" stroke=\"#000000\" d=\"M217,-695.9735C217,-684.1918 217,-668.5607 217,-655.1581\"/>\n<polygon fill=\"#000000\" stroke=\"#000000\" points=\"220.5001,-655.0033 217,-645.0034 213.5001,-655.0034 220.5001,-655.0033\"/>\n<text text-anchor=\"middle\" x=\"221\" y=\"-666.8\" font-family=\"Times,serif\" font-size=\"14.00\" fill=\"#000000\">0</text>\n</g>\n<!-- F615 -->\n<g id=\"node39\" class=\"node\">\n<title>F615</title>\n<ellipse fill=\"none\" stroke=\"#000000\" cx=\"217\" cy=\"-540\" rx=\"27\" ry=\"18\"/>\n<text text-anchor=\"middle\" x=\"217\" y=\"-536.3\" font-family=\"Times,serif\" font-size=\"14.00\" fill=\"#000000\">F6</text>\n</g>\n<!-- F814&#45;&gt;F615 -->\n<g id=\"edge38\" class=\"edge\">\n<title>F814&#45;&gt;F615</title>\n<path fill=\"none\" stroke=\"#000000\" d=\"M217,-608.9735C217,-597.1918 217,-581.5607 217,-568.1581\"/>\n<polygon fill=\"#000000\" stroke=\"#000000\" points=\"220.5001,-568.0033 217,-558.0034 213.5001,-568.0034 220.5001,-568.0033\"/>\n<text text-anchor=\"middle\" x=\"221\" y=\"-579.8\" font-family=\"Times,serif\" font-size=\"14.00\" fill=\"#000000\">0</text>\n</g>\n<!-- F516 -->\n<g id=\"node40\" class=\"node\">\n<title>F516</title>\n<ellipse fill=\"none\" stroke=\"#000000\" cx=\"217\" cy=\"-453\" rx=\"27\" ry=\"18\"/>\n<text text-anchor=\"middle\" x=\"217\" y=\"-449.3\" font-family=\"Times,serif\" font-size=\"14.00\" fill=\"#000000\">F5</text>\n</g>\n<!-- F615&#45;&gt;F516 -->\n<g id=\"edge39\" class=\"edge\">\n<title>F615&#45;&gt;F516</title>\n<path fill=\"none\" stroke=\"#000000\" d=\"M217,-521.9735C217,-510.1918 217,-494.5607 217,-481.1581\"/>\n<polygon fill=\"#000000\" stroke=\"#000000\" points=\"220.5001,-481.0033 217,-471.0034 213.5001,-481.0034 220.5001,-481.0033\"/>\n<text text-anchor=\"middle\" x=\"221\" y=\"-492.8\" font-family=\"Times,serif\" font-size=\"14.00\" fill=\"#000000\">0</text>\n</g>\n<!-- F417 -->\n<g id=\"node41\" class=\"node\">\n<title>F417</title>\n<ellipse fill=\"none\" stroke=\"#000000\" cx=\"217\" cy=\"-366\" rx=\"27\" ry=\"18\"/>\n<text text-anchor=\"middle\" x=\"217\" y=\"-362.3\" font-family=\"Times,serif\" font-size=\"14.00\" fill=\"#000000\">F4</text>\n</g>\n<!-- F516&#45;&gt;F417 -->\n<g id=\"edge40\" class=\"edge\">\n<title>F516&#45;&gt;F417</title>\n<path fill=\"none\" stroke=\"#000000\" d=\"M217,-434.9735C217,-423.1918 217,-407.5607 217,-394.1581\"/>\n<polygon fill=\"#000000\" stroke=\"#000000\" points=\"220.5001,-394.0033 217,-384.0034 213.5001,-394.0034 220.5001,-394.0033\"/>\n<text text-anchor=\"middle\" x=\"221\" y=\"-405.8\" font-family=\"Times,serif\" font-size=\"14.00\" fill=\"#000000\">0</text>\n</g>\n<!-- F318 -->\n<g id=\"node42\" class=\"node\">\n<title>F318</title>\n<ellipse fill=\"none\" stroke=\"#000000\" cx=\"217\" cy=\"-279\" rx=\"27\" ry=\"18\"/>\n<text text-anchor=\"middle\" x=\"217\" y=\"-275.3\" font-family=\"Times,serif\" font-size=\"14.00\" fill=\"#000000\">F3</text>\n</g>\n<!-- F417&#45;&gt;F318 -->\n<g id=\"edge41\" class=\"edge\">\n<title>F417&#45;&gt;F318</title>\n<path fill=\"none\" stroke=\"#000000\" d=\"M217,-347.9735C217,-336.1918 217,-320.5607 217,-307.1581\"/>\n<polygon fill=\"#000000\" stroke=\"#000000\" points=\"220.5001,-307.0033 217,-297.0034 213.5001,-307.0034 220.5001,-307.0033\"/>\n<text text-anchor=\"middle\" x=\"221\" y=\"-318.8\" font-family=\"Times,serif\" font-size=\"14.00\" fill=\"#000000\">0</text>\n</g>\n<!-- F219 -->\n<g id=\"node43\" class=\"node\">\n<title>F219</title>\n<ellipse fill=\"none\" stroke=\"#000000\" cx=\"217\" cy=\"-192\" rx=\"27\" ry=\"18\"/>\n<text text-anchor=\"middle\" x=\"217\" y=\"-188.3\" font-family=\"Times,serif\" font-size=\"14.00\" fill=\"#000000\">F2</text>\n</g>\n<!-- F318&#45;&gt;F219 -->\n<g id=\"edge42\" class=\"edge\">\n<title>F318&#45;&gt;F219</title>\n<path fill=\"none\" stroke=\"#000000\" d=\"M217,-260.9735C217,-249.1918 217,-233.5607 217,-220.1581\"/>\n<polygon fill=\"#000000\" stroke=\"#000000\" points=\"220.5001,-220.0033 217,-210.0034 213.5001,-220.0034 220.5001,-220.0033\"/>\n<text text-anchor=\"middle\" x=\"221\" y=\"-231.8\" font-family=\"Times,serif\" font-size=\"14.00\" fill=\"#000000\">0</text>\n</g>\n<!-- F120 -->\n<g id=\"node44\" class=\"node\">\n<title>F120</title>\n<ellipse fill=\"none\" stroke=\"#000000\" cx=\"217\" cy=\"-105\" rx=\"27\" ry=\"18\"/>\n<text text-anchor=\"middle\" x=\"217\" y=\"-101.3\" font-family=\"Times,serif\" font-size=\"14.00\" fill=\"#000000\">F1</text>\n</g>\n<!-- F219&#45;&gt;F120 -->\n<g id=\"edge43\" class=\"edge\">\n<title>F219&#45;&gt;F120</title>\n<path fill=\"none\" stroke=\"#000000\" d=\"M217,-173.9735C217,-162.1918 217,-146.5607 217,-133.1581\"/>\n<polygon fill=\"#000000\" stroke=\"#000000\" points=\"220.5001,-133.0033 217,-123.0034 213.5001,-133.0034 220.5001,-133.0033\"/>\n<text text-anchor=\"middle\" x=\"221\" y=\"-144.8\" font-family=\"Times,serif\" font-size=\"14.00\" fill=\"#000000\">0</text>\n</g>\n<!-- 21 -->\n<g id=\"node45\" class=\"node\">\n<title>21</title>\n<ellipse fill=\"none\" stroke=\"#000000\" cx=\"217\" cy=\"-18\" rx=\"27\" ry=\"18\"/>\n</g>\n<!-- F120&#45;&gt;21 -->\n<g id=\"edge44\" class=\"edge\">\n<title>F120&#45;&gt;21</title>\n<path fill=\"none\" stroke=\"#000000\" d=\"M217,-86.9735C217,-75.1918 217,-59.5607 217,-46.1581\"/>\n<polygon fill=\"#000000\" stroke=\"#000000\" points=\"220.5001,-46.0033 217,-36.0034 213.5001,-46.0034 220.5001,-46.0033\"/>\n<text text-anchor=\"middle\" x=\"221\" y=\"-57.8\" font-family=\"Times,serif\" font-size=\"14.00\" fill=\"#000000\">0</text>\n</g>\n<!-- F825 -->\n<g id=\"node49\" class=\"node\">\n<title>F825</title>\n<ellipse fill=\"none\" stroke=\"#000000\" cx=\"315\" cy=\"-1584\" rx=\"27\" ry=\"18\"/>\n<text text-anchor=\"middle\" x=\"315\" y=\"-1580.3\" font-family=\"Times,serif\" font-size=\"14.00\" fill=\"#000000\">F8</text>\n</g>\n<!-- F524&#45;&gt;F825 -->\n<g id=\"edge48\" class=\"edge\">\n<title>F524&#45;&gt;F825</title>\n<path fill=\"none\" stroke=\"#000000\" d=\"M330.856,-1652.9735C328.1207,-1641.0751 324.4829,-1625.2508 321.3818,-1611.7606\"/>\n<polygon fill=\"#000000\" stroke=\"#000000\" points=\"324.7902,-1610.965 319.1387,-1602.0034 317.9682,-1612.5333 324.7902,-1610.965\"/>\n<text text-anchor=\"middle\" x=\"331\" y=\"-1623.8\" font-family=\"Times,serif\" font-size=\"14.00\" fill=\"#000000\">0</text>\n</g>\n<!-- class32 -->\n<g id=\"node56\" class=\"node\">\n<title>class32</title>\n<ellipse fill=\"none\" stroke=\"#000000\" cx=\"387\" cy=\"-1584\" rx=\"27\" ry=\"18\"/>\n<text text-anchor=\"middle\" x=\"387\" y=\"-1580.3\" font-family=\"Times,serif\" font-size=\"14.00\" fill=\"#000000\">1</text>\n</g>\n<!-- F524&#45;&gt;class32 -->\n<g id=\"edge55\" class=\"edge\">\n<title>F524&#45;&gt;class32</title>\n<path fill=\"none\" stroke=\"#000000\" d=\"M345.0261,-1654.2255C352.5796,-1641.588 363.0698,-1624.0371 371.6732,-1609.6429\"/>\n<polygon fill=\"#000000\" stroke=\"#000000\" points=\"374.8784,-1611.1023 377.0047,-1600.723 368.8699,-1607.5109 374.8784,-1611.1023\"/>\n<text text-anchor=\"middle\" x=\"369\" y=\"-1623.8\" font-family=\"Times,serif\" font-size=\"14.00\" fill=\"#000000\">1</text>\n</g>\n<!-- F1026 -->\n<g id=\"node50\" class=\"node\">\n<title>F1026</title>\n<ellipse fill=\"none\" stroke=\"#000000\" cx=\"315\" cy=\"-1497\" rx=\"27\" ry=\"18\"/>\n<text text-anchor=\"middle\" x=\"315\" y=\"-1493.3\" font-family=\"Times,serif\" font-size=\"14.00\" fill=\"#000000\">F10</text>\n</g>\n<!-- F825&#45;&gt;F1026 -->\n<g id=\"edge49\" class=\"edge\">\n<title>F825&#45;&gt;F1026</title>\n<path fill=\"none\" stroke=\"#000000\" d=\"M315,-1565.9735C315,-1554.1918 315,-1538.5607 315,-1525.1581\"/>\n<polygon fill=\"#000000\" stroke=\"#000000\" points=\"318.5001,-1525.0033 315,-1515.0034 311.5001,-1525.0034 318.5001,-1525.0033\"/>\n<text text-anchor=\"middle\" x=\"319\" y=\"-1536.8\" font-family=\"Times,serif\" font-size=\"14.00\" fill=\"#000000\">1</text>\n</g>\n<!-- class31 -->\n<g id=\"node55\" class=\"node\">\n<title>class31</title>\n<ellipse fill=\"none\" stroke=\"#000000\" cx=\"387\" cy=\"-1497\" rx=\"27\" ry=\"18\"/>\n<text text-anchor=\"middle\" x=\"387\" y=\"-1493.3\" font-family=\"Times,serif\" font-size=\"14.00\" fill=\"#000000\">0</text>\n</g>\n<!-- F825&#45;&gt;class31 -->\n<g id=\"edge54\" class=\"edge\">\n<title>F825&#45;&gt;class31</title>\n<path fill=\"none\" stroke=\"#000000\" d=\"M328.2059,-1568.0429C339.1672,-1554.798 354.9179,-1535.7659 367.3584,-1520.7336\"/>\n<polygon fill=\"#000000\" stroke=\"#000000\" points=\"370.1985,-1522.7914 373.8778,-1512.856 364.8057,-1518.3284 370.1985,-1522.7914\"/>\n<text text-anchor=\"middle\" x=\"360\" y=\"-1536.8\" font-family=\"Times,serif\" font-size=\"14.00\" fill=\"#000000\">0</text>\n</g>\n<!-- class27 -->\n<g id=\"node51\" class=\"node\">\n<title>class27</title>\n<ellipse fill=\"none\" stroke=\"#000000\" cx=\"315\" cy=\"-1410\" rx=\"27\" ry=\"18\"/>\n<text text-anchor=\"middle\" x=\"315\" y=\"-1406.3\" font-family=\"Times,serif\" font-size=\"14.00\" fill=\"#000000\">1</text>\n</g>\n<!-- F1026&#45;&gt;class27 -->\n<g id=\"edge50\" class=\"edge\">\n<title>F1026&#45;&gt;class27</title>\n<path fill=\"none\" stroke=\"#000000\" d=\"M315,-1478.9735C315,-1467.1918 315,-1451.5607 315,-1438.1581\"/>\n<polygon fill=\"#000000\" stroke=\"#000000\" points=\"318.5001,-1438.0033 315,-1428.0034 311.5001,-1438.0034 318.5001,-1438.0033\"/>\n<text text-anchor=\"middle\" x=\"319\" y=\"-1449.8\" font-family=\"Times,serif\" font-size=\"14.00\" fill=\"#000000\">0</text>\n</g>\n<!-- F2228 -->\n<g id=\"node52\" class=\"node\">\n<title>F2228</title>\n<ellipse fill=\"none\" stroke=\"#000000\" cx=\"387\" cy=\"-1410\" rx=\"27\" ry=\"18\"/>\n<text text-anchor=\"middle\" x=\"387\" y=\"-1406.3\" font-family=\"Times,serif\" font-size=\"14.00\" fill=\"#000000\">F22</text>\n</g>\n<!-- F1026&#45;&gt;F2228 -->\n<g id=\"edge51\" class=\"edge\">\n<title>F1026&#45;&gt;F2228</title>\n<path fill=\"none\" stroke=\"#000000\" d=\"M328.2059,-1481.0429C339.1672,-1467.798 354.9179,-1448.7659 367.3584,-1433.7336\"/>\n<polygon fill=\"#000000\" stroke=\"#000000\" points=\"370.1985,-1435.7914 373.8778,-1425.856 364.8057,-1431.3284 370.1985,-1435.7914\"/>\n<text text-anchor=\"middle\" x=\"360\" y=\"-1449.8\" font-family=\"Times,serif\" font-size=\"14.00\" fill=\"#000000\">1</text>\n</g>\n<!-- class29 -->\n<g id=\"node53\" class=\"node\">\n<title>class29</title>\n<ellipse fill=\"none\" stroke=\"#000000\" cx=\"351\" cy=\"-1323\" rx=\"27\" ry=\"18\"/>\n<text text-anchor=\"middle\" x=\"351\" y=\"-1319.3\" font-family=\"Times,serif\" font-size=\"14.00\" fill=\"#000000\">1</text>\n</g>\n<!-- F2228&#45;&gt;class29 -->\n<g id=\"edge52\" class=\"edge\">\n<title>F2228&#45;&gt;class29</title>\n<path fill=\"none\" stroke=\"#000000\" d=\"M379.7149,-1392.3943C374.6889,-1380.2482 367.9107,-1363.8674 362.2018,-1350.0711\"/>\n<polygon fill=\"#000000\" stroke=\"#000000\" points=\"365.3319,-1348.4815 358.2743,-1340.5796 358.8638,-1351.158 365.3319,-1348.4815\"/>\n<text text-anchor=\"middle\" x=\"376\" y=\"-1362.8\" font-family=\"Times,serif\" font-size=\"14.00\" fill=\"#000000\">1</text>\n</g>\n<!-- class30 -->\n<g id=\"node54\" class=\"node\">\n<title>class30</title>\n<ellipse fill=\"none\" stroke=\"#000000\" cx=\"423\" cy=\"-1323\" rx=\"27\" ry=\"18\"/>\n<text text-anchor=\"middle\" x=\"423\" y=\"-1319.3\" font-family=\"Times,serif\" font-size=\"14.00\" fill=\"#000000\">0</text>\n</g>\n<!-- F2228&#45;&gt;class30 -->\n<g id=\"edge53\" class=\"edge\">\n<title>F2228&#45;&gt;class30</title>\n<path fill=\"none\" stroke=\"#000000\" d=\"M394.2851,-1392.3943C399.3111,-1380.2482 406.0893,-1363.8674 411.7982,-1350.0711\"/>\n<polygon fill=\"#000000\" stroke=\"#000000\" points=\"415.1362,-1351.158 415.7257,-1340.5796 408.6681,-1348.4815 415.1362,-1351.158\"/>\n<text text-anchor=\"middle\" x=\"412\" y=\"-1362.8\" font-family=\"Times,serif\" font-size=\"14.00\" fill=\"#000000\">0</text>\n</g>\n<!-- F1934 -->\n<g id=\"node58\" class=\"node\">\n<title>F1934</title>\n<ellipse fill=\"none\" stroke=\"#000000\" cx=\"459\" cy=\"-1671\" rx=\"27\" ry=\"18\"/>\n<text text-anchor=\"middle\" x=\"459\" y=\"-1667.3\" font-family=\"Times,serif\" font-size=\"14.00\" fill=\"#000000\">F19</text>\n</g>\n<!-- F2233&#45;&gt;F1934 -->\n<g id=\"edge57\" class=\"edge\">\n<title>F2233&#45;&gt;F1934</title>\n<path fill=\"none\" stroke=\"#000000\" d=\"M459,-1739.9735C459,-1728.1918 459,-1712.5607 459,-1699.1581\"/>\n<polygon fill=\"#000000\" stroke=\"#000000\" points=\"462.5001,-1699.0033 459,-1689.0034 455.5001,-1699.0034 462.5001,-1699.0033\"/>\n<text text-anchor=\"middle\" x=\"463\" y=\"-1710.8\" font-family=\"Times,serif\" font-size=\"14.00\" fill=\"#000000\">0</text>\n</g>\n<!-- class41 -->\n<g id=\"node65\" class=\"node\">\n<title>class41</title>\n<ellipse fill=\"none\" stroke=\"#000000\" cx=\"531\" cy=\"-1671\" rx=\"27\" ry=\"18\"/>\n<text text-anchor=\"middle\" x=\"531\" y=\"-1667.3\" font-family=\"Times,serif\" font-size=\"14.00\" fill=\"#000000\">1</text>\n</g>\n<!-- F2233&#45;&gt;class41 -->\n<g id=\"edge64\" class=\"edge\">\n<title>F2233&#45;&gt;class41</title>\n<path fill=\"none\" stroke=\"#000000\" d=\"M472.2059,-1742.0429C483.1672,-1728.798 498.9179,-1709.7659 511.3584,-1694.7336\"/>\n<polygon fill=\"#000000\" stroke=\"#000000\" points=\"514.1985,-1696.7914 517.8778,-1686.856 508.8057,-1692.3284 514.1985,-1696.7914\"/>\n<text text-anchor=\"middle\" x=\"503\" y=\"-1710.8\" font-family=\"Times,serif\" font-size=\"14.00\" fill=\"#000000\">1</text>\n</g>\n<!-- F1035 -->\n<g id=\"node59\" class=\"node\">\n<title>F1035</title>\n<ellipse fill=\"none\" stroke=\"#000000\" cx=\"459\" cy=\"-1584\" rx=\"27\" ry=\"18\"/>\n<text text-anchor=\"middle\" x=\"459\" y=\"-1580.3\" font-family=\"Times,serif\" font-size=\"14.00\" fill=\"#000000\">F10</text>\n</g>\n<!-- F1934&#45;&gt;F1035 -->\n<g id=\"edge58\" class=\"edge\">\n<title>F1934&#45;&gt;F1035</title>\n<path fill=\"none\" stroke=\"#000000\" d=\"M459,-1652.9735C459,-1641.1918 459,-1625.5607 459,-1612.1581\"/>\n<polygon fill=\"#000000\" stroke=\"#000000\" points=\"462.5001,-1612.0033 459,-1602.0034 455.5001,-1612.0034 462.5001,-1612.0033\"/>\n<text text-anchor=\"middle\" x=\"463\" y=\"-1623.8\" font-family=\"Times,serif\" font-size=\"14.00\" fill=\"#000000\">0</text>\n</g>\n<!-- class40 -->\n<g id=\"node64\" class=\"node\">\n<title>class40</title>\n<ellipse fill=\"none\" stroke=\"#000000\" cx=\"531\" cy=\"-1584\" rx=\"27\" ry=\"18\"/>\n<text text-anchor=\"middle\" x=\"531\" y=\"-1580.3\" font-family=\"Times,serif\" font-size=\"14.00\" fill=\"#000000\">1</text>\n</g>\n<!-- F1934&#45;&gt;class40 -->\n<g id=\"edge63\" class=\"edge\">\n<title>F1934&#45;&gt;class40</title>\n<path fill=\"none\" stroke=\"#000000\" d=\"M472.2059,-1655.0429C483.1672,-1641.798 498.9179,-1622.7659 511.3584,-1607.7336\"/>\n<polygon fill=\"#000000\" stroke=\"#000000\" points=\"514.1985,-1609.7914 517.8778,-1599.856 508.8057,-1605.3284 514.1985,-1609.7914\"/>\n<text text-anchor=\"middle\" x=\"503\" y=\"-1623.8\" font-family=\"Times,serif\" font-size=\"14.00\" fill=\"#000000\">1</text>\n</g>\n<!-- F836 -->\n<g id=\"node60\" class=\"node\">\n<title>F836</title>\n<ellipse fill=\"none\" stroke=\"#000000\" cx=\"459\" cy=\"-1497\" rx=\"27\" ry=\"18\"/>\n<text text-anchor=\"middle\" x=\"459\" y=\"-1493.3\" font-family=\"Times,serif\" font-size=\"14.00\" fill=\"#000000\">F8</text>\n</g>\n<!-- F1035&#45;&gt;F836 -->\n<g id=\"edge59\" class=\"edge\">\n<title>F1035&#45;&gt;F836</title>\n<path fill=\"none\" stroke=\"#000000\" d=\"M459,-1565.9735C459,-1554.1918 459,-1538.5607 459,-1525.1581\"/>\n<polygon fill=\"#000000\" stroke=\"#000000\" points=\"462.5001,-1525.0033 459,-1515.0034 455.5001,-1525.0034 462.5001,-1525.0033\"/>\n<text text-anchor=\"middle\" x=\"463\" y=\"-1536.8\" font-family=\"Times,serif\" font-size=\"14.00\" fill=\"#000000\">0</text>\n</g>\n<!-- class39 -->\n<g id=\"node63\" class=\"node\">\n<title>class39</title>\n<ellipse fill=\"none\" stroke=\"#000000\" cx=\"531\" cy=\"-1497\" rx=\"27\" ry=\"18\"/>\n<text text-anchor=\"middle\" x=\"531\" y=\"-1493.3\" font-family=\"Times,serif\" font-size=\"14.00\" fill=\"#000000\">1</text>\n</g>\n<!-- F1035&#45;&gt;class39 -->\n<g id=\"edge62\" class=\"edge\">\n<title>F1035&#45;&gt;class39</title>\n<path fill=\"none\" stroke=\"#000000\" d=\"M472.2059,-1568.0429C483.1672,-1554.798 498.9179,-1535.7659 511.3584,-1520.7336\"/>\n<polygon fill=\"#000000\" stroke=\"#000000\" points=\"514.1985,-1522.7914 517.8778,-1512.856 508.8057,-1518.3284 514.1985,-1522.7914\"/>\n<text text-anchor=\"middle\" x=\"503\" y=\"-1536.8\" font-family=\"Times,serif\" font-size=\"14.00\" fill=\"#000000\">1</text>\n</g>\n<!-- class37 -->\n<g id=\"node61\" class=\"node\">\n<title>class37</title>\n<ellipse fill=\"none\" stroke=\"#000000\" cx=\"459\" cy=\"-1410\" rx=\"27\" ry=\"18\"/>\n<text text-anchor=\"middle\" x=\"459\" y=\"-1406.3\" font-family=\"Times,serif\" font-size=\"14.00\" fill=\"#000000\">0</text>\n</g>\n<!-- F836&#45;&gt;class37 -->\n<g id=\"edge60\" class=\"edge\">\n<title>F836&#45;&gt;class37</title>\n<path fill=\"none\" stroke=\"#000000\" d=\"M459,-1478.9735C459,-1467.1918 459,-1451.5607 459,-1438.1581\"/>\n<polygon fill=\"#000000\" stroke=\"#000000\" points=\"462.5001,-1438.0033 459,-1428.0034 455.5001,-1438.0034 462.5001,-1438.0033\"/>\n<text text-anchor=\"middle\" x=\"463\" y=\"-1449.8\" font-family=\"Times,serif\" font-size=\"14.00\" fill=\"#000000\">0</text>\n</g>\n<!-- class38 -->\n<g id=\"node62\" class=\"node\">\n<title>class38</title>\n<ellipse fill=\"none\" stroke=\"#000000\" cx=\"531\" cy=\"-1410\" rx=\"27\" ry=\"18\"/>\n<text text-anchor=\"middle\" x=\"531\" y=\"-1406.3\" font-family=\"Times,serif\" font-size=\"14.00\" fill=\"#000000\">1</text>\n</g>\n<!-- F836&#45;&gt;class38 -->\n<g id=\"edge61\" class=\"edge\">\n<title>F836&#45;&gt;class38</title>\n<path fill=\"none\" stroke=\"#000000\" d=\"M472.2059,-1481.0429C483.1672,-1467.798 498.9179,-1448.7659 511.3584,-1433.7336\"/>\n<polygon fill=\"#000000\" stroke=\"#000000\" points=\"514.1985,-1435.7914 517.8778,-1425.856 508.8057,-1431.3284 514.1985,-1435.7914\"/>\n<text text-anchor=\"middle\" x=\"503\" y=\"-1449.8\" font-family=\"Times,serif\" font-size=\"14.00\" fill=\"#000000\">1</text>\n</g>\n</g>\n</svg>\n"
          },
          "metadata": {},
          "execution_count": 133
        }
      ]
    },
    {
      "cell_type": "markdown",
      "source": [
        "##Predicting on Train Dataset"
      ],
      "metadata": {
        "id": "AFuh_hMOFBD5"
      }
    },
    {
      "cell_type": "code",
      "source": [
        "y_train_pred=d.predict(df)\n",
        "print(accuracy_score(df[target_name].tolist(),y_train_pred))"
      ],
      "metadata": {
        "colab": {
          "base_uri": "https://localhost:8080/"
        },
        "outputId": "3b60c206-41e5-4d9c-8f68-4d0a92e335c6",
        "id": "fEYV_jW9FBD5"
      },
      "execution_count": 134,
      "outputs": [
        {
          "output_type": "stream",
          "name": "stdout",
          "text": [
            "91.07142857142857\n"
          ]
        },
        {
          "output_type": "stream",
          "name": "stderr",
          "text": [
            "/usr/local/lib/python3.7/dist-packages/ipykernel_launcher.py:157: FutureWarning: elementwise comparison failed; returning scalar instead, but in the future will perform elementwise comparison\n"
          ]
        }
      ]
    },
    {
      "cell_type": "markdown",
      "source": [
        "##Predicting on Test Dataset"
      ],
      "metadata": {
        "id": "xcmJDYbcFBD5"
      }
    },
    {
      "cell_type": "code",
      "source": [
        "y_test_pred=d.predict(test_df)\n",
        "accuracy_score(test_df[target_name].tolist(),y_test_pred)"
      ],
      "metadata": {
        "colab": {
          "base_uri": "https://localhost:8080/"
        },
        "outputId": "31c5d00e-5ee2-4fec-dfdf-3d2c98fe1550",
        "id": "0KH7OQDtFBD5"
      },
      "execution_count": 135,
      "outputs": [
        {
          "output_type": "stream",
          "name": "stderr",
          "text": [
            "/usr/local/lib/python3.7/dist-packages/ipykernel_launcher.py:157: FutureWarning: elementwise comparison failed; returning scalar instead, but in the future will perform elementwise comparison\n"
          ]
        },
        {
          "output_type": "execute_result",
          "data": {
            "text/plain": [
              "95.83333333333334"
            ]
          },
          "metadata": {},
          "execution_count": 135
        }
      ]
    },
    {
      "cell_type": "code",
      "source": [],
      "metadata": {
        "id": "6MIGdvHDFBD5"
      },
      "execution_count": 135,
      "outputs": []
    },
    {
      "cell_type": "code",
      "source": [],
      "metadata": {
        "id": "Ke8VSdHuNu15"
      },
      "execution_count": 135,
      "outputs": []
    }
  ]
}